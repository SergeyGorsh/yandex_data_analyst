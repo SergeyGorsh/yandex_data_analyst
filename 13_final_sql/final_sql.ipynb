{
 "cells": [
  {
   "cell_type": "markdown",
   "metadata": {},
   "source": [
    "# Проект по SQL"
   ]
  },
  {
   "cell_type": "markdown",
   "metadata": {},
   "source": [
    "## Описание проекта"
   ]
  },
  {
   "cell_type": "markdown",
   "metadata": {},
   "source": [
    "Коронавирус застал мир врасплох, изменив привычный порядок вещей. В свободное время жители городов больше не выходят на улицу, не посещают кафе и торговые центры. Зато стало больше времени для книг. Это заметили стартаперы — и бросились создавать приложения для тех, кто любит читать.\n",
    "\n",
    "Ваша компания решила быть на волне и купила крупный сервис для чтения книг по подписке. Ваша первая задача как аналитика — проанализировать базу данных.\n",
    "В ней — информация о книгах, издательствах, авторах, а также пользовательские обзоры книг. Эти данные помогут сформулировать ценностное предложение для нового продукта."
   ]
  },
  {
   "cell_type": "markdown",
   "metadata": {},
   "source": [
    "## Описание таблиц"
   ]
  },
  {
   "cell_type": "markdown",
   "metadata": {},
   "source": [
    "**Таблица `books`**\n",
    "\n",
    "Содержит данные о книгах:\n",
    "\n",
    "- `book_id` — идентификатор книги;\n",
    "- `author_id` — идентификатор автора;\n",
    "- `title` — название книги;\n",
    "- `num_pages` — количество страниц;\n",
    "- `publication_date` — дата публикации книги;\n",
    "- `publisher_id` — идентификатор издателя.\n",
    "\n",
    "**Таблица `authors`**\n",
    "\n",
    "Содержит данные об авторах:\n",
    "\n",
    "- `author_id` — идентификатор автора;\n",
    "- `author` — имя автора.\n",
    "\n",
    "**Таблица `publishers`**\n",
    "\n",
    "Содержит данные об издательствах:\n",
    "\n",
    "- `publisher_id` — идентификатор издательства;\n",
    "- `publisher` — название издательства;\n",
    "\n",
    "**Таблица `ratings`**\n",
    "\n",
    "Содержит данные о пользовательских оценках книг:\n",
    "\n",
    "- `rating_id` — идентификатор оценки;\n",
    "- `book_id` — идентификатор книги;\n",
    "- `username` — имя пользователя, оставившего оценку;\n",
    "- `rating` — оценка книги.\n",
    "\n",
    "**Таблица `reviews`**\n",
    "\n",
    "Содержит данные о пользовательских обзорах на книги:\n",
    "\n",
    "- `review_id` — идентификатор обзора;\n",
    "- `book_id` — идентификатор книги;\n",
    "- `username` — имя пользователя, написавшего обзор;\n",
    "- `text` — текст обзора."
   ]
  },
  {
   "cell_type": "markdown",
   "metadata": {},
   "source": [
    "## Задание на проект"
   ]
  },
  {
   "cell_type": "markdown",
   "metadata": {},
   "source": [
    "- Посчитайте, сколько книг вышло после 1 января 2000 года;\n",
    "- Для каждой книги посчитайте количество обзоров и среднюю оценку;\n",
    "- Определите издательство, которое выпустило наибольшее число книг толще 50 страниц — так вы исключите из анализа брошюры;\n",
    "- Определите автора с самой высокой средней оценкой книг — учитывайте только книги с 50 и более оценками;\n",
    "- Посчитайте среднее количество обзоров от пользователей, которые поставили больше 50 оценок."
   ]
  },
  {
   "cell_type": "markdown",
   "metadata": {},
   "source": [
    "## Практическая часть"
   ]
  },
  {
   "cell_type": "code",
   "execution_count": 1,
   "metadata": {},
   "outputs": [],
   "source": [
    "# импортируем библиотеки\n",
    "import pandas as pd\n",
    "from sqlalchemy import create_engine"
   ]
  },
  {
   "cell_type": "code",
   "execution_count": 2,
   "metadata": {},
   "outputs": [],
   "source": [
    "# подключаем к базе данных\n",
    "db_config = {'user': 'praktikum_student', # имя пользователя\n",
    "             'pwd': 'Sdf4$2;d-d30pp', # пароль\n",
    "             'host': 'rc1b-wcoijxj3yxfsf3fs.mdb.yandexcloud.net',\n",
    "             'port': 6432, # порт подключения\n",
    "             'db': 'data-analyst-final-project-db'} # название базы данных\n",
    "\n",
    "connection_string = 'postgresql://{}:{}@{}:{}/{}'.format(db_config['user'],\n",
    "                                                         db_config['pwd'],\n",
    "                                                         db_config['host'],\n",
    "                                                         db_config['port'],\n",
    "                                                         db_config['db'])"
   ]
  },
  {
   "cell_type": "code",
   "execution_count": 3,
   "metadata": {},
   "outputs": [],
   "source": [
    "# сохраняем коннектор\n",
    "engine = create_engine(connection_string, connect_args={'sslmode':'require'})"
   ]
  },
  {
   "cell_type": "code",
   "execution_count": 4,
   "metadata": {},
   "outputs": [],
   "source": [
    "pd.set_option('display.max_columns', None)"
   ]
  },
  {
   "cell_type": "markdown",
   "metadata": {},
   "source": [
    "Выведем все таблицы черезе цикл:"
   ]
  },
  {
   "cell_type": "code",
   "execution_count": 5,
   "metadata": {},
   "outputs": [
    {
     "name": "stdout",
     "output_type": "stream",
     "text": [
      "books\n",
      "   book_id  author_id                                              title  \\\n",
      "0        1        546                                       'Salem's Lot   \n",
      "1        2        465                 1 000 Places to See Before You Die   \n",
      "2        3        407  13 Little Blue Envelopes (Little Blue Envelope...   \n",
      "3        4         82  1491: New Revelations of the Americas Before C...   \n",
      "4        5        125                                               1776   \n",
      "\n",
      "   num_pages publication_date  publisher_id  \n",
      "0        594       2005-11-01            93  \n",
      "1        992       2003-05-22           336  \n",
      "2        322       2010-12-21           135  \n",
      "3        541       2006-10-10           309  \n",
      "4        386       2006-07-04           268  \n",
      "\n",
      "authors\n",
      "   author_id                          author\n",
      "0          1                      A.S. Byatt\n",
      "1          2  Aesop/Laura Harris/Laura Gibbs\n",
      "2          3                 Agatha Christie\n",
      "3          4                   Alan Brennert\n",
      "4          5        Alan Moore/David   Lloyd\n",
      "\n",
      "ratings\n",
      "   rating_id  book_id       username  rating\n",
      "0          1        1     ryanfranco       4\n",
      "1          2        1  grantpatricia       2\n",
      "2          3        1   brandtandrea       5\n",
      "3          4        2       lorichen       3\n",
      "4          5        2    mariokeller       2\n",
      "\n",
      "reviews\n",
      "   review_id  book_id       username  \\\n",
      "0          1        1   brandtandrea   \n",
      "1          2        1     ryanfranco   \n",
      "2          3        2       lorichen   \n",
      "3          4        3  johnsonamanda   \n",
      "4          5        3    scotttamara   \n",
      "\n",
      "                                                text  \n",
      "0  Mention society tell send professor analysis. ...  \n",
      "1  Foot glass pretty audience hit themselves. Amo...  \n",
      "2  Listen treat keep worry. Miss husband tax but ...  \n",
      "3  Finally month interesting blue could nature cu...  \n",
      "4  Nation purpose heavy give wait song will. List...  \n",
      "\n",
      "publishers\n",
      "   publisher_id                          publisher\n",
      "0             1                                Ace\n",
      "1             2                           Ace Book\n",
      "2             3                          Ace Books\n",
      "3             4                      Ace Hardcover\n",
      "4             5  Addison Wesley Publishing Company\n",
      "\n"
     ]
    }
   ],
   "source": [
    "tables = ['books', 'authors', 'ratings', 'reviews', 'publishers']\n",
    "for table in tables:\n",
    "  print(table)\n",
    "  query = 'select * from {} limit 5'.format(table)\n",
    "  x = pd.io.sql.read_sql(query, con = engine) \n",
    "  print(x)\n",
    "  print()"
   ]
  },
  {
   "cell_type": "markdown",
   "metadata": {},
   "source": [
    "### Посчитать, сколько книг вышло после 1 января 2000 года;"
   ]
  },
  {
   "cell_type": "code",
   "execution_count": 6,
   "metadata": {},
   "outputs": [
    {
     "data": {
      "text/html": [
       "<div>\n",
       "<style scoped>\n",
       "    .dataframe tbody tr th:only-of-type {\n",
       "        vertical-align: middle;\n",
       "    }\n",
       "\n",
       "    .dataframe tbody tr th {\n",
       "        vertical-align: top;\n",
       "    }\n",
       "\n",
       "    .dataframe thead th {\n",
       "        text-align: right;\n",
       "    }\n",
       "</style>\n",
       "<table border=\"1\" class=\"dataframe\">\n",
       "  <thead>\n",
       "    <tr style=\"text-align: right;\">\n",
       "      <th></th>\n",
       "      <th>count</th>\n",
       "    </tr>\n",
       "  </thead>\n",
       "  <tbody>\n",
       "    <tr>\n",
       "      <td>0</td>\n",
       "      <td>819</td>\n",
       "    </tr>\n",
       "  </tbody>\n",
       "</table>\n",
       "</div>"
      ],
      "text/plain": [
       "   count\n",
       "0    819"
      ]
     },
     "execution_count": 6,
     "metadata": {},
     "output_type": "execute_result"
    }
   ],
   "source": [
    "query = '''SELECT COUNT(book_id)\n",
    "FROM books\n",
    "WHERE publication_date > ('2000-01-01')'''\n",
    "pd.io.sql.read_sql(query, con = engine) "
   ]
  },
  {
   "cell_type": "markdown",
   "metadata": {},
   "source": [
    "### Для каждой книги посчитать количество обзоров и среднюю оценку"
   ]
  },
  {
   "cell_type": "code",
   "execution_count": 7,
   "metadata": {},
   "outputs": [
    {
     "data": {
      "text/html": [
       "<div>\n",
       "<style scoped>\n",
       "    .dataframe tbody tr th:only-of-type {\n",
       "        vertical-align: middle;\n",
       "    }\n",
       "\n",
       "    .dataframe tbody tr th {\n",
       "        vertical-align: top;\n",
       "    }\n",
       "\n",
       "    .dataframe thead th {\n",
       "        text-align: right;\n",
       "    }\n",
       "</style>\n",
       "<table border=\"1\" class=\"dataframe\">\n",
       "  <thead>\n",
       "    <tr style=\"text-align: right;\">\n",
       "      <th></th>\n",
       "      <th>id</th>\n",
       "      <th>title</th>\n",
       "      <th>rating_average</th>\n",
       "      <th>reviews_count</th>\n",
       "    </tr>\n",
       "  </thead>\n",
       "  <tbody>\n",
       "    <tr>\n",
       "      <td>0</td>\n",
       "      <td>1</td>\n",
       "      <td>'Salem's Lot</td>\n",
       "      <td>3.67</td>\n",
       "      <td>2</td>\n",
       "    </tr>\n",
       "    <tr>\n",
       "      <td>1</td>\n",
       "      <td>2</td>\n",
       "      <td>1 000 Places to See Before You Die</td>\n",
       "      <td>2.50</td>\n",
       "      <td>1</td>\n",
       "    </tr>\n",
       "    <tr>\n",
       "      <td>2</td>\n",
       "      <td>3</td>\n",
       "      <td>13 Little Blue Envelopes (Little Blue Envelope...</td>\n",
       "      <td>4.67</td>\n",
       "      <td>3</td>\n",
       "    </tr>\n",
       "    <tr>\n",
       "      <td>3</td>\n",
       "      <td>4</td>\n",
       "      <td>1491: New Revelations of the Americas Before C...</td>\n",
       "      <td>4.50</td>\n",
       "      <td>2</td>\n",
       "    </tr>\n",
       "    <tr>\n",
       "      <td>4</td>\n",
       "      <td>5</td>\n",
       "      <td>1776</td>\n",
       "      <td>4.00</td>\n",
       "      <td>4</td>\n",
       "    </tr>\n",
       "    <tr>\n",
       "      <td>...</td>\n",
       "      <td>...</td>\n",
       "      <td>...</td>\n",
       "      <td>...</td>\n",
       "      <td>...</td>\n",
       "    </tr>\n",
       "    <tr>\n",
       "      <td>995</td>\n",
       "      <td>996</td>\n",
       "      <td>Wyrd Sisters (Discworld  #6; Witches #2)</td>\n",
       "      <td>3.67</td>\n",
       "      <td>3</td>\n",
       "    </tr>\n",
       "    <tr>\n",
       "      <td>996</td>\n",
       "      <td>997</td>\n",
       "      <td>Xenocide (Ender's Saga  #3)</td>\n",
       "      <td>3.40</td>\n",
       "      <td>3</td>\n",
       "    </tr>\n",
       "    <tr>\n",
       "      <td>997</td>\n",
       "      <td>998</td>\n",
       "      <td>Year of Wonders</td>\n",
       "      <td>3.20</td>\n",
       "      <td>4</td>\n",
       "    </tr>\n",
       "    <tr>\n",
       "      <td>998</td>\n",
       "      <td>999</td>\n",
       "      <td>You Suck (A Love Story  #2)</td>\n",
       "      <td>4.50</td>\n",
       "      <td>2</td>\n",
       "    </tr>\n",
       "    <tr>\n",
       "      <td>999</td>\n",
       "      <td>1000</td>\n",
       "      <td>Zen and the Art of Motorcycle Maintenance: An ...</td>\n",
       "      <td>3.83</td>\n",
       "      <td>4</td>\n",
       "    </tr>\n",
       "  </tbody>\n",
       "</table>\n",
       "<p>1000 rows × 4 columns</p>\n",
       "</div>"
      ],
      "text/plain": [
       "       id                                              title  rating_average  \\\n",
       "0       1                                       'Salem's Lot            3.67   \n",
       "1       2                 1 000 Places to See Before You Die            2.50   \n",
       "2       3  13 Little Blue Envelopes (Little Blue Envelope...            4.67   \n",
       "3       4  1491: New Revelations of the Americas Before C...            4.50   \n",
       "4       5                                               1776            4.00   \n",
       "..    ...                                                ...             ...   \n",
       "995   996           Wyrd Sisters (Discworld  #6; Witches #2)            3.67   \n",
       "996   997                        Xenocide (Ender's Saga  #3)            3.40   \n",
       "997   998                                    Year of Wonders            3.20   \n",
       "998   999                        You Suck (A Love Story  #2)            4.50   \n",
       "999  1000  Zen and the Art of Motorcycle Maintenance: An ...            3.83   \n",
       "\n",
       "     reviews_count  \n",
       "0                2  \n",
       "1                1  \n",
       "2                3  \n",
       "3                2  \n",
       "4                4  \n",
       "..             ...  \n",
       "995              3  \n",
       "996              3  \n",
       "997              4  \n",
       "998              2  \n",
       "999              4  \n",
       "\n",
       "[1000 rows x 4 columns]"
      ]
     },
     "execution_count": 7,
     "metadata": {},
     "output_type": "execute_result"
    }
   ],
   "source": [
    "query = '''\n",
    "SELECT  books.book_id AS id, title, ROUND(AVG(rating),2) as rating_average, COUNT(DISTINCT review_id) as reviews_count\n",
    "FROM \n",
    "books\n",
    "LEFT JOIN ratings on books.book_id = ratings.book_id\n",
    "LEFT JOIN reviews on books.book_id = reviews.book_id\n",
    "GROUP BY id\n",
    "'''\n",
    "rate_rev = pd.io.sql.read_sql(query, con = engine) \n",
    "rate_rev"
   ]
  },
  {
   "cell_type": "code",
   "execution_count": 8,
   "metadata": {},
   "outputs": [
    {
     "data": {
      "text/plain": [
       "2793"
      ]
     },
     "execution_count": 8,
     "metadata": {},
     "output_type": "execute_result"
    }
   ],
   "source": [
    "rate_rev['reviews_count'].sum()"
   ]
  },
  {
   "cell_type": "markdown",
   "metadata": {},
   "source": [
    "### Издательство, которое выпустило наибольшее число книг толще 50 страниц"
   ]
  },
  {
   "cell_type": "code",
   "execution_count": 9,
   "metadata": {},
   "outputs": [
    {
     "data": {
      "text/html": [
       "<div>\n",
       "<style scoped>\n",
       "    .dataframe tbody tr th:only-of-type {\n",
       "        vertical-align: middle;\n",
       "    }\n",
       "\n",
       "    .dataframe tbody tr th {\n",
       "        vertical-align: top;\n",
       "    }\n",
       "\n",
       "    .dataframe thead th {\n",
       "        text-align: right;\n",
       "    }\n",
       "</style>\n",
       "<table border=\"1\" class=\"dataframe\">\n",
       "  <thead>\n",
       "    <tr style=\"text-align: right;\">\n",
       "      <th></th>\n",
       "      <th>publisher</th>\n",
       "      <th>book_count</th>\n",
       "    </tr>\n",
       "  </thead>\n",
       "  <tbody>\n",
       "    <tr>\n",
       "      <td>0</td>\n",
       "      <td>Penguin Books</td>\n",
       "      <td>42</td>\n",
       "    </tr>\n",
       "    <tr>\n",
       "      <td>1</td>\n",
       "      <td>Vintage</td>\n",
       "      <td>31</td>\n",
       "    </tr>\n",
       "  </tbody>\n",
       "</table>\n",
       "</div>"
      ],
      "text/plain": [
       "       publisher  book_count\n",
       "0  Penguin Books          42\n",
       "1        Vintage          31"
      ]
     },
     "execution_count": 9,
     "metadata": {},
     "output_type": "execute_result"
    }
   ],
   "source": [
    "query = '''\n",
    "SELECT publisher, COUNT(book_id) as book_count\n",
    "FROM \n",
    "(SELECT * FROM books\n",
    "WHERE num_pages > 50) as thick_books\n",
    "JOIN publishers ON thick_books.publisher_id = publishers.publisher_id\n",
    "GROUP BY publisher\n",
    "ORDER BY book_count DESC\n",
    "LIMIT 2\n",
    "'''\n",
    "pd.io.sql.read_sql(query, con = engine) "
   ]
  },
  {
   "cell_type": "markdown",
   "metadata": {},
   "source": [
    "### Определить автора с самой высокой средней оценкой книг;"
   ]
  },
  {
   "cell_type": "code",
   "execution_count": 10,
   "metadata": {},
   "outputs": [
    {
     "data": {
      "text/html": [
       "<div>\n",
       "<style scoped>\n",
       "    .dataframe tbody tr th:only-of-type {\n",
       "        vertical-align: middle;\n",
       "    }\n",
       "\n",
       "    .dataframe tbody tr th {\n",
       "        vertical-align: top;\n",
       "    }\n",
       "\n",
       "    .dataframe thead th {\n",
       "        text-align: right;\n",
       "    }\n",
       "</style>\n",
       "<table border=\"1\" class=\"dataframe\">\n",
       "  <thead>\n",
       "    <tr style=\"text-align: right;\">\n",
       "      <th></th>\n",
       "      <th>author</th>\n",
       "      <th>average_rating</th>\n",
       "    </tr>\n",
       "  </thead>\n",
       "  <tbody>\n",
       "    <tr>\n",
       "      <td>0</td>\n",
       "      <td>J.K. Rowling/Mary GrandPré</td>\n",
       "      <td>4.287097</td>\n",
       "    </tr>\n",
       "    <tr>\n",
       "      <td>1</td>\n",
       "      <td>Markus Zusak/Cao Xuân Việt Khương</td>\n",
       "      <td>4.264151</td>\n",
       "    </tr>\n",
       "    <tr>\n",
       "      <td>2</td>\n",
       "      <td>J.R.R. Tolkien</td>\n",
       "      <td>4.246914</td>\n",
       "    </tr>\n",
       "  </tbody>\n",
       "</table>\n",
       "</div>"
      ],
      "text/plain": [
       "                              author  average_rating\n",
       "0         J.K. Rowling/Mary GrandPré        4.287097\n",
       "1  Markus Zusak/Cao Xuân Việt Khương        4.264151\n",
       "2                     J.R.R. Tolkien        4.246914"
      ]
     },
     "execution_count": 10,
     "metadata": {},
     "output_type": "execute_result"
    }
   ],
   "source": [
    "query = '''\n",
    "WITH well_rated_books AS (\n",
    "SELECT books.book_id AS id,  books.title, books.author_id, COUNT(rating) AS ratings_cnt\n",
    "FROM books \n",
    "LEFT JOIN ratings on books.book_id = ratings.book_id\n",
    "GROUP BY id\n",
    "HAVING COUNT(rating) > 50)\n",
    "\n",
    "SELECT author, AVG(rating) as average_rating\n",
    "FROM well_rated_books\n",
    "LEFT JOIN authors on well_rated_books.author_id = authors.author_id\n",
    "LEFT JOIN ratings on well_rated_books.id = ratings.book_id\n",
    "GROUP BY author\n",
    "ORDER BY average_rating DESC\n",
    "LIMIT 3\n",
    "'''\n",
    "pd.io.sql.read_sql(query, con = engine) "
   ]
  },
  {
   "cell_type": "markdown",
   "metadata": {},
   "source": [
    "### Cреднее количество обзоров от пользователей, которые поставили больше 50 оценок"
   ]
  },
  {
   "cell_type": "code",
   "execution_count": 11,
   "metadata": {},
   "outputs": [
    {
     "data": {
      "text/html": [
       "<div>\n",
       "<style scoped>\n",
       "    .dataframe tbody tr th:only-of-type {\n",
       "        vertical-align: middle;\n",
       "    }\n",
       "\n",
       "    .dataframe tbody tr th {\n",
       "        vertical-align: top;\n",
       "    }\n",
       "\n",
       "    .dataframe thead th {\n",
       "        text-align: right;\n",
       "    }\n",
       "</style>\n",
       "<table border=\"1\" class=\"dataframe\">\n",
       "  <thead>\n",
       "    <tr style=\"text-align: right;\">\n",
       "      <th></th>\n",
       "      <th>round</th>\n",
       "    </tr>\n",
       "  </thead>\n",
       "  <tbody>\n",
       "    <tr>\n",
       "      <td>0</td>\n",
       "      <td>24.33</td>\n",
       "    </tr>\n",
       "  </tbody>\n",
       "</table>\n",
       "</div>"
      ],
      "text/plain": [
       "   round\n",
       "0  24.33"
      ]
     },
     "execution_count": 11,
     "metadata": {},
     "output_type": "execute_result"
    }
   ],
   "source": [
    "query = '''\n",
    "WITH top_raters AS \n",
    "(SELECT username, COUNT(rating) as rating_cnt\n",
    "FROM ratings\n",
    "GROUP BY username\n",
    "HAVING COUNT(rating) > 50), \n",
    "\n",
    "review_counts AS (\n",
    "SELECT top_raters.username AS user, COUNT (review_id) as review_cnt\n",
    "FROM top_raters\n",
    "LEFT JOIN reviews on top_raters.username = reviews.username\n",
    "GROUP BY top_raters.username)\n",
    "\n",
    "SELECT ROUND(AVG(review_cnt), 2)\n",
    "FROM review_counts\n",
    "'''\n",
    "pd.io.sql.read_sql(query, con = engine) "
   ]
  }
 ],
 "metadata": {
  "ExecuteTimeLog": [
   {
    "duration": 1116,
    "start_time": "2022-03-08T18:44:09.881Z"
   },
   {
    "duration": 381,
    "start_time": "2022-03-08T18:44:19.370Z"
   },
   {
    "duration": 1194,
    "start_time": "2022-03-08T18:44:27.188Z"
   },
   {
    "duration": 4,
    "start_time": "2022-03-08T18:45:41.961Z"
   },
   {
    "duration": 5,
    "start_time": "2022-03-08T18:48:16.454Z"
   },
   {
    "duration": 40,
    "start_time": "2022-03-08T18:48:29.547Z"
   },
   {
    "duration": 3,
    "start_time": "2022-03-08T18:48:35.633Z"
   },
   {
    "duration": 486,
    "start_time": "2022-03-08T18:48:42.194Z"
   },
   {
    "duration": 4,
    "start_time": "2022-03-08T18:49:50.098Z"
   },
   {
    "duration": 77,
    "start_time": "2022-03-08T18:50:00.025Z"
   },
   {
    "duration": 1078,
    "start_time": "2022-03-08T18:51:24.013Z"
   },
   {
    "duration": 101,
    "start_time": "2022-03-08T18:51:39.107Z"
   },
   {
    "duration": 6,
    "start_time": "2022-03-08T18:52:07.916Z"
   },
   {
    "duration": 69,
    "start_time": "2022-03-08T18:52:44.091Z"
   },
   {
    "duration": 74,
    "start_time": "2022-03-08T18:53:40.932Z"
   },
   {
    "duration": 72,
    "start_time": "2022-03-08T18:54:50.953Z"
   },
   {
    "duration": 815,
    "start_time": "2022-03-08T18:59:21.187Z"
   },
   {
    "duration": 5,
    "start_time": "2022-03-08T18:59:22.004Z"
   },
   {
    "duration": 41,
    "start_time": "2022-03-08T18:59:22.016Z"
   },
   {
    "duration": 23,
    "start_time": "2022-03-08T18:59:22.059Z"
   },
   {
    "duration": 552,
    "start_time": "2022-03-08T18:59:22.085Z"
   },
   {
    "duration": 88,
    "start_time": "2022-03-08T18:59:22.640Z"
   },
   {
    "duration": 112,
    "start_time": "2022-03-08T18:59:22.731Z"
   },
   {
    "duration": 6,
    "start_time": "2022-03-08T18:59:22.845Z"
   },
   {
    "duration": 81,
    "start_time": "2022-03-08T18:59:22.854Z"
   },
   {
    "duration": 80,
    "start_time": "2022-03-08T18:59:22.938Z"
   },
   {
    "duration": 81,
    "start_time": "2022-03-08T18:59:23.020Z"
   },
   {
    "duration": 715,
    "start_time": "2022-03-09T17:56:36.464Z"
   },
   {
    "duration": 4,
    "start_time": "2022-03-09T17:56:37.181Z"
   },
   {
    "duration": 31,
    "start_time": "2022-03-09T17:56:37.187Z"
   },
   {
    "duration": 2,
    "start_time": "2022-03-09T17:56:37.220Z"
   },
   {
    "duration": 61,
    "start_time": "2022-03-09T17:56:37.224Z"
   },
   {
    "duration": 17,
    "start_time": "2022-03-09T17:56:37.286Z"
   },
   {
    "duration": 29,
    "start_time": "2022-03-09T17:56:37.305Z"
   },
   {
    "duration": 4,
    "start_time": "2022-03-09T17:56:37.337Z"
   },
   {
    "duration": 15,
    "start_time": "2022-03-09T17:56:37.343Z"
   },
   {
    "duration": 18,
    "start_time": "2022-03-09T17:56:37.360Z"
   },
   {
    "duration": 13,
    "start_time": "2022-03-09T17:56:37.379Z"
   }
  ],
  "kernelspec": {
   "display_name": "Python 3 (ipykernel)",
   "language": "python",
   "name": "python3"
  },
  "language_info": {
   "codemirror_mode": {
    "name": "ipython",
    "version": 3
   },
   "file_extension": ".py",
   "mimetype": "text/x-python",
   "name": "python",
   "nbconvert_exporter": "python",
   "pygments_lexer": "ipython3",
   "version": "3.9.5"
  },
  "toc": {
   "base_numbering": 1,
   "nav_menu": {},
   "number_sections": false,
   "sideBar": true,
   "skip_h1_title": true,
   "title_cell": "Table of Contents",
   "title_sidebar": "Contents",
   "toc_cell": false,
   "toc_position": {},
   "toc_section_display": true,
   "toc_window_display": false
  }
 },
 "nbformat": 4,
 "nbformat_minor": 2
}
