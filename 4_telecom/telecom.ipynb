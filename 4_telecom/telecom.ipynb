{
 "cells": [
  {
   "cell_type": "markdown",
   "metadata": {},
   "source": [
    "# Определение перспективного тарифа для телеком компании\n",
    "\n",
    "## Описание проекта:\n",
    "Вы аналитик компании «Мегалайн» — федерального оператора сотовой связи. Клиентам предлагают два тарифных плана: «Смарт» и «Ультра». Чтобы скорректировать рекламный бюджет, коммерческий департамент хочет понять, какой тариф приносит больше денег.\n",
    "Вам предстоит сделать предварительный анализ тарифов на небольшой выборке клиентов. В вашем распоряжении данные 500 пользователей «Мегалайна»: кто они, откуда, каким тарифом пользуются, сколько звонков и сообщений каждый отправил за 2018 год. Нужно проанализировать поведение клиентов и сделать вывод — какой тариф лучше.\n",
    "\n",
    "Описание тарифов\n",
    "Тариф «Смарт»\n",
    "Ежемесячная плата: 550 рублей\n",
    "Включено 500 минут разговора, 50 сообщений и 15 Гб интернет-трафика\n",
    "Стоимость услуг сверх тарифного пакета:\n",
    "минута разговора: 3 рубля\n",
    "сообщение: 3 рубля\n",
    "1 Гб интернет-трафика: 200 рублей\n",
    "\n",
    "Тариф «Ультра»\n",
    "Ежемесячная плата: 1950 рублей\n",
    "Включено 3000 минут разговора, 1000 сообщений и 30 Гб интернет-трафика\n",
    "Стоимость услуг сверх тарифного пакета:\n",
    "минута разговора: 1 рубль\n",
    "сообщение: 1 рубль\n",
    "1 Гб интернет-трафика: 150 рублей\n",
    "\n",
    "## Описание данных\n",
    "Таблица users (информация о пользователях):\n",
    "user_id — уникальный идентификатор пользователя\n",
    "first_name — имя пользователя\n",
    "last_name — фамилия пользователя\n",
    "age — возраст пользователя (годы)\n",
    "reg_date — дата подключения тарифа (день, месяц, год)\n",
    "churn_date — дата прекращения пользования тарифом (если значение пропущено, то тариф ещё действовал на момент выгрузки данных)\n",
    "city — город проживания пользователя\n",
    "tariff — название тарифного плана\n",
    "\n",
    "Таблица calls (информация о звонках):\n",
    "id — уникальный номер звонка\n",
    "call_date — дата звонка\n",
    "duration — длительность звонка в минутах\n",
    "user_id — идентификатор пользователя, сделавшего звонок\n",
    "\n",
    "Таблица messages (информация о сообщениях):\n",
    "id — уникальный номер сообщения\n",
    "message_date — дата сообщения\n",
    "user_id — идентификатор пользователя, отправившего сообщение\n",
    "\n",
    "Таблица internet (информация об интернет-сессиях):\n",
    "id — уникальный номер сессии\n",
    "mb_used — объём потраченного за сессию интернет-трафика (в мегабайтах)\n",
    "session_date — дата интернет-сессии\n",
    "user_id — идентификатор пользователя\n",
    "\n",
    "Таблица tariffs (информация о тарифах):\n",
    "tariff_name — название тарифа\n",
    "rub_monthly_fee — ежемесячная абонентская плата в рублях\n",
    "minutes_included — количество минут разговора в месяц, включённых в абонентскую плату\n",
    "messages_included — количество сообщений в месяц, включённых в абонентскую плату\n",
    "mb_per_month_included — объём интернет-трафика, включённого в абонентскую плату (в мегабайтах)\n",
    "rub_per_minute — стоимость минуты разговора сверх тарифного пакета (например, если в тарифе 100 минут разговора в месяц, то со 101 минуты будет взиматься плата)\n",
    "rub_per_message — стоимость отправки сообщения сверх тарифного пакета\n",
    "rub_per_gb — стоимость дополнительного гигабайта интернет-трафика сверх тарифного пакета (1 гигабайт = 1024 мегабайта)"
   ]
  },
  {
   "cell_type": "code",
   "execution_count": 1,
   "metadata": {},
   "outputs": [],
   "source": [
    "import pandas as pd\n",
    "import numpy as np\n",
    "import matplotlib.pyplot as plt\n",
    "\n",
    "from datetime import datetime\n",
    "from scipy import stats as st"
   ]
  },
  {
   "cell_type": "markdown",
   "metadata": {},
   "source": [
    "## Шаг 1. Ознакомление с данными и их обработка"
   ]
  },
  {
   "cell_type": "markdown",
   "metadata": {},
   "source": [
    "Выгрузим все таблицы которые нам даны:"
   ]
  },
  {
   "cell_type": "code",
   "execution_count": 2,
   "metadata": {},
   "outputs": [],
   "source": [
    "users = pd.read_csv('/datasets/users.csv')\n",
    "calls = pd.read_csv('/datasets/calls.csv')\n",
    "messages = pd.read_csv('/datasets/messages.csv')\n",
    "internet = pd.read_csv('/datasets/internet.csv')\n",
    "tariffs = pd.read_csv('/datasets/tariffs.csv')"
   ]
  },
  {
   "cell_type": "markdown",
   "metadata": {},
   "source": [
    "### Users"
   ]
  },
  {
   "cell_type": "code",
   "execution_count": 3,
   "metadata": {},
   "outputs": [
    {
     "data": {
      "text/html": [
       "<div>\n",
       "<style scoped>\n",
       "    .dataframe tbody tr th:only-of-type {\n",
       "        vertical-align: middle;\n",
       "    }\n",
       "\n",
       "    .dataframe tbody tr th {\n",
       "        vertical-align: top;\n",
       "    }\n",
       "\n",
       "    .dataframe thead th {\n",
       "        text-align: right;\n",
       "    }\n",
       "</style>\n",
       "<table border=\"1\" class=\"dataframe\">\n",
       "  <thead>\n",
       "    <tr style=\"text-align: right;\">\n",
       "      <th></th>\n",
       "      <th>user_id</th>\n",
       "      <th>age</th>\n",
       "      <th>churn_date</th>\n",
       "      <th>city</th>\n",
       "      <th>first_name</th>\n",
       "      <th>last_name</th>\n",
       "      <th>reg_date</th>\n",
       "      <th>tariff</th>\n",
       "    </tr>\n",
       "  </thead>\n",
       "  <tbody>\n",
       "    <tr>\n",
       "      <td>0</td>\n",
       "      <td>1000</td>\n",
       "      <td>52</td>\n",
       "      <td>NaN</td>\n",
       "      <td>Краснодар</td>\n",
       "      <td>Рафаил</td>\n",
       "      <td>Верещагин</td>\n",
       "      <td>2018-05-25</td>\n",
       "      <td>ultra</td>\n",
       "    </tr>\n",
       "    <tr>\n",
       "      <td>1</td>\n",
       "      <td>1001</td>\n",
       "      <td>41</td>\n",
       "      <td>NaN</td>\n",
       "      <td>Москва</td>\n",
       "      <td>Иван</td>\n",
       "      <td>Ежов</td>\n",
       "      <td>2018-11-01</td>\n",
       "      <td>smart</td>\n",
       "    </tr>\n",
       "    <tr>\n",
       "      <td>2</td>\n",
       "      <td>1002</td>\n",
       "      <td>59</td>\n",
       "      <td>NaN</td>\n",
       "      <td>Стерлитамак</td>\n",
       "      <td>Евгений</td>\n",
       "      <td>Абрамович</td>\n",
       "      <td>2018-06-17</td>\n",
       "      <td>smart</td>\n",
       "    </tr>\n",
       "    <tr>\n",
       "      <td>3</td>\n",
       "      <td>1003</td>\n",
       "      <td>23</td>\n",
       "      <td>NaN</td>\n",
       "      <td>Москва</td>\n",
       "      <td>Белла</td>\n",
       "      <td>Белякова</td>\n",
       "      <td>2018-08-17</td>\n",
       "      <td>ultra</td>\n",
       "    </tr>\n",
       "    <tr>\n",
       "      <td>4</td>\n",
       "      <td>1004</td>\n",
       "      <td>68</td>\n",
       "      <td>NaN</td>\n",
       "      <td>Новокузнецк</td>\n",
       "      <td>Татьяна</td>\n",
       "      <td>Авдеенко</td>\n",
       "      <td>2018-05-14</td>\n",
       "      <td>ultra</td>\n",
       "    </tr>\n",
       "  </tbody>\n",
       "</table>\n",
       "</div>"
      ],
      "text/plain": [
       "   user_id  age churn_date         city first_name  last_name    reg_date  \\\n",
       "0     1000   52        NaN    Краснодар     Рафаил  Верещагин  2018-05-25   \n",
       "1     1001   41        NaN       Москва       Иван       Ежов  2018-11-01   \n",
       "2     1002   59        NaN  Стерлитамак    Евгений  Абрамович  2018-06-17   \n",
       "3     1003   23        NaN       Москва      Белла   Белякова  2018-08-17   \n",
       "4     1004   68        NaN  Новокузнецк    Татьяна   Авдеенко  2018-05-14   \n",
       "\n",
       "  tariff  \n",
       "0  ultra  \n",
       "1  smart  \n",
       "2  smart  \n",
       "3  ultra  \n",
       "4  ultra  "
      ]
     },
     "execution_count": 3,
     "metadata": {},
     "output_type": "execute_result"
    }
   ],
   "source": [
    "users.head()"
   ]
  },
  {
   "cell_type": "code",
   "execution_count": 4,
   "metadata": {},
   "outputs": [
    {
     "data": {
      "text/html": [
       "<div>\n",
       "<style scoped>\n",
       "    .dataframe tbody tr th:only-of-type {\n",
       "        vertical-align: middle;\n",
       "    }\n",
       "\n",
       "    .dataframe tbody tr th {\n",
       "        vertical-align: top;\n",
       "    }\n",
       "\n",
       "    .dataframe thead th {\n",
       "        text-align: right;\n",
       "    }\n",
       "</style>\n",
       "<table border=\"1\" class=\"dataframe\">\n",
       "  <thead>\n",
       "    <tr style=\"text-align: right;\">\n",
       "      <th></th>\n",
       "      <th>user_id</th>\n",
       "      <th>age</th>\n",
       "    </tr>\n",
       "  </thead>\n",
       "  <tbody>\n",
       "    <tr>\n",
       "      <td>count</td>\n",
       "      <td>500.000000</td>\n",
       "      <td>500.00000</td>\n",
       "    </tr>\n",
       "    <tr>\n",
       "      <td>mean</td>\n",
       "      <td>1249.500000</td>\n",
       "      <td>46.58800</td>\n",
       "    </tr>\n",
       "    <tr>\n",
       "      <td>std</td>\n",
       "      <td>144.481833</td>\n",
       "      <td>16.66763</td>\n",
       "    </tr>\n",
       "    <tr>\n",
       "      <td>min</td>\n",
       "      <td>1000.000000</td>\n",
       "      <td>18.00000</td>\n",
       "    </tr>\n",
       "    <tr>\n",
       "      <td>25%</td>\n",
       "      <td>1124.750000</td>\n",
       "      <td>32.00000</td>\n",
       "    </tr>\n",
       "    <tr>\n",
       "      <td>50%</td>\n",
       "      <td>1249.500000</td>\n",
       "      <td>46.00000</td>\n",
       "    </tr>\n",
       "    <tr>\n",
       "      <td>75%</td>\n",
       "      <td>1374.250000</td>\n",
       "      <td>62.00000</td>\n",
       "    </tr>\n",
       "    <tr>\n",
       "      <td>max</td>\n",
       "      <td>1499.000000</td>\n",
       "      <td>75.00000</td>\n",
       "    </tr>\n",
       "  </tbody>\n",
       "</table>\n",
       "</div>"
      ],
      "text/plain": [
       "           user_id        age\n",
       "count   500.000000  500.00000\n",
       "mean   1249.500000   46.58800\n",
       "std     144.481833   16.66763\n",
       "min    1000.000000   18.00000\n",
       "25%    1124.750000   32.00000\n",
       "50%    1249.500000   46.00000\n",
       "75%    1374.250000   62.00000\n",
       "max    1499.000000   75.00000"
      ]
     },
     "execution_count": 4,
     "metadata": {},
     "output_type": "execute_result"
    }
   ],
   "source": [
    "users.describe()"
   ]
  },
  {
   "cell_type": "code",
   "execution_count": 5,
   "metadata": {},
   "outputs": [
    {
     "name": "stdout",
     "output_type": "stream",
     "text": [
      "<class 'pandas.core.frame.DataFrame'>\n",
      "RangeIndex: 500 entries, 0 to 499\n",
      "Data columns (total 8 columns):\n",
      "user_id       500 non-null int64\n",
      "age           500 non-null int64\n",
      "churn_date    38 non-null object\n",
      "city          500 non-null object\n",
      "first_name    500 non-null object\n",
      "last_name     500 non-null object\n",
      "reg_date      500 non-null object\n",
      "tariff        500 non-null object\n",
      "dtypes: int64(2), object(6)\n",
      "memory usage: 31.4+ KB\n"
     ]
    }
   ],
   "source": [
    "users.info()"
   ]
  },
  {
   "cell_type": "markdown",
   "metadata": {},
   "source": [
    "Пропуски только в столбце churn_date. Смотрим описание задачи - там сказано:\n",
    "\"churn_date - дата прекращения пользования тарифом (если значение пропущено, то тариф ещё действовал на момент выгрузки данных)\".\n",
    "Вот и хорошо, оставим данные в этом столбце как есть - для решения поставленной задачи они нам не нужны. Приведем столбец churn_date к datetime:"
   ]
  },
  {
   "cell_type": "code",
   "execution_count": 6,
   "metadata": {},
   "outputs": [],
   "source": [
    "users['churn_date'] = pd.to_datetime(users['churn_date'], format=\"%Y-%m-%d\")\n",
    "users['reg_date'] = pd.to_datetime(users['reg_date'], format=\"%Y-%m-%d\")"
   ]
  },
  {
   "cell_type": "code",
   "execution_count": 7,
   "metadata": {},
   "outputs": [
    {
     "name": "stdout",
     "output_type": "stream",
     "text": [
      "<class 'pandas.core.frame.DataFrame'>\n",
      "RangeIndex: 500 entries, 0 to 499\n",
      "Data columns (total 8 columns):\n",
      "user_id       500 non-null int64\n",
      "age           500 non-null int64\n",
      "churn_date    38 non-null datetime64[ns]\n",
      "city          500 non-null object\n",
      "first_name    500 non-null object\n",
      "last_name     500 non-null object\n",
      "reg_date      500 non-null datetime64[ns]\n",
      "tariff        500 non-null object\n",
      "dtypes: datetime64[ns](2), int64(2), object(4)\n",
      "memory usage: 31.4+ KB\n"
     ]
    }
   ],
   "source": [
    "users.info()"
   ]
  },
  {
   "cell_type": "markdown",
   "metadata": {},
   "source": [
    "Теперь вроде всё как надо"
   ]
  },
  {
   "cell_type": "markdown",
   "metadata": {},
   "source": [
    "### Calls"
   ]
  },
  {
   "cell_type": "code",
   "execution_count": 8,
   "metadata": {},
   "outputs": [
    {
     "data": {
      "text/html": [
       "<div>\n",
       "<style scoped>\n",
       "    .dataframe tbody tr th:only-of-type {\n",
       "        vertical-align: middle;\n",
       "    }\n",
       "\n",
       "    .dataframe tbody tr th {\n",
       "        vertical-align: top;\n",
       "    }\n",
       "\n",
       "    .dataframe thead th {\n",
       "        text-align: right;\n",
       "    }\n",
       "</style>\n",
       "<table border=\"1\" class=\"dataframe\">\n",
       "  <thead>\n",
       "    <tr style=\"text-align: right;\">\n",
       "      <th></th>\n",
       "      <th>id</th>\n",
       "      <th>call_date</th>\n",
       "      <th>duration</th>\n",
       "      <th>user_id</th>\n",
       "    </tr>\n",
       "  </thead>\n",
       "  <tbody>\n",
       "    <tr>\n",
       "      <td>0</td>\n",
       "      <td>1000_0</td>\n",
       "      <td>2018-07-25</td>\n",
       "      <td>0.00</td>\n",
       "      <td>1000</td>\n",
       "    </tr>\n",
       "    <tr>\n",
       "      <td>1</td>\n",
       "      <td>1000_1</td>\n",
       "      <td>2018-08-17</td>\n",
       "      <td>0.00</td>\n",
       "      <td>1000</td>\n",
       "    </tr>\n",
       "    <tr>\n",
       "      <td>2</td>\n",
       "      <td>1000_2</td>\n",
       "      <td>2018-06-11</td>\n",
       "      <td>2.85</td>\n",
       "      <td>1000</td>\n",
       "    </tr>\n",
       "    <tr>\n",
       "      <td>3</td>\n",
       "      <td>1000_3</td>\n",
       "      <td>2018-09-21</td>\n",
       "      <td>13.80</td>\n",
       "      <td>1000</td>\n",
       "    </tr>\n",
       "    <tr>\n",
       "      <td>4</td>\n",
       "      <td>1000_4</td>\n",
       "      <td>2018-12-15</td>\n",
       "      <td>5.18</td>\n",
       "      <td>1000</td>\n",
       "    </tr>\n",
       "  </tbody>\n",
       "</table>\n",
       "</div>"
      ],
      "text/plain": [
       "       id   call_date  duration  user_id\n",
       "0  1000_0  2018-07-25      0.00     1000\n",
       "1  1000_1  2018-08-17      0.00     1000\n",
       "2  1000_2  2018-06-11      2.85     1000\n",
       "3  1000_3  2018-09-21     13.80     1000\n",
       "4  1000_4  2018-12-15      5.18     1000"
      ]
     },
     "execution_count": 8,
     "metadata": {},
     "output_type": "execute_result"
    }
   ],
   "source": [
    "calls.head()"
   ]
  },
  {
   "cell_type": "code",
   "execution_count": 9,
   "metadata": {},
   "outputs": [
    {
     "data": {
      "text/html": [
       "<div>\n",
       "<style scoped>\n",
       "    .dataframe tbody tr th:only-of-type {\n",
       "        vertical-align: middle;\n",
       "    }\n",
       "\n",
       "    .dataframe tbody tr th {\n",
       "        vertical-align: top;\n",
       "    }\n",
       "\n",
       "    .dataframe thead th {\n",
       "        text-align: right;\n",
       "    }\n",
       "</style>\n",
       "<table border=\"1\" class=\"dataframe\">\n",
       "  <thead>\n",
       "    <tr style=\"text-align: right;\">\n",
       "      <th></th>\n",
       "      <th>duration</th>\n",
       "      <th>user_id</th>\n",
       "    </tr>\n",
       "  </thead>\n",
       "  <tbody>\n",
       "    <tr>\n",
       "      <td>count</td>\n",
       "      <td>202607.000000</td>\n",
       "      <td>202607.000000</td>\n",
       "    </tr>\n",
       "    <tr>\n",
       "      <td>mean</td>\n",
       "      <td>6.755887</td>\n",
       "      <td>1253.940619</td>\n",
       "    </tr>\n",
       "    <tr>\n",
       "      <td>std</td>\n",
       "      <td>5.843365</td>\n",
       "      <td>144.722751</td>\n",
       "    </tr>\n",
       "    <tr>\n",
       "      <td>min</td>\n",
       "      <td>0.000000</td>\n",
       "      <td>1000.000000</td>\n",
       "    </tr>\n",
       "    <tr>\n",
       "      <td>25%</td>\n",
       "      <td>1.300000</td>\n",
       "      <td>1126.000000</td>\n",
       "    </tr>\n",
       "    <tr>\n",
       "      <td>50%</td>\n",
       "      <td>6.000000</td>\n",
       "      <td>1260.000000</td>\n",
       "    </tr>\n",
       "    <tr>\n",
       "      <td>75%</td>\n",
       "      <td>10.700000</td>\n",
       "      <td>1379.000000</td>\n",
       "    </tr>\n",
       "    <tr>\n",
       "      <td>max</td>\n",
       "      <td>38.000000</td>\n",
       "      <td>1499.000000</td>\n",
       "    </tr>\n",
       "  </tbody>\n",
       "</table>\n",
       "</div>"
      ],
      "text/plain": [
       "            duration        user_id\n",
       "count  202607.000000  202607.000000\n",
       "mean        6.755887    1253.940619\n",
       "std         5.843365     144.722751\n",
       "min         0.000000    1000.000000\n",
       "25%         1.300000    1126.000000\n",
       "50%         6.000000    1260.000000\n",
       "75%        10.700000    1379.000000\n",
       "max        38.000000    1499.000000"
      ]
     },
     "execution_count": 9,
     "metadata": {},
     "output_type": "execute_result"
    }
   ],
   "source": [
    "calls.describe()"
   ]
  },
  {
   "cell_type": "code",
   "execution_count": 10,
   "metadata": {},
   "outputs": [
    {
     "name": "stdout",
     "output_type": "stream",
     "text": [
      "<class 'pandas.core.frame.DataFrame'>\n",
      "RangeIndex: 202607 entries, 0 to 202606\n",
      "Data columns (total 4 columns):\n",
      "id           202607 non-null object\n",
      "call_date    202607 non-null object\n",
      "duration     202607 non-null float64\n",
      "user_id      202607 non-null int64\n",
      "dtypes: float64(1), int64(1), object(2)\n",
      "memory usage: 6.2+ MB\n"
     ]
    }
   ],
   "source": [
    "calls.info()"
   ]
  },
  {
   "cell_type": "markdown",
   "metadata": {},
   "source": [
    "Похоже что данные в порядке, поправим только типы данных:"
   ]
  },
  {
   "cell_type": "code",
   "execution_count": 11,
   "metadata": {},
   "outputs": [],
   "source": [
    "calls['call_date'] = pd.to_datetime(calls['call_date'], format=\"%Y-%m-%d\")"
   ]
  },
  {
   "cell_type": "code",
   "execution_count": 12,
   "metadata": {},
   "outputs": [],
   "source": [
    "calls['id'] = calls['id'].astype('int')"
   ]
  },
  {
   "cell_type": "markdown",
   "metadata": {},
   "source": [
    "Ещё раз взглянем на задание: «Мегалайн» всегда округляет вверх значения минут и мегабайтов. Если пользователь проговорил всего 1 секунду, в тарифе засчитывается целая минута.\n",
    "Округляем в большую сторону до минуты все звонки при помощи np.ceil:"
   ]
  },
  {
   "cell_type": "code",
   "execution_count": 13,
   "metadata": {},
   "outputs": [],
   "source": [
    "calls['duration'] = calls['duration'].apply(np.ceil).astype('int')"
   ]
  },
  {
   "cell_type": "code",
   "execution_count": 14,
   "metadata": {},
   "outputs": [
    {
     "data": {
      "text/html": [
       "<div>\n",
       "<style scoped>\n",
       "    .dataframe tbody tr th:only-of-type {\n",
       "        vertical-align: middle;\n",
       "    }\n",
       "\n",
       "    .dataframe tbody tr th {\n",
       "        vertical-align: top;\n",
       "    }\n",
       "\n",
       "    .dataframe thead th {\n",
       "        text-align: right;\n",
       "    }\n",
       "</style>\n",
       "<table border=\"1\" class=\"dataframe\">\n",
       "  <thead>\n",
       "    <tr style=\"text-align: right;\">\n",
       "      <th></th>\n",
       "      <th>id</th>\n",
       "      <th>call_date</th>\n",
       "      <th>duration</th>\n",
       "      <th>user_id</th>\n",
       "    </tr>\n",
       "  </thead>\n",
       "  <tbody>\n",
       "    <tr>\n",
       "      <td>0</td>\n",
       "      <td>10000</td>\n",
       "      <td>2018-07-25</td>\n",
       "      <td>0</td>\n",
       "      <td>1000</td>\n",
       "    </tr>\n",
       "    <tr>\n",
       "      <td>1</td>\n",
       "      <td>10001</td>\n",
       "      <td>2018-08-17</td>\n",
       "      <td>0</td>\n",
       "      <td>1000</td>\n",
       "    </tr>\n",
       "    <tr>\n",
       "      <td>2</td>\n",
       "      <td>10002</td>\n",
       "      <td>2018-06-11</td>\n",
       "      <td>3</td>\n",
       "      <td>1000</td>\n",
       "    </tr>\n",
       "    <tr>\n",
       "      <td>3</td>\n",
       "      <td>10003</td>\n",
       "      <td>2018-09-21</td>\n",
       "      <td>14</td>\n",
       "      <td>1000</td>\n",
       "    </tr>\n",
       "    <tr>\n",
       "      <td>4</td>\n",
       "      <td>10004</td>\n",
       "      <td>2018-12-15</td>\n",
       "      <td>6</td>\n",
       "      <td>1000</td>\n",
       "    </tr>\n",
       "  </tbody>\n",
       "</table>\n",
       "</div>"
      ],
      "text/plain": [
       "      id  call_date  duration  user_id\n",
       "0  10000 2018-07-25         0     1000\n",
       "1  10001 2018-08-17         0     1000\n",
       "2  10002 2018-06-11         3     1000\n",
       "3  10003 2018-09-21        14     1000\n",
       "4  10004 2018-12-15         6     1000"
      ]
     },
     "execution_count": 14,
     "metadata": {},
     "output_type": "execute_result"
    }
   ],
   "source": [
    "calls.head()"
   ]
  },
  {
   "cell_type": "code",
   "execution_count": 15,
   "metadata": {},
   "outputs": [],
   "source": [
    "calls['duration'] = calls['duration'].replace(0, 1)"
   ]
  },
  {
   "cell_type": "code",
   "execution_count": 16,
   "metadata": {},
   "outputs": [
    {
     "data": {
      "text/html": [
       "<div>\n",
       "<style scoped>\n",
       "    .dataframe tbody tr th:only-of-type {\n",
       "        vertical-align: middle;\n",
       "    }\n",
       "\n",
       "    .dataframe tbody tr th {\n",
       "        vertical-align: top;\n",
       "    }\n",
       "\n",
       "    .dataframe thead th {\n",
       "        text-align: right;\n",
       "    }\n",
       "</style>\n",
       "<table border=\"1\" class=\"dataframe\">\n",
       "  <thead>\n",
       "    <tr style=\"text-align: right;\">\n",
       "      <th></th>\n",
       "      <th>id</th>\n",
       "      <th>duration</th>\n",
       "      <th>user_id</th>\n",
       "    </tr>\n",
       "  </thead>\n",
       "  <tbody>\n",
       "    <tr>\n",
       "      <td>count</td>\n",
       "      <td>2.026070e+05</td>\n",
       "      <td>202607.000000</td>\n",
       "      <td>202607.000000</td>\n",
       "    </tr>\n",
       "    <tr>\n",
       "      <td>mean</td>\n",
       "      <td>1.212254e+06</td>\n",
       "      <td>7.353714</td>\n",
       "      <td>1253.940619</td>\n",
       "    </tr>\n",
       "    <tr>\n",
       "      <td>std</td>\n",
       "      <td>1.725756e+06</td>\n",
       "      <td>5.733230</td>\n",
       "      <td>144.722751</td>\n",
       "    </tr>\n",
       "    <tr>\n",
       "      <td>min</td>\n",
       "      <td>1.000000e+04</td>\n",
       "      <td>1.000000</td>\n",
       "      <td>1000.000000</td>\n",
       "    </tr>\n",
       "    <tr>\n",
       "      <td>25%</td>\n",
       "      <td>1.012286e+06</td>\n",
       "      <td>2.000000</td>\n",
       "      <td>1126.000000</td>\n",
       "    </tr>\n",
       "    <tr>\n",
       "      <td>50%</td>\n",
       "      <td>1.179376e+06</td>\n",
       "      <td>6.000000</td>\n",
       "      <td>1260.000000</td>\n",
       "    </tr>\n",
       "    <tr>\n",
       "      <td>75%</td>\n",
       "      <td>1.358126e+06</td>\n",
       "      <td>11.000000</td>\n",
       "      <td>1379.000000</td>\n",
       "    </tr>\n",
       "    <tr>\n",
       "      <td>max</td>\n",
       "      <td>1.458115e+07</td>\n",
       "      <td>38.000000</td>\n",
       "      <td>1499.000000</td>\n",
       "    </tr>\n",
       "  </tbody>\n",
       "</table>\n",
       "</div>"
      ],
      "text/plain": [
       "                 id       duration        user_id\n",
       "count  2.026070e+05  202607.000000  202607.000000\n",
       "mean   1.212254e+06       7.353714    1253.940619\n",
       "std    1.725756e+06       5.733230     144.722751\n",
       "min    1.000000e+04       1.000000    1000.000000\n",
       "25%    1.012286e+06       2.000000    1126.000000\n",
       "50%    1.179376e+06       6.000000    1260.000000\n",
       "75%    1.358126e+06      11.000000    1379.000000\n",
       "max    1.458115e+07      38.000000    1499.000000"
      ]
     },
     "execution_count": 16,
     "metadata": {},
     "output_type": "execute_result"
    }
   ],
   "source": [
    "calls.describe()"
   ]
  },
  {
   "cell_type": "code",
   "execution_count": 17,
   "metadata": {},
   "outputs": [
    {
     "name": "stdout",
     "output_type": "stream",
     "text": [
      "<class 'pandas.core.frame.DataFrame'>\n",
      "RangeIndex: 202607 entries, 0 to 202606\n",
      "Data columns (total 4 columns):\n",
      "id           202607 non-null int64\n",
      "call_date    202607 non-null datetime64[ns]\n",
      "duration     202607 non-null int64\n",
      "user_id      202607 non-null int64\n",
      "dtypes: datetime64[ns](1), int64(3)\n",
      "memory usage: 6.2 MB\n"
     ]
    }
   ],
   "source": [
    "calls.info()"
   ]
  },
  {
   "cell_type": "markdown",
   "metadata": {},
   "source": [
    "### Messages"
   ]
  },
  {
   "cell_type": "code",
   "execution_count": 18,
   "metadata": {},
   "outputs": [
    {
     "data": {
      "text/html": [
       "<div>\n",
       "<style scoped>\n",
       "    .dataframe tbody tr th:only-of-type {\n",
       "        vertical-align: middle;\n",
       "    }\n",
       "\n",
       "    .dataframe tbody tr th {\n",
       "        vertical-align: top;\n",
       "    }\n",
       "\n",
       "    .dataframe thead th {\n",
       "        text-align: right;\n",
       "    }\n",
       "</style>\n",
       "<table border=\"1\" class=\"dataframe\">\n",
       "  <thead>\n",
       "    <tr style=\"text-align: right;\">\n",
       "      <th></th>\n",
       "      <th>id</th>\n",
       "      <th>message_date</th>\n",
       "      <th>user_id</th>\n",
       "    </tr>\n",
       "  </thead>\n",
       "  <tbody>\n",
       "    <tr>\n",
       "      <td>0</td>\n",
       "      <td>1000_0</td>\n",
       "      <td>2018-06-27</td>\n",
       "      <td>1000</td>\n",
       "    </tr>\n",
       "    <tr>\n",
       "      <td>1</td>\n",
       "      <td>1000_1</td>\n",
       "      <td>2018-10-08</td>\n",
       "      <td>1000</td>\n",
       "    </tr>\n",
       "    <tr>\n",
       "      <td>2</td>\n",
       "      <td>1000_2</td>\n",
       "      <td>2018-08-04</td>\n",
       "      <td>1000</td>\n",
       "    </tr>\n",
       "    <tr>\n",
       "      <td>3</td>\n",
       "      <td>1000_3</td>\n",
       "      <td>2018-06-16</td>\n",
       "      <td>1000</td>\n",
       "    </tr>\n",
       "    <tr>\n",
       "      <td>4</td>\n",
       "      <td>1000_4</td>\n",
       "      <td>2018-12-05</td>\n",
       "      <td>1000</td>\n",
       "    </tr>\n",
       "  </tbody>\n",
       "</table>\n",
       "</div>"
      ],
      "text/plain": [
       "       id message_date  user_id\n",
       "0  1000_0   2018-06-27     1000\n",
       "1  1000_1   2018-10-08     1000\n",
       "2  1000_2   2018-08-04     1000\n",
       "3  1000_3   2018-06-16     1000\n",
       "4  1000_4   2018-12-05     1000"
      ]
     },
     "execution_count": 18,
     "metadata": {},
     "output_type": "execute_result"
    }
   ],
   "source": [
    "messages.head()"
   ]
  },
  {
   "cell_type": "code",
   "execution_count": 19,
   "metadata": {},
   "outputs": [
    {
     "name": "stdout",
     "output_type": "stream",
     "text": [
      "<class 'pandas.core.frame.DataFrame'>\n",
      "RangeIndex: 123036 entries, 0 to 123035\n",
      "Data columns (total 3 columns):\n",
      "id              123036 non-null object\n",
      "message_date    123036 non-null object\n",
      "user_id         123036 non-null int64\n",
      "dtypes: int64(1), object(2)\n",
      "memory usage: 2.8+ MB\n"
     ]
    }
   ],
   "source": [
    "messages.info()"
   ]
  },
  {
   "cell_type": "markdown",
   "metadata": {},
   "source": [
    "Выглядит хорошо, заменим типы данных:"
   ]
  },
  {
   "cell_type": "code",
   "execution_count": 20,
   "metadata": {},
   "outputs": [],
   "source": [
    "messages['id'] = messages['id'].astype('int')"
   ]
  },
  {
   "cell_type": "code",
   "execution_count": 21,
   "metadata": {},
   "outputs": [],
   "source": [
    "messages['message_date'] = pd.to_datetime(messages['message_date'], format=\"%Y-%m-%d\")"
   ]
  },
  {
   "cell_type": "code",
   "execution_count": 22,
   "metadata": {},
   "outputs": [
    {
     "name": "stdout",
     "output_type": "stream",
     "text": [
      "<class 'pandas.core.frame.DataFrame'>\n",
      "RangeIndex: 123036 entries, 0 to 123035\n",
      "Data columns (total 3 columns):\n",
      "id              123036 non-null int64\n",
      "message_date    123036 non-null datetime64[ns]\n",
      "user_id         123036 non-null int64\n",
      "dtypes: datetime64[ns](1), int64(2)\n",
      "memory usage: 2.8 MB\n"
     ]
    }
   ],
   "source": [
    "messages.info()"
   ]
  },
  {
   "cell_type": "markdown",
   "metadata": {},
   "source": [
    "Идём дальше:"
   ]
  },
  {
   "cell_type": "markdown",
   "metadata": {},
   "source": [
    "### Internet"
   ]
  },
  {
   "cell_type": "code",
   "execution_count": 23,
   "metadata": {},
   "outputs": [
    {
     "data": {
      "text/html": [
       "<div>\n",
       "<style scoped>\n",
       "    .dataframe tbody tr th:only-of-type {\n",
       "        vertical-align: middle;\n",
       "    }\n",
       "\n",
       "    .dataframe tbody tr th {\n",
       "        vertical-align: top;\n",
       "    }\n",
       "\n",
       "    .dataframe thead th {\n",
       "        text-align: right;\n",
       "    }\n",
       "</style>\n",
       "<table border=\"1\" class=\"dataframe\">\n",
       "  <thead>\n",
       "    <tr style=\"text-align: right;\">\n",
       "      <th></th>\n",
       "      <th>Unnamed: 0</th>\n",
       "      <th>id</th>\n",
       "      <th>mb_used</th>\n",
       "      <th>session_date</th>\n",
       "      <th>user_id</th>\n",
       "    </tr>\n",
       "  </thead>\n",
       "  <tbody>\n",
       "    <tr>\n",
       "      <td>0</td>\n",
       "      <td>0</td>\n",
       "      <td>1000_0</td>\n",
       "      <td>112.95</td>\n",
       "      <td>2018-11-25</td>\n",
       "      <td>1000</td>\n",
       "    </tr>\n",
       "    <tr>\n",
       "      <td>1</td>\n",
       "      <td>1</td>\n",
       "      <td>1000_1</td>\n",
       "      <td>1052.81</td>\n",
       "      <td>2018-09-07</td>\n",
       "      <td>1000</td>\n",
       "    </tr>\n",
       "    <tr>\n",
       "      <td>2</td>\n",
       "      <td>2</td>\n",
       "      <td>1000_2</td>\n",
       "      <td>1197.26</td>\n",
       "      <td>2018-06-25</td>\n",
       "      <td>1000</td>\n",
       "    </tr>\n",
       "    <tr>\n",
       "      <td>3</td>\n",
       "      <td>3</td>\n",
       "      <td>1000_3</td>\n",
       "      <td>550.27</td>\n",
       "      <td>2018-08-22</td>\n",
       "      <td>1000</td>\n",
       "    </tr>\n",
       "    <tr>\n",
       "      <td>4</td>\n",
       "      <td>4</td>\n",
       "      <td>1000_4</td>\n",
       "      <td>302.56</td>\n",
       "      <td>2018-09-24</td>\n",
       "      <td>1000</td>\n",
       "    </tr>\n",
       "  </tbody>\n",
       "</table>\n",
       "</div>"
      ],
      "text/plain": [
       "   Unnamed: 0      id  mb_used session_date  user_id\n",
       "0           0  1000_0   112.95   2018-11-25     1000\n",
       "1           1  1000_1  1052.81   2018-09-07     1000\n",
       "2           2  1000_2  1197.26   2018-06-25     1000\n",
       "3           3  1000_3   550.27   2018-08-22     1000\n",
       "4           4  1000_4   302.56   2018-09-24     1000"
      ]
     },
     "execution_count": 23,
     "metadata": {},
     "output_type": "execute_result"
    }
   ],
   "source": [
    "internet.head()"
   ]
  },
  {
   "cell_type": "code",
   "execution_count": 24,
   "metadata": {},
   "outputs": [
    {
     "data": {
      "text/html": [
       "<div>\n",
       "<style scoped>\n",
       "    .dataframe tbody tr th:only-of-type {\n",
       "        vertical-align: middle;\n",
       "    }\n",
       "\n",
       "    .dataframe tbody tr th {\n",
       "        vertical-align: top;\n",
       "    }\n",
       "\n",
       "    .dataframe thead th {\n",
       "        text-align: right;\n",
       "    }\n",
       "</style>\n",
       "<table border=\"1\" class=\"dataframe\">\n",
       "  <thead>\n",
       "    <tr style=\"text-align: right;\">\n",
       "      <th></th>\n",
       "      <th>Unnamed: 0</th>\n",
       "      <th>mb_used</th>\n",
       "      <th>user_id</th>\n",
       "    </tr>\n",
       "  </thead>\n",
       "  <tbody>\n",
       "    <tr>\n",
       "      <td>count</td>\n",
       "      <td>149396.000000</td>\n",
       "      <td>149396.000000</td>\n",
       "      <td>149396.000000</td>\n",
       "    </tr>\n",
       "    <tr>\n",
       "      <td>mean</td>\n",
       "      <td>74697.500000</td>\n",
       "      <td>370.192426</td>\n",
       "      <td>1252.099842</td>\n",
       "    </tr>\n",
       "    <tr>\n",
       "      <td>std</td>\n",
       "      <td>43127.054745</td>\n",
       "      <td>278.300951</td>\n",
       "      <td>144.050823</td>\n",
       "    </tr>\n",
       "    <tr>\n",
       "      <td>min</td>\n",
       "      <td>0.000000</td>\n",
       "      <td>0.000000</td>\n",
       "      <td>1000.000000</td>\n",
       "    </tr>\n",
       "    <tr>\n",
       "      <td>25%</td>\n",
       "      <td>37348.750000</td>\n",
       "      <td>138.187500</td>\n",
       "      <td>1130.000000</td>\n",
       "    </tr>\n",
       "    <tr>\n",
       "      <td>50%</td>\n",
       "      <td>74697.500000</td>\n",
       "      <td>348.015000</td>\n",
       "      <td>1251.000000</td>\n",
       "    </tr>\n",
       "    <tr>\n",
       "      <td>75%</td>\n",
       "      <td>112046.250000</td>\n",
       "      <td>559.552500</td>\n",
       "      <td>1380.000000</td>\n",
       "    </tr>\n",
       "    <tr>\n",
       "      <td>max</td>\n",
       "      <td>149395.000000</td>\n",
       "      <td>1724.830000</td>\n",
       "      <td>1499.000000</td>\n",
       "    </tr>\n",
       "  </tbody>\n",
       "</table>\n",
       "</div>"
      ],
      "text/plain": [
       "          Unnamed: 0        mb_used        user_id\n",
       "count  149396.000000  149396.000000  149396.000000\n",
       "mean    74697.500000     370.192426    1252.099842\n",
       "std     43127.054745     278.300951     144.050823\n",
       "min         0.000000       0.000000    1000.000000\n",
       "25%     37348.750000     138.187500    1130.000000\n",
       "50%     74697.500000     348.015000    1251.000000\n",
       "75%    112046.250000     559.552500    1380.000000\n",
       "max    149395.000000    1724.830000    1499.000000"
      ]
     },
     "execution_count": 24,
     "metadata": {},
     "output_type": "execute_result"
    }
   ],
   "source": [
    "internet.describe()"
   ]
  },
  {
   "cell_type": "code",
   "execution_count": 25,
   "metadata": {},
   "outputs": [
    {
     "name": "stdout",
     "output_type": "stream",
     "text": [
      "<class 'pandas.core.frame.DataFrame'>\n",
      "RangeIndex: 149396 entries, 0 to 149395\n",
      "Data columns (total 5 columns):\n",
      "Unnamed: 0      149396 non-null int64\n",
      "id              149396 non-null object\n",
      "mb_used         149396 non-null float64\n",
      "session_date    149396 non-null object\n",
      "user_id         149396 non-null int64\n",
      "dtypes: float64(1), int64(2), object(2)\n",
      "memory usage: 5.7+ MB\n"
     ]
    }
   ],
   "source": [
    "internet.info()"
   ]
  },
  {
   "cell_type": "markdown",
   "metadata": {},
   "source": [
    "В этом проекте с данными на пропуски нам пока везёт. Заменим типы данных:"
   ]
  },
  {
   "cell_type": "code",
   "execution_count": 26,
   "metadata": {},
   "outputs": [],
   "source": [
    "internet['id'] = internet['id'].astype('int')"
   ]
  },
  {
   "cell_type": "code",
   "execution_count": 27,
   "metadata": {},
   "outputs": [],
   "source": [
    "internet['session_date'] = pd.to_datetime(internet['session_date'], format=\"%Y-%m-%d\")"
   ]
  },
  {
   "cell_type": "code",
   "execution_count": 28,
   "metadata": {},
   "outputs": [
    {
     "name": "stdout",
     "output_type": "stream",
     "text": [
      "<class 'pandas.core.frame.DataFrame'>\n",
      "RangeIndex: 149396 entries, 0 to 149395\n",
      "Data columns (total 5 columns):\n",
      "Unnamed: 0      149396 non-null int64\n",
      "id              149396 non-null int64\n",
      "mb_used         149396 non-null float64\n",
      "session_date    149396 non-null datetime64[ns]\n",
      "user_id         149396 non-null int64\n",
      "dtypes: datetime64[ns](1), float64(1), int64(3)\n",
      "memory usage: 5.7 MB\n"
     ]
    }
   ],
   "source": [
    "internet.info()"
   ]
  },
  {
   "cell_type": "markdown",
   "metadata": {},
   "source": [
    "### Tariffs"
   ]
  },
  {
   "cell_type": "code",
   "execution_count": 29,
   "metadata": {
    "scrolled": true
   },
   "outputs": [
    {
     "data": {
      "text/html": [
       "<div>\n",
       "<style scoped>\n",
       "    .dataframe tbody tr th:only-of-type {\n",
       "        vertical-align: middle;\n",
       "    }\n",
       "\n",
       "    .dataframe tbody tr th {\n",
       "        vertical-align: top;\n",
       "    }\n",
       "\n",
       "    .dataframe thead th {\n",
       "        text-align: right;\n",
       "    }\n",
       "</style>\n",
       "<table border=\"1\" class=\"dataframe\">\n",
       "  <thead>\n",
       "    <tr style=\"text-align: right;\">\n",
       "      <th></th>\n",
       "      <th>messages_included</th>\n",
       "      <th>mb_per_month_included</th>\n",
       "      <th>minutes_included</th>\n",
       "      <th>rub_monthly_fee</th>\n",
       "      <th>rub_per_gb</th>\n",
       "      <th>rub_per_message</th>\n",
       "      <th>rub_per_minute</th>\n",
       "      <th>tariff_name</th>\n",
       "    </tr>\n",
       "  </thead>\n",
       "  <tbody>\n",
       "    <tr>\n",
       "      <td>0</td>\n",
       "      <td>50</td>\n",
       "      <td>15360</td>\n",
       "      <td>500</td>\n",
       "      <td>550</td>\n",
       "      <td>200</td>\n",
       "      <td>3</td>\n",
       "      <td>3</td>\n",
       "      <td>smart</td>\n",
       "    </tr>\n",
       "    <tr>\n",
       "      <td>1</td>\n",
       "      <td>1000</td>\n",
       "      <td>30720</td>\n",
       "      <td>3000</td>\n",
       "      <td>1950</td>\n",
       "      <td>150</td>\n",
       "      <td>1</td>\n",
       "      <td>1</td>\n",
       "      <td>ultra</td>\n",
       "    </tr>\n",
       "  </tbody>\n",
       "</table>\n",
       "</div>"
      ],
      "text/plain": [
       "   messages_included  mb_per_month_included  minutes_included  \\\n",
       "0                 50                  15360               500   \n",
       "1               1000                  30720              3000   \n",
       "\n",
       "   rub_monthly_fee  rub_per_gb  rub_per_message  rub_per_minute tariff_name  \n",
       "0              550         200                3               3       smart  \n",
       "1             1950         150                1               1       ultra  "
      ]
     },
     "execution_count": 29,
     "metadata": {},
     "output_type": "execute_result"
    }
   ],
   "source": [
    "tariffs.head()"
   ]
  },
  {
   "cell_type": "code",
   "execution_count": 30,
   "metadata": {},
   "outputs": [],
   "source": [
    "tariffs = tariffs.rename(columns={'tariff_name':'tariff'})"
   ]
  },
  {
   "cell_type": "code",
   "execution_count": 31,
   "metadata": {},
   "outputs": [
    {
     "name": "stdout",
     "output_type": "stream",
     "text": [
      "<class 'pandas.core.frame.DataFrame'>\n",
      "RangeIndex: 2 entries, 0 to 1\n",
      "Data columns (total 8 columns):\n",
      "messages_included        2 non-null int64\n",
      "mb_per_month_included    2 non-null int64\n",
      "minutes_included         2 non-null int64\n",
      "rub_monthly_fee          2 non-null int64\n",
      "rub_per_gb               2 non-null int64\n",
      "rub_per_message          2 non-null int64\n",
      "rub_per_minute           2 non-null int64\n",
      "tariff                   2 non-null object\n",
      "dtypes: int64(7), object(1)\n",
      "memory usage: 256.0+ bytes\n"
     ]
    }
   ],
   "source": [
    "tariffs.info()"
   ]
  },
  {
   "cell_type": "markdown",
   "metadata": {},
   "source": [
    "Таблица с тарифами хранит условия каждого тарифа. Тут проблем быть и не должно"
   ]
  },
  {
   "cell_type": "markdown",
   "metadata": {},
   "source": [
    "## Шаг 2. Подготовка данных"
   ]
  },
  {
   "cell_type": "markdown",
   "metadata": {},
   "source": [
    "Посчитайте для каждого пользователя:\n",
    " - количество сделанных звонков и израсходованных минут разговора по месяцам;\n",
    " - количество отправленных сообщений по месяцам;\n",
    " - объем израсходованного интернет-трафика по месяцам;\n",
    " - помесячную выручку с каждого пользователя (вычтите бесплатный лимит из суммарного количества звонков, сообщений и интернет-трафика; остаток умножьте на значение из тарифного плана; прибавьте абонентскую плату, соответствующую тарифному плану)."
   ]
  },
  {
   "cell_type": "markdown",
   "metadata": {},
   "source": [
    "### Количество сделанных звонков и израсходованных минут разговора по месяцам"
   ]
  },
  {
   "cell_type": "code",
   "execution_count": 32,
   "metadata": {},
   "outputs": [],
   "source": [
    "calls['month'] = calls['call_date'].dt.month_name()"
   ]
  },
  {
   "cell_type": "code",
   "execution_count": 33,
   "metadata": {},
   "outputs": [
    {
     "data": {
      "text/html": [
       "<div>\n",
       "<style scoped>\n",
       "    .dataframe tbody tr th:only-of-type {\n",
       "        vertical-align: middle;\n",
       "    }\n",
       "\n",
       "    .dataframe tbody tr th {\n",
       "        vertical-align: top;\n",
       "    }\n",
       "\n",
       "    .dataframe thead th {\n",
       "        text-align: right;\n",
       "    }\n",
       "</style>\n",
       "<table border=\"1\" class=\"dataframe\">\n",
       "  <thead>\n",
       "    <tr style=\"text-align: right;\">\n",
       "      <th></th>\n",
       "      <th>id</th>\n",
       "      <th>call_date</th>\n",
       "      <th>duration</th>\n",
       "      <th>user_id</th>\n",
       "      <th>month</th>\n",
       "    </tr>\n",
       "  </thead>\n",
       "  <tbody>\n",
       "    <tr>\n",
       "      <td>0</td>\n",
       "      <td>10000</td>\n",
       "      <td>2018-07-25</td>\n",
       "      <td>1</td>\n",
       "      <td>1000</td>\n",
       "      <td>July</td>\n",
       "    </tr>\n",
       "    <tr>\n",
       "      <td>1</td>\n",
       "      <td>10001</td>\n",
       "      <td>2018-08-17</td>\n",
       "      <td>1</td>\n",
       "      <td>1000</td>\n",
       "      <td>August</td>\n",
       "    </tr>\n",
       "    <tr>\n",
       "      <td>2</td>\n",
       "      <td>10002</td>\n",
       "      <td>2018-06-11</td>\n",
       "      <td>3</td>\n",
       "      <td>1000</td>\n",
       "      <td>June</td>\n",
       "    </tr>\n",
       "    <tr>\n",
       "      <td>3</td>\n",
       "      <td>10003</td>\n",
       "      <td>2018-09-21</td>\n",
       "      <td>14</td>\n",
       "      <td>1000</td>\n",
       "      <td>September</td>\n",
       "    </tr>\n",
       "    <tr>\n",
       "      <td>4</td>\n",
       "      <td>10004</td>\n",
       "      <td>2018-12-15</td>\n",
       "      <td>6</td>\n",
       "      <td>1000</td>\n",
       "      <td>December</td>\n",
       "    </tr>\n",
       "  </tbody>\n",
       "</table>\n",
       "</div>"
      ],
      "text/plain": [
       "      id  call_date  duration  user_id      month\n",
       "0  10000 2018-07-25         1     1000       July\n",
       "1  10001 2018-08-17         1     1000     August\n",
       "2  10002 2018-06-11         3     1000       June\n",
       "3  10003 2018-09-21        14     1000  September\n",
       "4  10004 2018-12-15         6     1000   December"
      ]
     },
     "execution_count": 33,
     "metadata": {},
     "output_type": "execute_result"
    }
   ],
   "source": [
    "calls.head()"
   ]
  },
  {
   "cell_type": "code",
   "execution_count": 34,
   "metadata": {},
   "outputs": [],
   "source": [
    "user_calls = calls.groupby(['user_id', 'month'])\\\n",
    "                  .agg({'duration':'sum', 'id':'count'})\\\n",
    "                  .reset_index()\\\n",
    "                  .rename(columns={'duration':'month_calls_duration','id':'calls_total_in_month'})\\"
   ]
  },
  {
   "cell_type": "code",
   "execution_count": 35,
   "metadata": {
    "scrolled": true
   },
   "outputs": [
    {
     "data": {
      "text/html": [
       "<div>\n",
       "<style scoped>\n",
       "    .dataframe tbody tr th:only-of-type {\n",
       "        vertical-align: middle;\n",
       "    }\n",
       "\n",
       "    .dataframe tbody tr th {\n",
       "        vertical-align: top;\n",
       "    }\n",
       "\n",
       "    .dataframe thead th {\n",
       "        text-align: right;\n",
       "    }\n",
       "</style>\n",
       "<table border=\"1\" class=\"dataframe\">\n",
       "  <thead>\n",
       "    <tr style=\"text-align: right;\">\n",
       "      <th></th>\n",
       "      <th>user_id</th>\n",
       "      <th>month</th>\n",
       "      <th>month_calls_duration</th>\n",
       "      <th>calls_total_in_month</th>\n",
       "    </tr>\n",
       "  </thead>\n",
       "  <tbody>\n",
       "    <tr>\n",
       "      <td>0</td>\n",
       "      <td>1000</td>\n",
       "      <td>August</td>\n",
       "      <td>418</td>\n",
       "      <td>52</td>\n",
       "    </tr>\n",
       "    <tr>\n",
       "      <td>1</td>\n",
       "      <td>1000</td>\n",
       "      <td>December</td>\n",
       "      <td>341</td>\n",
       "      <td>46</td>\n",
       "    </tr>\n",
       "    <tr>\n",
       "      <td>2</td>\n",
       "      <td>1000</td>\n",
       "      <td>July</td>\n",
       "      <td>346</td>\n",
       "      <td>47</td>\n",
       "    </tr>\n",
       "    <tr>\n",
       "      <td>3</td>\n",
       "      <td>1000</td>\n",
       "      <td>June</td>\n",
       "      <td>187</td>\n",
       "      <td>43</td>\n",
       "    </tr>\n",
       "    <tr>\n",
       "      <td>4</td>\n",
       "      <td>1000</td>\n",
       "      <td>May</td>\n",
       "      <td>164</td>\n",
       "      <td>22</td>\n",
       "    </tr>\n",
       "  </tbody>\n",
       "</table>\n",
       "</div>"
      ],
      "text/plain": [
       "   user_id     month  month_calls_duration  calls_total_in_month\n",
       "0     1000    August                   418                    52\n",
       "1     1000  December                   341                    46\n",
       "2     1000      July                   346                    47\n",
       "3     1000      June                   187                    43\n",
       "4     1000       May                   164                    22"
      ]
     },
     "execution_count": 35,
     "metadata": {},
     "output_type": "execute_result"
    }
   ],
   "source": [
    "user_calls.head()"
   ]
  },
  {
   "cell_type": "markdown",
   "metadata": {},
   "source": [
    "По каждому абоненту нашли количество минут и звонков в месяц"
   ]
  },
  {
   "cell_type": "markdown",
   "metadata": {},
   "source": [
    "### Количество отправленных сообщений по месяцам"
   ]
  },
  {
   "cell_type": "code",
   "execution_count": 36,
   "metadata": {},
   "outputs": [],
   "source": [
    "messages['month'] = messages['message_date'].dt.month_name()"
   ]
  },
  {
   "cell_type": "code",
   "execution_count": 37,
   "metadata": {},
   "outputs": [
    {
     "data": {
      "text/html": [
       "<div>\n",
       "<style scoped>\n",
       "    .dataframe tbody tr th:only-of-type {\n",
       "        vertical-align: middle;\n",
       "    }\n",
       "\n",
       "    .dataframe tbody tr th {\n",
       "        vertical-align: top;\n",
       "    }\n",
       "\n",
       "    .dataframe thead th {\n",
       "        text-align: right;\n",
       "    }\n",
       "</style>\n",
       "<table border=\"1\" class=\"dataframe\">\n",
       "  <thead>\n",
       "    <tr style=\"text-align: right;\">\n",
       "      <th></th>\n",
       "      <th>id</th>\n",
       "      <th>message_date</th>\n",
       "      <th>user_id</th>\n",
       "      <th>month</th>\n",
       "    </tr>\n",
       "  </thead>\n",
       "  <tbody>\n",
       "    <tr>\n",
       "      <td>0</td>\n",
       "      <td>10000</td>\n",
       "      <td>2018-06-27</td>\n",
       "      <td>1000</td>\n",
       "      <td>June</td>\n",
       "    </tr>\n",
       "    <tr>\n",
       "      <td>1</td>\n",
       "      <td>10001</td>\n",
       "      <td>2018-10-08</td>\n",
       "      <td>1000</td>\n",
       "      <td>October</td>\n",
       "    </tr>\n",
       "    <tr>\n",
       "      <td>2</td>\n",
       "      <td>10002</td>\n",
       "      <td>2018-08-04</td>\n",
       "      <td>1000</td>\n",
       "      <td>August</td>\n",
       "    </tr>\n",
       "    <tr>\n",
       "      <td>3</td>\n",
       "      <td>10003</td>\n",
       "      <td>2018-06-16</td>\n",
       "      <td>1000</td>\n",
       "      <td>June</td>\n",
       "    </tr>\n",
       "    <tr>\n",
       "      <td>4</td>\n",
       "      <td>10004</td>\n",
       "      <td>2018-12-05</td>\n",
       "      <td>1000</td>\n",
       "      <td>December</td>\n",
       "    </tr>\n",
       "  </tbody>\n",
       "</table>\n",
       "</div>"
      ],
      "text/plain": [
       "      id message_date  user_id     month\n",
       "0  10000   2018-06-27     1000      June\n",
       "1  10001   2018-10-08     1000   October\n",
       "2  10002   2018-08-04     1000    August\n",
       "3  10003   2018-06-16     1000      June\n",
       "4  10004   2018-12-05     1000  December"
      ]
     },
     "execution_count": 37,
     "metadata": {},
     "output_type": "execute_result"
    }
   ],
   "source": [
    "messages.head()"
   ]
  },
  {
   "cell_type": "code",
   "execution_count": 38,
   "metadata": {},
   "outputs": [],
   "source": [
    "user_messages = messages.groupby(['user_id', 'month'])\\\n",
    "                        .agg({'id':'count'})\\\n",
    "                        .reset_index()\\\n",
    "                        .rename(columns={'id':'sms_total_in_month'})"
   ]
  },
  {
   "cell_type": "code",
   "execution_count": 39,
   "metadata": {},
   "outputs": [
    {
     "data": {
      "text/html": [
       "<div>\n",
       "<style scoped>\n",
       "    .dataframe tbody tr th:only-of-type {\n",
       "        vertical-align: middle;\n",
       "    }\n",
       "\n",
       "    .dataframe tbody tr th {\n",
       "        vertical-align: top;\n",
       "    }\n",
       "\n",
       "    .dataframe thead th {\n",
       "        text-align: right;\n",
       "    }\n",
       "</style>\n",
       "<table border=\"1\" class=\"dataframe\">\n",
       "  <thead>\n",
       "    <tr style=\"text-align: right;\">\n",
       "      <th></th>\n",
       "      <th>user_id</th>\n",
       "      <th>month</th>\n",
       "      <th>sms_total_in_month</th>\n",
       "    </tr>\n",
       "  </thead>\n",
       "  <tbody>\n",
       "    <tr>\n",
       "      <td>0</td>\n",
       "      <td>1000</td>\n",
       "      <td>August</td>\n",
       "      <td>81</td>\n",
       "    </tr>\n",
       "    <tr>\n",
       "      <td>1</td>\n",
       "      <td>1000</td>\n",
       "      <td>December</td>\n",
       "      <td>70</td>\n",
       "    </tr>\n",
       "    <tr>\n",
       "      <td>2</td>\n",
       "      <td>1000</td>\n",
       "      <td>July</td>\n",
       "      <td>75</td>\n",
       "    </tr>\n",
       "    <tr>\n",
       "      <td>3</td>\n",
       "      <td>1000</td>\n",
       "      <td>June</td>\n",
       "      <td>60</td>\n",
       "    </tr>\n",
       "    <tr>\n",
       "      <td>4</td>\n",
       "      <td>1000</td>\n",
       "      <td>May</td>\n",
       "      <td>22</td>\n",
       "    </tr>\n",
       "  </tbody>\n",
       "</table>\n",
       "</div>"
      ],
      "text/plain": [
       "   user_id     month  sms_total_in_month\n",
       "0     1000    August                  81\n",
       "1     1000  December                  70\n",
       "2     1000      July                  75\n",
       "3     1000      June                  60\n",
       "4     1000       May                  22"
      ]
     },
     "execution_count": 39,
     "metadata": {},
     "output_type": "execute_result"
    }
   ],
   "source": [
    "user_messages.head()"
   ]
  },
  {
   "cell_type": "markdown",
   "metadata": {},
   "source": [
    "### Объем израсходованного интернет-трафика по месяцам"
   ]
  },
  {
   "cell_type": "code",
   "execution_count": 40,
   "metadata": {},
   "outputs": [],
   "source": [
    "internet['month'] = internet['session_date'].dt.month_name()"
   ]
  },
  {
   "cell_type": "code",
   "execution_count": 41,
   "metadata": {},
   "outputs": [
    {
     "data": {
      "text/html": [
       "<div>\n",
       "<style scoped>\n",
       "    .dataframe tbody tr th:only-of-type {\n",
       "        vertical-align: middle;\n",
       "    }\n",
       "\n",
       "    .dataframe tbody tr th {\n",
       "        vertical-align: top;\n",
       "    }\n",
       "\n",
       "    .dataframe thead th {\n",
       "        text-align: right;\n",
       "    }\n",
       "</style>\n",
       "<table border=\"1\" class=\"dataframe\">\n",
       "  <thead>\n",
       "    <tr style=\"text-align: right;\">\n",
       "      <th></th>\n",
       "      <th>Unnamed: 0</th>\n",
       "      <th>id</th>\n",
       "      <th>mb_used</th>\n",
       "      <th>session_date</th>\n",
       "      <th>user_id</th>\n",
       "      <th>month</th>\n",
       "    </tr>\n",
       "  </thead>\n",
       "  <tbody>\n",
       "    <tr>\n",
       "      <td>0</td>\n",
       "      <td>0</td>\n",
       "      <td>10000</td>\n",
       "      <td>112.95</td>\n",
       "      <td>2018-11-25</td>\n",
       "      <td>1000</td>\n",
       "      <td>November</td>\n",
       "    </tr>\n",
       "    <tr>\n",
       "      <td>1</td>\n",
       "      <td>1</td>\n",
       "      <td>10001</td>\n",
       "      <td>1052.81</td>\n",
       "      <td>2018-09-07</td>\n",
       "      <td>1000</td>\n",
       "      <td>September</td>\n",
       "    </tr>\n",
       "    <tr>\n",
       "      <td>2</td>\n",
       "      <td>2</td>\n",
       "      <td>10002</td>\n",
       "      <td>1197.26</td>\n",
       "      <td>2018-06-25</td>\n",
       "      <td>1000</td>\n",
       "      <td>June</td>\n",
       "    </tr>\n",
       "    <tr>\n",
       "      <td>3</td>\n",
       "      <td>3</td>\n",
       "      <td>10003</td>\n",
       "      <td>550.27</td>\n",
       "      <td>2018-08-22</td>\n",
       "      <td>1000</td>\n",
       "      <td>August</td>\n",
       "    </tr>\n",
       "    <tr>\n",
       "      <td>4</td>\n",
       "      <td>4</td>\n",
       "      <td>10004</td>\n",
       "      <td>302.56</td>\n",
       "      <td>2018-09-24</td>\n",
       "      <td>1000</td>\n",
       "      <td>September</td>\n",
       "    </tr>\n",
       "  </tbody>\n",
       "</table>\n",
       "</div>"
      ],
      "text/plain": [
       "   Unnamed: 0     id  mb_used session_date  user_id      month\n",
       "0           0  10000   112.95   2018-11-25     1000   November\n",
       "1           1  10001  1052.81   2018-09-07     1000  September\n",
       "2           2  10002  1197.26   2018-06-25     1000       June\n",
       "3           3  10003   550.27   2018-08-22     1000     August\n",
       "4           4  10004   302.56   2018-09-24     1000  September"
      ]
     },
     "execution_count": 41,
     "metadata": {},
     "output_type": "execute_result"
    }
   ],
   "source": [
    "internet.head()"
   ]
  },
  {
   "cell_type": "code",
   "execution_count": 42,
   "metadata": {},
   "outputs": [],
   "source": [
    "user_internet = internet.groupby(['user_id', 'month'])\\\n",
    "                        .agg({'mb_used':'sum'})\\\n",
    "                        .reset_index()\\\n",
    "                        .rename(columns={'mb_used':'mb_total_in_month'})"
   ]
  },
  {
   "cell_type": "code",
   "execution_count": 43,
   "metadata": {},
   "outputs": [
    {
     "data": {
      "text/html": [
       "<div>\n",
       "<style scoped>\n",
       "    .dataframe tbody tr th:only-of-type {\n",
       "        vertical-align: middle;\n",
       "    }\n",
       "\n",
       "    .dataframe tbody tr th {\n",
       "        vertical-align: top;\n",
       "    }\n",
       "\n",
       "    .dataframe thead th {\n",
       "        text-align: right;\n",
       "    }\n",
       "</style>\n",
       "<table border=\"1\" class=\"dataframe\">\n",
       "  <thead>\n",
       "    <tr style=\"text-align: right;\">\n",
       "      <th></th>\n",
       "      <th>user_id</th>\n",
       "      <th>month</th>\n",
       "      <th>mb_total_in_month</th>\n",
       "    </tr>\n",
       "  </thead>\n",
       "  <tbody>\n",
       "    <tr>\n",
       "      <td>0</td>\n",
       "      <td>1000</td>\n",
       "      <td>August</td>\n",
       "      <td>14055.93</td>\n",
       "    </tr>\n",
       "    <tr>\n",
       "      <td>1</td>\n",
       "      <td>1000</td>\n",
       "      <td>December</td>\n",
       "      <td>9817.61</td>\n",
       "    </tr>\n",
       "    <tr>\n",
       "      <td>2</td>\n",
       "      <td>1000</td>\n",
       "      <td>July</td>\n",
       "      <td>14003.64</td>\n",
       "    </tr>\n",
       "    <tr>\n",
       "      <td>3</td>\n",
       "      <td>1000</td>\n",
       "      <td>June</td>\n",
       "      <td>23233.77</td>\n",
       "    </tr>\n",
       "    <tr>\n",
       "      <td>4</td>\n",
       "      <td>1000</td>\n",
       "      <td>May</td>\n",
       "      <td>2253.49</td>\n",
       "    </tr>\n",
       "  </tbody>\n",
       "</table>\n",
       "</div>"
      ],
      "text/plain": [
       "   user_id     month  mb_total_in_month\n",
       "0     1000    August           14055.93\n",
       "1     1000  December            9817.61\n",
       "2     1000      July           14003.64\n",
       "3     1000      June           23233.77\n",
       "4     1000       May            2253.49"
      ]
     },
     "execution_count": 43,
     "metadata": {},
     "output_type": "execute_result"
    }
   ],
   "source": [
    "user_internet.head()"
   ]
  },
  {
   "cell_type": "markdown",
   "metadata": {},
   "source": [
    "### Месячная выручка с каждого абонента"
   ]
  },
  {
   "cell_type": "markdown",
   "metadata": {},
   "source": [
    "\"Склеим\" таблицы со звонками и смсками. Будет наглядно видно количество минут в месяц, звонков и смс:"
   ]
  },
  {
   "cell_type": "code",
   "execution_count": 44,
   "metadata": {},
   "outputs": [],
   "source": [
    "df = user_calls.merge(user_messages, on=['user_id','month'], how='outer')"
   ]
  },
  {
   "cell_type": "code",
   "execution_count": 45,
   "metadata": {},
   "outputs": [
    {
     "data": {
      "text/html": [
       "<div>\n",
       "<style scoped>\n",
       "    .dataframe tbody tr th:only-of-type {\n",
       "        vertical-align: middle;\n",
       "    }\n",
       "\n",
       "    .dataframe tbody tr th {\n",
       "        vertical-align: top;\n",
       "    }\n",
       "\n",
       "    .dataframe thead th {\n",
       "        text-align: right;\n",
       "    }\n",
       "</style>\n",
       "<table border=\"1\" class=\"dataframe\">\n",
       "  <thead>\n",
       "    <tr style=\"text-align: right;\">\n",
       "      <th></th>\n",
       "      <th>user_id</th>\n",
       "      <th>month</th>\n",
       "      <th>month_calls_duration</th>\n",
       "      <th>calls_total_in_month</th>\n",
       "      <th>sms_total_in_month</th>\n",
       "    </tr>\n",
       "  </thead>\n",
       "  <tbody>\n",
       "    <tr>\n",
       "      <td>0</td>\n",
       "      <td>1000</td>\n",
       "      <td>August</td>\n",
       "      <td>418.0</td>\n",
       "      <td>52.0</td>\n",
       "      <td>81.0</td>\n",
       "    </tr>\n",
       "    <tr>\n",
       "      <td>1</td>\n",
       "      <td>1000</td>\n",
       "      <td>December</td>\n",
       "      <td>341.0</td>\n",
       "      <td>46.0</td>\n",
       "      <td>70.0</td>\n",
       "    </tr>\n",
       "    <tr>\n",
       "      <td>2</td>\n",
       "      <td>1000</td>\n",
       "      <td>July</td>\n",
       "      <td>346.0</td>\n",
       "      <td>47.0</td>\n",
       "      <td>75.0</td>\n",
       "    </tr>\n",
       "    <tr>\n",
       "      <td>3</td>\n",
       "      <td>1000</td>\n",
       "      <td>June</td>\n",
       "      <td>187.0</td>\n",
       "      <td>43.0</td>\n",
       "      <td>60.0</td>\n",
       "    </tr>\n",
       "    <tr>\n",
       "      <td>4</td>\n",
       "      <td>1000</td>\n",
       "      <td>May</td>\n",
       "      <td>164.0</td>\n",
       "      <td>22.0</td>\n",
       "      <td>22.0</td>\n",
       "    </tr>\n",
       "  </tbody>\n",
       "</table>\n",
       "</div>"
      ],
      "text/plain": [
       "   user_id     month  month_calls_duration  calls_total_in_month  \\\n",
       "0     1000    August                 418.0                  52.0   \n",
       "1     1000  December                 341.0                  46.0   \n",
       "2     1000      July                 346.0                  47.0   \n",
       "3     1000      June                 187.0                  43.0   \n",
       "4     1000       May                 164.0                  22.0   \n",
       "\n",
       "   sms_total_in_month  \n",
       "0                81.0  \n",
       "1                70.0  \n",
       "2                75.0  \n",
       "3                60.0  \n",
       "4                22.0  "
      ]
     },
     "execution_count": 45,
     "metadata": {},
     "output_type": "execute_result"
    }
   ],
   "source": [
    "df.head()"
   ]
  },
  {
   "cell_type": "code",
   "execution_count": 46,
   "metadata": {},
   "outputs": [],
   "source": [
    "df = df.merge(user_internet, on=['user_id','month'], how = 'outer')"
   ]
  },
  {
   "cell_type": "code",
   "execution_count": 47,
   "metadata": {},
   "outputs": [
    {
     "data": {
      "text/html": [
       "<div>\n",
       "<style scoped>\n",
       "    .dataframe tbody tr th:only-of-type {\n",
       "        vertical-align: middle;\n",
       "    }\n",
       "\n",
       "    .dataframe tbody tr th {\n",
       "        vertical-align: top;\n",
       "    }\n",
       "\n",
       "    .dataframe thead th {\n",
       "        text-align: right;\n",
       "    }\n",
       "</style>\n",
       "<table border=\"1\" class=\"dataframe\">\n",
       "  <thead>\n",
       "    <tr style=\"text-align: right;\">\n",
       "      <th></th>\n",
       "      <th>user_id</th>\n",
       "      <th>month</th>\n",
       "      <th>month_calls_duration</th>\n",
       "      <th>calls_total_in_month</th>\n",
       "      <th>sms_total_in_month</th>\n",
       "      <th>mb_total_in_month</th>\n",
       "    </tr>\n",
       "  </thead>\n",
       "  <tbody>\n",
       "    <tr>\n",
       "      <td>0</td>\n",
       "      <td>1000</td>\n",
       "      <td>August</td>\n",
       "      <td>418.0</td>\n",
       "      <td>52.0</td>\n",
       "      <td>81.0</td>\n",
       "      <td>14055.93</td>\n",
       "    </tr>\n",
       "    <tr>\n",
       "      <td>1</td>\n",
       "      <td>1000</td>\n",
       "      <td>December</td>\n",
       "      <td>341.0</td>\n",
       "      <td>46.0</td>\n",
       "      <td>70.0</td>\n",
       "      <td>9817.61</td>\n",
       "    </tr>\n",
       "    <tr>\n",
       "      <td>2</td>\n",
       "      <td>1000</td>\n",
       "      <td>July</td>\n",
       "      <td>346.0</td>\n",
       "      <td>47.0</td>\n",
       "      <td>75.0</td>\n",
       "      <td>14003.64</td>\n",
       "    </tr>\n",
       "    <tr>\n",
       "      <td>3</td>\n",
       "      <td>1000</td>\n",
       "      <td>June</td>\n",
       "      <td>187.0</td>\n",
       "      <td>43.0</td>\n",
       "      <td>60.0</td>\n",
       "      <td>23233.77</td>\n",
       "    </tr>\n",
       "    <tr>\n",
       "      <td>4</td>\n",
       "      <td>1000</td>\n",
       "      <td>May</td>\n",
       "      <td>164.0</td>\n",
       "      <td>22.0</td>\n",
       "      <td>22.0</td>\n",
       "      <td>2253.49</td>\n",
       "    </tr>\n",
       "  </tbody>\n",
       "</table>\n",
       "</div>"
      ],
      "text/plain": [
       "   user_id     month  month_calls_duration  calls_total_in_month  \\\n",
       "0     1000    August                 418.0                  52.0   \n",
       "1     1000  December                 341.0                  46.0   \n",
       "2     1000      July                 346.0                  47.0   \n",
       "3     1000      June                 187.0                  43.0   \n",
       "4     1000       May                 164.0                  22.0   \n",
       "\n",
       "   sms_total_in_month  mb_total_in_month  \n",
       "0                81.0           14055.93  \n",
       "1                70.0            9817.61  \n",
       "2                75.0           14003.64  \n",
       "3                60.0           23233.77  \n",
       "4                22.0            2253.49  "
      ]
     },
     "execution_count": 47,
     "metadata": {},
     "output_type": "execute_result"
    }
   ],
   "source": [
    "df.head()"
   ]
  },
  {
   "cell_type": "code",
   "execution_count": 48,
   "metadata": {},
   "outputs": [
    {
     "data": {
      "text/html": [
       "<div>\n",
       "<style scoped>\n",
       "    .dataframe tbody tr th:only-of-type {\n",
       "        vertical-align: middle;\n",
       "    }\n",
       "\n",
       "    .dataframe tbody tr th {\n",
       "        vertical-align: top;\n",
       "    }\n",
       "\n",
       "    .dataframe thead th {\n",
       "        text-align: right;\n",
       "    }\n",
       "</style>\n",
       "<table border=\"1\" class=\"dataframe\">\n",
       "  <thead>\n",
       "    <tr style=\"text-align: right;\">\n",
       "      <th></th>\n",
       "      <th>messages_included</th>\n",
       "      <th>mb_per_month_included</th>\n",
       "      <th>minutes_included</th>\n",
       "      <th>rub_monthly_fee</th>\n",
       "      <th>rub_per_gb</th>\n",
       "      <th>rub_per_message</th>\n",
       "      <th>rub_per_minute</th>\n",
       "      <th>tariff</th>\n",
       "    </tr>\n",
       "  </thead>\n",
       "  <tbody>\n",
       "    <tr>\n",
       "      <td>0</td>\n",
       "      <td>50</td>\n",
       "      <td>15360</td>\n",
       "      <td>500</td>\n",
       "      <td>550</td>\n",
       "      <td>200</td>\n",
       "      <td>3</td>\n",
       "      <td>3</td>\n",
       "      <td>smart</td>\n",
       "    </tr>\n",
       "    <tr>\n",
       "      <td>1</td>\n",
       "      <td>1000</td>\n",
       "      <td>30720</td>\n",
       "      <td>3000</td>\n",
       "      <td>1950</td>\n",
       "      <td>150</td>\n",
       "      <td>1</td>\n",
       "      <td>1</td>\n",
       "      <td>ultra</td>\n",
       "    </tr>\n",
       "  </tbody>\n",
       "</table>\n",
       "</div>"
      ],
      "text/plain": [
       "   messages_included  mb_per_month_included  minutes_included  \\\n",
       "0                 50                  15360               500   \n",
       "1               1000                  30720              3000   \n",
       "\n",
       "   rub_monthly_fee  rub_per_gb  rub_per_message  rub_per_minute tariff  \n",
       "0              550         200                3               3  smart  \n",
       "1             1950         150                1               1  ultra  "
      ]
     },
     "execution_count": 48,
     "metadata": {},
     "output_type": "execute_result"
    }
   ],
   "source": [
    "tariffs.head()"
   ]
  },
  {
   "cell_type": "code",
   "execution_count": 49,
   "metadata": {},
   "outputs": [
    {
     "data": {
      "text/html": [
       "<div>\n",
       "<style scoped>\n",
       "    .dataframe tbody tr th:only-of-type {\n",
       "        vertical-align: middle;\n",
       "    }\n",
       "\n",
       "    .dataframe tbody tr th {\n",
       "        vertical-align: top;\n",
       "    }\n",
       "\n",
       "    .dataframe thead th {\n",
       "        text-align: right;\n",
       "    }\n",
       "</style>\n",
       "<table border=\"1\" class=\"dataframe\">\n",
       "  <thead>\n",
       "    <tr style=\"text-align: right;\">\n",
       "      <th></th>\n",
       "      <th>user_id</th>\n",
       "      <th>age</th>\n",
       "      <th>churn_date</th>\n",
       "      <th>city</th>\n",
       "      <th>first_name</th>\n",
       "      <th>last_name</th>\n",
       "      <th>reg_date</th>\n",
       "      <th>tariff</th>\n",
       "    </tr>\n",
       "  </thead>\n",
       "  <tbody>\n",
       "    <tr>\n",
       "      <td>0</td>\n",
       "      <td>1000</td>\n",
       "      <td>52</td>\n",
       "      <td>NaT</td>\n",
       "      <td>Краснодар</td>\n",
       "      <td>Рафаил</td>\n",
       "      <td>Верещагин</td>\n",
       "      <td>2018-05-25</td>\n",
       "      <td>ultra</td>\n",
       "    </tr>\n",
       "    <tr>\n",
       "      <td>1</td>\n",
       "      <td>1001</td>\n",
       "      <td>41</td>\n",
       "      <td>NaT</td>\n",
       "      <td>Москва</td>\n",
       "      <td>Иван</td>\n",
       "      <td>Ежов</td>\n",
       "      <td>2018-11-01</td>\n",
       "      <td>smart</td>\n",
       "    </tr>\n",
       "    <tr>\n",
       "      <td>2</td>\n",
       "      <td>1002</td>\n",
       "      <td>59</td>\n",
       "      <td>NaT</td>\n",
       "      <td>Стерлитамак</td>\n",
       "      <td>Евгений</td>\n",
       "      <td>Абрамович</td>\n",
       "      <td>2018-06-17</td>\n",
       "      <td>smart</td>\n",
       "    </tr>\n",
       "    <tr>\n",
       "      <td>3</td>\n",
       "      <td>1003</td>\n",
       "      <td>23</td>\n",
       "      <td>NaT</td>\n",
       "      <td>Москва</td>\n",
       "      <td>Белла</td>\n",
       "      <td>Белякова</td>\n",
       "      <td>2018-08-17</td>\n",
       "      <td>ultra</td>\n",
       "    </tr>\n",
       "    <tr>\n",
       "      <td>4</td>\n",
       "      <td>1004</td>\n",
       "      <td>68</td>\n",
       "      <td>NaT</td>\n",
       "      <td>Новокузнецк</td>\n",
       "      <td>Татьяна</td>\n",
       "      <td>Авдеенко</td>\n",
       "      <td>2018-05-14</td>\n",
       "      <td>ultra</td>\n",
       "    </tr>\n",
       "  </tbody>\n",
       "</table>\n",
       "</div>"
      ],
      "text/plain": [
       "   user_id  age churn_date         city first_name  last_name   reg_date  \\\n",
       "0     1000   52        NaT    Краснодар     Рафаил  Верещагин 2018-05-25   \n",
       "1     1001   41        NaT       Москва       Иван       Ежов 2018-11-01   \n",
       "2     1002   59        NaT  Стерлитамак    Евгений  Абрамович 2018-06-17   \n",
       "3     1003   23        NaT       Москва      Белла   Белякова 2018-08-17   \n",
       "4     1004   68        NaT  Новокузнецк    Татьяна   Авдеенко 2018-05-14   \n",
       "\n",
       "  tariff  \n",
       "0  ultra  \n",
       "1  smart  \n",
       "2  smart  \n",
       "3  ultra  \n",
       "4  ultra  "
      ]
     },
     "execution_count": 49,
     "metadata": {},
     "output_type": "execute_result"
    }
   ],
   "source": [
    "users.head()"
   ]
  },
  {
   "cell_type": "code",
   "execution_count": 50,
   "metadata": {},
   "outputs": [
    {
     "data": {
      "text/html": [
       "<div>\n",
       "<style scoped>\n",
       "    .dataframe tbody tr th:only-of-type {\n",
       "        vertical-align: middle;\n",
       "    }\n",
       "\n",
       "    .dataframe tbody tr th {\n",
       "        vertical-align: top;\n",
       "    }\n",
       "\n",
       "    .dataframe thead th {\n",
       "        text-align: right;\n",
       "    }\n",
       "</style>\n",
       "<table border=\"1\" class=\"dataframe\">\n",
       "  <thead>\n",
       "    <tr style=\"text-align: right;\">\n",
       "      <th></th>\n",
       "      <th>user_id</th>\n",
       "      <th>month</th>\n",
       "      <th>month_calls_duration</th>\n",
       "      <th>calls_total_in_month</th>\n",
       "      <th>sms_total_in_month</th>\n",
       "      <th>mb_total_in_month</th>\n",
       "      <th>age</th>\n",
       "      <th>churn_date</th>\n",
       "      <th>city</th>\n",
       "      <th>first_name</th>\n",
       "      <th>last_name</th>\n",
       "      <th>reg_date</th>\n",
       "      <th>tariff</th>\n",
       "    </tr>\n",
       "  </thead>\n",
       "  <tbody>\n",
       "    <tr>\n",
       "      <td>0</td>\n",
       "      <td>1000</td>\n",
       "      <td>August</td>\n",
       "      <td>418.0</td>\n",
       "      <td>52.0</td>\n",
       "      <td>81.0</td>\n",
       "      <td>14055.93</td>\n",
       "      <td>52</td>\n",
       "      <td>NaT</td>\n",
       "      <td>Краснодар</td>\n",
       "      <td>Рафаил</td>\n",
       "      <td>Верещагин</td>\n",
       "      <td>2018-05-25</td>\n",
       "      <td>ultra</td>\n",
       "    </tr>\n",
       "    <tr>\n",
       "      <td>1</td>\n",
       "      <td>1000</td>\n",
       "      <td>December</td>\n",
       "      <td>341.0</td>\n",
       "      <td>46.0</td>\n",
       "      <td>70.0</td>\n",
       "      <td>9817.61</td>\n",
       "      <td>52</td>\n",
       "      <td>NaT</td>\n",
       "      <td>Краснодар</td>\n",
       "      <td>Рафаил</td>\n",
       "      <td>Верещагин</td>\n",
       "      <td>2018-05-25</td>\n",
       "      <td>ultra</td>\n",
       "    </tr>\n",
       "    <tr>\n",
       "      <td>2</td>\n",
       "      <td>1000</td>\n",
       "      <td>July</td>\n",
       "      <td>346.0</td>\n",
       "      <td>47.0</td>\n",
       "      <td>75.0</td>\n",
       "      <td>14003.64</td>\n",
       "      <td>52</td>\n",
       "      <td>NaT</td>\n",
       "      <td>Краснодар</td>\n",
       "      <td>Рафаил</td>\n",
       "      <td>Верещагин</td>\n",
       "      <td>2018-05-25</td>\n",
       "      <td>ultra</td>\n",
       "    </tr>\n",
       "    <tr>\n",
       "      <td>3</td>\n",
       "      <td>1000</td>\n",
       "      <td>June</td>\n",
       "      <td>187.0</td>\n",
       "      <td>43.0</td>\n",
       "      <td>60.0</td>\n",
       "      <td>23233.77</td>\n",
       "      <td>52</td>\n",
       "      <td>NaT</td>\n",
       "      <td>Краснодар</td>\n",
       "      <td>Рафаил</td>\n",
       "      <td>Верещагин</td>\n",
       "      <td>2018-05-25</td>\n",
       "      <td>ultra</td>\n",
       "    </tr>\n",
       "    <tr>\n",
       "      <td>4</td>\n",
       "      <td>1000</td>\n",
       "      <td>May</td>\n",
       "      <td>164.0</td>\n",
       "      <td>22.0</td>\n",
       "      <td>22.0</td>\n",
       "      <td>2253.49</td>\n",
       "      <td>52</td>\n",
       "      <td>NaT</td>\n",
       "      <td>Краснодар</td>\n",
       "      <td>Рафаил</td>\n",
       "      <td>Верещагин</td>\n",
       "      <td>2018-05-25</td>\n",
       "      <td>ultra</td>\n",
       "    </tr>\n",
       "  </tbody>\n",
       "</table>\n",
       "</div>"
      ],
      "text/plain": [
       "   user_id     month  month_calls_duration  calls_total_in_month  \\\n",
       "0     1000    August                 418.0                  52.0   \n",
       "1     1000  December                 341.0                  46.0   \n",
       "2     1000      July                 346.0                  47.0   \n",
       "3     1000      June                 187.0                  43.0   \n",
       "4     1000       May                 164.0                  22.0   \n",
       "\n",
       "   sms_total_in_month  mb_total_in_month  age churn_date       city  \\\n",
       "0                81.0           14055.93   52        NaT  Краснодар   \n",
       "1                70.0            9817.61   52        NaT  Краснодар   \n",
       "2                75.0           14003.64   52        NaT  Краснодар   \n",
       "3                60.0           23233.77   52        NaT  Краснодар   \n",
       "4                22.0            2253.49   52        NaT  Краснодар   \n",
       "\n",
       "  first_name  last_name   reg_date tariff  \n",
       "0     Рафаил  Верещагин 2018-05-25  ultra  \n",
       "1     Рафаил  Верещагин 2018-05-25  ultra  \n",
       "2     Рафаил  Верещагин 2018-05-25  ultra  \n",
       "3     Рафаил  Верещагин 2018-05-25  ultra  \n",
       "4     Рафаил  Верещагин 2018-05-25  ultra  "
      ]
     },
     "execution_count": 50,
     "metadata": {},
     "output_type": "execute_result"
    }
   ],
   "source": [
    "df = df.merge(users, on='user_id', how='left')\n",
    "df.head()"
   ]
  },
  {
   "cell_type": "code",
   "execution_count": 51,
   "metadata": {},
   "outputs": [
    {
     "data": {
      "text/html": [
       "<div>\n",
       "<style scoped>\n",
       "    .dataframe tbody tr th:only-of-type {\n",
       "        vertical-align: middle;\n",
       "    }\n",
       "\n",
       "    .dataframe tbody tr th {\n",
       "        vertical-align: top;\n",
       "    }\n",
       "\n",
       "    .dataframe thead th {\n",
       "        text-align: right;\n",
       "    }\n",
       "</style>\n",
       "<table border=\"1\" class=\"dataframe\">\n",
       "  <thead>\n",
       "    <tr style=\"text-align: right;\">\n",
       "      <th></th>\n",
       "      <th>user_id</th>\n",
       "      <th>month</th>\n",
       "      <th>month_calls_duration</th>\n",
       "      <th>calls_total_in_month</th>\n",
       "      <th>sms_total_in_month</th>\n",
       "      <th>mb_total_in_month</th>\n",
       "      <th>age</th>\n",
       "      <th>churn_date</th>\n",
       "      <th>city</th>\n",
       "      <th>first_name</th>\n",
       "      <th>last_name</th>\n",
       "      <th>reg_date</th>\n",
       "      <th>tariff</th>\n",
       "      <th>messages_included</th>\n",
       "      <th>mb_per_month_included</th>\n",
       "      <th>minutes_included</th>\n",
       "      <th>rub_monthly_fee</th>\n",
       "      <th>rub_per_gb</th>\n",
       "      <th>rub_per_message</th>\n",
       "      <th>rub_per_minute</th>\n",
       "    </tr>\n",
       "  </thead>\n",
       "  <tbody>\n",
       "    <tr>\n",
       "      <td>0</td>\n",
       "      <td>1000</td>\n",
       "      <td>August</td>\n",
       "      <td>418.0</td>\n",
       "      <td>52.0</td>\n",
       "      <td>81.0</td>\n",
       "      <td>14055.93</td>\n",
       "      <td>52</td>\n",
       "      <td>NaT</td>\n",
       "      <td>Краснодар</td>\n",
       "      <td>Рафаил</td>\n",
       "      <td>Верещагин</td>\n",
       "      <td>2018-05-25</td>\n",
       "      <td>ultra</td>\n",
       "      <td>1000</td>\n",
       "      <td>30720</td>\n",
       "      <td>3000</td>\n",
       "      <td>1950</td>\n",
       "      <td>150</td>\n",
       "      <td>1</td>\n",
       "      <td>1</td>\n",
       "    </tr>\n",
       "    <tr>\n",
       "      <td>1</td>\n",
       "      <td>1000</td>\n",
       "      <td>December</td>\n",
       "      <td>341.0</td>\n",
       "      <td>46.0</td>\n",
       "      <td>70.0</td>\n",
       "      <td>9817.61</td>\n",
       "      <td>52</td>\n",
       "      <td>NaT</td>\n",
       "      <td>Краснодар</td>\n",
       "      <td>Рафаил</td>\n",
       "      <td>Верещагин</td>\n",
       "      <td>2018-05-25</td>\n",
       "      <td>ultra</td>\n",
       "      <td>1000</td>\n",
       "      <td>30720</td>\n",
       "      <td>3000</td>\n",
       "      <td>1950</td>\n",
       "      <td>150</td>\n",
       "      <td>1</td>\n",
       "      <td>1</td>\n",
       "    </tr>\n",
       "    <tr>\n",
       "      <td>2</td>\n",
       "      <td>1000</td>\n",
       "      <td>July</td>\n",
       "      <td>346.0</td>\n",
       "      <td>47.0</td>\n",
       "      <td>75.0</td>\n",
       "      <td>14003.64</td>\n",
       "      <td>52</td>\n",
       "      <td>NaT</td>\n",
       "      <td>Краснодар</td>\n",
       "      <td>Рафаил</td>\n",
       "      <td>Верещагин</td>\n",
       "      <td>2018-05-25</td>\n",
       "      <td>ultra</td>\n",
       "      <td>1000</td>\n",
       "      <td>30720</td>\n",
       "      <td>3000</td>\n",
       "      <td>1950</td>\n",
       "      <td>150</td>\n",
       "      <td>1</td>\n",
       "      <td>1</td>\n",
       "    </tr>\n",
       "    <tr>\n",
       "      <td>3</td>\n",
       "      <td>1000</td>\n",
       "      <td>June</td>\n",
       "      <td>187.0</td>\n",
       "      <td>43.0</td>\n",
       "      <td>60.0</td>\n",
       "      <td>23233.77</td>\n",
       "      <td>52</td>\n",
       "      <td>NaT</td>\n",
       "      <td>Краснодар</td>\n",
       "      <td>Рафаил</td>\n",
       "      <td>Верещагин</td>\n",
       "      <td>2018-05-25</td>\n",
       "      <td>ultra</td>\n",
       "      <td>1000</td>\n",
       "      <td>30720</td>\n",
       "      <td>3000</td>\n",
       "      <td>1950</td>\n",
       "      <td>150</td>\n",
       "      <td>1</td>\n",
       "      <td>1</td>\n",
       "    </tr>\n",
       "    <tr>\n",
       "      <td>4</td>\n",
       "      <td>1000</td>\n",
       "      <td>May</td>\n",
       "      <td>164.0</td>\n",
       "      <td>22.0</td>\n",
       "      <td>22.0</td>\n",
       "      <td>2253.49</td>\n",
       "      <td>52</td>\n",
       "      <td>NaT</td>\n",
       "      <td>Краснодар</td>\n",
       "      <td>Рафаил</td>\n",
       "      <td>Верещагин</td>\n",
       "      <td>2018-05-25</td>\n",
       "      <td>ultra</td>\n",
       "      <td>1000</td>\n",
       "      <td>30720</td>\n",
       "      <td>3000</td>\n",
       "      <td>1950</td>\n",
       "      <td>150</td>\n",
       "      <td>1</td>\n",
       "      <td>1</td>\n",
       "    </tr>\n",
       "  </tbody>\n",
       "</table>\n",
       "</div>"
      ],
      "text/plain": [
       "   user_id     month  month_calls_duration  calls_total_in_month  \\\n",
       "0     1000    August                 418.0                  52.0   \n",
       "1     1000  December                 341.0                  46.0   \n",
       "2     1000      July                 346.0                  47.0   \n",
       "3     1000      June                 187.0                  43.0   \n",
       "4     1000       May                 164.0                  22.0   \n",
       "\n",
       "   sms_total_in_month  mb_total_in_month  age churn_date       city  \\\n",
       "0                81.0           14055.93   52        NaT  Краснодар   \n",
       "1                70.0            9817.61   52        NaT  Краснодар   \n",
       "2                75.0           14003.64   52        NaT  Краснодар   \n",
       "3                60.0           23233.77   52        NaT  Краснодар   \n",
       "4                22.0            2253.49   52        NaT  Краснодар   \n",
       "\n",
       "  first_name  last_name   reg_date tariff  messages_included  \\\n",
       "0     Рафаил  Верещагин 2018-05-25  ultra               1000   \n",
       "1     Рафаил  Верещагин 2018-05-25  ultra               1000   \n",
       "2     Рафаил  Верещагин 2018-05-25  ultra               1000   \n",
       "3     Рафаил  Верещагин 2018-05-25  ultra               1000   \n",
       "4     Рафаил  Верещагин 2018-05-25  ultra               1000   \n",
       "\n",
       "   mb_per_month_included  minutes_included  rub_monthly_fee  rub_per_gb  \\\n",
       "0                  30720              3000             1950         150   \n",
       "1                  30720              3000             1950         150   \n",
       "2                  30720              3000             1950         150   \n",
       "3                  30720              3000             1950         150   \n",
       "4                  30720              3000             1950         150   \n",
       "\n",
       "   rub_per_message  rub_per_minute  \n",
       "0                1               1  \n",
       "1                1               1  \n",
       "2                1               1  \n",
       "3                1               1  \n",
       "4                1               1  "
      ]
     },
     "execution_count": 51,
     "metadata": {},
     "output_type": "execute_result"
    }
   ],
   "source": [
    "df = df.merge(tariffs, on='tariff', how='left')\n",
    "df.head()"
   ]
  },
  {
   "cell_type": "code",
   "execution_count": 52,
   "metadata": {},
   "outputs": [
    {
     "data": {
      "text/plain": [
       "user_id                     0\n",
       "month                       0\n",
       "month_calls_duration       40\n",
       "calls_total_in_month       40\n",
       "sms_total_in_month        497\n",
       "mb_total_in_month          11\n",
       "age                         0\n",
       "churn_date               3027\n",
       "city                        0\n",
       "first_name                  0\n",
       "last_name                   0\n",
       "reg_date                    0\n",
       "tariff                      0\n",
       "messages_included           0\n",
       "mb_per_month_included       0\n",
       "minutes_included            0\n",
       "rub_monthly_fee             0\n",
       "rub_per_gb                  0\n",
       "rub_per_message             0\n",
       "rub_per_minute              0\n",
       "dtype: int64"
      ]
     },
     "execution_count": 52,
     "metadata": {},
     "output_type": "execute_result"
    }
   ],
   "source": [
    "df.isna().sum()"
   ]
  },
  {
   "cell_type": "code",
   "execution_count": 92,
   "metadata": {},
   "outputs": [
    {
     "data": {
      "text/plain": [
       "498"
      ]
     },
     "execution_count": 92,
     "metadata": {},
     "output_type": "execute_result"
    }
   ],
   "source": [
    "df.user_id.nunique()"
   ]
  },
  {
   "cell_type": "code",
   "execution_count": 53,
   "metadata": {},
   "outputs": [],
   "source": [
    "df['sms_total_in_month'] = df['sms_total_in_month'].fillna(0)\n",
    "df['mb_total_in_month'] = df['mb_total_in_month'].fillna(0)\n",
    "df['month_calls_duration'] = df['month_calls_duration'].fillna(0)\n",
    "df['calls_total_in_month'] = df['calls_total_in_month'].fillna(0)"
   ]
  },
  {
   "cell_type": "code",
   "execution_count": 54,
   "metadata": {},
   "outputs": [
    {
     "data": {
      "text/plain": [
       "user_id                     0\n",
       "month                       0\n",
       "month_calls_duration        0\n",
       "calls_total_in_month        0\n",
       "sms_total_in_month          0\n",
       "mb_total_in_month           0\n",
       "age                         0\n",
       "churn_date               3027\n",
       "city                        0\n",
       "first_name                  0\n",
       "last_name                   0\n",
       "reg_date                    0\n",
       "tariff                      0\n",
       "messages_included           0\n",
       "mb_per_month_included       0\n",
       "minutes_included            0\n",
       "rub_monthly_fee             0\n",
       "rub_per_gb                  0\n",
       "rub_per_message             0\n",
       "rub_per_minute              0\n",
       "dtype: int64"
      ]
     },
     "execution_count": 54,
     "metadata": {},
     "output_type": "execute_result"
    }
   ],
   "source": [
    "df.isna().sum()"
   ]
  },
  {
   "cell_type": "code",
   "execution_count": 55,
   "metadata": {},
   "outputs": [
    {
     "data": {
      "text/plain": [
       "0"
      ]
     },
     "execution_count": 55,
     "metadata": {},
     "output_type": "execute_result"
    }
   ],
   "source": [
    "df.duplicated().sum()"
   ]
  },
  {
   "cell_type": "code",
   "execution_count": 56,
   "metadata": {},
   "outputs": [],
   "source": [
    "def above_the_tariff(row):\n",
    "    sms = (row['sms_total_in_month'] - row['messages_included']) * row['rub_per_message']\n",
    "    mins = (row['month_calls_duration'] - row['minutes_included']) * row['rub_per_minute']\n",
    "    mbs = np.floor((row['mb_total_in_month'] - row['mb_per_month_included']) * row['rub_per_gb'] / 1024)\n",
    "    total = 0\n",
    "    for i in [sms, mins, mbs]:\n",
    "        if i > 0:\n",
    "            total += i\n",
    "    return total"
   ]
  },
  {
   "cell_type": "code",
   "execution_count": 57,
   "metadata": {},
   "outputs": [
    {
     "data": {
      "text/html": [
       "<div>\n",
       "<style scoped>\n",
       "    .dataframe tbody tr th:only-of-type {\n",
       "        vertical-align: middle;\n",
       "    }\n",
       "\n",
       "    .dataframe tbody tr th {\n",
       "        vertical-align: top;\n",
       "    }\n",
       "\n",
       "    .dataframe thead th {\n",
       "        text-align: right;\n",
       "    }\n",
       "</style>\n",
       "<table border=\"1\" class=\"dataframe\">\n",
       "  <thead>\n",
       "    <tr style=\"text-align: right;\">\n",
       "      <th></th>\n",
       "      <th>user_id</th>\n",
       "      <th>month</th>\n",
       "      <th>month_calls_duration</th>\n",
       "      <th>calls_total_in_month</th>\n",
       "      <th>sms_total_in_month</th>\n",
       "      <th>mb_total_in_month</th>\n",
       "      <th>age</th>\n",
       "      <th>churn_date</th>\n",
       "      <th>city</th>\n",
       "      <th>first_name</th>\n",
       "      <th>last_name</th>\n",
       "      <th>reg_date</th>\n",
       "      <th>tariff</th>\n",
       "      <th>messages_included</th>\n",
       "      <th>mb_per_month_included</th>\n",
       "      <th>minutes_included</th>\n",
       "      <th>rub_monthly_fee</th>\n",
       "      <th>rub_per_gb</th>\n",
       "      <th>rub_per_message</th>\n",
       "      <th>rub_per_minute</th>\n",
       "    </tr>\n",
       "  </thead>\n",
       "  <tbody>\n",
       "    <tr>\n",
       "      <td>0</td>\n",
       "      <td>1000</td>\n",
       "      <td>August</td>\n",
       "      <td>418.0</td>\n",
       "      <td>52.0</td>\n",
       "      <td>81.0</td>\n",
       "      <td>14055.93</td>\n",
       "      <td>52</td>\n",
       "      <td>NaT</td>\n",
       "      <td>Краснодар</td>\n",
       "      <td>Рафаил</td>\n",
       "      <td>Верещагин</td>\n",
       "      <td>2018-05-25</td>\n",
       "      <td>ultra</td>\n",
       "      <td>1000</td>\n",
       "      <td>30720</td>\n",
       "      <td>3000</td>\n",
       "      <td>1950</td>\n",
       "      <td>150</td>\n",
       "      <td>1</td>\n",
       "      <td>1</td>\n",
       "    </tr>\n",
       "    <tr>\n",
       "      <td>1</td>\n",
       "      <td>1000</td>\n",
       "      <td>December</td>\n",
       "      <td>341.0</td>\n",
       "      <td>46.0</td>\n",
       "      <td>70.0</td>\n",
       "      <td>9817.61</td>\n",
       "      <td>52</td>\n",
       "      <td>NaT</td>\n",
       "      <td>Краснодар</td>\n",
       "      <td>Рафаил</td>\n",
       "      <td>Верещагин</td>\n",
       "      <td>2018-05-25</td>\n",
       "      <td>ultra</td>\n",
       "      <td>1000</td>\n",
       "      <td>30720</td>\n",
       "      <td>3000</td>\n",
       "      <td>1950</td>\n",
       "      <td>150</td>\n",
       "      <td>1</td>\n",
       "      <td>1</td>\n",
       "    </tr>\n",
       "    <tr>\n",
       "      <td>2</td>\n",
       "      <td>1000</td>\n",
       "      <td>July</td>\n",
       "      <td>346.0</td>\n",
       "      <td>47.0</td>\n",
       "      <td>75.0</td>\n",
       "      <td>14003.64</td>\n",
       "      <td>52</td>\n",
       "      <td>NaT</td>\n",
       "      <td>Краснодар</td>\n",
       "      <td>Рафаил</td>\n",
       "      <td>Верещагин</td>\n",
       "      <td>2018-05-25</td>\n",
       "      <td>ultra</td>\n",
       "      <td>1000</td>\n",
       "      <td>30720</td>\n",
       "      <td>3000</td>\n",
       "      <td>1950</td>\n",
       "      <td>150</td>\n",
       "      <td>1</td>\n",
       "      <td>1</td>\n",
       "    </tr>\n",
       "    <tr>\n",
       "      <td>3</td>\n",
       "      <td>1000</td>\n",
       "      <td>June</td>\n",
       "      <td>187.0</td>\n",
       "      <td>43.0</td>\n",
       "      <td>60.0</td>\n",
       "      <td>23233.77</td>\n",
       "      <td>52</td>\n",
       "      <td>NaT</td>\n",
       "      <td>Краснодар</td>\n",
       "      <td>Рафаил</td>\n",
       "      <td>Верещагин</td>\n",
       "      <td>2018-05-25</td>\n",
       "      <td>ultra</td>\n",
       "      <td>1000</td>\n",
       "      <td>30720</td>\n",
       "      <td>3000</td>\n",
       "      <td>1950</td>\n",
       "      <td>150</td>\n",
       "      <td>1</td>\n",
       "      <td>1</td>\n",
       "    </tr>\n",
       "    <tr>\n",
       "      <td>4</td>\n",
       "      <td>1000</td>\n",
       "      <td>May</td>\n",
       "      <td>164.0</td>\n",
       "      <td>22.0</td>\n",
       "      <td>22.0</td>\n",
       "      <td>2253.49</td>\n",
       "      <td>52</td>\n",
       "      <td>NaT</td>\n",
       "      <td>Краснодар</td>\n",
       "      <td>Рафаил</td>\n",
       "      <td>Верещагин</td>\n",
       "      <td>2018-05-25</td>\n",
       "      <td>ultra</td>\n",
       "      <td>1000</td>\n",
       "      <td>30720</td>\n",
       "      <td>3000</td>\n",
       "      <td>1950</td>\n",
       "      <td>150</td>\n",
       "      <td>1</td>\n",
       "      <td>1</td>\n",
       "    </tr>\n",
       "  </tbody>\n",
       "</table>\n",
       "</div>"
      ],
      "text/plain": [
       "   user_id     month  month_calls_duration  calls_total_in_month  \\\n",
       "0     1000    August                 418.0                  52.0   \n",
       "1     1000  December                 341.0                  46.0   \n",
       "2     1000      July                 346.0                  47.0   \n",
       "3     1000      June                 187.0                  43.0   \n",
       "4     1000       May                 164.0                  22.0   \n",
       "\n",
       "   sms_total_in_month  mb_total_in_month  age churn_date       city  \\\n",
       "0                81.0           14055.93   52        NaT  Краснодар   \n",
       "1                70.0            9817.61   52        NaT  Краснодар   \n",
       "2                75.0           14003.64   52        NaT  Краснодар   \n",
       "3                60.0           23233.77   52        NaT  Краснодар   \n",
       "4                22.0            2253.49   52        NaT  Краснодар   \n",
       "\n",
       "  first_name  last_name   reg_date tariff  messages_included  \\\n",
       "0     Рафаил  Верещагин 2018-05-25  ultra               1000   \n",
       "1     Рафаил  Верещагин 2018-05-25  ultra               1000   \n",
       "2     Рафаил  Верещагин 2018-05-25  ultra               1000   \n",
       "3     Рафаил  Верещагин 2018-05-25  ultra               1000   \n",
       "4     Рафаил  Верещагин 2018-05-25  ultra               1000   \n",
       "\n",
       "   mb_per_month_included  minutes_included  rub_monthly_fee  rub_per_gb  \\\n",
       "0                  30720              3000             1950         150   \n",
       "1                  30720              3000             1950         150   \n",
       "2                  30720              3000             1950         150   \n",
       "3                  30720              3000             1950         150   \n",
       "4                  30720              3000             1950         150   \n",
       "\n",
       "   rub_per_message  rub_per_minute  \n",
       "0                1               1  \n",
       "1                1               1  \n",
       "2                1               1  \n",
       "3                1               1  \n",
       "4                1               1  "
      ]
     },
     "execution_count": 57,
     "metadata": {},
     "output_type": "execute_result"
    }
   ],
   "source": [
    "df.head()"
   ]
  },
  {
   "cell_type": "code",
   "execution_count": 58,
   "metadata": {},
   "outputs": [],
   "source": [
    "df['above_the_tariff'] = df.apply(lambda x: above_the_tariff(x), axis=1)"
   ]
  },
  {
   "cell_type": "code",
   "execution_count": 59,
   "metadata": {},
   "outputs": [],
   "source": [
    "df['total_paid'] = df['rub_monthly_fee'] + df['above_the_tariff']"
   ]
  },
  {
   "cell_type": "code",
   "execution_count": 60,
   "metadata": {},
   "outputs": [
    {
     "data": {
      "text/html": [
       "<div>\n",
       "<style scoped>\n",
       "    .dataframe tbody tr th:only-of-type {\n",
       "        vertical-align: middle;\n",
       "    }\n",
       "\n",
       "    .dataframe tbody tr th {\n",
       "        vertical-align: top;\n",
       "    }\n",
       "\n",
       "    .dataframe thead th {\n",
       "        text-align: right;\n",
       "    }\n",
       "</style>\n",
       "<table border=\"1\" class=\"dataframe\">\n",
       "  <thead>\n",
       "    <tr style=\"text-align: right;\">\n",
       "      <th></th>\n",
       "      <th>user_id</th>\n",
       "      <th>month</th>\n",
       "      <th>month_calls_duration</th>\n",
       "      <th>calls_total_in_month</th>\n",
       "      <th>sms_total_in_month</th>\n",
       "      <th>mb_total_in_month</th>\n",
       "      <th>age</th>\n",
       "      <th>churn_date</th>\n",
       "      <th>city</th>\n",
       "      <th>first_name</th>\n",
       "      <th>...</th>\n",
       "      <th>tariff</th>\n",
       "      <th>messages_included</th>\n",
       "      <th>mb_per_month_included</th>\n",
       "      <th>minutes_included</th>\n",
       "      <th>rub_monthly_fee</th>\n",
       "      <th>rub_per_gb</th>\n",
       "      <th>rub_per_message</th>\n",
       "      <th>rub_per_minute</th>\n",
       "      <th>above_the_tariff</th>\n",
       "      <th>total_paid</th>\n",
       "    </tr>\n",
       "  </thead>\n",
       "  <tbody>\n",
       "    <tr>\n",
       "      <td>1792</td>\n",
       "      <td>1286</td>\n",
       "      <td>December</td>\n",
       "      <td>751.0</td>\n",
       "      <td>95.0</td>\n",
       "      <td>68.0</td>\n",
       "      <td>35108.07</td>\n",
       "      <td>19</td>\n",
       "      <td>NaT</td>\n",
       "      <td>Москва</td>\n",
       "      <td>Рашид</td>\n",
       "      <td>...</td>\n",
       "      <td>smart</td>\n",
       "      <td>50</td>\n",
       "      <td>15360</td>\n",
       "      <td>500</td>\n",
       "      <td>550</td>\n",
       "      <td>200</td>\n",
       "      <td>3</td>\n",
       "      <td>3</td>\n",
       "      <td>4664.0</td>\n",
       "      <td>5214.0</td>\n",
       "    </tr>\n",
       "    <tr>\n",
       "      <td>3105</td>\n",
       "      <td>1486</td>\n",
       "      <td>November</td>\n",
       "      <td>788.0</td>\n",
       "      <td>108.0</td>\n",
       "      <td>96.0</td>\n",
       "      <td>36266.11</td>\n",
       "      <td>35</td>\n",
       "      <td>NaT</td>\n",
       "      <td>Нижний Новгород</td>\n",
       "      <td>Матвей</td>\n",
       "      <td>...</td>\n",
       "      <td>smart</td>\n",
       "      <td>50</td>\n",
       "      <td>15360</td>\n",
       "      <td>500</td>\n",
       "      <td>550</td>\n",
       "      <td>200</td>\n",
       "      <td>3</td>\n",
       "      <td>3</td>\n",
       "      <td>5085.0</td>\n",
       "      <td>5635.0</td>\n",
       "    </tr>\n",
       "    <tr>\n",
       "      <td>259</td>\n",
       "      <td>1042</td>\n",
       "      <td>December</td>\n",
       "      <td>755.0</td>\n",
       "      <td>121.0</td>\n",
       "      <td>75.0</td>\n",
       "      <td>37165.69</td>\n",
       "      <td>42</td>\n",
       "      <td>NaT</td>\n",
       "      <td>Хабаровск</td>\n",
       "      <td>Константин</td>\n",
       "      <td>...</td>\n",
       "      <td>smart</td>\n",
       "      <td>50</td>\n",
       "      <td>15360</td>\n",
       "      <td>500</td>\n",
       "      <td>550</td>\n",
       "      <td>200</td>\n",
       "      <td>3</td>\n",
       "      <td>3</td>\n",
       "      <td>5098.0</td>\n",
       "      <td>5648.0</td>\n",
       "    </tr>\n",
       "    <tr>\n",
       "      <td>1620</td>\n",
       "      <td>1261</td>\n",
       "      <td>December</td>\n",
       "      <td>1102.0</td>\n",
       "      <td>141.0</td>\n",
       "      <td>22.0</td>\n",
       "      <td>32650.91</td>\n",
       "      <td>46</td>\n",
       "      <td>NaT</td>\n",
       "      <td>Казань</td>\n",
       "      <td>Мадина</td>\n",
       "      <td>...</td>\n",
       "      <td>smart</td>\n",
       "      <td>50</td>\n",
       "      <td>15360</td>\n",
       "      <td>500</td>\n",
       "      <td>550</td>\n",
       "      <td>200</td>\n",
       "      <td>3</td>\n",
       "      <td>3</td>\n",
       "      <td>5183.0</td>\n",
       "      <td>5733.0</td>\n",
       "    </tr>\n",
       "    <tr>\n",
       "      <td>3104</td>\n",
       "      <td>1486</td>\n",
       "      <td>December</td>\n",
       "      <td>1025.0</td>\n",
       "      <td>133.0</td>\n",
       "      <td>83.0</td>\n",
       "      <td>38552.45</td>\n",
       "      <td>35</td>\n",
       "      <td>NaT</td>\n",
       "      <td>Нижний Новгород</td>\n",
       "      <td>Матвей</td>\n",
       "      <td>...</td>\n",
       "      <td>smart</td>\n",
       "      <td>50</td>\n",
       "      <td>15360</td>\n",
       "      <td>500</td>\n",
       "      <td>550</td>\n",
       "      <td>200</td>\n",
       "      <td>3</td>\n",
       "      <td>3</td>\n",
       "      <td>6203.0</td>\n",
       "      <td>6753.0</td>\n",
       "    </tr>\n",
       "  </tbody>\n",
       "</table>\n",
       "<p>5 rows × 22 columns</p>\n",
       "</div>"
      ],
      "text/plain": [
       "      user_id     month  month_calls_duration  calls_total_in_month  \\\n",
       "1792     1286  December                 751.0                  95.0   \n",
       "3105     1486  November                 788.0                 108.0   \n",
       "259      1042  December                 755.0                 121.0   \n",
       "1620     1261  December                1102.0                 141.0   \n",
       "3104     1486  December                1025.0                 133.0   \n",
       "\n",
       "      sms_total_in_month  mb_total_in_month  age churn_date             city  \\\n",
       "1792                68.0           35108.07   19        NaT           Москва   \n",
       "3105                96.0           36266.11   35        NaT  Нижний Новгород   \n",
       "259                 75.0           37165.69   42        NaT        Хабаровск   \n",
       "1620                22.0           32650.91   46        NaT           Казань   \n",
       "3104                83.0           38552.45   35        NaT  Нижний Новгород   \n",
       "\n",
       "      first_name  ... tariff messages_included mb_per_month_included  \\\n",
       "1792       Рашид  ...  smart                50                 15360   \n",
       "3105      Матвей  ...  smart                50                 15360   \n",
       "259   Константин  ...  smart                50                 15360   \n",
       "1620      Мадина  ...  smart                50                 15360   \n",
       "3104      Матвей  ...  smart                50                 15360   \n",
       "\n",
       "      minutes_included  rub_monthly_fee  rub_per_gb  rub_per_message  \\\n",
       "1792               500              550         200                3   \n",
       "3105               500              550         200                3   \n",
       "259                500              550         200                3   \n",
       "1620               500              550         200                3   \n",
       "3104               500              550         200                3   \n",
       "\n",
       "      rub_per_minute  above_the_tariff  total_paid  \n",
       "1792               3            4664.0      5214.0  \n",
       "3105               3            5085.0      5635.0  \n",
       "259                3            5098.0      5648.0  \n",
       "1620               3            5183.0      5733.0  \n",
       "3104               3            6203.0      6753.0  \n",
       "\n",
       "[5 rows x 22 columns]"
      ]
     },
     "execution_count": 60,
     "metadata": {},
     "output_type": "execute_result"
    }
   ],
   "source": [
    "df.sort_values(by='total_paid').tail()"
   ]
  },
  {
   "cell_type": "markdown",
   "metadata": {},
   "source": [
    "В этом блоке получили итоговую месячную выручку с каждого абонента (total_paid), а так же очень полезная колонка above_the_tariff, которая говорит о том сколько каждый пользователь переплачивает сверх своей тарифной нормы"
   ]
  },
  {
   "cell_type": "markdown",
   "metadata": {},
   "source": [
    "## Шаг 3. Анализ данных"
   ]
  },
  {
   "cell_type": "markdown",
   "metadata": {},
   "source": [
    "Опишите поведение клиентов оператора, исходя из выборки. Сколько минут разговора, сколько сообщений и какой объём интернет-трафика требуется пользователям каждого тарифа в месяц? Посчитайте среднее количество, дисперсию и стандартное отклонение. Постройте гистограммы. Опишите распределения."
   ]
  },
  {
   "cell_type": "code",
   "execution_count": 61,
   "metadata": {},
   "outputs": [
    {
     "data": {
      "text/html": [
       "<div>\n",
       "<style scoped>\n",
       "    .dataframe tbody tr th:only-of-type {\n",
       "        vertical-align: middle;\n",
       "    }\n",
       "\n",
       "    .dataframe tbody tr th {\n",
       "        vertical-align: top;\n",
       "    }\n",
       "\n",
       "    .dataframe thead th {\n",
       "        text-align: right;\n",
       "    }\n",
       "</style>\n",
       "<table border=\"1\" class=\"dataframe\">\n",
       "  <thead>\n",
       "    <tr style=\"text-align: right;\">\n",
       "      <th></th>\n",
       "      <th>above_the_tariff</th>\n",
       "      <th>total_paid</th>\n",
       "    </tr>\n",
       "  </thead>\n",
       "  <tbody>\n",
       "    <tr>\n",
       "      <td>count</td>\n",
       "      <td>3214.000000</td>\n",
       "      <td>3214.000000</td>\n",
       "    </tr>\n",
       "    <tr>\n",
       "      <td>mean</td>\n",
       "      <td>517.131301</td>\n",
       "      <td>1496.191661</td>\n",
       "    </tr>\n",
       "    <tr>\n",
       "      <td>std</td>\n",
       "      <td>741.664591</td>\n",
       "      <td>785.582279</td>\n",
       "    </tr>\n",
       "    <tr>\n",
       "      <td>min</td>\n",
       "      <td>0.000000</td>\n",
       "      <td>550.000000</td>\n",
       "    </tr>\n",
       "    <tr>\n",
       "      <td>25%</td>\n",
       "      <td>0.000000</td>\n",
       "      <td>711.250000</td>\n",
       "    </tr>\n",
       "    <tr>\n",
       "      <td>50%</td>\n",
       "      <td>122.500000</td>\n",
       "      <td>1584.000000</td>\n",
       "    </tr>\n",
       "    <tr>\n",
       "      <td>75%</td>\n",
       "      <td>853.750000</td>\n",
       "      <td>1950.000000</td>\n",
       "    </tr>\n",
       "    <tr>\n",
       "      <td>max</td>\n",
       "      <td>6203.000000</td>\n",
       "      <td>6753.000000</td>\n",
       "    </tr>\n",
       "  </tbody>\n",
       "</table>\n",
       "</div>"
      ],
      "text/plain": [
       "       above_the_tariff   total_paid\n",
       "count       3214.000000  3214.000000\n",
       "mean         517.131301  1496.191661\n",
       "std          741.664591   785.582279\n",
       "min            0.000000   550.000000\n",
       "25%            0.000000   711.250000\n",
       "50%          122.500000  1584.000000\n",
       "75%          853.750000  1950.000000\n",
       "max         6203.000000  6753.000000"
      ]
     },
     "execution_count": 61,
     "metadata": {},
     "output_type": "execute_result"
    }
   ],
   "source": [
    "df[['above_the_tariff', 'total_paid']].describe()"
   ]
  },
  {
   "cell_type": "code",
   "execution_count": 62,
   "metadata": {},
   "outputs": [
    {
     "data": {
      "text/plain": [
       "smart    2229\n",
       "ultra     985\n",
       "Name: tariff, dtype: int64"
      ]
     },
     "execution_count": 62,
     "metadata": {},
     "output_type": "execute_result"
    }
   ],
   "source": [
    "df['tariff'].value_counts()"
   ]
  },
  {
   "cell_type": "code",
   "execution_count": 63,
   "metadata": {
    "scrolled": false
   },
   "outputs": [
    {
     "name": "stderr",
     "output_type": "stream",
     "text": [
      "/opt/conda/lib/python3.7/site-packages/numpy/core/_asarray.py:83: VisibleDeprecationWarning: Creating an ndarray from ragged nested sequences (which is a list-or-tuple of lists-or-tuples-or ndarrays with different lengths or shapes) is deprecated. If you meant to do this, you must specify 'dtype=object' when creating the ndarray\n",
      "  return array(a, dtype, copy=False, order=order)\n"
     ]
    },
    {
     "data": {
      "text/plain": [
       "(0, 7000)"
      ]
     },
     "execution_count": 63,
     "metadata": {},
     "output_type": "execute_result"
    },
    {
     "data": {
      "image/png": "[encoded data removed]",
      "text/plain": [
       "<Figure size 720x720 with 1 Axes>"
      ]
     },
     "metadata": {
      "needs_background": "light"
     },
     "output_type": "display_data"
    }
   ],
   "source": [
    "df.boxplot('total_paid', by='tariff', figsize=(10,10)).set_ylim(0,7000)"
   ]
  },
  {
   "cell_type": "markdown",
   "metadata": {},
   "source": [
    "Отсюда немного не понятно что творится с тарифом Ультра. Необходимо попробовать пйоти другим путем и составить гистограммы по каждой категории в обоих тарифах."
   ]
  },
  {
   "cell_type": "code",
   "execution_count": 64,
   "metadata": {},
   "outputs": [
    {
     "data": {
      "text/plain": [
       "<matplotlib.axes._subplots.AxesSubplot at 0x7f6b2fb16a50>"
      ]
     },
     "execution_count": 64,
     "metadata": {},
     "output_type": "execute_result"
    },
    {
     "data": {
      "image/png": "[encoded data removed]",
      "text/plain": [
       "<Figure size 432x288 with 1 Axes>"
      ]
     },
     "metadata": {
      "needs_background": "light"
     },
     "output_type": "display_data"
    }
   ],
   "source": [
    "df[df['tariff'] == 'ultra']['total_paid'].plot(kind='hist', bins=10)"
   ]
  },
  {
   "cell_type": "code",
   "execution_count": 65,
   "metadata": {},
   "outputs": [
    {
     "data": {
      "text/plain": [
       "<matplotlib.axes._subplots.AxesSubplot at 0x7f6b2fa7d090>"
      ]
     },
     "execution_count": 65,
     "metadata": {},
     "output_type": "execute_result"
    },
    {
     "data": {
      "image/png": "[encoded data removed]",
      "text/plain": [
       "<Figure size 432x288 with 1 Axes>"
      ]
     },
     "metadata": {
      "needs_background": "light"
     },
     "output_type": "display_data"
    }
   ],
   "source": [
    "df[df['tariff'] == 'smart']['total_paid'].plot(kind='hist', bins=10)"
   ]
  },
  {
   "cell_type": "code",
   "execution_count": 66,
   "metadata": {},
   "outputs": [
    {
     "data": {
      "text/html": [
       "<style  type=\"text/css\" >\n",
       "</style><table id=\"T_0923186c_e46e_11eb_9268_02420a399d87\" ><thead>    <tr>        <th class=\"blank level0\" ></th>        <th class=\"col_heading level0 col0\" colspan=4>total_paid</th>    </tr>    <tr>        <th class=\"blank level1\" ></th>        <th class=\"col_heading level1 col0\" >median</th>        <th class=\"col_heading level1 col1\" >mean</th>        <th class=\"col_heading level1 col2\" >var</th>        <th class=\"col_heading level1 col3\" >std</th>    </tr>    <tr>        <th class=\"index_name level0\" >tariff</th>        <th class=\"blank\" ></th>        <th class=\"blank\" ></th>        <th class=\"blank\" ></th>        <th class=\"blank\" ></th>    </tr></thead><tbody>\n",
       "                <tr>\n",
       "                        <th id=\"T_0923186c_e46e_11eb_9268_02420a399d87level0_row0\" class=\"row_heading level0 row0\" >smart</th>\n",
       "                        <td id=\"T_0923186c_e46e_11eb_9268_02420a399d87row0_col0\" class=\"data row0 col0\" >983.00</td>\n",
       "                        <td id=\"T_0923186c_e46e_11eb_9268_02420a399d87row0_col1\" class=\"data row0 col1\" >1247.13</td>\n",
       "                        <td id=\"T_0923186c_e46e_11eb_9268_02420a399d87row0_col2\" class=\"data row0 col2\" >631904.59</td>\n",
       "                        <td id=\"T_0923186c_e46e_11eb_9268_02420a399d87row0_col3\" class=\"data row0 col3\" >794.92</td>\n",
       "            </tr>\n",
       "            <tr>\n",
       "                        <th id=\"T_0923186c_e46e_11eb_9268_02420a399d87level0_row1\" class=\"row_heading level0 row1\" >ultra</th>\n",
       "                        <td id=\"T_0923186c_e46e_11eb_9268_02420a399d87row1_col0\" class=\"data row1 col0\" >1950.00</td>\n",
       "                        <td id=\"T_0923186c_e46e_11eb_9268_02420a399d87row1_col1\" class=\"data row1 col1\" >2059.80</td>\n",
       "                        <td id=\"T_0923186c_e46e_11eb_9268_02420a399d87row1_col2\" class=\"data row1 col2\" >125843.21</td>\n",
       "                        <td id=\"T_0923186c_e46e_11eb_9268_02420a399d87row1_col3\" class=\"data row1 col3\" >354.74</td>\n",
       "            </tr>\n",
       "    </tbody></table>"
      ],
      "text/plain": [
       "<pandas.io.formats.style.Styler at 0x7f6b2732ae50>"
      ]
     },
     "execution_count": 66,
     "metadata": {},
     "output_type": "execute_result"
    }
   ],
   "source": [
    "df.groupby('tariff')\\\n",
    "  .agg({'total_paid':['median','mean','var','std']})\\\n",
    "  .style.format(\"{:.2f}\")"
   ]
  },
  {
   "cell_type": "markdown",
   "metadata": {},
   "source": [
    "Как видно, в тарифе Ультра люди редко вылезают за рамки своей месячной оплаты, чего не скажешь о тарифе Смарт. В нём это похоже на обыденность"
   ]
  },
  {
   "cell_type": "code",
   "execution_count": 67,
   "metadata": {},
   "outputs": [
    {
     "data": {
      "text/html": [
       "<style  type=\"text/css\" >\n",
       "</style><table id=\"T_09279e00_e46e_11eb_9268_02420a399d87\" ><thead>    <tr>        <th class=\"blank level0\" ></th>        <th class=\"col_heading level0 col0\" colspan=4>month_calls_duration</th>    </tr>    <tr>        <th class=\"blank level1\" ></th>        <th class=\"col_heading level1 col0\" >median</th>        <th class=\"col_heading level1 col1\" >mean</th>        <th class=\"col_heading level1 col2\" >var</th>        <th class=\"col_heading level1 col3\" >std</th>    </tr>    <tr>        <th class=\"index_name level0\" >tariff</th>        <th class=\"blank\" ></th>        <th class=\"blank\" ></th>        <th class=\"blank\" ></th>        <th class=\"blank\" ></th>    </tr></thead><tbody>\n",
       "                <tr>\n",
       "                        <th id=\"T_09279e00_e46e_11eb_9268_02420a399d87level0_row0\" class=\"row_heading level0 row0\" >smart</th>\n",
       "                        <td id=\"T_09279e00_e46e_11eb_9268_02420a399d87row0_col0\" class=\"data row0 col0\" >435.00</td>\n",
       "                        <td id=\"T_09279e00_e46e_11eb_9268_02420a399d87row0_col1\" class=\"data row0 col1\" >429.45</td>\n",
       "                        <td id=\"T_09279e00_e46e_11eb_9268_02420a399d87row0_col2\" class=\"data row0 col2\" >37974.77</td>\n",
       "                        <td id=\"T_09279e00_e46e_11eb_9268_02420a399d87row0_col3\" class=\"data row0 col3\" >194.87</td>\n",
       "            </tr>\n",
       "            <tr>\n",
       "                        <th id=\"T_09279e00_e46e_11eb_9268_02420a399d87level0_row1\" class=\"row_heading level0 row1\" >ultra</th>\n",
       "                        <td id=\"T_09279e00_e46e_11eb_9268_02420a399d87row1_col0\" class=\"data row1 col0\" >532.00</td>\n",
       "                        <td id=\"T_09279e00_e46e_11eb_9268_02420a399d87row1_col1\" class=\"data row1 col1\" >540.78</td>\n",
       "                        <td id=\"T_09279e00_e46e_11eb_9268_02420a399d87row1_col2\" class=\"data row1 col2\" >106105.73</td>\n",
       "                        <td id=\"T_09279e00_e46e_11eb_9268_02420a399d87row1_col3\" class=\"data row1 col3\" >325.74</td>\n",
       "            </tr>\n",
       "    </tbody></table>"
      ],
      "text/plain": [
       "<pandas.io.formats.style.Styler at 0x7f6b26fc8a90>"
      ]
     },
     "execution_count": 67,
     "metadata": {},
     "output_type": "execute_result"
    }
   ],
   "source": [
    "df.groupby('tariff')\\\n",
    "  .agg({'month_calls_duration':['median','mean','var','std']})\\\n",
    "  .style.format(\"{:.2f}\")"
   ]
  },
  {
   "cell_type": "code",
   "execution_count": 68,
   "metadata": {},
   "outputs": [
    {
     "data": {
      "text/plain": [
       "Text(0.5, 1.0, 'Смарт — Звонки в минутах в месяц')"
      ]
     },
     "execution_count": 68,
     "metadata": {},
     "output_type": "execute_result"
    },
    {
     "data": {
      "image/png": "[encoded data removed]",
      "text/plain": [
       "<Figure size 432x288 with 1 Axes>"
      ]
     },
     "metadata": {
      "needs_background": "light"
     },
     "output_type": "display_data"
    }
   ],
   "source": [
    "df[df['tariff'] == 'smart']['month_calls_duration'].plot(kind='hist', bins=10)\n",
    "plt.title('Смарт — Звонки в минутах в месяц')"
   ]
  },
  {
   "cell_type": "code",
   "execution_count": 69,
   "metadata": {},
   "outputs": [
    {
     "data": {
      "text/plain": [
       "Text(0.5, 1.0, 'Ультра — Звонки в минутах в месяц')"
      ]
     },
     "execution_count": 69,
     "metadata": {},
     "output_type": "execute_result"
    },
    {
     "data": {
      "image/png": "[encoded data removed]",
      "text/plain": [
       "<Figure size 432x288 with 1 Axes>"
      ]
     },
     "metadata": {
      "needs_background": "light"
     },
     "output_type": "display_data"
    }
   ],
   "source": [
    "df[df['tariff'] == 'ultra']['month_calls_duration'].plot(kind='hist', bins=10)\n",
    "plt.title('Ультра — Звонки в минутах в месяц')"
   ]
  },
  {
   "cell_type": "markdown",
   "metadata": {},
   "source": [
    "На Смарте люди в месяц говорят около 450 минут, на Ультре 550 минут в месяц. То есть на Смарте люди подходят к краю своего тарифа, а на Ультре у них остается запас 2500 минут. Среднее и медиана лежат рядом в обоих тарифах"
   ]
  },
  {
   "cell_type": "code",
   "execution_count": 70,
   "metadata": {},
   "outputs": [
    {
     "data": {
      "text/html": [
       "<style  type=\"text/css\" >\n",
       "</style><table id=\"T_099d3886_e46e_11eb_9268_02420a399d87\" ><thead>    <tr>        <th class=\"blank level0\" ></th>        <th class=\"col_heading level0 col0\" colspan=4>mb_total_in_month</th>    </tr>    <tr>        <th class=\"blank level1\" ></th>        <th class=\"col_heading level1 col0\" >median</th>        <th class=\"col_heading level1 col1\" >mean</th>        <th class=\"col_heading level1 col2\" >var</th>        <th class=\"col_heading level1 col3\" >std</th>    </tr>    <tr>        <th class=\"index_name level0\" >tariff</th>        <th class=\"blank\" ></th>        <th class=\"blank\" ></th>        <th class=\"blank\" ></th>        <th class=\"blank\" ></th>    </tr></thead><tbody>\n",
       "                <tr>\n",
       "                        <th id=\"T_099d3886_e46e_11eb_9268_02420a399d87level0_row0\" class=\"row_heading level0 row0\" >smart</th>\n",
       "                        <td id=\"T_099d3886_e46e_11eb_9268_02420a399d87row0_col0\" class=\"data row0 col0\" >16506.84</td>\n",
       "                        <td id=\"T_099d3886_e46e_11eb_9268_02420a399d87row0_col1\" class=\"data row0 col1\" >16208.39</td>\n",
       "                        <td id=\"T_099d3886_e46e_11eb_9268_02420a399d87row0_col2\" class=\"data row0 col2\" >34462496.46</td>\n",
       "                        <td id=\"T_099d3886_e46e_11eb_9268_02420a399d87row0_col3\" class=\"data row0 col3\" >5870.48</td>\n",
       "            </tr>\n",
       "            <tr>\n",
       "                        <th id=\"T_099d3886_e46e_11eb_9268_02420a399d87level0_row1\" class=\"row_heading level0 row1\" >ultra</th>\n",
       "                        <td id=\"T_099d3886_e46e_11eb_9268_02420a399d87row1_col0\" class=\"data row1 col0\" >19308.01</td>\n",
       "                        <td id=\"T_099d3886_e46e_11eb_9268_02420a399d87row1_col1\" class=\"data row1 col1\" >19468.81</td>\n",
       "                        <td id=\"T_099d3886_e46e_11eb_9268_02420a399d87row1_col2\" class=\"data row1 col2\" >101751013.78</td>\n",
       "                        <td id=\"T_099d3886_e46e_11eb_9268_02420a399d87row1_col3\" class=\"data row1 col3\" >10087.17</td>\n",
       "            </tr>\n",
       "    </tbody></table>"
      ],
      "text/plain": [
       "<pandas.io.formats.style.Styler at 0x7f6ba555da90>"
      ]
     },
     "execution_count": 70,
     "metadata": {},
     "output_type": "execute_result"
    }
   ],
   "source": [
    "df.groupby('tariff')\\\n",
    "  .agg({'mb_total_in_month':['median','mean','var','std']})\\\n",
    "  .style.format(\"{:.2f}\")"
   ]
  },
  {
   "cell_type": "code",
   "execution_count": 71,
   "metadata": {},
   "outputs": [
    {
     "data": {
      "text/plain": [
       "Text(0.5, 1.0, 'Смарт — Интернет в МБ в месяц')"
      ]
     },
     "execution_count": 71,
     "metadata": {},
     "output_type": "execute_result"
    },
    {
     "data": {
      "image/png": "[encoded data removed]",
      "text/plain": [
       "<Figure size 432x288 with 1 Axes>"
      ]
     },
     "metadata": {
      "needs_background": "light"
     },
     "output_type": "display_data"
    }
   ],
   "source": [
    "df[df['tariff'] == 'smart']['mb_total_in_month'].plot(kind='hist', bins=10)\n",
    "plt.title('Смарт — Интернет в МБ в месяц')"
   ]
  },
  {
   "cell_type": "code",
   "execution_count": 72,
   "metadata": {},
   "outputs": [
    {
     "data": {
      "text/plain": [
       "Text(0.5, 1.0, 'Ультра — Интернет в МБ в месяц')"
      ]
     },
     "execution_count": 72,
     "metadata": {},
     "output_type": "execute_result"
    },
    {
     "data": {
      "image/png": "[encoded data removed]",
      "text/plain": [
       "<Figure size 432x288 with 1 Axes>"
      ]
     },
     "metadata": {
      "needs_background": "light"
     },
     "output_type": "display_data"
    }
   ],
   "source": [
    "df[df['tariff'] == 'ultra']['mb_total_in_month'].plot(kind='hist', bins=10)\n",
    "plt.title('Ультра — Интернет в МБ в месяц')"
   ]
  },
  {
   "cell_type": "markdown",
   "metadata": {},
   "source": [
    "Среднее и медиана лежат рядом в обоих тарифах, так же как и в звонках. На Смарте люди выходят за пределы тарифа больше, у Ультры снова запас в 10 Гб"
   ]
  },
  {
   "cell_type": "code",
   "execution_count": 73,
   "metadata": {},
   "outputs": [
    {
     "data": {
      "text/html": [
       "<style  type=\"text/css\" >\n",
       "</style><table id=\"T_0a3730a8_e46e_11eb_9268_02420a399d87\" ><thead>    <tr>        <th class=\"blank level0\" ></th>        <th class=\"col_heading level0 col0\" colspan=4>sms_total_in_month</th>    </tr>    <tr>        <th class=\"blank level1\" ></th>        <th class=\"col_heading level1 col0\" >median</th>        <th class=\"col_heading level1 col1\" >mean</th>        <th class=\"col_heading level1 col2\" >var</th>        <th class=\"col_heading level1 col3\" >std</th>    </tr>    <tr>        <th class=\"index_name level0\" >tariff</th>        <th class=\"blank\" ></th>        <th class=\"blank\" ></th>        <th class=\"blank\" ></th>        <th class=\"blank\" ></th>    </tr></thead><tbody>\n",
       "                <tr>\n",
       "                        <th id=\"T_0a3730a8_e46e_11eb_9268_02420a399d87level0_row0\" class=\"row_heading level0 row0\" >smart</th>\n",
       "                        <td id=\"T_0a3730a8_e46e_11eb_9268_02420a399d87row0_col0\" class=\"data row0 col0\" >28.00</td>\n",
       "                        <td id=\"T_0a3730a8_e46e_11eb_9268_02420a399d87row0_col1\" class=\"data row0 col1\" >33.38</td>\n",
       "                        <td id=\"T_0a3730a8_e46e_11eb_9268_02420a399d87row0_col2\" class=\"data row0 col2\" >796.81</td>\n",
       "                        <td id=\"T_0a3730a8_e46e_11eb_9268_02420a399d87row0_col3\" class=\"data row0 col3\" >28.23</td>\n",
       "            </tr>\n",
       "            <tr>\n",
       "                        <th id=\"T_0a3730a8_e46e_11eb_9268_02420a399d87level0_row1\" class=\"row_heading level0 row1\" >ultra</th>\n",
       "                        <td id=\"T_0a3730a8_e46e_11eb_9268_02420a399d87row1_col0\" class=\"data row1 col0\" >38.00</td>\n",
       "                        <td id=\"T_0a3730a8_e46e_11eb_9268_02420a399d87row1_col1\" class=\"data row1 col1\" >49.36</td>\n",
       "                        <td id=\"T_0a3730a8_e46e_11eb_9268_02420a399d87row1_col2\" class=\"data row1 col2\" >2285.27</td>\n",
       "                        <td id=\"T_0a3730a8_e46e_11eb_9268_02420a399d87row1_col3\" class=\"data row1 col3\" >47.80</td>\n",
       "            </tr>\n",
       "    </tbody></table>"
      ],
      "text/plain": [
       "<pandas.io.formats.style.Styler at 0x7f6b2fbabfd0>"
      ]
     },
     "execution_count": 73,
     "metadata": {},
     "output_type": "execute_result"
    }
   ],
   "source": [
    "df.groupby('tariff')\\\n",
    "  .agg({'sms_total_in_month':['median','mean','var','std']})\\\n",
    "  .style.format(\"{:.2f}\")"
   ]
  },
  {
   "cell_type": "code",
   "execution_count": 74,
   "metadata": {},
   "outputs": [
    {
     "data": {
      "text/plain": [
       "Text(0.5, 1.0, 'Смарт — СМС в месяц')"
      ]
     },
     "execution_count": 74,
     "metadata": {},
     "output_type": "execute_result"
    },
    {
     "data": {
      "image/png": "[encoded data removed]",
      "text/plain": [
       "<Figure size 432x288 with 1 Axes>"
      ]
     },
     "metadata": {
      "needs_background": "light"
     },
     "output_type": "display_data"
    }
   ],
   "source": [
    "df[df['tariff'] == 'smart']['sms_total_in_month'].plot(kind='hist', bins=10)\n",
    "plt.title('Смарт — СМС в месяц')"
   ]
  },
  {
   "cell_type": "code",
   "execution_count": 75,
   "metadata": {},
   "outputs": [
    {
     "data": {
      "text/plain": [
       "Text(0.5, 1.0, 'Ультра — СМС в месяц')"
      ]
     },
     "execution_count": 75,
     "metadata": {},
     "output_type": "execute_result"
    },
    {
     "data": {
      "image/png": "[encoded data removed]",
      "text/plain": [
       "<Figure size 432x288 with 1 Axes>"
      ]
     },
     "metadata": {
      "needs_background": "light"
     },
     "output_type": "display_data"
    }
   ],
   "source": [
    "df[df['tariff'] == 'ultra']['sms_total_in_month'].plot(kind='hist', bins=10)\n",
    "plt.title('Ультра — СМС в месяц')"
   ]
  },
  {
   "cell_type": "markdown",
   "metadata": {},
   "source": [
    "Сначала показалось что где-то ошибка в данных. Но нет, по смскам всё очень похоже в каждом тарифе"
   ]
  },
  {
   "cell_type": "markdown",
   "metadata": {},
   "source": [
    "## Шаг 4. Проверка гипотез"
   ]
  },
  {
   "cell_type": "markdown",
   "metadata": {},
   "source": [
    " - средняя выручка пользователей тарифов «Ультра» и «Смарт» различается;\n",
    " - средняя выручка пользователей из Москвы отличается от выручки пользователей из других регионов;"
   ]
  },
  {
   "cell_type": "markdown",
   "metadata": {},
   "source": [
    "Функция для удаления выбросов:"
   ]
  },
  {
   "cell_type": "code",
   "execution_count": 76,
   "metadata": {},
   "outputs": [],
   "source": [
    "def delete_outliers(df, column, graphic=0, x = 10, y = 10):\n",
    "    q1 = df[column].quantile(0.25)                 \n",
    "    q3 = df[column].quantile(0.75)\n",
    "    iqr = q3 - q1\n",
    "    iqr_test = (df[column] >= (q1 - 1.5 * iqr)) & (df[column] <= (q3 + 1.5 * iqr))\n",
    "    if graphic == 1:\n",
    "        return df.loc[iqr_test].boxplot([column], figsize=(x,y))\n",
    "    else:\n",
    "        return df.loc[iqr_test]"
   ]
  },
  {
   "cell_type": "markdown",
   "metadata": {},
   "source": [
    "По-скольку сравниваемы выборки независимы между собой - будет использоваться t-критерий Стьюдента\n",
    "\n",
    "Гипотеза о равенстве средних двух генеральных совокупностей №1:\n",
    "\n",
    " - H0: выручка пользователей тарифов «Ультра» и «Смарт» не различается\n",
    " - H1: выручка пользователей тарифов «Ультра» и «Смарт» различается"
   ]
  },
  {
   "cell_type": "code",
   "execution_count": 77,
   "metadata": {},
   "outputs": [
    {
     "data": {
      "text/html": [
       "<div>\n",
       "<style scoped>\n",
       "    .dataframe tbody tr th:only-of-type {\n",
       "        vertical-align: middle;\n",
       "    }\n",
       "\n",
       "    .dataframe tbody tr th {\n",
       "        vertical-align: top;\n",
       "    }\n",
       "\n",
       "    .dataframe thead th {\n",
       "        text-align: right;\n",
       "    }\n",
       "</style>\n",
       "<table border=\"1\" class=\"dataframe\">\n",
       "  <thead>\n",
       "    <tr style=\"text-align: right;\">\n",
       "      <th></th>\n",
       "      <th>user_id</th>\n",
       "      <th>month</th>\n",
       "      <th>month_calls_duration</th>\n",
       "      <th>calls_total_in_month</th>\n",
       "      <th>sms_total_in_month</th>\n",
       "      <th>mb_total_in_month</th>\n",
       "      <th>age</th>\n",
       "      <th>churn_date</th>\n",
       "      <th>city</th>\n",
       "      <th>first_name</th>\n",
       "      <th>...</th>\n",
       "      <th>tariff</th>\n",
       "      <th>messages_included</th>\n",
       "      <th>mb_per_month_included</th>\n",
       "      <th>minutes_included</th>\n",
       "      <th>rub_monthly_fee</th>\n",
       "      <th>rub_per_gb</th>\n",
       "      <th>rub_per_message</th>\n",
       "      <th>rub_per_minute</th>\n",
       "      <th>above_the_tariff</th>\n",
       "      <th>total_paid</th>\n",
       "    </tr>\n",
       "  </thead>\n",
       "  <tbody>\n",
       "    <tr>\n",
       "      <td>0</td>\n",
       "      <td>1000</td>\n",
       "      <td>August</td>\n",
       "      <td>418.0</td>\n",
       "      <td>52.0</td>\n",
       "      <td>81.0</td>\n",
       "      <td>14055.93</td>\n",
       "      <td>52</td>\n",
       "      <td>NaT</td>\n",
       "      <td>Краснодар</td>\n",
       "      <td>Рафаил</td>\n",
       "      <td>...</td>\n",
       "      <td>ultra</td>\n",
       "      <td>1000</td>\n",
       "      <td>30720</td>\n",
       "      <td>3000</td>\n",
       "      <td>1950</td>\n",
       "      <td>150</td>\n",
       "      <td>1</td>\n",
       "      <td>1</td>\n",
       "      <td>0.0</td>\n",
       "      <td>1950.0</td>\n",
       "    </tr>\n",
       "    <tr>\n",
       "      <td>1</td>\n",
       "      <td>1000</td>\n",
       "      <td>December</td>\n",
       "      <td>341.0</td>\n",
       "      <td>46.0</td>\n",
       "      <td>70.0</td>\n",
       "      <td>9817.61</td>\n",
       "      <td>52</td>\n",
       "      <td>NaT</td>\n",
       "      <td>Краснодар</td>\n",
       "      <td>Рафаил</td>\n",
       "      <td>...</td>\n",
       "      <td>ultra</td>\n",
       "      <td>1000</td>\n",
       "      <td>30720</td>\n",
       "      <td>3000</td>\n",
       "      <td>1950</td>\n",
       "      <td>150</td>\n",
       "      <td>1</td>\n",
       "      <td>1</td>\n",
       "      <td>0.0</td>\n",
       "      <td>1950.0</td>\n",
       "    </tr>\n",
       "    <tr>\n",
       "      <td>2</td>\n",
       "      <td>1000</td>\n",
       "      <td>July</td>\n",
       "      <td>346.0</td>\n",
       "      <td>47.0</td>\n",
       "      <td>75.0</td>\n",
       "      <td>14003.64</td>\n",
       "      <td>52</td>\n",
       "      <td>NaT</td>\n",
       "      <td>Краснодар</td>\n",
       "      <td>Рафаил</td>\n",
       "      <td>...</td>\n",
       "      <td>ultra</td>\n",
       "      <td>1000</td>\n",
       "      <td>30720</td>\n",
       "      <td>3000</td>\n",
       "      <td>1950</td>\n",
       "      <td>150</td>\n",
       "      <td>1</td>\n",
       "      <td>1</td>\n",
       "      <td>0.0</td>\n",
       "      <td>1950.0</td>\n",
       "    </tr>\n",
       "    <tr>\n",
       "      <td>3</td>\n",
       "      <td>1000</td>\n",
       "      <td>June</td>\n",
       "      <td>187.0</td>\n",
       "      <td>43.0</td>\n",
       "      <td>60.0</td>\n",
       "      <td>23233.77</td>\n",
       "      <td>52</td>\n",
       "      <td>NaT</td>\n",
       "      <td>Краснодар</td>\n",
       "      <td>Рафаил</td>\n",
       "      <td>...</td>\n",
       "      <td>ultra</td>\n",
       "      <td>1000</td>\n",
       "      <td>30720</td>\n",
       "      <td>3000</td>\n",
       "      <td>1950</td>\n",
       "      <td>150</td>\n",
       "      <td>1</td>\n",
       "      <td>1</td>\n",
       "      <td>0.0</td>\n",
       "      <td>1950.0</td>\n",
       "    </tr>\n",
       "    <tr>\n",
       "      <td>4</td>\n",
       "      <td>1000</td>\n",
       "      <td>May</td>\n",
       "      <td>164.0</td>\n",
       "      <td>22.0</td>\n",
       "      <td>22.0</td>\n",
       "      <td>2253.49</td>\n",
       "      <td>52</td>\n",
       "      <td>NaT</td>\n",
       "      <td>Краснодар</td>\n",
       "      <td>Рафаил</td>\n",
       "      <td>...</td>\n",
       "      <td>ultra</td>\n",
       "      <td>1000</td>\n",
       "      <td>30720</td>\n",
       "      <td>3000</td>\n",
       "      <td>1950</td>\n",
       "      <td>150</td>\n",
       "      <td>1</td>\n",
       "      <td>1</td>\n",
       "      <td>0.0</td>\n",
       "      <td>1950.0</td>\n",
       "    </tr>\n",
       "  </tbody>\n",
       "</table>\n",
       "<p>5 rows × 22 columns</p>\n",
       "</div>"
      ],
      "text/plain": [
       "   user_id     month  month_calls_duration  calls_total_in_month  \\\n",
       "0     1000    August                 418.0                  52.0   \n",
       "1     1000  December                 341.0                  46.0   \n",
       "2     1000      July                 346.0                  47.0   \n",
       "3     1000      June                 187.0                  43.0   \n",
       "4     1000       May                 164.0                  22.0   \n",
       "\n",
       "   sms_total_in_month  mb_total_in_month  age churn_date       city  \\\n",
       "0                81.0           14055.93   52        NaT  Краснодар   \n",
       "1                70.0            9817.61   52        NaT  Краснодар   \n",
       "2                75.0           14003.64   52        NaT  Краснодар   \n",
       "3                60.0           23233.77   52        NaT  Краснодар   \n",
       "4                22.0            2253.49   52        NaT  Краснодар   \n",
       "\n",
       "  first_name  ... tariff messages_included mb_per_month_included  \\\n",
       "0     Рафаил  ...  ultra              1000                 30720   \n",
       "1     Рафаил  ...  ultra              1000                 30720   \n",
       "2     Рафаил  ...  ultra              1000                 30720   \n",
       "3     Рафаил  ...  ultra              1000                 30720   \n",
       "4     Рафаил  ...  ultra              1000                 30720   \n",
       "\n",
       "   minutes_included  rub_monthly_fee  rub_per_gb  rub_per_message  \\\n",
       "0              3000             1950         150                1   \n",
       "1              3000             1950         150                1   \n",
       "2              3000             1950         150                1   \n",
       "3              3000             1950         150                1   \n",
       "4              3000             1950         150                1   \n",
       "\n",
       "   rub_per_minute  above_the_tariff  total_paid  \n",
       "0               1               0.0      1950.0  \n",
       "1               1               0.0      1950.0  \n",
       "2               1               0.0      1950.0  \n",
       "3               1               0.0      1950.0  \n",
       "4               1               0.0      1950.0  \n",
       "\n",
       "[5 rows x 22 columns]"
      ]
     },
     "execution_count": 77,
     "metadata": {},
     "output_type": "execute_result"
    }
   ],
   "source": [
    "df.head()"
   ]
  },
  {
   "cell_type": "code",
   "execution_count": 78,
   "metadata": {},
   "outputs": [],
   "source": [
    "ultra = df[df['tariff'] == 'ultra']\n",
    "smart = df[df['tariff'] == 'smart']"
   ]
  },
  {
   "cell_type": "code",
   "execution_count": 79,
   "metadata": {},
   "outputs": [],
   "source": [
    "ultra = delete_outliers(ultra, 'total_paid', 0)\n",
    "ultra = ultra['total_paid']"
   ]
  },
  {
   "cell_type": "code",
   "execution_count": 80,
   "metadata": {},
   "outputs": [],
   "source": [
    "smart = delete_outliers(smart, 'total_paid', 0)\n",
    "smart = smart['total_paid']"
   ]
  },
  {
   "cell_type": "code",
   "execution_count": 81,
   "metadata": {},
   "outputs": [],
   "source": [
    "alpha = 0.05"
   ]
  },
  {
   "cell_type": "code",
   "execution_count": 82,
   "metadata": {},
   "outputs": [],
   "source": [
    "results = st.ttest_ind(ultra, smart)"
   ]
  },
  {
   "cell_type": "code",
   "execution_count": 83,
   "metadata": {},
   "outputs": [
    {
     "name": "stdout",
     "output_type": "stream",
     "text": [
      "p-значение: 1.3182106890742663e-188\n",
      "Отвергаем нулевую гипотезу\n"
     ]
    }
   ],
   "source": [
    "print('p-значение:', results.pvalue)\n",
    "\n",
    "if (results.pvalue < alpha):\n",
    "    print(\"Отвергаем нулевую гипотезу\")\n",
    "else:\n",
    "    print(\"Не получилось отвергнуть нулевую гипотезу\")"
   ]
  },
  {
   "cell_type": "markdown",
   "metadata": {},
   "source": [
    "Есть значимые различия между выборками, отсюда такой результат"
   ]
  },
  {
   "cell_type": "markdown",
   "metadata": {},
   "source": [
    "Гипотеза о равенстве средних двух генеральных совокупностей №2:\n",
    " - H0: средняя выручка пользователей из Москвы не отличается от выручки пользователей из других регионов\n",
    " - H1: средняя выручка пользователей из Москвы отличается от выручки пользователей из других регионов"
   ]
  },
  {
   "cell_type": "code",
   "execution_count": 84,
   "metadata": {},
   "outputs": [
    {
     "data": {
      "text/plain": [
       "array(['Краснодар', 'Москва', 'Стерлитамак', 'Новокузнецк',\n",
       "       'Набережные Челны', 'Ульяновск', 'Челябинск', 'Пермь', 'Тюмень',\n",
       "       'Самара', 'Санкт-Петербург', 'Иваново', 'Чебоксары', 'Омск', 'Уфа',\n",
       "       'Томск', 'Чита', 'Мурманск', 'Петрозаводск', 'Тверь',\n",
       "       'Екатеринбург', 'Махачкала', 'Вологда', 'Череповец', 'Ярославль',\n",
       "       'Сочи', 'Хабаровск', 'Ставрополь', 'Рязань', 'Улан-Удэ', 'Тула',\n",
       "       'Саратов', 'Ростов-на-Дону', 'Казань', 'Иркутск', 'Курск',\n",
       "       'Калуга', 'Якутск', 'Астрахань', 'Химки', 'Владикавказ',\n",
       "       'Волгоград', 'Саранск', 'Ижевск', 'Новосибирск', 'Брянск',\n",
       "       'Тольятти', 'Нижний Тагил', 'Орёл', 'Белгород', 'Воронеж',\n",
       "       'Курган', 'Барнаул', 'Красноярск', 'Архангельск', 'Липецк',\n",
       "       'Кемерово', 'Киров', 'Сургут', 'Пенза', 'Волжский', 'Магнитогорск',\n",
       "       'Нижний Новгород', 'Кострома', 'Владивосток', 'Тамбов', 'Балашиха',\n",
       "       'Севастополь', 'Калининград', 'Оренбург', 'Смоленск',\n",
       "       'Нижневартовск', 'Владимир', 'Новороссийск', 'Грозный', 'Подольск'],\n",
       "      dtype=object)"
      ]
     },
     "execution_count": 84,
     "metadata": {},
     "output_type": "execute_result"
    }
   ],
   "source": [
    "df['city'].unique()"
   ]
  },
  {
   "cell_type": "code",
   "execution_count": 85,
   "metadata": {},
   "outputs": [],
   "source": [
    "df['region'] = np.where(df['city'] == 'Москва', 'Москва', 'Провинция')"
   ]
  },
  {
   "cell_type": "code",
   "execution_count": 86,
   "metadata": {},
   "outputs": [],
   "source": [
    "moscow = df[df['region'] == 'Москва']\n",
    "province = df[df['region'] == 'Провинция']"
   ]
  },
  {
   "cell_type": "code",
   "execution_count": 87,
   "metadata": {},
   "outputs": [],
   "source": [
    "moscow = delete_outliers(moscow, 'total_paid', 0)\n",
    "moscow = moscow['total_paid']"
   ]
  },
  {
   "cell_type": "code",
   "execution_count": 88,
   "metadata": {},
   "outputs": [],
   "source": [
    "province = delete_outliers(province, 'total_paid', 0)\n",
    "province = province['total_paid']"
   ]
  },
  {
   "cell_type": "code",
   "execution_count": 89,
   "metadata": {},
   "outputs": [],
   "source": [
    "results = st.ttest_ind(moscow, province)"
   ]
  },
  {
   "cell_type": "code",
   "execution_count": 90,
   "metadata": {},
   "outputs": [
    {
     "name": "stdout",
     "output_type": "stream",
     "text": [
      "p-значение: 0.3093579795626914\n",
      "Не получилось отвергнуть нулевую гипотезу\n"
     ]
    }
   ],
   "source": [
    "print('p-значение:', results.pvalue)\n",
    "\n",
    "if (results.pvalue < alpha):\n",
    "    print(\"Отвергаем нулевую гипотезу\")\n",
    "else:\n",
    "    print(\"Не получилось отвергнуть нулевую гипотезу\")"
   ]
  },
  {
   "cell_type": "markdown",
   "metadata": {},
   "source": [
    "С вероятностью почти 31% такой результат мог быть получен случайно. Можно сделать вывод что значимых различий между выборками нет"
   ]
  },
  {
   "cell_type": "markdown",
   "metadata": {},
   "source": [
    "## Шаг 5. Общий вывод\n",
    "\n",
    "Люди на разных тарифах ведут себя по-разному, переплачивают и там и там, но особенно это видно на Смарте. Очевидно что на Смарте ищут выгоды, а на Ультре не хотят переживать за доплаты и переплаты. Возможно компании нужно искать как улучшить Смарт чтобы текущие условия тарифа не приводили к оттоку клиентов.\n",
    "\n",
    "СМС-ки никому не нужны на обоих тарифах. Но если в Смарте люди близки к своим лимитам, то на Ультре остаются большие неизрасходованные \"запасы\" — возможно, имеет смысл подумать, как использовать эту, по сути, упущенную выгоду\n",
    "\n",
    "Деньги одинаково текут и из регионов и из Москвы, и вероятно это не связано с уровнем жизни, а с поведением: ~8-10 часов в месяц — это предел у среднего клиента на обоих тарифах\n",
    "\n",
    "Тарифы приносят разные деньги, значимые различия есть"
   ]
  },
  {
   "cell_type": "code",
   "execution_count": null,
   "metadata": {},
   "outputs": [],
   "source": []
  }
 ],
 "metadata": {
  "ExecuteTimeLog": [
   {
    "duration": 1375,
    "start_time": "2021-07-13T16:18:13.272Z"
   },
   {
    "duration": 538,
    "start_time": "2021-07-13T16:18:35.368Z"
   },
   {
    "duration": 231,
    "start_time": "2021-07-13T16:19:40.472Z"
   },
   {
    "duration": 13,
    "start_time": "2021-07-13T16:39:29.272Z"
   },
   {
    "duration": 556,
    "start_time": "2021-07-13T16:43:05.048Z"
   },
   {
    "duration": 18,
    "start_time": "2021-07-13T16:44:23.970Z"
   },
   {
    "duration": 11,
    "start_time": "2021-07-13T16:45:27.181Z"
   },
   {
    "duration": 8,
    "start_time": "2021-07-13T16:46:29.634Z"
   },
   {
    "duration": 7,
    "start_time": "2021-07-13T16:54:21.189Z"
   },
   {
    "duration": 14,
    "start_time": "2021-07-13T16:54:42.760Z"
   },
   {
    "duration": 12,
    "start_time": "2021-07-13T16:55:39.161Z"
   },
   {
    "duration": 28,
    "start_time": "2021-07-13T16:55:52.640Z"
   },
   {
    "duration": 589,
    "start_time": "2021-07-13T16:57:42.273Z"
   },
   {
    "duration": 28,
    "start_time": "2021-07-13T17:09:53.030Z"
   },
   {
    "duration": 12,
    "start_time": "2021-07-13T17:13:32.776Z"
   },
   {
    "duration": 507,
    "start_time": "2021-07-13T17:14:34.562Z"
   },
   {
    "duration": 24,
    "start_time": "2021-07-13T17:14:47.903Z"
   },
   {
    "duration": 457,
    "start_time": "2021-07-13T17:17:21.426Z"
   },
   {
    "duration": 43,
    "start_time": "2021-07-13T17:17:37.902Z"
   },
   {
    "duration": 75,
    "start_time": "2021-07-13T18:08:30.753Z"
   },
   {
    "duration": 483,
    "start_time": "2021-07-13T18:08:42.147Z"
   },
   {
    "duration": 11,
    "start_time": "2021-07-13T18:09:37.576Z"
   },
   {
    "duration": 21,
    "start_time": "2021-07-13T18:09:53.879Z"
   },
   {
    "duration": 13,
    "start_time": "2021-07-13T18:11:45.403Z"
   },
   {
    "duration": 26,
    "start_time": "2021-07-13T18:11:57.208Z"
   },
   {
    "duration": 14,
    "start_time": "2021-07-13T18:13:49.635Z"
   },
   {
    "duration": 464,
    "start_time": "2021-07-13T18:19:54.438Z"
   },
   {
    "duration": 28,
    "start_time": "2021-07-13T18:20:38.291Z"
   },
   {
    "duration": 33,
    "start_time": "2021-07-13T18:22:32.660Z"
   },
   {
    "duration": 485,
    "start_time": "2021-07-13T18:22:58.197Z"
   },
   {
    "duration": 12,
    "start_time": "2021-07-13T18:23:48.323Z"
   },
   {
    "duration": 4546,
    "start_time": "2021-07-13T18:28:33.863Z"
   },
   {
    "duration": 27,
    "start_time": "2021-07-13T18:29:04.318Z"
   },
   {
    "duration": 16,
    "start_time": "2021-07-13T18:29:15.501Z"
   },
   {
    "duration": 12,
    "start_time": "2021-07-13T18:29:25.407Z"
   },
   {
    "duration": 15,
    "start_time": "2021-07-13T18:29:38.270Z"
   },
   {
    "duration": 71,
    "start_time": "2021-07-13T18:39:37.055Z"
   },
   {
    "duration": 94,
    "start_time": "2021-07-13T18:41:12.823Z"
   },
   {
    "duration": 18,
    "start_time": "2021-07-13T18:41:28.668Z"
   },
   {
    "duration": 76,
    "start_time": "2021-07-13T18:43:41.242Z"
   },
   {
    "duration": 13,
    "start_time": "2021-07-13T18:44:02.461Z"
   },
   {
    "duration": 55,
    "start_time": "2021-07-13T18:45:07.196Z"
   },
   {
    "duration": 14,
    "start_time": "2021-07-13T18:45:20.256Z"
   },
   {
    "duration": 22,
    "start_time": "2021-07-13T18:55:32.638Z"
   },
   {
    "duration": 397,
    "start_time": "2021-07-13T18:57:09.358Z"
   },
   {
    "duration": 972,
    "start_time": "2021-07-13T18:57:40.960Z"
   },
   {
    "duration": 599,
    "start_time": "2021-07-13T18:57:44.300Z"
   },
   {
    "duration": 19,
    "start_time": "2021-07-13T18:58:22.382Z"
   },
   {
    "duration": 23,
    "start_time": "2021-07-13T18:58:34.790Z"
   },
   {
    "duration": 9,
    "start_time": "2021-07-13T18:58:48.278Z"
   },
   {
    "duration": 9,
    "start_time": "2021-07-13T19:01:08.184Z"
   },
   {
    "duration": 10,
    "start_time": "2021-07-13T19:01:16.775Z"
   },
   {
    "duration": 14,
    "start_time": "2021-07-13T19:03:44.176Z"
   },
   {
    "duration": 39,
    "start_time": "2021-07-13T19:03:51.930Z"
   },
   {
    "duration": 27,
    "start_time": "2021-07-13T19:04:08.098Z"
   },
   {
    "duration": 72,
    "start_time": "2021-07-13T19:06:55.168Z"
   },
   {
    "duration": 14,
    "start_time": "2021-07-13T19:07:45.089Z"
   },
   {
    "duration": 50,
    "start_time": "2021-07-13T19:08:27.621Z"
   },
   {
    "duration": 8,
    "start_time": "2021-07-13T19:09:06.799Z"
   },
   {
    "duration": 46,
    "start_time": "2021-07-13T19:09:19.319Z"
   },
   {
    "duration": 14,
    "start_time": "2021-07-13T19:09:40.039Z"
   },
   {
    "duration": 426,
    "start_time": "2021-07-13T19:10:51.324Z"
   },
   {
    "duration": 902,
    "start_time": "2021-07-13T19:11:21.147Z"
   },
   {
    "duration": 563,
    "start_time": "2021-07-13T19:11:27.258Z"
   },
   {
    "duration": 22,
    "start_time": "2021-07-13T19:11:29.083Z"
   },
   {
    "duration": 26,
    "start_time": "2021-07-13T19:11:29.891Z"
   },
   {
    "duration": 9,
    "start_time": "2021-07-13T19:11:30.430Z"
   },
   {
    "duration": 9,
    "start_time": "2021-07-13T19:11:31.486Z"
   },
   {
    "duration": 10,
    "start_time": "2021-07-13T19:11:31.966Z"
   },
   {
    "duration": 12,
    "start_time": "2021-07-13T19:11:33.448Z"
   },
   {
    "duration": 42,
    "start_time": "2021-07-13T19:11:33.935Z"
   },
   {
    "duration": 27,
    "start_time": "2021-07-13T19:11:34.472Z"
   },
   {
    "duration": 77,
    "start_time": "2021-07-13T19:11:35.606Z"
   },
   {
    "duration": 14,
    "start_time": "2021-07-13T19:11:36.672Z"
   },
   {
    "duration": 7,
    "start_time": "2021-07-13T19:11:37.248Z"
   },
   {
    "duration": 5,
    "start_time": "2021-07-13T19:11:39.114Z"
   },
   {
    "duration": 46,
    "start_time": "2021-07-13T19:11:40.347Z"
   },
   {
    "duration": 10,
    "start_time": "2021-07-13T19:11:42.366Z"
   },
   {
    "duration": 10,
    "start_time": "2021-07-13T19:12:33.723Z"
   },
   {
    "duration": 20,
    "start_time": "2021-07-13T19:12:43.661Z"
   },
   {
    "duration": 42,
    "start_time": "2021-07-13T19:13:45.070Z"
   },
   {
    "duration": 11,
    "start_time": "2021-07-13T19:14:02.456Z"
   },
   {
    "duration": 12,
    "start_time": "2021-07-13T19:14:56.026Z"
   },
   {
    "duration": 39,
    "start_time": "2021-07-13T19:15:05.207Z"
   },
   {
    "duration": 25,
    "start_time": "2021-07-13T19:18:15.483Z"
   },
   {
    "duration": 93,
    "start_time": "2021-07-13T19:19:21.376Z"
   },
   {
    "duration": 15,
    "start_time": "2021-07-13T19:19:35.827Z"
   },
   {
    "duration": 12,
    "start_time": "2021-07-13T19:20:01.919Z"
   },
   {
    "duration": 88,
    "start_time": "2021-07-13T19:25:12.538Z"
   },
   {
    "duration": 13,
    "start_time": "2021-07-13T19:25:23.615Z"
   },
   {
    "duration": 45,
    "start_time": "2021-07-13T19:26:01.665Z"
   },
   {
    "duration": 11,
    "start_time": "2021-07-13T19:26:27.686Z"
   },
   {
    "duration": 58,
    "start_time": "2021-07-13T19:31:19.809Z"
   },
   {
    "duration": 11,
    "start_time": "2021-07-13T19:31:32.245Z"
   },
   {
    "duration": 24,
    "start_time": "2021-07-13T19:31:57.819Z"
   },
   {
    "duration": 431,
    "start_time": "2021-07-13T19:32:10.958Z"
   },
   {
    "duration": 11,
    "start_time": "2021-07-13T19:32:21.642Z"
   },
   {
    "duration": 67,
    "start_time": "2021-07-13T19:33:29.664Z"
   },
   {
    "duration": 14,
    "start_time": "2021-07-13T19:33:44.320Z"
   },
   {
    "duration": 27,
    "start_time": "2021-07-13T19:33:59.086Z"
   },
   {
    "duration": 10,
    "start_time": "2021-07-13T19:34:09.166Z"
   },
   {
    "duration": 13,
    "start_time": "2021-07-13T19:37:27.779Z"
   },
   {
    "duration": 14,
    "start_time": "2021-07-13T19:37:39.425Z"
   },
   {
    "duration": 24,
    "start_time": "2021-07-13T19:42:03.402Z"
   },
   {
    "duration": 30,
    "start_time": "2021-07-13T19:43:10.539Z"
   },
   {
    "duration": 404,
    "start_time": "2021-07-13T19:45:08.739Z"
   },
   {
    "duration": 347,
    "start_time": "2021-07-13T19:46:15.810Z"
   },
   {
    "duration": 10,
    "start_time": "2021-07-13T19:48:20.830Z"
   },
   {
    "duration": 8,
    "start_time": "2021-07-13T19:49:56.373Z"
   },
   {
    "duration": 14,
    "start_time": "2021-07-13T19:50:14.751Z"
   },
   {
    "duration": 6,
    "start_time": "2021-07-13T19:51:02.116Z"
   },
   {
    "duration": 22,
    "start_time": "2021-07-13T19:52:35.021Z"
   },
   {
    "duration": 10837,
    "start_time": "2021-07-13T19:52:58.782Z"
   },
   {
    "duration": 372,
    "start_time": "2021-07-13T20:21:08.413Z"
   },
   {
    "duration": 1325,
    "start_time": "2021-07-13T20:21:17.664Z"
   },
   {
    "duration": 815,
    "start_time": "2021-07-13T20:21:18.993Z"
   },
   {
    "duration": 29,
    "start_time": "2021-07-13T20:21:19.812Z"
   },
   {
    "duration": 43,
    "start_time": "2021-07-13T20:21:19.845Z"
   },
   {
    "duration": 16,
    "start_time": "2021-07-13T20:21:19.891Z"
   },
   {
    "duration": 20,
    "start_time": "2021-07-13T20:21:19.910Z"
   },
   {
    "duration": 41,
    "start_time": "2021-07-13T20:21:19.933Z"
   },
   {
    "duration": 21,
    "start_time": "2021-07-13T20:21:19.977Z"
   },
   {
    "duration": 74,
    "start_time": "2021-07-13T20:21:20.004Z"
   },
   {
    "duration": 45,
    "start_time": "2021-07-13T20:21:20.083Z"
   },
   {
    "duration": 162,
    "start_time": "2021-07-13T20:21:20.131Z"
   },
   {
    "duration": 14,
    "start_time": "2021-07-13T20:21:20.296Z"
   },
   {
    "duration": 9,
    "start_time": "2021-07-13T20:21:20.313Z"
   },
   {
    "duration": 23,
    "start_time": "2021-07-13T20:21:20.327Z"
   },
   {
    "duration": 60,
    "start_time": "2021-07-13T20:21:20.353Z"
   },
   {
    "duration": 12,
    "start_time": "2021-07-13T20:21:20.416Z"
   },
   {
    "duration": 38,
    "start_time": "2021-07-13T20:21:20.432Z"
   },
   {
    "duration": 32,
    "start_time": "2021-07-13T20:21:20.473Z"
   },
   {
    "duration": 62,
    "start_time": "2021-07-13T20:21:20.508Z"
   },
   {
    "duration": 10,
    "start_time": "2021-07-13T20:21:20.573Z"
   },
   {
    "duration": 22,
    "start_time": "2021-07-13T20:21:20.585Z"
   },
   {
    "duration": 63,
    "start_time": "2021-07-13T20:21:20.610Z"
   },
   {
    "duration": 22,
    "start_time": "2021-07-13T20:21:20.675Z"
   },
   {
    "duration": 77,
    "start_time": "2021-07-13T20:21:20.700Z"
   },
   {
    "duration": 15,
    "start_time": "2021-07-13T20:21:20.779Z"
   },
   {
    "duration": 12,
    "start_time": "2021-07-13T20:21:20.796Z"
   },
   {
    "duration": 127,
    "start_time": "2021-07-13T20:21:20.813Z"
   },
   {
    "duration": 23,
    "start_time": "2021-07-13T20:21:20.944Z"
   },
   {
    "duration": 60,
    "start_time": "2021-07-13T20:21:20.970Z"
   },
   {
    "duration": 13,
    "start_time": "2021-07-13T20:21:21.033Z"
   },
   {
    "duration": 103,
    "start_time": "2021-07-13T20:21:21.069Z"
   },
   {
    "duration": 14,
    "start_time": "2021-07-13T20:21:21.175Z"
   },
   {
    "duration": 44,
    "start_time": "2021-07-13T20:21:21.191Z"
   },
   {
    "duration": 29,
    "start_time": "2021-07-13T20:21:21.238Z"
   },
   {
    "duration": 65,
    "start_time": "2021-07-13T20:21:21.270Z"
   },
   {
    "duration": 37,
    "start_time": "2021-07-13T20:21:21.338Z"
   },
   {
    "duration": 34,
    "start_time": "2021-07-13T20:21:21.377Z"
   },
   {
    "duration": 10,
    "start_time": "2021-07-13T20:21:21.413Z"
   },
   {
    "duration": 14,
    "start_time": "2021-07-13T20:21:21.426Z"
   },
   {
    "duration": 36,
    "start_time": "2021-07-13T20:21:21.442Z"
   },
   {
    "duration": 28,
    "start_time": "2021-07-13T20:21:21.480Z"
   },
   {
    "duration": 57,
    "start_time": "2021-07-13T20:21:21.511Z"
   },
   {
    "duration": 533,
    "start_time": "2021-07-13T20:21:21.571Z"
   },
   {
    "duration": 834,
    "start_time": "2021-07-13T20:21:21.273Z"
   },
   {
    "duration": 834,
    "start_time": "2021-07-13T20:21:21.276Z"
   },
   {
    "duration": 834,
    "start_time": "2021-07-13T20:21:21.278Z"
   },
   {
    "duration": 834,
    "start_time": "2021-07-13T20:21:21.280Z"
   },
   {
    "duration": 833,
    "start_time": "2021-07-13T20:21:21.283Z"
   },
   {
    "duration": 12,
    "start_time": "2021-07-13T20:27:44.671Z"
   },
   {
    "duration": 16,
    "start_time": "2021-07-13T20:27:57.646Z"
   },
   {
    "duration": 39,
    "start_time": "2021-07-13T20:28:12.585Z"
   },
   {
    "duration": 351,
    "start_time": "2021-07-13T20:28:41.748Z"
   },
   {
    "duration": 510,
    "start_time": "2021-07-13T20:29:06.223Z"
   },
   {
    "duration": 333,
    "start_time": "2021-07-13T20:29:15.188Z"
   },
   {
    "duration": 854,
    "start_time": "2021-07-13T20:29:41.496Z"
   },
   {
    "duration": 553,
    "start_time": "2021-07-13T20:29:42.353Z"
   },
   {
    "duration": 20,
    "start_time": "2021-07-13T20:29:42.909Z"
   },
   {
    "duration": 36,
    "start_time": "2021-07-13T20:29:42.932Z"
   },
   {
    "duration": 9,
    "start_time": "2021-07-13T20:29:42.971Z"
   },
   {
    "duration": 10,
    "start_time": "2021-07-13T20:29:42.983Z"
   },
   {
    "duration": 24,
    "start_time": "2021-07-13T20:29:42.995Z"
   },
   {
    "duration": 22,
    "start_time": "2021-07-13T20:29:43.021Z"
   },
   {
    "duration": 74,
    "start_time": "2021-07-13T20:29:43.048Z"
   },
   {
    "duration": 45,
    "start_time": "2021-07-13T20:29:43.126Z"
   },
   {
    "duration": 75,
    "start_time": "2021-07-13T20:29:43.174Z"
   },
   {
    "duration": 16,
    "start_time": "2021-07-13T20:29:43.268Z"
   },
   {
    "duration": 7,
    "start_time": "2021-07-13T20:29:43.287Z"
   },
   {
    "duration": 7,
    "start_time": "2021-07-13T20:29:43.297Z"
   },
   {
    "duration": 86,
    "start_time": "2021-07-13T20:29:43.307Z"
   },
   {
    "duration": 11,
    "start_time": "2021-07-13T20:29:43.395Z"
   },
   {
    "duration": 10,
    "start_time": "2021-07-13T20:29:43.408Z"
   },
   {
    "duration": 51,
    "start_time": "2021-07-13T20:29:43.420Z"
   },
   {
    "duration": 39,
    "start_time": "2021-07-13T20:29:43.473Z"
   },
   {
    "duration": 10,
    "start_time": "2021-07-13T20:29:43.514Z"
   },
   {
    "duration": 42,
    "start_time": "2021-07-13T20:29:43.527Z"
   },
   {
    "duration": 58,
    "start_time": "2021-07-13T20:29:43.572Z"
   },
   {
    "duration": 51,
    "start_time": "2021-07-13T20:29:43.633Z"
   },
   {
    "duration": 101,
    "start_time": "2021-07-13T20:29:43.686Z"
   },
   {
    "duration": 19,
    "start_time": "2021-07-13T20:29:43.789Z"
   },
   {
    "duration": 16,
    "start_time": "2021-07-13T20:29:43.810Z"
   },
   {
    "duration": 182,
    "start_time": "2021-07-13T20:29:43.832Z"
   },
   {
    "duration": 15,
    "start_time": "2021-07-13T20:29:44.017Z"
   },
   {
    "duration": 59,
    "start_time": "2021-07-13T20:29:44.035Z"
   },
   {
    "duration": 10,
    "start_time": "2021-07-13T20:29:44.097Z"
   },
   {
    "duration": 76,
    "start_time": "2021-07-13T20:29:44.109Z"
   },
   {
    "duration": 11,
    "start_time": "2021-07-13T20:29:44.188Z"
   },
   {
    "duration": 25,
    "start_time": "2021-07-13T20:29:44.201Z"
   },
   {
    "duration": 39,
    "start_time": "2021-07-13T20:29:44.229Z"
   },
   {
    "duration": 68,
    "start_time": "2021-07-13T20:29:44.270Z"
   },
   {
    "duration": 37,
    "start_time": "2021-07-13T20:29:44.341Z"
   },
   {
    "duration": 31,
    "start_time": "2021-07-13T20:29:44.381Z"
   },
   {
    "duration": 13,
    "start_time": "2021-07-13T20:29:44.414Z"
   },
   {
    "duration": 643,
    "start_time": "2021-07-13T20:32:44.504Z"
   },
   {
    "duration": 1453,
    "start_time": "2021-07-13T20:32:51.274Z"
   },
   {
    "duration": 537,
    "start_time": "2021-07-13T20:32:52.730Z"
   },
   {
    "duration": 19,
    "start_time": "2021-07-13T20:32:53.273Z"
   },
   {
    "duration": 24,
    "start_time": "2021-07-13T20:32:53.294Z"
   },
   {
    "duration": 8,
    "start_time": "2021-07-13T20:32:53.321Z"
   },
   {
    "duration": 10,
    "start_time": "2021-07-13T20:32:53.367Z"
   },
   {
    "duration": 13,
    "start_time": "2021-07-13T20:32:53.381Z"
   },
   {
    "duration": 11,
    "start_time": "2021-07-13T20:32:53.397Z"
   },
   {
    "duration": 93,
    "start_time": "2021-07-13T20:32:53.411Z"
   },
   {
    "duration": 43,
    "start_time": "2021-07-13T20:32:53.507Z"
   },
   {
    "duration": 140,
    "start_time": "2021-07-13T20:32:53.568Z"
   },
   {
    "duration": 17,
    "start_time": "2021-07-13T20:32:53.711Z"
   },
   {
    "duration": 6,
    "start_time": "2021-07-13T20:32:53.731Z"
   },
   {
    "duration": 31,
    "start_time": "2021-07-13T20:32:53.739Z"
   },
   {
    "duration": 50,
    "start_time": "2021-07-13T20:32:53.773Z"
   },
   {
    "duration": 10,
    "start_time": "2021-07-13T20:32:53.825Z"
   },
   {
    "duration": 37,
    "start_time": "2021-07-13T20:32:53.838Z"
   },
   {
    "duration": 24,
    "start_time": "2021-07-13T20:32:53.878Z"
   },
   {
    "duration": 64,
    "start_time": "2021-07-13T20:32:53.905Z"
   },
   {
    "duration": 13,
    "start_time": "2021-07-13T20:32:53.971Z"
   },
   {
    "duration": 11,
    "start_time": "2021-07-13T20:32:53.987Z"
   },
   {
    "duration": 66,
    "start_time": "2021-07-13T20:32:54.002Z"
   },
   {
    "duration": 23,
    "start_time": "2021-07-13T20:32:54.072Z"
   },
   {
    "duration": 70,
    "start_time": "2021-07-13T20:32:54.097Z"
   },
   {
    "duration": 16,
    "start_time": "2021-07-13T20:32:54.169Z"
   },
   {
    "duration": 12,
    "start_time": "2021-07-13T20:32:54.187Z"
   },
   {
    "duration": 119,
    "start_time": "2021-07-13T20:32:54.201Z"
   },
   {
    "duration": 11,
    "start_time": "2021-07-13T20:32:54.323Z"
   },
   {
    "duration": 58,
    "start_time": "2021-07-13T20:32:54.336Z"
   },
   {
    "duration": 11,
    "start_time": "2021-07-13T20:32:54.396Z"
   },
   {
    "duration": 72,
    "start_time": "2021-07-13T20:32:54.409Z"
   },
   {
    "duration": 11,
    "start_time": "2021-07-13T20:32:54.483Z"
   },
   {
    "duration": 26,
    "start_time": "2021-07-13T20:32:54.497Z"
   },
   {
    "duration": 10,
    "start_time": "2021-07-13T20:32:54.525Z"
   },
   {
    "duration": 95,
    "start_time": "2021-07-13T20:32:54.538Z"
   },
   {
    "duration": 33,
    "start_time": "2021-07-13T20:32:54.635Z"
   },
   {
    "duration": 27,
    "start_time": "2021-07-13T20:32:54.671Z"
   },
   {
    "duration": 10,
    "start_time": "2021-07-13T20:32:54.700Z"
   },
   {
    "duration": 5,
    "start_time": "2021-07-13T20:33:59.334Z"
   },
   {
    "duration": 11,
    "start_time": "2021-07-13T20:34:10.479Z"
   },
   {
    "duration": 1445,
    "start_time": "2021-07-13T20:34:19.558Z"
   },
   {
    "duration": 570,
    "start_time": "2021-07-13T20:34:21.007Z"
   },
   {
    "duration": 22,
    "start_time": "2021-07-13T20:34:21.581Z"
   },
   {
    "duration": 25,
    "start_time": "2021-07-13T20:34:21.607Z"
   },
   {
    "duration": 41,
    "start_time": "2021-07-13T20:34:21.635Z"
   },
   {
    "duration": 13,
    "start_time": "2021-07-13T20:34:21.679Z"
   },
   {
    "duration": 12,
    "start_time": "2021-07-13T20:34:21.694Z"
   },
   {
    "duration": 18,
    "start_time": "2021-07-13T20:34:21.708Z"
   },
   {
    "duration": 74,
    "start_time": "2021-07-13T20:34:21.732Z"
   },
   {
    "duration": 31,
    "start_time": "2021-07-13T20:34:21.810Z"
   },
   {
    "duration": 44,
    "start_time": "2021-07-13T20:34:21.868Z"
   },
   {
    "duration": 54,
    "start_time": "2021-07-13T20:34:21.915Z"
   },
   {
    "duration": 5,
    "start_time": "2021-07-13T20:34:21.971Z"
   },
   {
    "duration": 13,
    "start_time": "2021-07-13T20:34:21.979Z"
   },
   {
    "duration": 6,
    "start_time": "2021-07-13T20:34:21.994Z"
   },
   {
    "duration": 6,
    "start_time": "2021-07-13T20:34:22.003Z"
   },
   {
    "duration": 94,
    "start_time": "2021-07-13T20:34:22.011Z"
   },
   {
    "duration": 9,
    "start_time": "2021-07-13T20:34:22.108Z"
   },
   {
    "duration": 10,
    "start_time": "2021-07-13T20:34:22.119Z"
   },
   {
    "duration": 58,
    "start_time": "2021-07-13T20:34:22.132Z"
   },
   {
    "duration": 40,
    "start_time": "2021-07-13T20:34:22.192Z"
   },
   {
    "duration": 36,
    "start_time": "2021-07-13T20:34:22.235Z"
   },
   {
    "duration": 11,
    "start_time": "2021-07-13T20:34:22.274Z"
   },
   {
    "duration": 36,
    "start_time": "2021-07-13T20:34:22.288Z"
   },
   {
    "duration": 61,
    "start_time": "2021-07-13T20:34:22.326Z"
   },
   {
    "duration": 55,
    "start_time": "2021-07-13T20:34:22.389Z"
   },
   {
    "duration": 32,
    "start_time": "2021-07-13T20:34:22.449Z"
   },
   {
    "duration": 13,
    "start_time": "2021-07-13T20:34:22.484Z"
   },
   {
    "duration": 118,
    "start_time": "2021-07-13T20:34:22.500Z"
   },
   {
    "duration": 13,
    "start_time": "2021-07-13T20:34:22.620Z"
   },
   {
    "duration": 60,
    "start_time": "2021-07-13T20:34:22.636Z"
   },
   {
    "duration": 11,
    "start_time": "2021-07-13T20:34:22.699Z"
   },
   {
    "duration": 85,
    "start_time": "2021-07-13T20:34:22.713Z"
   },
   {
    "duration": 11,
    "start_time": "2021-07-13T20:34:22.800Z"
   },
   {
    "duration": 25,
    "start_time": "2021-07-13T20:34:22.813Z"
   },
   {
    "duration": 30,
    "start_time": "2021-07-13T20:34:22.840Z"
   },
   {
    "duration": 68,
    "start_time": "2021-07-13T20:34:22.872Z"
   },
   {
    "duration": 35,
    "start_time": "2021-07-13T20:34:22.943Z"
   },
   {
    "duration": 28,
    "start_time": "2021-07-13T20:34:22.980Z"
   },
   {
    "duration": 10,
    "start_time": "2021-07-13T20:34:23.011Z"
   },
   {
    "duration": 6,
    "start_time": "2021-07-13T20:35:26.288Z"
   },
   {
    "duration": 1398,
    "start_time": "2021-07-13T20:35:47.528Z"
   },
   {
    "duration": 541,
    "start_time": "2021-07-13T20:35:48.928Z"
   },
   {
    "duration": 20,
    "start_time": "2021-07-13T20:35:49.472Z"
   },
   {
    "duration": 33,
    "start_time": "2021-07-13T20:35:49.496Z"
   },
   {
    "duration": 12,
    "start_time": "2021-07-13T20:35:49.532Z"
   },
   {
    "duration": 31,
    "start_time": "2021-07-13T20:35:49.547Z"
   },
   {
    "duration": 25,
    "start_time": "2021-07-13T20:35:49.581Z"
   },
   {
    "duration": 17,
    "start_time": "2021-07-13T20:35:49.610Z"
   },
   {
    "duration": 65,
    "start_time": "2021-07-13T20:35:49.630Z"
   },
   {
    "duration": 29,
    "start_time": "2021-07-13T20:35:49.697Z"
   },
   {
    "duration": 76,
    "start_time": "2021-07-13T20:35:49.728Z"
   },
   {
    "duration": 34,
    "start_time": "2021-07-13T20:35:49.807Z"
   },
   {
    "duration": 25,
    "start_time": "2021-07-13T20:35:49.843Z"
   },
   {
    "duration": 32,
    "start_time": "2021-07-13T20:35:49.871Z"
   },
   {
    "duration": 29,
    "start_time": "2021-07-13T20:35:49.905Z"
   },
   {
    "duration": 14,
    "start_time": "2021-07-13T20:35:49.936Z"
   },
   {
    "duration": 51,
    "start_time": "2021-07-13T20:35:49.953Z"
   },
   {
    "duration": 10,
    "start_time": "2021-07-13T20:35:50.007Z"
   },
   {
    "duration": 25,
    "start_time": "2021-07-13T20:35:50.020Z"
   },
   {
    "duration": 36,
    "start_time": "2021-07-13T20:35:50.048Z"
   },
   {
    "duration": 62,
    "start_time": "2021-07-13T20:35:50.087Z"
   },
   {
    "duration": 10,
    "start_time": "2021-07-13T20:35:50.151Z"
   },
   {
    "duration": 13,
    "start_time": "2021-07-13T20:35:50.166Z"
   },
   {
    "duration": 53,
    "start_time": "2021-07-13T20:35:50.182Z"
   },
   {
    "duration": 35,
    "start_time": "2021-07-13T20:35:50.237Z"
   },
   {
    "duration": 47,
    "start_time": "2021-07-13T20:35:50.274Z"
   },
   {
    "duration": 14,
    "start_time": "2021-07-13T20:35:50.324Z"
   },
   {
    "duration": 39,
    "start_time": "2021-07-13T20:35:50.341Z"
   },
   {
    "duration": 97,
    "start_time": "2021-07-13T20:35:50.382Z"
   },
   {
    "duration": 11,
    "start_time": "2021-07-13T20:35:50.481Z"
   },
   {
    "duration": 62,
    "start_time": "2021-07-13T20:35:50.495Z"
   },
   {
    "duration": 16,
    "start_time": "2021-07-13T20:35:50.559Z"
   },
   {
    "duration": 62,
    "start_time": "2021-07-13T20:35:50.577Z"
   },
   {
    "duration": 26,
    "start_time": "2021-07-13T20:35:50.641Z"
   },
   {
    "duration": 25,
    "start_time": "2021-07-13T20:35:50.670Z"
   },
   {
    "duration": 13,
    "start_time": "2021-07-13T20:35:50.697Z"
   },
   {
    "duration": 105,
    "start_time": "2021-07-13T20:35:50.712Z"
   },
   {
    "duration": 13,
    "start_time": "2021-07-13T20:35:50.819Z"
   },
   {
    "duration": 45,
    "start_time": "2021-07-13T20:35:50.835Z"
   },
   {
    "duration": 9,
    "start_time": "2021-07-13T20:35:50.883Z"
   },
   {
    "duration": 1387,
    "start_time": "2021-07-13T20:36:11.937Z"
   },
   {
    "duration": 538,
    "start_time": "2021-07-13T20:36:13.327Z"
   },
   {
    "duration": 22,
    "start_time": "2021-07-13T20:36:13.874Z"
   },
   {
    "duration": 24,
    "start_time": "2021-07-13T20:36:13.899Z"
   },
   {
    "duration": 49,
    "start_time": "2021-07-13T20:36:13.926Z"
   },
   {
    "duration": 12,
    "start_time": "2021-07-13T20:36:13.978Z"
   },
   {
    "duration": 15,
    "start_time": "2021-07-13T20:36:13.995Z"
   },
   {
    "duration": 21,
    "start_time": "2021-07-13T20:36:14.013Z"
   },
   {
    "duration": 64,
    "start_time": "2021-07-13T20:36:14.036Z"
   },
   {
    "duration": 26,
    "start_time": "2021-07-13T20:36:14.103Z"
   },
   {
    "duration": 66,
    "start_time": "2021-07-13T20:36:14.132Z"
   },
   {
    "duration": 32,
    "start_time": "2021-07-13T20:36:14.200Z"
   },
   {
    "duration": 8,
    "start_time": "2021-07-13T20:36:14.234Z"
   },
   {
    "duration": 33,
    "start_time": "2021-07-13T20:36:14.244Z"
   },
   {
    "duration": 9,
    "start_time": "2021-07-13T20:36:14.279Z"
   },
   {
    "duration": 49,
    "start_time": "2021-07-13T20:36:14.290Z"
   },
   {
    "duration": 10,
    "start_time": "2021-07-13T20:36:14.367Z"
   },
   {
    "duration": 9,
    "start_time": "2021-07-13T20:36:14.379Z"
   },
   {
    "duration": 26,
    "start_time": "2021-07-13T20:36:14.391Z"
   },
   {
    "duration": 71,
    "start_time": "2021-07-13T20:36:14.419Z"
   },
   {
    "duration": 10,
    "start_time": "2021-07-13T20:36:14.493Z"
   },
   {
    "duration": 12,
    "start_time": "2021-07-13T20:36:14.508Z"
   },
   {
    "duration": 37,
    "start_time": "2021-07-13T20:36:14.568Z"
   },
   {
    "duration": 78,
    "start_time": "2021-07-13T20:36:14.608Z"
   },
   {
    "duration": 100,
    "start_time": "2021-07-13T20:36:14.689Z"
   },
   {
    "duration": 15,
    "start_time": "2021-07-13T20:36:14.791Z"
   },
   {
    "duration": 65,
    "start_time": "2021-07-13T20:36:14.810Z"
   },
   {
    "duration": 200,
    "start_time": "2021-07-13T20:36:14.878Z"
   },
   {
    "duration": 11,
    "start_time": "2021-07-13T20:36:15.081Z"
   },
   {
    "duration": 101,
    "start_time": "2021-07-13T20:36:15.095Z"
   },
   {
    "duration": 10,
    "start_time": "2021-07-13T20:36:15.199Z"
   },
   {
    "duration": 104,
    "start_time": "2021-07-13T20:36:15.268Z"
   },
   {
    "duration": 11,
    "start_time": "2021-07-13T20:36:15.375Z"
   },
   {
    "duration": 25,
    "start_time": "2021-07-13T20:36:15.389Z"
   },
   {
    "duration": 10,
    "start_time": "2021-07-13T20:36:15.417Z"
   },
   {
    "duration": 107,
    "start_time": "2021-07-13T20:36:15.430Z"
   },
   {
    "duration": 27,
    "start_time": "2021-07-13T20:36:15.540Z"
   },
   {
    "duration": 27,
    "start_time": "2021-07-13T20:36:15.569Z"
   },
   {
    "duration": 10,
    "start_time": "2021-07-13T20:36:15.598Z"
   },
   {
    "duration": 10,
    "start_time": "2021-07-13T20:36:45.516Z"
   },
   {
    "duration": 9,
    "start_time": "2021-07-13T20:37:02.952Z"
   },
   {
    "duration": 1355,
    "start_time": "2021-07-13T20:37:10.007Z"
   },
   {
    "duration": 529,
    "start_time": "2021-07-13T20:37:11.364Z"
   },
   {
    "duration": 19,
    "start_time": "2021-07-13T20:37:11.896Z"
   },
   {
    "duration": 22,
    "start_time": "2021-07-13T20:37:11.918Z"
   },
   {
    "duration": 30,
    "start_time": "2021-07-13T20:37:11.943Z"
   },
   {
    "duration": 9,
    "start_time": "2021-07-13T20:37:11.975Z"
   },
   {
    "duration": 11,
    "start_time": "2021-07-13T20:37:11.987Z"
   },
   {
    "duration": 13,
    "start_time": "2021-07-13T20:37:12.002Z"
   },
   {
    "duration": 77,
    "start_time": "2021-07-13T20:37:12.019Z"
   },
   {
    "duration": 29,
    "start_time": "2021-07-13T20:37:12.099Z"
   },
   {
    "duration": 73,
    "start_time": "2021-07-13T20:37:12.131Z"
   },
   {
    "duration": 33,
    "start_time": "2021-07-13T20:37:12.207Z"
   },
   {
    "duration": 26,
    "start_time": "2021-07-13T20:37:12.243Z"
   },
   {
    "duration": 12,
    "start_time": "2021-07-13T20:37:12.272Z"
   },
   {
    "duration": 10,
    "start_time": "2021-07-13T20:37:12.286Z"
   },
   {
    "duration": 78,
    "start_time": "2021-07-13T20:37:12.298Z"
   },
   {
    "duration": 9,
    "start_time": "2021-07-13T20:37:12.378Z"
   },
   {
    "duration": 9,
    "start_time": "2021-07-13T20:37:12.390Z"
   },
   {
    "duration": 21,
    "start_time": "2021-07-13T20:37:12.401Z"
   },
   {
    "duration": 81,
    "start_time": "2021-07-13T20:37:12.425Z"
   },
   {
    "duration": 25,
    "start_time": "2021-07-13T20:37:12.509Z"
   },
   {
    "duration": 9,
    "start_time": "2021-07-13T20:37:12.536Z"
   },
   {
    "duration": 11,
    "start_time": "2021-07-13T20:37:12.570Z"
   },
   {
    "duration": 39,
    "start_time": "2021-07-13T20:37:12.584Z"
   },
   {
    "duration": 47,
    "start_time": "2021-07-13T20:37:12.625Z"
   },
   {
    "duration": 24,
    "start_time": "2021-07-13T20:37:12.675Z"
   },
   {
    "duration": 33,
    "start_time": "2021-07-13T20:37:12.701Z"
   },
   {
    "duration": 35,
    "start_time": "2021-07-13T20:37:12.736Z"
   },
   {
    "duration": 12,
    "start_time": "2021-07-13T20:37:12.774Z"
   },
   {
    "duration": 110,
    "start_time": "2021-07-13T20:37:12.788Z"
   },
   {
    "duration": 12,
    "start_time": "2021-07-13T20:37:12.900Z"
   },
   {
    "duration": 61,
    "start_time": "2021-07-13T20:37:12.914Z"
   },
   {
    "duration": 10,
    "start_time": "2021-07-13T20:37:12.977Z"
   },
   {
    "duration": 62,
    "start_time": "2021-07-13T20:37:12.989Z"
   },
   {
    "duration": 11,
    "start_time": "2021-07-13T20:37:13.067Z"
   },
   {
    "duration": 29,
    "start_time": "2021-07-13T20:37:13.081Z"
   },
   {
    "duration": 10,
    "start_time": "2021-07-13T20:37:13.112Z"
   },
   {
    "duration": 95,
    "start_time": "2021-07-13T20:37:13.124Z"
   },
   {
    "duration": 13,
    "start_time": "2021-07-13T20:37:13.222Z"
   },
   {
    "duration": 48,
    "start_time": "2021-07-13T20:37:13.238Z"
   },
   {
    "duration": 11,
    "start_time": "2021-07-13T20:37:13.288Z"
   },
   {
    "duration": 5,
    "start_time": "2021-07-13T20:38:12.881Z"
   },
   {
    "duration": 9,
    "start_time": "2021-07-13T20:38:26.690Z"
   },
   {
    "duration": 1814,
    "start_time": "2021-07-13T20:38:34.322Z"
   },
   {
    "duration": 754,
    "start_time": "2021-07-13T20:38:36.139Z"
   },
   {
    "duration": 27,
    "start_time": "2021-07-13T20:38:36.901Z"
   },
   {
    "duration": 41,
    "start_time": "2021-07-13T20:38:36.931Z"
   },
   {
    "duration": 10,
    "start_time": "2021-07-13T20:38:36.975Z"
   },
   {
    "duration": 10,
    "start_time": "2021-07-13T20:38:36.988Z"
   },
   {
    "duration": 11,
    "start_time": "2021-07-13T20:38:37.002Z"
   },
   {
    "duration": 12,
    "start_time": "2021-07-13T20:38:37.016Z"
   },
   {
    "duration": 40,
    "start_time": "2021-07-13T20:38:37.067Z"
   },
   {
    "duration": 27,
    "start_time": "2021-07-13T20:38:37.110Z"
   },
   {
    "duration": 45,
    "start_time": "2021-07-13T20:38:37.168Z"
   },
   {
    "duration": 53,
    "start_time": "2021-07-13T20:38:37.216Z"
   },
   {
    "duration": 6,
    "start_time": "2021-07-13T20:38:37.272Z"
   },
   {
    "duration": 12,
    "start_time": "2021-07-13T20:38:37.280Z"
   },
   {
    "duration": 8,
    "start_time": "2021-07-13T20:38:37.294Z"
   },
   {
    "duration": 83,
    "start_time": "2021-07-13T20:38:37.305Z"
   },
   {
    "duration": 12,
    "start_time": "2021-07-13T20:38:37.391Z"
   },
   {
    "duration": 10,
    "start_time": "2021-07-13T20:38:37.406Z"
   },
   {
    "duration": 60,
    "start_time": "2021-07-13T20:38:37.419Z"
   },
   {
    "duration": 22,
    "start_time": "2021-07-13T20:38:37.482Z"
   },
   {
    "duration": 26,
    "start_time": "2021-07-13T20:38:37.507Z"
   },
   {
    "duration": 37,
    "start_time": "2021-07-13T20:38:37.539Z"
   },
   {
    "duration": 13,
    "start_time": "2021-07-13T20:38:37.580Z"
   },
   {
    "duration": 73,
    "start_time": "2021-07-13T20:38:37.596Z"
   },
   {
    "duration": 25,
    "start_time": "2021-07-13T20:38:37.672Z"
   },
   {
    "duration": 25,
    "start_time": "2021-07-13T20:38:37.700Z"
   },
   {
    "duration": 66,
    "start_time": "2021-07-13T20:38:37.728Z"
   },
   {
    "duration": 15,
    "start_time": "2021-07-13T20:38:37.797Z"
   },
   {
    "duration": 12,
    "start_time": "2021-07-13T20:38:37.815Z"
   },
   {
    "duration": 37,
    "start_time": "2021-07-13T20:38:37.830Z"
   },
   {
    "duration": 11,
    "start_time": "2021-07-13T20:38:37.870Z"
   },
   {
    "duration": 104,
    "start_time": "2021-07-13T20:38:37.883Z"
   },
   {
    "duration": 12,
    "start_time": "2021-07-13T20:38:37.990Z"
   },
   {
    "duration": 66,
    "start_time": "2021-07-13T20:38:38.005Z"
   },
   {
    "duration": 10,
    "start_time": "2021-07-13T20:38:38.073Z"
   },
   {
    "duration": 58,
    "start_time": "2021-07-13T20:38:38.086Z"
   },
   {
    "duration": 27,
    "start_time": "2021-07-13T20:38:38.146Z"
   },
   {
    "duration": 24,
    "start_time": "2021-07-13T20:38:38.176Z"
   },
   {
    "duration": 9,
    "start_time": "2021-07-13T20:38:38.202Z"
   },
   {
    "duration": 89,
    "start_time": "2021-07-13T20:38:38.214Z"
   },
   {
    "duration": 14,
    "start_time": "2021-07-13T20:38:38.305Z"
   },
   {
    "duration": 45,
    "start_time": "2021-07-13T20:38:38.322Z"
   },
   {
    "duration": 10,
    "start_time": "2021-07-13T20:38:38.370Z"
   },
   {
    "duration": 12,
    "start_time": "2021-07-13T20:39:32.469Z"
   },
   {
    "duration": 14,
    "start_time": "2021-07-13T20:39:38.923Z"
   },
   {
    "duration": 15,
    "start_time": "2021-07-13T20:39:55.946Z"
   },
   {
    "duration": 14,
    "start_time": "2021-07-13T20:40:00.696Z"
   },
   {
    "duration": 31,
    "start_time": "2021-07-13T20:40:22.103Z"
   },
   {
    "duration": 12,
    "start_time": "2021-07-13T20:40:35.081Z"
   },
   {
    "duration": 16,
    "start_time": "2021-07-13T20:40:42.253Z"
   },
   {
    "duration": 40,
    "start_time": "2021-07-13T20:40:51.000Z"
   },
   {
    "duration": 461,
    "start_time": "2021-07-13T20:40:58.049Z"
   },
   {
    "duration": 3,
    "start_time": "2021-07-13T20:41:19.537Z"
   },
   {
    "duration": 1469,
    "start_time": "2021-07-13T20:41:26.663Z"
   },
   {
    "duration": 535,
    "start_time": "2021-07-13T20:41:28.134Z"
   },
   {
    "duration": 19,
    "start_time": "2021-07-13T20:41:28.672Z"
   },
   {
    "duration": 30,
    "start_time": "2021-07-13T20:41:28.694Z"
   },
   {
    "duration": 11,
    "start_time": "2021-07-13T20:41:28.727Z"
   },
   {
    "duration": 10,
    "start_time": "2021-07-13T20:41:28.768Z"
   },
   {
    "duration": 11,
    "start_time": "2021-07-13T20:41:28.780Z"
   },
   {
    "duration": 13,
    "start_time": "2021-07-13T20:41:28.795Z"
   },
   {
    "duration": 92,
    "start_time": "2021-07-13T20:41:28.812Z"
   },
   {
    "duration": 41,
    "start_time": "2021-07-13T20:41:28.907Z"
   },
   {
    "duration": 43,
    "start_time": "2021-07-13T20:41:28.968Z"
   },
   {
    "duration": 58,
    "start_time": "2021-07-13T20:41:29.013Z"
   },
   {
    "duration": 7,
    "start_time": "2021-07-13T20:41:29.073Z"
   },
   {
    "duration": 16,
    "start_time": "2021-07-13T20:41:29.082Z"
   },
   {
    "duration": 9,
    "start_time": "2021-07-13T20:41:29.101Z"
   },
   {
    "duration": 84,
    "start_time": "2021-07-13T20:41:29.112Z"
   },
   {
    "duration": 11,
    "start_time": "2021-07-13T20:41:29.198Z"
   },
   {
    "duration": 10,
    "start_time": "2021-07-13T20:41:29.212Z"
   },
   {
    "duration": 55,
    "start_time": "2021-07-13T20:41:29.225Z"
   },
   {
    "duration": 23,
    "start_time": "2021-07-13T20:41:29.282Z"
   },
   {
    "duration": 27,
    "start_time": "2021-07-13T20:41:29.308Z"
   },
   {
    "duration": 35,
    "start_time": "2021-07-13T20:41:29.337Z"
   },
   {
    "duration": 12,
    "start_time": "2021-07-13T20:41:29.378Z"
   },
   {
    "duration": 74,
    "start_time": "2021-07-13T20:41:29.393Z"
   },
   {
    "duration": 23,
    "start_time": "2021-07-13T20:41:29.470Z"
   },
   {
    "duration": 25,
    "start_time": "2021-07-13T20:41:29.495Z"
   },
   {
    "duration": 62,
    "start_time": "2021-07-13T20:41:29.523Z"
   },
   {
    "duration": 16,
    "start_time": "2021-07-13T20:41:29.588Z"
   },
   {
    "duration": 11,
    "start_time": "2021-07-13T20:41:29.607Z"
   },
   {
    "duration": 5,
    "start_time": "2021-07-13T20:41:29.621Z"
   },
   {
    "duration": 9,
    "start_time": "2021-07-13T20:41:29.668Z"
   },
   {
    "duration": 106,
    "start_time": "2021-07-13T20:41:29.679Z"
   },
   {
    "duration": 11,
    "start_time": "2021-07-13T20:41:29.788Z"
   },
   {
    "duration": 71,
    "start_time": "2021-07-13T20:41:29.802Z"
   },
   {
    "duration": 10,
    "start_time": "2021-07-13T20:41:29.876Z"
   },
   {
    "duration": 57,
    "start_time": "2021-07-13T20:41:29.888Z"
   },
   {
    "duration": 15,
    "start_time": "2021-07-13T20:41:29.968Z"
   },
   {
    "duration": 31,
    "start_time": "2021-07-13T20:41:29.985Z"
   },
   {
    "duration": 25,
    "start_time": "2021-07-13T20:41:30.018Z"
   },
   {
    "duration": 83,
    "start_time": "2021-07-13T20:41:30.046Z"
   },
   {
    "duration": 14,
    "start_time": "2021-07-13T20:41:30.131Z"
   },
   {
    "duration": 40,
    "start_time": "2021-07-13T20:41:30.168Z"
   },
   {
    "duration": 14,
    "start_time": "2021-07-13T20:41:30.210Z"
   },
   {
    "duration": 43,
    "start_time": "2021-07-13T20:41:30.227Z"
   },
   {
    "duration": 18,
    "start_time": "2021-07-13T20:41:30.273Z"
   },
   {
    "duration": 24,
    "start_time": "2021-07-13T20:41:30.294Z"
   },
   {
    "duration": 17,
    "start_time": "2021-07-13T20:41:30.321Z"
   },
   {
    "duration": 27,
    "start_time": "2021-07-13T20:41:30.340Z"
   },
   {
    "duration": 22,
    "start_time": "2021-07-13T20:41:30.370Z"
   },
   {
    "duration": 27,
    "start_time": "2021-07-13T20:41:30.394Z"
   },
   {
    "duration": 47,
    "start_time": "2021-07-13T20:41:30.423Z"
   },
   {
    "duration": 34,
    "start_time": "2021-07-13T20:41:30.473Z"
   },
   {
    "duration": 24,
    "start_time": "2021-07-13T20:42:31.636Z"
   },
   {
    "duration": 8,
    "start_time": "2021-07-13T20:42:44.161Z"
   },
   {
    "duration": 10,
    "start_time": "2021-07-13T20:42:54.769Z"
   },
   {
    "duration": 17,
    "start_time": "2021-07-13T20:43:03.972Z"
   },
   {
    "duration": 6,
    "start_time": "2021-07-13T20:43:21.902Z"
   },
   {
    "duration": 25,
    "start_time": "2021-07-13T20:43:29.468Z"
   },
   {
    "duration": 9920,
    "start_time": "2021-07-13T20:43:38.903Z"
   },
   {
    "duration": 1396,
    "start_time": "2021-07-13T20:45:54.227Z"
   },
   {
    "duration": 562,
    "start_time": "2021-07-13T20:45:55.627Z"
   },
   {
    "duration": 20,
    "start_time": "2021-07-13T20:45:56.192Z"
   },
   {
    "duration": 22,
    "start_time": "2021-07-13T20:45:56.215Z"
   },
   {
    "duration": 28,
    "start_time": "2021-07-13T20:45:56.240Z"
   },
   {
    "duration": 13,
    "start_time": "2021-07-13T20:45:56.270Z"
   },
   {
    "duration": 13,
    "start_time": "2021-07-13T20:45:56.285Z"
   },
   {
    "duration": 11,
    "start_time": "2021-07-13T20:45:56.302Z"
   },
   {
    "duration": 72,
    "start_time": "2021-07-13T20:45:56.316Z"
   },
   {
    "duration": 28,
    "start_time": "2021-07-13T20:45:56.390Z"
   },
   {
    "duration": 67,
    "start_time": "2021-07-13T20:45:56.421Z"
   },
   {
    "duration": 32,
    "start_time": "2021-07-13T20:45:56.491Z"
   },
   {
    "duration": 9,
    "start_time": "2021-07-13T20:45:56.525Z"
   },
   {
    "duration": 31,
    "start_time": "2021-07-13T20:45:56.536Z"
   },
   {
    "duration": 7,
    "start_time": "2021-07-13T20:45:56.569Z"
   },
   {
    "duration": 45,
    "start_time": "2021-07-13T20:45:56.579Z"
   },
   {
    "duration": 9,
    "start_time": "2021-07-13T20:45:56.627Z"
   },
   {
    "duration": 9,
    "start_time": "2021-07-13T20:45:56.668Z"
   },
   {
    "duration": 23,
    "start_time": "2021-07-13T20:45:56.680Z"
   },
   {
    "duration": 21,
    "start_time": "2021-07-13T20:45:56.705Z"
   },
   {
    "duration": 49,
    "start_time": "2021-07-13T20:45:56.728Z"
   },
   {
    "duration": 10,
    "start_time": "2021-07-13T20:45:56.780Z"
   },
   {
    "duration": 12,
    "start_time": "2021-07-13T20:45:56.796Z"
   },
   {
    "duration": 68,
    "start_time": "2021-07-13T20:45:56.811Z"
   },
   {
    "duration": 23,
    "start_time": "2021-07-13T20:45:56.882Z"
   },
   {
    "duration": 24,
    "start_time": "2021-07-13T20:45:56.907Z"
   },
   {
    "duration": 57,
    "start_time": "2021-07-13T20:45:56.933Z"
   },
   {
    "duration": 15,
    "start_time": "2021-07-13T20:45:56.993Z"
   },
   {
    "duration": 13,
    "start_time": "2021-07-13T20:45:57.010Z"
   },
   {
    "duration": 7,
    "start_time": "2021-07-13T20:45:57.025Z"
   },
   {
    "duration": 40,
    "start_time": "2021-07-13T20:45:57.034Z"
   },
   {
    "duration": 105,
    "start_time": "2021-07-13T20:45:57.077Z"
   },
   {
    "duration": 14,
    "start_time": "2021-07-13T20:45:57.184Z"
   },
   {
    "duration": 68,
    "start_time": "2021-07-13T20:45:57.201Z"
   },
   {
    "duration": 12,
    "start_time": "2021-07-13T20:45:57.272Z"
   },
   {
    "duration": 57,
    "start_time": "2021-07-13T20:45:57.287Z"
   },
   {
    "duration": 12,
    "start_time": "2021-07-13T20:45:57.367Z"
   },
   {
    "duration": 27,
    "start_time": "2021-07-13T20:45:57.382Z"
   },
   {
    "duration": 10,
    "start_time": "2021-07-13T20:45:57.412Z"
   },
   {
    "duration": 99,
    "start_time": "2021-07-13T20:45:57.425Z"
   },
   {
    "duration": 13,
    "start_time": "2021-07-13T20:45:57.527Z"
   },
   {
    "duration": 30,
    "start_time": "2021-07-13T20:45:57.567Z"
   },
   {
    "duration": 10,
    "start_time": "2021-07-13T20:45:57.600Z"
   },
   {
    "duration": 14,
    "start_time": "2021-07-13T20:45:57.612Z"
   },
   {
    "duration": 42,
    "start_time": "2021-07-13T20:45:57.628Z"
   },
   {
    "duration": 15,
    "start_time": "2021-07-13T20:45:57.673Z"
   },
   {
    "duration": 15,
    "start_time": "2021-07-13T20:45:57.691Z"
   },
   {
    "duration": 12,
    "start_time": "2021-07-13T20:45:57.709Z"
   },
   {
    "duration": 58,
    "start_time": "2021-07-13T20:45:57.723Z"
   },
   {
    "duration": 41,
    "start_time": "2021-07-13T20:45:57.784Z"
   },
   {
    "duration": 69,
    "start_time": "2021-07-13T20:45:57.828Z"
   },
   {
    "duration": 12,
    "start_time": "2021-07-13T20:45:57.900Z"
   },
   {
    "duration": 8,
    "start_time": "2021-07-13T20:45:57.915Z"
   },
   {
    "duration": 43,
    "start_time": "2021-07-13T20:45:57.926Z"
   },
   {
    "duration": 22,
    "start_time": "2021-07-13T20:45:57.972Z"
   },
   {
    "duration": 7,
    "start_time": "2021-07-13T20:45:57.997Z"
   },
   {
    "duration": 60,
    "start_time": "2021-07-13T20:45:58.007Z"
   },
   {
    "duration": 568,
    "start_time": "2021-07-13T20:45:58.070Z"
   },
   {
    "duration": 12,
    "start_time": "2021-07-13T20:46:10.176Z"
   },
   {
    "duration": 47,
    "start_time": "2021-07-13T20:46:19.775Z"
   },
   {
    "duration": 24,
    "start_time": "2021-07-13T20:51:37.271Z"
   },
   {
    "duration": 8,
    "start_time": "2021-07-13T20:51:57.395Z"
   },
   {
    "duration": 407,
    "start_time": "2021-07-13T20:52:07.728Z"
   },
   {
    "duration": 391,
    "start_time": "2021-07-13T20:55:32.373Z"
   },
   {
    "duration": 289,
    "start_time": "2021-07-13T20:56:19.205Z"
   },
   {
    "duration": 630,
    "start_time": "2021-07-13T20:56:30.328Z"
   },
   {
    "duration": 20,
    "start_time": "2021-07-13T21:04:12.180Z"
   },
   {
    "duration": 745,
    "start_time": "2021-07-13T21:04:40.097Z"
   },
   {
    "duration": 338,
    "start_time": "2021-07-13T21:05:02.816Z"
   },
   {
    "duration": 704,
    "start_time": "2021-07-13T21:05:17.459Z"
   },
   {
    "duration": 321,
    "start_time": "2021-07-13T21:05:23.599Z"
   },
   {
    "duration": 17,
    "start_time": "2021-07-13T21:06:33.050Z"
   },
   {
    "duration": 322,
    "start_time": "2021-07-13T21:06:54.401Z"
   },
   {
    "duration": 307,
    "start_time": "2021-07-13T21:07:07.906Z"
   },
   {
    "duration": 19,
    "start_time": "2021-07-13T21:08:42.986Z"
   },
   {
    "duration": 317,
    "start_time": "2021-07-13T21:08:53.450Z"
   },
   {
    "duration": 394,
    "start_time": "2021-07-13T21:09:04.356Z"
   },
   {
    "duration": 6,
    "start_time": "2021-07-13T21:13:22.919Z"
   },
   {
    "duration": 34,
    "start_time": "2021-07-13T21:15:42.482Z"
   },
   {
    "duration": 8,
    "start_time": "2021-07-13T21:15:50.202Z"
   },
   {
    "duration": 11,
    "start_time": "2021-07-13T21:15:58.256Z"
   },
   {
    "duration": 11,
    "start_time": "2021-07-13T21:16:07.985Z"
   },
   {
    "duration": 4,
    "start_time": "2021-07-13T21:16:17.311Z"
   },
   {
    "duration": 5,
    "start_time": "2021-07-13T21:16:25.932Z"
   },
   {
    "duration": 5,
    "start_time": "2021-07-13T21:16:35.375Z"
   },
   {
    "duration": 6,
    "start_time": "2021-07-13T21:20:31.033Z"
   },
   {
    "duration": 7,
    "start_time": "2021-07-13T21:20:37.654Z"
   },
   {
    "duration": 11,
    "start_time": "2021-07-13T21:20:44.800Z"
   },
   {
    "duration": 11,
    "start_time": "2021-07-13T21:20:51.481Z"
   },
   {
    "duration": 12,
    "start_time": "2021-07-13T21:21:01.230Z"
   },
   {
    "duration": 5,
    "start_time": "2021-07-13T21:21:07.557Z"
   },
   {
    "duration": 6,
    "start_time": "2021-07-13T21:21:15.029Z"
   },
   {
    "duration": 287,
    "start_time": "2021-07-13T21:29:21.116Z"
   },
   {
    "duration": 1430,
    "start_time": "2021-07-13T21:29:29.608Z"
   },
   {
    "duration": 584,
    "start_time": "2021-07-13T21:29:31.041Z"
   },
   {
    "duration": 23,
    "start_time": "2021-07-13T21:29:31.629Z"
   },
   {
    "duration": 30,
    "start_time": "2021-07-13T21:29:31.657Z"
   },
   {
    "duration": 13,
    "start_time": "2021-07-13T21:29:31.690Z"
   },
   {
    "duration": 16,
    "start_time": "2021-07-13T21:29:31.705Z"
   },
   {
    "duration": 44,
    "start_time": "2021-07-13T21:29:31.723Z"
   },
   {
    "duration": 11,
    "start_time": "2021-07-13T21:29:31.771Z"
   },
   {
    "duration": 41,
    "start_time": "2021-07-13T21:29:31.786Z"
   },
   {
    "duration": 54,
    "start_time": "2021-07-13T21:29:31.829Z"
   },
   {
    "duration": 44,
    "start_time": "2021-07-13T21:29:31.886Z"
   },
   {
    "duration": 52,
    "start_time": "2021-07-13T21:29:31.932Z"
   },
   {
    "duration": 6,
    "start_time": "2021-07-13T21:29:31.986Z"
   },
   {
    "duration": 13,
    "start_time": "2021-07-13T21:29:31.994Z"
   },
   {
    "duration": 11,
    "start_time": "2021-07-13T21:29:32.009Z"
   },
   {
    "duration": 82,
    "start_time": "2021-07-13T21:29:32.023Z"
   },
   {
    "duration": 9,
    "start_time": "2021-07-13T21:29:32.107Z"
   },
   {
    "duration": 10,
    "start_time": "2021-07-13T21:29:32.119Z"
   },
   {
    "duration": 50,
    "start_time": "2021-07-13T21:29:32.131Z"
   },
   {
    "duration": 21,
    "start_time": "2021-07-13T21:29:32.184Z"
   },
   {
    "duration": 26,
    "start_time": "2021-07-13T21:29:32.207Z"
   },
   {
    "duration": 35,
    "start_time": "2021-07-13T21:29:32.235Z"
   },
   {
    "duration": 11,
    "start_time": "2021-07-13T21:29:32.276Z"
   },
   {
    "duration": 40,
    "start_time": "2021-07-13T21:29:32.291Z"
   },
   {
    "duration": 47,
    "start_time": "2021-07-13T21:29:32.333Z"
   },
   {
    "duration": 29,
    "start_time": "2021-07-13T21:29:32.382Z"
   },
   {
    "duration": 33,
    "start_time": "2021-07-13T21:29:32.414Z"
   },
   {
    "duration": 16,
    "start_time": "2021-07-13T21:29:32.468Z"
   },
   {
    "duration": 12,
    "start_time": "2021-07-13T21:29:32.487Z"
   },
   {
    "duration": 9,
    "start_time": "2021-07-13T21:29:32.502Z"
   },
   {
    "duration": 22,
    "start_time": "2021-07-13T21:29:32.513Z"
   },
   {
    "duration": 113,
    "start_time": "2021-07-13T21:29:32.537Z"
   },
   {
    "duration": 24,
    "start_time": "2021-07-13T21:29:32.653Z"
   },
   {
    "duration": 47,
    "start_time": "2021-07-13T21:29:32.680Z"
   },
   {
    "duration": 10,
    "start_time": "2021-07-13T21:29:32.730Z"
   },
   {
    "duration": 82,
    "start_time": "2021-07-13T21:29:32.742Z"
   },
   {
    "duration": 13,
    "start_time": "2021-07-13T21:29:32.826Z"
   },
   {
    "duration": 44,
    "start_time": "2021-07-13T21:29:32.841Z"
   },
   {
    "duration": 10,
    "start_time": "2021-07-13T21:29:32.887Z"
   },
   {
    "duration": 92,
    "start_time": "2021-07-13T21:29:32.900Z"
   },
   {
    "duration": 14,
    "start_time": "2021-07-13T21:29:32.995Z"
   },
   {
    "duration": 27,
    "start_time": "2021-07-13T21:29:33.012Z"
   },
   {
    "duration": 33,
    "start_time": "2021-07-13T21:29:33.041Z"
   },
   {
    "duration": 16,
    "start_time": "2021-07-13T21:29:33.076Z"
   },
   {
    "duration": 14,
    "start_time": "2021-07-13T21:29:33.094Z"
   },
   {
    "duration": 14,
    "start_time": "2021-07-13T21:29:33.111Z"
   },
   {
    "duration": 52,
    "start_time": "2021-07-13T21:29:33.127Z"
   },
   {
    "duration": 14,
    "start_time": "2021-07-13T21:29:33.182Z"
   },
   {
    "duration": 18,
    "start_time": "2021-07-13T21:29:33.198Z"
   },
   {
    "duration": 63,
    "start_time": "2021-07-13T21:29:33.219Z"
   },
   {
    "duration": 34,
    "start_time": "2021-07-13T21:29:33.284Z"
   },
   {
    "duration": 10,
    "start_time": "2021-07-13T21:29:33.320Z"
   },
   {
    "duration": 35,
    "start_time": "2021-07-13T21:29:33.333Z"
   },
   {
    "duration": 12,
    "start_time": "2021-07-13T21:29:33.370Z"
   },
   {
    "duration": 17,
    "start_time": "2021-07-13T21:29:33.384Z"
   },
   {
    "duration": 6,
    "start_time": "2021-07-13T21:29:33.403Z"
   },
   {
    "duration": 60,
    "start_time": "2021-07-13T21:29:33.411Z"
   },
   {
    "duration": 360,
    "start_time": "2021-07-13T21:29:33.473Z"
   },
   {
    "duration": 10,
    "start_time": "2021-07-13T21:29:33.835Z"
   },
   {
    "duration": 41,
    "start_time": "2021-07-13T21:29:33.848Z"
   },
   {
    "duration": 22,
    "start_time": "2021-07-13T21:29:33.891Z"
   },
   {
    "duration": 7,
    "start_time": "2021-07-13T21:29:33.916Z"
   },
   {
    "duration": 452,
    "start_time": "2021-07-13T21:29:33.925Z"
   },
   {
    "duration": 296,
    "start_time": "2021-07-13T21:29:34.379Z"
   },
   {
    "duration": 313,
    "start_time": "2021-07-13T21:29:34.678Z"
   },
   {
    "duration": 954,
    "start_time": "2021-07-13T21:29:34.994Z"
   },
   {
    "duration": 33,
    "start_time": "2021-07-13T21:29:35.952Z"
   },
   {
    "duration": 345,
    "start_time": "2021-07-13T21:29:35.994Z"
   },
   {
    "duration": 353,
    "start_time": "2021-07-13T21:29:36.342Z"
   },
   {
    "duration": 18,
    "start_time": "2021-07-13T21:29:36.697Z"
   },
   {
    "duration": 363,
    "start_time": "2021-07-13T21:29:36.717Z"
   },
   {
    "duration": 416,
    "start_time": "2021-07-13T21:29:37.082Z"
   },
   {
    "duration": 17,
    "start_time": "2021-07-13T21:29:37.501Z"
   },
   {
    "duration": 341,
    "start_time": "2021-07-13T21:29:37.520Z"
   },
   {
    "duration": 317,
    "start_time": "2021-07-13T21:29:37.866Z"
   },
   {
    "duration": 6,
    "start_time": "2021-07-13T21:29:38.185Z"
   },
   {
    "duration": 42,
    "start_time": "2021-07-13T21:29:38.194Z"
   },
   {
    "duration": 8,
    "start_time": "2021-07-13T21:29:38.238Z"
   },
   {
    "duration": 11,
    "start_time": "2021-07-13T21:29:38.268Z"
   },
   {
    "duration": 9,
    "start_time": "2021-07-13T21:29:38.281Z"
   },
   {
    "duration": 4,
    "start_time": "2021-07-13T21:29:38.293Z"
   },
   {
    "duration": 11,
    "start_time": "2021-07-13T21:29:38.299Z"
   },
   {
    "duration": 9,
    "start_time": "2021-07-13T21:29:38.313Z"
   },
   {
    "duration": 46,
    "start_time": "2021-07-13T21:29:38.325Z"
   },
   {
    "duration": 10,
    "start_time": "2021-07-13T21:29:38.373Z"
   },
   {
    "duration": 10,
    "start_time": "2021-07-13T21:29:38.386Z"
   },
   {
    "duration": 11,
    "start_time": "2021-07-13T21:29:38.398Z"
   },
   {
    "duration": 10,
    "start_time": "2021-07-13T21:29:38.411Z"
   },
   {
    "duration": 6,
    "start_time": "2021-07-13T21:29:38.423Z"
   },
   {
    "duration": 38,
    "start_time": "2021-07-13T21:29:38.432Z"
   },
   {
    "duration": 1439,
    "start_time": "2021-07-14T06:34:55.794Z"
   },
   {
    "duration": 573,
    "start_time": "2021-07-14T06:34:57.236Z"
   },
   {
    "duration": 19,
    "start_time": "2021-07-14T06:34:57.812Z"
   },
   {
    "duration": 36,
    "start_time": "2021-07-14T06:34:57.834Z"
   },
   {
    "duration": 10,
    "start_time": "2021-07-14T06:34:57.872Z"
   },
   {
    "duration": 12,
    "start_time": "2021-07-14T06:34:57.885Z"
   },
   {
    "duration": 18,
    "start_time": "2021-07-14T06:34:57.899Z"
   },
   {
    "duration": 11,
    "start_time": "2021-07-14T06:34:57.921Z"
   },
   {
    "duration": 69,
    "start_time": "2021-07-14T06:34:57.935Z"
   },
   {
    "duration": 26,
    "start_time": "2021-07-14T06:34:58.007Z"
   },
   {
    "duration": 64,
    "start_time": "2021-07-14T06:34:58.036Z"
   },
   {
    "duration": 33,
    "start_time": "2021-07-14T06:34:58.103Z"
   },
   {
    "duration": 29,
    "start_time": "2021-07-14T06:34:58.138Z"
   },
   {
    "duration": 12,
    "start_time": "2021-07-14T06:34:58.169Z"
   },
   {
    "duration": 8,
    "start_time": "2021-07-14T06:34:58.184Z"
   },
   {
    "duration": 81,
    "start_time": "2021-07-14T06:34:58.194Z"
   },
   {
    "duration": 10,
    "start_time": "2021-07-14T06:34:58.277Z"
   },
   {
    "duration": 10,
    "start_time": "2021-07-14T06:34:58.290Z"
   },
   {
    "duration": 20,
    "start_time": "2021-07-14T06:34:58.303Z"
   },
   {
    "duration": 53,
    "start_time": "2021-07-14T06:34:58.326Z"
   },
   {
    "duration": 25,
    "start_time": "2021-07-14T06:34:58.381Z"
   },
   {
    "duration": 10,
    "start_time": "2021-07-14T06:34:58.408Z"
   },
   {
    "duration": 11,
    "start_time": "2021-07-14T06:34:58.424Z"
   },
   {
    "duration": 39,
    "start_time": "2021-07-14T06:34:58.468Z"
   },
   {
    "duration": 24,
    "start_time": "2021-07-14T06:34:58.509Z"
   },
   {
    "duration": 52,
    "start_time": "2021-07-14T06:34:58.535Z"
   },
   {
    "duration": 29,
    "start_time": "2021-07-14T06:34:58.590Z"
   },
   {
    "duration": 15,
    "start_time": "2021-07-14T06:34:58.621Z"
   },
   {
    "duration": 38,
    "start_time": "2021-07-14T06:34:58.639Z"
   },
   {
    "duration": 6,
    "start_time": "2021-07-14T06:34:58.680Z"
   },
   {
    "duration": 12,
    "start_time": "2021-07-14T06:34:58.688Z"
   },
   {
    "duration": 125,
    "start_time": "2021-07-14T06:34:58.702Z"
   },
   {
    "duration": 16,
    "start_time": "2021-07-14T06:34:58.830Z"
   },
   {
    "duration": 59,
    "start_time": "2021-07-14T06:34:58.849Z"
   },
   {
    "duration": 14,
    "start_time": "2021-07-14T06:34:58.911Z"
   },
   {
    "duration": 77,
    "start_time": "2021-07-14T06:34:58.928Z"
   },
   {
    "duration": 14,
    "start_time": "2021-07-14T06:34:59.008Z"
   },
   {
    "duration": 45,
    "start_time": "2021-07-14T06:34:59.024Z"
   },
   {
    "duration": 10,
    "start_time": "2021-07-14T06:34:59.071Z"
   },
   {
    "duration": 98,
    "start_time": "2021-07-14T06:34:59.083Z"
   },
   {
    "duration": 20,
    "start_time": "2021-07-14T06:34:59.184Z"
   },
   {
    "duration": 65,
    "start_time": "2021-07-14T06:34:59.207Z"
   },
   {
    "duration": 11,
    "start_time": "2021-07-14T06:34:59.274Z"
   },
   {
    "duration": 14,
    "start_time": "2021-07-14T06:34:59.287Z"
   },
   {
    "duration": 12,
    "start_time": "2021-07-14T06:34:59.303Z"
   },
   {
    "duration": 13,
    "start_time": "2021-07-14T06:34:59.317Z"
   },
   {
    "duration": 46,
    "start_time": "2021-07-14T06:34:59.332Z"
   },
   {
    "duration": 12,
    "start_time": "2021-07-14T06:34:59.381Z"
   },
   {
    "duration": 16,
    "start_time": "2021-07-14T06:34:59.395Z"
   },
   {
    "duration": 62,
    "start_time": "2021-07-14T06:34:59.413Z"
   },
   {
    "duration": 33,
    "start_time": "2021-07-14T06:34:59.478Z"
   },
   {
    "duration": 10,
    "start_time": "2021-07-14T06:34:59.513Z"
   },
   {
    "duration": 42,
    "start_time": "2021-07-14T06:34:59.525Z"
   },
   {
    "duration": 11,
    "start_time": "2021-07-14T06:34:59.570Z"
   },
   {
    "duration": 15,
    "start_time": "2021-07-14T06:34:59.583Z"
   },
   {
    "duration": 6,
    "start_time": "2021-07-14T06:34:59.601Z"
   },
   {
    "duration": 59,
    "start_time": "2021-07-14T06:34:59.609Z"
   },
   {
    "duration": 435,
    "start_time": "2021-07-14T06:34:59.671Z"
   },
   {
    "duration": 59,
    "start_time": "2021-07-14T06:35:00.109Z"
   },
   {
    "duration": 35,
    "start_time": "2021-07-14T06:35:00.170Z"
   },
   {
    "duration": 74,
    "start_time": "2021-07-14T06:35:00.207Z"
   },
   {
    "duration": 16,
    "start_time": "2021-07-14T06:35:00.284Z"
   },
   {
    "duration": 800,
    "start_time": "2021-07-14T06:35:00.302Z"
   },
   {
    "duration": 720,
    "start_time": "2021-07-14T06:35:01.106Z"
   },
   {
    "duration": 311,
    "start_time": "2021-07-14T06:35:01.828Z"
   },
   {
    "duration": 179444,
    "start_time": "2021-07-14T06:35:02.141Z"
   },
   {
    "duration": 26,
    "start_time": "2021-07-14T06:38:01.588Z"
   },
   {
    "duration": 381,
    "start_time": "2021-07-14T06:38:01.626Z"
   },
   {
    "duration": 343,
    "start_time": "2021-07-14T06:38:02.011Z"
   },
   {
    "duration": 26,
    "start_time": "2021-07-14T06:38:02.357Z"
   },
   {
    "duration": 393,
    "start_time": "2021-07-14T06:38:02.385Z"
   },
   {
    "duration": 586,
    "start_time": "2021-07-14T06:38:02.781Z"
   },
   {
    "duration": 23,
    "start_time": "2021-07-14T06:38:03.370Z"
   },
   {
    "duration": 361,
    "start_time": "2021-07-14T06:38:03.396Z"
   },
   {
    "duration": 329,
    "start_time": "2021-07-14T06:38:03.760Z"
   },
   {
    "duration": 6,
    "start_time": "2021-07-14T06:38:04.091Z"
   },
   {
    "duration": 42,
    "start_time": "2021-07-14T06:38:04.099Z"
   },
   {
    "duration": 28,
    "start_time": "2021-07-14T06:38:04.144Z"
   },
   {
    "duration": 10,
    "start_time": "2021-07-14T06:38:04.174Z"
   },
   {
    "duration": 10,
    "start_time": "2021-07-14T06:38:04.187Z"
   },
   {
    "duration": 4,
    "start_time": "2021-07-14T06:38:04.199Z"
   },
   {
    "duration": 7,
    "start_time": "2021-07-14T06:38:04.206Z"
   },
   {
    "duration": 7,
    "start_time": "2021-07-14T06:38:04.216Z"
   },
   {
    "duration": 46,
    "start_time": "2021-07-14T06:38:04.225Z"
   },
   {
    "duration": 11,
    "start_time": "2021-07-14T06:38:04.273Z"
   },
   {
    "duration": 12,
    "start_time": "2021-07-14T06:38:04.287Z"
   },
   {
    "duration": 10,
    "start_time": "2021-07-14T06:38:04.302Z"
   },
   {
    "duration": 10,
    "start_time": "2021-07-14T06:38:04.314Z"
   },
   {
    "duration": 40,
    "start_time": "2021-07-14T06:38:04.326Z"
   },
   {
    "duration": 6,
    "start_time": "2021-07-14T06:38:04.369Z"
   },
   {
    "duration": 130,
    "start_time": "2021-07-14T06:40:40.117Z"
   },
   {
    "duration": 7,
    "start_time": "2021-07-14T06:40:42.831Z"
   }
  ],
  "kernelspec": {
   "display_name": "Python 3 (ipykernel)",
   "language": "python",
   "name": "python3"
  },
  "language_info": {
   "codemirror_mode": {
    "name": "ipython",
    "version": 3
   },
   "file_extension": ".py",
   "mimetype": "text/x-python",
   "name": "python",
   "nbconvert_exporter": "python",
   "pygments_lexer": "ipython3",
   "version": "3.9.5"
  },
  "toc": {
   "base_numbering": 1,
   "nav_menu": {},
   "number_sections": false,
   "sideBar": true,
   "skip_h1_title": true,
   "title_cell": "Table of Contents",
   "title_sidebar": "Contents",
   "toc_cell": false,
   "toc_position": {
    "height": "calc(100% - 180px)",
    "left": "10px",
    "top": "150px",
    "width": "245px"
   },
   "toc_section_display": true,
   "toc_window_display": true
  }
 },
 "nbformat": 4,
 "nbformat_minor": 2
}
