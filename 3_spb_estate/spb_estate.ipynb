{
 "cells": [
  {
   "cell_type": "markdown",
   "id": "9a2c5c57",
   "metadata": {},
   "source": [
    "#    Исследование объявлений о продаже квартир"
   ]
  },
  {
   "cell_type": "markdown",
   "id": "efc4aa90",
   "metadata": {},
   "source": [
    "В вашем распоряжении данные сервиса Яндекс.Недвижимость — архив объявлений о продаже квартир в Санкт-Петербурге и соседних населённых пунктах за несколько лет. Нужно научиться определять рыночную стоимость объектов недвижимости. Ваша задача — установить параметры. Это позволит построить автоматизированную систему: она отследит аномалии и мошенническую деятельность.\n",
    "По каждой квартире на продажу доступны два вида данных. Первые вписаны пользователем, вторые — получены автоматически на основе картографических данных. Например, расстояние до центра, аэропорта, ближайшего парка и водоёма."
   ]
  },
  {
   "cell_type": "markdown",
   "id": "035ddc46",
   "metadata": {},
   "source": [
    "### Шаг 1. Откройте файл с данными и изучите общую информацию"
   ]
  },
  {
   "cell_type": "code",
   "execution_count": 2,
   "id": "94e823d9",
   "metadata": {},
   "outputs": [
    {
     "name": "stdout",
     "output_type": "stream",
     "text": [
      "<class 'pandas.core.frame.DataFrame'>\n",
      "RangeIndex: 23699 entries, 0 to 23698\n",
      "Data columns (total 22 columns):\n",
      "total_images            23699 non-null int64\n",
      "last_price              23699 non-null float64\n",
      "total_area              23699 non-null float64\n",
      "first_day_exposition    23699 non-null object\n",
      "rooms                   23699 non-null int64\n",
      "ceiling_height          14504 non-null float64\n",
      "floors_total            23613 non-null float64\n",
      "living_area             21796 non-null float64\n",
      "floor                   23699 non-null int64\n",
      "is_apartment            2775 non-null object\n",
      "studio                  23699 non-null bool\n",
      "open_plan               23699 non-null bool\n",
      "kitchen_area            21421 non-null float64\n",
      "balcony                 12180 non-null float64\n",
      "locality_name           23650 non-null object\n",
      "airports_nearest        18157 non-null float64\n",
      "cityCenters_nearest     18180 non-null float64\n",
      "parks_around3000        18181 non-null float64\n",
      "parks_nearest           8079 non-null float64\n",
      "ponds_around3000        18181 non-null float64\n",
      "ponds_nearest           9110 non-null float64\n",
      "days_exposition         20518 non-null float64\n",
      "dtypes: bool(2), float64(14), int64(3), object(3)\n",
      "memory usage: 3.7+ MB\n"
     ]
    },
    {
     "data": {
      "text/html": [
       "<div>\n",
       "<style scoped>\n",
       "    .dataframe tbody tr th:only-of-type {\n",
       "        vertical-align: middle;\n",
       "    }\n",
       "\n",
       "    .dataframe tbody tr th {\n",
       "        vertical-align: top;\n",
       "    }\n",
       "\n",
       "    .dataframe thead th {\n",
       "        text-align: right;\n",
       "    }\n",
       "</style>\n",
       "<table border=\"1\" class=\"dataframe\">\n",
       "  <thead>\n",
       "    <tr style=\"text-align: right;\">\n",
       "      <th></th>\n",
       "      <th>total_images</th>\n",
       "      <th>last_price</th>\n",
       "      <th>total_area</th>\n",
       "      <th>first_day_exposition</th>\n",
       "      <th>rooms</th>\n",
       "      <th>ceiling_height</th>\n",
       "      <th>floors_total</th>\n",
       "      <th>living_area</th>\n",
       "      <th>floor</th>\n",
       "      <th>is_apartment</th>\n",
       "      <th>...</th>\n",
       "      <th>kitchen_area</th>\n",
       "      <th>balcony</th>\n",
       "      <th>locality_name</th>\n",
       "      <th>airports_nearest</th>\n",
       "      <th>cityCenters_nearest</th>\n",
       "      <th>parks_around3000</th>\n",
       "      <th>parks_nearest</th>\n",
       "      <th>ponds_around3000</th>\n",
       "      <th>ponds_nearest</th>\n",
       "      <th>days_exposition</th>\n",
       "    </tr>\n",
       "  </thead>\n",
       "  <tbody>\n",
       "    <tr>\n",
       "      <td>0</td>\n",
       "      <td>20</td>\n",
       "      <td>13000000.0</td>\n",
       "      <td>108.00</td>\n",
       "      <td>2019-03-07T00:00:00</td>\n",
       "      <td>3</td>\n",
       "      <td>2.70</td>\n",
       "      <td>16.0</td>\n",
       "      <td>51.00</td>\n",
       "      <td>8</td>\n",
       "      <td>NaN</td>\n",
       "      <td>...</td>\n",
       "      <td>25.00</td>\n",
       "      <td>NaN</td>\n",
       "      <td>Санкт-Петербург</td>\n",
       "      <td>18863.0</td>\n",
       "      <td>16028.0</td>\n",
       "      <td>1.0</td>\n",
       "      <td>482.0</td>\n",
       "      <td>2.0</td>\n",
       "      <td>755.0</td>\n",
       "      <td>NaN</td>\n",
       "    </tr>\n",
       "    <tr>\n",
       "      <td>1</td>\n",
       "      <td>7</td>\n",
       "      <td>3350000.0</td>\n",
       "      <td>40.40</td>\n",
       "      <td>2018-12-04T00:00:00</td>\n",
       "      <td>1</td>\n",
       "      <td>NaN</td>\n",
       "      <td>11.0</td>\n",
       "      <td>18.60</td>\n",
       "      <td>1</td>\n",
       "      <td>NaN</td>\n",
       "      <td>...</td>\n",
       "      <td>11.00</td>\n",
       "      <td>2.0</td>\n",
       "      <td>посёлок Шушары</td>\n",
       "      <td>12817.0</td>\n",
       "      <td>18603.0</td>\n",
       "      <td>0.0</td>\n",
       "      <td>NaN</td>\n",
       "      <td>0.0</td>\n",
       "      <td>NaN</td>\n",
       "      <td>81.0</td>\n",
       "    </tr>\n",
       "    <tr>\n",
       "      <td>2</td>\n",
       "      <td>10</td>\n",
       "      <td>5196000.0</td>\n",
       "      <td>56.00</td>\n",
       "      <td>2015-08-20T00:00:00</td>\n",
       "      <td>2</td>\n",
       "      <td>NaN</td>\n",
       "      <td>5.0</td>\n",
       "      <td>34.30</td>\n",
       "      <td>4</td>\n",
       "      <td>NaN</td>\n",
       "      <td>...</td>\n",
       "      <td>8.30</td>\n",
       "      <td>0.0</td>\n",
       "      <td>Санкт-Петербург</td>\n",
       "      <td>21741.0</td>\n",
       "      <td>13933.0</td>\n",
       "      <td>1.0</td>\n",
       "      <td>90.0</td>\n",
       "      <td>2.0</td>\n",
       "      <td>574.0</td>\n",
       "      <td>558.0</td>\n",
       "    </tr>\n",
       "    <tr>\n",
       "      <td>3</td>\n",
       "      <td>0</td>\n",
       "      <td>64900000.0</td>\n",
       "      <td>159.00</td>\n",
       "      <td>2015-07-24T00:00:00</td>\n",
       "      <td>3</td>\n",
       "      <td>NaN</td>\n",
       "      <td>14.0</td>\n",
       "      <td>NaN</td>\n",
       "      <td>9</td>\n",
       "      <td>NaN</td>\n",
       "      <td>...</td>\n",
       "      <td>NaN</td>\n",
       "      <td>0.0</td>\n",
       "      <td>Санкт-Петербург</td>\n",
       "      <td>28098.0</td>\n",
       "      <td>6800.0</td>\n",
       "      <td>2.0</td>\n",
       "      <td>84.0</td>\n",
       "      <td>3.0</td>\n",
       "      <td>234.0</td>\n",
       "      <td>424.0</td>\n",
       "    </tr>\n",
       "    <tr>\n",
       "      <td>4</td>\n",
       "      <td>2</td>\n",
       "      <td>10000000.0</td>\n",
       "      <td>100.00</td>\n",
       "      <td>2018-06-19T00:00:00</td>\n",
       "      <td>2</td>\n",
       "      <td>3.03</td>\n",
       "      <td>14.0</td>\n",
       "      <td>32.00</td>\n",
       "      <td>13</td>\n",
       "      <td>NaN</td>\n",
       "      <td>...</td>\n",
       "      <td>41.00</td>\n",
       "      <td>NaN</td>\n",
       "      <td>Санкт-Петербург</td>\n",
       "      <td>31856.0</td>\n",
       "      <td>8098.0</td>\n",
       "      <td>2.0</td>\n",
       "      <td>112.0</td>\n",
       "      <td>1.0</td>\n",
       "      <td>48.0</td>\n",
       "      <td>121.0</td>\n",
       "    </tr>\n",
       "    <tr>\n",
       "      <td>5</td>\n",
       "      <td>10</td>\n",
       "      <td>2890000.0</td>\n",
       "      <td>30.40</td>\n",
       "      <td>2018-09-10T00:00:00</td>\n",
       "      <td>1</td>\n",
       "      <td>NaN</td>\n",
       "      <td>12.0</td>\n",
       "      <td>14.40</td>\n",
       "      <td>5</td>\n",
       "      <td>NaN</td>\n",
       "      <td>...</td>\n",
       "      <td>9.10</td>\n",
       "      <td>NaN</td>\n",
       "      <td>городской посёлок Янино-1</td>\n",
       "      <td>NaN</td>\n",
       "      <td>NaN</td>\n",
       "      <td>NaN</td>\n",
       "      <td>NaN</td>\n",
       "      <td>NaN</td>\n",
       "      <td>NaN</td>\n",
       "      <td>55.0</td>\n",
       "    </tr>\n",
       "    <tr>\n",
       "      <td>6</td>\n",
       "      <td>6</td>\n",
       "      <td>3700000.0</td>\n",
       "      <td>37.30</td>\n",
       "      <td>2017-11-02T00:00:00</td>\n",
       "      <td>1</td>\n",
       "      <td>NaN</td>\n",
       "      <td>26.0</td>\n",
       "      <td>10.60</td>\n",
       "      <td>6</td>\n",
       "      <td>NaN</td>\n",
       "      <td>...</td>\n",
       "      <td>14.40</td>\n",
       "      <td>1.0</td>\n",
       "      <td>посёлок Парголово</td>\n",
       "      <td>52996.0</td>\n",
       "      <td>19143.0</td>\n",
       "      <td>0.0</td>\n",
       "      <td>NaN</td>\n",
       "      <td>0.0</td>\n",
       "      <td>NaN</td>\n",
       "      <td>155.0</td>\n",
       "    </tr>\n",
       "    <tr>\n",
       "      <td>7</td>\n",
       "      <td>5</td>\n",
       "      <td>7915000.0</td>\n",
       "      <td>71.60</td>\n",
       "      <td>2019-04-18T00:00:00</td>\n",
       "      <td>2</td>\n",
       "      <td>NaN</td>\n",
       "      <td>24.0</td>\n",
       "      <td>NaN</td>\n",
       "      <td>22</td>\n",
       "      <td>NaN</td>\n",
       "      <td>...</td>\n",
       "      <td>18.90</td>\n",
       "      <td>2.0</td>\n",
       "      <td>Санкт-Петербург</td>\n",
       "      <td>23982.0</td>\n",
       "      <td>11634.0</td>\n",
       "      <td>0.0</td>\n",
       "      <td>NaN</td>\n",
       "      <td>0.0</td>\n",
       "      <td>NaN</td>\n",
       "      <td>NaN</td>\n",
       "    </tr>\n",
       "    <tr>\n",
       "      <td>8</td>\n",
       "      <td>20</td>\n",
       "      <td>2900000.0</td>\n",
       "      <td>33.16</td>\n",
       "      <td>2018-05-23T00:00:00</td>\n",
       "      <td>1</td>\n",
       "      <td>NaN</td>\n",
       "      <td>27.0</td>\n",
       "      <td>15.43</td>\n",
       "      <td>26</td>\n",
       "      <td>NaN</td>\n",
       "      <td>...</td>\n",
       "      <td>8.81</td>\n",
       "      <td>NaN</td>\n",
       "      <td>посёлок Мурино</td>\n",
       "      <td>NaN</td>\n",
       "      <td>NaN</td>\n",
       "      <td>NaN</td>\n",
       "      <td>NaN</td>\n",
       "      <td>NaN</td>\n",
       "      <td>NaN</td>\n",
       "      <td>189.0</td>\n",
       "    </tr>\n",
       "    <tr>\n",
       "      <td>9</td>\n",
       "      <td>18</td>\n",
       "      <td>5400000.0</td>\n",
       "      <td>61.00</td>\n",
       "      <td>2017-02-26T00:00:00</td>\n",
       "      <td>3</td>\n",
       "      <td>2.50</td>\n",
       "      <td>9.0</td>\n",
       "      <td>43.60</td>\n",
       "      <td>7</td>\n",
       "      <td>NaN</td>\n",
       "      <td>...</td>\n",
       "      <td>6.50</td>\n",
       "      <td>2.0</td>\n",
       "      <td>Санкт-Петербург</td>\n",
       "      <td>50898.0</td>\n",
       "      <td>15008.0</td>\n",
       "      <td>0.0</td>\n",
       "      <td>NaN</td>\n",
       "      <td>0.0</td>\n",
       "      <td>NaN</td>\n",
       "      <td>289.0</td>\n",
       "    </tr>\n",
       "  </tbody>\n",
       "</table>\n",
       "<p>10 rows × 22 columns</p>\n",
       "</div>"
      ],
      "text/plain": [
       "   total_images  last_price  total_area first_day_exposition  rooms  \\\n",
       "0            20  13000000.0      108.00  2019-03-07T00:00:00      3   \n",
       "1             7   3350000.0       40.40  2018-12-04T00:00:00      1   \n",
       "2            10   5196000.0       56.00  2015-08-20T00:00:00      2   \n",
       "3             0  64900000.0      159.00  2015-07-24T00:00:00      3   \n",
       "4             2  10000000.0      100.00  2018-06-19T00:00:00      2   \n",
       "5            10   2890000.0       30.40  2018-09-10T00:00:00      1   \n",
       "6             6   3700000.0       37.30  2017-11-02T00:00:00      1   \n",
       "7             5   7915000.0       71.60  2019-04-18T00:00:00      2   \n",
       "8            20   2900000.0       33.16  2018-05-23T00:00:00      1   \n",
       "9            18   5400000.0       61.00  2017-02-26T00:00:00      3   \n",
       "\n",
       "   ceiling_height  floors_total  living_area  floor is_apartment  ...  \\\n",
       "0            2.70          16.0        51.00      8          NaN  ...   \n",
       "1             NaN          11.0        18.60      1          NaN  ...   \n",
       "2             NaN           5.0        34.30      4          NaN  ...   \n",
       "3             NaN          14.0          NaN      9          NaN  ...   \n",
       "4            3.03          14.0        32.00     13          NaN  ...   \n",
       "5             NaN          12.0        14.40      5          NaN  ...   \n",
       "6             NaN          26.0        10.60      6          NaN  ...   \n",
       "7             NaN          24.0          NaN     22          NaN  ...   \n",
       "8             NaN          27.0        15.43     26          NaN  ...   \n",
       "9            2.50           9.0        43.60      7          NaN  ...   \n",
       "\n",
       "   kitchen_area  balcony              locality_name  airports_nearest  \\\n",
       "0         25.00      NaN            Санкт-Петербург           18863.0   \n",
       "1         11.00      2.0             посёлок Шушары           12817.0   \n",
       "2          8.30      0.0            Санкт-Петербург           21741.0   \n",
       "3           NaN      0.0            Санкт-Петербург           28098.0   \n",
       "4         41.00      NaN            Санкт-Петербург           31856.0   \n",
       "5          9.10      NaN  городской посёлок Янино-1               NaN   \n",
       "6         14.40      1.0          посёлок Парголово           52996.0   \n",
       "7         18.90      2.0            Санкт-Петербург           23982.0   \n",
       "8          8.81      NaN             посёлок Мурино               NaN   \n",
       "9          6.50      2.0            Санкт-Петербург           50898.0   \n",
       "\n",
       "  cityCenters_nearest  parks_around3000  parks_nearest  ponds_around3000  \\\n",
       "0             16028.0               1.0          482.0               2.0   \n",
       "1             18603.0               0.0            NaN               0.0   \n",
       "2             13933.0               1.0           90.0               2.0   \n",
       "3              6800.0               2.0           84.0               3.0   \n",
       "4              8098.0               2.0          112.0               1.0   \n",
       "5                 NaN               NaN            NaN               NaN   \n",
       "6             19143.0               0.0            NaN               0.0   \n",
       "7             11634.0               0.0            NaN               0.0   \n",
       "8                 NaN               NaN            NaN               NaN   \n",
       "9             15008.0               0.0            NaN               0.0   \n",
       "\n",
       "   ponds_nearest  days_exposition  \n",
       "0          755.0              NaN  \n",
       "1            NaN             81.0  \n",
       "2          574.0            558.0  \n",
       "3          234.0            424.0  \n",
       "4           48.0            121.0  \n",
       "5            NaN             55.0  \n",
       "6            NaN            155.0  \n",
       "7            NaN              NaN  \n",
       "8            NaN            189.0  \n",
       "9            NaN            289.0  \n",
       "\n",
       "[10 rows x 22 columns]"
      ]
     },
     "execution_count": 2,
     "metadata": {},
     "output_type": "execute_result"
    }
   ],
   "source": [
    "import pandas as pd\n",
    "import matplotlib.pyplot as plt\n",
    "data = pd.read_csv('https://code.s3.yandex.net/datasets/real_estate_data.csv', sep = '\\t')\n",
    "data.info()\n",
    "data.head(10)"
   ]
  },
  {
   "cell_type": "markdown",
   "id": "54473732",
   "metadata": {},
   "source": [
    "Вывод: По выводу первых десяти строк таблицы, а так же общим данным много недочетов резко бросилось в глаза. Например:\n",
    "- is_apartment должен иметь тип bool;\n",
    "- first_day_exposition должен иметь тип datetime, а не object;\n",
    "- floors_total, parks_around3000, ponds_around3000, days_exposition должен иметь тип int;\n",
    "- так же по многим столбцам замечено большое количество пропусков.\n",
    "На первый взгляд выявили проблемные места, приступим к любимой обработке :)"
   ]
  },
  {
   "cell_type": "markdown",
   "id": "c403a54d",
   "metadata": {},
   "source": [
    "<div class=\"alert alert-success\" style=\"border-radius: 15px; box-shadow: 4px 4px 4px;border: 1px solid \">\n",
    "<b> Комментарий ревьюера</b>\n",
    "    \n",
    "Пропусков действительно очень много.  \n",
    "</div>"
   ]
  },
  {
   "cell_type": "markdown",
   "id": "ff4b59a2",
   "metadata": {},
   "source": [
    "### Шаг 2. Предобработка данных"
   ]
  },
  {
   "cell_type": "markdown",
   "id": "ad3b80ee",
   "metadata": {},
   "source": [
    "Для начала выведем все столбцы нашего датафрейма для выявления нестандартных значений:"
   ]
  },
  {
   "cell_type": "code",
   "execution_count": 3,
   "id": "c7704f7a",
   "metadata": {},
   "outputs": [
    {
     "name": "stdout",
     "output_type": "stream",
     "text": [
      "Index(['total_images', 'last_price', 'total_area', 'first_day_exposition',\n",
      "       'rooms', 'ceiling_height', 'floors_total', 'living_area', 'floor',\n",
      "       'is_apartment', 'studio', 'open_plan', 'kitchen_area', 'balcony',\n",
      "       'locality_name', 'airports_nearest', 'cityCenters_nearest',\n",
      "       'parks_around3000', 'parks_nearest', 'ponds_around3000',\n",
      "       'ponds_nearest', 'days_exposition'],\n",
      "      dtype='object')\n"
     ]
    }
   ],
   "source": [
    "print(data.columns)"
   ]
  },
  {
   "cell_type": "markdown",
   "id": "ca916bbe",
   "metadata": {},
   "source": [
    "Для начала я хочу привести столбец first_day_exposition в формат Y-m-d, т.к. ни в одном объявлении это время не указано:"
   ]
  },
  {
   "cell_type": "code",
   "execution_count": 4,
   "id": "14958eb8",
   "metadata": {},
   "outputs": [],
   "source": [
    "data['first_day_exposition'] = pd.to_datetime(data['first_day_exposition'], format = '%Y-%m-%d')"
   ]
  },
  {
   "cell_type": "markdown",
   "id": "6d9e764e",
   "metadata": {},
   "source": [
    "Теперь приведем days_exposition в тип int и заменим пропуски:"
   ]
  },
  {
   "cell_type": "code",
   "execution_count": 5,
   "id": "8c62e5ad",
   "metadata": {},
   "outputs": [
    {
     "data": {
      "text/plain": [
       "45.0      880\n",
       "60.0      538\n",
       "7.0       234\n",
       "30.0      208\n",
       "90.0      204\n",
       "         ... \n",
       "1110.0      1\n",
       "1049.0      1\n",
       "951.0       1\n",
       "693.0       1\n",
       "773.0       1\n",
       "Name: days_exposition, Length: 1141, dtype: int64"
      ]
     },
     "execution_count": 5,
     "metadata": {},
     "output_type": "execute_result"
    }
   ],
   "source": [
    "data['days_exposition'].value_counts()"
   ]
  },
  {
   "cell_type": "code",
   "execution_count": 6,
   "id": "73b30cb3",
   "metadata": {},
   "outputs": [],
   "source": [
    "data['days_exposition'] = data['days_exposition'].fillna(0).astype('int')"
   ]
  },
  {
   "cell_type": "markdown",
   "id": "0c84b3ba",
   "metadata": {},
   "source": [
    "<div class=\"alert alert-warning\" style=\"border-radius: 15px; box-shadow: 4px 4px 4px;border: 1px solid \">\n",
    "<b> Комментарий ревьюера</b>\n",
    "    \n",
    "Пропуск может говорить о том, что квартира еще не продана. Вдруг такая замена смешает их с теми квартирами, которые по каким-то причинам были сразу же сняты? \n",
    "</div>"
   ]
  },
  {
   "cell_type": "markdown",
   "id": "2744a893",
   "metadata": {},
   "source": [
    "Заметил несколько пропущенных значений в locality_name, выведем количество уникальных значений:"
   ]
  },
  {
   "cell_type": "code",
   "execution_count": 7,
   "id": "398b3e7c",
   "metadata": {},
   "outputs": [
    {
     "data": {
      "text/plain": [
       "Санкт-Петербург           15721\n",
       "посёлок Мурино              522\n",
       "посёлок Шушары              440\n",
       "Всеволожск                  398\n",
       "Пушкин                      369\n",
       "                          ...  \n",
       "поселок Дружноселье           1\n",
       "деревня Новолисино            1\n",
       "деревня Борисова Грива        1\n",
       "деревня Снегирёвка            1\n",
       "деревня Лупполово             1\n",
       "Name: locality_name, Length: 364, dtype: int64"
      ]
     },
     "execution_count": 7,
     "metadata": {},
     "output_type": "execute_result"
    }
   ],
   "source": [
    "data['locality_name'].value_counts()"
   ]
  },
  {
   "cell_type": "markdown",
   "id": "d5328936",
   "metadata": {},
   "source": [
    "Что ж... На весь столбец 49 пропусков. Пока не понятно почему, будем смотреть дальше. Обработаем столбец с балконами. Как нам и сказали в условии, если в столбце с балконами есть пропуск, то их скорее всего 0. Заменим пропуски и приведем весь столбец в int:"
   ]
  },
  {
   "cell_type": "markdown",
   "id": "71b263a0",
   "metadata": {},
   "source": [
    "<div class=\"alert alert-success\" style=\"border-radius: 15px; box-shadow: 4px 4px 4px;border: 1px solid \">\n",
    "<b> Комментарий ревьюера</b>\n",
    "    \n",
    "Думаю, их можно удалить. Ведь мы не можем быть уверены в том, что эти квартиры принадлежат рассматриваемой области. \n",
    "</div>"
   ]
  },
  {
   "cell_type": "code",
   "execution_count": 8,
   "id": "cfd5e2a0",
   "metadata": {
    "scrolled": true
   },
   "outputs": [
    {
     "data": {
      "text/plain": [
       "0    15277\n",
       "1     4195\n",
       "2     3659\n",
       "5      304\n",
       "4      183\n",
       "3       81\n",
       "Name: balcony, dtype: int64"
      ]
     },
     "execution_count": 8,
     "metadata": {},
     "output_type": "execute_result"
    }
   ],
   "source": [
    "data['balcony'] = data['balcony'].fillna(0).astype('int')\n",
    "data['balcony'].value_counts()"
   ]
  },
  {
   "cell_type": "markdown",
   "id": "f786d669",
   "metadata": {},
   "source": [
    "Странные значения у is_apartment, посмотрим в чем дело:"
   ]
  },
  {
   "cell_type": "code",
   "execution_count": 9,
   "id": "5cbaa44b",
   "metadata": {},
   "outputs": [
    {
     "data": {
      "text/plain": [
       "False    2725\n",
       "True       50\n",
       "Name: is_apartment, dtype: int64"
      ]
     },
     "execution_count": 9,
     "metadata": {},
     "output_type": "execute_result"
    }
   ],
   "source": [
    "data['is_apartment'].value_counts()"
   ]
  },
  {
   "cell_type": "markdown",
   "id": "8fcc9b23",
   "metadata": {},
   "source": [
    "Как мне кажется, он будет играть не сильную роль при дальнейшем исследовании. Многие люди не видят разницу между квартирой и апартаментами. Можно все значения заменить на False:"
   ]
  },
  {
   "cell_type": "code",
   "execution_count": 10,
   "id": "a90d62f0",
   "metadata": {},
   "outputs": [
    {
     "data": {
      "text/plain": [
       "0        False\n",
       "1        False\n",
       "2        False\n",
       "3        False\n",
       "4        False\n",
       "         ...  \n",
       "23694    False\n",
       "23695    False\n",
       "23696    False\n",
       "23697    False\n",
       "23698    False\n",
       "Name: is_apartment, Length: 23699, dtype: bool"
      ]
     },
     "execution_count": 10,
     "metadata": {},
     "output_type": "execute_result"
    }
   ],
   "source": [
    "data['is_apartment'].fillna(False)"
   ]
  },
  {
   "cell_type": "markdown",
   "id": "1118ee55",
   "metadata": {},
   "source": [
    "Переведем итоговую цену в int:"
   ]
  },
  {
   "cell_type": "code",
   "execution_count": 11,
   "id": "9acaa8cd",
   "metadata": {},
   "outputs": [],
   "source": [
    "data['last_price'] = data['last_price'].astype('int')"
   ]
  },
  {
   "cell_type": "markdown",
   "id": "5e00768e",
   "metadata": {},
   "source": [
    "Посмотрим как ведет себя высота потолков:"
   ]
  },
  {
   "cell_type": "code",
   "execution_count": 12,
   "id": "53fc8052",
   "metadata": {},
   "outputs": [
    {
     "data": {
      "text/html": [
       "<div>\n",
       "<style scoped>\n",
       "    .dataframe tbody tr th:only-of-type {\n",
       "        vertical-align: middle;\n",
       "    }\n",
       "\n",
       "    .dataframe tbody tr th {\n",
       "        vertical-align: top;\n",
       "    }\n",
       "\n",
       "    .dataframe thead th {\n",
       "        text-align: right;\n",
       "    }\n",
       "</style>\n",
       "<table border=\"1\" class=\"dataframe\">\n",
       "  <thead>\n",
       "    <tr style=\"text-align: right;\">\n",
       "      <th></th>\n",
       "      <th>total_images</th>\n",
       "      <th>last_price</th>\n",
       "      <th>total_area</th>\n",
       "      <th>first_day_exposition</th>\n",
       "      <th>rooms</th>\n",
       "      <th>ceiling_height</th>\n",
       "      <th>floors_total</th>\n",
       "      <th>living_area</th>\n",
       "      <th>floor</th>\n",
       "      <th>is_apartment</th>\n",
       "      <th>...</th>\n",
       "      <th>kitchen_area</th>\n",
       "      <th>balcony</th>\n",
       "      <th>locality_name</th>\n",
       "      <th>airports_nearest</th>\n",
       "      <th>cityCenters_nearest</th>\n",
       "      <th>parks_around3000</th>\n",
       "      <th>parks_nearest</th>\n",
       "      <th>ponds_around3000</th>\n",
       "      <th>ponds_nearest</th>\n",
       "      <th>days_exposition</th>\n",
       "    </tr>\n",
       "  </thead>\n",
       "  <tbody>\n",
       "    <tr>\n",
       "      <td>18545</td>\n",
       "      <td>6</td>\n",
       "      <td>3750000</td>\n",
       "      <td>43.0</td>\n",
       "      <td>2019-03-18</td>\n",
       "      <td>2</td>\n",
       "      <td>25.0</td>\n",
       "      <td>5.0</td>\n",
       "      <td>29.0</td>\n",
       "      <td>3</td>\n",
       "      <td>False</td>\n",
       "      <td>...</td>\n",
       "      <td>NaN</td>\n",
       "      <td>0</td>\n",
       "      <td>Санкт-Петербург</td>\n",
       "      <td>27054.0</td>\n",
       "      <td>8033.0</td>\n",
       "      <td>1.0</td>\n",
       "      <td>540.0</td>\n",
       "      <td>0.0</td>\n",
       "      <td>NaN</td>\n",
       "      <td>12</td>\n",
       "    </tr>\n",
       "    <tr>\n",
       "      <td>355</td>\n",
       "      <td>17</td>\n",
       "      <td>3600000</td>\n",
       "      <td>55.2</td>\n",
       "      <td>2018-07-12</td>\n",
       "      <td>2</td>\n",
       "      <td>25.0</td>\n",
       "      <td>5.0</td>\n",
       "      <td>32.0</td>\n",
       "      <td>2</td>\n",
       "      <td>False</td>\n",
       "      <td>...</td>\n",
       "      <td>NaN</td>\n",
       "      <td>2</td>\n",
       "      <td>Гатчина</td>\n",
       "      <td>NaN</td>\n",
       "      <td>NaN</td>\n",
       "      <td>NaN</td>\n",
       "      <td>NaN</td>\n",
       "      <td>NaN</td>\n",
       "      <td>NaN</td>\n",
       "      <td>259</td>\n",
       "    </tr>\n",
       "    <tr>\n",
       "      <td>6246</td>\n",
       "      <td>6</td>\n",
       "      <td>3300000</td>\n",
       "      <td>44.4</td>\n",
       "      <td>2019-03-25</td>\n",
       "      <td>2</td>\n",
       "      <td>25.0</td>\n",
       "      <td>5.0</td>\n",
       "      <td>31.3</td>\n",
       "      <td>5</td>\n",
       "      <td>NaN</td>\n",
       "      <td>...</td>\n",
       "      <td>5.7</td>\n",
       "      <td>0</td>\n",
       "      <td>Кронштадт</td>\n",
       "      <td>68923.0</td>\n",
       "      <td>50649.0</td>\n",
       "      <td>1.0</td>\n",
       "      <td>417.0</td>\n",
       "      <td>2.0</td>\n",
       "      <td>73.0</td>\n",
       "      <td>0</td>\n",
       "    </tr>\n",
       "    <tr>\n",
       "      <td>14382</td>\n",
       "      <td>9</td>\n",
       "      <td>1700000</td>\n",
       "      <td>35.0</td>\n",
       "      <td>2015-12-04</td>\n",
       "      <td>1</td>\n",
       "      <td>25.0</td>\n",
       "      <td>5.0</td>\n",
       "      <td>20.0</td>\n",
       "      <td>2</td>\n",
       "      <td>False</td>\n",
       "      <td>...</td>\n",
       "      <td>8.0</td>\n",
       "      <td>1</td>\n",
       "      <td>поселок Новый Свет</td>\n",
       "      <td>NaN</td>\n",
       "      <td>NaN</td>\n",
       "      <td>NaN</td>\n",
       "      <td>NaN</td>\n",
       "      <td>NaN</td>\n",
       "      <td>NaN</td>\n",
       "      <td>206</td>\n",
       "    </tr>\n",
       "    <tr>\n",
       "      <td>11285</td>\n",
       "      <td>0</td>\n",
       "      <td>1950000</td>\n",
       "      <td>37.0</td>\n",
       "      <td>2019-03-20</td>\n",
       "      <td>1</td>\n",
       "      <td>25.0</td>\n",
       "      <td>5.0</td>\n",
       "      <td>17.0</td>\n",
       "      <td>4</td>\n",
       "      <td>False</td>\n",
       "      <td>...</td>\n",
       "      <td>9.0</td>\n",
       "      <td>2</td>\n",
       "      <td>Луга</td>\n",
       "      <td>NaN</td>\n",
       "      <td>NaN</td>\n",
       "      <td>NaN</td>\n",
       "      <td>NaN</td>\n",
       "      <td>NaN</td>\n",
       "      <td>NaN</td>\n",
       "      <td>18</td>\n",
       "    </tr>\n",
       "    <tr>\n",
       "      <td>4643</td>\n",
       "      <td>0</td>\n",
       "      <td>4300000</td>\n",
       "      <td>45.0</td>\n",
       "      <td>2018-02-01</td>\n",
       "      <td>2</td>\n",
       "      <td>25.0</td>\n",
       "      <td>9.0</td>\n",
       "      <td>30.0</td>\n",
       "      <td>2</td>\n",
       "      <td>NaN</td>\n",
       "      <td>...</td>\n",
       "      <td>7.0</td>\n",
       "      <td>1</td>\n",
       "      <td>Санкт-Петербург</td>\n",
       "      <td>12016.0</td>\n",
       "      <td>13256.0</td>\n",
       "      <td>1.0</td>\n",
       "      <td>658.0</td>\n",
       "      <td>1.0</td>\n",
       "      <td>331.0</td>\n",
       "      <td>181</td>\n",
       "    </tr>\n",
       "    <tr>\n",
       "      <td>9379</td>\n",
       "      <td>5</td>\n",
       "      <td>3950000</td>\n",
       "      <td>42.0</td>\n",
       "      <td>2017-03-26</td>\n",
       "      <td>3</td>\n",
       "      <td>25.0</td>\n",
       "      <td>5.0</td>\n",
       "      <td>30.0</td>\n",
       "      <td>2</td>\n",
       "      <td>NaN</td>\n",
       "      <td>...</td>\n",
       "      <td>5.2</td>\n",
       "      <td>0</td>\n",
       "      <td>Санкт-Петербург</td>\n",
       "      <td>11647.0</td>\n",
       "      <td>13581.0</td>\n",
       "      <td>0.0</td>\n",
       "      <td>NaN</td>\n",
       "      <td>0.0</td>\n",
       "      <td>NaN</td>\n",
       "      <td>0</td>\n",
       "    </tr>\n",
       "    <tr>\n",
       "      <td>5669</td>\n",
       "      <td>4</td>\n",
       "      <td>4400000</td>\n",
       "      <td>50.0</td>\n",
       "      <td>2017-08-08</td>\n",
       "      <td>2</td>\n",
       "      <td>26.0</td>\n",
       "      <td>9.0</td>\n",
       "      <td>21.3</td>\n",
       "      <td>3</td>\n",
       "      <td>NaN</td>\n",
       "      <td>...</td>\n",
       "      <td>7.0</td>\n",
       "      <td>2</td>\n",
       "      <td>Санкт-Петербург</td>\n",
       "      <td>28981.0</td>\n",
       "      <td>10912.0</td>\n",
       "      <td>1.0</td>\n",
       "      <td>305.0</td>\n",
       "      <td>0.0</td>\n",
       "      <td>NaN</td>\n",
       "      <td>267</td>\n",
       "    </tr>\n",
       "    <tr>\n",
       "      <td>5807</td>\n",
       "      <td>17</td>\n",
       "      <td>8150000</td>\n",
       "      <td>80.0</td>\n",
       "      <td>2019-01-09</td>\n",
       "      <td>2</td>\n",
       "      <td>27.0</td>\n",
       "      <td>36.0</td>\n",
       "      <td>41.0</td>\n",
       "      <td>13</td>\n",
       "      <td>NaN</td>\n",
       "      <td>...</td>\n",
       "      <td>12.0</td>\n",
       "      <td>5</td>\n",
       "      <td>Санкт-Петербург</td>\n",
       "      <td>18732.0</td>\n",
       "      <td>20444.0</td>\n",
       "      <td>0.0</td>\n",
       "      <td>NaN</td>\n",
       "      <td>3.0</td>\n",
       "      <td>80.0</td>\n",
       "      <td>38</td>\n",
       "    </tr>\n",
       "    <tr>\n",
       "      <td>5246</td>\n",
       "      <td>0</td>\n",
       "      <td>2500000</td>\n",
       "      <td>54.0</td>\n",
       "      <td>2017-10-13</td>\n",
       "      <td>2</td>\n",
       "      <td>27.0</td>\n",
       "      <td>5.0</td>\n",
       "      <td>30.0</td>\n",
       "      <td>3</td>\n",
       "      <td>NaN</td>\n",
       "      <td>...</td>\n",
       "      <td>9.0</td>\n",
       "      <td>2</td>\n",
       "      <td>деревня Мины</td>\n",
       "      <td>NaN</td>\n",
       "      <td>NaN</td>\n",
       "      <td>NaN</td>\n",
       "      <td>NaN</td>\n",
       "      <td>NaN</td>\n",
       "      <td>NaN</td>\n",
       "      <td>540</td>\n",
       "    </tr>\n",
       "    <tr>\n",
       "      <td>21824</td>\n",
       "      <td>20</td>\n",
       "      <td>2450000</td>\n",
       "      <td>44.0</td>\n",
       "      <td>2019-02-12</td>\n",
       "      <td>2</td>\n",
       "      <td>27.0</td>\n",
       "      <td>2.0</td>\n",
       "      <td>38.0</td>\n",
       "      <td>2</td>\n",
       "      <td>False</td>\n",
       "      <td>...</td>\n",
       "      <td>8.6</td>\n",
       "      <td>2</td>\n",
       "      <td>городской поселок Большая Ижора</td>\n",
       "      <td>NaN</td>\n",
       "      <td>NaN</td>\n",
       "      <td>NaN</td>\n",
       "      <td>NaN</td>\n",
       "      <td>NaN</td>\n",
       "      <td>NaN</td>\n",
       "      <td>0</td>\n",
       "    </tr>\n",
       "    <tr>\n",
       "      <td>22938</td>\n",
       "      <td>14</td>\n",
       "      <td>4000000</td>\n",
       "      <td>98.0</td>\n",
       "      <td>2018-03-15</td>\n",
       "      <td>4</td>\n",
       "      <td>27.0</td>\n",
       "      <td>2.0</td>\n",
       "      <td>73.0</td>\n",
       "      <td>2</td>\n",
       "      <td>True</td>\n",
       "      <td>...</td>\n",
       "      <td>9.0</td>\n",
       "      <td>1</td>\n",
       "      <td>деревня Нижняя</td>\n",
       "      <td>NaN</td>\n",
       "      <td>NaN</td>\n",
       "      <td>NaN</td>\n",
       "      <td>NaN</td>\n",
       "      <td>NaN</td>\n",
       "      <td>NaN</td>\n",
       "      <td>27</td>\n",
       "    </tr>\n",
       "    <tr>\n",
       "      <td>4876</td>\n",
       "      <td>7</td>\n",
       "      <td>3000000</td>\n",
       "      <td>25.0</td>\n",
       "      <td>2017-09-27</td>\n",
       "      <td>0</td>\n",
       "      <td>27.0</td>\n",
       "      <td>25.0</td>\n",
       "      <td>17.0</td>\n",
       "      <td>17</td>\n",
       "      <td>NaN</td>\n",
       "      <td>...</td>\n",
       "      <td>NaN</td>\n",
       "      <td>2</td>\n",
       "      <td>посёлок Мурино</td>\n",
       "      <td>NaN</td>\n",
       "      <td>NaN</td>\n",
       "      <td>NaN</td>\n",
       "      <td>NaN</td>\n",
       "      <td>NaN</td>\n",
       "      <td>NaN</td>\n",
       "      <td>28</td>\n",
       "    </tr>\n",
       "    <tr>\n",
       "      <td>10773</td>\n",
       "      <td>8</td>\n",
       "      <td>3800000</td>\n",
       "      <td>58.0</td>\n",
       "      <td>2017-10-13</td>\n",
       "      <td>2</td>\n",
       "      <td>27.0</td>\n",
       "      <td>10.0</td>\n",
       "      <td>30.1</td>\n",
       "      <td>3</td>\n",
       "      <td>False</td>\n",
       "      <td>...</td>\n",
       "      <td>8.1</td>\n",
       "      <td>2</td>\n",
       "      <td>посёлок Мурино</td>\n",
       "      <td>NaN</td>\n",
       "      <td>NaN</td>\n",
       "      <td>NaN</td>\n",
       "      <td>NaN</td>\n",
       "      <td>NaN</td>\n",
       "      <td>NaN</td>\n",
       "      <td>71</td>\n",
       "    </tr>\n",
       "    <tr>\n",
       "      <td>20478</td>\n",
       "      <td>11</td>\n",
       "      <td>8000000</td>\n",
       "      <td>45.0</td>\n",
       "      <td>2017-07-18</td>\n",
       "      <td>1</td>\n",
       "      <td>27.0</td>\n",
       "      <td>4.0</td>\n",
       "      <td>22.0</td>\n",
       "      <td>2</td>\n",
       "      <td>NaN</td>\n",
       "      <td>...</td>\n",
       "      <td>10.0</td>\n",
       "      <td>1</td>\n",
       "      <td>Санкт-Петербург</td>\n",
       "      <td>18975.0</td>\n",
       "      <td>3246.0</td>\n",
       "      <td>0.0</td>\n",
       "      <td>NaN</td>\n",
       "      <td>3.0</td>\n",
       "      <td>449.0</td>\n",
       "      <td>429</td>\n",
       "    </tr>\n",
       "    <tr>\n",
       "      <td>17857</td>\n",
       "      <td>1</td>\n",
       "      <td>3900000</td>\n",
       "      <td>56.0</td>\n",
       "      <td>2017-12-22</td>\n",
       "      <td>3</td>\n",
       "      <td>27.0</td>\n",
       "      <td>5.0</td>\n",
       "      <td>33.0</td>\n",
       "      <td>4</td>\n",
       "      <td>False</td>\n",
       "      <td>...</td>\n",
       "      <td>NaN</td>\n",
       "      <td>0</td>\n",
       "      <td>Санкт-Петербург</td>\n",
       "      <td>41030.0</td>\n",
       "      <td>15543.0</td>\n",
       "      <td>0.0</td>\n",
       "      <td>NaN</td>\n",
       "      <td>0.0</td>\n",
       "      <td>NaN</td>\n",
       "      <td>73</td>\n",
       "    </tr>\n",
       "    <tr>\n",
       "      <td>21377</td>\n",
       "      <td>19</td>\n",
       "      <td>4900000</td>\n",
       "      <td>42.0</td>\n",
       "      <td>2017-04-18</td>\n",
       "      <td>1</td>\n",
       "      <td>27.5</td>\n",
       "      <td>24.0</td>\n",
       "      <td>37.7</td>\n",
       "      <td>19</td>\n",
       "      <td>False</td>\n",
       "      <td>...</td>\n",
       "      <td>11.0</td>\n",
       "      <td>2</td>\n",
       "      <td>Санкт-Петербург</td>\n",
       "      <td>42742.0</td>\n",
       "      <td>9760.0</td>\n",
       "      <td>0.0</td>\n",
       "      <td>NaN</td>\n",
       "      <td>0.0</td>\n",
       "      <td>NaN</td>\n",
       "      <td>61</td>\n",
       "    </tr>\n",
       "    <tr>\n",
       "      <td>22336</td>\n",
       "      <td>19</td>\n",
       "      <td>9999000</td>\n",
       "      <td>92.4</td>\n",
       "      <td>2019-04-05</td>\n",
       "      <td>2</td>\n",
       "      <td>32.0</td>\n",
       "      <td>6.0</td>\n",
       "      <td>55.5</td>\n",
       "      <td>5</td>\n",
       "      <td>False</td>\n",
       "      <td>...</td>\n",
       "      <td>16.5</td>\n",
       "      <td>4</td>\n",
       "      <td>Санкт-Петербург</td>\n",
       "      <td>18838.0</td>\n",
       "      <td>3506.0</td>\n",
       "      <td>0.0</td>\n",
       "      <td>NaN</td>\n",
       "      <td>3.0</td>\n",
       "      <td>511.0</td>\n",
       "      <td>0</td>\n",
       "    </tr>\n",
       "    <tr>\n",
       "      <td>3148</td>\n",
       "      <td>14</td>\n",
       "      <td>2900000</td>\n",
       "      <td>75.0</td>\n",
       "      <td>2018-11-12</td>\n",
       "      <td>3</td>\n",
       "      <td>32.0</td>\n",
       "      <td>3.0</td>\n",
       "      <td>53.0</td>\n",
       "      <td>2</td>\n",
       "      <td>NaN</td>\n",
       "      <td>...</td>\n",
       "      <td>8.0</td>\n",
       "      <td>0</td>\n",
       "      <td>Волхов</td>\n",
       "      <td>NaN</td>\n",
       "      <td>NaN</td>\n",
       "      <td>NaN</td>\n",
       "      <td>NaN</td>\n",
       "      <td>NaN</td>\n",
       "      <td>NaN</td>\n",
       "      <td>0</td>\n",
       "    </tr>\n",
       "    <tr>\n",
       "      <td>22869</td>\n",
       "      <td>0</td>\n",
       "      <td>15000000</td>\n",
       "      <td>25.0</td>\n",
       "      <td>2018-07-25</td>\n",
       "      <td>1</td>\n",
       "      <td>100.0</td>\n",
       "      <td>5.0</td>\n",
       "      <td>14.0</td>\n",
       "      <td>5</td>\n",
       "      <td>True</td>\n",
       "      <td>...</td>\n",
       "      <td>11.0</td>\n",
       "      <td>5</td>\n",
       "      <td>Санкт-Петербург</td>\n",
       "      <td>34963.0</td>\n",
       "      <td>8283.0</td>\n",
       "      <td>1.0</td>\n",
       "      <td>223.0</td>\n",
       "      <td>3.0</td>\n",
       "      <td>30.0</td>\n",
       "      <td>19</td>\n",
       "    </tr>\n",
       "  </tbody>\n",
       "</table>\n",
       "<p>20 rows × 22 columns</p>\n",
       "</div>"
      ],
      "text/plain": [
       "       total_images  last_price  total_area first_day_exposition  rooms  \\\n",
       "18545             6     3750000        43.0           2019-03-18      2   \n",
       "355              17     3600000        55.2           2018-07-12      2   \n",
       "6246              6     3300000        44.4           2019-03-25      2   \n",
       "14382             9     1700000        35.0           2015-12-04      1   \n",
       "11285             0     1950000        37.0           2019-03-20      1   \n",
       "4643              0     4300000        45.0           2018-02-01      2   \n",
       "9379              5     3950000        42.0           2017-03-26      3   \n",
       "5669              4     4400000        50.0           2017-08-08      2   \n",
       "5807             17     8150000        80.0           2019-01-09      2   \n",
       "5246              0     2500000        54.0           2017-10-13      2   \n",
       "21824            20     2450000        44.0           2019-02-12      2   \n",
       "22938            14     4000000        98.0           2018-03-15      4   \n",
       "4876              7     3000000        25.0           2017-09-27      0   \n",
       "10773             8     3800000        58.0           2017-10-13      2   \n",
       "20478            11     8000000        45.0           2017-07-18      1   \n",
       "17857             1     3900000        56.0           2017-12-22      3   \n",
       "21377            19     4900000        42.0           2017-04-18      1   \n",
       "22336            19     9999000        92.4           2019-04-05      2   \n",
       "3148             14     2900000        75.0           2018-11-12      3   \n",
       "22869             0    15000000        25.0           2018-07-25      1   \n",
       "\n",
       "       ceiling_height  floors_total  living_area  floor is_apartment  ...  \\\n",
       "18545            25.0           5.0         29.0      3        False  ...   \n",
       "355              25.0           5.0         32.0      2        False  ...   \n",
       "6246             25.0           5.0         31.3      5          NaN  ...   \n",
       "14382            25.0           5.0         20.0      2        False  ...   \n",
       "11285            25.0           5.0         17.0      4        False  ...   \n",
       "4643             25.0           9.0         30.0      2          NaN  ...   \n",
       "9379             25.0           5.0         30.0      2          NaN  ...   \n",
       "5669             26.0           9.0         21.3      3          NaN  ...   \n",
       "5807             27.0          36.0         41.0     13          NaN  ...   \n",
       "5246             27.0           5.0         30.0      3          NaN  ...   \n",
       "21824            27.0           2.0         38.0      2        False  ...   \n",
       "22938            27.0           2.0         73.0      2         True  ...   \n",
       "4876             27.0          25.0         17.0     17          NaN  ...   \n",
       "10773            27.0          10.0         30.1      3        False  ...   \n",
       "20478            27.0           4.0         22.0      2          NaN  ...   \n",
       "17857            27.0           5.0         33.0      4        False  ...   \n",
       "21377            27.5          24.0         37.7     19        False  ...   \n",
       "22336            32.0           6.0         55.5      5        False  ...   \n",
       "3148             32.0           3.0         53.0      2          NaN  ...   \n",
       "22869           100.0           5.0         14.0      5         True  ...   \n",
       "\n",
       "       kitchen_area  balcony                    locality_name  \\\n",
       "18545           NaN        0                  Санкт-Петербург   \n",
       "355             NaN        2                          Гатчина   \n",
       "6246            5.7        0                        Кронштадт   \n",
       "14382           8.0        1               поселок Новый Свет   \n",
       "11285           9.0        2                             Луга   \n",
       "4643            7.0        1                  Санкт-Петербург   \n",
       "9379            5.2        0                  Санкт-Петербург   \n",
       "5669            7.0        2                  Санкт-Петербург   \n",
       "5807           12.0        5                  Санкт-Петербург   \n",
       "5246            9.0        2                     деревня Мины   \n",
       "21824           8.6        2  городской поселок Большая Ижора   \n",
       "22938           9.0        1                   деревня Нижняя   \n",
       "4876            NaN        2                   посёлок Мурино   \n",
       "10773           8.1        2                   посёлок Мурино   \n",
       "20478          10.0        1                  Санкт-Петербург   \n",
       "17857           NaN        0                  Санкт-Петербург   \n",
       "21377          11.0        2                  Санкт-Петербург   \n",
       "22336          16.5        4                  Санкт-Петербург   \n",
       "3148            8.0        0                           Волхов   \n",
       "22869          11.0        5                  Санкт-Петербург   \n",
       "\n",
       "       airports_nearest cityCenters_nearest  parks_around3000  parks_nearest  \\\n",
       "18545           27054.0              8033.0               1.0          540.0   \n",
       "355                 NaN                 NaN               NaN            NaN   \n",
       "6246            68923.0             50649.0               1.0          417.0   \n",
       "14382               NaN                 NaN               NaN            NaN   \n",
       "11285               NaN                 NaN               NaN            NaN   \n",
       "4643            12016.0             13256.0               1.0          658.0   \n",
       "9379            11647.0             13581.0               0.0            NaN   \n",
       "5669            28981.0             10912.0               1.0          305.0   \n",
       "5807            18732.0             20444.0               0.0            NaN   \n",
       "5246                NaN                 NaN               NaN            NaN   \n",
       "21824               NaN                 NaN               NaN            NaN   \n",
       "22938               NaN                 NaN               NaN            NaN   \n",
       "4876                NaN                 NaN               NaN            NaN   \n",
       "10773               NaN                 NaN               NaN            NaN   \n",
       "20478           18975.0              3246.0               0.0            NaN   \n",
       "17857           41030.0             15543.0               0.0            NaN   \n",
       "21377           42742.0              9760.0               0.0            NaN   \n",
       "22336           18838.0              3506.0               0.0            NaN   \n",
       "3148                NaN                 NaN               NaN            NaN   \n",
       "22869           34963.0              8283.0               1.0          223.0   \n",
       "\n",
       "       ponds_around3000  ponds_nearest  days_exposition  \n",
       "18545               0.0            NaN               12  \n",
       "355                 NaN            NaN              259  \n",
       "6246                2.0           73.0                0  \n",
       "14382               NaN            NaN              206  \n",
       "11285               NaN            NaN               18  \n",
       "4643                1.0          331.0              181  \n",
       "9379                0.0            NaN                0  \n",
       "5669                0.0            NaN              267  \n",
       "5807                3.0           80.0               38  \n",
       "5246                NaN            NaN              540  \n",
       "21824               NaN            NaN                0  \n",
       "22938               NaN            NaN               27  \n",
       "4876                NaN            NaN               28  \n",
       "10773               NaN            NaN               71  \n",
       "20478               3.0          449.0              429  \n",
       "17857               0.0            NaN               73  \n",
       "21377               0.0            NaN               61  \n",
       "22336               3.0          511.0                0  \n",
       "3148                NaN            NaN                0  \n",
       "22869               3.0           30.0               19  \n",
       "\n",
       "[20 rows x 22 columns]"
      ]
     },
     "execution_count": 12,
     "metadata": {},
     "output_type": "execute_result"
    },
    {
     "data": {
      "image/png": "[encoded data removed]",
      "text/plain": [
       "<Figure size 432x288 with 1 Axes>"
      ]
     },
     "metadata": {
      "needs_background": "light"
     },
     "output_type": "display_data"
    }
   ],
   "source": [
    "data['ceiling_height'].sort_values().plot(y = 'ceiling_height', kind = 'hist', bins = 30, range=(2,5))\n",
    "data[data['ceiling_height'] > 4].sort_values('ceiling_height').tail(20)"
   ]
  },
  {
   "cell_type": "code",
   "execution_count": 13,
   "id": "09f7f555",
   "metadata": {},
   "outputs": [
    {
     "data": {
      "text/plain": [
       "count    14504.000000\n",
       "mean         2.771499\n",
       "std          1.261056\n",
       "min          1.000000\n",
       "25%          2.520000\n",
       "50%          2.650000\n",
       "75%          2.800000\n",
       "max        100.000000\n",
       "Name: ceiling_height, dtype: float64"
      ]
     },
     "execution_count": 13,
     "metadata": {},
     "output_type": "execute_result"
    }
   ],
   "source": [
    "data['ceiling_height'].describe()"
   ]
  },
  {
   "cell_type": "markdown",
   "id": "3a7ad828",
   "metadata": {},
   "source": [
    "Тут у нас присутствуют явные выбросы. Есть значения, которые портят нам всю выборку. При этом медиана примерно равна среднему значению"
   ]
  },
  {
   "cell_type": "code",
   "execution_count": 14,
   "id": "8ae8b8dd",
   "metadata": {
    "scrolled": true
   },
   "outputs": [
    {
     "name": "stdout",
     "output_type": "stream",
     "text": [
      "<class 'pandas.core.frame.DataFrame'>\n",
      "RangeIndex: 23699 entries, 0 to 23698\n",
      "Data columns (total 22 columns):\n",
      "total_images            23699 non-null int64\n",
      "last_price              23699 non-null int64\n",
      "total_area              23699 non-null float64\n",
      "first_day_exposition    23699 non-null datetime64[ns]\n",
      "rooms                   23699 non-null int64\n",
      "ceiling_height          14504 non-null float64\n",
      "floors_total            23613 non-null float64\n",
      "living_area             21796 non-null float64\n",
      "floor                   23699 non-null int64\n",
      "is_apartment            2775 non-null object\n",
      "studio                  23699 non-null bool\n",
      "open_plan               23699 non-null bool\n",
      "kitchen_area            21421 non-null float64\n",
      "balcony                 23699 non-null int64\n",
      "locality_name           23650 non-null object\n",
      "airports_nearest        18157 non-null float64\n",
      "cityCenters_nearest     18180 non-null float64\n",
      "parks_around3000        18181 non-null float64\n",
      "parks_nearest           8079 non-null float64\n",
      "ponds_around3000        18181 non-null float64\n",
      "ponds_nearest           9110 non-null float64\n",
      "days_exposition         23699 non-null int64\n",
      "dtypes: bool(2), datetime64[ns](1), float64(11), int64(6), object(2)\n",
      "memory usage: 3.7+ MB\n"
     ]
    }
   ],
   "source": [
    "data.info()"
   ]
  },
  {
   "cell_type": "code",
   "execution_count": 15,
   "id": "c1d8f06e",
   "metadata": {},
   "outputs": [
    {
     "data": {
      "text/html": [
       "<div>\n",
       "<style scoped>\n",
       "    .dataframe tbody tr th:only-of-type {\n",
       "        vertical-align: middle;\n",
       "    }\n",
       "\n",
       "    .dataframe tbody tr th {\n",
       "        vertical-align: top;\n",
       "    }\n",
       "\n",
       "    .dataframe thead th {\n",
       "        text-align: right;\n",
       "    }\n",
       "</style>\n",
       "<table border=\"1\" class=\"dataframe\">\n",
       "  <thead>\n",
       "    <tr style=\"text-align: right;\">\n",
       "      <th></th>\n",
       "      <th>total_images</th>\n",
       "      <th>last_price</th>\n",
       "      <th>total_area</th>\n",
       "      <th>first_day_exposition</th>\n",
       "      <th>rooms</th>\n",
       "      <th>ceiling_height</th>\n",
       "      <th>floors_total</th>\n",
       "      <th>living_area</th>\n",
       "      <th>floor</th>\n",
       "      <th>is_apartment</th>\n",
       "      <th>...</th>\n",
       "      <th>kitchen_area</th>\n",
       "      <th>balcony</th>\n",
       "      <th>locality_name</th>\n",
       "      <th>airports_nearest</th>\n",
       "      <th>cityCenters_nearest</th>\n",
       "      <th>parks_around3000</th>\n",
       "      <th>parks_nearest</th>\n",
       "      <th>ponds_around3000</th>\n",
       "      <th>ponds_nearest</th>\n",
       "      <th>days_exposition</th>\n",
       "    </tr>\n",
       "  </thead>\n",
       "  <tbody>\n",
       "    <tr>\n",
       "      <td>186</td>\n",
       "      <td>12</td>\n",
       "      <td>11640000</td>\n",
       "      <td>65.2</td>\n",
       "      <td>2018-10-02</td>\n",
       "      <td>2</td>\n",
       "      <td>NaN</td>\n",
       "      <td>NaN</td>\n",
       "      <td>30.80</td>\n",
       "      <td>4</td>\n",
       "      <td>NaN</td>\n",
       "      <td>...</td>\n",
       "      <td>12.00</td>\n",
       "      <td>0</td>\n",
       "      <td>Санкт-Петербург</td>\n",
       "      <td>39197.0</td>\n",
       "      <td>12373.0</td>\n",
       "      <td>1.0</td>\n",
       "      <td>123.0</td>\n",
       "      <td>0.0</td>\n",
       "      <td>NaN</td>\n",
       "      <td>49</td>\n",
       "    </tr>\n",
       "    <tr>\n",
       "      <td>237</td>\n",
       "      <td>4</td>\n",
       "      <td>2438033</td>\n",
       "      <td>28.1</td>\n",
       "      <td>2016-11-23</td>\n",
       "      <td>1</td>\n",
       "      <td>NaN</td>\n",
       "      <td>NaN</td>\n",
       "      <td>20.75</td>\n",
       "      <td>1</td>\n",
       "      <td>NaN</td>\n",
       "      <td>...</td>\n",
       "      <td>NaN</td>\n",
       "      <td>0</td>\n",
       "      <td>Санкт-Петербург</td>\n",
       "      <td>22041.0</td>\n",
       "      <td>17369.0</td>\n",
       "      <td>0.0</td>\n",
       "      <td>NaN</td>\n",
       "      <td>1.0</td>\n",
       "      <td>374.0</td>\n",
       "      <td>251</td>\n",
       "    </tr>\n",
       "    <tr>\n",
       "      <td>457</td>\n",
       "      <td>4</td>\n",
       "      <td>9788348</td>\n",
       "      <td>70.8</td>\n",
       "      <td>2015-08-01</td>\n",
       "      <td>2</td>\n",
       "      <td>NaN</td>\n",
       "      <td>NaN</td>\n",
       "      <td>38.40</td>\n",
       "      <td>12</td>\n",
       "      <td>NaN</td>\n",
       "      <td>...</td>\n",
       "      <td>10.63</td>\n",
       "      <td>0</td>\n",
       "      <td>Санкт-Петербург</td>\n",
       "      <td>37364.0</td>\n",
       "      <td>8322.0</td>\n",
       "      <td>2.0</td>\n",
       "      <td>309.0</td>\n",
       "      <td>2.0</td>\n",
       "      <td>706.0</td>\n",
       "      <td>727</td>\n",
       "    </tr>\n",
       "    <tr>\n",
       "      <td>671</td>\n",
       "      <td>4</td>\n",
       "      <td>6051191</td>\n",
       "      <td>93.6</td>\n",
       "      <td>2017-04-06</td>\n",
       "      <td>3</td>\n",
       "      <td>NaN</td>\n",
       "      <td>NaN</td>\n",
       "      <td>47.10</td>\n",
       "      <td>8</td>\n",
       "      <td>NaN</td>\n",
       "      <td>...</td>\n",
       "      <td>16.80</td>\n",
       "      <td>0</td>\n",
       "      <td>Санкт-Петербург</td>\n",
       "      <td>22041.0</td>\n",
       "      <td>17369.0</td>\n",
       "      <td>0.0</td>\n",
       "      <td>NaN</td>\n",
       "      <td>1.0</td>\n",
       "      <td>374.0</td>\n",
       "      <td>123</td>\n",
       "    </tr>\n",
       "    <tr>\n",
       "      <td>1757</td>\n",
       "      <td>5</td>\n",
       "      <td>3600000</td>\n",
       "      <td>39.0</td>\n",
       "      <td>2017-04-22</td>\n",
       "      <td>1</td>\n",
       "      <td>NaN</td>\n",
       "      <td>NaN</td>\n",
       "      <td>NaN</td>\n",
       "      <td>9</td>\n",
       "      <td>NaN</td>\n",
       "      <td>...</td>\n",
       "      <td>NaN</td>\n",
       "      <td>0</td>\n",
       "      <td>Санкт-Петербург</td>\n",
       "      <td>22735.0</td>\n",
       "      <td>11618.0</td>\n",
       "      <td>1.0</td>\n",
       "      <td>835.0</td>\n",
       "      <td>1.0</td>\n",
       "      <td>652.0</td>\n",
       "      <td>77</td>\n",
       "    </tr>\n",
       "    <tr>\n",
       "      <td>...</td>\n",
       "      <td>...</td>\n",
       "      <td>...</td>\n",
       "      <td>...</td>\n",
       "      <td>...</td>\n",
       "      <td>...</td>\n",
       "      <td>...</td>\n",
       "      <td>...</td>\n",
       "      <td>...</td>\n",
       "      <td>...</td>\n",
       "      <td>...</td>\n",
       "      <td>...</td>\n",
       "      <td>...</td>\n",
       "      <td>...</td>\n",
       "      <td>...</td>\n",
       "      <td>...</td>\n",
       "      <td>...</td>\n",
       "      <td>...</td>\n",
       "      <td>...</td>\n",
       "      <td>...</td>\n",
       "      <td>...</td>\n",
       "      <td>...</td>\n",
       "    </tr>\n",
       "    <tr>\n",
       "      <td>22542</td>\n",
       "      <td>5</td>\n",
       "      <td>8500000</td>\n",
       "      <td>63.5</td>\n",
       "      <td>2017-05-24</td>\n",
       "      <td>2</td>\n",
       "      <td>2.8</td>\n",
       "      <td>NaN</td>\n",
       "      <td>NaN</td>\n",
       "      <td>3</td>\n",
       "      <td>NaN</td>\n",
       "      <td>...</td>\n",
       "      <td>NaN</td>\n",
       "      <td>0</td>\n",
       "      <td>Санкт-Петербург</td>\n",
       "      <td>51340.0</td>\n",
       "      <td>15363.0</td>\n",
       "      <td>0.0</td>\n",
       "      <td>NaN</td>\n",
       "      <td>1.0</td>\n",
       "      <td>853.0</td>\n",
       "      <td>512</td>\n",
       "    </tr>\n",
       "    <tr>\n",
       "      <td>22656</td>\n",
       "      <td>4</td>\n",
       "      <td>4574160</td>\n",
       "      <td>64.5</td>\n",
       "      <td>2017-04-02</td>\n",
       "      <td>2</td>\n",
       "      <td>NaN</td>\n",
       "      <td>NaN</td>\n",
       "      <td>31.70</td>\n",
       "      <td>20</td>\n",
       "      <td>NaN</td>\n",
       "      <td>...</td>\n",
       "      <td>14.40</td>\n",
       "      <td>0</td>\n",
       "      <td>Санкт-Петербург</td>\n",
       "      <td>22041.0</td>\n",
       "      <td>17369.0</td>\n",
       "      <td>0.0</td>\n",
       "      <td>NaN</td>\n",
       "      <td>1.0</td>\n",
       "      <td>374.0</td>\n",
       "      <td>127</td>\n",
       "    </tr>\n",
       "    <tr>\n",
       "      <td>22808</td>\n",
       "      <td>0</td>\n",
       "      <td>14569263</td>\n",
       "      <td>110.4</td>\n",
       "      <td>2016-11-20</td>\n",
       "      <td>3</td>\n",
       "      <td>NaN</td>\n",
       "      <td>NaN</td>\n",
       "      <td>45.38</td>\n",
       "      <td>6</td>\n",
       "      <td>NaN</td>\n",
       "      <td>...</td>\n",
       "      <td>23.42</td>\n",
       "      <td>0</td>\n",
       "      <td>Санкт-Петербург</td>\n",
       "      <td>19095.0</td>\n",
       "      <td>4529.0</td>\n",
       "      <td>0.0</td>\n",
       "      <td>NaN</td>\n",
       "      <td>0.0</td>\n",
       "      <td>NaN</td>\n",
       "      <td>260</td>\n",
       "    </tr>\n",
       "    <tr>\n",
       "      <td>23590</td>\n",
       "      <td>0</td>\n",
       "      <td>21187872</td>\n",
       "      <td>123.3</td>\n",
       "      <td>2017-04-25</td>\n",
       "      <td>3</td>\n",
       "      <td>NaN</td>\n",
       "      <td>NaN</td>\n",
       "      <td>50.40</td>\n",
       "      <td>18</td>\n",
       "      <td>NaN</td>\n",
       "      <td>...</td>\n",
       "      <td>23.60</td>\n",
       "      <td>0</td>\n",
       "      <td>Санкт-Петербург</td>\n",
       "      <td>19095.0</td>\n",
       "      <td>4529.0</td>\n",
       "      <td>0.0</td>\n",
       "      <td>NaN</td>\n",
       "      <td>0.0</td>\n",
       "      <td>NaN</td>\n",
       "      <td>104</td>\n",
       "    </tr>\n",
       "    <tr>\n",
       "      <td>23658</td>\n",
       "      <td>6</td>\n",
       "      <td>3063600</td>\n",
       "      <td>43.8</td>\n",
       "      <td>2016-11-28</td>\n",
       "      <td>1</td>\n",
       "      <td>2.7</td>\n",
       "      <td>NaN</td>\n",
       "      <td>14.00</td>\n",
       "      <td>8</td>\n",
       "      <td>NaN</td>\n",
       "      <td>...</td>\n",
       "      <td>15.50</td>\n",
       "      <td>2</td>\n",
       "      <td>Санкт-Петербург</td>\n",
       "      <td>8426.0</td>\n",
       "      <td>12082.0</td>\n",
       "      <td>2.0</td>\n",
       "      <td>24.0</td>\n",
       "      <td>1.0</td>\n",
       "      <td>271.0</td>\n",
       "      <td>246</td>\n",
       "    </tr>\n",
       "  </tbody>\n",
       "</table>\n",
       "<p>86 rows × 22 columns</p>\n",
       "</div>"
      ],
      "text/plain": [
       "       total_images  last_price  total_area first_day_exposition  rooms  \\\n",
       "186              12    11640000        65.2           2018-10-02      2   \n",
       "237               4     2438033        28.1           2016-11-23      1   \n",
       "457               4     9788348        70.8           2015-08-01      2   \n",
       "671               4     6051191        93.6           2017-04-06      3   \n",
       "1757              5     3600000        39.0           2017-04-22      1   \n",
       "...             ...         ...         ...                  ...    ...   \n",
       "22542             5     8500000        63.5           2017-05-24      2   \n",
       "22656             4     4574160        64.5           2017-04-02      2   \n",
       "22808             0    14569263       110.4           2016-11-20      3   \n",
       "23590             0    21187872       123.3           2017-04-25      3   \n",
       "23658             6     3063600        43.8           2016-11-28      1   \n",
       "\n",
       "       ceiling_height  floors_total  living_area  floor is_apartment  ...  \\\n",
       "186               NaN           NaN        30.80      4          NaN  ...   \n",
       "237               NaN           NaN        20.75      1          NaN  ...   \n",
       "457               NaN           NaN        38.40     12          NaN  ...   \n",
       "671               NaN           NaN        47.10      8          NaN  ...   \n",
       "1757              NaN           NaN          NaN      9          NaN  ...   \n",
       "...               ...           ...          ...    ...          ...  ...   \n",
       "22542             2.8           NaN          NaN      3          NaN  ...   \n",
       "22656             NaN           NaN        31.70     20          NaN  ...   \n",
       "22808             NaN           NaN        45.38      6          NaN  ...   \n",
       "23590             NaN           NaN        50.40     18          NaN  ...   \n",
       "23658             2.7           NaN        14.00      8          NaN  ...   \n",
       "\n",
       "       kitchen_area  balcony    locality_name  airports_nearest  \\\n",
       "186           12.00        0  Санкт-Петербург           39197.0   \n",
       "237             NaN        0  Санкт-Петербург           22041.0   \n",
       "457           10.63        0  Санкт-Петербург           37364.0   \n",
       "671           16.80        0  Санкт-Петербург           22041.0   \n",
       "1757            NaN        0  Санкт-Петербург           22735.0   \n",
       "...             ...      ...              ...               ...   \n",
       "22542           NaN        0  Санкт-Петербург           51340.0   \n",
       "22656         14.40        0  Санкт-Петербург           22041.0   \n",
       "22808         23.42        0  Санкт-Петербург           19095.0   \n",
       "23590         23.60        0  Санкт-Петербург           19095.0   \n",
       "23658         15.50        2  Санкт-Петербург            8426.0   \n",
       "\n",
       "      cityCenters_nearest  parks_around3000  parks_nearest  ponds_around3000  \\\n",
       "186               12373.0               1.0          123.0               0.0   \n",
       "237               17369.0               0.0            NaN               1.0   \n",
       "457                8322.0               2.0          309.0               2.0   \n",
       "671               17369.0               0.0            NaN               1.0   \n",
       "1757              11618.0               1.0          835.0               1.0   \n",
       "...                   ...               ...            ...               ...   \n",
       "22542             15363.0               0.0            NaN               1.0   \n",
       "22656             17369.0               0.0            NaN               1.0   \n",
       "22808              4529.0               0.0            NaN               0.0   \n",
       "23590              4529.0               0.0            NaN               0.0   \n",
       "23658             12082.0               2.0           24.0               1.0   \n",
       "\n",
       "       ponds_nearest  days_exposition  \n",
       "186              NaN               49  \n",
       "237            374.0              251  \n",
       "457            706.0              727  \n",
       "671            374.0              123  \n",
       "1757           652.0               77  \n",
       "...              ...              ...  \n",
       "22542          853.0              512  \n",
       "22656          374.0              127  \n",
       "22808            NaN              260  \n",
       "23590            NaN              104  \n",
       "23658          271.0              246  \n",
       "\n",
       "[86 rows x 22 columns]"
      ]
     },
     "execution_count": 15,
     "metadata": {},
     "output_type": "execute_result"
    }
   ],
   "source": [
    "data[data['floors_total'].isna()]"
   ]
  },
  {
   "cell_type": "code",
   "execution_count": 16,
   "id": "6be066d4",
   "metadata": {
    "scrolled": true
   },
   "outputs": [
    {
     "data": {
      "text/plain": [
       "37434.0    61\n",
       "21928.0    32\n",
       "39946.0    30\n",
       "44870.0    30\n",
       "37407.0    27\n",
       "           ..\n",
       "25122.0     1\n",
       "26768.0     1\n",
       "22248.0     1\n",
       "20475.0     1\n",
       "14579.0     1\n",
       "Name: airports_nearest, Length: 8275, dtype: int64"
      ]
     },
     "execution_count": 16,
     "metadata": {},
     "output_type": "execute_result"
    }
   ],
   "source": [
    "data['airports_nearest'].value_counts()"
   ]
  },
  {
   "cell_type": "code",
   "execution_count": 17,
   "id": "72922f91",
   "metadata": {
    "scrolled": true
   },
   "outputs": [
    {
     "data": {
      "text/plain": [
       "8460.0     61\n",
       "20802.0    32\n",
       "10720.0    30\n",
       "8434.0     27\n",
       "20444.0    27\n",
       "           ..\n",
       "13104.0     1\n",
       "11280.0     1\n",
       "27218.0     1\n",
       "10501.0     1\n",
       "208.0       1\n",
       "Name: cityCenters_nearest, Length: 7642, dtype: int64"
      ]
     },
     "execution_count": 17,
     "metadata": {},
     "output_type": "execute_result"
    }
   ],
   "source": [
    "data['cityCenters_nearest'].value_counts()"
   ]
  },
  {
   "cell_type": "code",
   "execution_count": 18,
   "id": "836d8147",
   "metadata": {
    "scrolled": true
   },
   "outputs": [
    {
     "data": {
      "text/plain": [
       "0.0    10106\n",
       "1.0     5681\n",
       "2.0     1747\n",
       "3.0      647\n",
       "Name: parks_around3000, dtype: int64"
      ]
     },
     "execution_count": 18,
     "metadata": {},
     "output_type": "execute_result"
    }
   ],
   "source": [
    "data['parks_around3000'].value_counts()"
   ]
  },
  {
   "cell_type": "code",
   "execution_count": 19,
   "id": "d7bbbb06",
   "metadata": {
    "scrolled": true
   },
   "outputs": [
    {
     "data": {
      "text/plain": [
       "441.0     67\n",
       "173.0     41\n",
       "392.0     41\n",
       "456.0     40\n",
       "471.0     32\n",
       "          ..\n",
       "863.0      1\n",
       "2880.0     1\n",
       "969.0      1\n",
       "1011.0     1\n",
       "775.0      1\n",
       "Name: parks_nearest, Length: 995, dtype: int64"
      ]
     },
     "execution_count": 19,
     "metadata": {},
     "output_type": "execute_result"
    }
   ],
   "source": [
    "data['parks_nearest'].value_counts()"
   ]
  },
  {
   "cell_type": "code",
   "execution_count": 20,
   "id": "ee4659ba",
   "metadata": {},
   "outputs": [
    {
     "data": {
      "text/plain": [
       "0.0    9071\n",
       "1.0    5717\n",
       "2.0    1892\n",
       "3.0    1501\n",
       "Name: ponds_around3000, dtype: int64"
      ]
     },
     "execution_count": 20,
     "metadata": {},
     "output_type": "execute_result"
    }
   ],
   "source": [
    "data['ponds_around3000'].value_counts()"
   ]
  },
  {
   "cell_type": "markdown",
   "id": "8f1127fb",
   "metadata": {},
   "source": [
    "<div class=\"alert alert-warning\" style=\"border-radius: 15px; box-shadow: 4px 4px 4px;border: 1px solid \">\n",
    "<b> Комментарий ревьюера</b>\n",
    "    \n",
    "Что можно сказать про оставшиеся пропуски? Можно ли их как-то заменить?\n",
    "</div>"
   ]
  },
  {
   "cell_type": "markdown",
   "id": "fa5e4176",
   "metadata": {},
   "source": [
    "<div class=\"alert alert-info\">\n",
    "<h2> Комментарий студента</h2>\n",
    "\n",
    "По остальным пропускам: ceiling_height - из-за того что медиана от среднего отличается не сильно, я решил эти пропуски оставить как есть, по floors_total добавил ячейку 14, ничего общего я не заметил, так же взяв в расчёт количество пропусков, решил оставить как есть. Living_area - я думал произвести подсчёт среднего процента жилой площади от всей выборки и заполнить им пропуски, но мне показалось что особо смысла это иметь не будет. Пропуски в is_apartment видимо из-за того что большинство людей выкладывающих объявления просто не знаю что такое апартаменты, отсюда и пропуски. NaNы в locality_name мне не совсем понятны, поэтому оставил их без изменений. При этом есть гипотеза что это люди, которые живут в Питере, чтобы не сильно париться при подаче объявления, графу \"Населённый пункт\" они не заполняют, подразумевая что уже находятся в Питере. Что касается расположения парков, водоёмов, аэропортов, торговых центров - была у меня мысль брать данные откуда-то извне, например с тех же Яндекс карт, определять расстояние от квартиры до ближайшей точки и вписывать туда значение, однако я не совсем понял как это автоматизировать и поэтому принял что если там пропуск - значит в ближайшем радиусе ничего такого нет\n",
    "    \n",
    "</div>"
   ]
  },
  {
   "cell_type": "markdown",
   "id": "39f1c870",
   "metadata": {},
   "source": [
    "<div class=\"alert alert-success\" style=\"border-radius: 15px; box-shadow: 4px 4px 4px; border: 1px solid\">\n",
    "<h2> Комментарий ревьюера</h2>\n",
    "    \n",
    "- Потолки это довольно стандартизированная величина, поэтому можно безболезненно заменить их медианой. Можно также добавить группировку по населенному пункту, а для СПб — по расстоянию до центра.\n",
    "    \n",
    "    \n",
    "    \n",
    "- Пропуски в населенном пункте можно и удалить, ведь мы не можем быть уверены, что квартиры принадлежат Лен. области. Твоя гипотеза тоже хорошая, кстати.    \n",
    "    \n",
    "    \n",
    "    \n",
    "- По жилой площади и кухням предлагаю такой вариант:\n",
    "    \n",
    "    \n",
    "    1. Группируем по комнатам. \n",
    "    2. Для каждой группы вычисляем отношение медианы жилой площади к медиане общей. С кухней то же самое.\n",
    "    3. Заполняем жилую также в группировке по комнатам, умножая общую площадь на полученный ранее коэффициент отношения. Кухню заполняем так же.\n",
    "    \n",
    "    \n",
    "    \n",
    "Делать это не обязательно, но в будущем имей в виду, что подобные манипуляции с данными возможны :)    \n",
    "</div>"
   ]
  },
  {
   "cell_type": "markdown",
   "id": "dad94650",
   "metadata": {},
   "source": [
    "### Шаг 3. Посчитайте и добавьте в таблицу:"
   ]
  },
  {
   "cell_type": "markdown",
   "id": "fa97e85c",
   "metadata": {},
   "source": [
    "- Цену за квадратный метр;\n",
    "- День недели, месяц и год публикации объявления;\n",
    "- Этаж квартиры; варианты — первый, последний, другой;\n",
    "- Соотношение жилой и общей площади, а также отношение площади кухни к общей."
   ]
  },
  {
   "cell_type": "markdown",
   "id": "dc179f18",
   "metadata": {},
   "source": [
    "Цена за квадратный метр:"
   ]
  },
  {
   "cell_type": "code",
   "execution_count": 21,
   "id": "2501e7e5",
   "metadata": {},
   "outputs": [],
   "source": [
    "data['price_per_square_meter'] = data['last_price'] / data['total_area']"
   ]
  },
  {
   "cell_type": "code",
   "execution_count": 22,
   "id": "00074890",
   "metadata": {},
   "outputs": [
    {
     "data": {
      "text/plain": [
       "0        120370\n",
       "1         82920\n",
       "2         92785\n",
       "3        408176\n",
       "4        100000\n",
       "          ...  \n",
       "23694     72490\n",
       "23695     52542\n",
       "23696     44091\n",
       "23697    149511\n",
       "23698     41795\n",
       "Name: price_per_square_meter, Length: 23699, dtype: int64"
      ]
     },
     "execution_count": 22,
     "metadata": {},
     "output_type": "execute_result"
    }
   ],
   "source": [
    "#переведем для удобства в int\n",
    "data['price_per_square_meter'].astype('int')"
   ]
  },
  {
   "cell_type": "markdown",
   "id": "5d40e538",
   "metadata": {},
   "source": [
    "Добавим день недели, месяц и год публикации:"
   ]
  },
  {
   "cell_type": "code",
   "execution_count": 23,
   "id": "0c768539",
   "metadata": {},
   "outputs": [],
   "source": [
    "data['weekday_exposition'] = data['first_day_exposition'].dt.weekday\n",
    "data['month_exposition'] = data['first_day_exposition'].dt.month\n",
    "data['year_exposition'] = data['first_day_exposition'].dt.year"
   ]
  },
  {
   "cell_type": "markdown",
   "id": "a728415f",
   "metadata": {},
   "source": [
    " Добавлю функцию категоризации по этажам:"
   ]
  },
  {
   "cell_type": "code",
   "execution_count": 24,
   "id": "ad73907f",
   "metadata": {},
   "outputs": [],
   "source": [
    "def floor_category(row):\n",
    "    floors_total = row['floors_total']\n",
    "    floor = row['floor']\n",
    "    if floor == 1:\n",
    "        return 'первый'\n",
    "    elif floor == floors_total:\n",
    "        return 'последний'\n",
    "    elif 1 < floor < floors_total:\n",
    "        return 'другой'\n",
    "data['floor_category'] = data.apply(floor_category, axis = 1)"
   ]
  },
  {
   "cell_type": "markdown",
   "id": "4ef26c97",
   "metadata": {},
   "source": [
    "<div class=\"alert alert-success\" style=\"border-radius: 15px; box-shadow: 4px 4px 4px;border: 1px solid \">\n",
    "<b> Комментарий ревьюера</b>\n",
    "    \n",
    "Здесь же можно заодно проверить, нет ли таких ситуаций, что этаж рассматриваемой квартиры выше общего их числа в доме.\n",
    "    \n",
    "</div>"
   ]
  },
  {
   "cell_type": "markdown",
   "id": "2e968d43",
   "metadata": {},
   "source": [
    "И в самом конце добавлю два столбца - соотношение жилой и общей площади, а также отношение площади кухни к общей:"
   ]
  },
  {
   "cell_type": "code",
   "execution_count": 25,
   "id": "bf3a5267",
   "metadata": {},
   "outputs": [],
   "source": [
    "data['useful_area_ratio'] = data['living_area'] / data['total_area']\n",
    "data['kitchen_area_ratio'] = data['kitchen_area'] / data['total_area']"
   ]
  },
  {
   "cell_type": "code",
   "execution_count": 26,
   "id": "202acc96",
   "metadata": {},
   "outputs": [
    {
     "data": {
      "text/html": [
       "<div>\n",
       "<style scoped>\n",
       "    .dataframe tbody tr th:only-of-type {\n",
       "        vertical-align: middle;\n",
       "    }\n",
       "\n",
       "    .dataframe tbody tr th {\n",
       "        vertical-align: top;\n",
       "    }\n",
       "\n",
       "    .dataframe thead th {\n",
       "        text-align: right;\n",
       "    }\n",
       "</style>\n",
       "<table border=\"1\" class=\"dataframe\">\n",
       "  <thead>\n",
       "    <tr style=\"text-align: right;\">\n",
       "      <th></th>\n",
       "      <th>total_images</th>\n",
       "      <th>last_price</th>\n",
       "      <th>total_area</th>\n",
       "      <th>first_day_exposition</th>\n",
       "      <th>rooms</th>\n",
       "      <th>ceiling_height</th>\n",
       "      <th>floors_total</th>\n",
       "      <th>living_area</th>\n",
       "      <th>floor</th>\n",
       "      <th>is_apartment</th>\n",
       "      <th>...</th>\n",
       "      <th>ponds_around3000</th>\n",
       "      <th>ponds_nearest</th>\n",
       "      <th>days_exposition</th>\n",
       "      <th>price_per_square_meter</th>\n",
       "      <th>weekday_exposition</th>\n",
       "      <th>month_exposition</th>\n",
       "      <th>year_exposition</th>\n",
       "      <th>floor_category</th>\n",
       "      <th>useful_area_ratio</th>\n",
       "      <th>kitchen_area_ratio</th>\n",
       "    </tr>\n",
       "  </thead>\n",
       "  <tbody>\n",
       "    <tr>\n",
       "      <td>0</td>\n",
       "      <td>20</td>\n",
       "      <td>13000000</td>\n",
       "      <td>108.0</td>\n",
       "      <td>2019-03-07</td>\n",
       "      <td>3</td>\n",
       "      <td>2.70</td>\n",
       "      <td>16.0</td>\n",
       "      <td>51.0</td>\n",
       "      <td>8</td>\n",
       "      <td>NaN</td>\n",
       "      <td>...</td>\n",
       "      <td>2.0</td>\n",
       "      <td>755.0</td>\n",
       "      <td>0</td>\n",
       "      <td>120370.370370</td>\n",
       "      <td>3</td>\n",
       "      <td>3</td>\n",
       "      <td>2019</td>\n",
       "      <td>другой</td>\n",
       "      <td>0.472222</td>\n",
       "      <td>0.231481</td>\n",
       "    </tr>\n",
       "    <tr>\n",
       "      <td>1</td>\n",
       "      <td>7</td>\n",
       "      <td>3350000</td>\n",
       "      <td>40.4</td>\n",
       "      <td>2018-12-04</td>\n",
       "      <td>1</td>\n",
       "      <td>NaN</td>\n",
       "      <td>11.0</td>\n",
       "      <td>18.6</td>\n",
       "      <td>1</td>\n",
       "      <td>NaN</td>\n",
       "      <td>...</td>\n",
       "      <td>0.0</td>\n",
       "      <td>NaN</td>\n",
       "      <td>81</td>\n",
       "      <td>82920.792079</td>\n",
       "      <td>1</td>\n",
       "      <td>12</td>\n",
       "      <td>2018</td>\n",
       "      <td>первый</td>\n",
       "      <td>0.460396</td>\n",
       "      <td>0.272277</td>\n",
       "    </tr>\n",
       "    <tr>\n",
       "      <td>2</td>\n",
       "      <td>10</td>\n",
       "      <td>5196000</td>\n",
       "      <td>56.0</td>\n",
       "      <td>2015-08-20</td>\n",
       "      <td>2</td>\n",
       "      <td>NaN</td>\n",
       "      <td>5.0</td>\n",
       "      <td>34.3</td>\n",
       "      <td>4</td>\n",
       "      <td>NaN</td>\n",
       "      <td>...</td>\n",
       "      <td>2.0</td>\n",
       "      <td>574.0</td>\n",
       "      <td>558</td>\n",
       "      <td>92785.714286</td>\n",
       "      <td>3</td>\n",
       "      <td>8</td>\n",
       "      <td>2015</td>\n",
       "      <td>другой</td>\n",
       "      <td>0.612500</td>\n",
       "      <td>0.148214</td>\n",
       "    </tr>\n",
       "    <tr>\n",
       "      <td>3</td>\n",
       "      <td>0</td>\n",
       "      <td>64900000</td>\n",
       "      <td>159.0</td>\n",
       "      <td>2015-07-24</td>\n",
       "      <td>3</td>\n",
       "      <td>NaN</td>\n",
       "      <td>14.0</td>\n",
       "      <td>NaN</td>\n",
       "      <td>9</td>\n",
       "      <td>NaN</td>\n",
       "      <td>...</td>\n",
       "      <td>3.0</td>\n",
       "      <td>234.0</td>\n",
       "      <td>424</td>\n",
       "      <td>408176.100629</td>\n",
       "      <td>4</td>\n",
       "      <td>7</td>\n",
       "      <td>2015</td>\n",
       "      <td>другой</td>\n",
       "      <td>NaN</td>\n",
       "      <td>NaN</td>\n",
       "    </tr>\n",
       "    <tr>\n",
       "      <td>4</td>\n",
       "      <td>2</td>\n",
       "      <td>10000000</td>\n",
       "      <td>100.0</td>\n",
       "      <td>2018-06-19</td>\n",
       "      <td>2</td>\n",
       "      <td>3.03</td>\n",
       "      <td>14.0</td>\n",
       "      <td>32.0</td>\n",
       "      <td>13</td>\n",
       "      <td>NaN</td>\n",
       "      <td>...</td>\n",
       "      <td>1.0</td>\n",
       "      <td>48.0</td>\n",
       "      <td>121</td>\n",
       "      <td>100000.000000</td>\n",
       "      <td>1</td>\n",
       "      <td>6</td>\n",
       "      <td>2018</td>\n",
       "      <td>другой</td>\n",
       "      <td>0.320000</td>\n",
       "      <td>0.410000</td>\n",
       "    </tr>\n",
       "  </tbody>\n",
       "</table>\n",
       "<p>5 rows × 29 columns</p>\n",
       "</div>"
      ],
      "text/plain": [
       "   total_images  last_price  total_area first_day_exposition  rooms  \\\n",
       "0            20    13000000       108.0           2019-03-07      3   \n",
       "1             7     3350000        40.4           2018-12-04      1   \n",
       "2            10     5196000        56.0           2015-08-20      2   \n",
       "3             0    64900000       159.0           2015-07-24      3   \n",
       "4             2    10000000       100.0           2018-06-19      2   \n",
       "\n",
       "   ceiling_height  floors_total  living_area  floor is_apartment  ...  \\\n",
       "0            2.70          16.0         51.0      8          NaN  ...   \n",
       "1             NaN          11.0         18.6      1          NaN  ...   \n",
       "2             NaN           5.0         34.3      4          NaN  ...   \n",
       "3             NaN          14.0          NaN      9          NaN  ...   \n",
       "4            3.03          14.0         32.0     13          NaN  ...   \n",
       "\n",
       "   ponds_around3000  ponds_nearest  days_exposition  price_per_square_meter  \\\n",
       "0               2.0          755.0                0           120370.370370   \n",
       "1               0.0            NaN               81            82920.792079   \n",
       "2               2.0          574.0              558            92785.714286   \n",
       "3               3.0          234.0              424           408176.100629   \n",
       "4               1.0           48.0              121           100000.000000   \n",
       "\n",
       "  weekday_exposition  month_exposition  year_exposition  floor_category  \\\n",
       "0                  3                 3             2019          другой   \n",
       "1                  1                12             2018          первый   \n",
       "2                  3                 8             2015          другой   \n",
       "3                  4                 7             2015          другой   \n",
       "4                  1                 6             2018          другой   \n",
       "\n",
       "   useful_area_ratio  kitchen_area_ratio  \n",
       "0           0.472222            0.231481  \n",
       "1           0.460396            0.272277  \n",
       "2           0.612500            0.148214  \n",
       "3                NaN                 NaN  \n",
       "4           0.320000            0.410000  \n",
       "\n",
       "[5 rows x 29 columns]"
      ]
     },
     "execution_count": 26,
     "metadata": {},
     "output_type": "execute_result"
    }
   ],
   "source": [
    "data.head(5)"
   ]
  },
  {
   "cell_type": "markdown",
   "id": "1ebf9b04",
   "metadata": {},
   "source": [
    "### Шаг 4. Проведите исследовательский анализ данных и выполните инструкции:"
   ]
  },
  {
   "cell_type": "markdown",
   "id": "617e326c",
   "metadata": {},
   "source": [
    "- Изучите следующие параметры: площадь, цена, число комнат, высота потолков. Постройте гистограммы для каждого параметра.\n",
    "- Изучите время продажи квартиры. Постройте гистограмму. Посчитайте среднее и медиану. Опишите, сколько обычно занимает продажа. Когда можно считать, что продажи прошли очень быстро, а когда необычно долго?\n",
    "- Уберите редкие и выбивающиеся значения. Опишите, какие особенности обнаружили.\n",
    "- Какие факторы больше всего влияют на стоимость квартиры? Изучите, зависит ли цена от площади, числа комнат, удалённости от центра. Изучите зависимость цены от того, на каком этаже расположена квартира: первом, последнем или другом. Также изучите зависимость от даты размещения: дня недели, месяца и года.\n",
    "- Выберите 10 населённых пунктов с наибольшим числом объявлений. Посчитайте среднюю цену квадратного метра в этих населённых пунктах. Выделите среди них населённые пункты с самой высокой и низкой стоимостью жилья. Эти данные можно найти по имени в столбце 'locality_name'.\n",
    "- Изучите предложения квартир: для каждой квартиры есть информация о расстоянии до центра. Выделите квартиры в Санкт-Петербурге ('locality_name'). Ваша задача — выяснить, какая область входит в центр. Создайте столбец с расстоянием до центра в километрах: округлите до целых значений. После этого посчитайте среднюю цену для каждого километра. Постройте график: он должен показывать, как цена зависит от удалённости от центра. Определите границу, где график сильно меняется — это и будет центральная зона.\n",
    "- Выделите сегмент квартир в центре. Проанализируйте эту территорию и изучите следующие параметры: площадь, цена, число комнат, высота потолков. Также выделите факторы, которые влияют на стоимость квартиры (число комнат, этаж, удалённость от центра, дата размещения объявления). Сделайте выводы. Отличаются ли они от общих выводов по всему городу?"
   ]
  },
  {
   "cell_type": "markdown",
   "id": "cbbee23a",
   "metadata": {},
   "source": [
    " #### 1. Начнем с постройки гистаграмм для площади, цены, числа комнат и высоты потолков: "
   ]
  },
  {
   "cell_type": "code",
   "execution_count": 27,
   "id": "e18fd67a",
   "metadata": {},
   "outputs": [
    {
     "data": {
      "text/plain": [
       "count    23699.000000\n",
       "mean        60.348651\n",
       "std         35.654083\n",
       "min         12.000000\n",
       "25%         40.000000\n",
       "50%         52.000000\n",
       "75%         69.900000\n",
       "max        900.000000\n",
       "Name: total_area, dtype: float64"
      ]
     },
     "execution_count": 27,
     "metadata": {},
     "output_type": "execute_result"
    },
    {
     "data": {
      "image/png": "[encoded data removed]",
      "text/plain": [
       "<Figure size 360x216 with 1 Axes>"
      ]
     },
     "metadata": {
      "needs_background": "light"
     },
     "output_type": "display_data"
    }
   ],
   "source": [
    "#площадь\n",
    "data\n",
    "data.plot(y = 'total_area', kind = 'hist', bins = 100, grid=True, figsize = (5,3), range = (0,500))\n",
    "data['total_area'].describe()"
   ]
  },
  {
   "cell_type": "code",
   "execution_count": 28,
   "id": "517fc53b",
   "metadata": {},
   "outputs": [
    {
     "data": {
      "text/plain": [
       "count    2.369900e+04\n",
       "mean     6.541549e+06\n",
       "std      1.088701e+07\n",
       "min      1.219000e+04\n",
       "25%      3.400000e+06\n",
       "50%      4.650000e+06\n",
       "75%      6.800000e+06\n",
       "max      7.630000e+08\n",
       "Name: last_price, dtype: float64"
      ]
     },
     "execution_count": 28,
     "metadata": {},
     "output_type": "execute_result"
    },
    {
     "data": {
      "image/png": "[encoded data removed]",
      "text/plain": [
       "<Figure size 360x216 with 1 Axes>"
      ]
     },
     "metadata": {
      "needs_background": "light"
     },
     "output_type": "display_data"
    }
   ],
   "source": [
    "#цена\n",
    "data.plot(y = 'last_price', kind = 'hist', bins = 100, grid=True, range = (0,15000000), figsize = (5,3))\n",
    "data['last_price'].describe()"
   ]
  },
  {
   "cell_type": "code",
   "execution_count": 29,
   "id": "57528640",
   "metadata": {},
   "outputs": [
    {
     "data": {
      "text/plain": [
       "count    23699.000000\n",
       "mean         2.070636\n",
       "std          1.078405\n",
       "min          0.000000\n",
       "25%          1.000000\n",
       "50%          2.000000\n",
       "75%          3.000000\n",
       "max         19.000000\n",
       "Name: rooms, dtype: float64"
      ]
     },
     "execution_count": 29,
     "metadata": {},
     "output_type": "execute_result"
    },
    {
     "data": {
      "image/png": "[encoded data removed]",
      "text/plain": [
       "<Figure size 360x216 with 1 Axes>"
      ]
     },
     "metadata": {
      "needs_background": "light"
     },
     "output_type": "display_data"
    }
   ],
   "source": [
    "#изучим комнаты\n",
    "data.plot(y = 'rooms', kind = 'hist', bins = 30, grid=True, figsize = (5,3))\n",
    "data['rooms'].describe()"
   ]
  },
  {
   "cell_type": "code",
   "execution_count": 30,
   "id": "1e9a1fab",
   "metadata": {},
   "outputs": [
    {
     "data": {
      "text/plain": [
       "count    14504.000000\n",
       "mean         2.771499\n",
       "std          1.261056\n",
       "min          1.000000\n",
       "25%          2.520000\n",
       "50%          2.650000\n",
       "75%          2.800000\n",
       "max        100.000000\n",
       "Name: ceiling_height, dtype: float64"
      ]
     },
     "execution_count": 30,
     "metadata": {},
     "output_type": "execute_result"
    },
    {
     "data": {
      "image/png": "[encoded data removed]",
      "text/plain": [
       "<Figure size 360x216 with 1 Axes>"
      ]
     },
     "metadata": {
      "needs_background": "light"
     },
     "output_type": "display_data"
    }
   ],
   "source": [
    "#и на конец высоту потолков:\n",
    "data.plot(y = 'ceiling_height', kind = 'hist', bins = 30, range = (2,5), grid=True, figsize = (5,3))\n",
    "data['ceiling_height'].describe()"
   ]
  },
  {
   "cell_type": "markdown",
   "id": "d79fda07",
   "metadata": {},
   "source": [
    "Итак, опишу что интересного я увидел после построения всех гистограмм:\n",
    "- Если Вы ищете в Питере дворец с площадью 900 квад.м, то придется очень сильно постараться чтобы в такую квартиру заселиться. Общая площадь колеблется от 12 до 900 квад.м, при этом преобладают квартиры от 40 до 50м, что в принципе очень похоже на правду. Чем больше площадь продаваемой квартиры - тем меньше таких квартир. Среднее значение 52м, а медиана - 60.\n",
    "- Describe показывает что средняя стоимость квартир составляет 6,5 млн, а медиана 4,65.\n",
    "- По количеству комнат - количество в нашем датасете количество комнат колеблется от 1 до 19. Среднее значение - 2, а медиана - 2.07.\n",
    "- Высота потолков в среднем 2.65, в то время как медиана 2.77. Интересно, но встречаются и значения с потолком 1м, а максимальное 100"
   ]
  },
  {
   "cell_type": "markdown",
   "id": "de9d16dd",
   "metadata": {},
   "source": [
    "<div class=\"alert alert-warning\" style=\"border-radius: 15px; box-shadow: 4px 4px 4px;border: 1px solid \">\n",
    "<b> Комментарий ревьюера</b>\n",
    "    \n",
    "Лучше под каждым графиком оставлять комментарии, чтобы клиенту не пришлось мотать туда-сюда страницу/презентацию. Сами графики желательно подписывать (оси + заголовок).</div>"
   ]
  },
  {
   "cell_type": "markdown",
   "id": "1bf312df",
   "metadata": {},
   "source": [
    "<div class=\"alert alert-info\">\n",
    "<h2> Комментарий студента</h2>\n",
    "\n",
    "Хорошо, спасибо! Стоит переделать? Возьму на вооружение в дальнейшей работе\n",
    "</div>"
   ]
  },
  {
   "cell_type": "markdown",
   "id": "9b4b5ccb",
   "metadata": {},
   "source": [
    "<div class=\"alert alert-success\" style=\"border-radius: 15px; box-shadow: 4px 4px 4px;border: 1px solid \">\n",
    "<h2> Комментарий ревьюера 2</h2>\n",
    "    \n",
    "Нет, эта работа и так очень большая, просто впредь сразу при построении добавляй подписи :)    \n",
    "</div>"
   ]
  },
  {
   "cell_type": "markdown",
   "id": "b0387c44",
   "metadata": {},
   "source": [
    "#### 2. Изучите время продажи квартиры. Постройте гистограмму. Посчитайте среднее и медиану. Опишите, сколько обычно занимает продажа. Когда можно считать, что продажи прошли очень быстро, а когда необычно долго?"
   ]
  },
  {
   "cell_type": "markdown",
   "id": "1c3c08f4",
   "metadata": {},
   "source": [
    "Для начала построим диаграмму размаха, а так же посмотрим, нет ли у нас выбивающихся значений:"
   ]
  },
  {
   "cell_type": "code",
   "execution_count": 31,
   "id": "1ba70063",
   "metadata": {},
   "outputs": [
    {
     "data": {
      "text/plain": [
       "(1, 1000)"
      ]
     },
     "execution_count": 31,
     "metadata": {},
     "output_type": "execute_result"
    },
    {
     "data": {
      "image/png": "[encoded data removed]",
      "text/plain": [
       "<Figure size 432x288 with 1 Axes>"
      ]
     },
     "metadata": {
      "needs_background": "light"
     },
     "output_type": "display_data"
    }
   ],
   "source": [
    "plt.boxplot(data[data['days_exposition']!=0]['days_exposition'])\n",
    "plt.ylim(1,1000)"
   ]
  },
  {
   "cell_type": "code",
   "execution_count": 32,
   "id": "e1cfcd65",
   "metadata": {},
   "outputs": [
    {
     "data": {
      "text/plain": [
       "<matplotlib.axes._subplots.AxesSubplot at 0x7f19238be050>"
      ]
     },
     "execution_count": 32,
     "metadata": {},
     "output_type": "execute_result"
    },
    {
     "data": {
      "image/png": "[encoded data removed]",
      "text/plain": [
       "<Figure size 432x288 with 1 Axes>"
      ]
     },
     "metadata": {
      "needs_background": "light"
     },
     "output_type": "display_data"
    },
    {
     "data": {
      "image/png": "[encoded data removed]",
      "text/plain": [
       "<Figure size 432x288 with 1 Axes>"
      ]
     },
     "metadata": {
      "needs_background": "light"
     },
     "output_type": "display_data"
    }
   ],
   "source": [
    "data.plot(y = 'days_exposition', kind = 'hist', bins = 30, grid = True, range = (1,1600))\n",
    "data.plot(y = 'days_exposition', kind = 'hist', bins = 100, grid = True, range = (1,200))"
   ]
  },
  {
   "cell_type": "code",
   "execution_count": 33,
   "id": "a0052611",
   "metadata": {},
   "outputs": [
    {
     "data": {
      "text/plain": [
       "45      880\n",
       "60      538\n",
       "7       234\n",
       "30      208\n",
       "90      204\n",
       "       ... \n",
       "807       1\n",
       "871       1\n",
       "951       1\n",
       "999       1\n",
       "1223      1\n",
       "Name: days_exposition, Length: 1141, dtype: int64"
      ]
     },
     "execution_count": 33,
     "metadata": {},
     "output_type": "execute_result"
    }
   ],
   "source": [
    "data[data['days_exposition']!=0]['days_exposition'].value_counts()"
   ]
  },
  {
   "cell_type": "code",
   "execution_count": 34,
   "id": "4df06664",
   "metadata": {},
   "outputs": [
    {
     "data": {
      "text/plain": [
       "count    20518.000000\n",
       "mean       180.888634\n",
       "std        219.727988\n",
       "min          1.000000\n",
       "25%         45.000000\n",
       "50%         95.000000\n",
       "75%        232.000000\n",
       "max       1580.000000\n",
       "Name: days_exposition, dtype: float64"
      ]
     },
     "execution_count": 34,
     "metadata": {},
     "output_type": "execute_result"
    }
   ],
   "source": [
    "data[data['days_exposition']!=0]['days_exposition'].describe()"
   ]
  },
  {
   "cell_type": "markdown",
   "id": "d5ce3162",
   "metadata": {},
   "source": [
    "Итак, мы наглядно увидели что присутствуют значения, которые искажают наш результат. Наглядно по value_counts видно что у нас выбиваются значения 7, 30, 45, 60 и 90. Интересно, с чем связаны эти значения? Мы с командой наткнулись на очень интересный факт: загуглив правила размещения квартир на Яндекс Недвижимоси, мы нашли занимательную штуку: https://yandex.ru/support/realty/owner/home/add-ads-housing.html, \n",
    "а именно - сроки публикации объявлений. Для каждой квартиры, комнаты, гаража, апартаментов существуют свои сроки размещения.\n",
    "<font color='red'> При просмотре последнего describe - напрашивается вывод: в среднем, на продажу квартиры уходит от 45 до 232 дней. При просмотре нашего boxplot очевидно что диаграмма размаха у нас идёт от минимального значения до 500 дней. Следовательно, очень быстрым периодом можно считать продажу до 45 дней, а очень долгим всё что выше 500 дней.  </font> "
   ]
  },
  {
   "cell_type": "markdown",
   "id": "8d7cd592",
   "metadata": {},
   "source": [
    "<div class=\"alert alert-success\" style=\"border-radius: 15px; box-shadow: 4px 4px 4px;border: 1px solid \">\n",
    "<h2> Комментарий ревьюера 2</h2>\n",
    "    \n",
    "Согласна :) </div>\n",
    "\n",
    "<div class=\"alert alert-success\" style=\"border-radius: 15px; box-shadow: 4px 4px 4px;border: 1px solid \">\n",
    "<b> Комментарий ревьюера</b>\n",
    "    \n",
    "Очень здорово, что ты пользуешься внешними источниками информации :) </div>\n",
    "\n",
    "<div class=\"alert alert-danger\" style=\"border-radius: 15px; box-shadow: 4px 4px 4px;border: 1px solid \">\n",
    "<b> Комментарий ревьюера</b>\n",
    "    \n",
    "В результате, какой период продажи можно назвать очень быстрым, а какой — очень долгим?    \n",
    "</div>"
   ]
  },
  {
   "cell_type": "markdown",
   "id": "09b71e00",
   "metadata": {},
   "source": [
    "<div class=\"alert alert-info\">\n",
    "<h2> Комментарий студента</h2>\n",
    "\n",
    "Пардон, не ответил на поставленный вопрос. Добавлю другим цветом к прошлому выводу\n",
    "</div>"
   ]
  },
  {
   "cell_type": "markdown",
   "id": "21c76f44",
   "metadata": {},
   "source": [
    "#### 3. Уберите редкие и выбивающиеся значения. Опишите, какие особенности обнаружили."
   ]
  },
  {
   "cell_type": "markdown",
   "id": "031a7936",
   "metadata": {},
   "source": [
    "Для начала запишем в срез новый датафрейм без наших аномалий и построим диаграмму размаха:"
   ]
  },
  {
   "cell_type": "markdown",
   "id": "91e582e3",
   "metadata": {},
   "source": [
    "<div class=\"alert alert-danger\" style=\"border-radius: 15px; box-shadow: 4px 4px 4px;border: 1px solid \">\n",
    "<b> Комментарий ревьюера</b>\n",
    "    \n",
    "Почему нам здесь следует удалять эти данные? Быть может, в этом пункте речь о выбросах по основным характеристикам квартиры? Пожалуйста, ответь на первый вопрос и добавь обработку аномалий по цене, площади, потолкам и комнатам. Или аргументируй отсутствие необходимости их обработки. </div>"
   ]
  },
  {
   "cell_type": "markdown",
   "id": "b5263817",
   "metadata": {},
   "source": [
    "<div class=\"alert alert-info\">\n",
    "<h2> Комментарий студента</h2>\n",
    "\n",
    "Рассматривая возможные особенности у объявлений снятых через 45 дней, не было выявлено ничего особенного. Будем рассматривать что это аномалии. Так же поступим с объявлениями на 7,30,60 и 90 дней, поэтому было решено эти данные убрать.\n",
    "</div>"
   ]
  },
  {
   "cell_type": "markdown",
   "id": "17da72ec",
   "metadata": {},
   "source": [
    "<div class=\"alert alert-success\" style=\"border-radius: 15px; box-shadow: 4px 4px 4px;border: 1px solid \">\n",
    "<h2> Комментарий ревьюера 2</h2>\n",
    "    \n",
    "Есть вероятность того, что на яндексе объявления автоматом снимаются после 45 или 60 дней. Возмонжо, это относится ко всем квартирам, а, может быть, к подозрительным. </div>"
   ]
  },
  {
   "cell_type": "code",
   "execution_count": 35,
   "id": "779a03a1",
   "metadata": {},
   "outputs": [
    {
     "data": {
      "text/html": [
       "<div>\n",
       "<style scoped>\n",
       "    .dataframe tbody tr th:only-of-type {\n",
       "        vertical-align: middle;\n",
       "    }\n",
       "\n",
       "    .dataframe tbody tr th {\n",
       "        vertical-align: top;\n",
       "    }\n",
       "\n",
       "    .dataframe thead th {\n",
       "        text-align: right;\n",
       "    }\n",
       "</style>\n",
       "<table border=\"1\" class=\"dataframe\">\n",
       "  <thead>\n",
       "    <tr style=\"text-align: right;\">\n",
       "      <th></th>\n",
       "      <th>total_images</th>\n",
       "      <th>last_price</th>\n",
       "      <th>total_area</th>\n",
       "      <th>first_day_exposition</th>\n",
       "      <th>rooms</th>\n",
       "      <th>ceiling_height</th>\n",
       "      <th>floors_total</th>\n",
       "      <th>living_area</th>\n",
       "      <th>floor</th>\n",
       "      <th>is_apartment</th>\n",
       "      <th>...</th>\n",
       "      <th>ponds_around3000</th>\n",
       "      <th>ponds_nearest</th>\n",
       "      <th>days_exposition</th>\n",
       "      <th>price_per_square_meter</th>\n",
       "      <th>weekday_exposition</th>\n",
       "      <th>month_exposition</th>\n",
       "      <th>year_exposition</th>\n",
       "      <th>floor_category</th>\n",
       "      <th>useful_area_ratio</th>\n",
       "      <th>kitchen_area_ratio</th>\n",
       "    </tr>\n",
       "  </thead>\n",
       "  <tbody>\n",
       "    <tr>\n",
       "      <td>78</td>\n",
       "      <td>9</td>\n",
       "      <td>4350000</td>\n",
       "      <td>37.0</td>\n",
       "      <td>2018-02-22</td>\n",
       "      <td>1</td>\n",
       "      <td>NaN</td>\n",
       "      <td>19.0</td>\n",
       "      <td>18.0</td>\n",
       "      <td>6</td>\n",
       "      <td>NaN</td>\n",
       "      <td>...</td>\n",
       "      <td>0.0</td>\n",
       "      <td>NaN</td>\n",
       "      <td>45</td>\n",
       "      <td>117567.567568</td>\n",
       "      <td>3</td>\n",
       "      <td>2</td>\n",
       "      <td>2018</td>\n",
       "      <td>другой</td>\n",
       "      <td>0.486486</td>\n",
       "      <td>0.289189</td>\n",
       "    </tr>\n",
       "    <tr>\n",
       "      <td>89</td>\n",
       "      <td>9</td>\n",
       "      <td>2500000</td>\n",
       "      <td>63.0</td>\n",
       "      <td>2018-10-25</td>\n",
       "      <td>3</td>\n",
       "      <td>2.50</td>\n",
       "      <td>5.0</td>\n",
       "      <td>43.0</td>\n",
       "      <td>4</td>\n",
       "      <td>NaN</td>\n",
       "      <td>...</td>\n",
       "      <td>NaN</td>\n",
       "      <td>NaN</td>\n",
       "      <td>45</td>\n",
       "      <td>39682.539683</td>\n",
       "      <td>3</td>\n",
       "      <td>10</td>\n",
       "      <td>2018</td>\n",
       "      <td>другой</td>\n",
       "      <td>0.682540</td>\n",
       "      <td>0.142857</td>\n",
       "    </tr>\n",
       "    <tr>\n",
       "      <td>110</td>\n",
       "      <td>6</td>\n",
       "      <td>3850000</td>\n",
       "      <td>72.3</td>\n",
       "      <td>2017-09-29</td>\n",
       "      <td>2</td>\n",
       "      <td>NaN</td>\n",
       "      <td>3.0</td>\n",
       "      <td>27.4</td>\n",
       "      <td>2</td>\n",
       "      <td>NaN</td>\n",
       "      <td>...</td>\n",
       "      <td>NaN</td>\n",
       "      <td>NaN</td>\n",
       "      <td>45</td>\n",
       "      <td>53250.345781</td>\n",
       "      <td>4</td>\n",
       "      <td>9</td>\n",
       "      <td>2017</td>\n",
       "      <td>другой</td>\n",
       "      <td>0.378976</td>\n",
       "      <td>0.326418</td>\n",
       "    </tr>\n",
       "    <tr>\n",
       "      <td>153</td>\n",
       "      <td>12</td>\n",
       "      <td>4350000</td>\n",
       "      <td>55.0</td>\n",
       "      <td>2017-05-21</td>\n",
       "      <td>2</td>\n",
       "      <td>2.57</td>\n",
       "      <td>9.0</td>\n",
       "      <td>31.2</td>\n",
       "      <td>2</td>\n",
       "      <td>NaN</td>\n",
       "      <td>...</td>\n",
       "      <td>0.0</td>\n",
       "      <td>NaN</td>\n",
       "      <td>45</td>\n",
       "      <td>79090.909091</td>\n",
       "      <td>6</td>\n",
       "      <td>5</td>\n",
       "      <td>2017</td>\n",
       "      <td>другой</td>\n",
       "      <td>0.567273</td>\n",
       "      <td>0.150909</td>\n",
       "    </tr>\n",
       "    <tr>\n",
       "      <td>158</td>\n",
       "      <td>15</td>\n",
       "      <td>3100000</td>\n",
       "      <td>47.3</td>\n",
       "      <td>2017-11-07</td>\n",
       "      <td>2</td>\n",
       "      <td>NaN</td>\n",
       "      <td>5.0</td>\n",
       "      <td>27.5</td>\n",
       "      <td>2</td>\n",
       "      <td>NaN</td>\n",
       "      <td>...</td>\n",
       "      <td>NaN</td>\n",
       "      <td>NaN</td>\n",
       "      <td>45</td>\n",
       "      <td>65539.112051</td>\n",
       "      <td>1</td>\n",
       "      <td>11</td>\n",
       "      <td>2017</td>\n",
       "      <td>другой</td>\n",
       "      <td>0.581395</td>\n",
       "      <td>0.179704</td>\n",
       "    </tr>\n",
       "    <tr>\n",
       "      <td>...</td>\n",
       "      <td>...</td>\n",
       "      <td>...</td>\n",
       "      <td>...</td>\n",
       "      <td>...</td>\n",
       "      <td>...</td>\n",
       "      <td>...</td>\n",
       "      <td>...</td>\n",
       "      <td>...</td>\n",
       "      <td>...</td>\n",
       "      <td>...</td>\n",
       "      <td>...</td>\n",
       "      <td>...</td>\n",
       "      <td>...</td>\n",
       "      <td>...</td>\n",
       "      <td>...</td>\n",
       "      <td>...</td>\n",
       "      <td>...</td>\n",
       "      <td>...</td>\n",
       "      <td>...</td>\n",
       "      <td>...</td>\n",
       "      <td>...</td>\n",
       "    </tr>\n",
       "    <tr>\n",
       "      <td>23601</td>\n",
       "      <td>10</td>\n",
       "      <td>2900000</td>\n",
       "      <td>43.4</td>\n",
       "      <td>2018-01-11</td>\n",
       "      <td>2</td>\n",
       "      <td>NaN</td>\n",
       "      <td>5.0</td>\n",
       "      <td>NaN</td>\n",
       "      <td>1</td>\n",
       "      <td>NaN</td>\n",
       "      <td>...</td>\n",
       "      <td>2.0</td>\n",
       "      <td>397.0</td>\n",
       "      <td>45</td>\n",
       "      <td>66820.276498</td>\n",
       "      <td>3</td>\n",
       "      <td>1</td>\n",
       "      <td>2018</td>\n",
       "      <td>первый</td>\n",
       "      <td>NaN</td>\n",
       "      <td>NaN</td>\n",
       "    </tr>\n",
       "    <tr>\n",
       "      <td>23613</td>\n",
       "      <td>4</td>\n",
       "      <td>3950000</td>\n",
       "      <td>52.0</td>\n",
       "      <td>2018-03-04</td>\n",
       "      <td>3</td>\n",
       "      <td>NaN</td>\n",
       "      <td>5.0</td>\n",
       "      <td>NaN</td>\n",
       "      <td>2</td>\n",
       "      <td>NaN</td>\n",
       "      <td>...</td>\n",
       "      <td>0.0</td>\n",
       "      <td>NaN</td>\n",
       "      <td>45</td>\n",
       "      <td>75961.538462</td>\n",
       "      <td>6</td>\n",
       "      <td>3</td>\n",
       "      <td>2018</td>\n",
       "      <td>другой</td>\n",
       "      <td>NaN</td>\n",
       "      <td>NaN</td>\n",
       "    </tr>\n",
       "    <tr>\n",
       "      <td>23670</td>\n",
       "      <td>9</td>\n",
       "      <td>2450000</td>\n",
       "      <td>45.6</td>\n",
       "      <td>2018-02-08</td>\n",
       "      <td>1</td>\n",
       "      <td>2.80</td>\n",
       "      <td>9.0</td>\n",
       "      <td>NaN</td>\n",
       "      <td>2</td>\n",
       "      <td>NaN</td>\n",
       "      <td>...</td>\n",
       "      <td>NaN</td>\n",
       "      <td>NaN</td>\n",
       "      <td>45</td>\n",
       "      <td>53728.070175</td>\n",
       "      <td>3</td>\n",
       "      <td>2</td>\n",
       "      <td>2018</td>\n",
       "      <td>другой</td>\n",
       "      <td>NaN</td>\n",
       "      <td>NaN</td>\n",
       "    </tr>\n",
       "    <tr>\n",
       "      <td>23679</td>\n",
       "      <td>0</td>\n",
       "      <td>2500000</td>\n",
       "      <td>35.0</td>\n",
       "      <td>2017-12-08</td>\n",
       "      <td>1</td>\n",
       "      <td>NaN</td>\n",
       "      <td>9.0</td>\n",
       "      <td>NaN</td>\n",
       "      <td>4</td>\n",
       "      <td>NaN</td>\n",
       "      <td>...</td>\n",
       "      <td>NaN</td>\n",
       "      <td>NaN</td>\n",
       "      <td>45</td>\n",
       "      <td>71428.571429</td>\n",
       "      <td>4</td>\n",
       "      <td>12</td>\n",
       "      <td>2017</td>\n",
       "      <td>другой</td>\n",
       "      <td>NaN</td>\n",
       "      <td>NaN</td>\n",
       "    </tr>\n",
       "    <tr>\n",
       "      <td>23695</td>\n",
       "      <td>14</td>\n",
       "      <td>3100000</td>\n",
       "      <td>59.0</td>\n",
       "      <td>2018-01-15</td>\n",
       "      <td>3</td>\n",
       "      <td>NaN</td>\n",
       "      <td>5.0</td>\n",
       "      <td>38.0</td>\n",
       "      <td>4</td>\n",
       "      <td>NaN</td>\n",
       "      <td>...</td>\n",
       "      <td>NaN</td>\n",
       "      <td>NaN</td>\n",
       "      <td>45</td>\n",
       "      <td>52542.372881</td>\n",
       "      <td>0</td>\n",
       "      <td>1</td>\n",
       "      <td>2018</td>\n",
       "      <td>другой</td>\n",
       "      <td>0.644068</td>\n",
       "      <td>0.144068</td>\n",
       "    </tr>\n",
       "  </tbody>\n",
       "</table>\n",
       "<p>880 rows × 29 columns</p>\n",
       "</div>"
      ],
      "text/plain": [
       "       total_images  last_price  total_area first_day_exposition  rooms  \\\n",
       "78                9     4350000        37.0           2018-02-22      1   \n",
       "89                9     2500000        63.0           2018-10-25      3   \n",
       "110               6     3850000        72.3           2017-09-29      2   \n",
       "153              12     4350000        55.0           2017-05-21      2   \n",
       "158              15     3100000        47.3           2017-11-07      2   \n",
       "...             ...         ...         ...                  ...    ...   \n",
       "23601            10     2900000        43.4           2018-01-11      2   \n",
       "23613             4     3950000        52.0           2018-03-04      3   \n",
       "23670             9     2450000        45.6           2018-02-08      1   \n",
       "23679             0     2500000        35.0           2017-12-08      1   \n",
       "23695            14     3100000        59.0           2018-01-15      3   \n",
       "\n",
       "       ceiling_height  floors_total  living_area  floor is_apartment  ...  \\\n",
       "78                NaN          19.0         18.0      6          NaN  ...   \n",
       "89               2.50           5.0         43.0      4          NaN  ...   \n",
       "110               NaN           3.0         27.4      2          NaN  ...   \n",
       "153              2.57           9.0         31.2      2          NaN  ...   \n",
       "158               NaN           5.0         27.5      2          NaN  ...   \n",
       "...               ...           ...          ...    ...          ...  ...   \n",
       "23601             NaN           5.0          NaN      1          NaN  ...   \n",
       "23613             NaN           5.0          NaN      2          NaN  ...   \n",
       "23670            2.80           9.0          NaN      2          NaN  ...   \n",
       "23679             NaN           9.0          NaN      4          NaN  ...   \n",
       "23695             NaN           5.0         38.0      4          NaN  ...   \n",
       "\n",
       "       ponds_around3000  ponds_nearest  days_exposition  \\\n",
       "78                  0.0            NaN               45   \n",
       "89                  NaN            NaN               45   \n",
       "110                 NaN            NaN               45   \n",
       "153                 0.0            NaN               45   \n",
       "158                 NaN            NaN               45   \n",
       "...                 ...            ...              ...   \n",
       "23601               2.0          397.0               45   \n",
       "23613               0.0            NaN               45   \n",
       "23670               NaN            NaN               45   \n",
       "23679               NaN            NaN               45   \n",
       "23695               NaN            NaN               45   \n",
       "\n",
       "       price_per_square_meter weekday_exposition  month_exposition  \\\n",
       "78              117567.567568                  3                 2   \n",
       "89               39682.539683                  3                10   \n",
       "110              53250.345781                  4                 9   \n",
       "153              79090.909091                  6                 5   \n",
       "158              65539.112051                  1                11   \n",
       "...                       ...                ...               ...   \n",
       "23601            66820.276498                  3                 1   \n",
       "23613            75961.538462                  6                 3   \n",
       "23670            53728.070175                  3                 2   \n",
       "23679            71428.571429                  4                12   \n",
       "23695            52542.372881                  0                 1   \n",
       "\n",
       "       year_exposition  floor_category  useful_area_ratio  kitchen_area_ratio  \n",
       "78                2018          другой           0.486486            0.289189  \n",
       "89                2018          другой           0.682540            0.142857  \n",
       "110               2017          другой           0.378976            0.326418  \n",
       "153               2017          другой           0.567273            0.150909  \n",
       "158               2017          другой           0.581395            0.179704  \n",
       "...                ...             ...                ...                 ...  \n",
       "23601             2018          первый                NaN                 NaN  \n",
       "23613             2018          другой                NaN                 NaN  \n",
       "23670             2018          другой                NaN                 NaN  \n",
       "23679             2017          другой                NaN                 NaN  \n",
       "23695             2018          другой           0.644068            0.144068  \n",
       "\n",
       "[880 rows x 29 columns]"
      ]
     },
     "execution_count": 35,
     "metadata": {},
     "output_type": "execute_result"
    }
   ],
   "source": [
    "data[data['days_exposition']==45]"
   ]
  },
  {
   "cell_type": "code",
   "execution_count": 36,
   "id": "42411721",
   "metadata": {},
   "outputs": [],
   "source": [
    "good_data = data.query('days_exposition != 45 and days_exposition != 30 and days_exposition != 60 and days_exposition != 90 and days_exposition != 7 and days_exposition != 0')"
   ]
  },
  {
   "cell_type": "code",
   "execution_count": 37,
   "id": "325147a8",
   "metadata": {},
   "outputs": [
    {
     "data": {
      "text/plain": [
       "(1, 1000)"
      ]
     },
     "execution_count": 37,
     "metadata": {},
     "output_type": "execute_result"
    },
    {
     "data": {
      "image/png": "[encoded data removed]",
      "text/plain": [
       "<Figure size 432x288 with 1 Axes>"
      ]
     },
     "metadata": {
      "needs_background": "light"
     },
     "output_type": "display_data"
    }
   ],
   "source": [
    "plt.boxplot(good_data['days_exposition'])\n",
    "plt.ylim(1,1000)"
   ]
  },
  {
   "cell_type": "markdown",
   "id": "54557151",
   "metadata": {},
   "source": [
    "Снова построим гистограммы для разного количества корзин:"
   ]
  },
  {
   "cell_type": "code",
   "execution_count": 38,
   "id": "e6afaa17",
   "metadata": {},
   "outputs": [
    {
     "data": {
      "text/plain": [
       "<matplotlib.axes._subplots.AxesSubplot at 0x7f19239f6a50>"
      ]
     },
     "execution_count": 38,
     "metadata": {},
     "output_type": "execute_result"
    },
    {
     "data": {
      "image/png": "[encoded data removed]",
      "text/plain": [
       "<Figure size 432x288 with 1 Axes>"
      ]
     },
     "metadata": {
      "needs_background": "light"
     },
     "output_type": "display_data"
    },
    {
     "data": {
      "image/png": "[encoded data removed]",
      "text/plain": [
       "<Figure size 432x288 with 1 Axes>"
      ]
     },
     "metadata": {
      "needs_background": "light"
     },
     "output_type": "display_data"
    }
   ],
   "source": [
    "good_data.plot(y = 'days_exposition', kind = 'hist', bins = 30, grid = True, range = (1,1600))\n",
    "good_data.plot(y = 'days_exposition', kind = 'hist', bins = 100, grid = True, range = (1,200))"
   ]
  },
  {
   "cell_type": "code",
   "execution_count": 39,
   "id": "d56ad840",
   "metadata": {},
   "outputs": [
    {
     "data": {
      "text/plain": [
       "count    18454.000000\n",
       "mean       195.803349\n",
       "std        226.760010\n",
       "min          1.000000\n",
       "25%         44.000000\n",
       "50%        114.000000\n",
       "75%        259.000000\n",
       "max       1580.000000\n",
       "Name: days_exposition, dtype: float64"
      ]
     },
     "execution_count": 39,
     "metadata": {},
     "output_type": "execute_result"
    }
   ],
   "source": [
    "good_data['days_exposition'].describe()"
   ]
  },
  {
   "cell_type": "code",
   "execution_count": 40,
   "id": "e40fdadb",
   "metadata": {},
   "outputs": [
    {
     "data": {
      "text/plain": [
       "4       176\n",
       "3       158\n",
       "5       152\n",
       "14      148\n",
       "9       143\n",
       "       ... \n",
       "807       1\n",
       "871       1\n",
       "951       1\n",
       "999       1\n",
       "1127      1\n",
       "Name: days_exposition, Length: 1136, dtype: int64"
      ]
     },
     "execution_count": 40,
     "metadata": {},
     "output_type": "execute_result"
    }
   ],
   "source": [
    "good_data['days_exposition'].value_counts()"
   ]
  },
  {
   "cell_type": "markdown",
   "id": "54394f9a",
   "metadata": {},
   "source": [
    "Как и ожидалось, мы отсекли аномальные значения и получили более чистые данные. Теперь объявления о продаже квартир располагаются до 600 дней, а медиана 195 вместо 180"
   ]
  },
  {
   "cell_type": "markdown",
   "id": "cf937ba3",
   "metadata": {},
   "source": [
    "#### 4. Какие факторы больше всего влияют на стоимость квартиры? Изучите, зависит ли цена от площади, числа комнат, удалённости от центра. Изучите зависимость цены от того, на каком этаже расположена квартира: первом, последнем или другом. Также изучите зависимость от даты размещения: дня недели, месяца и года."
   ]
  },
  {
   "cell_type": "markdown",
   "id": "a7f3fdfe",
   "metadata": {},
   "source": [
    "Итак, посмотрим на зависимость стоимости квадратного метра от общей площади квартиры"
   ]
  },
  {
   "cell_type": "code",
   "execution_count": 41,
   "id": "4ebf8ad1",
   "metadata": {},
   "outputs": [
    {
     "data": {
      "text/plain": [
       "0.30196021001472556"
      ]
     },
     "execution_count": 41,
     "metadata": {},
     "output_type": "execute_result"
    },
    {
     "data": {
      "image/png": "[encoded data removed]",
      "text/plain": [
       "<Figure size 432x288 with 1 Axes>"
      ]
     },
     "metadata": {
      "needs_background": "light"
     },
     "output_type": "display_data"
    }
   ],
   "source": [
    "pivot_table_total_area = data.pivot_table(index = 'total_area', values = 'price_per_square_meter', aggfunc = ['mean', 'count', 'median'])\n",
    "pivot_table_total_area.columns = ['mean', 'count', 'median']\n",
    "pivot_table_total_area.plot(y = 'median', style = 'o')\n",
    "\n",
    "pivot_table_total_area.sort_values('median', ascending = False)\n",
    "\n",
    "data['total_area'].corr(data['price_per_square_meter'])"
   ]
  },
  {
   "cell_type": "markdown",
   "id": "aae65e34",
   "metadata": {},
   "source": [
    "Корреляция Пирсона = 0,302 значит зависимость очень слабая! Следовательно чем больше площадь, тем немного больше стоимость за кв.м. Хмм, давайте посомтрим на другие значения?"
   ]
  },
  {
   "cell_type": "markdown",
   "id": "4f923c12",
   "metadata": {},
   "source": [
    "<div class=\"alert alert-warning\" style=\"border-radius: 15px; box-shadow: 4px 4px 4px; border: 1px solid\">\n",
    "<b> Комментарий ревьюера</b>\n",
    "    \n",
    "- Не забывай, что это коэфф-т линейной корреляции. Ее отсутствие не влечет отсутствие связи, т.к. последняя может быть нелинейной. Так что лучше еще и на графики обращать внимание, что ты и делаешь :)  Кстати, тест Пирсона не любит выбросы.\n",
    "    \n",
    "    \n",
    "- Скажи, почему ты рассматриваешь цену квадрата вместо общей цены?    \n",
    "    \n",
    "</div>"
   ]
  },
  {
   "cell_type": "markdown",
   "id": "ca053980",
   "metadata": {},
   "source": [
    "<div class=\"alert alert-info\">\n",
    "<h2> Комментарий студента</h2>\n",
    "\n",
    "Я решил рассматривать цену квадрата по одной простой причине: она зависит от других параметров. Так например две одинаковые квартиры по площади, количеству комнат и с похожей инфраструктурой могут различаться по цене. Но одна при этом будет находиться в пределах КАДа, а вторая, например, в Кронштадте. \n",
    "</div>"
   ]
  },
  {
   "cell_type": "markdown",
   "id": "8f0534df",
   "metadata": {},
   "source": [
    "<div class=\"alert alert-success\" style=\"border-radius: 15px; box-shadow: 4px 4px 4px;border: 1px solid \">\n",
    "<h2> Комментарий ревьюера 2</h2>\n",
    "    \n",
    "Принято. </div>"
   ]
  },
  {
   "cell_type": "code",
   "execution_count": 42,
   "id": "f9adb843",
   "metadata": {},
   "outputs": [
    {
     "data": {
      "text/plain": [
       "0.05541965593528785"
      ]
     },
     "execution_count": 42,
     "metadata": {},
     "output_type": "execute_result"
    },
    {
     "data": {
      "image/png": "[encoded data removed]",
      "text/plain": [
       "<Figure size 432x288 with 1 Axes>"
      ]
     },
     "metadata": {
      "needs_background": "light"
     },
     "output_type": "display_data"
    }
   ],
   "source": [
    "pivot_table_rooms = data.pivot_table(index = 'rooms', values = 'price_per_square_meter', aggfunc = ['mean', 'count', 'median'])\n",
    "pivot_table_rooms.columns = ['mean', 'count', 'median']\n",
    "pivot_table_rooms.query('count > 50').plot(y = 'median')\n",
    "\n",
    "pivot_table_rooms.query('count > 50').sort_values('median', ascending = False)\n",
    "\n",
    "data['rooms'].corr(data['price_per_square_meter'])"
   ]
  },
  {
   "cell_type": "markdown",
   "id": "ed9d345f",
   "metadata": {},
   "source": [
    "Тут еще хуже. Корреляция Пирсона = 0.056, значит зависимость еще меньше. И действительно, в 3х комнатных квартирах самый дешевый квадратный метр, а если брать другой этаж?"
   ]
  },
  {
   "cell_type": "code",
   "execution_count": 43,
   "id": "ea8a38b5",
   "metadata": {},
   "outputs": [
    {
     "data": {
      "text/html": [
       "<div>\n",
       "<style scoped>\n",
       "    .dataframe tbody tr th:only-of-type {\n",
       "        vertical-align: middle;\n",
       "    }\n",
       "\n",
       "    .dataframe tbody tr th {\n",
       "        vertical-align: top;\n",
       "    }\n",
       "\n",
       "    .dataframe thead th {\n",
       "        text-align: right;\n",
       "    }\n",
       "</style>\n",
       "<table border=\"1\" class=\"dataframe\">\n",
       "  <thead>\n",
       "    <tr style=\"text-align: right;\">\n",
       "      <th></th>\n",
       "      <th>mean</th>\n",
       "      <th>count</th>\n",
       "      <th>median</th>\n",
       "    </tr>\n",
       "    <tr>\n",
       "      <th>floor_category</th>\n",
       "      <th></th>\n",
       "      <th></th>\n",
       "      <th></th>\n",
       "    </tr>\n",
       "  </thead>\n",
       "  <tbody>\n",
       "    <tr>\n",
       "      <td>первый</td>\n",
       "      <td>81983.559279</td>\n",
       "      <td>2917</td>\n",
       "      <td>81223.628692</td>\n",
       "    </tr>\n",
       "    <tr>\n",
       "      <td>последний</td>\n",
       "      <td>93410.716254</td>\n",
       "      <td>3336</td>\n",
       "      <td>87777.777778</td>\n",
       "    </tr>\n",
       "  </tbody>\n",
       "</table>\n",
       "</div>"
      ],
      "text/plain": [
       "                        mean  count        median\n",
       "floor_category                                   \n",
       "первый          81983.559279   2917  81223.628692\n",
       "последний       93410.716254   3336  87777.777778"
      ]
     },
     "execution_count": 43,
     "metadata": {},
     "output_type": "execute_result"
    },
    {
     "data": {
      "image/png": "[encoded data removed]",
      "text/plain": [
       "<Figure size 432x288 with 1 Axes>"
      ]
     },
     "metadata": {
      "needs_background": "light"
     },
     "output_type": "display_data"
    }
   ],
   "source": [
    "pivot_table_floor_category = data.query('floor_category != \"другой\"').pivot_table(index = 'floor_category', values = 'price_per_square_meter', aggfunc = ['mean', 'count', 'median'])\n",
    "pivot_table_floor_category.columns = ['mean', 'count', 'median']\n",
    "pivot_table_floor_category.plot(y = 'median')\n",
    "pivot_table_floor_category"
   ]
  },
  {
   "cell_type": "markdown",
   "id": "5f91ce72",
   "metadata": {},
   "source": [
    "<div class=\"alert alert-danger\" style=\"border-radius: 15px; box-shadow: 4px 4px 4px; border: 1px solid\">\n",
    "<b> Комментарий ревьюера</b>\n",
    "    \n",
    "Забываешь про другие этажи :)     \n",
    "</div>"
   ]
  },
  {
   "cell_type": "markdown",
   "id": "9dd74085",
   "metadata": {},
   "source": [
    "<div class=\"alert alert-info\">\n",
    "<h2> Комментарий студента</h2>\n",
    "\n",
    "Вообще да. А стоило бы добавить, что по этому графику мы получили что в среднем цена за квадрат на первом этаже отличается от цены за квадрат на последнем этаже примерно на 10%\n",
    "</div>"
   ]
  },
  {
   "cell_type": "markdown",
   "id": "eecb02b1",
   "metadata": {},
   "source": [
    "<div class=\"alert alert-success\" style=\"border-radius: 15px; box-shadow: 4px 4px 4px;border: 1px solid \">\n",
    "<h2> Комментарий ревьюера 2</h2>\n",
    "    \n",
    "Добавлю от себя график:</div>"
   ]
  },
  {
   "cell_type": "code",
   "execution_count": 44,
   "id": "34dfb414",
   "metadata": {},
   "outputs": [
    {
     "data": {
      "text/plain": [
       "Text(0, 0.5, 'Подпись')"
      ]
     },
     "execution_count": 44,
     "metadata": {},
     "output_type": "execute_result"
    },
    {
     "data": {
      "image/png": "[encoded data removed]",
      "text/plain": [
       "<Figure size 432x288 with 1 Axes>"
      ]
     },
     "metadata": {
      "needs_background": "light"
     },
     "output_type": "display_data"
    }
   ],
   "source": [
    "# КОД РЕВЬЮЕРА\n",
    "\n",
    "data.groupby('floor_category')['price_per_square_meter'].agg('median').plot(marker='d')\n",
    "plt.title('Заголовок')\n",
    "plt.xlabel('Подпись')\n",
    "plt.ylabel('Подпись')"
   ]
  },
  {
   "cell_type": "markdown",
   "id": "12ac1b08",
   "metadata": {},
   "source": [
    "<div class=\"alert alert-success\" style=\"border-radius: 15px; box-shadow: 4px 4px 4px;border: 1px solid \">\n",
    "<h2> Комментарий ревьюера 2</h2>\n",
    "    \n",
    "На других этажах цена дороже, что тоже очевидно.</div>"
   ]
  },
  {
   "cell_type": "markdown",
   "id": "d44a875a",
   "metadata": {},
   "source": [
    "Логика прослеживается. Согласно нашей медиане - чем выше этаж, тем дороже квадратный метр. Хотим еще логичнее? А что по удаленности от центра?"
   ]
  },
  {
   "cell_type": "code",
   "execution_count": 46,
   "id": "7b417ea8",
   "metadata": {},
   "outputs": [
    {
     "data": {
      "text/plain": [
       "-0.3179507695934345"
      ]
     },
     "execution_count": 46,
     "metadata": {},
     "output_type": "execute_result"
    },
    {
     "data": {
      "image/png": "[encoded data removed]",
      "text/plain": [
       "<Figure size 432x288 with 1 Axes>"
      ]
     },
     "metadata": {
      "needs_background": "light"
     },
     "output_type": "display_data"
    }
   ],
   "source": [
    "data.plot(kind = 'scatter', y = 'price_per_square_meter', x = 'cityCenters_nearest', alpha = 0.3)\n",
    "data['cityCenters_nearest'].corr(data['price_per_square_meter'])"
   ]
  },
  {
   "cell_type": "markdown",
   "id": "de907520",
   "metadata": {},
   "source": [
    "А вот и оно! Логичнее и некуда! Чем мы ближе к центру, тем дороже цена за квадратный метр"
   ]
  },
  {
   "cell_type": "markdown",
   "id": "cbefd47c",
   "metadata": {},
   "source": [
    "Изучим зависимость цены квадратного метра от даты размещения: дня недели."
   ]
  },
  {
   "cell_type": "code",
   "execution_count": 47,
   "id": "178e9578",
   "metadata": {},
   "outputs": [
    {
     "data": {
      "text/html": [
       "<div>\n",
       "<style scoped>\n",
       "    .dataframe tbody tr th:only-of-type {\n",
       "        vertical-align: middle;\n",
       "    }\n",
       "\n",
       "    .dataframe tbody tr th {\n",
       "        vertical-align: top;\n",
       "    }\n",
       "\n",
       "    .dataframe thead th {\n",
       "        text-align: right;\n",
       "    }\n",
       "</style>\n",
       "<table border=\"1\" class=\"dataframe\">\n",
       "  <thead>\n",
       "    <tr style=\"text-align: right;\">\n",
       "      <th></th>\n",
       "      <th>mean</th>\n",
       "      <th>count</th>\n",
       "      <th>median</th>\n",
       "    </tr>\n",
       "    <tr>\n",
       "      <th>weekday_exposition</th>\n",
       "      <th></th>\n",
       "      <th></th>\n",
       "      <th></th>\n",
       "    </tr>\n",
       "  </thead>\n",
       "  <tbody>\n",
       "    <tr>\n",
       "      <td>1</td>\n",
       "      <td>99734.539194</td>\n",
       "      <td>4183</td>\n",
       "      <td>95634.095634</td>\n",
       "    </tr>\n",
       "    <tr>\n",
       "      <td>2</td>\n",
       "      <td>99617.181736</td>\n",
       "      <td>3974</td>\n",
       "      <td>95473.807179</td>\n",
       "    </tr>\n",
       "    <tr>\n",
       "      <td>3</td>\n",
       "      <td>100162.906153</td>\n",
       "      <td>4295</td>\n",
       "      <td>95143.884892</td>\n",
       "    </tr>\n",
       "    <tr>\n",
       "      <td>0</td>\n",
       "      <td>99438.432027</td>\n",
       "      <td>3612</td>\n",
       "      <td>94688.910380</td>\n",
       "    </tr>\n",
       "    <tr>\n",
       "      <td>4</td>\n",
       "      <td>99012.143458</td>\n",
       "      <td>4000</td>\n",
       "      <td>94616.160238</td>\n",
       "    </tr>\n",
       "    <tr>\n",
       "      <td>6</td>\n",
       "      <td>97708.373982</td>\n",
       "      <td>1699</td>\n",
       "      <td>94501.718213</td>\n",
       "    </tr>\n",
       "    <tr>\n",
       "      <td>5</td>\n",
       "      <td>99018.170245</td>\n",
       "      <td>1936</td>\n",
       "      <td>93545.716727</td>\n",
       "    </tr>\n",
       "  </tbody>\n",
       "</table>\n",
       "</div>"
      ],
      "text/plain": [
       "                             mean  count        median\n",
       "weekday_exposition                                    \n",
       "1                    99734.539194   4183  95634.095634\n",
       "2                    99617.181736   3974  95473.807179\n",
       "3                   100162.906153   4295  95143.884892\n",
       "0                    99438.432027   3612  94688.910380\n",
       "4                    99012.143458   4000  94616.160238\n",
       "6                    97708.373982   1699  94501.718213\n",
       "5                    99018.170245   1936  93545.716727"
      ]
     },
     "execution_count": 47,
     "metadata": {},
     "output_type": "execute_result"
    },
    {
     "data": {
      "image/png": "[encoded data removed]",
      "text/plain": [
       "<Figure size 432x288 with 1 Axes>"
      ]
     },
     "metadata": {
      "needs_background": "light"
     },
     "output_type": "display_data"
    }
   ],
   "source": [
    "pivot_table_weekday_exposition = data.pivot_table(index = 'weekday_exposition', values = 'price_per_square_meter', aggfunc = ['mean', 'count', 'median'])\n",
    "pivot_table_weekday_exposition.columns = ['mean', 'count', 'median']\n",
    "pivot_table_weekday_exposition.plot(y = 'median')\n",
    "pivot_table_weekday_exposition.sort_values('median', ascending = False)"
   ]
  },
  {
   "cell_type": "markdown",
   "id": "9632015c",
   "metadata": {},
   "source": [
    "Самый дорогой - это вторник. Люди, делающие объявления во вторник - самый жадные за кв.м. Интересно с чем это связано. Я бы предположил что всему виной - высокий трафик именно во вторник, но мы можем наблюдать приблизительно такой же и в среду и в четверг и в пятницу. Возможно это как то связано с загруженностью - в понедельник посмотрели объявления, собрали информацию, а во вторник выложили объявления со своей недвижимостью с расчетом на то что в течение остальных будних дней кто-то точно напишет или приедет посмотреть. В выходные активность падает. Оно и понятно, когда же отдыхать? Посмотрим что у нас по месяцам:"
   ]
  },
  {
   "cell_type": "code",
   "execution_count": 48,
   "id": "05c1fa84",
   "metadata": {},
   "outputs": [
    {
     "data": {
      "text/html": [
       "<div>\n",
       "<style scoped>\n",
       "    .dataframe tbody tr th:only-of-type {\n",
       "        vertical-align: middle;\n",
       "    }\n",
       "\n",
       "    .dataframe tbody tr th {\n",
       "        vertical-align: top;\n",
       "    }\n",
       "\n",
       "    .dataframe thead th {\n",
       "        text-align: right;\n",
       "    }\n",
       "</style>\n",
       "<table border=\"1\" class=\"dataframe\">\n",
       "  <thead>\n",
       "    <tr style=\"text-align: right;\">\n",
       "      <th></th>\n",
       "      <th>mean</th>\n",
       "      <th>count</th>\n",
       "      <th>median</th>\n",
       "    </tr>\n",
       "    <tr>\n",
       "      <th>month_exposition</th>\n",
       "      <th></th>\n",
       "      <th></th>\n",
       "      <th></th>\n",
       "    </tr>\n",
       "  </thead>\n",
       "  <tbody>\n",
       "    <tr>\n",
       "      <td>4</td>\n",
       "      <td>101949.026219</td>\n",
       "      <td>2379</td>\n",
       "      <td>96451.612903</td>\n",
       "    </tr>\n",
       "    <tr>\n",
       "      <td>8</td>\n",
       "      <td>100110.528446</td>\n",
       "      <td>1744</td>\n",
       "      <td>96026.315789</td>\n",
       "    </tr>\n",
       "    <tr>\n",
       "      <td>9</td>\n",
       "      <td>100464.271234</td>\n",
       "      <td>1981</td>\n",
       "      <td>95607.235142</td>\n",
       "    </tr>\n",
       "    <tr>\n",
       "      <td>11</td>\n",
       "      <td>99230.870836</td>\n",
       "      <td>2371</td>\n",
       "      <td>95588.235294</td>\n",
       "    </tr>\n",
       "    <tr>\n",
       "      <td>3</td>\n",
       "      <td>98973.216068</td>\n",
       "      <td>2587</td>\n",
       "      <td>95238.095238</td>\n",
       "    </tr>\n",
       "    <tr>\n",
       "      <td>1</td>\n",
       "      <td>99862.581241</td>\n",
       "      <td>1500</td>\n",
       "      <td>95222.437478</td>\n",
       "    </tr>\n",
       "    <tr>\n",
       "      <td>2</td>\n",
       "      <td>98768.735441</td>\n",
       "      <td>2640</td>\n",
       "      <td>95000.000000</td>\n",
       "    </tr>\n",
       "    <tr>\n",
       "      <td>7</td>\n",
       "      <td>99625.641509</td>\n",
       "      <td>1695</td>\n",
       "      <td>95000.000000</td>\n",
       "    </tr>\n",
       "    <tr>\n",
       "      <td>12</td>\n",
       "      <td>99574.727173</td>\n",
       "      <td>1641</td>\n",
       "      <td>94262.299023</td>\n",
       "    </tr>\n",
       "    <tr>\n",
       "      <td>10</td>\n",
       "      <td>97933.895863</td>\n",
       "      <td>2127</td>\n",
       "      <td>94202.898551</td>\n",
       "    </tr>\n",
       "    <tr>\n",
       "      <td>5</td>\n",
       "      <td>98543.764569</td>\n",
       "      <td>1274</td>\n",
       "      <td>92857.142857</td>\n",
       "    </tr>\n",
       "    <tr>\n",
       "      <td>6</td>\n",
       "      <td>97763.317183</td>\n",
       "      <td>1760</td>\n",
       "      <td>92799.539171</td>\n",
       "    </tr>\n",
       "  </tbody>\n",
       "</table>\n",
       "</div>"
      ],
      "text/plain": [
       "                           mean  count        median\n",
       "month_exposition                                    \n",
       "4                 101949.026219   2379  96451.612903\n",
       "8                 100110.528446   1744  96026.315789\n",
       "9                 100464.271234   1981  95607.235142\n",
       "11                 99230.870836   2371  95588.235294\n",
       "3                  98973.216068   2587  95238.095238\n",
       "1                  99862.581241   1500  95222.437478\n",
       "2                  98768.735441   2640  95000.000000\n",
       "7                  99625.641509   1695  95000.000000\n",
       "12                 99574.727173   1641  94262.299023\n",
       "10                 97933.895863   2127  94202.898551\n",
       "5                  98543.764569   1274  92857.142857\n",
       "6                  97763.317183   1760  92799.539171"
      ]
     },
     "execution_count": 48,
     "metadata": {},
     "output_type": "execute_result"
    },
    {
     "data": {
      "image/png": "[encoded data removed]",
      "text/plain": [
       "<Figure size 432x288 with 1 Axes>"
      ]
     },
     "metadata": {
      "needs_background": "light"
     },
     "output_type": "display_data"
    }
   ],
   "source": [
    "pivot_table_month_exposition = data.pivot_table(index = 'month_exposition', values = 'price_per_square_meter', aggfunc = ['mean', 'count', 'median'])\n",
    "pivot_table_month_exposition.columns = ['mean', 'count', 'median']\n",
    "pivot_table_month_exposition.plot(y = 'median')\n",
    "pivot_table_month_exposition.sort_values('median', ascending = False)"
   ]
  },
  {
   "cell_type": "markdown",
   "id": "19bf8003",
   "metadata": {},
   "source": [
    "И тут все в целом выглядит понятным: продажа квартир имеет свою сезонность. Некоторые люди продают свои квартиры в апреле чтобы отдохнуть в мае и июне. Там и активность плохая и цена за квадрат самая маленькая. Так же мы можем видеть что вторым дорогим месяцем является август. Посмотрим что у нас по годам:"
   ]
  },
  {
   "cell_type": "markdown",
   "id": "1b3a7b4b",
   "metadata": {},
   "source": [
    "<div class=\"alert alert-success\" style=\"border-radius: 15px; box-shadow: 4px 4px 4px; border: 1px solid\">\n",
    "<b> Комментарий ревьюера</b>\n",
    "    \n",
    "Картина с месяцем и днем недели тянет на случайность. Ведь речь идет о дате размещения и о цене продажи. Разместить можно во вторник в мае, а продать в пятницу в ноябре, по более низкой цене. Это можно даже проверить, построив точно такие же графики для разных лет. Наверняка ситуация будет меняться.\n",
    "</div>"
   ]
  },
  {
   "cell_type": "code",
   "execution_count": 49,
   "id": "e1a54991",
   "metadata": {},
   "outputs": [
    {
     "data": {
      "text/html": [
       "<div>\n",
       "<style scoped>\n",
       "    .dataframe tbody tr th:only-of-type {\n",
       "        vertical-align: middle;\n",
       "    }\n",
       "\n",
       "    .dataframe tbody tr th {\n",
       "        vertical-align: top;\n",
       "    }\n",
       "\n",
       "    .dataframe thead th {\n",
       "        text-align: right;\n",
       "    }\n",
       "</style>\n",
       "<table border=\"1\" class=\"dataframe\">\n",
       "  <thead>\n",
       "    <tr style=\"text-align: right;\">\n",
       "      <th></th>\n",
       "      <th>mean</th>\n",
       "      <th>count</th>\n",
       "      <th>median</th>\n",
       "    </tr>\n",
       "    <tr>\n",
       "      <th>year_exposition</th>\n",
       "      <th></th>\n",
       "      <th></th>\n",
       "      <th></th>\n",
       "    </tr>\n",
       "  </thead>\n",
       "  <tbody>\n",
       "    <tr>\n",
       "      <td>2014</td>\n",
       "      <td>124830.426426</td>\n",
       "      <td>137</td>\n",
       "      <td>107000.000000</td>\n",
       "    </tr>\n",
       "    <tr>\n",
       "      <td>2019</td>\n",
       "      <td>107123.780305</td>\n",
       "      <td>2879</td>\n",
       "      <td>103305.785124</td>\n",
       "    </tr>\n",
       "    <tr>\n",
       "      <td>2018</td>\n",
       "      <td>97773.557999</td>\n",
       "      <td>8519</td>\n",
       "      <td>95689.655172</td>\n",
       "    </tr>\n",
       "    <tr>\n",
       "      <td>2015</td>\n",
       "      <td>104614.200153</td>\n",
       "      <td>1191</td>\n",
       "      <td>93414.634146</td>\n",
       "    </tr>\n",
       "    <tr>\n",
       "      <td>2017</td>\n",
       "      <td>97621.876525</td>\n",
       "      <td>8190</td>\n",
       "      <td>92565.088448</td>\n",
       "    </tr>\n",
       "    <tr>\n",
       "      <td>2016</td>\n",
       "      <td>98322.343248</td>\n",
       "      <td>2783</td>\n",
       "      <td>91743.119266</td>\n",
       "    </tr>\n",
       "  </tbody>\n",
       "</table>\n",
       "</div>"
      ],
      "text/plain": [
       "                          mean  count         median\n",
       "year_exposition                                     \n",
       "2014             124830.426426    137  107000.000000\n",
       "2019             107123.780305   2879  103305.785124\n",
       "2018              97773.557999   8519   95689.655172\n",
       "2015             104614.200153   1191   93414.634146\n",
       "2017              97621.876525   8190   92565.088448\n",
       "2016              98322.343248   2783   91743.119266"
      ]
     },
     "execution_count": 49,
     "metadata": {},
     "output_type": "execute_result"
    },
    {
     "data": {
      "image/png": "[encoded data removed]",
      "text/plain": [
       "<Figure size 432x288 with 1 Axes>"
      ]
     },
     "metadata": {
      "needs_background": "light"
     },
     "output_type": "display_data"
    }
   ],
   "source": [
    "pivot_table_year_exposition = data.pivot_table(index = 'year_exposition', values = 'price_per_square_meter', aggfunc = ['mean', 'count', 'median'])\n",
    "pivot_table_year_exposition.columns = ['mean', 'count', 'median']\n",
    "pivot_table_year_exposition.plot(y = 'median')\n",
    "pivot_table_year_exposition.sort_values('median', ascending = False)"
   ]
  },
  {
   "cell_type": "markdown",
   "id": "dee79b6e",
   "metadata": {},
   "source": [
    "До 16 года цена на рынке стремительно падала, а после начала расти"
   ]
  },
  {
   "cell_type": "markdown",
   "id": "3f43b60a",
   "metadata": {},
   "source": [
    "<div class=\"alert alert-success\" style=\"border-radius: 15px; box-shadow: 4px 4px 4px; border: 1px solid\">\n",
    "<b> Комментарий ревьюера</b>\n",
    "    \n",
    "Все верно, ведь рынок недвижимости, как и любой другой, живой. Он зависит от экономики, покупательской способности и ключевой ставки. \n",
    "</div>"
   ]
  },
  {
   "cell_type": "markdown",
   "id": "35d09cbb",
   "metadata": {},
   "source": [
    "#### 5. Выберите 10 населённых пунктов с наибольшим числом объявлений. Посчитайте среднюю цену квадратного метра в этих населённых пунктах. Выделите населённые пункты с самой высокой и низкой стоимостью жилья. Эти данные можно найти по имени в столбце 'locality_name'."
   ]
  },
  {
   "cell_type": "code",
   "execution_count": 50,
   "id": "70798bc9",
   "metadata": {},
   "outputs": [
    {
     "name": "stdout",
     "output_type": "stream",
     "text": [
      "                   count           mean\n",
      "locality_name                          \n",
      "Санкт-Петербург    15721  114849.008794\n",
      "посёлок Мурино       522   85752.189195\n",
      "посёлок Шушары       440   78677.364217\n",
      "Всеволожск           398   68654.473986\n",
      "Пушкин               369  103125.819291\n",
      "Колпино              338   75424.579098\n",
      "посёлок Парголово    327   90175.913458\n",
      "Гатчина              307   68746.146763\n",
      "деревня Кудрово      299   92473.547576\n",
      "Выборг               237   58141.909153\n"
     ]
    }
   ],
   "source": [
    "locality_pivot_table = data.pivot_table(index = 'locality_name', values = 'price_per_square_meter', aggfunc=['count', 'mean'])\n",
    "locality_pivot_table.columns = ['count', 'mean']\n",
    "locality_pivot_table = locality_pivot_table.sort_values('count', ascending = False).head(10)\n",
    "print(locality_pivot_table)"
   ]
  },
  {
   "cell_type": "code",
   "execution_count": 51,
   "id": "21dbc964",
   "metadata": {},
   "outputs": [
    {
     "data": {
      "text/html": [
       "<div>\n",
       "<style scoped>\n",
       "    .dataframe tbody tr th:only-of-type {\n",
       "        vertical-align: middle;\n",
       "    }\n",
       "\n",
       "    .dataframe tbody tr th {\n",
       "        vertical-align: top;\n",
       "    }\n",
       "\n",
       "    .dataframe thead th {\n",
       "        text-align: right;\n",
       "    }\n",
       "</style>\n",
       "<table border=\"1\" class=\"dataframe\">\n",
       "  <thead>\n",
       "    <tr style=\"text-align: right;\">\n",
       "      <th></th>\n",
       "      <th>count</th>\n",
       "      <th>mean</th>\n",
       "    </tr>\n",
       "    <tr>\n",
       "      <th>locality_name</th>\n",
       "      <th></th>\n",
       "      <th></th>\n",
       "    </tr>\n",
       "  </thead>\n",
       "  <tbody>\n",
       "    <tr>\n",
       "      <td>Санкт-Петербург</td>\n",
       "      <td>15721</td>\n",
       "      <td>114849.008794</td>\n",
       "    </tr>\n",
       "  </tbody>\n",
       "</table>\n",
       "</div>"
      ],
      "text/plain": [
       "                 count           mean\n",
       "locality_name                        \n",
       "Санкт-Петербург  15721  114849.008794"
      ]
     },
     "execution_count": 51,
     "metadata": {},
     "output_type": "execute_result"
    }
   ],
   "source": [
    "#самая высокая стоимость\n",
    "locality_pivot_table[locality_pivot_table['mean'] == locality_pivot_table['mean'].max()]"
   ]
  },
  {
   "cell_type": "code",
   "execution_count": 52,
   "id": "98cb0bf5",
   "metadata": {},
   "outputs": [
    {
     "data": {
      "text/html": [
       "<div>\n",
       "<style scoped>\n",
       "    .dataframe tbody tr th:only-of-type {\n",
       "        vertical-align: middle;\n",
       "    }\n",
       "\n",
       "    .dataframe tbody tr th {\n",
       "        vertical-align: top;\n",
       "    }\n",
       "\n",
       "    .dataframe thead th {\n",
       "        text-align: right;\n",
       "    }\n",
       "</style>\n",
       "<table border=\"1\" class=\"dataframe\">\n",
       "  <thead>\n",
       "    <tr style=\"text-align: right;\">\n",
       "      <th></th>\n",
       "      <th>count</th>\n",
       "      <th>mean</th>\n",
       "    </tr>\n",
       "    <tr>\n",
       "      <th>locality_name</th>\n",
       "      <th></th>\n",
       "      <th></th>\n",
       "    </tr>\n",
       "  </thead>\n",
       "  <tbody>\n",
       "    <tr>\n",
       "      <td>Выборг</td>\n",
       "      <td>237</td>\n",
       "      <td>58141.909153</td>\n",
       "    </tr>\n",
       "  </tbody>\n",
       "</table>\n",
       "</div>"
      ],
      "text/plain": [
       "               count          mean\n",
       "locality_name                     \n",
       "Выборг           237  58141.909153"
      ]
     },
     "execution_count": 52,
     "metadata": {},
     "output_type": "execute_result"
    }
   ],
   "source": [
    "#самая низкая стоимость\n",
    "locality_pivot_table[locality_pivot_table['mean'] == locality_pivot_table['mean'].min()]"
   ]
  },
  {
   "cell_type": "markdown",
   "id": "b6844263",
   "metadata": {},
   "source": [
    "Самая высокая стоимость - в Санкт-Петербурге, в то время как самая низкая - в Выборге"
   ]
  },
  {
   "cell_type": "markdown",
   "id": "5c859e97",
   "metadata": {},
   "source": [
    "#### 6. Изучите предложения квартир: для каждой квартиры есть информация о расстоянии до центра. Выделите квартиры в Санкт-Петербурге ('locality_name'). Ваша задача — выяснить, какая область входит в центр. Создайте столбец с расстоянием до центра в километрах: округлите до целых значений. После этого посчитайте среднюю цену для каждого километра. Постройте график: он должен показывать, как цена зависит от удалённости от центра. Определите границу, где график сильно меняется — это и будет центральная зона."
   ]
  },
  {
   "cell_type": "code",
   "execution_count": 53,
   "id": "47448d9a",
   "metadata": {},
   "outputs": [
    {
     "data": {
      "text/html": [
       "<div>\n",
       "<style scoped>\n",
       "    .dataframe tbody tr th:only-of-type {\n",
       "        vertical-align: middle;\n",
       "    }\n",
       "\n",
       "    .dataframe tbody tr th {\n",
       "        vertical-align: top;\n",
       "    }\n",
       "\n",
       "    .dataframe thead th {\n",
       "        text-align: right;\n",
       "    }\n",
       "</style>\n",
       "<table border=\"1\" class=\"dataframe\">\n",
       "  <thead>\n",
       "    <tr style=\"text-align: right;\">\n",
       "      <th></th>\n",
       "      <th>price_per_square_meter</th>\n",
       "    </tr>\n",
       "    <tr>\n",
       "      <th>cityCenters_nearest_km</th>\n",
       "      <th></th>\n",
       "    </tr>\n",
       "  </thead>\n",
       "  <tbody>\n",
       "    <tr>\n",
       "      <td>0</td>\n",
       "      <td>187324.130319</td>\n",
       "    </tr>\n",
       "    <tr>\n",
       "      <td>1</td>\n",
       "      <td>166603.755531</td>\n",
       "    </tr>\n",
       "    <tr>\n",
       "      <td>2</td>\n",
       "      <td>146662.860056</td>\n",
       "    </tr>\n",
       "    <tr>\n",
       "      <td>3</td>\n",
       "      <td>129416.344615</td>\n",
       "    </tr>\n",
       "    <tr>\n",
       "      <td>4</td>\n",
       "      <td>137475.497055</td>\n",
       "    </tr>\n",
       "    <tr>\n",
       "      <td>5</td>\n",
       "      <td>146979.232519</td>\n",
       "    </tr>\n",
       "    <tr>\n",
       "      <td>6</td>\n",
       "      <td>152277.893519</td>\n",
       "    </tr>\n",
       "    <tr>\n",
       "      <td>7</td>\n",
       "      <td>141399.731456</td>\n",
       "    </tr>\n",
       "    <tr>\n",
       "      <td>8</td>\n",
       "      <td>120581.349830</td>\n",
       "    </tr>\n",
       "    <tr>\n",
       "      <td>9</td>\n",
       "      <td>110012.549686</td>\n",
       "    </tr>\n",
       "    <tr>\n",
       "      <td>10</td>\n",
       "      <td>111641.287182</td>\n",
       "    </tr>\n",
       "    <tr>\n",
       "      <td>11</td>\n",
       "      <td>106790.883882</td>\n",
       "    </tr>\n",
       "    <tr>\n",
       "      <td>12</td>\n",
       "      <td>108295.769255</td>\n",
       "    </tr>\n",
       "    <tr>\n",
       "      <td>13</td>\n",
       "      <td>107209.143992</td>\n",
       "    </tr>\n",
       "    <tr>\n",
       "      <td>14</td>\n",
       "      <td>104986.483351</td>\n",
       "    </tr>\n",
       "    <tr>\n",
       "      <td>15</td>\n",
       "      <td>101883.116013</td>\n",
       "    </tr>\n",
       "    <tr>\n",
       "      <td>16</td>\n",
       "      <td>100085.601721</td>\n",
       "    </tr>\n",
       "    <tr>\n",
       "      <td>17</td>\n",
       "      <td>94095.872357</td>\n",
       "    </tr>\n",
       "    <tr>\n",
       "      <td>18</td>\n",
       "      <td>94831.953162</td>\n",
       "    </tr>\n",
       "    <tr>\n",
       "      <td>19</td>\n",
       "      <td>95434.377295</td>\n",
       "    </tr>\n",
       "    <tr>\n",
       "      <td>20</td>\n",
       "      <td>107046.166047</td>\n",
       "    </tr>\n",
       "    <tr>\n",
       "      <td>21</td>\n",
       "      <td>91492.688149</td>\n",
       "    </tr>\n",
       "    <tr>\n",
       "      <td>22</td>\n",
       "      <td>88714.696974</td>\n",
       "    </tr>\n",
       "    <tr>\n",
       "      <td>23</td>\n",
       "      <td>92720.641577</td>\n",
       "    </tr>\n",
       "    <tr>\n",
       "      <td>24</td>\n",
       "      <td>82440.343912</td>\n",
       "    </tr>\n",
       "    <tr>\n",
       "      <td>25</td>\n",
       "      <td>91136.018511</td>\n",
       "    </tr>\n",
       "    <tr>\n",
       "      <td>26</td>\n",
       "      <td>75171.911041</td>\n",
       "    </tr>\n",
       "    <tr>\n",
       "      <td>27</td>\n",
       "      <td>132115.709459</td>\n",
       "    </tr>\n",
       "    <tr>\n",
       "      <td>28</td>\n",
       "      <td>81840.638722</td>\n",
       "    </tr>\n",
       "    <tr>\n",
       "      <td>29</td>\n",
       "      <td>62482.404228</td>\n",
       "    </tr>\n",
       "  </tbody>\n",
       "</table>\n",
       "</div>"
      ],
      "text/plain": [
       "                        price_per_square_meter\n",
       "cityCenters_nearest_km                        \n",
       "0                                187324.130319\n",
       "1                                166603.755531\n",
       "2                                146662.860056\n",
       "3                                129416.344615\n",
       "4                                137475.497055\n",
       "5                                146979.232519\n",
       "6                                152277.893519\n",
       "7                                141399.731456\n",
       "8                                120581.349830\n",
       "9                                110012.549686\n",
       "10                               111641.287182\n",
       "11                               106790.883882\n",
       "12                               108295.769255\n",
       "13                               107209.143992\n",
       "14                               104986.483351\n",
       "15                               101883.116013\n",
       "16                               100085.601721\n",
       "17                                94095.872357\n",
       "18                                94831.953162\n",
       "19                                95434.377295\n",
       "20                               107046.166047\n",
       "21                                91492.688149\n",
       "22                                88714.696974\n",
       "23                                92720.641577\n",
       "24                                82440.343912\n",
       "25                                91136.018511\n",
       "26                                75171.911041\n",
       "27                               132115.709459\n",
       "28                                81840.638722\n",
       "29                                62482.404228"
      ]
     },
     "execution_count": 53,
     "metadata": {},
     "output_type": "execute_result"
    },
    {
     "data": {
      "image/png": "[encoded data removed]",
      "text/plain": [
       "<Figure size 432x288 with 1 Axes>"
      ]
     },
     "metadata": {
      "needs_background": "light"
     },
     "output_type": "display_data"
    }
   ],
   "source": [
    "data['cityCenters_nearest_km'] = data['cityCenters_nearest']/1000\n",
    "data['cityCenters_nearest_km'] = data['cityCenters_nearest_km'].fillna(999999)\n",
    "data['cityCenters_nearest_km'] = data['cityCenters_nearest_km'].astype('int')\n",
    "pivot_table_km = data.query('locality_name == \"Санкт-Петербург\" and cityCenters_nearest_km !=999999').pivot_table(index = 'cityCenters_nearest_km', values = 'price_per_square_meter', aggfunc = 'mean')\n",
    "pivot_table_km.plot()\n",
    "pivot_table_km"
   ]
  },
  {
   "cell_type": "markdown",
   "id": "226814bb",
   "metadata": {},
   "source": [
    "По этому графику можем считать центр Питера - зона с радиусом 6-7 километров."
   ]
  },
  {
   "cell_type": "markdown",
   "id": "df2130cf",
   "metadata": {},
   "source": [
    "#### 7. Выделите сегмент квартир в центре. Проанализируйте эту территорию и изучите следующие параметры: площадь, цена, число комнат, высота потолков. Также выделите факторы, которые влияют на стоимость квартиры (число комнат, этаж, удалённость от центра, дата размещения объявления). Сделайте выводы. Отличаются ли они от общих выводов по всему городу?"
   ]
  },
  {
   "cell_type": "markdown",
   "id": "bf8b3e81",
   "metadata": {},
   "source": [
    "Для начала возьмем за основу радиус центра Питера. Пусть это будет 6км"
   ]
  },
  {
   "cell_type": "markdown",
   "id": "8c717f36",
   "metadata": {},
   "source": [
    "<div class=\"alert alert-info\">\n",
    "<h2> Комментарий студента</h2>\n",
    "\n",
    "Верно! Слишком большой радиус центра города я взял. Сузим радиус центра города до 3х:\n",
    "</div>"
   ]
  },
  {
   "cell_type": "markdown",
   "id": "7e2e68e2",
   "metadata": {},
   "source": [
    "<div class=\"alert alert-warning\" style=\"border-radius: 15px; box-shadow: 4px 4px 4px; border: 1px solid\">\n",
    "<b> Комментарий ревьюера</b>\n",
    "    \n",
    "Город не такой большой. 6 км захватит еще два района, помимо центра. Предлагаю 3 км. Подъем после 3 можно объяснить тем, что тут появляются квартиры с большей площадью. И это действительно так и есть. Если взять 5 км от центра на север, то попадем на очень и очень дорогую недвижимость с чуть ли не лучшим видом в городе. Хотя это не будет центральным районом. Я тебе предлагаю брать меньший радиус, руководствуясь здравым смыслом: диаметр 12 км это как-то многовато.  Как ты считаешь?\n",
    "</div>"
   ]
  },
  {
   "cell_type": "code",
   "execution_count": 54,
   "id": "70775b15",
   "metadata": {},
   "outputs": [],
   "source": [
    "center_spb_data = data.query('cityCenters_nearest_km <= 3 and locality_name == \"Санкт-Петербург\"')"
   ]
  },
  {
   "cell_type": "code",
   "execution_count": 55,
   "id": "569c9b89",
   "metadata": {},
   "outputs": [
    {
     "data": {
      "text/plain": [
       "0.0017674536825169863"
      ]
     },
     "execution_count": 55,
     "metadata": {},
     "output_type": "execute_result"
    },
    {
     "data": {
      "image/png": "[encoded data removed]",
      "text/plain": [
       "<Figure size 432x288 with 1 Axes>"
      ]
     },
     "metadata": {
      "needs_background": "light"
     },
     "output_type": "display_data"
    }
   ],
   "source": [
    "center_spb_rooms = center_spb_data.pivot_table(index = 'rooms', values = 'price_per_square_meter', aggfunc = ['mean', 'count', 'median'])\n",
    "center_spb_rooms.columns = ['mean', 'count', 'median']\n",
    "center_spb_rooms.query('count > 50').plot(y = 'median')\n",
    "center_spb_rooms.query('count > 50').sort_values('median', ascending = False)\n",
    "center_spb_data['rooms'].corr(center_spb_data['price_per_square_meter'])"
   ]
  },
  {
   "cell_type": "markdown",
   "id": "81f704e2",
   "metadata": {},
   "source": [
    "Коэффициент корелляции Пирсона совсем мизерный. Я думаю что тут будет неуместно говорить о какой-то связи но она есть. давайте лучше обратимся к этажам:"
   ]
  },
  {
   "cell_type": "markdown",
   "id": "ba11e980",
   "metadata": {},
   "source": [
    "<div class=\"alert alert-info\">\n",
    "<h2> Комментарий студента</h2>\n",
    "\n",
    "В итоге график для радиуса центра города = 3км немного другой. Собственно, по медиане можно сказать что в центре Питера чем меньше комнат, тем выше цена за квадратный метр, в то время как во всей выборке стоимость квадратного метра уменьшается с приближением комнат к 3.\n",
    "</div>"
   ]
  },
  {
   "cell_type": "code",
   "execution_count": 56,
   "id": "776f9fd8",
   "metadata": {},
   "outputs": [
    {
     "data": {
      "text/html": [
       "<div>\n",
       "<style scoped>\n",
       "    .dataframe tbody tr th:only-of-type {\n",
       "        vertical-align: middle;\n",
       "    }\n",
       "\n",
       "    .dataframe tbody tr th {\n",
       "        vertical-align: top;\n",
       "    }\n",
       "\n",
       "    .dataframe thead th {\n",
       "        text-align: right;\n",
       "    }\n",
       "</style>\n",
       "<table border=\"1\" class=\"dataframe\">\n",
       "  <thead>\n",
       "    <tr style=\"text-align: right;\">\n",
       "      <th></th>\n",
       "      <th>mean</th>\n",
       "      <th>count</th>\n",
       "      <th>median</th>\n",
       "    </tr>\n",
       "    <tr>\n",
       "      <th>floor_category</th>\n",
       "      <th></th>\n",
       "      <th></th>\n",
       "      <th></th>\n",
       "    </tr>\n",
       "  </thead>\n",
       "  <tbody>\n",
       "    <tr>\n",
       "      <td>первый</td>\n",
       "      <td>123509.583016</td>\n",
       "      <td>164</td>\n",
       "      <td>107508.771930</td>\n",
       "    </tr>\n",
       "    <tr>\n",
       "      <td>последний</td>\n",
       "      <td>146999.179221</td>\n",
       "      <td>268</td>\n",
       "      <td>114432.499886</td>\n",
       "    </tr>\n",
       "  </tbody>\n",
       "</table>\n",
       "</div>"
      ],
      "text/plain": [
       "                         mean  count         median\n",
       "floor_category                                     \n",
       "первый          123509.583016    164  107508.771930\n",
       "последний       146999.179221    268  114432.499886"
      ]
     },
     "execution_count": 56,
     "metadata": {},
     "output_type": "execute_result"
    },
    {
     "data": {
      "image/png": "[encoded data removed]",
      "text/plain": [
       "<Figure size 432x288 with 1 Axes>"
      ]
     },
     "metadata": {
      "needs_background": "light"
     },
     "output_type": "display_data"
    }
   ],
   "source": [
    "center_spb_floor_category = center_spb_data.query('floor_category != \"другой\"').pivot_table(index = 'floor_category', values = 'price_per_square_meter', aggfunc = ['mean', 'count', 'median'])\n",
    "center_spb_floor_category.columns = ['mean', 'count', 'median']\n",
    "center_spb_floor_category.plot(y = 'median')\n",
    "center_spb_floor_category"
   ]
  },
  {
   "cell_type": "markdown",
   "id": "a9301a72",
   "metadata": {},
   "source": [
    "<div class=\"alert alert-danger\" style=\"border-radius: 15px; box-shadow: 4px 4px 4px;border: 1px solid \">\n",
    "<b> Комментарий ревьюера</b>\n",
    "    \n",
    "Здесь тоже нет других этажей. </div>"
   ]
  },
  {
   "cell_type": "markdown",
   "id": "64a50c82",
   "metadata": {},
   "source": [
    "<div class=\"alert alert-info\">\n",
    "<h2> Комментарий студента</h2>\n",
    "\n",
    "Логика тут та же что и в анализе всей выборки. Различие только в самой цене. Безусловно, цена первого этажа отличается от цены последнего, но тут не такая разница. Тут разница между последним этажом и первым примерно 6%\n",
    "</div>"
   ]
  },
  {
   "cell_type": "code",
   "execution_count": 57,
   "id": "9f60c6b9",
   "metadata": {},
   "outputs": [
    {
     "data": {
      "text/plain": [
       "Text(0, 0.5, 'Подпись')"
      ]
     },
     "execution_count": 57,
     "metadata": {},
     "output_type": "execute_result"
    },
    {
     "data": {
      "image/png": "[encoded data removed]",
      "text/plain": [
       "<Figure size 432x288 with 1 Axes>"
      ]
     },
     "metadata": {
      "needs_background": "light"
     },
     "output_type": "display_data"
    }
   ],
   "source": [
    "# КОД РЕВЬЮЕРА\n",
    "\n",
    "center_spb_data.groupby('floor_category')['price_per_square_meter'].agg('median').plot(marker='d')\n",
    "plt.title('Заголовок')\n",
    "plt.xlabel('Подпись')\n",
    "plt.ylabel('Подпись')"
   ]
  },
  {
   "cell_type": "markdown",
   "id": "3786f422",
   "metadata": {},
   "source": [
    "<div class=\"alert alert-success\" style=\"border-radius: 15px; box-shadow: 4px 4px 4px;border: 1px solid \">\n",
    "<h2> Комментарий ревьюера 2</h2>\n",
    "    \n",
    "Да, все так. </div>"
   ]
  },
  {
   "cell_type": "markdown",
   "id": "c7ce1edf",
   "metadata": {},
   "source": [
    "То же самое что и везде. Чем выше этаж - тем дороже квадратный метр. Рассмотрим по удаленности от центра:"
   ]
  },
  {
   "cell_type": "code",
   "execution_count": 58,
   "id": "4ff59a48",
   "metadata": {},
   "outputs": [
    {
     "data": {
      "text/plain": [
       "-0.16437504737656983"
      ]
     },
     "execution_count": 58,
     "metadata": {},
     "output_type": "execute_result"
    },
    {
     "data": {
      "image/png": "[encoded data removed]",
      "text/plain": [
       "<Figure size 432x288 with 1 Axes>"
      ]
     },
     "metadata": {
      "needs_background": "light"
     },
     "output_type": "display_data"
    }
   ],
   "source": [
    "center_spb_data.plot(kind = 'scatter', y = 'price_per_square_meter', x = 'cityCenters_nearest', alpha = 0.3)\n",
    "center_spb_data['cityCenters_nearest'].corr(center_spb_data['price_per_square_meter'])"
   ]
  },
  {
   "cell_type": "markdown",
   "id": "5c54fe4f",
   "metadata": {},
   "source": [
    "Как и предполагалось, четкой зависимости тут нет. Возможно потому что мы уже выбрали как локацию центр Питера. Посмотрим на зависимость от дня недели размещения объявления:"
   ]
  },
  {
   "cell_type": "code",
   "execution_count": 59,
   "id": "8ffd6db3",
   "metadata": {},
   "outputs": [
    {
     "data": {
      "text/html": [
       "<div>\n",
       "<style scoped>\n",
       "    .dataframe tbody tr th:only-of-type {\n",
       "        vertical-align: middle;\n",
       "    }\n",
       "\n",
       "    .dataframe tbody tr th {\n",
       "        vertical-align: top;\n",
       "    }\n",
       "\n",
       "    .dataframe thead th {\n",
       "        text-align: right;\n",
       "    }\n",
       "</style>\n",
       "<table border=\"1\" class=\"dataframe\">\n",
       "  <thead>\n",
       "    <tr style=\"text-align: right;\">\n",
       "      <th></th>\n",
       "      <th>mean</th>\n",
       "      <th>count</th>\n",
       "      <th>median</th>\n",
       "    </tr>\n",
       "    <tr>\n",
       "      <th>weekday_exposition</th>\n",
       "      <th></th>\n",
       "      <th></th>\n",
       "      <th></th>\n",
       "    </tr>\n",
       "  </thead>\n",
       "  <tbody>\n",
       "    <tr>\n",
       "      <td>0</td>\n",
       "      <td>145551.499493</td>\n",
       "      <td>170</td>\n",
       "      <td>121354.322965</td>\n",
       "    </tr>\n",
       "    <tr>\n",
       "      <td>5</td>\n",
       "      <td>161508.488559</td>\n",
       "      <td>76</td>\n",
       "      <td>120568.086884</td>\n",
       "    </tr>\n",
       "    <tr>\n",
       "      <td>4</td>\n",
       "      <td>139253.094954</td>\n",
       "      <td>212</td>\n",
       "      <td>117984.375000</td>\n",
       "    </tr>\n",
       "    <tr>\n",
       "      <td>2</td>\n",
       "      <td>144333.466712</td>\n",
       "      <td>194</td>\n",
       "      <td>114903.120061</td>\n",
       "    </tr>\n",
       "    <tr>\n",
       "      <td>1</td>\n",
       "      <td>148325.540028</td>\n",
       "      <td>189</td>\n",
       "      <td>114209.827357</td>\n",
       "    </tr>\n",
       "    <tr>\n",
       "      <td>6</td>\n",
       "      <td>143555.437114</td>\n",
       "      <td>67</td>\n",
       "      <td>110843.373494</td>\n",
       "    </tr>\n",
       "    <tr>\n",
       "      <td>3</td>\n",
       "      <td>147413.473192</td>\n",
       "      <td>251</td>\n",
       "      <td>110132.158590</td>\n",
       "    </tr>\n",
       "  </tbody>\n",
       "</table>\n",
       "</div>"
      ],
      "text/plain": [
       "                             mean  count         median\n",
       "weekday_exposition                                     \n",
       "0                   145551.499493    170  121354.322965\n",
       "5                   161508.488559     76  120568.086884\n",
       "4                   139253.094954    212  117984.375000\n",
       "2                   144333.466712    194  114903.120061\n",
       "1                   148325.540028    189  114209.827357\n",
       "6                   143555.437114     67  110843.373494\n",
       "3                   147413.473192    251  110132.158590"
      ]
     },
     "execution_count": 59,
     "metadata": {},
     "output_type": "execute_result"
    },
    {
     "data": {
      "image/png": "[encoded data removed]",
      "text/plain": [
       "<Figure size 432x288 with 1 Axes>"
      ]
     },
     "metadata": {
      "needs_background": "light"
     },
     "output_type": "display_data"
    }
   ],
   "source": [
    "center_spb_weekday_exposition = center_spb_data.pivot_table(index = 'weekday_exposition', values = 'price_per_square_meter', aggfunc = ['mean', 'count', 'median'])\n",
    "center_spb_weekday_exposition.columns = ['mean', 'count', 'median']\n",
    "center_spb_weekday_exposition.plot(y = 'median')\n",
    "center_spb_weekday_exposition.sort_values('median', ascending = False)"
   ]
  },
  {
   "cell_type": "markdown",
   "id": "9db79ada",
   "metadata": {},
   "source": [
    "С точностью да наоборот. В отличие от всей выборки - вторник и четверг самые маленькие значения. Самые высокие - понедельник, суббота и воскресенье. Посмотрим по месяцам:"
   ]
  },
  {
   "cell_type": "code",
   "execution_count": 60,
   "id": "028e8ed9",
   "metadata": {},
   "outputs": [
    {
     "data": {
      "text/html": [
       "<div>\n",
       "<style scoped>\n",
       "    .dataframe tbody tr th:only-of-type {\n",
       "        vertical-align: middle;\n",
       "    }\n",
       "\n",
       "    .dataframe tbody tr th {\n",
       "        vertical-align: top;\n",
       "    }\n",
       "\n",
       "    .dataframe thead th {\n",
       "        text-align: right;\n",
       "    }\n",
       "</style>\n",
       "<table border=\"1\" class=\"dataframe\">\n",
       "  <thead>\n",
       "    <tr style=\"text-align: right;\">\n",
       "      <th></th>\n",
       "      <th>mean</th>\n",
       "      <th>count</th>\n",
       "      <th>median</th>\n",
       "    </tr>\n",
       "    <tr>\n",
       "      <th>month_exposition</th>\n",
       "      <th></th>\n",
       "      <th></th>\n",
       "      <th></th>\n",
       "    </tr>\n",
       "  </thead>\n",
       "  <tbody>\n",
       "    <tr>\n",
       "      <td>4</td>\n",
       "      <td>168983.339385</td>\n",
       "      <td>116</td>\n",
       "      <td>123095.124099</td>\n",
       "    </tr>\n",
       "    <tr>\n",
       "      <td>10</td>\n",
       "      <td>143129.501519</td>\n",
       "      <td>94</td>\n",
       "      <td>121978.411269</td>\n",
       "    </tr>\n",
       "    <tr>\n",
       "      <td>12</td>\n",
       "      <td>162850.307941</td>\n",
       "      <td>83</td>\n",
       "      <td>121568.627451</td>\n",
       "    </tr>\n",
       "    <tr>\n",
       "      <td>3</td>\n",
       "      <td>149574.931439</td>\n",
       "      <td>118</td>\n",
       "      <td>117409.562712</td>\n",
       "    </tr>\n",
       "    <tr>\n",
       "      <td>1</td>\n",
       "      <td>147760.544668</td>\n",
       "      <td>77</td>\n",
       "      <td>117244.897959</td>\n",
       "    </tr>\n",
       "    <tr>\n",
       "      <td>2</td>\n",
       "      <td>141961.199373</td>\n",
       "      <td>129</td>\n",
       "      <td>116406.250000</td>\n",
       "    </tr>\n",
       "    <tr>\n",
       "      <td>9</td>\n",
       "      <td>155582.053206</td>\n",
       "      <td>101</td>\n",
       "      <td>116054.158607</td>\n",
       "    </tr>\n",
       "    <tr>\n",
       "      <td>11</td>\n",
       "      <td>136308.801481</td>\n",
       "      <td>123</td>\n",
       "      <td>112639.593909</td>\n",
       "    </tr>\n",
       "    <tr>\n",
       "      <td>7</td>\n",
       "      <td>137695.003597</td>\n",
       "      <td>99</td>\n",
       "      <td>112195.121951</td>\n",
       "    </tr>\n",
       "    <tr>\n",
       "      <td>8</td>\n",
       "      <td>142370.587339</td>\n",
       "      <td>74</td>\n",
       "      <td>110491.562729</td>\n",
       "    </tr>\n",
       "    <tr>\n",
       "      <td>6</td>\n",
       "      <td>131927.794372</td>\n",
       "      <td>85</td>\n",
       "      <td>110081.112399</td>\n",
       "    </tr>\n",
       "    <tr>\n",
       "      <td>5</td>\n",
       "      <td>123653.265070</td>\n",
       "      <td>60</td>\n",
       "      <td>107799.220876</td>\n",
       "    </tr>\n",
       "  </tbody>\n",
       "</table>\n",
       "</div>"
      ],
      "text/plain": [
       "                           mean  count         median\n",
       "month_exposition                                     \n",
       "4                 168983.339385    116  123095.124099\n",
       "10                143129.501519     94  121978.411269\n",
       "12                162850.307941     83  121568.627451\n",
       "3                 149574.931439    118  117409.562712\n",
       "1                 147760.544668     77  117244.897959\n",
       "2                 141961.199373    129  116406.250000\n",
       "9                 155582.053206    101  116054.158607\n",
       "11                136308.801481    123  112639.593909\n",
       "7                 137695.003597     99  112195.121951\n",
       "8                 142370.587339     74  110491.562729\n",
       "6                 131927.794372     85  110081.112399\n",
       "5                 123653.265070     60  107799.220876"
      ]
     },
     "execution_count": 60,
     "metadata": {},
     "output_type": "execute_result"
    },
    {
     "data": {
      "image/png": "[encoded data removed]",
      "text/plain": [
       "<Figure size 432x288 with 1 Axes>"
      ]
     },
     "metadata": {
      "needs_background": "light"
     },
     "output_type": "display_data"
    }
   ],
   "source": [
    "center_spb_month_exposition = center_spb_data.pivot_table(index = 'month_exposition', values = 'price_per_square_meter', aggfunc = ['mean', 'count', 'median'])\n",
    "center_spb_month_exposition.columns = ['mean', 'count', 'median']\n",
    "center_spb_month_exposition.plot(y = 'median')\n",
    "center_spb_month_exposition.sort_values('median', ascending = False)"
   ]
  },
  {
   "cell_type": "markdown",
   "id": "17445edc",
   "metadata": {},
   "source": [
    "Отличается от общей выборки, но не так кардинально. Самые высокие значения - январь и март. После апреля - резкий спад вплоть до августа (Тут совпадение с общей выборкой). Ну и взглянем что у нас по годам:"
   ]
  },
  {
   "cell_type": "markdown",
   "id": "813273bf",
   "metadata": {},
   "source": [
    "<div class=\"alert alert-success\" style=\"border-radius: 15px; box-shadow: 4px 4px 4px;border: 1px solid \">\n",
    "<b> Комментарий ревьюера</b>\n",
    "    \n",
    "Такой же комментарий, как и в случае со всей выборкой. </div>"
   ]
  },
  {
   "cell_type": "code",
   "execution_count": 61,
   "id": "29ed5d4b",
   "metadata": {},
   "outputs": [
    {
     "data": {
      "text/html": [
       "<div>\n",
       "<style scoped>\n",
       "    .dataframe tbody tr th:only-of-type {\n",
       "        vertical-align: middle;\n",
       "    }\n",
       "\n",
       "    .dataframe tbody tr th {\n",
       "        vertical-align: top;\n",
       "    }\n",
       "\n",
       "    .dataframe thead th {\n",
       "        text-align: right;\n",
       "    }\n",
       "</style>\n",
       "<table border=\"1\" class=\"dataframe\">\n",
       "  <thead>\n",
       "    <tr style=\"text-align: right;\">\n",
       "      <th></th>\n",
       "      <th>mean</th>\n",
       "      <th>count</th>\n",
       "      <th>median</th>\n",
       "    </tr>\n",
       "    <tr>\n",
       "      <th>year_exposition</th>\n",
       "      <th></th>\n",
       "      <th></th>\n",
       "      <th></th>\n",
       "    </tr>\n",
       "  </thead>\n",
       "  <tbody>\n",
       "    <tr>\n",
       "      <td>2019</td>\n",
       "      <td>173593.527909</td>\n",
       "      <td>127</td>\n",
       "      <td>131432.748538</td>\n",
       "    </tr>\n",
       "    <tr>\n",
       "      <td>2018</td>\n",
       "      <td>140129.848784</td>\n",
       "      <td>340</td>\n",
       "      <td>117898.844100</td>\n",
       "    </tr>\n",
       "    <tr>\n",
       "      <td>2017</td>\n",
       "      <td>141410.707775</td>\n",
       "      <td>418</td>\n",
       "      <td>114579.494604</td>\n",
       "    </tr>\n",
       "    <tr>\n",
       "      <td>2016</td>\n",
       "      <td>135593.316804</td>\n",
       "      <td>147</td>\n",
       "      <td>109090.909091</td>\n",
       "    </tr>\n",
       "    <tr>\n",
       "      <td>2015</td>\n",
       "      <td>154054.776299</td>\n",
       "      <td>118</td>\n",
       "      <td>107055.588611</td>\n",
       "    </tr>\n",
       "  </tbody>\n",
       "</table>\n",
       "</div>"
      ],
      "text/plain": [
       "                          mean  count         median\n",
       "year_exposition                                     \n",
       "2019             173593.527909    127  131432.748538\n",
       "2018             140129.848784    340  117898.844100\n",
       "2017             141410.707775    418  114579.494604\n",
       "2016             135593.316804    147  109090.909091\n",
       "2015             154054.776299    118  107055.588611"
      ]
     },
     "execution_count": 61,
     "metadata": {},
     "output_type": "execute_result"
    },
    {
     "data": {
      "image/png": "[encoded data removed]",
      "text/plain": [
       "<Figure size 432x288 with 1 Axes>"
      ]
     },
     "metadata": {
      "needs_background": "light"
     },
     "output_type": "display_data"
    }
   ],
   "source": [
    "center_spb_year_exposition = center_spb_data.pivot_table(index = 'year_exposition', values = 'price_per_square_meter', aggfunc = ['mean', 'count', 'median'])\n",
    "center_spb_year_exposition.columns = ['mean', 'count', 'median']\n",
    "center_spb_year_exposition.query('count > 50').plot(y = 'median')\n",
    "center_spb_year_exposition.query('count > 50').sort_values('median', ascending = False)"
   ]
  },
  {
   "cell_type": "markdown",
   "id": "cd4a814e",
   "metadata": {},
   "source": [
    "Хмм, отличия от общей выборки так же на лицо: тут нет такого резкого скачка вниз. Цены совсем немного упали в 15 году, затем постоянно тянулись вверх."
   ]
  },
  {
   "cell_type": "markdown",
   "id": "851e59ac",
   "metadata": {},
   "source": [
    "<div class=\"alert alert-success\" style=\"border-radius: 15px; box-shadow: 4px 4px 4px;border: 1px solid \">\n",
    "<h2> Комментарий ревьюера 2</h2>\n",
    "    \n",
    "Квадрату наплевать на покупательскую способность и прочее. Растет и все.  </div>"
   ]
  },
  {
   "cell_type": "markdown",
   "id": "11b441ae",
   "metadata": {},
   "source": [
    "<div class=\"alert alert-danger\" style=\"border-radius: 15px; box-shadow: 4px 4px 4px;border: 1px solid \">\n",
    "<b> Комментарий ревьюера</b>\n",
    "    \n",
    "Нет анализа площади и высоты потолков. </div>"
   ]
  },
  {
   "cell_type": "code",
   "execution_count": 62,
   "id": "976da791",
   "metadata": {},
   "outputs": [
    {
     "data": {
      "text/plain": [
       "count    795.000000\n",
       "mean       3.263321\n",
       "std        1.376697\n",
       "min        2.450000\n",
       "25%        3.000000\n",
       "50%        3.170000\n",
       "75%        3.400000\n",
       "max       32.000000\n",
       "Name: ceiling_height, dtype: float64"
      ]
     },
     "execution_count": 62,
     "metadata": {},
     "output_type": "execute_result"
    }
   ],
   "source": [
    "center_spb_data['ceiling_height'].describe()"
   ]
  },
  {
   "cell_type": "code",
   "execution_count": 63,
   "id": "4bf6f9fa",
   "metadata": {
    "scrolled": true
   },
   "outputs": [
    {
     "data": {
      "text/plain": [
       "3.00    126\n",
       "3.20     75\n",
       "3.50     53\n",
       "3.10     41\n",
       "3.30     39\n",
       "       ... \n",
       "2.91      1\n",
       "3.03      1\n",
       "3.62      1\n",
       "4.14      1\n",
       "3.22      1\n",
       "Name: ceiling_height, Length: 115, dtype: int64"
      ]
     },
     "execution_count": 63,
     "metadata": {},
     "output_type": "execute_result"
    }
   ],
   "source": [
    "center_spb_data['ceiling_height'].value_counts()"
   ]
  },
  {
   "cell_type": "markdown",
   "id": "8ec35232",
   "metadata": {},
   "source": [
    "Потолки в центре Питера будут явно выше по отношению ко всей выборке. Напомню: средняя высота потолков по всей выборке 2.65, а медиана 2.77. В центре Питера среднее - 3.17, а медиана 3.26! Как говорит Яндекс.Кью (https://yandex.ru/q/question/pochemu_v_pitere_vysokie_potolki_8708e69f/) - в центре Питера огромное количество дворянских домов и дворцов. "
   ]
  },
  {
   "cell_type": "markdown",
   "id": "ccf13fbf",
   "metadata": {},
   "source": [
    "<div class=\"alert alert-success\" style=\"border-radius: 15px; box-shadow: 4px 4px 4px;border: 1px solid \">\n",
    "<h2> Комментарий ревьюера 2</h2>\n",
    "    \n",
    "Совершенно верно.</div>"
   ]
  },
  {
   "cell_type": "code",
   "execution_count": 64,
   "id": "c95f75dc",
   "metadata": {
    "scrolled": true
   },
   "outputs": [
    {
     "data": {
      "text/plain": [
       "count    1159.000000\n",
       "mean       97.399172\n",
       "std        55.772422\n",
       "min        12.000000\n",
       "25%        62.000000\n",
       "50%        84.100000\n",
       "75%       115.250000\n",
       "max       517.000000\n",
       "Name: total_area, dtype: float64"
      ]
     },
     "execution_count": 64,
     "metadata": {},
     "output_type": "execute_result"
    }
   ],
   "source": [
    "center_spb_data['total_area'].describe()"
   ]
  },
  {
   "cell_type": "code",
   "execution_count": 65,
   "id": "332cac3c",
   "metadata": {
    "scrolled": true
   },
   "outputs": [
    {
     "data": {
      "text/plain": [
       "count    23699.000000\n",
       "mean        60.348651\n",
       "std         35.654083\n",
       "min         12.000000\n",
       "25%         40.000000\n",
       "50%         52.000000\n",
       "75%         69.900000\n",
       "max        900.000000\n",
       "Name: total_area, dtype: float64"
      ]
     },
     "execution_count": 65,
     "metadata": {},
     "output_type": "execute_result"
    }
   ],
   "source": [
    "data['total_area'].describe()"
   ]
  },
  {
   "cell_type": "markdown",
   "id": "aa831730",
   "metadata": {},
   "source": [
    "По площади скорее всего объяснение будет то же что и по потолкам. Большое количество дворянских домов, музеев, дворцов в центре Питербурга делает площадь помещений больше относительно всей выборки. Медиана центропитерских помещений отличается аж в полтора раза!"
   ]
  },
  {
   "cell_type": "markdown",
   "id": "f3da7445",
   "metadata": {},
   "source": [
    "<div class=\"alert alert-success\" style=\"border-radius: 15px; box-shadow: 4px 4px 4px;border: 1px solid \">\n",
    "<h2> Комментарий ревьюера 2</h2>\n",
    "    \n",
    "В итоге, в центре квартиры не только дороже, но и просторнее :)  </div>"
   ]
  },
  {
   "cell_type": "markdown",
   "id": "74c286c2",
   "metadata": {},
   "source": [
    "### Шаг 5. Общий вывод"
   ]
  },
  {
   "cell_type": "markdown",
   "id": "e53627fa",
   "metadata": {},
   "source": [
    "Что удалось сделать в рамках этого проекта: файл прочитан, данные обработаны. Анализ пропусков, произведена замена типов данных там где это необходимо. Добавлены некоторые вводные для дальнейшего удобства, а именно: цена квадратного метра; день, месяц и год публикации объявления; этаж квартиры; соотношение жилой и общей площади, а также отношение площади кухни к общей. Произведен исследовательский анализ в котором построены гистограммы для нескольких параметров, а так же изучено время продажи квартиры. Посчитана средняя цена квадратного метра в 10 разных населённых пунктах, а так же произведено сравнение динамика изменения цен в центре Питера по отношению ко всей выборке."
   ]
  },
  {
   "cell_type": "markdown",
   "id": "b7402c3d",
   "metadata": {},
   "source": [
    "<div class=\"alert alert-warning\" style=\"border-radius: 15px; box-shadow: 4px 4px 4px; border: 1px solid\">\n",
    "<b> Комментарий ревьюера</b>\n",
    "    \n",
    "Вывод хороший. В идеале стоит добавить медианы основных характеристик квартир для центра и для всей выборки, чтобы заказчику было понятно не только то, что квартиры в центре отличаются, но и то, как именно они отличаются. Кроме того, рекомендую тебе делать вывод безличным: вместо выражений *я сделал*, *мы получили*, *заменили* используй *произведен*, *получен*, *заменен*. Это хороший тон :) \n",
    "</div>"
   ]
  },
  {
   "cell_type": "markdown",
   "id": "9ceb7332",
   "metadata": {},
   "source": [
    "<div class=\"alert alert-info\">\n",
    "<h2> Комментарий студента</h2>\n",
    "\n",
    "Общий вывод обезличен :) Буду стараться делать это везде\n",
    "</div>"
   ]
  },
  {
   "cell_type": "code",
   "execution_count": null,
   "id": "5b926974",
   "metadata": {},
   "outputs": [],
   "source": []
  }
 ],
 "metadata": {
  "ExecuteTimeLog": [
   {
    "duration": 1265,
    "start_time": "2021-06-24T04:06:58.716Z"
   },
   {
    "duration": 5,
    "start_time": "2021-06-24T04:06:59.984Z"
   },
   {
    "duration": 15,
    "start_time": "2021-06-24T04:06:59.994Z"
   },
   {
    "duration": 46,
    "start_time": "2021-06-24T04:07:00.013Z"
   },
   {
    "duration": 15,
    "start_time": "2021-06-24T04:07:00.062Z"
   },
   {
    "duration": 16,
    "start_time": "2021-06-24T04:07:00.080Z"
   },
   {
    "duration": 11,
    "start_time": "2021-06-24T04:07:00.099Z"
   },
   {
    "duration": 47,
    "start_time": "2021-06-24T04:07:00.116Z"
   },
   {
    "duration": 13,
    "start_time": "2021-06-24T04:07:00.167Z"
   },
   {
    "duration": 422,
    "start_time": "2021-06-24T04:07:00.182Z"
   },
   {
    "duration": 15,
    "start_time": "2021-06-24T04:07:00.607Z"
   },
   {
    "duration": 41,
    "start_time": "2021-06-24T04:07:00.626Z"
   },
   {
    "duration": 12,
    "start_time": "2021-06-24T04:07:00.670Z"
   },
   {
    "duration": 19,
    "start_time": "2021-06-24T04:07:00.684Z"
   },
   {
    "duration": 24,
    "start_time": "2021-06-24T04:07:00.705Z"
   },
   {
    "duration": 870,
    "start_time": "2021-06-24T04:07:00.732Z"
   },
   {
    "duration": 7,
    "start_time": "2021-06-24T04:07:01.604Z"
   },
   {
    "duration": 54,
    "start_time": "2021-06-24T04:07:01.613Z"
   },
   {
    "duration": 588,
    "start_time": "2021-06-24T04:07:01.670Z"
   },
   {
    "duration": 597,
    "start_time": "2021-06-24T04:07:02.261Z"
   },
   {
    "duration": 377,
    "start_time": "2021-06-24T04:07:02.860Z"
   },
   {
    "duration": 381,
    "start_time": "2021-06-24T04:07:03.240Z"
   },
   {
    "duration": 218,
    "start_time": "2021-06-24T04:07:03.628Z"
   },
   {
    "duration": 1113,
    "start_time": "2021-06-24T04:07:03.854Z"
   },
   {
    "duration": 15,
    "start_time": "2021-06-24T04:07:04.970Z"
   },
   {
    "duration": 15,
    "start_time": "2021-06-24T04:07:04.988Z"
   },
   {
    "duration": 127,
    "start_time": "2021-06-24T04:07:05.005Z"
   },
   {
    "duration": 204,
    "start_time": "2021-06-24T04:07:05.134Z"
   },
   {
    "duration": 1026,
    "start_time": "2021-06-24T04:07:05.341Z"
   },
   {
    "duration": 11,
    "start_time": "2021-06-24T04:07:06.369Z"
   },
   {
    "duration": 8,
    "start_time": "2021-06-24T04:07:06.383Z"
   },
   {
    "duration": 364,
    "start_time": "2021-06-24T04:07:06.393Z"
   },
   {
    "duration": 326,
    "start_time": "2021-06-24T04:07:06.759Z"
   },
   {
    "duration": 289,
    "start_time": "2021-06-24T04:07:07.087Z"
   },
   {
    "duration": 723,
    "start_time": "2021-06-24T04:07:07.379Z"
   },
   {
    "duration": 319,
    "start_time": "2021-06-24T04:07:08.105Z"
   },
   {
    "duration": 337,
    "start_time": "2021-06-24T04:07:08.427Z"
   },
   {
    "duration": 326,
    "start_time": "2021-06-24T04:07:08.767Z"
   },
   {
    "duration": 30,
    "start_time": "2021-06-24T04:07:09.096Z"
   },
   {
    "duration": 28,
    "start_time": "2021-06-24T04:07:09.129Z"
   },
   {
    "duration": 24,
    "start_time": "2021-06-24T04:07:09.160Z"
   },
   {
    "duration": 404,
    "start_time": "2021-06-24T04:07:09.187Z"
   },
   {
    "duration": 13,
    "start_time": "2021-06-24T04:07:09.594Z"
   },
   {
    "duration": 383,
    "start_time": "2021-06-24T04:07:09.609Z"
   },
   {
    "duration": 318,
    "start_time": "2021-06-24T04:07:09.995Z"
   },
   {
    "duration": 487,
    "start_time": "2021-06-24T04:07:10.316Z"
   },
   {
    "duration": 334,
    "start_time": "2021-06-24T04:07:10.805Z"
   },
   {
    "duration": 330,
    "start_time": "2021-06-24T04:07:11.142Z"
   },
   {
    "duration": 347,
    "start_time": "2021-06-24T04:07:11.474Z"
   },
   {
    "duration": 699,
    "start_time": "2021-06-24T04:21:20.075Z"
   },
   {
    "duration": 706,
    "start_time": "2021-06-24T04:21:31.673Z"
   },
   {
    "duration": 331,
    "start_time": "2021-06-27T11:34:55.399Z"
   },
   {
    "duration": 1402,
    "start_time": "2021-06-27T11:35:04.392Z"
   },
   {
    "duration": 5,
    "start_time": "2021-06-27T11:35:05.796Z"
   },
   {
    "duration": 13,
    "start_time": "2021-06-27T11:35:05.804Z"
   },
   {
    "duration": 10,
    "start_time": "2021-06-27T11:35:05.819Z"
   },
   {
    "duration": 5,
    "start_time": "2021-06-27T11:35:05.831Z"
   },
   {
    "duration": 50,
    "start_time": "2021-06-27T11:35:05.838Z"
   },
   {
    "duration": 11,
    "start_time": "2021-06-27T11:35:05.891Z"
   },
   {
    "duration": 9,
    "start_time": "2021-06-27T11:35:05.906Z"
   },
   {
    "duration": 11,
    "start_time": "2021-06-27T11:35:05.919Z"
   },
   {
    "duration": 53,
    "start_time": "2021-06-27T11:35:05.933Z"
   },
   {
    "duration": 384,
    "start_time": "2021-06-27T11:35:05.989Z"
   },
   {
    "duration": 12,
    "start_time": "2021-06-27T11:35:06.382Z"
   },
   {
    "duration": 15,
    "start_time": "2021-06-27T11:35:06.396Z"
   },
   {
    "duration": 7,
    "start_time": "2021-06-27T11:35:06.414Z"
   },
   {
    "duration": 8,
    "start_time": "2021-06-27T11:35:06.423Z"
   },
   {
    "duration": 59,
    "start_time": "2021-06-27T11:35:06.433Z"
   },
   {
    "duration": 796,
    "start_time": "2021-06-27T11:35:06.494Z"
   },
   {
    "duration": 7,
    "start_time": "2021-06-27T11:35:07.292Z"
   },
   {
    "duration": 37,
    "start_time": "2021-06-27T11:35:07.301Z"
   },
   {
    "duration": 613,
    "start_time": "2021-06-27T11:35:07.340Z"
   },
   {
    "duration": 590,
    "start_time": "2021-06-27T11:35:07.955Z"
   },
   {
    "duration": 367,
    "start_time": "2021-06-27T11:35:08.547Z"
   },
   {
    "duration": 373,
    "start_time": "2021-06-27T11:35:08.919Z"
   },
   {
    "duration": 209,
    "start_time": "2021-06-27T11:35:09.296Z"
   },
   {
    "duration": 975,
    "start_time": "2021-06-27T11:35:09.508Z"
   },
   {
    "duration": 14,
    "start_time": "2021-06-27T11:35:10.485Z"
   },
   {
    "duration": 15,
    "start_time": "2021-06-27T11:35:10.501Z"
   },
   {
    "duration": 112,
    "start_time": "2021-06-27T11:35:10.518Z"
   },
   {
    "duration": 217,
    "start_time": "2021-06-27T11:35:10.633Z"
   },
   {
    "duration": 1100,
    "start_time": "2021-06-27T11:35:10.852Z"
   },
   {
    "duration": 28,
    "start_time": "2021-06-27T11:35:11.955Z"
   },
   {
    "duration": 8,
    "start_time": "2021-06-27T11:35:11.985Z"
   },
   {
    "duration": 344,
    "start_time": "2021-06-27T11:35:11.996Z"
   },
   {
    "duration": 418,
    "start_time": "2021-06-27T11:35:12.342Z"
   },
   {
    "duration": 282,
    "start_time": "2021-06-27T11:35:12.763Z"
   },
   {
    "duration": 697,
    "start_time": "2021-06-27T11:35:13.047Z"
   },
   {
    "duration": 309,
    "start_time": "2021-06-27T11:35:13.746Z"
   },
   {
    "duration": 313,
    "start_time": "2021-06-27T11:35:14.057Z"
   },
   {
    "duration": 329,
    "start_time": "2021-06-27T11:35:14.372Z"
   },
   {
    "duration": 29,
    "start_time": "2021-06-27T11:35:14.703Z"
   },
   {
    "duration": 10,
    "start_time": "2021-06-27T11:35:14.734Z"
   },
   {
    "duration": 42,
    "start_time": "2021-06-27T11:35:14.747Z"
   },
   {
    "duration": 378,
    "start_time": "2021-06-27T11:35:14.792Z"
   },
   {
    "duration": 21,
    "start_time": "2021-06-27T11:35:15.173Z"
   },
   {
    "duration": 325,
    "start_time": "2021-06-27T11:35:15.196Z"
   },
   {
    "duration": 282,
    "start_time": "2021-06-27T11:35:15.524Z"
   },
   {
    "duration": 441,
    "start_time": "2021-06-27T11:35:15.809Z"
   },
   {
    "duration": 315,
    "start_time": "2021-06-27T11:35:16.253Z"
   },
   {
    "duration": 304,
    "start_time": "2021-06-27T11:35:16.572Z"
   },
   {
    "duration": 348,
    "start_time": "2021-06-27T11:35:16.878Z"
   },
   {
    "duration": 56,
    "start_time": "2021-06-27T11:43:33.640Z"
   },
   {
    "duration": 1098,
    "start_time": "2021-06-27T11:43:43.556Z"
   },
   {
    "duration": 5,
    "start_time": "2021-06-27T11:43:44.656Z"
   },
   {
    "duration": 27,
    "start_time": "2021-06-27T11:43:44.664Z"
   },
   {
    "duration": 12,
    "start_time": "2021-06-27T11:43:44.694Z"
   },
   {
    "duration": 7,
    "start_time": "2021-06-27T11:43:44.708Z"
   },
   {
    "duration": 11,
    "start_time": "2021-06-27T11:43:44.717Z"
   },
   {
    "duration": 56,
    "start_time": "2021-06-27T11:43:44.730Z"
   },
   {
    "duration": 9,
    "start_time": "2021-06-27T11:43:44.789Z"
   },
   {
    "duration": 11,
    "start_time": "2021-06-27T11:43:44.802Z"
   },
   {
    "duration": 10,
    "start_time": "2021-06-27T11:43:44.816Z"
   },
   {
    "duration": 400,
    "start_time": "2021-06-27T11:43:44.829Z"
   },
   {
    "duration": 12,
    "start_time": "2021-06-27T11:43:45.231Z"
   },
   {
    "duration": 14,
    "start_time": "2021-06-27T11:43:45.246Z"
   },
   {
    "duration": 53,
    "start_time": "2021-06-27T11:43:45.284Z"
   },
   {
    "duration": 10,
    "start_time": "2021-06-27T11:43:45.340Z"
   },
   {
    "duration": 33,
    "start_time": "2021-06-27T11:43:45.352Z"
   },
   {
    "duration": 21,
    "start_time": "2021-06-27T11:43:45.388Z"
   },
   {
    "duration": 993,
    "start_time": "2021-06-27T11:43:45.411Z"
   },
   {
    "duration": 8,
    "start_time": "2021-06-27T11:43:46.406Z"
   },
   {
    "duration": 43,
    "start_time": "2021-06-27T11:43:46.416Z"
   },
   {
    "duration": 613,
    "start_time": "2021-06-27T11:43:46.462Z"
   },
   {
    "duration": 606,
    "start_time": "2021-06-27T11:43:47.077Z"
   },
   {
    "duration": 363,
    "start_time": "2021-06-27T11:43:47.686Z"
   },
   {
    "duration": 365,
    "start_time": "2021-06-27T11:43:48.052Z"
   },
   {
    "duration": 202,
    "start_time": "2021-06-27T11:43:48.420Z"
   },
   {
    "duration": 992,
    "start_time": "2021-06-27T11:43:48.625Z"
   },
   {
    "duration": 14,
    "start_time": "2021-06-27T11:43:49.623Z"
   },
   {
    "duration": 15,
    "start_time": "2021-06-27T11:43:49.640Z"
   },
   {
    "duration": 45,
    "start_time": "2021-06-27T11:43:49.657Z"
   },
   {
    "duration": 287,
    "start_time": "2021-06-27T11:43:49.705Z"
   },
   {
    "duration": 1000,
    "start_time": "2021-06-27T11:43:49.995Z"
   },
   {
    "duration": 12,
    "start_time": "2021-06-27T11:43:50.998Z"
   },
   {
    "duration": 9,
    "start_time": "2021-06-27T11:43:51.012Z"
   },
   {
    "duration": 363,
    "start_time": "2021-06-27T11:43:51.024Z"
   },
   {
    "duration": 321,
    "start_time": "2021-06-27T11:43:51.390Z"
   },
   {
    "duration": 283,
    "start_time": "2021-06-27T11:43:51.713Z"
   },
   {
    "duration": 1051,
    "start_time": "2021-06-27T11:43:51.999Z"
   },
   {
    "duration": 309,
    "start_time": "2021-06-27T11:43:53.052Z"
   },
   {
    "duration": 315,
    "start_time": "2021-06-27T11:43:53.363Z"
   },
   {
    "duration": 339,
    "start_time": "2021-06-27T11:43:53.683Z"
   },
   {
    "duration": 31,
    "start_time": "2021-06-27T11:43:54.024Z"
   },
   {
    "duration": 32,
    "start_time": "2021-06-27T11:43:54.058Z"
   },
   {
    "duration": 10,
    "start_time": "2021-06-27T11:43:54.093Z"
   },
   {
    "duration": 380,
    "start_time": "2021-06-27T11:43:54.105Z"
   },
   {
    "duration": 11,
    "start_time": "2021-06-27T11:43:54.488Z"
   },
   {
    "duration": 333,
    "start_time": "2021-06-27T11:43:54.502Z"
   },
   {
    "duration": 281,
    "start_time": "2021-06-27T11:43:54.838Z"
   },
   {
    "duration": 590,
    "start_time": "2021-06-27T11:43:55.121Z"
   },
   {
    "duration": 311,
    "start_time": "2021-06-27T11:43:55.713Z"
   },
   {
    "duration": 329,
    "start_time": "2021-06-27T11:43:56.026Z"
   },
   {
    "duration": 344,
    "start_time": "2021-06-27T11:43:56.358Z"
   },
   {
    "duration": 1036,
    "start_time": "2021-06-27T12:14:25.223Z"
   },
   {
    "duration": 5,
    "start_time": "2021-06-27T12:14:26.261Z"
   },
   {
    "duration": 15,
    "start_time": "2021-06-27T12:14:26.284Z"
   },
   {
    "duration": 16,
    "start_time": "2021-06-27T12:14:26.302Z"
   },
   {
    "duration": 6,
    "start_time": "2021-06-27T12:14:26.320Z"
   },
   {
    "duration": 12,
    "start_time": "2021-06-27T12:14:26.329Z"
   },
   {
    "duration": 50,
    "start_time": "2021-06-27T12:14:26.343Z"
   },
   {
    "duration": 9,
    "start_time": "2021-06-27T12:14:26.397Z"
   },
   {
    "duration": 11,
    "start_time": "2021-06-27T12:14:26.409Z"
   },
   {
    "duration": 7,
    "start_time": "2021-06-27T12:14:26.422Z"
   },
   {
    "duration": 415,
    "start_time": "2021-06-27T12:14:26.431Z"
   },
   {
    "duration": 13,
    "start_time": "2021-06-27T12:14:26.848Z"
   },
   {
    "duration": 30,
    "start_time": "2021-06-27T12:14:26.863Z"
   },
   {
    "duration": 52,
    "start_time": "2021-06-27T12:14:26.896Z"
   },
   {
    "duration": 40,
    "start_time": "2021-06-27T12:14:26.950Z"
   },
   {
    "duration": 12,
    "start_time": "2021-06-27T12:14:26.992Z"
   },
   {
    "duration": 9,
    "start_time": "2021-06-27T12:14:27.006Z"
   },
   {
    "duration": 18,
    "start_time": "2021-06-27T12:14:27.018Z"
   },
   {
    "duration": 817,
    "start_time": "2021-06-27T12:14:27.039Z"
   },
   {
    "duration": 8,
    "start_time": "2021-06-27T12:14:27.859Z"
   },
   {
    "duration": 47,
    "start_time": "2021-06-27T12:14:27.870Z"
   },
   {
    "duration": 592,
    "start_time": "2021-06-27T12:14:27.920Z"
   },
   {
    "duration": 685,
    "start_time": "2021-06-27T12:14:28.519Z"
   },
   {
    "duration": 370,
    "start_time": "2021-06-27T12:14:29.207Z"
   },
   {
    "duration": 367,
    "start_time": "2021-06-27T12:14:29.583Z"
   },
   {
    "duration": 200,
    "start_time": "2021-06-27T12:14:29.953Z"
   },
   {
    "duration": 990,
    "start_time": "2021-06-27T12:14:30.155Z"
   },
   {
    "duration": 13,
    "start_time": "2021-06-27T12:14:31.147Z"
   },
   {
    "duration": 32,
    "start_time": "2021-06-27T12:14:31.163Z"
   },
   {
    "duration": 103,
    "start_time": "2021-06-27T12:14:31.198Z"
   },
   {
    "duration": 205,
    "start_time": "2021-06-27T12:14:31.304Z"
   },
   {
    "duration": 994,
    "start_time": "2021-06-27T12:14:31.512Z"
   },
   {
    "duration": 10,
    "start_time": "2021-06-27T12:14:32.509Z"
   },
   {
    "duration": 9,
    "start_time": "2021-06-27T12:14:32.521Z"
   },
   {
    "duration": 364,
    "start_time": "2021-06-27T12:14:32.532Z"
   },
   {
    "duration": 322,
    "start_time": "2021-06-27T12:14:32.899Z"
   },
   {
    "duration": 289,
    "start_time": "2021-06-27T12:14:33.223Z"
   },
   {
    "duration": 676,
    "start_time": "2021-06-27T12:14:33.514Z"
   },
   {
    "duration": 312,
    "start_time": "2021-06-27T12:14:34.193Z"
   },
   {
    "duration": 361,
    "start_time": "2021-06-27T12:14:34.508Z"
   },
   {
    "duration": 338,
    "start_time": "2021-06-27T12:14:34.872Z"
   },
   {
    "duration": 33,
    "start_time": "2021-06-27T12:14:35.213Z"
   },
   {
    "duration": 35,
    "start_time": "2021-06-27T12:14:35.248Z"
   },
   {
    "duration": 10,
    "start_time": "2021-06-27T12:14:35.285Z"
   },
   {
    "duration": 394,
    "start_time": "2021-06-27T12:14:35.298Z"
   },
   {
    "duration": 13,
    "start_time": "2021-06-27T12:14:35.694Z"
   },
   {
    "duration": 334,
    "start_time": "2021-06-27T12:14:35.709Z"
   },
   {
    "duration": 295,
    "start_time": "2021-06-27T12:14:36.045Z"
   },
   {
    "duration": 469,
    "start_time": "2021-06-27T12:14:36.342Z"
   },
   {
    "duration": 322,
    "start_time": "2021-06-27T12:14:36.815Z"
   },
   {
    "duration": 332,
    "start_time": "2021-06-27T12:14:37.139Z"
   },
   {
    "duration": 348,
    "start_time": "2021-06-27T12:14:37.473Z"
   },
   {
    "duration": 10,
    "start_time": "2021-06-27T12:14:54.947Z"
   },
   {
    "duration": 10,
    "start_time": "2021-06-27T12:15:46.734Z"
   },
   {
    "duration": 10,
    "start_time": "2021-06-27T12:16:27.508Z"
   },
   {
    "duration": 8,
    "start_time": "2021-06-27T12:16:52.478Z"
   },
   {
    "duration": 9,
    "start_time": "2021-06-27T12:17:26.507Z"
   },
   {
    "duration": 8,
    "start_time": "2021-06-27T12:17:44.906Z"
   },
   {
    "duration": 1285,
    "start_time": "2021-06-27T15:53:41.229Z"
   },
   {
    "duration": 4,
    "start_time": "2021-06-27T15:53:42.517Z"
   },
   {
    "duration": 21,
    "start_time": "2021-06-27T15:53:42.525Z"
   },
   {
    "duration": 28,
    "start_time": "2021-06-27T15:53:42.548Z"
   },
   {
    "duration": 7,
    "start_time": "2021-06-27T15:53:42.579Z"
   },
   {
    "duration": 20,
    "start_time": "2021-06-27T15:53:42.590Z"
   },
   {
    "duration": 16,
    "start_time": "2021-06-27T15:53:42.613Z"
   },
   {
    "duration": 11,
    "start_time": "2021-06-27T15:53:42.667Z"
   },
   {
    "duration": 37,
    "start_time": "2021-06-27T15:53:42.681Z"
   },
   {
    "duration": 5,
    "start_time": "2021-06-27T15:53:42.722Z"
   },
   {
    "duration": 422,
    "start_time": "2021-06-27T15:53:42.730Z"
   },
   {
    "duration": 15,
    "start_time": "2021-06-27T15:53:43.154Z"
   },
   {
    "duration": 24,
    "start_time": "2021-06-27T15:53:43.171Z"
   },
   {
    "duration": 76,
    "start_time": "2021-06-27T15:53:43.197Z"
   },
   {
    "duration": 11,
    "start_time": "2021-06-27T15:53:43.276Z"
   },
   {
    "duration": 14,
    "start_time": "2021-06-27T15:53:43.289Z"
   },
   {
    "duration": 9,
    "start_time": "2021-06-27T15:53:43.305Z"
   },
   {
    "duration": 52,
    "start_time": "2021-06-27T15:53:43.317Z"
   },
   {
    "duration": 12,
    "start_time": "2021-06-27T15:53:43.372Z"
   },
   {
    "duration": 17,
    "start_time": "2021-06-27T15:53:43.387Z"
   },
   {
    "duration": 8,
    "start_time": "2021-06-27T15:53:43.407Z"
   },
   {
    "duration": 45,
    "start_time": "2021-06-27T15:53:43.418Z"
   },
   {
    "duration": 847,
    "start_time": "2021-06-27T15:53:43.468Z"
   },
   {
    "duration": 7,
    "start_time": "2021-06-27T15:53:44.318Z"
   },
   {
    "duration": 55,
    "start_time": "2021-06-27T15:53:44.327Z"
   },
   {
    "duration": 679,
    "start_time": "2021-06-27T15:53:44.385Z"
   },
   {
    "duration": 697,
    "start_time": "2021-06-27T15:53:45.067Z"
   },
   {
    "duration": 408,
    "start_time": "2021-06-27T15:53:45.766Z"
   },
   {
    "duration": 405,
    "start_time": "2021-06-27T15:53:46.176Z"
   },
   {
    "duration": 237,
    "start_time": "2021-06-27T15:53:46.584Z"
   },
   {
    "duration": 1061,
    "start_time": "2021-06-27T15:53:46.824Z"
   },
   {
    "duration": 17,
    "start_time": "2021-06-27T15:53:47.888Z"
   },
   {
    "duration": 27,
    "start_time": "2021-06-27T15:53:47.908Z"
   },
   {
    "duration": 129,
    "start_time": "2021-06-27T15:53:47.938Z"
   },
   {
    "duration": 224,
    "start_time": "2021-06-27T15:53:48.070Z"
   },
   {
    "duration": 1074,
    "start_time": "2021-06-27T15:53:48.296Z"
   },
   {
    "duration": 12,
    "start_time": "2021-06-27T15:53:49.373Z"
   },
   {
    "duration": 8,
    "start_time": "2021-06-27T15:53:49.387Z"
   },
   {
    "duration": 385,
    "start_time": "2021-06-27T15:53:49.397Z"
   },
   {
    "duration": 346,
    "start_time": "2021-06-27T15:53:49.785Z"
   },
   {
    "duration": 312,
    "start_time": "2021-06-27T15:53:50.134Z"
   },
   {
    "duration": 752,
    "start_time": "2021-06-27T15:53:50.449Z"
   },
   {
    "duration": 327,
    "start_time": "2021-06-27T15:53:51.204Z"
   },
   {
    "duration": 351,
    "start_time": "2021-06-27T15:53:51.534Z"
   },
   {
    "duration": 348,
    "start_time": "2021-06-27T15:53:51.887Z"
   },
   {
    "duration": 45,
    "start_time": "2021-06-27T15:53:52.238Z"
   },
   {
    "duration": 10,
    "start_time": "2021-06-27T15:53:52.286Z"
   },
   {
    "duration": 13,
    "start_time": "2021-06-27T15:53:52.298Z"
   },
   {
    "duration": 435,
    "start_time": "2021-06-27T15:53:52.313Z"
   },
   {
    "duration": 18,
    "start_time": "2021-06-27T15:53:52.750Z"
   },
   {
    "duration": 352,
    "start_time": "2021-06-27T15:53:52.770Z"
   },
   {
    "duration": 331,
    "start_time": "2021-06-27T15:53:53.125Z"
   },
   {
    "duration": 481,
    "start_time": "2021-06-27T15:53:53.462Z"
   },
   {
    "duration": 341,
    "start_time": "2021-06-27T15:53:53.945Z"
   },
   {
    "duration": 343,
    "start_time": "2021-06-27T15:53:54.288Z"
   },
   {
    "duration": 382,
    "start_time": "2021-06-27T15:53:54.633Z"
   },
   {
    "duration": 62,
    "start_time": "2021-06-27T18:19:59.077Z"
   },
   {
    "duration": 129,
    "start_time": "2021-06-27T18:32:45.156Z"
   },
   {
    "duration": 12,
    "start_time": "2021-06-27T18:38:42.412Z"
   },
   {
    "duration": 349,
    "start_time": "2021-06-27T18:38:46.259Z"
   },
   {
    "duration": 1235,
    "start_time": "2021-06-27T18:50:40.777Z"
   },
   {
    "duration": 4,
    "start_time": "2021-06-27T18:50:42.015Z"
   },
   {
    "duration": 14,
    "start_time": "2021-06-27T18:50:42.022Z"
   },
   {
    "duration": 9,
    "start_time": "2021-06-27T18:50:42.063Z"
   },
   {
    "duration": 6,
    "start_time": "2021-06-27T18:50:42.075Z"
   },
   {
    "duration": 11,
    "start_time": "2021-06-27T18:50:42.083Z"
   },
   {
    "duration": 69,
    "start_time": "2021-06-27T18:50:42.097Z"
   },
   {
    "duration": 10,
    "start_time": "2021-06-27T18:50:42.170Z"
   },
   {
    "duration": 12,
    "start_time": "2021-06-27T18:50:42.183Z"
   },
   {
    "duration": 64,
    "start_time": "2021-06-27T18:50:42.198Z"
   },
   {
    "duration": 531,
    "start_time": "2021-06-27T18:50:42.265Z"
   },
   {
    "duration": 13,
    "start_time": "2021-06-27T18:50:42.799Z"
   },
   {
    "duration": 47,
    "start_time": "2021-06-27T18:50:42.815Z"
   },
   {
    "duration": 58,
    "start_time": "2021-06-27T18:50:42.864Z"
   },
   {
    "duration": 44,
    "start_time": "2021-06-27T18:50:42.924Z"
   },
   {
    "duration": 10,
    "start_time": "2021-06-27T18:50:42.970Z"
   },
   {
    "duration": 12,
    "start_time": "2021-06-27T18:50:42.982Z"
   },
   {
    "duration": 23,
    "start_time": "2021-06-27T18:50:42.996Z"
   },
   {
    "duration": 43,
    "start_time": "2021-06-27T18:50:43.022Z"
   },
   {
    "duration": 23,
    "start_time": "2021-06-27T18:50:43.067Z"
   },
   {
    "duration": 8,
    "start_time": "2021-06-27T18:50:43.092Z"
   },
   {
    "duration": 19,
    "start_time": "2021-06-27T18:50:43.102Z"
   },
   {
    "duration": 897,
    "start_time": "2021-06-27T18:50:43.127Z"
   },
   {
    "duration": 6,
    "start_time": "2021-06-27T18:50:44.027Z"
   },
   {
    "duration": 64,
    "start_time": "2021-06-27T18:50:44.036Z"
   },
   {
    "duration": 671,
    "start_time": "2021-06-27T18:50:44.103Z"
   },
   {
    "duration": 646,
    "start_time": "2021-06-27T18:50:44.777Z"
   },
   {
    "duration": 401,
    "start_time": "2021-06-27T18:50:45.426Z"
   },
   {
    "duration": 497,
    "start_time": "2021-06-27T18:50:45.830Z"
   },
   {
    "duration": 305,
    "start_time": "2021-06-27T18:50:46.330Z"
   },
   {
    "duration": 1686,
    "start_time": "2021-06-27T18:50:46.638Z"
   },
   {
    "duration": 36,
    "start_time": "2021-06-27T18:50:48.328Z"
   },
   {
    "duration": 15,
    "start_time": "2021-06-27T18:50:48.368Z"
   },
   {
    "duration": 83,
    "start_time": "2021-06-27T18:50:48.386Z"
   },
   {
    "duration": 110,
    "start_time": "2021-06-27T18:50:48.471Z"
   },
   {
    "duration": 228,
    "start_time": "2021-06-27T18:50:48.584Z"
   },
   {
    "duration": 1079,
    "start_time": "2021-06-27T18:50:48.815Z"
   },
   {
    "duration": 11,
    "start_time": "2021-06-27T18:50:49.896Z"
   },
   {
    "duration": 12,
    "start_time": "2021-06-27T18:50:49.910Z"
   },
   {
    "duration": 386,
    "start_time": "2021-06-27T18:50:49.924Z"
   },
   {
    "duration": 353,
    "start_time": "2021-06-27T18:50:50.312Z"
   },
   {
    "duration": 340,
    "start_time": "2021-06-27T18:50:50.667Z"
   },
   {
    "duration": 1022,
    "start_time": "2021-06-27T18:50:51.009Z"
   },
   {
    "duration": 476,
    "start_time": "2021-06-27T18:50:52.034Z"
   },
   {
    "duration": 503,
    "start_time": "2021-06-27T18:50:52.513Z"
   },
   {
    "duration": 506,
    "start_time": "2021-06-27T18:50:53.019Z"
   },
   {
    "duration": 52,
    "start_time": "2021-06-27T18:50:53.528Z"
   },
   {
    "duration": 13,
    "start_time": "2021-06-27T18:50:53.583Z"
   },
   {
    "duration": 14,
    "start_time": "2021-06-27T18:50:53.599Z"
   },
   {
    "duration": 435,
    "start_time": "2021-06-27T18:50:53.616Z"
   },
   {
    "duration": 18,
    "start_time": "2021-06-27T18:50:54.053Z"
   },
   {
    "duration": 339,
    "start_time": "2021-06-27T18:50:54.074Z"
   },
   {
    "duration": 314,
    "start_time": "2021-06-27T18:50:54.416Z"
   },
   {
    "duration": 621,
    "start_time": "2021-06-27T18:50:54.733Z"
   },
   {
    "duration": 371,
    "start_time": "2021-06-27T18:50:55.357Z"
   },
   {
    "duration": 357,
    "start_time": "2021-06-27T18:50:55.730Z"
   },
   {
    "duration": 373,
    "start_time": "2021-06-27T18:50:56.089Z"
   },
   {
    "duration": 11,
    "start_time": "2021-06-27T19:07:54.080Z"
   },
   {
    "duration": 11,
    "start_time": "2021-06-27T19:08:24.187Z"
   },
   {
    "duration": 10,
    "start_time": "2021-06-27T19:09:57.082Z"
   },
   {
    "duration": 14,
    "start_time": "2021-06-27T19:18:59.720Z"
   },
   {
    "duration": 12,
    "start_time": "2021-06-27T19:19:23.817Z"
   },
   {
    "duration": 13,
    "start_time": "2021-06-27T19:20:27.872Z"
   },
   {
    "duration": 318,
    "start_time": "2021-06-28T09:41:37.697Z"
   },
   {
    "duration": 1306,
    "start_time": "2021-06-28T09:41:40.131Z"
   },
   {
    "duration": 4,
    "start_time": "2021-06-28T09:41:41.440Z"
   },
   {
    "duration": 15,
    "start_time": "2021-06-28T09:41:41.447Z"
   },
   {
    "duration": 37,
    "start_time": "2021-06-28T09:41:41.465Z"
   },
   {
    "duration": 6,
    "start_time": "2021-06-28T09:41:41.505Z"
   },
   {
    "duration": 10,
    "start_time": "2021-06-28T09:41:41.513Z"
   },
   {
    "duration": 12,
    "start_time": "2021-06-28T09:41:41.526Z"
   },
   {
    "duration": 8,
    "start_time": "2021-06-28T09:41:41.542Z"
   },
   {
    "duration": 49,
    "start_time": "2021-06-28T09:41:41.553Z"
   },
   {
    "duration": 11,
    "start_time": "2021-06-28T09:41:41.604Z"
   },
   {
    "duration": 407,
    "start_time": "2021-06-28T09:41:41.617Z"
   },
   {
    "duration": 12,
    "start_time": "2021-06-28T09:41:42.027Z"
   },
   {
    "duration": 14,
    "start_time": "2021-06-28T09:41:42.041Z"
   },
   {
    "duration": 88,
    "start_time": "2021-06-28T09:41:42.057Z"
   },
   {
    "duration": 13,
    "start_time": "2021-06-28T09:41:42.148Z"
   },
   {
    "duration": 39,
    "start_time": "2021-06-28T09:41:42.163Z"
   },
   {
    "duration": 9,
    "start_time": "2021-06-28T09:41:42.205Z"
   },
   {
    "duration": 11,
    "start_time": "2021-06-28T09:41:42.217Z"
   },
   {
    "duration": 9,
    "start_time": "2021-06-28T09:41:42.230Z"
   },
   {
    "duration": 60,
    "start_time": "2021-06-28T09:41:42.242Z"
   },
   {
    "duration": 8,
    "start_time": "2021-06-28T09:41:42.304Z"
   },
   {
    "duration": 20,
    "start_time": "2021-06-28T09:41:42.314Z"
   },
   {
    "duration": 843,
    "start_time": "2021-06-28T09:41:42.339Z"
   },
   {
    "duration": 15,
    "start_time": "2021-06-28T09:41:43.185Z"
   },
   {
    "duration": 34,
    "start_time": "2021-06-28T09:41:43.202Z"
   },
   {
    "duration": 613,
    "start_time": "2021-06-28T09:41:43.238Z"
   },
   {
    "duration": 624,
    "start_time": "2021-06-28T09:41:43.853Z"
   },
   {
    "duration": 388,
    "start_time": "2021-06-28T09:41:44.479Z"
   },
   {
    "duration": 391,
    "start_time": "2021-06-28T09:41:44.869Z"
   },
   {
    "duration": 211,
    "start_time": "2021-06-28T09:41:45.263Z"
   },
   {
    "duration": 1037,
    "start_time": "2021-06-28T09:41:45.477Z"
   },
   {
    "duration": 14,
    "start_time": "2021-06-28T09:41:46.517Z"
   },
   {
    "duration": 25,
    "start_time": "2021-06-28T09:41:46.533Z"
   },
   {
    "duration": 75,
    "start_time": "2021-06-28T09:41:46.561Z"
   },
   {
    "duration": 92,
    "start_time": "2021-06-28T09:41:46.638Z"
   },
   {
    "duration": 209,
    "start_time": "2021-06-28T09:41:46.732Z"
   },
   {
    "duration": 1040,
    "start_time": "2021-06-28T09:41:46.943Z"
   },
   {
    "duration": 20,
    "start_time": "2021-06-28T09:41:47.985Z"
   },
   {
    "duration": 11,
    "start_time": "2021-06-28T09:41:48.007Z"
   },
   {
    "duration": 365,
    "start_time": "2021-06-28T09:41:48.020Z"
   },
   {
    "duration": 334,
    "start_time": "2021-06-28T09:41:48.388Z"
   },
   {
    "duration": 306,
    "start_time": "2021-06-28T09:41:48.725Z"
   },
   {
    "duration": 258,
    "start_time": "2021-06-28T09:42:17.957Z"
   },
   {
    "duration": 322,
    "start_time": "2021-06-28T09:45:28.321Z"
   },
   {
    "duration": 694,
    "start_time": "2021-06-28T09:45:39.721Z"
   },
   {
    "duration": 323,
    "start_time": "2021-06-28T09:45:40.418Z"
   },
   {
    "duration": 327,
    "start_time": "2021-06-28T09:45:40.744Z"
   },
   {
    "duration": 407,
    "start_time": "2021-06-28T09:45:41.073Z"
   },
   {
    "duration": 45,
    "start_time": "2021-06-28T09:45:41.482Z"
   },
   {
    "duration": 10,
    "start_time": "2021-06-28T09:45:41.530Z"
   },
   {
    "duration": 59,
    "start_time": "2021-06-28T09:45:41.543Z"
   },
   {
    "duration": 615,
    "start_time": "2021-06-28T09:45:41.605Z"
   },
   {
    "duration": 15,
    "start_time": "2021-06-28T09:45:42.224Z"
   },
   {
    "duration": 389,
    "start_time": "2021-06-28T09:45:42.242Z"
   },
   {
    "duration": 284,
    "start_time": "2021-06-28T09:45:42.634Z"
   },
   {
    "duration": 282,
    "start_time": "2021-06-28T09:45:42.921Z"
   },
   {
    "duration": 439,
    "start_time": "2021-06-28T09:45:43.206Z"
   },
   {
    "duration": 330,
    "start_time": "2021-06-28T09:45:43.647Z"
   },
   {
    "duration": 343,
    "start_time": "2021-06-28T09:45:43.980Z"
   },
   {
    "duration": 342,
    "start_time": "2021-06-28T09:45:44.325Z"
   },
   {
    "duration": 10,
    "start_time": "2021-06-28T09:45:44.670Z"
   },
   {
    "duration": 24,
    "start_time": "2021-06-28T09:45:44.683Z"
   },
   {
    "duration": 17,
    "start_time": "2021-06-28T09:45:44.710Z"
   },
   {
    "duration": 11,
    "start_time": "2021-06-28T09:45:44.729Z"
   }
  ],
  "kernelspec": {
   "display_name": "Python 3 (ipykernel)",
   "language": "python",
   "name": "python3"
  },
  "language_info": {
   "codemirror_mode": {
    "name": "ipython",
    "version": 3
   },
   "file_extension": ".py",
   "mimetype": "text/x-python",
   "name": "python",
   "nbconvert_exporter": "python",
   "pygments_lexer": "ipython3",
   "version": "3.9.5"
  },
  "toc": {
   "base_numbering": 1,
   "nav_menu": {},
   "number_sections": false,
   "sideBar": true,
   "skip_h1_title": true,
   "title_cell": "Table of Contents",
   "title_sidebar": "Contents",
   "toc_cell": false,
   "toc_position": {
    "height": "calc(100% - 180px)",
    "left": "10px",
    "top": "150px",
    "width": "319px"
   },
   "toc_section_display": true,
   "toc_window_display": true
  }
 },
 "nbformat": 4,
 "nbformat_minor": 5
}
