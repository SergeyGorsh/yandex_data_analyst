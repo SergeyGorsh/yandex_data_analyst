{
 "cells": [
  {
   "cell_type": "markdown",
   "id": "55a71ef3",
   "metadata": {},
   "source": [
    "# Формирование модели монетизации"
   ]
  },
  {
   "cell_type": "markdown",
   "id": "73e95726",
   "metadata": {},
   "source": [
    "### Введение**:**"
   ]
  },
  {
   "cell_type": "markdown",
   "id": "19e8966e",
   "metadata": {},
   "source": [
    "Аналитик помогает бизнесу выбрать оптимальное время для запуска рекламы. Зная расходы на продвижение игры, необходимо рассчитать её окупаемость при разных сценариях \n",
    "\n",
    "Пока планируется показывать её на экране выбором постройки.\n",
    "\n",
    "Основной датасет содержит данные о событиях, совершенных в мобильной игре «Космические братья». Помимо основного датасета есть два датасета с информацией о рекламных активностях."
   ]
  },
  {
   "cell_type": "markdown",
   "id": "c5588c0b",
   "metadata": {},
   "source": [
    "### Задача**:**\n",
    "\n",
    "Сформируйте модель монетизации игрового приложения.\n",
    "\n",
    "Многие игры зарабатывают с помощью рекламы. И все они сталкиваются с противоречием:\n",
    "\n",
    "- Пользователь разозлится и уйдёт, если начать показывать ему рекламу раньше, чем игра его затянет.\n",
    "- Но  чем позже создатели игры включат рекламу, тем меньше они заработают."
   ]
  },
  {
   "cell_type": "markdown",
   "id": "1622ee2d",
   "metadata": {},
   "source": [
    "### Декомпозиция**:**\n",
    "\n",
    "- Введение\n",
    "- Шаг 1. Загрузка датасетов. Изучение общей информации;\n",
    "- Шаг 2. Исследовательский анализ. Предобработка данных;\n",
    "- Шаг 3. Анализ влияния событий на совершение целевого события;\n",
    "- Шаг 4. Проверка статистических гипотез: \n",
    "  - Проверка гипотезы различия времени прохождения уровня между пользователями, которые заканчивают уровень черезреализацию проекта, и пользователями, которые заканчивают уровень победой над другим игроком\n",
    "  - Проверка гипотезы о равенсте средних по количеству построенных зданий между двумя группами.\n",
    "- Шаг 5. Описание предложенной модели монетизации;\n",
    "- Шаг 6. Общие выводы и рекоммендации."
   ]
  },
  {
   "cell_type": "markdown",
   "id": "d7656b8d",
   "metadata": {},
   "source": [
    "## Шаг 1. Загрузка данных, изучение общей информации"
   ]
  },
  {
   "cell_type": "markdown",
   "id": "c7eecf7a",
   "metadata": {},
   "source": [
    "Для начала подключим необходимые библиотеки для дальнейшей работы, прочитаем данные из файлов, выведем информацию о каждом"
   ]
  },
  {
   "cell_type": "code",
   "execution_count": 1,
   "id": "497f19c0",
   "metadata": {},
   "outputs": [
    {
     "name": "stdout",
     "output_type": "stream",
     "text": [
      "Defaulting to user installation because normal site-packages is not writeable\n",
      "Requirement already satisfied: seaborn==0.11.2 in /home/jovyan/.local/lib/python3.7/site-packages (0.11.2)\n",
      "Requirement already satisfied: matplotlib>=2.2 in /opt/conda/lib/python3.7/site-packages (from seaborn==0.11.2) (3.1.0)\n",
      "Requirement already satisfied: pandas>=0.23 in /opt/conda/lib/python3.7/site-packages (from seaborn==0.11.2) (0.25.1)\n",
      "Requirement already satisfied: scipy>=1.0 in /opt/conda/lib/python3.7/site-packages (from seaborn==0.11.2) (1.4.1)\n",
      "Requirement already satisfied: numpy>=1.15 in /opt/conda/lib/python3.7/site-packages (from seaborn==0.11.2) (1.19.5)\n",
      "Requirement already satisfied: kiwisolver>=1.0.1 in /opt/conda/lib/python3.7/site-packages (from matplotlib>=2.2->seaborn==0.11.2) (1.3.1)\n",
      "Requirement already satisfied: pyparsing!=2.0.4,!=2.1.2,!=2.1.6,>=2.0.1 in /opt/conda/lib/python3.7/site-packages (from matplotlib>=2.2->seaborn==0.11.2) (2.4.7)\n",
      "Requirement already satisfied: cycler>=0.10 in /opt/conda/lib/python3.7/site-packages (from matplotlib>=2.2->seaborn==0.11.2) (0.10.0)\n",
      "Requirement already satisfied: python-dateutil>=2.1 in /opt/conda/lib/python3.7/site-packages (from matplotlib>=2.2->seaborn==0.11.2) (2.8.1)\n",
      "Requirement already satisfied: pytz>=2017.2 in /opt/conda/lib/python3.7/site-packages (from pandas>=0.23->seaborn==0.11.2) (2021.1)\n",
      "Requirement already satisfied: six in /opt/conda/lib/python3.7/site-packages (from cycler>=0.10->matplotlib>=2.2->seaborn==0.11.2) (1.15.0)\n"
     ]
    }
   ],
   "source": [
    "!pip install seaborn==0.11.2"
   ]
  },
  {
   "cell_type": "code",
   "execution_count": 2,
   "id": "c302d41f",
   "metadata": {},
   "outputs": [],
   "source": [
    "# импорт необходимых библиотек\n",
    "import pandas as pd\n",
    "import numpy as np\n",
    "import seaborn as sns\n",
    "import matplotlib.pyplot as plt\n",
    "from scipy import stats as st"
   ]
  },
  {
   "cell_type": "code",
   "execution_count": 3,
   "id": "945b0d85",
   "metadata": {},
   "outputs": [],
   "source": [
    "user_source = pd.read_csv('/datasets/user_source.csv')"
   ]
  },
  {
   "cell_type": "code",
   "execution_count": 4,
   "id": "9be6291b",
   "metadata": {},
   "outputs": [
    {
     "data": {
      "text/html": [
       "<div>\n",
       "<style scoped>\n",
       "    .dataframe tbody tr th:only-of-type {\n",
       "        vertical-align: middle;\n",
       "    }\n",
       "\n",
       "    .dataframe tbody tr th {\n",
       "        vertical-align: top;\n",
       "    }\n",
       "\n",
       "    .dataframe thead th {\n",
       "        text-align: right;\n",
       "    }\n",
       "</style>\n",
       "<table border=\"1\" class=\"dataframe\">\n",
       "  <thead>\n",
       "    <tr style=\"text-align: right;\">\n",
       "      <th></th>\n",
       "      <th>user_id</th>\n",
       "      <th>source</th>\n",
       "    </tr>\n",
       "  </thead>\n",
       "  <tbody>\n",
       "    <tr>\n",
       "      <td>0</td>\n",
       "      <td>0001f83c-c6ac-4621-b7f0-8a28b283ac30</td>\n",
       "      <td>facebook_ads</td>\n",
       "    </tr>\n",
       "    <tr>\n",
       "      <td>1</td>\n",
       "      <td>00151b4f-ba38-44a8-a650-d7cf130a0105</td>\n",
       "      <td>yandex_direct</td>\n",
       "    </tr>\n",
       "    <tr>\n",
       "      <td>2</td>\n",
       "      <td>001aaea6-3d14-43f1-8ca8-7f48820f17aa</td>\n",
       "      <td>youtube_channel_reklama</td>\n",
       "    </tr>\n",
       "    <tr>\n",
       "      <td>3</td>\n",
       "      <td>001d39dc-366c-4021-9604-6a3b9ff01e25</td>\n",
       "      <td>instagram_new_adverts</td>\n",
       "    </tr>\n",
       "    <tr>\n",
       "      <td>4</td>\n",
       "      <td>002f508f-67b6-479f-814b-b05f00d4e995</td>\n",
       "      <td>facebook_ads</td>\n",
       "    </tr>\n",
       "    <tr>\n",
       "      <td>5</td>\n",
       "      <td>003b80c6-4164-4157-bb2a-03d0181d39c4</td>\n",
       "      <td>yandex_direct</td>\n",
       "    </tr>\n",
       "    <tr>\n",
       "      <td>6</td>\n",
       "      <td>003ee7e8-6356-4286-a715-62f22a18d2a1</td>\n",
       "      <td>instagram_new_adverts</td>\n",
       "    </tr>\n",
       "    <tr>\n",
       "      <td>7</td>\n",
       "      <td>004074f8-251a-4776-922c-8348dca1a2f6</td>\n",
       "      <td>facebook_ads</td>\n",
       "    </tr>\n",
       "    <tr>\n",
       "      <td>8</td>\n",
       "      <td>00440efd-aa50-4b4b-aae8-ffcd1782729d</td>\n",
       "      <td>facebook_ads</td>\n",
       "    </tr>\n",
       "    <tr>\n",
       "      <td>9</td>\n",
       "      <td>00464e5e-28ed-4be6-bf44-517ef7b3937b</td>\n",
       "      <td>yandex_direct</td>\n",
       "    </tr>\n",
       "  </tbody>\n",
       "</table>\n",
       "</div>"
      ],
      "text/plain": [
       "                                user_id                   source\n",
       "0  0001f83c-c6ac-4621-b7f0-8a28b283ac30             facebook_ads\n",
       "1  00151b4f-ba38-44a8-a650-d7cf130a0105            yandex_direct\n",
       "2  001aaea6-3d14-43f1-8ca8-7f48820f17aa  youtube_channel_reklama\n",
       "3  001d39dc-366c-4021-9604-6a3b9ff01e25    instagram_new_adverts\n",
       "4  002f508f-67b6-479f-814b-b05f00d4e995             facebook_ads\n",
       "5  003b80c6-4164-4157-bb2a-03d0181d39c4            yandex_direct\n",
       "6  003ee7e8-6356-4286-a715-62f22a18d2a1    instagram_new_adverts\n",
       "7  004074f8-251a-4776-922c-8348dca1a2f6             facebook_ads\n",
       "8  00440efd-aa50-4b4b-aae8-ffcd1782729d             facebook_ads\n",
       "9  00464e5e-28ed-4be6-bf44-517ef7b3937b            yandex_direct"
      ]
     },
     "execution_count": 4,
     "metadata": {},
     "output_type": "execute_result"
    }
   ],
   "source": [
    "user_source.head(10)"
   ]
  },
  {
   "cell_type": "code",
   "execution_count": 5,
   "id": "becd3696",
   "metadata": {},
   "outputs": [],
   "source": [
    "ad_costs = pd.read_csv('/datasets/ad_costs.csv')"
   ]
  },
  {
   "cell_type": "code",
   "execution_count": 6,
   "id": "33196476",
   "metadata": {},
   "outputs": [
    {
     "data": {
      "text/html": [
       "<div>\n",
       "<style scoped>\n",
       "    .dataframe tbody tr th:only-of-type {\n",
       "        vertical-align: middle;\n",
       "    }\n",
       "\n",
       "    .dataframe tbody tr th {\n",
       "        vertical-align: top;\n",
       "    }\n",
       "\n",
       "    .dataframe thead th {\n",
       "        text-align: right;\n",
       "    }\n",
       "</style>\n",
       "<table border=\"1\" class=\"dataframe\">\n",
       "  <thead>\n",
       "    <tr style=\"text-align: right;\">\n",
       "      <th></th>\n",
       "      <th>source</th>\n",
       "      <th>day</th>\n",
       "      <th>cost</th>\n",
       "    </tr>\n",
       "  </thead>\n",
       "  <tbody>\n",
       "    <tr>\n",
       "      <td>0</td>\n",
       "      <td>facebook_ads</td>\n",
       "      <td>2020-05-03</td>\n",
       "      <td>935.882786</td>\n",
       "    </tr>\n",
       "    <tr>\n",
       "      <td>1</td>\n",
       "      <td>facebook_ads</td>\n",
       "      <td>2020-05-04</td>\n",
       "      <td>548.354480</td>\n",
       "    </tr>\n",
       "    <tr>\n",
       "      <td>2</td>\n",
       "      <td>facebook_ads</td>\n",
       "      <td>2020-05-05</td>\n",
       "      <td>260.185754</td>\n",
       "    </tr>\n",
       "    <tr>\n",
       "      <td>3</td>\n",
       "      <td>facebook_ads</td>\n",
       "      <td>2020-05-06</td>\n",
       "      <td>177.982200</td>\n",
       "    </tr>\n",
       "    <tr>\n",
       "      <td>4</td>\n",
       "      <td>facebook_ads</td>\n",
       "      <td>2020-05-07</td>\n",
       "      <td>111.766796</td>\n",
       "    </tr>\n",
       "    <tr>\n",
       "      <td>5</td>\n",
       "      <td>facebook_ads</td>\n",
       "      <td>2020-05-08</td>\n",
       "      <td>68.009276</td>\n",
       "    </tr>\n",
       "    <tr>\n",
       "      <td>6</td>\n",
       "      <td>facebook_ads</td>\n",
       "      <td>2020-05-09</td>\n",
       "      <td>38.723350</td>\n",
       "    </tr>\n",
       "    <tr>\n",
       "      <td>7</td>\n",
       "      <td>instagram_new_adverts</td>\n",
       "      <td>2020-05-03</td>\n",
       "      <td>943.204717</td>\n",
       "    </tr>\n",
       "    <tr>\n",
       "      <td>8</td>\n",
       "      <td>instagram_new_adverts</td>\n",
       "      <td>2020-05-04</td>\n",
       "      <td>502.925451</td>\n",
       "    </tr>\n",
       "    <tr>\n",
       "      <td>9</td>\n",
       "      <td>instagram_new_adverts</td>\n",
       "      <td>2020-05-05</td>\n",
       "      <td>313.970984</td>\n",
       "    </tr>\n",
       "  </tbody>\n",
       "</table>\n",
       "</div>"
      ],
      "text/plain": [
       "                  source         day        cost\n",
       "0           facebook_ads  2020-05-03  935.882786\n",
       "1           facebook_ads  2020-05-04  548.354480\n",
       "2           facebook_ads  2020-05-05  260.185754\n",
       "3           facebook_ads  2020-05-06  177.982200\n",
       "4           facebook_ads  2020-05-07  111.766796\n",
       "5           facebook_ads  2020-05-08   68.009276\n",
       "6           facebook_ads  2020-05-09   38.723350\n",
       "7  instagram_new_adverts  2020-05-03  943.204717\n",
       "8  instagram_new_adverts  2020-05-04  502.925451\n",
       "9  instagram_new_adverts  2020-05-05  313.970984"
      ]
     },
     "execution_count": 6,
     "metadata": {},
     "output_type": "execute_result"
    }
   ],
   "source": [
    "ad_costs.head(10)"
   ]
  },
  {
   "cell_type": "code",
   "execution_count": 7,
   "id": "8e67df67",
   "metadata": {},
   "outputs": [],
   "source": [
    "game_actions = pd.read_csv('/datasets/game_actions.csv')"
   ]
  },
  {
   "cell_type": "code",
   "execution_count": 8,
   "id": "20c637b2",
   "metadata": {
    "scrolled": true
   },
   "outputs": [
    {
     "data": {
      "text/html": [
       "<div>\n",
       "<style scoped>\n",
       "    .dataframe tbody tr th:only-of-type {\n",
       "        vertical-align: middle;\n",
       "    }\n",
       "\n",
       "    .dataframe tbody tr th {\n",
       "        vertical-align: top;\n",
       "    }\n",
       "\n",
       "    .dataframe thead th {\n",
       "        text-align: right;\n",
       "    }\n",
       "</style>\n",
       "<table border=\"1\" class=\"dataframe\">\n",
       "  <thead>\n",
       "    <tr style=\"text-align: right;\">\n",
       "      <th></th>\n",
       "      <th>event_datetime</th>\n",
       "      <th>event</th>\n",
       "      <th>building_type</th>\n",
       "      <th>user_id</th>\n",
       "      <th>project_type</th>\n",
       "    </tr>\n",
       "  </thead>\n",
       "  <tbody>\n",
       "    <tr>\n",
       "      <td>0</td>\n",
       "      <td>2020-05-04 00:00:01</td>\n",
       "      <td>building</td>\n",
       "      <td>assembly_shop</td>\n",
       "      <td>55e92310-cb8e-4754-b622-597e124b03de</td>\n",
       "      <td>NaN</td>\n",
       "    </tr>\n",
       "    <tr>\n",
       "      <td>1</td>\n",
       "      <td>2020-05-04 00:00:03</td>\n",
       "      <td>building</td>\n",
       "      <td>assembly_shop</td>\n",
       "      <td>c07b1c10-f477-44dc-81dc-ec82254b1347</td>\n",
       "      <td>NaN</td>\n",
       "    </tr>\n",
       "    <tr>\n",
       "      <td>2</td>\n",
       "      <td>2020-05-04 00:00:16</td>\n",
       "      <td>building</td>\n",
       "      <td>assembly_shop</td>\n",
       "      <td>6edd42cc-e753-4ff6-a947-2107cd560710</td>\n",
       "      <td>NaN</td>\n",
       "    </tr>\n",
       "    <tr>\n",
       "      <td>3</td>\n",
       "      <td>2020-05-04 00:00:16</td>\n",
       "      <td>building</td>\n",
       "      <td>assembly_shop</td>\n",
       "      <td>92c69003-d60a-444a-827f-8cc51bf6bf4c</td>\n",
       "      <td>NaN</td>\n",
       "    </tr>\n",
       "    <tr>\n",
       "      <td>4</td>\n",
       "      <td>2020-05-04 00:00:35</td>\n",
       "      <td>building</td>\n",
       "      <td>assembly_shop</td>\n",
       "      <td>cdc6bb92-0ccb-4490-9866-ef142f09139d</td>\n",
       "      <td>NaN</td>\n",
       "    </tr>\n",
       "    <tr>\n",
       "      <td>5</td>\n",
       "      <td>2020-05-04 00:00:36</td>\n",
       "      <td>building</td>\n",
       "      <td>assembly_shop</td>\n",
       "      <td>06c592ca-902d-42bb-bac3-75ce84cca159</td>\n",
       "      <td>NaN</td>\n",
       "    </tr>\n",
       "    <tr>\n",
       "      <td>6</td>\n",
       "      <td>2020-05-04 00:00:36</td>\n",
       "      <td>building</td>\n",
       "      <td>assembly_shop</td>\n",
       "      <td>4fe0f101-694b-4e31-9740-d1d87f7208ea</td>\n",
       "      <td>NaN</td>\n",
       "    </tr>\n",
       "    <tr>\n",
       "      <td>7</td>\n",
       "      <td>2020-05-04 00:00:38</td>\n",
       "      <td>building</td>\n",
       "      <td>assembly_shop</td>\n",
       "      <td>beb8ca15-33a9-465d-b47b-89aa96f89c9a</td>\n",
       "      <td>NaN</td>\n",
       "    </tr>\n",
       "    <tr>\n",
       "      <td>8</td>\n",
       "      <td>2020-05-04 00:00:44</td>\n",
       "      <td>building</td>\n",
       "      <td>assembly_shop</td>\n",
       "      <td>65a92713-5969-48b1-8945-bfefa5063887</td>\n",
       "      <td>NaN</td>\n",
       "    </tr>\n",
       "    <tr>\n",
       "      <td>9</td>\n",
       "      <td>2020-05-04 00:01:33</td>\n",
       "      <td>building</td>\n",
       "      <td>assembly_shop</td>\n",
       "      <td>fa352362-d258-472c-b295-2796ccc39fa3</td>\n",
       "      <td>NaN</td>\n",
       "    </tr>\n",
       "  </tbody>\n",
       "</table>\n",
       "</div>"
      ],
      "text/plain": [
       "        event_datetime     event  building_type  \\\n",
       "0  2020-05-04 00:00:01  building  assembly_shop   \n",
       "1  2020-05-04 00:00:03  building  assembly_shop   \n",
       "2  2020-05-04 00:00:16  building  assembly_shop   \n",
       "3  2020-05-04 00:00:16  building  assembly_shop   \n",
       "4  2020-05-04 00:00:35  building  assembly_shop   \n",
       "5  2020-05-04 00:00:36  building  assembly_shop   \n",
       "6  2020-05-04 00:00:36  building  assembly_shop   \n",
       "7  2020-05-04 00:00:38  building  assembly_shop   \n",
       "8  2020-05-04 00:00:44  building  assembly_shop   \n",
       "9  2020-05-04 00:01:33  building  assembly_shop   \n",
       "\n",
       "                                user_id project_type  \n",
       "0  55e92310-cb8e-4754-b622-597e124b03de          NaN  \n",
       "1  c07b1c10-f477-44dc-81dc-ec82254b1347          NaN  \n",
       "2  6edd42cc-e753-4ff6-a947-2107cd560710          NaN  \n",
       "3  92c69003-d60a-444a-827f-8cc51bf6bf4c          NaN  \n",
       "4  cdc6bb92-0ccb-4490-9866-ef142f09139d          NaN  \n",
       "5  06c592ca-902d-42bb-bac3-75ce84cca159          NaN  \n",
       "6  4fe0f101-694b-4e31-9740-d1d87f7208ea          NaN  \n",
       "7  beb8ca15-33a9-465d-b47b-89aa96f89c9a          NaN  \n",
       "8  65a92713-5969-48b1-8945-bfefa5063887          NaN  \n",
       "9  fa352362-d258-472c-b295-2796ccc39fa3          NaN  "
      ]
     },
     "execution_count": 8,
     "metadata": {},
     "output_type": "execute_result"
    }
   ],
   "source": [
    "game_actions.head(10)"
   ]
  },
  {
   "cell_type": "markdown",
   "id": "bc0e6351",
   "metadata": {},
   "source": [
    "## Шаг 2. Исследовательский анализ. Предобработка данных"
   ]
  },
  {
   "cell_type": "markdown",
   "id": "1210b77e",
   "metadata": {},
   "source": [
    "### Начнем работу с основной таблицы game_actions"
   ]
  },
  {
   "cell_type": "markdown",
   "id": "b25279d5",
   "metadata": {},
   "source": [
    "Посмотрим на среднее количество пропусков "
   ]
  },
  {
   "cell_type": "code",
   "execution_count": 9,
   "id": "214924a1",
   "metadata": {},
   "outputs": [
    {
     "data": {
      "text/plain": [
       "event_datetime    0.000000\n",
       "event             0.000000\n",
       "building_type     0.056643\n",
       "user_id           0.000000\n",
       "project_type      0.986243\n",
       "dtype: float64"
      ]
     },
     "execution_count": 9,
     "metadata": {},
     "output_type": "execute_result"
    }
   ],
   "source": [
    "game_actions.isna().mean()"
   ]
  },
  {
   "cell_type": "code",
   "execution_count": 10,
   "id": "3abe75c7",
   "metadata": {},
   "outputs": [
    {
     "name": "stdout",
     "output_type": "stream",
     "text": [
      "<class 'pandas.core.frame.DataFrame'>\n",
      "RangeIndex: 135640 entries, 0 to 135639\n",
      "Data columns (total 5 columns):\n",
      "event_datetime    135640 non-null object\n",
      "event             135640 non-null object\n",
      "building_type     127957 non-null object\n",
      "user_id           135640 non-null object\n",
      "project_type      1866 non-null object\n",
      "dtypes: object(5)\n",
      "memory usage: 5.2+ MB\n"
     ]
    }
   ],
   "source": [
    "game_actions.info()"
   ]
  },
  {
   "cell_type": "markdown",
   "id": "074fedc7",
   "metadata": {},
   "source": [
    "Итак, у нас есть пропуски  в типах зданий и типах проектов. Я думаю что это нормально, т.к. тип здания заполняется только при постройке здания, а тип проекта при реализации проекта. Пропуски можно не обрабатывать, заменим только тип данных в колонке datetime"
   ]
  },
  {
   "cell_type": "code",
   "execution_count": 11,
   "id": "62260afb",
   "metadata": {},
   "outputs": [],
   "source": [
    "game_actions['event_datetime'] = pd.to_datetime(game_actions['event_datetime'], format = '%Y-%m-%d %H:%M:%S')"
   ]
  },
  {
   "cell_type": "markdown",
   "id": "0719691c",
   "metadata": {},
   "source": [
    "Проверим, всегда ли при постройке указывается тип здания:"
   ]
  },
  {
   "cell_type": "code",
   "execution_count": 12,
   "id": "2c07c906",
   "metadata": {},
   "outputs": [
    {
     "data": {
      "text/plain": [
       "event_datetime    0.0\n",
       "event             0.0\n",
       "building_type     0.0\n",
       "user_id           0.0\n",
       "project_type      1.0\n",
       "dtype: float64"
      ]
     },
     "execution_count": 12,
     "metadata": {},
     "output_type": "execute_result"
    }
   ],
   "source": [
    "game_actions.query('event == \"building\"').isna().mean()"
   ]
  },
  {
   "cell_type": "markdown",
   "id": "45edaec2",
   "metadata": {},
   "source": [
    "И при реализации проекта всегда указан тип проекта:"
   ]
  },
  {
   "cell_type": "code",
   "execution_count": 13,
   "id": "81a03838",
   "metadata": {},
   "outputs": [
    {
     "data": {
      "text/plain": [
       "event_datetime    0.0\n",
       "event             0.0\n",
       "building_type     1.0\n",
       "user_id           0.0\n",
       "project_type      0.0\n",
       "dtype: float64"
      ]
     },
     "execution_count": 13,
     "metadata": {},
     "output_type": "execute_result"
    }
   ],
   "source": [
    "game_actions.query('event == \"project\"').isna().mean()"
   ]
  },
  {
   "cell_type": "code",
   "execution_count": 14,
   "id": "9b7e3ff2",
   "metadata": {},
   "outputs": [
    {
     "name": "stdout",
     "output_type": "stream",
     "text": [
      "<class 'pandas.core.frame.DataFrame'>\n",
      "RangeIndex: 135640 entries, 0 to 135639\n",
      "Data columns (total 5 columns):\n",
      "event_datetime    135640 non-null datetime64[ns]\n",
      "event             135640 non-null object\n",
      "building_type     127957 non-null object\n",
      "user_id           135640 non-null object\n",
      "project_type      1866 non-null object\n",
      "dtypes: datetime64[ns](1), object(4)\n",
      "memory usage: 5.2+ MB\n"
     ]
    }
   ],
   "source": [
    "game_actions.info()"
   ]
  },
  {
   "cell_type": "markdown",
   "id": "50661945",
   "metadata": {},
   "source": [
    "Посмотрим на общее кол-во дубликатов"
   ]
  },
  {
   "cell_type": "code",
   "execution_count": 15,
   "id": "2f652431",
   "metadata": {},
   "outputs": [
    {
     "data": {
      "text/plain": [
       "1"
      ]
     },
     "execution_count": 15,
     "metadata": {},
     "output_type": "execute_result"
    }
   ],
   "source": [
    "game_actions.duplicated().sum()"
   ]
  },
  {
   "cell_type": "markdown",
   "id": "1fd5f47e",
   "metadata": {},
   "source": [
    "У нас один дубликат, посмотрим и проанализируем что же у нас задвоилось:"
   ]
  },
  {
   "cell_type": "code",
   "execution_count": 16,
   "id": "6868a9b4",
   "metadata": {},
   "outputs": [
    {
     "data": {
      "text/html": [
       "<div>\n",
       "<style scoped>\n",
       "    .dataframe tbody tr th:only-of-type {\n",
       "        vertical-align: middle;\n",
       "    }\n",
       "\n",
       "    .dataframe tbody tr th {\n",
       "        vertical-align: top;\n",
       "    }\n",
       "\n",
       "    .dataframe thead th {\n",
       "        text-align: right;\n",
       "    }\n",
       "</style>\n",
       "<table border=\"1\" class=\"dataframe\">\n",
       "  <thead>\n",
       "    <tr style=\"text-align: right;\">\n",
       "      <th></th>\n",
       "      <th>event_datetime</th>\n",
       "      <th>event</th>\n",
       "      <th>building_type</th>\n",
       "      <th>user_id</th>\n",
       "      <th>project_type</th>\n",
       "    </tr>\n",
       "  </thead>\n",
       "  <tbody>\n",
       "    <tr>\n",
       "      <td>74890</td>\n",
       "      <td>2020-05-10 18:41:56</td>\n",
       "      <td>building</td>\n",
       "      <td>research_center</td>\n",
       "      <td>c9af55d2-b0ae-4bb4-b3d5-f32aa9ac03af</td>\n",
       "      <td>NaN</td>\n",
       "    </tr>\n",
       "    <tr>\n",
       "      <td>74891</td>\n",
       "      <td>2020-05-10 18:41:56</td>\n",
       "      <td>building</td>\n",
       "      <td>research_center</td>\n",
       "      <td>c9af55d2-b0ae-4bb4-b3d5-f32aa9ac03af</td>\n",
       "      <td>NaN</td>\n",
       "    </tr>\n",
       "  </tbody>\n",
       "</table>\n",
       "</div>"
      ],
      "text/plain": [
       "           event_datetime     event    building_type  \\\n",
       "74890 2020-05-10 18:41:56  building  research_center   \n",
       "74891 2020-05-10 18:41:56  building  research_center   \n",
       "\n",
       "                                    user_id project_type  \n",
       "74890  c9af55d2-b0ae-4bb4-b3d5-f32aa9ac03af          NaN  \n",
       "74891  c9af55d2-b0ae-4bb4-b3d5-f32aa9ac03af          NaN  "
      ]
     },
     "execution_count": 16,
     "metadata": {},
     "output_type": "execute_result"
    }
   ],
   "source": [
    "game_actions[game_actions.duplicated(keep = False)]"
   ]
  },
  {
   "cell_type": "markdown",
   "id": "6324f53e",
   "metadata": {},
   "source": [
    "Итак, один игрок в течение одной секунды построил два исследовательских центра. Это физически не возможно, скорее всего это баг и его можно удалить"
   ]
  },
  {
   "cell_type": "code",
   "execution_count": 17,
   "id": "fe2c7b74",
   "metadata": {},
   "outputs": [],
   "source": [
    "game_actions = game_actions.drop_duplicates()"
   ]
  },
  {
   "cell_type": "code",
   "execution_count": 18,
   "id": "73458dc0",
   "metadata": {},
   "outputs": [
    {
     "data": {
      "text/plain": [
       "0"
      ]
     },
     "execution_count": 18,
     "metadata": {},
     "output_type": "execute_result"
    }
   ],
   "source": [
    "game_actions.duplicated().sum()"
   ]
  },
  {
   "cell_type": "code",
   "execution_count": 19,
   "id": "69cdf2aa",
   "metadata": {},
   "outputs": [
    {
     "data": {
      "text/plain": [
       "Timestamp('2020-05-04 00:00:01')"
      ]
     },
     "execution_count": 19,
     "metadata": {},
     "output_type": "execute_result"
    }
   ],
   "source": [
    "game_actions['event_datetime'].min()"
   ]
  },
  {
   "cell_type": "code",
   "execution_count": 20,
   "id": "b74551a8",
   "metadata": {},
   "outputs": [
    {
     "data": {
      "text/plain": [
       "Timestamp('2020-06-05 12:32:49')"
      ]
     },
     "execution_count": 20,
     "metadata": {},
     "output_type": "execute_result"
    }
   ],
   "source": [
    "game_actions['event_datetime'].max()"
   ]
  },
  {
   "cell_type": "markdown",
   "id": "afa05778",
   "metadata": {},
   "source": [
    "### Перейдем к таблице затрат на маркетинг ad_costs"
   ]
  },
  {
   "cell_type": "code",
   "execution_count": 21,
   "id": "ad797919",
   "metadata": {},
   "outputs": [
    {
     "data": {
      "text/html": [
       "<div>\n",
       "<style scoped>\n",
       "    .dataframe tbody tr th:only-of-type {\n",
       "        vertical-align: middle;\n",
       "    }\n",
       "\n",
       "    .dataframe tbody tr th {\n",
       "        vertical-align: top;\n",
       "    }\n",
       "\n",
       "    .dataframe thead th {\n",
       "        text-align: right;\n",
       "    }\n",
       "</style>\n",
       "<table border=\"1\" class=\"dataframe\">\n",
       "  <thead>\n",
       "    <tr style=\"text-align: right;\">\n",
       "      <th></th>\n",
       "      <th>source</th>\n",
       "      <th>day</th>\n",
       "      <th>cost</th>\n",
       "    </tr>\n",
       "  </thead>\n",
       "  <tbody>\n",
       "    <tr>\n",
       "      <td>0</td>\n",
       "      <td>facebook_ads</td>\n",
       "      <td>2020-05-03</td>\n",
       "      <td>935.882786</td>\n",
       "    </tr>\n",
       "    <tr>\n",
       "      <td>1</td>\n",
       "      <td>facebook_ads</td>\n",
       "      <td>2020-05-04</td>\n",
       "      <td>548.354480</td>\n",
       "    </tr>\n",
       "    <tr>\n",
       "      <td>2</td>\n",
       "      <td>facebook_ads</td>\n",
       "      <td>2020-05-05</td>\n",
       "      <td>260.185754</td>\n",
       "    </tr>\n",
       "    <tr>\n",
       "      <td>3</td>\n",
       "      <td>facebook_ads</td>\n",
       "      <td>2020-05-06</td>\n",
       "      <td>177.982200</td>\n",
       "    </tr>\n",
       "    <tr>\n",
       "      <td>4</td>\n",
       "      <td>facebook_ads</td>\n",
       "      <td>2020-05-07</td>\n",
       "      <td>111.766796</td>\n",
       "    </tr>\n",
       "  </tbody>\n",
       "</table>\n",
       "</div>"
      ],
      "text/plain": [
       "         source         day        cost\n",
       "0  facebook_ads  2020-05-03  935.882786\n",
       "1  facebook_ads  2020-05-04  548.354480\n",
       "2  facebook_ads  2020-05-05  260.185754\n",
       "3  facebook_ads  2020-05-06  177.982200\n",
       "4  facebook_ads  2020-05-07  111.766796"
      ]
     },
     "execution_count": 21,
     "metadata": {},
     "output_type": "execute_result"
    }
   ],
   "source": [
    "ad_costs.head()"
   ]
  },
  {
   "cell_type": "code",
   "execution_count": 22,
   "id": "82b34527",
   "metadata": {},
   "outputs": [
    {
     "name": "stdout",
     "output_type": "stream",
     "text": [
      "<class 'pandas.core.frame.DataFrame'>\n",
      "RangeIndex: 28 entries, 0 to 27\n",
      "Data columns (total 3 columns):\n",
      "source    28 non-null object\n",
      "day       28 non-null object\n",
      "cost      28 non-null float64\n",
      "dtypes: float64(1), object(2)\n",
      "memory usage: 800.0+ bytes\n"
     ]
    }
   ],
   "source": [
    "ad_costs.info()"
   ]
  },
  {
   "cell_type": "markdown",
   "id": "274a127b",
   "metadata": {},
   "source": [
    "Проверим на наличие пропусков:"
   ]
  },
  {
   "cell_type": "code",
   "execution_count": 23,
   "id": "4c6d3f47",
   "metadata": {},
   "outputs": [
    {
     "data": {
      "text/plain": [
       "source    0.0\n",
       "day       0.0\n",
       "cost      0.0\n",
       "dtype: float64"
      ]
     },
     "execution_count": 23,
     "metadata": {},
     "output_type": "execute_result"
    }
   ],
   "source": [
    "ad_costs.isna().mean()"
   ]
  },
  {
   "cell_type": "markdown",
   "id": "81504a93",
   "metadata": {},
   "source": [
    "На наличие дубликатов:"
   ]
  },
  {
   "cell_type": "code",
   "execution_count": 24,
   "id": "8d4d8b60",
   "metadata": {},
   "outputs": [
    {
     "data": {
      "text/plain": [
       "0"
      ]
     },
     "execution_count": 24,
     "metadata": {},
     "output_type": "execute_result"
    }
   ],
   "source": [
    "ad_costs.duplicated().sum()"
   ]
  },
  {
   "cell_type": "markdown",
   "id": "c6cb8bbe",
   "metadata": {},
   "source": [
    "Переведём формат даты в datetime:"
   ]
  },
  {
   "cell_type": "code",
   "execution_count": 25,
   "id": "b99bde1a",
   "metadata": {},
   "outputs": [],
   "source": [
    "ad_costs['day'] = pd.to_datetime(ad_costs['day'], format = '%Y-%m-%d %H:%M:%S')"
   ]
  },
  {
   "cell_type": "code",
   "execution_count": 26,
   "id": "69da3ca7",
   "metadata": {},
   "outputs": [
    {
     "name": "stdout",
     "output_type": "stream",
     "text": [
      "<class 'pandas.core.frame.DataFrame'>\n",
      "RangeIndex: 28 entries, 0 to 27\n",
      "Data columns (total 3 columns):\n",
      "source    28 non-null object\n",
      "day       28 non-null datetime64[ns]\n",
      "cost      28 non-null float64\n",
      "dtypes: datetime64[ns](1), float64(1), object(1)\n",
      "memory usage: 800.0+ bytes\n"
     ]
    }
   ],
   "source": [
    "ad_costs.info()"
   ]
  },
  {
   "cell_type": "code",
   "execution_count": 27,
   "id": "3d908f01",
   "metadata": {},
   "outputs": [
    {
     "data": {
      "text/plain": [
       "Timestamp('2020-05-03 00:00:00')"
      ]
     },
     "execution_count": 27,
     "metadata": {},
     "output_type": "execute_result"
    }
   ],
   "source": [
    "ad_costs['day'].min()"
   ]
  },
  {
   "cell_type": "code",
   "execution_count": 28,
   "id": "5c828b72",
   "metadata": {},
   "outputs": [
    {
     "data": {
      "text/plain": [
       "Timestamp('2020-05-09 00:00:00')"
      ]
     },
     "execution_count": 28,
     "metadata": {},
     "output_type": "execute_result"
    }
   ],
   "source": [
    "ad_costs['day'].max()"
   ]
  },
  {
   "cell_type": "markdown",
   "id": "a8d055cb",
   "metadata": {
    "slideshow": {
     "slide_type": "slide"
    }
   },
   "source": [
    "### Работа с таблицей user_source"
   ]
  },
  {
   "cell_type": "markdown",
   "id": "cc593ce8",
   "metadata": {},
   "source": [
    "user_source.head()"
   ]
  },
  {
   "cell_type": "markdown",
   "id": "25d61651",
   "metadata": {},
   "source": [
    "Проверим на наличие пропусков и дубликатов:"
   ]
  },
  {
   "cell_type": "code",
   "execution_count": 29,
   "id": "19031c4a",
   "metadata": {},
   "outputs": [
    {
     "data": {
      "text/plain": [
       "user_id    0\n",
       "source     0\n",
       "dtype: int64"
      ]
     },
     "execution_count": 29,
     "metadata": {},
     "output_type": "execute_result"
    }
   ],
   "source": [
    "user_source.isna().sum()"
   ]
  },
  {
   "cell_type": "code",
   "execution_count": 30,
   "id": "f6aef46b",
   "metadata": {},
   "outputs": [
    {
     "data": {
      "text/plain": [
       "0"
      ]
     },
     "execution_count": 30,
     "metadata": {},
     "output_type": "execute_result"
    }
   ],
   "source": [
    "user_source.duplicated().sum()"
   ]
  },
  {
   "cell_type": "markdown",
   "id": "9600df59",
   "metadata": {},
   "source": [
    "Посмотрим, какое количество уникальных источников у нас есть:"
   ]
  },
  {
   "cell_type": "code",
   "execution_count": 31,
   "id": "bf15f320",
   "metadata": {},
   "outputs": [
    {
     "data": {
      "text/plain": [
       "array(['facebook_ads', 'yandex_direct', 'youtube_channel_reklama',\n",
       "       'instagram_new_adverts'], dtype=object)"
      ]
     },
     "execution_count": 31,
     "metadata": {},
     "output_type": "execute_result"
    }
   ],
   "source": [
    "user_source['source'].unique()"
   ]
  },
  {
   "cell_type": "markdown",
   "id": "eb43f5da",
   "metadata": {},
   "source": [
    "**Вывод:**\n",
    "После того как мы подгрузили датафреймы, изучили каждый на пропуски и дубликаты. В целом, данные очень даже приемлемые, потребовалась минимальная обработка, убрали один дубликат, а так же поменяли тип данных столбцов, связанных с датами. Данные по активности у нас с 4.05 по 5.06, при этом данные по рекламе с 3.05 по 9.05. В рамках поставленной задачи мы изучаем когорту, которая начала пользоваться с 4.05 по 10.05. Зная, что реклама закупается на день вперед, можно сделать вывод что таблица с рекламными затратами полностью входит во временной период нашей когорты."
   ]
  },
  {
   "cell_type": "markdown",
   "id": "5a411d4e",
   "metadata": {},
   "source": [
    "## Шаг 3. Анализ влияния событий на совершение целевого события\n"
   ]
  },
  {
   "cell_type": "markdown",
   "id": "36ff59cc",
   "metadata": {},
   "source": [
    "Наше целевое событие - завершение уровня. Завершить уровень можно двумя способами:\n",
    " - победить в PVP (одолеть другого игрока);\n",
    " - победить в PVE (успешно реализовать проект);\n",
    " \n",
    "Посмотрим на оба типа игроков. Помним, что у первых не заполнена колонка о реализации проекта:"
   ]
  },
  {
   "cell_type": "code",
   "execution_count": 32,
   "id": "36ad2cf5",
   "metadata": {},
   "outputs": [
    {
     "data": {
      "text/html": [
       "<div>\n",
       "<style scoped>\n",
       "    .dataframe tbody tr th:only-of-type {\n",
       "        vertical-align: middle;\n",
       "    }\n",
       "\n",
       "    .dataframe tbody tr th {\n",
       "        vertical-align: top;\n",
       "    }\n",
       "\n",
       "    .dataframe thead th {\n",
       "        text-align: right;\n",
       "    }\n",
       "</style>\n",
       "<table border=\"1\" class=\"dataframe\">\n",
       "  <thead>\n",
       "    <tr style=\"text-align: right;\">\n",
       "      <th></th>\n",
       "      <th>event_datetime</th>\n",
       "      <th>event</th>\n",
       "      <th>building_type</th>\n",
       "      <th>user_id</th>\n",
       "      <th>project_type</th>\n",
       "    </tr>\n",
       "  </thead>\n",
       "  <tbody>\n",
       "    <tr>\n",
       "      <td>6659</td>\n",
       "      <td>2020-05-04 19:47:29</td>\n",
       "      <td>finished_stage_1</td>\n",
       "      <td>NaN</td>\n",
       "      <td>ced7b368-818f-48f6-9461-2346de0892c5</td>\n",
       "      <td>NaN</td>\n",
       "    </tr>\n",
       "    <tr>\n",
       "      <td>13134</td>\n",
       "      <td>2020-05-05 13:22:09</td>\n",
       "      <td>finished_stage_1</td>\n",
       "      <td>NaN</td>\n",
       "      <td>7ef7fc89-2779-46ea-b328-9e5035b83af5</td>\n",
       "      <td>NaN</td>\n",
       "    </tr>\n",
       "    <tr>\n",
       "      <td>15274</td>\n",
       "      <td>2020-05-05 18:54:37</td>\n",
       "      <td>finished_stage_1</td>\n",
       "      <td>NaN</td>\n",
       "      <td>70db22b3-c2f4-43bc-94ea-51c8d2904a29</td>\n",
       "      <td>NaN</td>\n",
       "    </tr>\n",
       "    <tr>\n",
       "      <td>16284</td>\n",
       "      <td>2020-05-05 21:27:29</td>\n",
       "      <td>finished_stage_1</td>\n",
       "      <td>NaN</td>\n",
       "      <td>903fc9ef-ba97-4b12-9d5c-ac8d602fbd8b</td>\n",
       "      <td>NaN</td>\n",
       "    </tr>\n",
       "    <tr>\n",
       "      <td>19650</td>\n",
       "      <td>2020-05-06 06:02:22</td>\n",
       "      <td>finished_stage_1</td>\n",
       "      <td>NaN</td>\n",
       "      <td>58e077ba-feb1-4556-a5a0-d96bd04efa39</td>\n",
       "      <td>NaN</td>\n",
       "    </tr>\n",
       "  </tbody>\n",
       "</table>\n",
       "</div>"
      ],
      "text/plain": [
       "           event_datetime             event building_type  \\\n",
       "6659  2020-05-04 19:47:29  finished_stage_1           NaN   \n",
       "13134 2020-05-05 13:22:09  finished_stage_1           NaN   \n",
       "15274 2020-05-05 18:54:37  finished_stage_1           NaN   \n",
       "16284 2020-05-05 21:27:29  finished_stage_1           NaN   \n",
       "19650 2020-05-06 06:02:22  finished_stage_1           NaN   \n",
       "\n",
       "                                    user_id project_type  \n",
       "6659   ced7b368-818f-48f6-9461-2346de0892c5          NaN  \n",
       "13134  7ef7fc89-2779-46ea-b328-9e5035b83af5          NaN  \n",
       "15274  70db22b3-c2f4-43bc-94ea-51c8d2904a29          NaN  \n",
       "16284  903fc9ef-ba97-4b12-9d5c-ac8d602fbd8b          NaN  \n",
       "19650  58e077ba-feb1-4556-a5a0-d96bd04efa39          NaN  "
      ]
     },
     "execution_count": 32,
     "metadata": {},
     "output_type": "execute_result"
    }
   ],
   "source": [
    "finished_stage_1 = game_actions.query('event == \"finished_stage_1\"')\n",
    "finished_stage_1.head()"
   ]
  },
  {
   "cell_type": "code",
   "execution_count": 33,
   "id": "fcb2a6ba",
   "metadata": {},
   "outputs": [
    {
     "name": "stdout",
     "output_type": "stream",
     "text": [
      "5817 игроков из первой когорты завешили 1й уровень к 5 июня 2020 г.\n"
     ]
    }
   ],
   "source": [
    "print(len(finished_stage_1), 'игроков из первой когорты завешили 1й уровень к 5 июня 2020 г.')"
   ]
  },
  {
   "cell_type": "markdown",
   "id": "f0e84b9e",
   "metadata": {},
   "source": [
    "Теперь мы можем отобрать игроков, которые завершили уровень, но при этом не реализовали проект, т.е. прошли его через PVP"
   ]
  },
  {
   "cell_type": "code",
   "execution_count": 34,
   "id": "802d2e10",
   "metadata": {},
   "outputs": [],
   "source": [
    "finished_project = game_actions.query('event == \"project\"')"
   ]
  },
  {
   "cell_type": "code",
   "execution_count": 35,
   "id": "7229f144",
   "metadata": {},
   "outputs": [],
   "source": [
    "complete_lvl_project = set(finished_project['user_id'])&set(finished_stage_1['user_id'])"
   ]
  },
  {
   "cell_type": "code",
   "execution_count": 36,
   "id": "b6cbfde7",
   "metadata": {},
   "outputs": [
    {
     "name": "stdout",
     "output_type": "stream",
     "text": [
      "1866 игроков, реализовавших проект прошли уровень\n"
     ]
    }
   ],
   "source": [
    "print(len(complete_lvl_project), 'игроков, реализовавших проект прошли уровень')"
   ]
  },
  {
   "cell_type": "markdown",
   "id": "89a8d0dc",
   "metadata": {},
   "source": [
    "Получается, остальные игроки прошли уровень через PVP:"
   ]
  },
  {
   "cell_type": "code",
   "execution_count": 37,
   "id": "3a2e65ad",
   "metadata": {},
   "outputs": [
    {
     "name": "stdout",
     "output_type": "stream",
     "text": [
      "3951 игроков прошли уровень через PVP\n"
     ]
    }
   ],
   "source": [
    "print((len(finished_stage_1) - len(complete_lvl_project)), 'игроков прошли уровень через PVP')"
   ]
  },
  {
   "cell_type": "markdown",
   "id": "6b57ae94",
   "metadata": {},
   "source": [
    "Мы получили количество игроков, которые успешно прошли уровень через PVP и PVE. Для того чтобы увидеть это визуально, вынесем в отдельную таблицу и построим график:"
   ]
  },
  {
   "cell_type": "code",
   "execution_count": 38,
   "id": "c9513173",
   "metadata": {},
   "outputs": [
    {
     "data": {
      "text/html": [
       "<div>\n",
       "<style scoped>\n",
       "    .dataframe tbody tr th:only-of-type {\n",
       "        vertical-align: middle;\n",
       "    }\n",
       "\n",
       "    .dataframe tbody tr th {\n",
       "        vertical-align: top;\n",
       "    }\n",
       "\n",
       "    .dataframe thead th {\n",
       "        text-align: right;\n",
       "    }\n",
       "</style>\n",
       "<table border=\"1\" class=\"dataframe\">\n",
       "  <thead>\n",
       "    <tr style=\"text-align: right;\">\n",
       "      <th></th>\n",
       "      <th>win_type</th>\n",
       "      <th>user_id</th>\n",
       "    </tr>\n",
       "  </thead>\n",
       "  <tbody>\n",
       "    <tr>\n",
       "      <td>0</td>\n",
       "      <td>enemy_defeat</td>\n",
       "      <td>3951</td>\n",
       "    </tr>\n",
       "    <tr>\n",
       "      <td>1</td>\n",
       "      <td>satellite_orbital_assembly</td>\n",
       "      <td>1866</td>\n",
       "    </tr>\n",
       "  </tbody>\n",
       "</table>\n",
       "</div>"
      ],
      "text/plain": [
       "                     win_type  user_id\n",
       "0                enemy_defeat     3951\n",
       "1  satellite_orbital_assembly     1866"
      ]
     },
     "execution_count": 38,
     "metadata": {},
     "output_type": "execute_result"
    }
   ],
   "source": [
    "finished_stage_1 = finished_stage_1.merge(finished_project[['user_id', 'project_type']], how = 'left', on = 'user_id')\n",
    "finished_stage_1 = finished_stage_1.rename(columns = {'project_type_y':'win_type'})\n",
    "finished_stage_1['win_type'] = finished_stage_1['win_type'].fillna('enemy_defeat')\n",
    "win_types = finished_stage_1.groupby('win_type')['user_id'].count().reset_index()\n",
    "win_types"
   ]
  },
  {
   "cell_type": "code",
   "execution_count": 39,
   "id": "79c48c84",
   "metadata": {},
   "outputs": [
    {
     "data": {
      "image/png": "[encoded data removed]",
      "text/plain": [
       "<Figure size 432x288 with 1 Axes>"
      ]
     },
     "metadata": {},
     "output_type": "display_data"
    }
   ],
   "source": [
    "labels = ['Победа над противником(PVP)', 'Реализация проекта(PVE)']\n",
    "wins = win_types['user_id']\n",
    "\n",
    "fig1, ax1 = plt.subplots()\n",
    "ax1.pie(wins, labels = labels, autopct = '%1.2f%%')\n",
    "\n",
    "plt.title(\"Доли завершения уровня через PVP и PVE\")\n",
    "\n",
    "plt.show()"
   ]
  },
  {
   "cell_type": "markdown",
   "id": "5e55683d",
   "metadata": {},
   "source": [
    "Посмотрим сколько и каких зданий строят игроки на первом уровне:"
   ]
  },
  {
   "cell_type": "code",
   "execution_count": 40,
   "id": "d1b9a2cb",
   "metadata": {},
   "outputs": [
    {
     "data": {
      "text/html": [
       "<div>\n",
       "<style scoped>\n",
       "    .dataframe tbody tr th:only-of-type {\n",
       "        vertical-align: middle;\n",
       "    }\n",
       "\n",
       "    .dataframe tbody tr th {\n",
       "        vertical-align: top;\n",
       "    }\n",
       "\n",
       "    .dataframe thead th {\n",
       "        text-align: right;\n",
       "    }\n",
       "</style>\n",
       "<table border=\"1\" class=\"dataframe\">\n",
       "  <thead>\n",
       "    <tr style=\"text-align: right;\">\n",
       "      <th></th>\n",
       "      <th>building_type</th>\n",
       "      <th>build_number</th>\n",
       "    </tr>\n",
       "  </thead>\n",
       "  <tbody>\n",
       "    <tr>\n",
       "      <td>2</td>\n",
       "      <td>spaceport</td>\n",
       "      <td>59325</td>\n",
       "    </tr>\n",
       "    <tr>\n",
       "      <td>0</td>\n",
       "      <td>assembly_shop</td>\n",
       "      <td>54494</td>\n",
       "    </tr>\n",
       "    <tr>\n",
       "      <td>1</td>\n",
       "      <td>research_center</td>\n",
       "      <td>14137</td>\n",
       "    </tr>\n",
       "  </tbody>\n",
       "</table>\n",
       "</div>"
      ],
      "text/plain": [
       "     building_type  build_number\n",
       "2        spaceport         59325\n",
       "0    assembly_shop         54494\n",
       "1  research_center         14137"
      ]
     },
     "execution_count": 40,
     "metadata": {},
     "output_type": "execute_result"
    }
   ],
   "source": [
    "buildings = game_actions.groupby('building_type')['event'].count().reset_index().sort_values(by = 'event', \n",
    "                                                                                             ascending = False)\n",
    "buildings = buildings.rename(columns = {'event':'build_number'})\n",
    "buildings"
   ]
  },
  {
   "cell_type": "code",
   "execution_count": 41,
   "id": "b057883f",
   "metadata": {},
   "outputs": [
    {
     "data": {
      "image/png": "[encoded data removed]",
      "text/plain": [
       "<Figure size 432x288 with 1 Axes>"
      ]
     },
     "metadata": {},
     "output_type": "display_data"
    }
   ],
   "source": [
    "sns.set_style(\"darkgrid\")\n",
    "ax = sns.barplot(data = buildings, x = 'building_type', y = 'build_number')\n",
    "plt.title('Распределение количества зданий по типам')\n",
    "plt.show()"
   ]
  },
  {
   "cell_type": "markdown",
   "id": "a396ac78",
   "metadata": {},
   "source": [
    "Самое популярное здание - космопорт. Его построили 59 325 раз и лидирует он с небольшим отрывом. На втором месте 54 494 раз построили сборочный цех, ну и замыкает тройку исследовательский центр - 14 137 раз. Теперь посмотрим сколько из них завершили уровень:"
   ]
  },
  {
   "cell_type": "code",
   "execution_count": 42,
   "id": "e6c7e250",
   "metadata": {},
   "outputs": [
    {
     "data": {
      "text/html": [
       "<div>\n",
       "<style scoped>\n",
       "    .dataframe tbody tr th:only-of-type {\n",
       "        vertical-align: middle;\n",
       "    }\n",
       "\n",
       "    .dataframe tbody tr th {\n",
       "        vertical-align: top;\n",
       "    }\n",
       "\n",
       "    .dataframe thead th {\n",
       "        text-align: right;\n",
       "    }\n",
       "</style>\n",
       "<table border=\"1\" class=\"dataframe\">\n",
       "  <thead>\n",
       "    <tr style=\"text-align: right;\">\n",
       "      <th></th>\n",
       "      <th>building_type</th>\n",
       "      <th>build_number</th>\n",
       "    </tr>\n",
       "  </thead>\n",
       "  <tbody>\n",
       "    <tr>\n",
       "      <td>2</td>\n",
       "      <td>spaceport</td>\n",
       "      <td>27920</td>\n",
       "    </tr>\n",
       "    <tr>\n",
       "      <td>0</td>\n",
       "      <td>assembly_shop</td>\n",
       "      <td>25414</td>\n",
       "    </tr>\n",
       "    <tr>\n",
       "      <td>1</td>\n",
       "      <td>research_center</td>\n",
       "      <td>7452</td>\n",
       "    </tr>\n",
       "  </tbody>\n",
       "</table>\n",
       "</div>"
      ],
      "text/plain": [
       "     building_type  build_number\n",
       "2        spaceport         27920\n",
       "0    assembly_shop         25414\n",
       "1  research_center          7452"
      ]
     },
     "execution_count": 42,
     "metadata": {},
     "output_type": "execute_result"
    }
   ],
   "source": [
    "finished_user_id = finished_stage_1['user_id']\n",
    "buildings_finished_lvl = game_actions.query('user_id in @finished_user_id').groupby('building_type')['event'].count().reset_index().sort_values(by = 'event', ascending = False)\n",
    "buildings_finished_lvl = buildings_finished_lvl.rename(columns = {'event':'build_number'})\n",
    "buildings_finished_lvl"
   ]
  },
  {
   "cell_type": "code",
   "execution_count": 43,
   "id": "7df377dc",
   "metadata": {},
   "outputs": [
    {
     "data": {
      "image/png": "[encoded data removed]",
      "text/plain": [
       "<Figure size 432x288 with 1 Axes>"
      ]
     },
     "metadata": {},
     "output_type": "display_data"
    }
   ],
   "source": [
    "sns.set_style(\"darkgrid\")\n",
    "ax = sns.barplot(data = buildings_finished_lvl, x = 'building_type', y = 'build_number')\n",
    "plt.title('Распределение количества зданий по типам')\n",
    "plt.show()"
   ]
  },
  {
   "cell_type": "markdown",
   "id": "a930a549",
   "metadata": {},
   "source": [
    "Динамика та же, на 1 месте космопорт (27920), на 2 месте сборочный цех(25414), на 3 - исследовательский центр(7452). Очевидно, что игроков сильно меньше чем построенных зданий. Значит каждый мог построить одно или больше строений. Посмотрим, сколько же строений построил каждый:"
   ]
  },
  {
   "cell_type": "code",
   "execution_count": 44,
   "id": "f185a49a",
   "metadata": {},
   "outputs": [
    {
     "data": {
      "text/html": [
       "<div>\n",
       "<style scoped>\n",
       "    .dataframe tbody tr th:only-of-type {\n",
       "        vertical-align: middle;\n",
       "    }\n",
       "\n",
       "    .dataframe tbody tr th {\n",
       "        vertical-align: top;\n",
       "    }\n",
       "\n",
       "    .dataframe thead th {\n",
       "        text-align: right;\n",
       "    }\n",
       "</style>\n",
       "<table border=\"1\" class=\"dataframe\">\n",
       "  <thead>\n",
       "    <tr style=\"text-align: right;\">\n",
       "      <th></th>\n",
       "      <th>user_id</th>\n",
       "      <th>build_count</th>\n",
       "    </tr>\n",
       "  </thead>\n",
       "  <tbody>\n",
       "    <tr>\n",
       "      <td>0</td>\n",
       "      <td>001d39dc-366c-4021-9604-6a3b9ff01e25</td>\n",
       "      <td>8</td>\n",
       "    </tr>\n",
       "    <tr>\n",
       "      <td>1</td>\n",
       "      <td>003ee7e8-6356-4286-a715-62f22a18d2a1</td>\n",
       "      <td>8</td>\n",
       "    </tr>\n",
       "    <tr>\n",
       "      <td>2</td>\n",
       "      <td>004074f8-251a-4776-922c-8348dca1a2f6</td>\n",
       "      <td>12</td>\n",
       "    </tr>\n",
       "    <tr>\n",
       "      <td>3</td>\n",
       "      <td>00464e5e-28ed-4be6-bf44-517ef7b3937b</td>\n",
       "      <td>8</td>\n",
       "    </tr>\n",
       "    <tr>\n",
       "      <td>4</td>\n",
       "      <td>0056c007-c082-43cc-bdef-afc49bca4cb9</td>\n",
       "      <td>3</td>\n",
       "    </tr>\n",
       "  </tbody>\n",
       "</table>\n",
       "</div>"
      ],
      "text/plain": [
       "                                user_id  build_count\n",
       "0  001d39dc-366c-4021-9604-6a3b9ff01e25            8\n",
       "1  003ee7e8-6356-4286-a715-62f22a18d2a1            8\n",
       "2  004074f8-251a-4776-922c-8348dca1a2f6           12\n",
       "3  00464e5e-28ed-4be6-bf44-517ef7b3937b            8\n",
       "4  0056c007-c082-43cc-bdef-afc49bca4cb9            3"
      ]
     },
     "execution_count": 44,
     "metadata": {},
     "output_type": "execute_result"
    }
   ],
   "source": [
    "finished_actions = game_actions.query('user_id in @finished_user_id')\n",
    "finished_buildings = finished_actions.query('event == \"building\"').groupby('user_id')['event'].count().reset_index()\n",
    "finished_buildings.columns = ['user_id', 'build_count']\n",
    "finished_buildings.head()"
   ]
  },
  {
   "cell_type": "code",
   "execution_count": 45,
   "id": "a9c1e3e8",
   "metadata": {},
   "outputs": [
    {
     "data": {
      "text/html": [
       "<div>\n",
       "<style scoped>\n",
       "    .dataframe tbody tr th:only-of-type {\n",
       "        vertical-align: middle;\n",
       "    }\n",
       "\n",
       "    .dataframe tbody tr th {\n",
       "        vertical-align: top;\n",
       "    }\n",
       "\n",
       "    .dataframe thead th {\n",
       "        text-align: right;\n",
       "    }\n",
       "</style>\n",
       "<table border=\"1\" class=\"dataframe\">\n",
       "  <thead>\n",
       "    <tr style=\"text-align: right;\">\n",
       "      <th></th>\n",
       "      <th>event_datetime</th>\n",
       "      <th>event</th>\n",
       "      <th>building_type</th>\n",
       "      <th>user_id</th>\n",
       "      <th>project_type_x</th>\n",
       "      <th>win_type</th>\n",
       "      <th>build_count</th>\n",
       "    </tr>\n",
       "  </thead>\n",
       "  <tbody>\n",
       "    <tr>\n",
       "      <td>0</td>\n",
       "      <td>2020-05-04 19:47:29</td>\n",
       "      <td>finished_stage_1</td>\n",
       "      <td>NaN</td>\n",
       "      <td>ced7b368-818f-48f6-9461-2346de0892c5</td>\n",
       "      <td>NaN</td>\n",
       "      <td>enemy_defeat</td>\n",
       "      <td>2</td>\n",
       "    </tr>\n",
       "    <tr>\n",
       "      <td>1</td>\n",
       "      <td>2020-05-05 13:22:09</td>\n",
       "      <td>finished_stage_1</td>\n",
       "      <td>NaN</td>\n",
       "      <td>7ef7fc89-2779-46ea-b328-9e5035b83af5</td>\n",
       "      <td>NaN</td>\n",
       "      <td>enemy_defeat</td>\n",
       "      <td>2</td>\n",
       "    </tr>\n",
       "    <tr>\n",
       "      <td>2</td>\n",
       "      <td>2020-05-05 18:54:37</td>\n",
       "      <td>finished_stage_1</td>\n",
       "      <td>NaN</td>\n",
       "      <td>70db22b3-c2f4-43bc-94ea-51c8d2904a29</td>\n",
       "      <td>NaN</td>\n",
       "      <td>enemy_defeat</td>\n",
       "      <td>2</td>\n",
       "    </tr>\n",
       "    <tr>\n",
       "      <td>3</td>\n",
       "      <td>2020-05-05 21:27:29</td>\n",
       "      <td>finished_stage_1</td>\n",
       "      <td>NaN</td>\n",
       "      <td>903fc9ef-ba97-4b12-9d5c-ac8d602fbd8b</td>\n",
       "      <td>NaN</td>\n",
       "      <td>enemy_defeat</td>\n",
       "      <td>3</td>\n",
       "    </tr>\n",
       "    <tr>\n",
       "      <td>4</td>\n",
       "      <td>2020-05-06 06:02:22</td>\n",
       "      <td>finished_stage_1</td>\n",
       "      <td>NaN</td>\n",
       "      <td>58e077ba-feb1-4556-a5a0-d96bd04efa39</td>\n",
       "      <td>NaN</td>\n",
       "      <td>enemy_defeat</td>\n",
       "      <td>2</td>\n",
       "    </tr>\n",
       "  </tbody>\n",
       "</table>\n",
       "</div>"
      ],
      "text/plain": [
       "       event_datetime             event building_type  \\\n",
       "0 2020-05-04 19:47:29  finished_stage_1           NaN   \n",
       "1 2020-05-05 13:22:09  finished_stage_1           NaN   \n",
       "2 2020-05-05 18:54:37  finished_stage_1           NaN   \n",
       "3 2020-05-05 21:27:29  finished_stage_1           NaN   \n",
       "4 2020-05-06 06:02:22  finished_stage_1           NaN   \n",
       "\n",
       "                                user_id project_type_x      win_type  \\\n",
       "0  ced7b368-818f-48f6-9461-2346de0892c5            NaN  enemy_defeat   \n",
       "1  7ef7fc89-2779-46ea-b328-9e5035b83af5            NaN  enemy_defeat   \n",
       "2  70db22b3-c2f4-43bc-94ea-51c8d2904a29            NaN  enemy_defeat   \n",
       "3  903fc9ef-ba97-4b12-9d5c-ac8d602fbd8b            NaN  enemy_defeat   \n",
       "4  58e077ba-feb1-4556-a5a0-d96bd04efa39            NaN  enemy_defeat   \n",
       "\n",
       "   build_count  \n",
       "0            2  \n",
       "1            2  \n",
       "2            2  \n",
       "3            3  \n",
       "4            2  "
      ]
     },
     "execution_count": 45,
     "metadata": {},
     "output_type": "execute_result"
    }
   ],
   "source": [
    "finished_stage_1 = finished_stage_1.merge(finished_buildings, how = 'left', on = 'user_id')\n",
    "finished_stage_1.head()"
   ]
  },
  {
   "cell_type": "code",
   "execution_count": 46,
   "id": "44d2fbf6",
   "metadata": {},
   "outputs": [
    {
     "name": "stdout",
     "output_type": "stream",
     "text": [
      "Минимальное количество строений - 2\n"
     ]
    }
   ],
   "source": [
    "print(\"Минимальное количество строений -\", finished_stage_1['build_count'].min())"
   ]
  },
  {
   "cell_type": "code",
   "execution_count": 47,
   "id": "eb929ccb",
   "metadata": {},
   "outputs": [
    {
     "name": "stdout",
     "output_type": "stream",
     "text": [
      "Максимальное количество строений - 20\n"
     ]
    }
   ],
   "source": [
    "print(\"Максимальное количество строений -\", finished_stage_1['build_count'].max())"
   ]
  },
  {
   "cell_type": "code",
   "execution_count": 48,
   "id": "37f85e24",
   "metadata": {},
   "outputs": [
    {
     "data": {
      "image/png": "[encoded data removed]",
      "text/plain": [
       "<Figure size 432x288 with 1 Axes>"
      ]
     },
     "metadata": {},
     "output_type": "display_data"
    }
   ],
   "source": [
    "sns.histplot(data = finished_stage_1, x=\"build_count\", bins = 19).set(title = 'Распределение количества построенных зданий', \n",
    "                                                                  xlabel='Количество зданий', ylabel='Количество игроков')\n",
    "plt.show()"
   ]
  },
  {
   "cell_type": "code",
   "execution_count": 49,
   "id": "b8936756",
   "metadata": {},
   "outputs": [
    {
     "name": "stdout",
     "output_type": "stream",
     "text": [
      "Среднее количество построенных зданий одним игроком - 10.449716348633316\n"
     ]
    }
   ],
   "source": [
    "print(\"Среднее количество построенных зданий одним игроком -\", buildings_finished_lvl['build_number'].sum() \n",
    "      / len(finished_user_id))"
   ]
  },
  {
   "cell_type": "markdown",
   "id": "e3055ab9",
   "metadata": {},
   "source": [
    "В среднем, игроки завершившие 1 уровень строят 10,5 зданий. Так же, мало кто строит 7. Игроки явно испытывают некоторые сложности, на эту особенность стоит обратить разработчикам и геймдизайнерам. "
   ]
  },
  {
   "cell_type": "markdown",
   "id": "9b55b8bd",
   "metadata": {},
   "source": [
    "**Вывод:**\n",
    "\n",
    " - Исследовав первую когорту игроков мы можем сделать можно сказать что игроков, заканчивающих уровень через PVP (3951) практически вдвое больше чем игроков заканчивающих PVE (1866);\n",
    " - Самое востребованное здание - космопорт (27920), на втором месте сборочный цех (25414), на третьем исследовательский центр (7452);\n",
    " - Среднее количество построек среди тех кто завершил 1 уровень - 10,5;\n",
    " - 7 построек - роковое число. На этом этапе пользователям что-то не нравится и есть какие-то сложности. Скорее всего у многих на этом количестве построек пропадает интерес или возникает какой-либо другой раздражительный фактор, который сильно влияет на отток. Об этом необходимо оповестить команду разработчиков и геймдизайнеров"
   ]
  },
  {
   "cell_type": "markdown",
   "id": "cf25665f",
   "metadata": {},
   "source": [
    "## Шаг 4. Проверка статистических гипотез"
   ]
  },
  {
   "cell_type": "markdown",
   "id": "91f1e419",
   "metadata": {},
   "source": [
    "### 1 гипотеза: о различии времени прохождения уровня между пользователями, которые заканчивают уровень через реализацию проекта, и пользователями, которые заканчивают уровень победой над другим игроком."
   ]
  },
  {
   "cell_type": "markdown",
   "id": "e5fc9de0",
   "metadata": {},
   "source": [
    "Найдем id игроков завершивших уровень победой над врагом и реализовавших проект:"
   ]
  },
  {
   "cell_type": "code",
   "execution_count": 50,
   "id": "c159a83d",
   "metadata": {},
   "outputs": [],
   "source": [
    "defeat_user_id  = set(finished_stage_1['user_id']) - set(finished_project['user_id'])\n",
    "project_user_id = finished_project['user_id']"
   ]
  },
  {
   "cell_type": "markdown",
   "id": "1ab009a5",
   "metadata": {},
   "source": [
    "Найдем время первого события для игроков, завершивших первый уровень:"
   ]
  },
  {
   "cell_type": "code",
   "execution_count": 51,
   "id": "4c1769db",
   "metadata": {},
   "outputs": [
    {
     "data": {
      "text/html": [
       "<div>\n",
       "<style scoped>\n",
       "    .dataframe tbody tr th:only-of-type {\n",
       "        vertical-align: middle;\n",
       "    }\n",
       "\n",
       "    .dataframe tbody tr th {\n",
       "        vertical-align: top;\n",
       "    }\n",
       "\n",
       "    .dataframe thead th {\n",
       "        text-align: right;\n",
       "    }\n",
       "</style>\n",
       "<table border=\"1\" class=\"dataframe\">\n",
       "  <thead>\n",
       "    <tr style=\"text-align: right;\">\n",
       "      <th></th>\n",
       "      <th>user_id</th>\n",
       "      <th>first_event_time</th>\n",
       "    </tr>\n",
       "  </thead>\n",
       "  <tbody>\n",
       "    <tr>\n",
       "      <td>0</td>\n",
       "      <td>001d39dc-366c-4021-9604-6a3b9ff01e25</td>\n",
       "      <td>2020-05-05 21:02:05</td>\n",
       "    </tr>\n",
       "    <tr>\n",
       "      <td>1</td>\n",
       "      <td>003ee7e8-6356-4286-a715-62f22a18d2a1</td>\n",
       "      <td>2020-05-05 08:31:04</td>\n",
       "    </tr>\n",
       "    <tr>\n",
       "      <td>2</td>\n",
       "      <td>004074f8-251a-4776-922c-8348dca1a2f6</td>\n",
       "      <td>2020-05-04 01:07:35</td>\n",
       "    </tr>\n",
       "    <tr>\n",
       "      <td>3</td>\n",
       "      <td>00464e5e-28ed-4be6-bf44-517ef7b3937b</td>\n",
       "      <td>2020-05-04 08:35:29</td>\n",
       "    </tr>\n",
       "    <tr>\n",
       "      <td>4</td>\n",
       "      <td>0056c007-c082-43cc-bdef-afc49bca4cb9</td>\n",
       "      <td>2020-05-10 11:49:47</td>\n",
       "    </tr>\n",
       "  </tbody>\n",
       "</table>\n",
       "</div>"
      ],
      "text/plain": [
       "                                user_id    first_event_time\n",
       "0  001d39dc-366c-4021-9604-6a3b9ff01e25 2020-05-05 21:02:05\n",
       "1  003ee7e8-6356-4286-a715-62f22a18d2a1 2020-05-05 08:31:04\n",
       "2  004074f8-251a-4776-922c-8348dca1a2f6 2020-05-04 01:07:35\n",
       "3  00464e5e-28ed-4be6-bf44-517ef7b3937b 2020-05-04 08:35:29\n",
       "4  0056c007-c082-43cc-bdef-afc49bca4cb9 2020-05-10 11:49:47"
      ]
     },
     "execution_count": 51,
     "metadata": {},
     "output_type": "execute_result"
    }
   ],
   "source": [
    "first_event = finished_actions.groupby('user_id')['event_datetime'].min().reset_index()\n",
    "first_event.columns = ['user_id', 'first_event_time']\n",
    "first_event.head()"
   ]
  },
  {
   "cell_type": "code",
   "execution_count": 52,
   "id": "5e89754e",
   "metadata": {},
   "outputs": [
    {
     "data": {
      "text/html": [
       "<div>\n",
       "<style scoped>\n",
       "    .dataframe tbody tr th:only-of-type {\n",
       "        vertical-align: middle;\n",
       "    }\n",
       "\n",
       "    .dataframe tbody tr th {\n",
       "        vertical-align: top;\n",
       "    }\n",
       "\n",
       "    .dataframe thead th {\n",
       "        text-align: right;\n",
       "    }\n",
       "</style>\n",
       "<table border=\"1\" class=\"dataframe\">\n",
       "  <thead>\n",
       "    <tr style=\"text-align: right;\">\n",
       "      <th></th>\n",
       "      <th>event_datetime</th>\n",
       "      <th>event</th>\n",
       "      <th>building_type</th>\n",
       "      <th>user_id</th>\n",
       "      <th>project_type_x</th>\n",
       "      <th>win_type</th>\n",
       "      <th>build_count</th>\n",
       "      <th>first_event_time</th>\n",
       "    </tr>\n",
       "  </thead>\n",
       "  <tbody>\n",
       "    <tr>\n",
       "      <td>0</td>\n",
       "      <td>2020-05-04 19:47:29</td>\n",
       "      <td>finished_stage_1</td>\n",
       "      <td>NaN</td>\n",
       "      <td>ced7b368-818f-48f6-9461-2346de0892c5</td>\n",
       "      <td>NaN</td>\n",
       "      <td>enemy_defeat</td>\n",
       "      <td>2</td>\n",
       "      <td>2020-05-04 00:13:21</td>\n",
       "    </tr>\n",
       "    <tr>\n",
       "      <td>1</td>\n",
       "      <td>2020-05-05 13:22:09</td>\n",
       "      <td>finished_stage_1</td>\n",
       "      <td>NaN</td>\n",
       "      <td>7ef7fc89-2779-46ea-b328-9e5035b83af5</td>\n",
       "      <td>NaN</td>\n",
       "      <td>enemy_defeat</td>\n",
       "      <td>2</td>\n",
       "      <td>2020-05-04 00:22:48</td>\n",
       "    </tr>\n",
       "    <tr>\n",
       "      <td>2</td>\n",
       "      <td>2020-05-05 18:54:37</td>\n",
       "      <td>finished_stage_1</td>\n",
       "      <td>NaN</td>\n",
       "      <td>70db22b3-c2f4-43bc-94ea-51c8d2904a29</td>\n",
       "      <td>NaN</td>\n",
       "      <td>enemy_defeat</td>\n",
       "      <td>2</td>\n",
       "      <td>2020-05-04 13:41:55</td>\n",
       "    </tr>\n",
       "    <tr>\n",
       "      <td>3</td>\n",
       "      <td>2020-05-05 21:27:29</td>\n",
       "      <td>finished_stage_1</td>\n",
       "      <td>NaN</td>\n",
       "      <td>903fc9ef-ba97-4b12-9d5c-ac8d602fbd8b</td>\n",
       "      <td>NaN</td>\n",
       "      <td>enemy_defeat</td>\n",
       "      <td>3</td>\n",
       "      <td>2020-05-04 00:57:02</td>\n",
       "    </tr>\n",
       "    <tr>\n",
       "      <td>4</td>\n",
       "      <td>2020-05-06 06:02:22</td>\n",
       "      <td>finished_stage_1</td>\n",
       "      <td>NaN</td>\n",
       "      <td>58e077ba-feb1-4556-a5a0-d96bd04efa39</td>\n",
       "      <td>NaN</td>\n",
       "      <td>enemy_defeat</td>\n",
       "      <td>2</td>\n",
       "      <td>2020-05-04 19:23:40</td>\n",
       "    </tr>\n",
       "  </tbody>\n",
       "</table>\n",
       "</div>"
      ],
      "text/plain": [
       "       event_datetime             event building_type  \\\n",
       "0 2020-05-04 19:47:29  finished_stage_1           NaN   \n",
       "1 2020-05-05 13:22:09  finished_stage_1           NaN   \n",
       "2 2020-05-05 18:54:37  finished_stage_1           NaN   \n",
       "3 2020-05-05 21:27:29  finished_stage_1           NaN   \n",
       "4 2020-05-06 06:02:22  finished_stage_1           NaN   \n",
       "\n",
       "                                user_id project_type_x      win_type  \\\n",
       "0  ced7b368-818f-48f6-9461-2346de0892c5            NaN  enemy_defeat   \n",
       "1  7ef7fc89-2779-46ea-b328-9e5035b83af5            NaN  enemy_defeat   \n",
       "2  70db22b3-c2f4-43bc-94ea-51c8d2904a29            NaN  enemy_defeat   \n",
       "3  903fc9ef-ba97-4b12-9d5c-ac8d602fbd8b            NaN  enemy_defeat   \n",
       "4  58e077ba-feb1-4556-a5a0-d96bd04efa39            NaN  enemy_defeat   \n",
       "\n",
       "   build_count    first_event_time  \n",
       "0            2 2020-05-04 00:13:21  \n",
       "1            2 2020-05-04 00:22:48  \n",
       "2            2 2020-05-04 13:41:55  \n",
       "3            3 2020-05-04 00:57:02  \n",
       "4            2 2020-05-04 19:23:40  "
      ]
     },
     "execution_count": 52,
     "metadata": {},
     "output_type": "execute_result"
    }
   ],
   "source": [
    "finished_stage_1 = finished_stage_1.merge(first_event, on = 'user_id', how = 'left')\n",
    "finished_stage_1.head()"
   ]
  },
  {
   "cell_type": "markdown",
   "id": "3357d1a8",
   "metadata": {},
   "source": [
    "Теперь время от первого события до завершения уровня:"
   ]
  },
  {
   "cell_type": "code",
   "execution_count": 53,
   "id": "286fa70b",
   "metadata": {},
   "outputs": [
    {
     "data": {
      "text/html": [
       "<div>\n",
       "<style scoped>\n",
       "    .dataframe tbody tr th:only-of-type {\n",
       "        vertical-align: middle;\n",
       "    }\n",
       "\n",
       "    .dataframe tbody tr th {\n",
       "        vertical-align: top;\n",
       "    }\n",
       "\n",
       "    .dataframe thead th {\n",
       "        text-align: right;\n",
       "    }\n",
       "</style>\n",
       "<table border=\"1\" class=\"dataframe\">\n",
       "  <thead>\n",
       "    <tr style=\"text-align: right;\">\n",
       "      <th></th>\n",
       "      <th>event_datetime</th>\n",
       "      <th>event</th>\n",
       "      <th>building_type</th>\n",
       "      <th>user_id</th>\n",
       "      <th>project_type_x</th>\n",
       "      <th>win_type</th>\n",
       "      <th>build_count</th>\n",
       "      <th>first_event_time</th>\n",
       "      <th>time_to_finish</th>\n",
       "    </tr>\n",
       "  </thead>\n",
       "  <tbody>\n",
       "    <tr>\n",
       "      <td>0</td>\n",
       "      <td>2020-05-04 19:47:29</td>\n",
       "      <td>finished_stage_1</td>\n",
       "      <td>NaN</td>\n",
       "      <td>ced7b368-818f-48f6-9461-2346de0892c5</td>\n",
       "      <td>NaN</td>\n",
       "      <td>enemy_defeat</td>\n",
       "      <td>2</td>\n",
       "      <td>2020-05-04 00:13:21</td>\n",
       "      <td>0 days 19:34:08</td>\n",
       "    </tr>\n",
       "    <tr>\n",
       "      <td>1</td>\n",
       "      <td>2020-05-05 13:22:09</td>\n",
       "      <td>finished_stage_1</td>\n",
       "      <td>NaN</td>\n",
       "      <td>7ef7fc89-2779-46ea-b328-9e5035b83af5</td>\n",
       "      <td>NaN</td>\n",
       "      <td>enemy_defeat</td>\n",
       "      <td>2</td>\n",
       "      <td>2020-05-04 00:22:48</td>\n",
       "      <td>1 days 12:59:21</td>\n",
       "    </tr>\n",
       "    <tr>\n",
       "      <td>2</td>\n",
       "      <td>2020-05-05 18:54:37</td>\n",
       "      <td>finished_stage_1</td>\n",
       "      <td>NaN</td>\n",
       "      <td>70db22b3-c2f4-43bc-94ea-51c8d2904a29</td>\n",
       "      <td>NaN</td>\n",
       "      <td>enemy_defeat</td>\n",
       "      <td>2</td>\n",
       "      <td>2020-05-04 13:41:55</td>\n",
       "      <td>1 days 05:12:42</td>\n",
       "    </tr>\n",
       "    <tr>\n",
       "      <td>3</td>\n",
       "      <td>2020-05-05 21:27:29</td>\n",
       "      <td>finished_stage_1</td>\n",
       "      <td>NaN</td>\n",
       "      <td>903fc9ef-ba97-4b12-9d5c-ac8d602fbd8b</td>\n",
       "      <td>NaN</td>\n",
       "      <td>enemy_defeat</td>\n",
       "      <td>3</td>\n",
       "      <td>2020-05-04 00:57:02</td>\n",
       "      <td>1 days 20:30:27</td>\n",
       "    </tr>\n",
       "    <tr>\n",
       "      <td>4</td>\n",
       "      <td>2020-05-06 06:02:22</td>\n",
       "      <td>finished_stage_1</td>\n",
       "      <td>NaN</td>\n",
       "      <td>58e077ba-feb1-4556-a5a0-d96bd04efa39</td>\n",
       "      <td>NaN</td>\n",
       "      <td>enemy_defeat</td>\n",
       "      <td>2</td>\n",
       "      <td>2020-05-04 19:23:40</td>\n",
       "      <td>1 days 10:38:42</td>\n",
       "    </tr>\n",
       "  </tbody>\n",
       "</table>\n",
       "</div>"
      ],
      "text/plain": [
       "       event_datetime             event building_type  \\\n",
       "0 2020-05-04 19:47:29  finished_stage_1           NaN   \n",
       "1 2020-05-05 13:22:09  finished_stage_1           NaN   \n",
       "2 2020-05-05 18:54:37  finished_stage_1           NaN   \n",
       "3 2020-05-05 21:27:29  finished_stage_1           NaN   \n",
       "4 2020-05-06 06:02:22  finished_stage_1           NaN   \n",
       "\n",
       "                                user_id project_type_x      win_type  \\\n",
       "0  ced7b368-818f-48f6-9461-2346de0892c5            NaN  enemy_defeat   \n",
       "1  7ef7fc89-2779-46ea-b328-9e5035b83af5            NaN  enemy_defeat   \n",
       "2  70db22b3-c2f4-43bc-94ea-51c8d2904a29            NaN  enemy_defeat   \n",
       "3  903fc9ef-ba97-4b12-9d5c-ac8d602fbd8b            NaN  enemy_defeat   \n",
       "4  58e077ba-feb1-4556-a5a0-d96bd04efa39            NaN  enemy_defeat   \n",
       "\n",
       "   build_count    first_event_time  time_to_finish  \n",
       "0            2 2020-05-04 00:13:21 0 days 19:34:08  \n",
       "1            2 2020-05-04 00:22:48 1 days 12:59:21  \n",
       "2            2 2020-05-04 13:41:55 1 days 05:12:42  \n",
       "3            3 2020-05-04 00:57:02 1 days 20:30:27  \n",
       "4            2 2020-05-04 19:23:40 1 days 10:38:42  "
      ]
     },
     "execution_count": 53,
     "metadata": {},
     "output_type": "execute_result"
    }
   ],
   "source": [
    "finished_stage_1['time_to_finish'] = finished_stage_1['event_datetime'] - finished_stage_1['first_event_time']\n",
    "finished_stage_1.head()"
   ]
  },
  {
   "cell_type": "markdown",
   "id": "44483413",
   "metadata": {},
   "source": [
    "Добавим время прохождения уровня в секундах и выделим две группы по которым будем сравнивать:"
   ]
  },
  {
   "cell_type": "code",
   "execution_count": 54,
   "id": "55fb0f24",
   "metadata": {},
   "outputs": [],
   "source": [
    "finished_stage_1['time_to_finish_sec'] = finished_stage_1['time_to_finish'].dt.total_seconds()"
   ]
  },
  {
   "cell_type": "code",
   "execution_count": 55,
   "id": "854f4cce",
   "metadata": {},
   "outputs": [
    {
     "data": {
      "text/html": [
       "<div>\n",
       "<style scoped>\n",
       "    .dataframe tbody tr th:only-of-type {\n",
       "        vertical-align: middle;\n",
       "    }\n",
       "\n",
       "    .dataframe tbody tr th {\n",
       "        vertical-align: top;\n",
       "    }\n",
       "\n",
       "    .dataframe thead th {\n",
       "        text-align: right;\n",
       "    }\n",
       "</style>\n",
       "<table border=\"1\" class=\"dataframe\">\n",
       "  <thead>\n",
       "    <tr style=\"text-align: right;\">\n",
       "      <th></th>\n",
       "      <th>event_datetime</th>\n",
       "      <th>event</th>\n",
       "      <th>building_type</th>\n",
       "      <th>user_id</th>\n",
       "      <th>project_type_x</th>\n",
       "      <th>win_type</th>\n",
       "      <th>build_count</th>\n",
       "      <th>first_event_time</th>\n",
       "      <th>time_to_finish</th>\n",
       "      <th>time_to_finish_sec</th>\n",
       "    </tr>\n",
       "  </thead>\n",
       "  <tbody>\n",
       "    <tr>\n",
       "      <td>5810</td>\n",
       "      <td>2020-06-04 06:44:02</td>\n",
       "      <td>finished_stage_1</td>\n",
       "      <td>NaN</td>\n",
       "      <td>18fc6a86-00e7-4f3e-96da-bdb6d550415c</td>\n",
       "      <td>NaN</td>\n",
       "      <td>enemy_defeat</td>\n",
       "      <td>9</td>\n",
       "      <td>2020-05-04 08:45:09</td>\n",
       "      <td>30 days 21:58:53</td>\n",
       "      <td>2671133.0</td>\n",
       "    </tr>\n",
       "    <tr>\n",
       "      <td>5812</td>\n",
       "      <td>2020-06-04 15:50:38</td>\n",
       "      <td>finished_stage_1</td>\n",
       "      <td>NaN</td>\n",
       "      <td>22cce310-fe10-41a2-941b-9c3d63327fea</td>\n",
       "      <td>NaN</td>\n",
       "      <td>enemy_defeat</td>\n",
       "      <td>12</td>\n",
       "      <td>2020-05-04 18:38:25</td>\n",
       "      <td>30 days 21:12:13</td>\n",
       "      <td>2668333.0</td>\n",
       "    </tr>\n",
       "    <tr>\n",
       "      <td>5814</td>\n",
       "      <td>2020-06-05 02:25:12</td>\n",
       "      <td>finished_stage_1</td>\n",
       "      <td>NaN</td>\n",
       "      <td>515c1952-99aa-4bca-a7ea-d0449eb5385a</td>\n",
       "      <td>NaN</td>\n",
       "      <td>enemy_defeat</td>\n",
       "      <td>12</td>\n",
       "      <td>2020-05-07 07:28:50</td>\n",
       "      <td>28 days 18:56:22</td>\n",
       "      <td>2487382.0</td>\n",
       "    </tr>\n",
       "    <tr>\n",
       "      <td>5815</td>\n",
       "      <td>2020-06-05 12:12:27</td>\n",
       "      <td>finished_stage_1</td>\n",
       "      <td>NaN</td>\n",
       "      <td>32572adb-900f-4b5d-a453-1eb1e6d88d8b</td>\n",
       "      <td>NaN</td>\n",
       "      <td>enemy_defeat</td>\n",
       "      <td>16</td>\n",
       "      <td>2020-05-07 05:43:45</td>\n",
       "      <td>29 days 06:28:42</td>\n",
       "      <td>2528922.0</td>\n",
       "    </tr>\n",
       "    <tr>\n",
       "      <td>5816</td>\n",
       "      <td>2020-06-05 12:32:49</td>\n",
       "      <td>finished_stage_1</td>\n",
       "      <td>NaN</td>\n",
       "      <td>f21d179f-1c4b-437e-b9c6-ab1976907195</td>\n",
       "      <td>NaN</td>\n",
       "      <td>enemy_defeat</td>\n",
       "      <td>12</td>\n",
       "      <td>2020-05-06 02:56:25</td>\n",
       "      <td>30 days 09:36:24</td>\n",
       "      <td>2626584.0</td>\n",
       "    </tr>\n",
       "  </tbody>\n",
       "</table>\n",
       "</div>"
      ],
      "text/plain": [
       "          event_datetime             event building_type  \\\n",
       "5810 2020-06-04 06:44:02  finished_stage_1           NaN   \n",
       "5812 2020-06-04 15:50:38  finished_stage_1           NaN   \n",
       "5814 2020-06-05 02:25:12  finished_stage_1           NaN   \n",
       "5815 2020-06-05 12:12:27  finished_stage_1           NaN   \n",
       "5816 2020-06-05 12:32:49  finished_stage_1           NaN   \n",
       "\n",
       "                                   user_id project_type_x      win_type  \\\n",
       "5810  18fc6a86-00e7-4f3e-96da-bdb6d550415c            NaN  enemy_defeat   \n",
       "5812  22cce310-fe10-41a2-941b-9c3d63327fea            NaN  enemy_defeat   \n",
       "5814  515c1952-99aa-4bca-a7ea-d0449eb5385a            NaN  enemy_defeat   \n",
       "5815  32572adb-900f-4b5d-a453-1eb1e6d88d8b            NaN  enemy_defeat   \n",
       "5816  f21d179f-1c4b-437e-b9c6-ab1976907195            NaN  enemy_defeat   \n",
       "\n",
       "      build_count    first_event_time   time_to_finish  time_to_finish_sec  \n",
       "5810            9 2020-05-04 08:45:09 30 days 21:58:53           2671133.0  \n",
       "5812           12 2020-05-04 18:38:25 30 days 21:12:13           2668333.0  \n",
       "5814           12 2020-05-07 07:28:50 28 days 18:56:22           2487382.0  \n",
       "5815           16 2020-05-07 05:43:45 29 days 06:28:42           2528922.0  \n",
       "5816           12 2020-05-06 02:56:25 30 days 09:36:24           2626584.0  "
      ]
     },
     "execution_count": 55,
     "metadata": {},
     "output_type": "execute_result"
    }
   ],
   "source": [
    "finished_def = finished_stage_1.query('user_id in @defeat_user_id')\n",
    "finished_def.tail()"
   ]
  },
  {
   "cell_type": "code",
   "execution_count": 56,
   "id": "e2d94de0",
   "metadata": {},
   "outputs": [
    {
     "data": {
      "text/html": [
       "<div>\n",
       "<style scoped>\n",
       "    .dataframe tbody tr th:only-of-type {\n",
       "        vertical-align: middle;\n",
       "    }\n",
       "\n",
       "    .dataframe tbody tr th {\n",
       "        vertical-align: top;\n",
       "    }\n",
       "\n",
       "    .dataframe thead th {\n",
       "        text-align: right;\n",
       "    }\n",
       "</style>\n",
       "<table border=\"1\" class=\"dataframe\">\n",
       "  <thead>\n",
       "    <tr style=\"text-align: right;\">\n",
       "      <th></th>\n",
       "      <th>event_datetime</th>\n",
       "      <th>event</th>\n",
       "      <th>building_type</th>\n",
       "      <th>user_id</th>\n",
       "      <th>project_type_x</th>\n",
       "      <th>win_type</th>\n",
       "      <th>build_count</th>\n",
       "      <th>first_event_time</th>\n",
       "      <th>time_to_finish</th>\n",
       "      <th>time_to_finish_sec</th>\n",
       "    </tr>\n",
       "  </thead>\n",
       "  <tbody>\n",
       "    <tr>\n",
       "      <td>118</td>\n",
       "      <td>2020-05-10 02:37:50</td>\n",
       "      <td>finished_stage_1</td>\n",
       "      <td>NaN</td>\n",
       "      <td>9e57e5bb-49f4-4efb-991c-747d7a88e446</td>\n",
       "      <td>NaN</td>\n",
       "      <td>satellite_orbital_assembly</td>\n",
       "      <td>11</td>\n",
       "      <td>2020-05-04 12:13:36</td>\n",
       "      <td>5 days 14:24:14</td>\n",
       "      <td>483854.0</td>\n",
       "    </tr>\n",
       "    <tr>\n",
       "      <td>157</td>\n",
       "      <td>2020-05-10 10:30:22</td>\n",
       "      <td>finished_stage_1</td>\n",
       "      <td>NaN</td>\n",
       "      <td>e3c66498-9d45-4000-9392-f81e6796e7da</td>\n",
       "      <td>NaN</td>\n",
       "      <td>satellite_orbital_assembly</td>\n",
       "      <td>12</td>\n",
       "      <td>2020-05-04 06:50:30</td>\n",
       "      <td>6 days 03:39:52</td>\n",
       "      <td>531592.0</td>\n",
       "    </tr>\n",
       "    <tr>\n",
       "      <td>176</td>\n",
       "      <td>2020-05-10 14:40:04</td>\n",
       "      <td>finished_stage_1</td>\n",
       "      <td>NaN</td>\n",
       "      <td>a4491c86-c498-4f74-a56e-65c136d0e9a1</td>\n",
       "      <td>NaN</td>\n",
       "      <td>satellite_orbital_assembly</td>\n",
       "      <td>12</td>\n",
       "      <td>2020-05-04 01:42:30</td>\n",
       "      <td>6 days 12:57:34</td>\n",
       "      <td>565054.0</td>\n",
       "    </tr>\n",
       "    <tr>\n",
       "      <td>271</td>\n",
       "      <td>2020-05-11 02:10:33</td>\n",
       "      <td>finished_stage_1</td>\n",
       "      <td>NaN</td>\n",
       "      <td>9f63fad6-17b0-493f-938b-8d19e6d6c38c</td>\n",
       "      <td>NaN</td>\n",
       "      <td>satellite_orbital_assembly</td>\n",
       "      <td>15</td>\n",
       "      <td>2020-05-04 06:39:33</td>\n",
       "      <td>6 days 19:31:00</td>\n",
       "      <td>588660.0</td>\n",
       "    </tr>\n",
       "    <tr>\n",
       "      <td>334</td>\n",
       "      <td>2020-05-11 08:37:32</td>\n",
       "      <td>finished_stage_1</td>\n",
       "      <td>NaN</td>\n",
       "      <td>ee21905b-ab5a-44c6-9196-e5c9f8fada19</td>\n",
       "      <td>NaN</td>\n",
       "      <td>satellite_orbital_assembly</td>\n",
       "      <td>11</td>\n",
       "      <td>2020-05-04 01:40:19</td>\n",
       "      <td>7 days 06:57:13</td>\n",
       "      <td>629833.0</td>\n",
       "    </tr>\n",
       "  </tbody>\n",
       "</table>\n",
       "</div>"
      ],
      "text/plain": [
       "         event_datetime             event building_type  \\\n",
       "118 2020-05-10 02:37:50  finished_stage_1           NaN   \n",
       "157 2020-05-10 10:30:22  finished_stage_1           NaN   \n",
       "176 2020-05-10 14:40:04  finished_stage_1           NaN   \n",
       "271 2020-05-11 02:10:33  finished_stage_1           NaN   \n",
       "334 2020-05-11 08:37:32  finished_stage_1           NaN   \n",
       "\n",
       "                                  user_id project_type_x  \\\n",
       "118  9e57e5bb-49f4-4efb-991c-747d7a88e446            NaN   \n",
       "157  e3c66498-9d45-4000-9392-f81e6796e7da            NaN   \n",
       "176  a4491c86-c498-4f74-a56e-65c136d0e9a1            NaN   \n",
       "271  9f63fad6-17b0-493f-938b-8d19e6d6c38c            NaN   \n",
       "334  ee21905b-ab5a-44c6-9196-e5c9f8fada19            NaN   \n",
       "\n",
       "                       win_type  build_count    first_event_time  \\\n",
       "118  satellite_orbital_assembly           11 2020-05-04 12:13:36   \n",
       "157  satellite_orbital_assembly           12 2020-05-04 06:50:30   \n",
       "176  satellite_orbital_assembly           12 2020-05-04 01:42:30   \n",
       "271  satellite_orbital_assembly           15 2020-05-04 06:39:33   \n",
       "334  satellite_orbital_assembly           11 2020-05-04 01:40:19   \n",
       "\n",
       "     time_to_finish  time_to_finish_sec  \n",
       "118 5 days 14:24:14            483854.0  \n",
       "157 6 days 03:39:52            531592.0  \n",
       "176 6 days 12:57:34            565054.0  \n",
       "271 6 days 19:31:00            588660.0  \n",
       "334 7 days 06:57:13            629833.0  "
      ]
     },
     "execution_count": 56,
     "metadata": {},
     "output_type": "execute_result"
    }
   ],
   "source": [
    "finished_proj = finished_stage_1.query('user_id in @project_user_id')\n",
    "finished_proj.head()"
   ]
  },
  {
   "cell_type": "code",
   "execution_count": 57,
   "id": "c16c971d",
   "metadata": {},
   "outputs": [
    {
     "name": "stdout",
     "output_type": "stream",
     "text": [
      "11 days 02:30:24.076183\n",
      "13 days 11:00:49.135048\n"
     ]
    }
   ],
   "source": [
    "print(finished_def['time_to_finish'].mean())\n",
    "print(finished_proj['time_to_finish'].mean())"
   ]
  },
  {
   "cell_type": "markdown",
   "id": "71c28e0f",
   "metadata": {},
   "source": [
    "И так, у игроков завершивших уровень реализацией проекта на прохождение уровня уходит 13,5 дней. У одолевших противника на прохождение уровня уходит в среднем 11 дней."
   ]
  },
  {
   "cell_type": "markdown",
   "id": "c6596125",
   "metadata": {},
   "source": [
    "Проверим гипотезу о равенстве средних двух полученных совокупностей.\n",
    "\n",
    " - H0: Среднее время прохождения уровня у группы победивших противника и группы завершивших проект не отличается.\n",
    " - H1: Среднее время прохождения уровня у группы победивших противника и группы завершивших проект различаются."
   ]
  },
  {
   "cell_type": "code",
   "execution_count": 58,
   "id": "9fe72eb8",
   "metadata": {},
   "outputs": [
    {
     "name": "stdout",
     "output_type": "stream",
     "text": [
      "p-значение: 7.256845329495443e-98\n",
      "Отвергаем нулевую гипотезу\n"
     ]
    }
   ],
   "source": [
    "# критический уровень статистической значимости\n",
    "alpha = 0.05\n",
    "# если p-value окажется меньше него - отвергнем гипотезу\n",
    "\n",
    "results = st.ttest_ind(finished_def['time_to_finish_sec'], finished_proj['time_to_finish_sec'], equal_var = True)\n",
    "\n",
    "print('p-значение:', results.pvalue)\n",
    "\n",
    "if results.pvalue < alpha:\n",
    "    print('Отвергаем нулевую гипотезу')\n",
    "else:\n",
    "    print('Не получилось отвергнуть нулевую гипотезу')"
   ]
  },
  {
   "cell_type": "markdown",
   "id": "ba730146",
   "metadata": {},
   "source": [
    "Между выборками есть статистически значимая разница"
   ]
  },
  {
   "cell_type": "markdown",
   "id": "4984a110",
   "metadata": {},
   "source": [
    "### 2 гипотеза: о разнице в количестве зданий за время прохождения уровня"
   ]
  },
  {
   "cell_type": "code",
   "execution_count": 59,
   "id": "029ce57d",
   "metadata": {},
   "outputs": [],
   "source": [
    "finished_def = finished_stage_1.query('user_id in @defeat_user_id')\n",
    "finished_proj = finished_stage_1.query('user_id in @project_user_id')"
   ]
  },
  {
   "cell_type": "code",
   "execution_count": 60,
   "id": "26457f9a",
   "metadata": {},
   "outputs": [
    {
     "name": "stdout",
     "output_type": "stream",
     "text": [
      "Игроки, завершившие проект, в среднем построили - 9.411541381928625\n",
      "Игроки, победившие другого игрока, в среднем построили - 12.64790996784566\n"
     ]
    }
   ],
   "source": [
    "print(\"Игроки, завершившие проект, в среднем построили -\", finished_def['build_count'].mean())\n",
    "print(\"Игроки, победившие другого игрока, в среднем построили -\", finished_proj['build_count'].mean())"
   ]
  },
  {
   "cell_type": "markdown",
   "id": "b2e76f9e",
   "metadata": {},
   "source": [
    "Проверим статистическую гипотезу о равенсте средних по количеству построенных зданий между двумя группами.\n",
    "\n",
    " - H0: Среднее количество построенных зданий прохождения уровня у группы победивших противника и группы завершивших проект не отличается.\n",
    " - H1: Среднее количество построенных зданий прохождения уровня у группы победивших противника и группы завершивших проект различаются."
   ]
  },
  {
   "cell_type": "code",
   "execution_count": 61,
   "id": "e64ab9aa",
   "metadata": {},
   "outputs": [
    {
     "data": {
      "text/plain": [
       "0        2.0\n",
       "1        2.0\n",
       "2        2.0\n",
       "3        3.0\n",
       "4        2.0\n",
       "        ... \n",
       "5810     9.0\n",
       "5812    12.0\n",
       "5814    12.0\n",
       "5815    16.0\n",
       "5816    12.0\n",
       "Name: build_count, Length: 3951, dtype: float64"
      ]
     },
     "execution_count": 61,
     "metadata": {},
     "output_type": "execute_result"
    }
   ],
   "source": [
    "finished_def['build_count'].astype(float)"
   ]
  },
  {
   "cell_type": "code",
   "execution_count": 62,
   "id": "12becbcc",
   "metadata": {},
   "outputs": [
    {
     "data": {
      "text/plain": [
       "118     11.0\n",
       "157     12.0\n",
       "176     12.0\n",
       "271     15.0\n",
       "334     11.0\n",
       "        ... \n",
       "5804    15.0\n",
       "5805    13.0\n",
       "5807    12.0\n",
       "5811    13.0\n",
       "5813    13.0\n",
       "Name: build_count, Length: 1866, dtype: float64"
      ]
     },
     "execution_count": 62,
     "metadata": {},
     "output_type": "execute_result"
    }
   ],
   "source": [
    "finished_proj['build_count'].astype(float)"
   ]
  },
  {
   "cell_type": "code",
   "execution_count": 63,
   "id": "8c889af0",
   "metadata": {},
   "outputs": [
    {
     "name": "stdout",
     "output_type": "stream",
     "text": [
      "p-значение: 0.0\n",
      "Отвергаем нулевую гипотезу\n"
     ]
    }
   ],
   "source": [
    "# критический уровень статистической значимости\n",
    "alpha = 0.05\n",
    "# если p-value окажется меньше него - отвергнем гипотезу\n",
    "\n",
    "results = st.ttest_ind(finished_def['build_count'], finished_proj['build_count'], equal_var = True)\n",
    "\n",
    "print('p-значение:', results.pvalue)\n",
    "\n",
    "if results.pvalue < alpha:\n",
    "    print('Отвергаем нулевую гипотезу')\n",
    "else:\n",
    "    print('Не получилось отвергнуть нулевую гипотезу')"
   ]
  },
  {
   "cell_type": "markdown",
   "id": "69ce5209",
   "metadata": {},
   "source": [
    "В количестве построенных зданий между двумя группами есть статистически значимая разница. Игроки, завершившие уровень реализацией проекта, строят зданий больше "
   ]
  },
  {
   "cell_type": "markdown",
   "id": "57a90aea",
   "metadata": {},
   "source": [
    "**Вывод**\n",
    " - Проверив первую гипотезу мы убедились что у игроков завершивших уровень через  PVE (13,5 дней)  уходит времени больше, чем у тех кто проходит через PVP (11 дней). Между двумя группами действительно есть значительная статистическая разница по времени прохождения уровня.\n",
    " - По второй гипотезе мы убедились что гроки реализовавшие проект, построили больше зданий, чем те кто завершил уровень победой над противником. В среднем при прохождении с проектом 12,6 зданий, при победе над врагом - 9,4 здания.\n",
    " "
   ]
  },
  {
   "cell_type": "markdown",
   "id": "0de6d0e6",
   "metadata": {},
   "source": [
    "## Шаг 5. Разработка модели монетизации"
   ]
  },
  {
   "cell_type": "code",
   "execution_count": 64,
   "id": "d27c3c8d",
   "metadata": {},
   "outputs": [
    {
     "data": {
      "text/html": [
       "<div>\n",
       "<style scoped>\n",
       "    .dataframe tbody tr th:only-of-type {\n",
       "        vertical-align: middle;\n",
       "    }\n",
       "\n",
       "    .dataframe tbody tr th {\n",
       "        vertical-align: top;\n",
       "    }\n",
       "\n",
       "    .dataframe thead th {\n",
       "        text-align: right;\n",
       "    }\n",
       "</style>\n",
       "<table border=\"1\" class=\"dataframe\">\n",
       "  <thead>\n",
       "    <tr style=\"text-align: right;\">\n",
       "      <th></th>\n",
       "      <th>source</th>\n",
       "      <th>day</th>\n",
       "      <th>cost</th>\n",
       "    </tr>\n",
       "  </thead>\n",
       "  <tbody>\n",
       "    <tr>\n",
       "      <td>0</td>\n",
       "      <td>facebook_ads</td>\n",
       "      <td>2020-05-03</td>\n",
       "      <td>935.882786</td>\n",
       "    </tr>\n",
       "    <tr>\n",
       "      <td>1</td>\n",
       "      <td>facebook_ads</td>\n",
       "      <td>2020-05-04</td>\n",
       "      <td>548.354480</td>\n",
       "    </tr>\n",
       "    <tr>\n",
       "      <td>2</td>\n",
       "      <td>facebook_ads</td>\n",
       "      <td>2020-05-05</td>\n",
       "      <td>260.185754</td>\n",
       "    </tr>\n",
       "    <tr>\n",
       "      <td>3</td>\n",
       "      <td>facebook_ads</td>\n",
       "      <td>2020-05-06</td>\n",
       "      <td>177.982200</td>\n",
       "    </tr>\n",
       "    <tr>\n",
       "      <td>4</td>\n",
       "      <td>facebook_ads</td>\n",
       "      <td>2020-05-07</td>\n",
       "      <td>111.766796</td>\n",
       "    </tr>\n",
       "  </tbody>\n",
       "</table>\n",
       "</div>"
      ],
      "text/plain": [
       "         source        day        cost\n",
       "0  facebook_ads 2020-05-03  935.882786\n",
       "1  facebook_ads 2020-05-04  548.354480\n",
       "2  facebook_ads 2020-05-05  260.185754\n",
       "3  facebook_ads 2020-05-06  177.982200\n",
       "4  facebook_ads 2020-05-07  111.766796"
      ]
     },
     "execution_count": 64,
     "metadata": {},
     "output_type": "execute_result"
    }
   ],
   "source": [
    "ad_costs.head()"
   ]
  },
  {
   "cell_type": "code",
   "execution_count": 65,
   "id": "2ba4cc2d",
   "metadata": {},
   "outputs": [
    {
     "name": "stdout",
     "output_type": "stream",
     "text": [
      "На привлечение одного пользователья 0.56\n"
     ]
    }
   ],
   "source": [
    "cac = ad_costs['cost'].sum()/len(game_actions['user_id'].unique())\n",
    "print(\"На привлечение одного пользователья %.2f\" %cac)"
   ]
  },
  {
   "cell_type": "markdown",
   "id": "3b8418f8",
   "metadata": {},
   "source": [
    "Посмотрим на динамику событий по дням:"
   ]
  },
  {
   "cell_type": "code",
   "execution_count": 66,
   "id": "7d80cf2d",
   "metadata": {},
   "outputs": [
    {
     "data": {
      "text/plain": [
       "event_date\n",
       "2020-05-04     8171\n",
       "2020-05-05     9055\n",
       "2020-05-06     9925\n",
       "2020-05-07    10858\n",
       "2020-05-08    12059\n",
       "2020-05-09    13129\n",
       "2020-05-10    15207\n",
       "2020-05-11     8185\n",
       "2020-05-12     7918\n",
       "2020-05-13     7624\n",
       "2020-05-14     6830\n",
       "2020-05-15     5952\n",
       "2020-05-16     5099\n",
       "2020-05-17     3955\n",
       "2020-05-18     2847\n",
       "2020-05-19     2319\n",
       "2020-05-20     1837\n",
       "2020-05-21     1370\n",
       "2020-05-22      946\n",
       "2020-05-23      707\n",
       "2020-05-24      491\n",
       "2020-05-25      382\n",
       "2020-05-26      262\n",
       "2020-05-27      180\n",
       "2020-05-28      118\n",
       "2020-05-29       79\n",
       "2020-05-30       44\n",
       "2020-05-31       29\n",
       "2020-06-01       20\n",
       "2020-06-02       15\n",
       "2020-06-03       11\n",
       "2020-06-04       10\n",
       "2020-06-05        5\n",
       "Name: event, dtype: int64"
      ]
     },
     "execution_count": 66,
     "metadata": {},
     "output_type": "execute_result"
    }
   ],
   "source": [
    "game_actions['event_date'] = game_actions['event_datetime'].dt.date\n",
    "game_event_date = game_actions.groupby('event_date')['event'].count()\n",
    "game_event_date"
   ]
  },
  {
   "cell_type": "markdown",
   "id": "95ac8ebb",
   "metadata": {},
   "source": [
    "Самый пик приходится на 10 мая (15207 событий), после этого идет явный спад. Это говорит о том что основная часть пользователей либо завершила уровень, либо забросили игру. Посмотрим сколько зданий построили игроки: "
   ]
  },
  {
   "cell_type": "code",
   "execution_count": 67,
   "id": "789f0468",
   "metadata": {},
   "outputs": [
    {
     "data": {
      "text/html": [
       "<div>\n",
       "<style scoped>\n",
       "    .dataframe tbody tr th:only-of-type {\n",
       "        vertical-align: middle;\n",
       "    }\n",
       "\n",
       "    .dataframe tbody tr th {\n",
       "        vertical-align: top;\n",
       "    }\n",
       "\n",
       "    .dataframe thead th {\n",
       "        text-align: right;\n",
       "    }\n",
       "</style>\n",
       "<table border=\"1\" class=\"dataframe\">\n",
       "  <thead>\n",
       "    <tr style=\"text-align: right;\">\n",
       "      <th></th>\n",
       "      <th>user_id</th>\n",
       "      <th>event</th>\n",
       "    </tr>\n",
       "  </thead>\n",
       "  <tbody>\n",
       "    <tr>\n",
       "      <td>0</td>\n",
       "      <td>0001f83c-c6ac-4621-b7f0-8a28b283ac30</td>\n",
       "      <td>13</td>\n",
       "    </tr>\n",
       "    <tr>\n",
       "      <td>1</td>\n",
       "      <td>00151b4f-ba38-44a8-a650-d7cf130a0105</td>\n",
       "      <td>9</td>\n",
       "    </tr>\n",
       "    <tr>\n",
       "      <td>2</td>\n",
       "      <td>001aaea6-3d14-43f1-8ca8-7f48820f17aa</td>\n",
       "      <td>4</td>\n",
       "    </tr>\n",
       "    <tr>\n",
       "      <td>3</td>\n",
       "      <td>001d39dc-366c-4021-9604-6a3b9ff01e25</td>\n",
       "      <td>8</td>\n",
       "    </tr>\n",
       "    <tr>\n",
       "      <td>4</td>\n",
       "      <td>002f508f-67b6-479f-814b-b05f00d4e995</td>\n",
       "      <td>12</td>\n",
       "    </tr>\n",
       "    <tr>\n",
       "      <td>...</td>\n",
       "      <td>...</td>\n",
       "      <td>...</td>\n",
       "    </tr>\n",
       "    <tr>\n",
       "      <td>13571</td>\n",
       "      <td>ffef4fed-164c-40e1-bde1-3980f76d0fb5</td>\n",
       "      <td>9</td>\n",
       "    </tr>\n",
       "    <tr>\n",
       "      <td>13572</td>\n",
       "      <td>fffab3da-da0e-4e30-ae62-10d0a2e24a4e</td>\n",
       "      <td>16</td>\n",
       "    </tr>\n",
       "    <tr>\n",
       "      <td>13573</td>\n",
       "      <td>fffb626c-5ab6-47c9-8113-2062a2f18494</td>\n",
       "      <td>9</td>\n",
       "    </tr>\n",
       "    <tr>\n",
       "      <td>13574</td>\n",
       "      <td>ffff194a-56b7-4c12-860d-3485242ae7f5</td>\n",
       "      <td>7</td>\n",
       "    </tr>\n",
       "    <tr>\n",
       "      <td>13575</td>\n",
       "      <td>ffff69cc-fec1-4fd3-9f98-93be1112a6b8</td>\n",
       "      <td>12</td>\n",
       "    </tr>\n",
       "  </tbody>\n",
       "</table>\n",
       "<p>13576 rows × 2 columns</p>\n",
       "</div>"
      ],
      "text/plain": [
       "                                    user_id  event\n",
       "0      0001f83c-c6ac-4621-b7f0-8a28b283ac30     13\n",
       "1      00151b4f-ba38-44a8-a650-d7cf130a0105      9\n",
       "2      001aaea6-3d14-43f1-8ca8-7f48820f17aa      4\n",
       "3      001d39dc-366c-4021-9604-6a3b9ff01e25      8\n",
       "4      002f508f-67b6-479f-814b-b05f00d4e995     12\n",
       "...                                     ...    ...\n",
       "13571  ffef4fed-164c-40e1-bde1-3980f76d0fb5      9\n",
       "13572  fffab3da-da0e-4e30-ae62-10d0a2e24a4e     16\n",
       "13573  fffb626c-5ab6-47c9-8113-2062a2f18494      9\n",
       "13574  ffff194a-56b7-4c12-860d-3485242ae7f5      7\n",
       "13575  ffff69cc-fec1-4fd3-9f98-93be1112a6b8     12\n",
       "\n",
       "[13576 rows x 2 columns]"
      ]
     },
     "execution_count": 67,
     "metadata": {},
     "output_type": "execute_result"
    }
   ],
   "source": [
    "buildings = game_actions.query('event == \"building\"').groupby('user_id')['event'].count().reset_index()\n",
    "buildings"
   ]
  },
  {
   "cell_type": "code",
   "execution_count": 68,
   "id": "74df9850",
   "metadata": {},
   "outputs": [
    {
     "name": "stdout",
     "output_type": "stream",
     "text": [
      "В среднем игроки построили 9.43 зданий\n"
     ]
    }
   ],
   "source": [
    "print(\"В среднем игроки построили %.2f\" %buildings['event'].mean(), \"зданий\")"
   ]
  },
  {
   "cell_type": "markdown",
   "id": "319996c0",
   "metadata": {},
   "source": [
    "Посчитаем, сколько показов рекламы нужно для покрытия стоимости привлечения одного игрока.\n",
    "Стоимость одного показа рекламы в нашей игре - 7 центов."
   ]
  },
  {
   "cell_type": "code",
   "execution_count": 69,
   "id": "6384574e",
   "metadata": {},
   "outputs": [
    {
     "name": "stdout",
     "output_type": "stream",
     "text": [
      "Для окупаемости привлечения одного игрока нужно показать ему рекламу 8 раз\n"
     ]
    }
   ],
   "source": [
    "ad_show = 0.07\n",
    "print(\"Для окупаемости привлечения одного игрока нужно показать ему рекламу %.0f\" %(cac/ad_show), \"раз\")"
   ]
  },
  {
   "cell_type": "code",
   "execution_count": 70,
   "id": "b6674c89",
   "metadata": {},
   "outputs": [
    {
     "data": {
      "text/html": [
       "<div>\n",
       "<style scoped>\n",
       "    .dataframe tbody tr th:only-of-type {\n",
       "        vertical-align: middle;\n",
       "    }\n",
       "\n",
       "    .dataframe tbody tr th {\n",
       "        vertical-align: top;\n",
       "    }\n",
       "\n",
       "    .dataframe thead th {\n",
       "        text-align: right;\n",
       "    }\n",
       "</style>\n",
       "<table border=\"1\" class=\"dataframe\">\n",
       "  <thead>\n",
       "    <tr style=\"text-align: right;\">\n",
       "      <th></th>\n",
       "      <th>user_id</th>\n",
       "      <th>event</th>\n",
       "      <th>income</th>\n",
       "    </tr>\n",
       "  </thead>\n",
       "  <tbody>\n",
       "    <tr>\n",
       "      <td>0</td>\n",
       "      <td>0001f83c-c6ac-4621-b7f0-8a28b283ac30</td>\n",
       "      <td>13</td>\n",
       "      <td>0.84</td>\n",
       "    </tr>\n",
       "    <tr>\n",
       "      <td>1</td>\n",
       "      <td>00151b4f-ba38-44a8-a650-d7cf130a0105</td>\n",
       "      <td>9</td>\n",
       "      <td>0.56</td>\n",
       "    </tr>\n",
       "    <tr>\n",
       "      <td>2</td>\n",
       "      <td>001aaea6-3d14-43f1-8ca8-7f48820f17aa</td>\n",
       "      <td>4</td>\n",
       "      <td>0.21</td>\n",
       "    </tr>\n",
       "    <tr>\n",
       "      <td>3</td>\n",
       "      <td>001d39dc-366c-4021-9604-6a3b9ff01e25</td>\n",
       "      <td>8</td>\n",
       "      <td>0.49</td>\n",
       "    </tr>\n",
       "    <tr>\n",
       "      <td>4</td>\n",
       "      <td>002f508f-67b6-479f-814b-b05f00d4e995</td>\n",
       "      <td>12</td>\n",
       "      <td>0.77</td>\n",
       "    </tr>\n",
       "  </tbody>\n",
       "</table>\n",
       "</div>"
      ],
      "text/plain": [
       "                                user_id  event  income\n",
       "0  0001f83c-c6ac-4621-b7f0-8a28b283ac30     13    0.84\n",
       "1  00151b4f-ba38-44a8-a650-d7cf130a0105      9    0.56\n",
       "2  001aaea6-3d14-43f1-8ca8-7f48820f17aa      4    0.21\n",
       "3  001d39dc-366c-4021-9604-6a3b9ff01e25      8    0.49\n",
       "4  002f508f-67b6-479f-814b-b05f00d4e995     12    0.77"
      ]
     },
     "execution_count": 70,
     "metadata": {},
     "output_type": "execute_result"
    }
   ],
   "source": [
    "buildings['income'] = ((buildings['event'] - 1).clip(0))*ad_show\n",
    "buildings.head()"
   ]
  },
  {
   "cell_type": "code",
   "execution_count": 71,
   "id": "078de77c",
   "metadata": {},
   "outputs": [
    {
     "name": "stdout",
     "output_type": "stream",
     "text": [
      "Если показывать рекламу начиная с постройки 2 здания, примерный доход составит - 8006.6\n"
     ]
    }
   ],
   "source": [
    "income  = buildings['income'].sum()\n",
    "print(\"Если показывать рекламу начиная с постройки 2 здания, примерный доход составит - %.1f\" %income)"
   ]
  },
  {
   "cell_type": "markdown",
   "id": "0bae6b0f",
   "metadata": {},
   "source": [
    "Посчитаем суммарные расходы на привлечение игроков:"
   ]
  },
  {
   "cell_type": "code",
   "execution_count": 72,
   "id": "24893152",
   "metadata": {},
   "outputs": [
    {
     "name": "stdout",
     "output_type": "stream",
     "text": [
      "На привлечение игроков потратили 7603.6\n"
     ]
    }
   ],
   "source": [
    "cost = ad_costs['cost'].sum()\n",
    "print(\"На привлечение игроков потратили %.1f\" %cost)"
   ]
  },
  {
   "cell_type": "markdown",
   "id": "1871515b",
   "metadata": {},
   "source": [
    "Оценим прибыль нашей модели:"
   ]
  },
  {
   "cell_type": "code",
   "execution_count": 73,
   "id": "7486e20a",
   "metadata": {},
   "outputs": [
    {
     "name": "stdout",
     "output_type": "stream",
     "text": [
      "Наша прибыль - 5.3 %\n"
     ]
    }
   ],
   "source": [
    "total_income = ((income - cost)/cost)*100\n",
    "print(\"Наша прибыль - %.1f\" %total_income, \"%\")"
   ]
  },
  {
   "cell_type": "markdown",
   "id": "d9644880",
   "metadata": {},
   "source": [
    "Посмотрим что будет если показывать рекламу 6 раз из 7"
   ]
  },
  {
   "cell_type": "code",
   "execution_count": 74,
   "id": "dcc46fd4",
   "metadata": {},
   "outputs": [
    {
     "name": "stdout",
     "output_type": "stream",
     "text": [
      "Маркетинговые расходы составят - 7677.4\n"
     ]
    }
   ],
   "source": [
    "ad_display_ratio = 6/7\n",
    "ad_display_total = buildings['event'].sum() * ad_display_ratio * ad_show\n",
    "print(\"Маркетинговые расходы составят - %.1f\" %ad_display_total)"
   ]
  },
  {
   "cell_type": "markdown",
   "id": "71ceee5e",
   "metadata": {},
   "source": [
    "При такой модели маркетинговые расходы также окупились. Однако при этой модели многие игроки будут видеть рекламу начиная с первой постройки, некоторым реклама может попадать при каждой постройке здания. Первая модель выглядит предпочтительнее"
   ]
  },
  {
   "cell_type": "markdown",
   "id": "3e9762ce",
   "metadata": {},
   "source": [
    "**Вывод:**\n",
    "\n",
    "Рекомендуемая модель монетизации: показывать игрокам рекламу при постройке зданий начиная со второго здания.\n",
    "При такой модели расходы на привлечение игроков первой когорты окупились бы и принесли небольшую прибыль"
   ]
  },
  {
   "cell_type": "markdown",
   "id": "b1291d04",
   "metadata": {},
   "source": [
    "## Шаг 6. Общие выводы и рекоммендации."
   ]
  },
  {
   "cell_type": "markdown",
   "id": "444dc442",
   "metadata": {},
   "source": [
    "По первой когорте примерно в два раза больше игроков завершают уровень победой над врагом, чем реализацией проекта. 3951 игрок завершил уровень победой над врагом, 1866 - реализацией проекта.\n",
    "\n",
    "Среди построек на 1 месте космопорт (27920), на 2 месте сборочный цех(25414), на 3 - исследовательский центр(7452). Очевидно, что игроков сильно меньше чем построенных зданий. Значит каждый мог построить одно или больше строений. Игроки, завершившие первый уровень, построили от 2 до 20 зданий, в среднем по 10,5 зданий.\n",
    "\n",
    "Судя по средним значениям, у игроков, завершивших уровень реализацией проекта, уходит больше времени - 13,5 дней. У одолевших противника на прохождение уровня уходит в среднем 11 дней. По результатам проведения t-етста между двумя группами действительно есть статистически значимая разница во времени прохождения уровня.\n",
    "\n",
    "Рекомендуемая модель монетизации: показывать игрокам рекламу при постройке зданий начиная со второго здания. При такой модели расходы на привлечение игроков первой когорты окупились бы и принесли прибыль в 5,3%.\n",
    "Однако для окупаемости рекламу нужно будет показывать практически при каждой постройке здания. Возможно, стоит рассмотреть вариант переноса части показов на другие экраны/события, например показывать рекламу при завершении уровня."
   ]
  },
  {
   "cell_type": "markdown",
   "id": "cf369d23",
   "metadata": {},
   "source": [
    " - Презентация - https://disk.yandex.ru/i/_0c8OOnUrF52Uw\n",
    " - Дашборд - https://public.tableau.com/app/profile/sergey3585/viz/SpaceBrothers_16461624333900/sheet0"
   ]
  }
 ],
 "metadata": {
  "ExecuteTimeLog": [
   {
    "duration": 1513,
    "start_time": "2022-03-02T07:43:45.426Z"
   },
   {
    "duration": 1912,
    "start_time": "2022-03-02T07:43:46.942Z"
   },
   {
    "duration": -146,
    "start_time": "2022-03-02T07:43:49.006Z"
   },
   {
    "duration": -149,
    "start_time": "2022-03-02T07:43:49.011Z"
   },
   {
    "duration": -151,
    "start_time": "2022-03-02T07:43:49.014Z"
   },
   {
    "duration": -152,
    "start_time": "2022-03-02T07:43:49.017Z"
   },
   {
    "duration": -154,
    "start_time": "2022-03-02T07:43:49.020Z"
   },
   {
    "duration": -155,
    "start_time": "2022-03-02T07:43:49.023Z"
   },
   {
    "duration": -157,
    "start_time": "2022-03-02T07:43:49.026Z"
   },
   {
    "duration": -159,
    "start_time": "2022-03-02T07:43:49.030Z"
   },
   {
    "duration": -160,
    "start_time": "2022-03-02T07:43:49.032Z"
   },
   {
    "duration": -161,
    "start_time": "2022-03-02T07:43:49.035Z"
   },
   {
    "duration": -162,
    "start_time": "2022-03-02T07:43:49.038Z"
   },
   {
    "duration": -169,
    "start_time": "2022-03-02T07:43:49.046Z"
   },
   {
    "duration": -170,
    "start_time": "2022-03-02T07:43:49.048Z"
   },
   {
    "duration": -171,
    "start_time": "2022-03-02T07:43:49.051Z"
   },
   {
    "duration": -172,
    "start_time": "2022-03-02T07:43:49.054Z"
   },
   {
    "duration": -173,
    "start_time": "2022-03-02T07:43:49.056Z"
   },
   {
    "duration": -174,
    "start_time": "2022-03-02T07:43:49.058Z"
   },
   {
    "duration": -174,
    "start_time": "2022-03-02T07:43:49.060Z"
   },
   {
    "duration": -175,
    "start_time": "2022-03-02T07:43:49.062Z"
   },
   {
    "duration": -175,
    "start_time": "2022-03-02T07:43:49.064Z"
   },
   {
    "duration": -176,
    "start_time": "2022-03-02T07:43:49.066Z"
   },
   {
    "duration": -177,
    "start_time": "2022-03-02T07:43:49.069Z"
   },
   {
    "duration": -178,
    "start_time": "2022-03-02T07:43:49.071Z"
   },
   {
    "duration": -178,
    "start_time": "2022-03-02T07:43:49.073Z"
   },
   {
    "duration": -182,
    "start_time": "2022-03-02T07:43:49.078Z"
   },
   {
    "duration": -190,
    "start_time": "2022-03-02T07:43:49.088Z"
   },
   {
    "duration": -191,
    "start_time": "2022-03-02T07:43:49.090Z"
   },
   {
    "duration": -191,
    "start_time": "2022-03-02T07:43:49.092Z"
   },
   {
    "duration": -192,
    "start_time": "2022-03-02T07:43:49.094Z"
   },
   {
    "duration": -192,
    "start_time": "2022-03-02T07:43:49.096Z"
   },
   {
    "duration": -202,
    "start_time": "2022-03-02T07:43:49.107Z"
   },
   {
    "duration": -201,
    "start_time": "2022-03-02T07:43:49.108Z"
   },
   {
    "duration": -202,
    "start_time": "2022-03-02T07:43:49.110Z"
   },
   {
    "duration": -203,
    "start_time": "2022-03-02T07:43:49.113Z"
   },
   {
    "duration": -203,
    "start_time": "2022-03-02T07:43:49.114Z"
   },
   {
    "duration": -204,
    "start_time": "2022-03-02T07:43:49.117Z"
   },
   {
    "duration": -203,
    "start_time": "2022-03-02T07:43:49.118Z"
   },
   {
    "duration": -216,
    "start_time": "2022-03-02T07:43:49.132Z"
   },
   {
    "duration": -216,
    "start_time": "2022-03-02T07:43:49.134Z"
   },
   {
    "duration": -217,
    "start_time": "2022-03-02T07:43:49.136Z"
   },
   {
    "duration": -217,
    "start_time": "2022-03-02T07:43:49.138Z"
   },
   {
    "duration": -156,
    "start_time": "2022-03-02T07:43:49.139Z"
   },
   {
    "duration": -164,
    "start_time": "2022-03-02T07:43:49.148Z"
   },
   {
    "duration": -323,
    "start_time": "2022-03-02T07:43:49.309Z"
   },
   {
    "duration": -450,
    "start_time": "2022-03-02T07:43:49.438Z"
   },
   {
    "duration": -477,
    "start_time": "2022-03-02T07:43:49.466Z"
   },
   {
    "duration": -477,
    "start_time": "2022-03-02T07:43:49.468Z"
   },
   {
    "duration": -477,
    "start_time": "2022-03-02T07:43:49.470Z"
   },
   {
    "duration": -477,
    "start_time": "2022-03-02T07:43:49.471Z"
   },
   {
    "duration": -477,
    "start_time": "2022-03-02T07:43:49.473Z"
   },
   {
    "duration": -478,
    "start_time": "2022-03-02T07:43:49.475Z"
   },
   {
    "duration": -478,
    "start_time": "2022-03-02T07:43:49.477Z"
   },
   {
    "duration": -478,
    "start_time": "2022-03-02T07:43:49.478Z"
   },
   {
    "duration": -478,
    "start_time": "2022-03-02T07:43:49.480Z"
   },
   {
    "duration": -478,
    "start_time": "2022-03-02T07:43:49.481Z"
   },
   {
    "duration": -478,
    "start_time": "2022-03-02T07:43:49.483Z"
   },
   {
    "duration": -479,
    "start_time": "2022-03-02T07:43:49.485Z"
   },
   {
    "duration": -479,
    "start_time": "2022-03-02T07:43:49.487Z"
   },
   {
    "duration": -479,
    "start_time": "2022-03-02T07:43:49.488Z"
   },
   {
    "duration": -479,
    "start_time": "2022-03-02T07:43:49.490Z"
   },
   {
    "duration": -479,
    "start_time": "2022-03-02T07:43:49.491Z"
   },
   {
    "duration": -480,
    "start_time": "2022-03-02T07:43:49.493Z"
   },
   {
    "duration": -480,
    "start_time": "2022-03-02T07:43:49.494Z"
   },
   {
    "duration": -480,
    "start_time": "2022-03-02T07:43:49.496Z"
   },
   {
    "duration": -481,
    "start_time": "2022-03-02T07:43:49.498Z"
   },
   {
    "duration": -482,
    "start_time": "2022-03-02T07:43:49.500Z"
   },
   {
    "duration": -481,
    "start_time": "2022-03-02T07:43:49.501Z"
   },
   {
    "duration": -421,
    "start_time": "2022-03-02T07:43:49.503Z"
   },
   {
    "duration": -422,
    "start_time": "2022-03-02T07:43:49.505Z"
   },
   {
    "duration": -428,
    "start_time": "2022-03-02T07:43:49.513Z"
   },
   {
    "duration": -429,
    "start_time": "2022-03-02T07:43:49.515Z"
   },
   {
    "duration": 773,
    "start_time": "2022-03-02T07:47:26.835Z"
   },
   {
    "duration": 1699,
    "start_time": "2022-03-02T07:47:32.469Z"
   },
   {
    "duration": 295,
    "start_time": "2022-03-02T07:47:34.172Z"
   },
   {
    "duration": 19,
    "start_time": "2022-03-02T07:47:34.470Z"
   },
   {
    "duration": 14,
    "start_time": "2022-03-02T07:47:34.492Z"
   },
   {
    "duration": 15,
    "start_time": "2022-03-02T07:47:34.509Z"
   },
   {
    "duration": 80,
    "start_time": "2022-03-02T07:47:34.527Z"
   },
   {
    "duration": 38,
    "start_time": "2022-03-02T07:47:34.610Z"
   },
   {
    "duration": 68,
    "start_time": "2022-03-02T07:47:34.652Z"
   },
   {
    "duration": 73,
    "start_time": "2022-03-02T07:47:34.723Z"
   },
   {
    "duration": 14,
    "start_time": "2022-03-02T07:47:34.799Z"
   },
   {
    "duration": 32,
    "start_time": "2022-03-02T07:47:34.815Z"
   },
   {
    "duration": 96,
    "start_time": "2022-03-02T07:47:34.849Z"
   },
   {
    "duration": 96,
    "start_time": "2022-03-02T07:47:34.948Z"
   },
   {
    "duration": 92,
    "start_time": "2022-03-02T07:47:35.046Z"
   },
   {
    "duration": 78,
    "start_time": "2022-03-02T07:47:35.140Z"
   },
   {
    "duration": 6,
    "start_time": "2022-03-02T07:47:35.221Z"
   },
   {
    "duration": 35,
    "start_time": "2022-03-02T07:47:35.229Z"
   },
   {
    "duration": 30,
    "start_time": "2022-03-02T07:47:35.267Z"
   },
   {
    "duration": 36,
    "start_time": "2022-03-02T07:47:35.299Z"
   },
   {
    "duration": 39,
    "start_time": "2022-03-02T07:47:35.338Z"
   },
   {
    "duration": 14,
    "start_time": "2022-03-02T07:47:35.380Z"
   },
   {
    "duration": 14,
    "start_time": "2022-03-02T07:47:35.397Z"
   },
   {
    "duration": 17,
    "start_time": "2022-03-02T07:47:35.416Z"
   },
   {
    "duration": 7,
    "start_time": "2022-03-02T07:47:35.437Z"
   },
   {
    "duration": 7,
    "start_time": "2022-03-02T07:47:35.446Z"
   },
   {
    "duration": 29,
    "start_time": "2022-03-02T07:47:35.455Z"
   },
   {
    "duration": 16,
    "start_time": "2022-03-02T07:47:35.487Z"
   },
   {
    "duration": 6,
    "start_time": "2022-03-02T07:47:35.506Z"
   },
   {
    "duration": 21,
    "start_time": "2022-03-02T07:47:35.514Z"
   },
   {
    "duration": 4,
    "start_time": "2022-03-02T07:47:35.539Z"
   },
   {
    "duration": 45,
    "start_time": "2022-03-02T07:47:35.545Z"
   },
   {
    "duration": 8,
    "start_time": "2022-03-02T07:47:35.592Z"
   },
   {
    "duration": 17,
    "start_time": "2022-03-02T07:47:35.602Z"
   },
   {
    "duration": 14,
    "start_time": "2022-03-02T07:47:35.622Z"
   },
   {
    "duration": 45,
    "start_time": "2022-03-02T07:47:35.639Z"
   },
   {
    "duration": 138,
    "start_time": "2022-03-02T07:47:35.686Z"
   },
   {
    "duration": 29,
    "start_time": "2022-03-02T07:47:35.827Z"
   },
   {
    "duration": 286,
    "start_time": "2022-03-02T07:47:35.859Z"
   },
   {
    "duration": 57,
    "start_time": "2022-03-02T07:47:36.148Z"
   },
   {
    "duration": 269,
    "start_time": "2022-03-02T07:47:36.208Z"
   },
   {
    "duration": 66,
    "start_time": "2022-03-02T07:47:36.479Z"
   },
   {
    "duration": 48,
    "start_time": "2022-03-02T07:47:36.548Z"
   },
   {
    "duration": 6,
    "start_time": "2022-03-02T07:47:36.599Z"
   },
   {
    "duration": 8,
    "start_time": "2022-03-02T07:47:36.608Z"
   },
   {
    "duration": 353,
    "start_time": "2022-03-02T07:47:36.619Z"
   },
   {
    "duration": -137,
    "start_time": "2022-03-02T07:47:37.111Z"
   },
   {
    "duration": -141,
    "start_time": "2022-03-02T07:47:37.117Z"
   },
   {
    "duration": -146,
    "start_time": "2022-03-02T07:47:37.123Z"
   },
   {
    "duration": -150,
    "start_time": "2022-03-02T07:47:37.128Z"
   },
   {
    "duration": -151,
    "start_time": "2022-03-02T07:47:37.131Z"
   },
   {
    "duration": -153,
    "start_time": "2022-03-02T07:47:37.134Z"
   },
   {
    "duration": -155,
    "start_time": "2022-03-02T07:47:37.137Z"
   },
   {
    "duration": -155,
    "start_time": "2022-03-02T07:47:37.139Z"
   },
   {
    "duration": -157,
    "start_time": "2022-03-02T07:47:37.142Z"
   },
   {
    "duration": -158,
    "start_time": "2022-03-02T07:47:37.145Z"
   },
   {
    "duration": -159,
    "start_time": "2022-03-02T07:47:37.147Z"
   },
   {
    "duration": -159,
    "start_time": "2022-03-02T07:47:37.149Z"
   },
   {
    "duration": -161,
    "start_time": "2022-03-02T07:47:37.152Z"
   },
   {
    "duration": -161,
    "start_time": "2022-03-02T07:47:37.154Z"
   },
   {
    "duration": -163,
    "start_time": "2022-03-02T07:47:37.157Z"
   },
   {
    "duration": -163,
    "start_time": "2022-03-02T07:47:37.159Z"
   },
   {
    "duration": -168,
    "start_time": "2022-03-02T07:47:37.165Z"
   },
   {
    "duration": -168,
    "start_time": "2022-03-02T07:47:37.167Z"
   },
   {
    "duration": -169,
    "start_time": "2022-03-02T07:47:37.169Z"
   },
   {
    "duration": -169,
    "start_time": "2022-03-02T07:47:37.170Z"
   },
   {
    "duration": -169,
    "start_time": "2022-03-02T07:47:37.172Z"
   },
   {
    "duration": -169,
    "start_time": "2022-03-02T07:47:37.173Z"
   },
   {
    "duration": -169,
    "start_time": "2022-03-02T07:47:37.175Z"
   },
   {
    "duration": -170,
    "start_time": "2022-03-02T07:47:37.177Z"
   },
   {
    "duration": -170,
    "start_time": "2022-03-02T07:47:37.179Z"
   },
   {
    "duration": -171,
    "start_time": "2022-03-02T07:47:37.181Z"
   },
   {
    "duration": 1682,
    "start_time": "2022-03-02T08:11:22.762Z"
   },
   {
    "duration": 271,
    "start_time": "2022-03-02T08:11:24.448Z"
   },
   {
    "duration": 15,
    "start_time": "2022-03-02T08:11:24.723Z"
   },
   {
    "duration": 13,
    "start_time": "2022-03-02T08:11:24.742Z"
   },
   {
    "duration": 30,
    "start_time": "2022-03-02T08:11:24.758Z"
   },
   {
    "duration": 43,
    "start_time": "2022-03-02T08:11:24.791Z"
   },
   {
    "duration": 65,
    "start_time": "2022-03-02T08:11:24.837Z"
   },
   {
    "duration": 51,
    "start_time": "2022-03-02T08:11:24.904Z"
   },
   {
    "duration": 61,
    "start_time": "2022-03-02T08:11:24.959Z"
   },
   {
    "duration": 15,
    "start_time": "2022-03-02T08:11:25.023Z"
   },
   {
    "duration": 48,
    "start_time": "2022-03-02T08:11:25.040Z"
   },
   {
    "duration": 71,
    "start_time": "2022-03-02T08:11:25.091Z"
   },
   {
    "duration": 95,
    "start_time": "2022-03-02T08:11:25.164Z"
   },
   {
    "duration": 83,
    "start_time": "2022-03-02T08:11:25.261Z"
   },
   {
    "duration": 79,
    "start_time": "2022-03-02T08:11:25.347Z"
   },
   {
    "duration": 6,
    "start_time": "2022-03-02T08:11:25.428Z"
   },
   {
    "duration": 26,
    "start_time": "2022-03-02T08:11:25.436Z"
   },
   {
    "duration": 23,
    "start_time": "2022-03-02T08:11:25.464Z"
   },
   {
    "duration": 29,
    "start_time": "2022-03-02T08:11:25.490Z"
   },
   {
    "duration": 20,
    "start_time": "2022-03-02T08:11:25.522Z"
   },
   {
    "duration": 25,
    "start_time": "2022-03-02T08:11:25.544Z"
   },
   {
    "duration": 22,
    "start_time": "2022-03-02T08:11:25.571Z"
   },
   {
    "duration": 29,
    "start_time": "2022-03-02T08:11:25.595Z"
   },
   {
    "duration": 27,
    "start_time": "2022-03-02T08:11:25.626Z"
   },
   {
    "duration": 23,
    "start_time": "2022-03-02T08:11:25.655Z"
   },
   {
    "duration": 19,
    "start_time": "2022-03-02T08:11:25.680Z"
   },
   {
    "duration": 14,
    "start_time": "2022-03-02T08:11:25.706Z"
   },
   {
    "duration": 6,
    "start_time": "2022-03-02T08:11:25.724Z"
   },
   {
    "duration": 24,
    "start_time": "2022-03-02T08:11:25.732Z"
   },
   {
    "duration": 24,
    "start_time": "2022-03-02T08:11:25.759Z"
   },
   {
    "duration": 20,
    "start_time": "2022-03-02T08:11:25.785Z"
   },
   {
    "duration": 7,
    "start_time": "2022-03-02T08:11:25.807Z"
   },
   {
    "duration": 9,
    "start_time": "2022-03-02T08:11:25.816Z"
   },
   {
    "duration": 10,
    "start_time": "2022-03-02T08:11:25.828Z"
   },
   {
    "duration": 48,
    "start_time": "2022-03-02T08:11:25.841Z"
   },
   {
    "duration": 138,
    "start_time": "2022-03-02T08:11:25.891Z"
   },
   {
    "duration": 29,
    "start_time": "2022-03-02T08:11:26.031Z"
   },
   {
    "duration": 273,
    "start_time": "2022-03-02T08:11:26.062Z"
   },
   {
    "duration": 66,
    "start_time": "2022-03-02T08:11:26.338Z"
   },
   {
    "duration": 280,
    "start_time": "2022-03-02T08:11:26.406Z"
   },
   {
    "duration": 65,
    "start_time": "2022-03-02T08:11:26.688Z"
   },
   {
    "duration": 39,
    "start_time": "2022-03-02T08:11:26.755Z"
   },
   {
    "duration": 4,
    "start_time": "2022-03-02T08:11:26.797Z"
   },
   {
    "duration": 23,
    "start_time": "2022-03-02T08:11:26.804Z"
   },
   {
    "duration": 20,
    "start_time": "2022-03-02T08:11:26.829Z"
   },
   {
    "duration": 19,
    "start_time": "2022-03-02T08:11:26.852Z"
   },
   {
    "duration": 34,
    "start_time": "2022-03-02T08:11:26.874Z"
   },
   {
    "duration": 25,
    "start_time": "2022-03-02T08:11:26.911Z"
   },
   {
    "duration": 45,
    "start_time": "2022-03-02T08:11:26.940Z"
   },
   {
    "duration": 7,
    "start_time": "2022-03-02T08:11:26.988Z"
   },
   {
    "duration": 27,
    "start_time": "2022-03-02T08:11:26.997Z"
   },
   {
    "duration": 21,
    "start_time": "2022-03-02T08:11:27.026Z"
   },
   {
    "duration": 6,
    "start_time": "2022-03-02T08:11:27.082Z"
   },
   {
    "duration": 9,
    "start_time": "2022-03-02T08:11:27.090Z"
   },
   {
    "duration": 18,
    "start_time": "2022-03-02T08:11:27.102Z"
   },
   {
    "duration": 8,
    "start_time": "2022-03-02T08:11:27.123Z"
   },
   {
    "duration": 16,
    "start_time": "2022-03-02T08:11:27.132Z"
   },
   {
    "duration": 34,
    "start_time": "2022-03-02T08:11:27.151Z"
   },
   {
    "duration": 13,
    "start_time": "2022-03-02T08:11:27.188Z"
   },
   {
    "duration": 14,
    "start_time": "2022-03-02T08:11:27.203Z"
   },
   {
    "duration": 24,
    "start_time": "2022-03-02T08:11:27.219Z"
   },
   {
    "duration": 151,
    "start_time": "2022-03-02T08:11:27.245Z"
   },
   {
    "duration": 85,
    "start_time": "2022-03-02T08:11:27.398Z"
   },
   {
    "duration": 5,
    "start_time": "2022-03-02T08:11:27.486Z"
   },
   {
    "duration": 15,
    "start_time": "2022-03-02T08:11:27.493Z"
   },
   {
    "duration": 18,
    "start_time": "2022-03-02T08:11:27.510Z"
   },
   {
    "duration": 4,
    "start_time": "2022-03-02T08:11:27.530Z"
   },
   {
    "duration": 12,
    "start_time": "2022-03-02T08:11:27.536Z"
   },
   {
    "duration": 34,
    "start_time": "2022-03-02T08:11:27.550Z"
   },
   {
    "duration": 12,
    "start_time": "2022-03-02T08:11:27.586Z"
   },
   {
    "duration": 1100,
    "start_time": "2022-03-02T09:40:00.865Z"
   },
   {
    "duration": 1077,
    "start_time": "2022-03-02T09:40:49.703Z"
   },
   {
    "duration": 1117,
    "start_time": "2022-03-02T09:42:21.246Z"
   },
   {
    "duration": 1297,
    "start_time": "2022-03-02T09:43:29.295Z"
   },
   {
    "duration": 23119,
    "start_time": "2022-03-02T09:43:30.593Z"
   },
   {
    "duration": 1509,
    "start_time": "2022-03-02T09:43:53.715Z"
   },
   {
    "duration": 4,
    "start_time": "2022-03-02T09:43:55.225Z"
   },
   {
    "duration": -3,
    "start_time": "2022-03-02T09:43:55.233Z"
   },
   {
    "duration": -8,
    "start_time": "2022-03-02T09:43:55.242Z"
   },
   {
    "duration": -20,
    "start_time": "2022-03-02T09:43:55.255Z"
   },
   {
    "duration": -27,
    "start_time": "2022-03-02T09:43:55.263Z"
   },
   {
    "duration": -34,
    "start_time": "2022-03-02T09:43:55.271Z"
   },
   {
    "duration": -41,
    "start_time": "2022-03-02T09:43:55.279Z"
   },
   {
    "duration": -57,
    "start_time": "2022-03-02T09:43:55.296Z"
   },
   {
    "duration": -66,
    "start_time": "2022-03-02T09:43:55.306Z"
   },
   {
    "duration": -101,
    "start_time": "2022-03-02T09:43:55.342Z"
   },
   {
    "duration": -116,
    "start_time": "2022-03-02T09:43:55.357Z"
   },
   {
    "duration": -128,
    "start_time": "2022-03-02T09:43:55.370Z"
   },
   {
    "duration": -137,
    "start_time": "2022-03-02T09:43:55.380Z"
   },
   {
    "duration": -152,
    "start_time": "2022-03-02T09:43:55.396Z"
   },
   {
    "duration": -163,
    "start_time": "2022-03-02T09:43:55.408Z"
   },
   {
    "duration": -170,
    "start_time": "2022-03-02T09:43:55.416Z"
   },
   {
    "duration": -177,
    "start_time": "2022-03-02T09:43:55.425Z"
   },
   {
    "duration": -186,
    "start_time": "2022-03-02T09:43:55.435Z"
   },
   {
    "duration": -193,
    "start_time": "2022-03-02T09:43:55.443Z"
   },
   {
    "duration": -197,
    "start_time": "2022-03-02T09:43:55.449Z"
   },
   {
    "duration": -203,
    "start_time": "2022-03-02T09:43:55.456Z"
   },
   {
    "duration": -207,
    "start_time": "2022-03-02T09:43:55.461Z"
   },
   {
    "duration": -212,
    "start_time": "2022-03-02T09:43:55.468Z"
   },
   {
    "duration": -216,
    "start_time": "2022-03-02T09:43:55.473Z"
   },
   {
    "duration": -221,
    "start_time": "2022-03-02T09:43:55.479Z"
   },
   {
    "duration": -225,
    "start_time": "2022-03-02T09:43:55.484Z"
   },
   {
    "duration": -230,
    "start_time": "2022-03-02T09:43:55.490Z"
   },
   {
    "duration": -234,
    "start_time": "2022-03-02T09:43:55.495Z"
   },
   {
    "duration": -238,
    "start_time": "2022-03-02T09:43:55.500Z"
   },
   {
    "duration": -244,
    "start_time": "2022-03-02T09:43:55.507Z"
   },
   {
    "duration": -248,
    "start_time": "2022-03-02T09:43:55.513Z"
   },
   {
    "duration": -254,
    "start_time": "2022-03-02T09:43:55.520Z"
   },
   {
    "duration": -260,
    "start_time": "2022-03-02T09:43:55.527Z"
   },
   {
    "duration": -286,
    "start_time": "2022-03-02T09:43:55.555Z"
   },
   {
    "duration": -291,
    "start_time": "2022-03-02T09:43:55.561Z"
   },
   {
    "duration": -235,
    "start_time": "2022-03-02T09:43:55.567Z"
   },
   {
    "duration": -240,
    "start_time": "2022-03-02T09:43:55.573Z"
   },
   {
    "duration": -245,
    "start_time": "2022-03-02T09:43:55.579Z"
   },
   {
    "duration": -251,
    "start_time": "2022-03-02T09:43:55.585Z"
   },
   {
    "duration": -257,
    "start_time": "2022-03-02T09:43:55.592Z"
   },
   {
    "duration": -262,
    "start_time": "2022-03-02T09:43:55.598Z"
   },
   {
    "duration": -267,
    "start_time": "2022-03-02T09:43:55.604Z"
   },
   {
    "duration": -272,
    "start_time": "2022-03-02T09:43:55.610Z"
   },
   {
    "duration": -277,
    "start_time": "2022-03-02T09:43:55.615Z"
   },
   {
    "duration": -282,
    "start_time": "2022-03-02T09:43:55.621Z"
   },
   {
    "duration": -287,
    "start_time": "2022-03-02T09:43:55.627Z"
   },
   {
    "duration": -291,
    "start_time": "2022-03-02T09:43:55.632Z"
   },
   {
    "duration": -296,
    "start_time": "2022-03-02T09:43:55.638Z"
   },
   {
    "duration": -301,
    "start_time": "2022-03-02T09:43:55.644Z"
   },
   {
    "duration": -303,
    "start_time": "2022-03-02T09:43:55.649Z"
   },
   {
    "duration": -308,
    "start_time": "2022-03-02T09:43:55.655Z"
   },
   {
    "duration": -313,
    "start_time": "2022-03-02T09:43:55.661Z"
   },
   {
    "duration": -318,
    "start_time": "2022-03-02T09:43:55.667Z"
   },
   {
    "duration": -324,
    "start_time": "2022-03-02T09:43:55.674Z"
   },
   {
    "duration": -329,
    "start_time": "2022-03-02T09:43:55.680Z"
   },
   {
    "duration": -333,
    "start_time": "2022-03-02T09:43:55.685Z"
   },
   {
    "duration": -337,
    "start_time": "2022-03-02T09:43:55.690Z"
   },
   {
    "duration": -342,
    "start_time": "2022-03-02T09:43:55.696Z"
   },
   {
    "duration": -346,
    "start_time": "2022-03-02T09:43:55.701Z"
   },
   {
    "duration": -351,
    "start_time": "2022-03-02T09:43:55.707Z"
   },
   {
    "duration": -357,
    "start_time": "2022-03-02T09:43:55.714Z"
   },
   {
    "duration": -364,
    "start_time": "2022-03-02T09:43:55.721Z"
   },
   {
    "duration": -370,
    "start_time": "2022-03-02T09:43:55.728Z"
   },
   {
    "duration": -374,
    "start_time": "2022-03-02T09:43:55.734Z"
   },
   {
    "duration": -379,
    "start_time": "2022-03-02T09:43:55.740Z"
   },
   {
    "duration": -386,
    "start_time": "2022-03-02T09:43:55.747Z"
   },
   {
    "duration": -392,
    "start_time": "2022-03-02T09:43:55.754Z"
   },
   {
    "duration": -398,
    "start_time": "2022-03-02T09:43:55.761Z"
   },
   {
    "duration": -403,
    "start_time": "2022-03-02T09:43:55.767Z"
   },
   {
    "duration": -408,
    "start_time": "2022-03-02T09:43:55.773Z"
   },
   {
    "duration": -415,
    "start_time": "2022-03-02T09:43:55.780Z"
   },
   {
    "duration": 1028,
    "start_time": "2022-03-02T09:44:56.387Z"
   },
   {
    "duration": 6991,
    "start_time": "2022-03-02T09:44:57.417Z"
   },
   {
    "duration": 1380,
    "start_time": "2022-03-02T09:45:04.411Z"
   },
   {
    "duration": -67,
    "start_time": "2022-03-02T09:45:05.861Z"
   },
   {
    "duration": -81,
    "start_time": "2022-03-02T09:45:05.876Z"
   },
   {
    "duration": -117,
    "start_time": "2022-03-02T09:45:05.913Z"
   },
   {
    "duration": -147,
    "start_time": "2022-03-02T09:45:05.944Z"
   },
   {
    "duration": -168,
    "start_time": "2022-03-02T09:45:05.966Z"
   },
   {
    "duration": -187,
    "start_time": "2022-03-02T09:45:05.986Z"
   },
   {
    "duration": -207,
    "start_time": "2022-03-02T09:45:06.007Z"
   },
   {
    "duration": -226,
    "start_time": "2022-03-02T09:45:06.026Z"
   },
   {
    "duration": -233,
    "start_time": "2022-03-02T09:45:06.034Z"
   },
   {
    "duration": -238,
    "start_time": "2022-03-02T09:45:06.040Z"
   },
   {
    "duration": -244,
    "start_time": "2022-03-02T09:45:06.046Z"
   },
   {
    "duration": -249,
    "start_time": "2022-03-02T09:45:06.052Z"
   },
   {
    "duration": -254,
    "start_time": "2022-03-02T09:45:06.058Z"
   },
   {
    "duration": -258,
    "start_time": "2022-03-02T09:45:06.064Z"
   },
   {
    "duration": -264,
    "start_time": "2022-03-02T09:45:06.070Z"
   },
   {
    "duration": -270,
    "start_time": "2022-03-02T09:45:06.077Z"
   },
   {
    "duration": -275,
    "start_time": "2022-03-02T09:45:06.083Z"
   },
   {
    "duration": -280,
    "start_time": "2022-03-02T09:45:06.089Z"
   },
   {
    "duration": -284,
    "start_time": "2022-03-02T09:45:06.095Z"
   },
   {
    "duration": -288,
    "start_time": "2022-03-02T09:45:06.100Z"
   },
   {
    "duration": -293,
    "start_time": "2022-03-02T09:45:06.106Z"
   },
   {
    "duration": -299,
    "start_time": "2022-03-02T09:45:06.113Z"
   },
   {
    "duration": -303,
    "start_time": "2022-03-02T09:45:06.118Z"
   },
   {
    "duration": -325,
    "start_time": "2022-03-02T09:45:06.141Z"
   },
   {
    "duration": -330,
    "start_time": "2022-03-02T09:45:06.147Z"
   },
   {
    "duration": -337,
    "start_time": "2022-03-02T09:45:06.155Z"
   },
   {
    "duration": -342,
    "start_time": "2022-03-02T09:45:06.160Z"
   },
   {
    "duration": -346,
    "start_time": "2022-03-02T09:45:06.166Z"
   },
   {
    "duration": -351,
    "start_time": "2022-03-02T09:45:06.172Z"
   },
   {
    "duration": -355,
    "start_time": "2022-03-02T09:45:06.177Z"
   },
   {
    "duration": -362,
    "start_time": "2022-03-02T09:45:06.184Z"
   },
   {
    "duration": -368,
    "start_time": "2022-03-02T09:45:06.191Z"
   },
   {
    "duration": -373,
    "start_time": "2022-03-02T09:45:06.197Z"
   },
   {
    "duration": -379,
    "start_time": "2022-03-02T09:45:06.204Z"
   },
   {
    "duration": -385,
    "start_time": "2022-03-02T09:45:06.211Z"
   },
   {
    "duration": -390,
    "start_time": "2022-03-02T09:45:06.217Z"
   },
   {
    "duration": -396,
    "start_time": "2022-03-02T09:45:06.224Z"
   },
   {
    "duration": -401,
    "start_time": "2022-03-02T09:45:06.230Z"
   },
   {
    "duration": -406,
    "start_time": "2022-03-02T09:45:06.236Z"
   },
   {
    "duration": -448,
    "start_time": "2022-03-02T09:45:06.279Z"
   },
   {
    "duration": -463,
    "start_time": "2022-03-02T09:45:06.295Z"
   },
   {
    "duration": -474,
    "start_time": "2022-03-02T09:45:06.307Z"
   },
   {
    "duration": -474,
    "start_time": "2022-03-02T09:45:06.314Z"
   },
   {
    "duration": -486,
    "start_time": "2022-03-02T09:45:06.327Z"
   },
   {
    "duration": -493,
    "start_time": "2022-03-02T09:45:06.336Z"
   },
   {
    "duration": -501,
    "start_time": "2022-03-02T09:45:06.345Z"
   },
   {
    "duration": -510,
    "start_time": "2022-03-02T09:45:06.356Z"
   },
   {
    "duration": -544,
    "start_time": "2022-03-02T09:45:06.391Z"
   },
   {
    "duration": -549,
    "start_time": "2022-03-02T09:45:06.397Z"
   },
   {
    "duration": -558,
    "start_time": "2022-03-02T09:45:06.407Z"
   },
   {
    "duration": -562,
    "start_time": "2022-03-02T09:45:06.412Z"
   },
   {
    "duration": -570,
    "start_time": "2022-03-02T09:45:06.421Z"
   },
   {
    "duration": -575,
    "start_time": "2022-03-02T09:45:06.427Z"
   },
   {
    "duration": -581,
    "start_time": "2022-03-02T09:45:06.434Z"
   },
   {
    "duration": -589,
    "start_time": "2022-03-02T09:45:06.443Z"
   },
   {
    "duration": -596,
    "start_time": "2022-03-02T09:45:06.451Z"
   },
   {
    "duration": -602,
    "start_time": "2022-03-02T09:45:06.458Z"
   },
   {
    "duration": -609,
    "start_time": "2022-03-02T09:45:06.466Z"
   },
   {
    "duration": -618,
    "start_time": "2022-03-02T09:45:06.476Z"
   },
   {
    "duration": -624,
    "start_time": "2022-03-02T09:45:06.483Z"
   },
   {
    "duration": -632,
    "start_time": "2022-03-02T09:45:06.492Z"
   },
   {
    "duration": -639,
    "start_time": "2022-03-02T09:45:06.500Z"
   },
   {
    "duration": -646,
    "start_time": "2022-03-02T09:45:06.508Z"
   },
   {
    "duration": -651,
    "start_time": "2022-03-02T09:45:06.514Z"
   },
   {
    "duration": -655,
    "start_time": "2022-03-02T09:45:06.519Z"
   },
   {
    "duration": -661,
    "start_time": "2022-03-02T09:45:06.526Z"
   },
   {
    "duration": -665,
    "start_time": "2022-03-02T09:45:06.531Z"
   },
   {
    "duration": -671,
    "start_time": "2022-03-02T09:45:06.538Z"
   },
   {
    "duration": -698,
    "start_time": "2022-03-02T09:45:06.566Z"
   },
   {
    "duration": -705,
    "start_time": "2022-03-02T09:45:06.574Z"
   },
   {
    "duration": -710,
    "start_time": "2022-03-02T09:45:06.580Z"
   },
   {
    "duration": 1085,
    "start_time": "2022-03-02T09:45:32.933Z"
   },
   {
    "duration": 8570,
    "start_time": "2022-03-02T09:45:34.020Z"
   },
   {
    "duration": 25,
    "start_time": "2022-03-02T09:45:42.592Z"
   },
   {
    "duration": 11,
    "start_time": "2022-03-02T09:45:42.619Z"
   },
   {
    "duration": 1331,
    "start_time": "2022-03-02T09:45:42.632Z"
   },
   {
    "duration": 24,
    "start_time": "2022-03-02T09:45:43.943Z"
   },
   {
    "duration": 18,
    "start_time": "2022-03-02T09:45:43.950Z"
   },
   {
    "duration": 12,
    "start_time": "2022-03-02T09:45:43.958Z"
   },
   {
    "duration": 7,
    "start_time": "2022-03-02T09:45:43.964Z"
   },
   {
    "duration": 2,
    "start_time": "2022-03-02T09:45:43.970Z"
   },
   {
    "duration": -2,
    "start_time": "2022-03-02T09:45:43.976Z"
   },
   {
    "duration": -7,
    "start_time": "2022-03-02T09:45:43.982Z"
   },
   {
    "duration": -11,
    "start_time": "2022-03-02T09:45:43.988Z"
   },
   {
    "duration": -17,
    "start_time": "2022-03-02T09:45:43.995Z"
   },
   {
    "duration": -22,
    "start_time": "2022-03-02T09:45:44.001Z"
   },
   {
    "duration": -26,
    "start_time": "2022-03-02T09:45:44.007Z"
   },
   {
    "duration": -30,
    "start_time": "2022-03-02T09:45:44.012Z"
   },
   {
    "duration": -36,
    "start_time": "2022-03-02T09:45:44.019Z"
   },
   {
    "duration": -39,
    "start_time": "2022-03-02T09:45:44.024Z"
   },
   {
    "duration": -44,
    "start_time": "2022-03-02T09:45:44.030Z"
   },
   {
    "duration": -64,
    "start_time": "2022-03-02T09:45:44.051Z"
   },
   {
    "duration": -69,
    "start_time": "2022-03-02T09:45:44.058Z"
   },
   {
    "duration": -74,
    "start_time": "2022-03-02T09:45:44.064Z"
   },
   {
    "duration": -83,
    "start_time": "2022-03-02T09:45:44.074Z"
   },
   {
    "duration": -87,
    "start_time": "2022-03-02T09:45:44.080Z"
   },
   {
    "duration": -93,
    "start_time": "2022-03-02T09:45:44.087Z"
   },
   {
    "duration": -98,
    "start_time": "2022-03-02T09:45:44.093Z"
   },
   {
    "duration": -104,
    "start_time": "2022-03-02T09:45:44.101Z"
   },
   {
    "duration": -110,
    "start_time": "2022-03-02T09:45:44.108Z"
   },
   {
    "duration": -115,
    "start_time": "2022-03-02T09:45:44.115Z"
   },
   {
    "duration": -121,
    "start_time": "2022-03-02T09:45:44.122Z"
   },
   {
    "duration": -127,
    "start_time": "2022-03-02T09:45:44.129Z"
   },
   {
    "duration": -131,
    "start_time": "2022-03-02T09:45:44.135Z"
   },
   {
    "duration": -137,
    "start_time": "2022-03-02T09:45:44.142Z"
   },
   {
    "duration": -143,
    "start_time": "2022-03-02T09:45:44.149Z"
   },
   {
    "duration": -167,
    "start_time": "2022-03-02T09:45:44.174Z"
   },
   {
    "duration": -148,
    "start_time": "2022-03-02T09:45:44.180Z"
   },
   {
    "duration": -156,
    "start_time": "2022-03-02T09:45:44.189Z"
   },
   {
    "duration": -161,
    "start_time": "2022-03-02T09:45:44.196Z"
   },
   {
    "duration": -167,
    "start_time": "2022-03-02T09:45:44.203Z"
   },
   {
    "duration": -171,
    "start_time": "2022-03-02T09:45:44.208Z"
   },
   {
    "duration": -178,
    "start_time": "2022-03-02T09:45:44.216Z"
   },
   {
    "duration": -182,
    "start_time": "2022-03-02T09:45:44.221Z"
   },
   {
    "duration": -185,
    "start_time": "2022-03-02T09:45:44.228Z"
   },
   {
    "duration": -187,
    "start_time": "2022-03-02T09:45:44.233Z"
   },
   {
    "duration": -191,
    "start_time": "2022-03-02T09:45:44.238Z"
   },
   {
    "duration": -195,
    "start_time": "2022-03-02T09:45:44.243Z"
   },
   {
    "duration": -198,
    "start_time": "2022-03-02T09:45:44.248Z"
   },
   {
    "duration": -202,
    "start_time": "2022-03-02T09:45:44.253Z"
   },
   {
    "duration": -205,
    "start_time": "2022-03-02T09:45:44.258Z"
   },
   {
    "duration": -298,
    "start_time": "2022-03-02T09:45:44.352Z"
   },
   {
    "duration": -375,
    "start_time": "2022-03-02T09:45:44.430Z"
   },
   {
    "duration": -379,
    "start_time": "2022-03-02T09:45:44.435Z"
   },
   {
    "duration": -384,
    "start_time": "2022-03-02T09:45:44.441Z"
   },
   {
    "duration": -388,
    "start_time": "2022-03-02T09:45:44.446Z"
   },
   {
    "duration": -393,
    "start_time": "2022-03-02T09:45:44.451Z"
   },
   {
    "duration": -397,
    "start_time": "2022-03-02T09:45:44.456Z"
   },
   {
    "duration": -402,
    "start_time": "2022-03-02T09:45:44.462Z"
   },
   {
    "duration": -407,
    "start_time": "2022-03-02T09:45:44.468Z"
   },
   {
    "duration": -412,
    "start_time": "2022-03-02T09:45:44.474Z"
   },
   {
    "duration": -417,
    "start_time": "2022-03-02T09:45:44.479Z"
   },
   {
    "duration": -421,
    "start_time": "2022-03-02T09:45:44.484Z"
   },
   {
    "duration": -440,
    "start_time": "2022-03-02T09:45:44.504Z"
   },
   {
    "duration": -463,
    "start_time": "2022-03-02T09:45:44.528Z"
   },
   {
    "duration": -468,
    "start_time": "2022-03-02T09:45:44.534Z"
   },
   {
    "duration": -476,
    "start_time": "2022-03-02T09:45:44.542Z"
   },
   {
    "duration": -489,
    "start_time": "2022-03-02T09:45:44.556Z"
   },
   {
    "duration": -493,
    "start_time": "2022-03-02T09:45:44.561Z"
   },
   {
    "duration": -498,
    "start_time": "2022-03-02T09:45:44.567Z"
   },
   {
    "duration": -502,
    "start_time": "2022-03-02T09:45:44.572Z"
   },
   {
    "duration": -507,
    "start_time": "2022-03-02T09:45:44.577Z"
   },
   {
    "duration": -516,
    "start_time": "2022-03-02T09:45:44.587Z"
   },
   {
    "duration": -520,
    "start_time": "2022-03-02T09:45:44.592Z"
   },
   {
    "duration": -524,
    "start_time": "2022-03-02T09:45:44.597Z"
   },
   {
    "duration": 1027,
    "start_time": "2022-03-02T09:46:30.688Z"
   },
   {
    "duration": 7079,
    "start_time": "2022-03-02T09:46:31.717Z"
   },
   {
    "duration": 24,
    "start_time": "2022-03-02T09:46:38.798Z"
   },
   {
    "duration": 17,
    "start_time": "2022-03-02T09:46:38.824Z"
   },
   {
    "duration": 16,
    "start_time": "2022-03-02T09:46:38.842Z"
   },
   {
    "duration": 9,
    "start_time": "2022-03-02T09:46:38.860Z"
   },
   {
    "duration": 492,
    "start_time": "2022-03-02T09:46:38.871Z"
   },
   {
    "duration": 9,
    "start_time": "2022-03-02T09:46:39.365Z"
   },
   {
    "duration": 25,
    "start_time": "2022-03-02T09:46:39.376Z"
   },
   {
    "duration": 44,
    "start_time": "2022-03-02T09:46:39.403Z"
   },
   {
    "duration": 32,
    "start_time": "2022-03-02T09:46:39.449Z"
   },
   {
    "duration": 52,
    "start_time": "2022-03-02T09:46:39.483Z"
   },
   {
    "duration": 14,
    "start_time": "2022-03-02T09:46:39.536Z"
   },
   {
    "duration": 23,
    "start_time": "2022-03-02T09:46:39.551Z"
   },
   {
    "duration": 68,
    "start_time": "2022-03-02T09:46:39.575Z"
   },
   {
    "duration": 51,
    "start_time": "2022-03-02T09:46:39.645Z"
   },
   {
    "duration": 76,
    "start_time": "2022-03-02T09:46:39.698Z"
   },
   {
    "duration": 47,
    "start_time": "2022-03-02T09:46:39.775Z"
   },
   {
    "duration": 14,
    "start_time": "2022-03-02T09:46:39.824Z"
   },
   {
    "duration": 14,
    "start_time": "2022-03-02T09:46:39.839Z"
   },
   {
    "duration": 8,
    "start_time": "2022-03-02T09:46:39.855Z"
   },
   {
    "duration": 8,
    "start_time": "2022-03-02T09:46:39.865Z"
   },
   {
    "duration": 6,
    "start_time": "2022-03-02T09:46:39.877Z"
   },
   {
    "duration": 9,
    "start_time": "2022-03-02T09:46:39.885Z"
   },
   {
    "duration": 4,
    "start_time": "2022-03-02T09:46:39.896Z"
   },
   {
    "duration": 9,
    "start_time": "2022-03-02T09:46:39.901Z"
   },
   {
    "duration": 25,
    "start_time": "2022-03-02T09:46:39.912Z"
   },
   {
    "duration": 5,
    "start_time": "2022-03-02T09:46:39.938Z"
   },
   {
    "duration": 16,
    "start_time": "2022-03-02T09:46:39.945Z"
   },
   {
    "duration": 9,
    "start_time": "2022-03-02T09:46:39.963Z"
   },
   {
    "duration": 4,
    "start_time": "2022-03-02T09:46:39.974Z"
   },
   {
    "duration": 13,
    "start_time": "2022-03-02T09:46:39.979Z"
   },
   {
    "duration": 3,
    "start_time": "2022-03-02T09:46:39.993Z"
   },
   {
    "duration": 48,
    "start_time": "2022-03-02T09:46:39.997Z"
   },
   {
    "duration": 5,
    "start_time": "2022-03-02T09:46:40.047Z"
   },
   {
    "duration": 6,
    "start_time": "2022-03-02T09:46:40.053Z"
   },
   {
    "duration": 5,
    "start_time": "2022-03-02T09:46:40.060Z"
   },
   {
    "duration": 18,
    "start_time": "2022-03-02T09:46:40.066Z"
   },
   {
    "duration": 104,
    "start_time": "2022-03-02T09:46:40.086Z"
   },
   {
    "duration": 20,
    "start_time": "2022-03-02T09:46:40.192Z"
   },
   {
    "duration": 167,
    "start_time": "2022-03-02T09:46:40.214Z"
   },
   {
    "duration": 34,
    "start_time": "2022-03-02T09:46:40.383Z"
   },
   {
    "duration": 172,
    "start_time": "2022-03-02T09:46:40.419Z"
   },
   {
    "duration": 58,
    "start_time": "2022-03-02T09:46:40.594Z"
   },
   {
    "duration": 15,
    "start_time": "2022-03-02T09:46:40.654Z"
   },
   {
    "duration": 4,
    "start_time": "2022-03-02T09:46:40.671Z"
   },
   {
    "duration": 5,
    "start_time": "2022-03-02T09:46:40.677Z"
   },
   {
    "duration": 331,
    "start_time": "2022-03-02T09:46:40.683Z"
   },
   {
    "duration": 4,
    "start_time": "2022-03-02T09:46:41.016Z"
   },
   {
    "duration": 12,
    "start_time": "2022-03-02T09:46:41.032Z"
   },
   {
    "duration": 25,
    "start_time": "2022-03-02T09:46:41.046Z"
   },
   {
    "duration": 16,
    "start_time": "2022-03-02T09:46:41.072Z"
   },
   {
    "duration": 12,
    "start_time": "2022-03-02T09:46:41.089Z"
   },
   {
    "duration": 4,
    "start_time": "2022-03-02T09:46:41.103Z"
   },
   {
    "duration": 45,
    "start_time": "2022-03-02T09:46:41.108Z"
   },
   {
    "duration": 14,
    "start_time": "2022-03-02T09:46:41.155Z"
   },
   {
    "duration": 4,
    "start_time": "2022-03-02T09:46:41.171Z"
   },
   {
    "duration": 7,
    "start_time": "2022-03-02T09:46:41.177Z"
   },
   {
    "duration": 10,
    "start_time": "2022-03-02T09:46:41.185Z"
   },
   {
    "duration": 4,
    "start_time": "2022-03-02T09:46:41.197Z"
   },
   {
    "duration": 36,
    "start_time": "2022-03-02T09:46:41.202Z"
   },
   {
    "duration": 14,
    "start_time": "2022-03-02T09:46:41.240Z"
   },
   {
    "duration": 6,
    "start_time": "2022-03-02T09:46:41.255Z"
   },
   {
    "duration": 7,
    "start_time": "2022-03-02T09:46:41.262Z"
   },
   {
    "duration": 18,
    "start_time": "2022-03-02T09:46:41.271Z"
   },
   {
    "duration": 115,
    "start_time": "2022-03-02T09:46:41.290Z"
   },
   {
    "duration": 69,
    "start_time": "2022-03-02T09:46:41.406Z"
   },
   {
    "duration": 4,
    "start_time": "2022-03-02T09:46:41.480Z"
   },
   {
    "duration": 5,
    "start_time": "2022-03-02T09:46:41.485Z"
   },
   {
    "duration": 11,
    "start_time": "2022-03-02T09:46:41.492Z"
   },
   {
    "duration": 4,
    "start_time": "2022-03-02T09:46:41.504Z"
   },
   {
    "duration": 6,
    "start_time": "2022-03-02T09:46:41.541Z"
   },
   {
    "duration": 6,
    "start_time": "2022-03-02T09:46:41.549Z"
   },
   {
    "duration": 6,
    "start_time": "2022-03-02T09:46:41.556Z"
   },
   {
    "duration": 291,
    "start_time": "2022-03-02T10:22:20.691Z"
   },
   {
    "duration": 1111,
    "start_time": "2022-03-02T10:22:29.111Z"
   },
   {
    "duration": 7606,
    "start_time": "2022-03-02T10:22:30.224Z"
   },
   {
    "duration": 28,
    "start_time": "2022-03-02T10:22:37.833Z"
   },
   {
    "duration": 12,
    "start_time": "2022-03-02T10:22:37.863Z"
   },
   {
    "duration": 10,
    "start_time": "2022-03-02T10:22:37.877Z"
   },
   {
    "duration": 10,
    "start_time": "2022-03-02T10:22:37.889Z"
   },
   {
    "duration": 200,
    "start_time": "2022-03-02T10:22:37.901Z"
   },
   {
    "duration": 9,
    "start_time": "2022-03-02T10:22:38.103Z"
   },
   {
    "duration": 49,
    "start_time": "2022-03-02T10:22:38.114Z"
   },
   {
    "duration": 28,
    "start_time": "2022-03-02T10:22:38.165Z"
   },
   {
    "duration": 63,
    "start_time": "2022-03-02T10:22:38.195Z"
   },
   {
    "duration": 39,
    "start_time": "2022-03-02T10:22:38.259Z"
   },
   {
    "duration": 10,
    "start_time": "2022-03-02T10:22:38.299Z"
   },
   {
    "duration": 42,
    "start_time": "2022-03-02T10:22:38.310Z"
   },
   {
    "duration": 84,
    "start_time": "2022-03-02T10:22:38.354Z"
   },
   {
    "duration": 52,
    "start_time": "2022-03-02T10:22:38.440Z"
   },
   {
    "duration": 71,
    "start_time": "2022-03-02T10:22:38.493Z"
   },
   {
    "duration": 48,
    "start_time": "2022-03-02T10:22:38.565Z"
   },
   {
    "duration": 4,
    "start_time": "2022-03-02T10:22:38.615Z"
   },
   {
    "duration": 5,
    "start_time": "2022-03-02T10:22:38.635Z"
   },
   {
    "duration": 18,
    "start_time": "2022-03-02T10:22:38.642Z"
   },
   {
    "duration": 6,
    "start_time": "2022-03-02T10:22:38.662Z"
   },
   {
    "duration": 5,
    "start_time": "2022-03-02T10:22:38.672Z"
   },
   {
    "duration": 7,
    "start_time": "2022-03-02T10:22:38.679Z"
   },
   {
    "duration": 5,
    "start_time": "2022-03-02T10:22:38.687Z"
   },
   {
    "duration": 8,
    "start_time": "2022-03-02T10:22:38.693Z"
   },
   {
    "duration": 34,
    "start_time": "2022-03-02T10:22:38.703Z"
   },
   {
    "duration": 8,
    "start_time": "2022-03-02T10:22:38.739Z"
   },
   {
    "duration": 14,
    "start_time": "2022-03-02T10:22:38.749Z"
   },
   {
    "duration": 10,
    "start_time": "2022-03-02T10:22:38.764Z"
   },
   {
    "duration": 4,
    "start_time": "2022-03-02T10:22:38.776Z"
   },
   {
    "duration": 15,
    "start_time": "2022-03-02T10:22:38.781Z"
   },
   {
    "duration": 3,
    "start_time": "2022-03-02T10:22:38.798Z"
   },
   {
    "duration": 10,
    "start_time": "2022-03-02T10:22:38.803Z"
   },
   {
    "duration": 8,
    "start_time": "2022-03-02T10:22:38.840Z"
   },
   {
    "duration": 7,
    "start_time": "2022-03-02T10:22:38.850Z"
   },
   {
    "duration": 5,
    "start_time": "2022-03-02T10:22:38.859Z"
   },
   {
    "duration": 19,
    "start_time": "2022-03-02T10:22:38.865Z"
   },
   {
    "duration": 103,
    "start_time": "2022-03-02T10:22:38.886Z"
   },
   {
    "duration": 21,
    "start_time": "2022-03-02T10:22:38.991Z"
   },
   {
    "duration": 182,
    "start_time": "2022-03-02T10:22:39.014Z"
   },
   {
    "duration": 48,
    "start_time": "2022-03-02T10:22:39.198Z"
   },
   {
    "duration": 227,
    "start_time": "2022-03-02T10:22:39.248Z"
   },
   {
    "duration": 71,
    "start_time": "2022-03-02T10:22:39.477Z"
   },
   {
    "duration": 14,
    "start_time": "2022-03-02T10:22:39.550Z"
   },
   {
    "duration": 3,
    "start_time": "2022-03-02T10:22:39.566Z"
   },
   {
    "duration": 5,
    "start_time": "2022-03-02T10:22:39.571Z"
   },
   {
    "duration": 334,
    "start_time": "2022-03-02T10:22:39.577Z"
   },
   {
    "duration": 4,
    "start_time": "2022-03-02T10:22:39.913Z"
   },
   {
    "duration": 22,
    "start_time": "2022-03-02T10:22:39.918Z"
   },
   {
    "duration": 32,
    "start_time": "2022-03-02T10:22:39.942Z"
   },
   {
    "duration": 15,
    "start_time": "2022-03-02T10:22:39.975Z"
   },
   {
    "duration": 14,
    "start_time": "2022-03-02T10:22:39.992Z"
   },
   {
    "duration": 4,
    "start_time": "2022-03-02T10:22:40.008Z"
   },
   {
    "duration": 32,
    "start_time": "2022-03-02T10:22:40.014Z"
   },
   {
    "duration": 16,
    "start_time": "2022-03-02T10:22:40.048Z"
   },
   {
    "duration": 4,
    "start_time": "2022-03-02T10:22:40.065Z"
   },
   {
    "duration": 7,
    "start_time": "2022-03-02T10:22:40.071Z"
   },
   {
    "duration": 11,
    "start_time": "2022-03-02T10:22:40.080Z"
   },
   {
    "duration": 4,
    "start_time": "2022-03-02T10:22:40.093Z"
   },
   {
    "duration": 56,
    "start_time": "2022-03-02T10:22:40.099Z"
   },
   {
    "duration": 7,
    "start_time": "2022-03-02T10:22:40.157Z"
   },
   {
    "duration": 5,
    "start_time": "2022-03-02T10:22:40.166Z"
   },
   {
    "duration": 9,
    "start_time": "2022-03-02T10:22:40.173Z"
   },
   {
    "duration": 17,
    "start_time": "2022-03-02T10:22:40.184Z"
   },
   {
    "duration": 135,
    "start_time": "2022-03-02T10:22:40.203Z"
   },
   {
    "duration": 275,
    "start_time": "2022-03-02T10:22:40.341Z"
   },
   {
    "duration": 67,
    "start_time": "2022-03-02T10:22:40.620Z"
   },
   {
    "duration": 4,
    "start_time": "2022-03-02T10:22:40.688Z"
   },
   {
    "duration": 5,
    "start_time": "2022-03-02T10:22:40.694Z"
   },
   {
    "duration": 13,
    "start_time": "2022-03-02T10:22:40.700Z"
   },
   {
    "duration": 6,
    "start_time": "2022-03-02T10:22:40.733Z"
   },
   {
    "duration": 13,
    "start_time": "2022-03-02T10:22:40.742Z"
   },
   {
    "duration": 4,
    "start_time": "2022-03-02T10:22:40.757Z"
   },
   {
    "duration": 5,
    "start_time": "2022-03-02T10:22:40.762Z"
   },
   {
    "duration": 66,
    "start_time": "2022-03-02T10:23:16.173Z"
   },
   {
    "duration": 274,
    "start_time": "2022-03-02T10:23:52.946Z"
   },
   {
    "duration": 229,
    "start_time": "2022-03-02T13:15:40.792Z"
   },
   {
    "duration": 1161,
    "start_time": "2022-03-02T13:18:51.426Z"
   },
   {
    "duration": 104396,
    "start_time": "2022-03-02T13:18:52.589Z"
   },
   {
    "duration": 60,
    "start_time": "2022-03-02T13:20:36.987Z"
   },
   {
    "duration": 12,
    "start_time": "2022-03-02T13:20:37.049Z"
   },
   {
    "duration": 35,
    "start_time": "2022-03-02T13:20:37.063Z"
   },
   {
    "duration": 11,
    "start_time": "2022-03-02T13:20:37.099Z"
   },
   {
    "duration": 766,
    "start_time": "2022-03-02T13:20:37.112Z"
   },
   {
    "duration": 9,
    "start_time": "2022-03-02T13:20:37.880Z"
   },
   {
    "duration": 29,
    "start_time": "2022-03-02T13:20:37.891Z"
   },
   {
    "duration": 33,
    "start_time": "2022-03-02T13:20:37.921Z"
   },
   {
    "duration": 34,
    "start_time": "2022-03-02T13:20:37.956Z"
   },
   {
    "duration": 48,
    "start_time": "2022-03-02T13:20:37.992Z"
   },
   {
    "duration": 9,
    "start_time": "2022-03-02T13:20:38.042Z"
   },
   {
    "duration": 24,
    "start_time": "2022-03-02T13:20:38.052Z"
   },
   {
    "duration": 66,
    "start_time": "2022-03-02T13:20:38.078Z"
   },
   {
    "duration": 52,
    "start_time": "2022-03-02T13:20:38.146Z"
   },
   {
    "duration": 75,
    "start_time": "2022-03-02T13:20:38.199Z"
   },
   {
    "duration": 50,
    "start_time": "2022-03-02T13:20:38.276Z"
   },
   {
    "duration": 13,
    "start_time": "2022-03-02T13:20:38.327Z"
   },
   {
    "duration": 8,
    "start_time": "2022-03-02T13:20:38.342Z"
   },
   {
    "duration": 12,
    "start_time": "2022-03-02T13:20:38.352Z"
   },
   {
    "duration": 10,
    "start_time": "2022-03-02T13:20:38.365Z"
   },
   {
    "duration": 13,
    "start_time": "2022-03-02T13:20:38.379Z"
   },
   {
    "duration": 20,
    "start_time": "2022-03-02T13:20:38.395Z"
   },
   {
    "duration": 18,
    "start_time": "2022-03-02T13:20:38.416Z"
   },
   {
    "duration": 11,
    "start_time": "2022-03-02T13:20:38.436Z"
   },
   {
    "duration": 8,
    "start_time": "2022-03-02T13:20:38.448Z"
   },
   {
    "duration": 7,
    "start_time": "2022-03-02T13:20:38.457Z"
   },
   {
    "duration": 8,
    "start_time": "2022-03-02T13:20:38.466Z"
   },
   {
    "duration": 13,
    "start_time": "2022-03-02T13:20:38.475Z"
   },
   {
    "duration": 7,
    "start_time": "2022-03-02T13:20:38.490Z"
   },
   {
    "duration": 19,
    "start_time": "2022-03-02T13:20:38.498Z"
   },
   {
    "duration": 19,
    "start_time": "2022-03-02T13:20:38.519Z"
   },
   {
    "duration": 7,
    "start_time": "2022-03-02T13:20:38.540Z"
   },
   {
    "duration": 8,
    "start_time": "2022-03-02T13:20:38.548Z"
   },
   {
    "duration": 9,
    "start_time": "2022-03-02T13:20:38.558Z"
   },
   {
    "duration": 16,
    "start_time": "2022-03-02T13:20:38.568Z"
   },
   {
    "duration": 27,
    "start_time": "2022-03-02T13:20:38.585Z"
   },
   {
    "duration": 96,
    "start_time": "2022-03-02T13:20:38.613Z"
   },
   {
    "duration": 38,
    "start_time": "2022-03-02T13:20:38.710Z"
   },
   {
    "duration": 167,
    "start_time": "2022-03-02T13:20:38.750Z"
   },
   {
    "duration": 43,
    "start_time": "2022-03-02T13:20:38.919Z"
   },
   {
    "duration": 163,
    "start_time": "2022-03-02T13:20:38.964Z"
   },
   {
    "duration": 46,
    "start_time": "2022-03-02T13:20:39.137Z"
   },
   {
    "duration": 14,
    "start_time": "2022-03-02T13:20:39.184Z"
   },
   {
    "duration": 3,
    "start_time": "2022-03-02T13:20:39.199Z"
   },
   {
    "duration": 6,
    "start_time": "2022-03-02T13:20:39.204Z"
   },
   {
    "duration": 285,
    "start_time": "2022-03-02T13:20:39.211Z"
   },
   {
    "duration": -442,
    "start_time": "2022-03-02T13:20:39.940Z"
   },
   {
    "duration": -447,
    "start_time": "2022-03-02T13:20:39.946Z"
   },
   {
    "duration": -451,
    "start_time": "2022-03-02T13:20:39.951Z"
   },
   {
    "duration": -456,
    "start_time": "2022-03-02T13:20:39.957Z"
   },
   {
    "duration": -461,
    "start_time": "2022-03-02T13:20:39.963Z"
   },
   {
    "duration": -467,
    "start_time": "2022-03-02T13:20:39.970Z"
   },
   {
    "duration": -472,
    "start_time": "2022-03-02T13:20:39.975Z"
   },
   {
    "duration": -477,
    "start_time": "2022-03-02T13:20:39.981Z"
   },
   {
    "duration": -481,
    "start_time": "2022-03-02T13:20:39.986Z"
   },
   {
    "duration": -486,
    "start_time": "2022-03-02T13:20:39.992Z"
   },
   {
    "duration": -491,
    "start_time": "2022-03-02T13:20:39.998Z"
   },
   {
    "duration": -530,
    "start_time": "2022-03-02T13:20:40.038Z"
   },
   {
    "duration": -536,
    "start_time": "2022-03-02T13:20:40.045Z"
   },
   {
    "duration": -544,
    "start_time": "2022-03-02T13:20:40.053Z"
   },
   {
    "duration": -549,
    "start_time": "2022-03-02T13:20:40.059Z"
   },
   {
    "duration": -555,
    "start_time": "2022-03-02T13:20:40.066Z"
   },
   {
    "duration": -559,
    "start_time": "2022-03-02T13:20:40.071Z"
   },
   {
    "duration": -565,
    "start_time": "2022-03-02T13:20:40.078Z"
   },
   {
    "duration": -570,
    "start_time": "2022-03-02T13:20:40.083Z"
   },
   {
    "duration": -575,
    "start_time": "2022-03-02T13:20:40.089Z"
   },
   {
    "duration": -580,
    "start_time": "2022-03-02T13:20:40.095Z"
   },
   {
    "duration": -585,
    "start_time": "2022-03-02T13:20:40.101Z"
   },
   {
    "duration": -590,
    "start_time": "2022-03-02T13:20:40.106Z"
   },
   {
    "duration": -595,
    "start_time": "2022-03-02T13:20:40.112Z"
   },
   {
    "duration": -601,
    "start_time": "2022-03-02T13:20:40.119Z"
   },
   {
    "duration": -606,
    "start_time": "2022-03-02T13:20:40.125Z"
   },
   {
    "duration": -612,
    "start_time": "2022-03-02T13:20:40.132Z"
   },
   {
    "duration": -139,
    "start_time": "2022-03-02T13:22:12.862Z"
   },
   {
    "duration": -144,
    "start_time": "2022-03-02T13:22:12.867Z"
   },
   {
    "duration": -149,
    "start_time": "2022-03-02T13:22:12.873Z"
   },
   {
    "duration": -153,
    "start_time": "2022-03-02T13:22:12.878Z"
   },
   {
    "duration": -192,
    "start_time": "2022-03-02T13:22:12.918Z"
   },
   {
    "duration": -198,
    "start_time": "2022-03-02T13:22:12.925Z"
   },
   {
    "duration": -204,
    "start_time": "2022-03-02T13:22:12.932Z"
   },
   {
    "duration": -211,
    "start_time": "2022-03-02T13:22:12.939Z"
   },
   {
    "duration": -216,
    "start_time": "2022-03-02T13:22:12.945Z"
   },
   {
    "duration": -220,
    "start_time": "2022-03-02T13:22:12.950Z"
   },
   {
    "duration": -227,
    "start_time": "2022-03-02T13:22:12.958Z"
   },
   {
    "duration": -231,
    "start_time": "2022-03-02T13:22:12.963Z"
   },
   {
    "duration": -237,
    "start_time": "2022-03-02T13:22:12.969Z"
   },
   {
    "duration": -241,
    "start_time": "2022-03-02T13:22:12.974Z"
   },
   {
    "duration": -246,
    "start_time": "2022-03-02T13:22:12.980Z"
   },
   {
    "duration": -250,
    "start_time": "2022-03-02T13:22:12.985Z"
   },
   {
    "duration": -256,
    "start_time": "2022-03-02T13:22:12.992Z"
   },
   {
    "duration": -260,
    "start_time": "2022-03-02T13:22:12.997Z"
   },
   {
    "duration": -265,
    "start_time": "2022-03-02T13:22:13.003Z"
   },
   {
    "duration": -279,
    "start_time": "2022-03-02T13:22:13.018Z"
   },
   {
    "duration": -660,
    "start_time": "2022-03-02T13:22:13.399Z"
   },
   {
    "duration": -1020,
    "start_time": "2022-03-02T13:22:13.760Z"
   },
   {
    "duration": -3523773,
    "start_time": "2022-03-02T14:20:56.515Z"
   },
   {
    "duration": -3523813,
    "start_time": "2022-03-02T14:20:56.559Z"
   },
   {
    "duration": -3523820,
    "start_time": "2022-03-02T14:20:56.566Z"
   },
   {
    "duration": -3523824,
    "start_time": "2022-03-02T14:20:56.571Z"
   },
   {
    "duration": -3523829,
    "start_time": "2022-03-02T14:20:56.577Z"
   },
   {
    "duration": -3523836,
    "start_time": "2022-03-02T14:20:56.585Z"
   },
   {
    "duration": -3523841,
    "start_time": "2022-03-02T14:20:56.591Z"
   },
   {
    "duration": -3523847,
    "start_time": "2022-03-02T14:20:56.598Z"
   },
   {
    "duration": -3523915,
    "start_time": "2022-03-02T14:20:56.666Z"
   },
   {
    "duration": -3523925,
    "start_time": "2022-03-02T14:20:56.677Z"
   },
   {
    "duration": -3523958,
    "start_time": "2022-03-02T14:20:56.711Z"
   },
   {
    "duration": -3523974,
    "start_time": "2022-03-02T14:20:56.728Z"
   },
   {
    "duration": -3523984,
    "start_time": "2022-03-02T14:20:56.739Z"
   },
   {
    "duration": -3523994,
    "start_time": "2022-03-02T14:20:56.750Z"
   },
   {
    "duration": -3524004,
    "start_time": "2022-03-02T14:20:56.761Z"
   },
   {
    "duration": -3524010,
    "start_time": "2022-03-02T14:20:56.768Z"
   },
   {
    "duration": -3524024,
    "start_time": "2022-03-02T14:20:56.783Z"
   },
   {
    "duration": -3524691,
    "start_time": "2022-03-02T14:20:57.450Z"
   },
   {
    "duration": -3524713,
    "start_time": "2022-03-02T14:20:57.474Z"
   },
   {
    "duration": -3524775,
    "start_time": "2022-03-02T14:20:57.536Z"
   },
   {
    "duration": -3524790,
    "start_time": "2022-03-02T14:20:57.552Z"
   },
   {
    "duration": -3524801,
    "start_time": "2022-03-02T14:20:57.564Z"
   },
   {
    "duration": -3525088,
    "start_time": "2022-03-02T14:20:57.852Z"
   },
   {
    "duration": -3525111,
    "start_time": "2022-03-02T14:20:57.876Z"
   },
   {
    "duration": -3525141,
    "start_time": "2022-03-02T14:20:57.907Z"
   },
   {
    "duration": -3525148,
    "start_time": "2022-03-02T14:20:57.915Z"
   },
   {
    "duration": -3525246,
    "start_time": "2022-03-02T14:20:58.014Z"
   },
   {
    "duration": -3525277,
    "start_time": "2022-03-02T14:20:58.046Z"
   },
   {
    "duration": -3525303,
    "start_time": "2022-03-02T14:20:58.073Z"
   },
   {
    "duration": -3525309,
    "start_time": "2022-03-02T14:20:58.080Z"
   },
   {
    "duration": -3525363,
    "start_time": "2022-03-02T14:20:58.135Z"
   },
   {
    "duration": -3525369,
    "start_time": "2022-03-02T14:20:58.142Z"
   },
   {
    "duration": -3525400,
    "start_time": "2022-03-02T14:20:58.174Z"
   },
   {
    "duration": -3525408,
    "start_time": "2022-03-02T14:20:58.183Z"
   },
   {
    "duration": -3525424,
    "start_time": "2022-03-02T14:20:58.200Z"
   },
   {
    "duration": -3525428,
    "start_time": "2022-03-02T14:20:58.205Z"
   },
   {
    "duration": -3525377,
    "start_time": "2022-03-02T14:20:58.214Z"
   },
   {
    "duration": -3525382,
    "start_time": "2022-03-02T14:20:58.221Z"
   },
   {
    "duration": -3525388,
    "start_time": "2022-03-02T14:20:58.228Z"
   },
   {
    "duration": -3525394,
    "start_time": "2022-03-02T14:20:58.235Z"
   },
   {
    "duration": -3525402,
    "start_time": "2022-03-02T14:20:58.244Z"
   },
   {
    "duration": -3525407,
    "start_time": "2022-03-02T14:20:58.250Z"
   },
   {
    "duration": -3525415,
    "start_time": "2022-03-02T14:20:58.259Z"
   },
   {
    "duration": -3525420,
    "start_time": "2022-03-02T14:20:58.265Z"
   },
   {
    "duration": -3525429,
    "start_time": "2022-03-02T14:20:58.275Z"
   },
   {
    "duration": -3525437,
    "start_time": "2022-03-02T14:20:58.284Z"
   },
   {
    "duration": -3525443,
    "start_time": "2022-03-02T14:20:58.291Z"
   },
   {
    "duration": -3525449,
    "start_time": "2022-03-02T14:20:58.298Z"
   },
   {
    "duration": -3525465,
    "start_time": "2022-03-02T14:20:58.315Z"
   },
   {
    "duration": -3525505,
    "start_time": "2022-03-02T14:20:58.356Z"
   },
   {
    "duration": -3525519,
    "start_time": "2022-03-02T14:20:58.371Z"
   },
   {
    "duration": -3525530,
    "start_time": "2022-03-02T14:20:58.382Z"
   },
   {
    "duration": -3525593,
    "start_time": "2022-03-02T14:20:58.447Z"
   },
   {
    "duration": 1141,
    "start_time": "2022-03-02T14:21:13.938Z"
   },
   {
    "duration": 7055,
    "start_time": "2022-03-02T14:21:15.082Z"
   },
   {
    "duration": 25,
    "start_time": "2022-03-02T14:21:22.140Z"
   },
   {
    "duration": 12,
    "start_time": "2022-03-02T14:21:22.167Z"
   },
   {
    "duration": 13,
    "start_time": "2022-03-02T14:21:22.181Z"
   },
   {
    "duration": 9,
    "start_time": "2022-03-02T14:21:22.196Z"
   },
   {
    "duration": 205,
    "start_time": "2022-03-02T14:21:22.207Z"
   },
   {
    "duration": 9,
    "start_time": "2022-03-02T14:21:22.414Z"
   },
   {
    "duration": 34,
    "start_time": "2022-03-02T14:21:22.425Z"
   },
   {
    "duration": 29,
    "start_time": "2022-03-02T14:21:22.461Z"
   },
   {
    "duration": 51,
    "start_time": "2022-03-02T14:21:22.491Z"
   },
   {
    "duration": 40,
    "start_time": "2022-03-02T14:21:22.544Z"
   },
   {
    "duration": 11,
    "start_time": "2022-03-02T14:21:22.585Z"
   },
   {
    "duration": 40,
    "start_time": "2022-03-02T14:21:22.598Z"
   },
   {
    "duration": 48,
    "start_time": "2022-03-02T14:21:22.640Z"
   },
   {
    "duration": 70,
    "start_time": "2022-03-02T14:21:22.690Z"
   },
   {
    "duration": 59,
    "start_time": "2022-03-02T14:21:22.762Z"
   },
   {
    "duration": 59,
    "start_time": "2022-03-02T14:21:22.822Z"
   },
   {
    "duration": 5,
    "start_time": "2022-03-02T14:21:22.882Z"
   },
   {
    "duration": 8,
    "start_time": "2022-03-02T14:21:22.888Z"
   },
   {
    "duration": 10,
    "start_time": "2022-03-02T14:21:22.898Z"
   },
   {
    "duration": 29,
    "start_time": "2022-03-02T14:21:22.910Z"
   },
   {
    "duration": 7,
    "start_time": "2022-03-02T14:21:22.943Z"
   },
   {
    "duration": 6,
    "start_time": "2022-03-02T14:21:22.953Z"
   },
   {
    "duration": 5,
    "start_time": "2022-03-02T14:21:22.961Z"
   },
   {
    "duration": 11,
    "start_time": "2022-03-02T14:21:22.968Z"
   },
   {
    "duration": 7,
    "start_time": "2022-03-02T14:21:22.981Z"
   },
   {
    "duration": 8,
    "start_time": "2022-03-02T14:21:22.989Z"
   },
   {
    "duration": 9,
    "start_time": "2022-03-02T14:21:22.999Z"
   },
   {
    "duration": 30,
    "start_time": "2022-03-02T14:21:23.010Z"
   },
   {
    "duration": 5,
    "start_time": "2022-03-02T14:21:23.042Z"
   },
   {
    "duration": 13,
    "start_time": "2022-03-02T14:21:23.049Z"
   },
   {
    "duration": 3,
    "start_time": "2022-03-02T14:21:23.063Z"
   },
   {
    "duration": 8,
    "start_time": "2022-03-02T14:21:23.068Z"
   },
   {
    "duration": 5,
    "start_time": "2022-03-02T14:21:23.077Z"
   },
   {
    "duration": 5,
    "start_time": "2022-03-02T14:21:23.084Z"
   },
   {
    "duration": 5,
    "start_time": "2022-03-02T14:21:23.090Z"
   },
   {
    "duration": 57,
    "start_time": "2022-03-02T14:21:23.096Z"
   },
   {
    "duration": 98,
    "start_time": "2022-03-02T14:21:23.154Z"
   },
   {
    "duration": 21,
    "start_time": "2022-03-02T14:21:23.254Z"
   },
   {
    "duration": 179,
    "start_time": "2022-03-02T14:21:23.276Z"
   },
   {
    "duration": 34,
    "start_time": "2022-03-02T14:21:23.457Z"
   },
   {
    "duration": 180,
    "start_time": "2022-03-02T14:21:23.493Z"
   },
   {
    "duration": 44,
    "start_time": "2022-03-02T14:21:23.674Z"
   },
   {
    "duration": 22,
    "start_time": "2022-03-02T14:21:23.720Z"
   },
   {
    "duration": 3,
    "start_time": "2022-03-02T14:21:23.744Z"
   },
   {
    "duration": 7,
    "start_time": "2022-03-02T14:21:23.749Z"
   },
   {
    "duration": 347,
    "start_time": "2022-03-02T14:21:23.757Z"
   },
   {
    "duration": 3,
    "start_time": "2022-03-02T14:21:24.106Z"
   },
   {
    "duration": 7,
    "start_time": "2022-03-02T14:21:24.111Z"
   },
   {
    "duration": 31,
    "start_time": "2022-03-02T14:21:24.120Z"
   },
   {
    "duration": 15,
    "start_time": "2022-03-02T14:21:24.153Z"
   },
   {
    "duration": 13,
    "start_time": "2022-03-02T14:21:24.169Z"
   },
   {
    "duration": 5,
    "start_time": "2022-03-02T14:21:24.184Z"
   },
   {
    "duration": 18,
    "start_time": "2022-03-02T14:21:24.190Z"
   },
   {
    "duration": 41,
    "start_time": "2022-03-02T14:21:24.210Z"
   },
   {
    "duration": 18,
    "start_time": "2022-03-02T14:21:24.252Z"
   },
   {
    "duration": 14,
    "start_time": "2022-03-02T14:21:24.271Z"
   },
   {
    "duration": 11,
    "start_time": "2022-03-02T14:21:24.286Z"
   },
   {
    "duration": 4,
    "start_time": "2022-03-02T14:21:24.298Z"
   },
   {
    "duration": 8,
    "start_time": "2022-03-02T14:21:24.303Z"
   },
   {
    "duration": 5,
    "start_time": "2022-03-02T14:21:24.312Z"
   },
   {
    "duration": 21,
    "start_time": "2022-03-02T14:21:24.319Z"
   },
   {
    "duration": 8,
    "start_time": "2022-03-02T14:21:24.342Z"
   },
   {
    "duration": 18,
    "start_time": "2022-03-02T14:21:24.352Z"
   },
   {
    "duration": 90,
    "start_time": "2022-03-02T14:21:24.372Z"
   },
   {
    "duration": 281,
    "start_time": "2022-03-02T14:21:24.463Z"
   },
   {
    "duration": -5373,
    "start_time": "2022-03-02T14:21:30.119Z"
   },
   {
    "duration": -5379,
    "start_time": "2022-03-02T14:21:30.126Z"
   },
   {
    "duration": -5442,
    "start_time": "2022-03-02T14:21:30.190Z"
   },
   {
    "duration": -5491,
    "start_time": "2022-03-02T14:21:30.240Z"
   },
   {
    "duration": -5502,
    "start_time": "2022-03-02T14:21:30.252Z"
   },
   {
    "duration": -5508,
    "start_time": "2022-03-02T14:21:30.259Z"
   },
   {
    "duration": -5520,
    "start_time": "2022-03-02T14:21:30.272Z"
   },
   {
    "duration": -5530,
    "start_time": "2022-03-02T14:21:30.283Z"
   },
   {
    "duration": 61,
    "start_time": "2022-03-02T14:21:57.386Z"
   },
   {
    "duration": 274,
    "start_time": "2022-03-02T14:22:03.348Z"
   },
   {
    "duration": 292,
    "start_time": "2022-03-02T14:24:02.438Z"
   },
   {
    "duration": 54,
    "start_time": "2022-03-02T14:24:29.782Z"
   },
   {
    "duration": 1462,
    "start_time": "2022-03-02T18:15:33.191Z"
   },
   {
    "duration": 4115,
    "start_time": "2022-03-02T18:15:34.656Z"
   },
   {
    "duration": 93,
    "start_time": "2022-03-02T18:15:38.775Z"
   },
   {
    "duration": 16,
    "start_time": "2022-03-02T18:15:38.872Z"
   },
   {
    "duration": 29,
    "start_time": "2022-03-02T18:15:38.890Z"
   },
   {
    "duration": 12,
    "start_time": "2022-03-02T18:15:38.922Z"
   },
   {
    "duration": 385,
    "start_time": "2022-03-02T18:15:38.936Z"
   },
   {
    "duration": 13,
    "start_time": "2022-03-02T18:15:39.325Z"
   },
   {
    "duration": 56,
    "start_time": "2022-03-02T18:15:39.341Z"
   },
   {
    "duration": 41,
    "start_time": "2022-03-02T18:15:39.400Z"
   },
   {
    "duration": 76,
    "start_time": "2022-03-02T18:15:39.443Z"
   },
   {
    "duration": 67,
    "start_time": "2022-03-02T18:15:39.521Z"
   },
   {
    "duration": 17,
    "start_time": "2022-03-02T18:15:39.590Z"
   },
   {
    "duration": 35,
    "start_time": "2022-03-02T18:15:39.610Z"
   },
   {
    "duration": 109,
    "start_time": "2022-03-02T18:15:39.647Z"
   },
   {
    "duration": 102,
    "start_time": "2022-03-02T18:15:39.759Z"
   },
   {
    "duration": 98,
    "start_time": "2022-03-02T18:15:39.864Z"
   },
   {
    "duration": 89,
    "start_time": "2022-03-02T18:15:39.965Z"
   },
   {
    "duration": 6,
    "start_time": "2022-03-02T18:15:40.056Z"
   },
   {
    "duration": 24,
    "start_time": "2022-03-02T18:15:40.064Z"
   },
   {
    "duration": 11,
    "start_time": "2022-03-02T18:15:40.090Z"
   },
   {
    "duration": 9,
    "start_time": "2022-03-02T18:15:40.104Z"
   },
   {
    "duration": 7,
    "start_time": "2022-03-02T18:15:40.119Z"
   },
   {
    "duration": 9,
    "start_time": "2022-03-02T18:15:40.130Z"
   },
   {
    "duration": 46,
    "start_time": "2022-03-02T18:15:40.141Z"
   },
   {
    "duration": 15,
    "start_time": "2022-03-02T18:15:40.190Z"
   },
   {
    "duration": 10,
    "start_time": "2022-03-02T18:15:40.207Z"
   },
   {
    "duration": 9,
    "start_time": "2022-03-02T18:15:40.220Z"
   },
   {
    "duration": 13,
    "start_time": "2022-03-02T18:15:40.231Z"
   },
   {
    "duration": 49,
    "start_time": "2022-03-02T18:15:40.246Z"
   },
   {
    "duration": 7,
    "start_time": "2022-03-02T18:15:40.298Z"
   },
   {
    "duration": 21,
    "start_time": "2022-03-02T18:15:40.308Z"
   },
   {
    "duration": 5,
    "start_time": "2022-03-02T18:15:40.331Z"
   },
   {
    "duration": 53,
    "start_time": "2022-03-02T18:15:40.339Z"
   },
   {
    "duration": 7,
    "start_time": "2022-03-02T18:15:40.394Z"
   },
   {
    "duration": 6,
    "start_time": "2022-03-02T18:15:40.404Z"
   },
   {
    "duration": 7,
    "start_time": "2022-03-02T18:15:40.412Z"
   },
   {
    "duration": 37,
    "start_time": "2022-03-02T18:15:40.421Z"
   },
   {
    "duration": 173,
    "start_time": "2022-03-02T18:15:40.460Z"
   },
   {
    "duration": 31,
    "start_time": "2022-03-02T18:15:40.635Z"
   },
   {
    "duration": 282,
    "start_time": "2022-03-02T18:15:40.669Z"
   },
   {
    "duration": 61,
    "start_time": "2022-03-02T18:15:40.953Z"
   },
   {
    "duration": 272,
    "start_time": "2022-03-02T18:15:41.017Z"
   },
   {
    "duration": 67,
    "start_time": "2022-03-02T18:15:41.292Z"
   },
   {
    "duration": 42,
    "start_time": "2022-03-02T18:15:41.362Z"
   },
   {
    "duration": 5,
    "start_time": "2022-03-02T18:15:41.406Z"
   },
   {
    "duration": 6,
    "start_time": "2022-03-02T18:15:41.414Z"
   },
   {
    "duration": 375,
    "start_time": "2022-03-02T18:15:41.423Z"
   },
   {
    "duration": 1517,
    "start_time": "2022-03-02T18:15:40.284Z"
   },
   {
    "duration": 1515,
    "start_time": "2022-03-02T18:15:40.288Z"
   },
   {
    "duration": 1513,
    "start_time": "2022-03-02T18:15:40.292Z"
   },
   {
    "duration": 1505,
    "start_time": "2022-03-02T18:15:40.301Z"
   },
   {
    "duration": 1504,
    "start_time": "2022-03-02T18:15:40.304Z"
   },
   {
    "duration": 1501,
    "start_time": "2022-03-02T18:15:40.308Z"
   },
   {
    "duration": 1496,
    "start_time": "2022-03-02T18:15:40.314Z"
   },
   {
    "duration": 1494,
    "start_time": "2022-03-02T18:15:40.318Z"
   },
   {
    "duration": 1492,
    "start_time": "2022-03-02T18:15:40.321Z"
   },
   {
    "duration": 1488,
    "start_time": "2022-03-02T18:15:40.326Z"
   },
   {
    "duration": 1486,
    "start_time": "2022-03-02T18:15:40.330Z"
   },
   {
    "duration": 1482,
    "start_time": "2022-03-02T18:15:40.335Z"
   },
   {
    "duration": 1474,
    "start_time": "2022-03-02T18:15:40.344Z"
   },
   {
    "duration": 1472,
    "start_time": "2022-03-02T18:15:40.348Z"
   },
   {
    "duration": 1462,
    "start_time": "2022-03-02T18:15:40.359Z"
   },
   {
    "duration": 1456,
    "start_time": "2022-03-02T18:15:40.366Z"
   },
   {
    "duration": 1454,
    "start_time": "2022-03-02T18:15:40.370Z"
   },
   {
    "duration": 1448,
    "start_time": "2022-03-02T18:15:40.377Z"
   },
   {
    "duration": 1447,
    "start_time": "2022-03-02T18:15:40.380Z"
   },
   {
    "duration": 1445,
    "start_time": "2022-03-02T18:15:40.384Z"
   },
   {
    "duration": 1443,
    "start_time": "2022-03-02T18:15:40.387Z"
   },
   {
    "duration": 1442,
    "start_time": "2022-03-02T18:15:40.390Z"
   },
   {
    "duration": 1440,
    "start_time": "2022-03-02T18:15:40.393Z"
   },
   {
    "duration": 1431,
    "start_time": "2022-03-02T18:15:40.403Z"
   },
   {
    "duration": 1430,
    "start_time": "2022-03-02T18:15:40.406Z"
   },
   {
    "duration": 1428,
    "start_time": "2022-03-02T18:15:40.409Z"
   },
   {
    "duration": 1425,
    "start_time": "2022-03-02T18:15:40.414Z"
   },
   {
    "duration": 1395,
    "start_time": "2022-03-02T18:18:39.417Z"
   },
   {
    "duration": 3301,
    "start_time": "2022-03-02T18:18:40.815Z"
   },
   {
    "duration": 32,
    "start_time": "2022-03-02T18:18:44.119Z"
   },
   {
    "duration": 15,
    "start_time": "2022-03-02T18:18:44.154Z"
   },
   {
    "duration": 15,
    "start_time": "2022-03-02T18:18:44.172Z"
   },
   {
    "duration": 15,
    "start_time": "2022-03-02T18:18:44.189Z"
   },
   {
    "duration": 265,
    "start_time": "2022-03-02T18:18:44.207Z"
   },
   {
    "duration": 15,
    "start_time": "2022-03-02T18:18:44.476Z"
   },
   {
    "duration": 41,
    "start_time": "2022-03-02T18:18:44.495Z"
   },
   {
    "duration": 75,
    "start_time": "2022-03-02T18:18:44.540Z"
   },
   {
    "duration": 69,
    "start_time": "2022-03-02T18:18:44.618Z"
   },
   {
    "duration": 58,
    "start_time": "2022-03-02T18:18:44.697Z"
   },
   {
    "duration": 34,
    "start_time": "2022-03-02T18:18:44.759Z"
   },
   {
    "duration": 37,
    "start_time": "2022-03-02T18:18:44.796Z"
   },
   {
    "duration": 95,
    "start_time": "2022-03-02T18:18:44.835Z"
   },
   {
    "duration": 91,
    "start_time": "2022-03-02T18:18:44.933Z"
   },
   {
    "duration": 95,
    "start_time": "2022-03-02T18:18:45.026Z"
   },
   {
    "duration": 82,
    "start_time": "2022-03-02T18:18:45.123Z"
   },
   {
    "duration": 5,
    "start_time": "2022-03-02T18:18:45.208Z"
   },
   {
    "duration": 8,
    "start_time": "2022-03-02T18:18:45.215Z"
   },
   {
    "duration": 11,
    "start_time": "2022-03-02T18:18:45.226Z"
   },
   {
    "duration": 10,
    "start_time": "2022-03-02T18:18:45.240Z"
   },
   {
    "duration": 9,
    "start_time": "2022-03-02T18:18:45.294Z"
   },
   {
    "duration": 9,
    "start_time": "2022-03-02T18:18:45.306Z"
   },
   {
    "duration": 7,
    "start_time": "2022-03-02T18:18:45.318Z"
   },
   {
    "duration": 10,
    "start_time": "2022-03-02T18:18:45.327Z"
   },
   {
    "duration": 8,
    "start_time": "2022-03-02T18:18:45.340Z"
   },
   {
    "duration": 43,
    "start_time": "2022-03-02T18:18:45.350Z"
   },
   {
    "duration": 11,
    "start_time": "2022-03-02T18:18:45.396Z"
   },
   {
    "duration": 16,
    "start_time": "2022-03-02T18:18:45.409Z"
   },
   {
    "duration": 7,
    "start_time": "2022-03-02T18:18:45.428Z"
   },
   {
    "duration": 52,
    "start_time": "2022-03-02T18:18:45.438Z"
   },
   {
    "duration": 5,
    "start_time": "2022-03-02T18:18:45.493Z"
   },
   {
    "duration": 17,
    "start_time": "2022-03-02T18:18:45.501Z"
   },
   {
    "duration": 6,
    "start_time": "2022-03-02T18:18:45.521Z"
   },
   {
    "duration": 10,
    "start_time": "2022-03-02T18:18:45.530Z"
   },
   {
    "duration": 10,
    "start_time": "2022-03-02T18:18:45.542Z"
   },
   {
    "duration": 27,
    "start_time": "2022-03-02T18:18:45.586Z"
   },
   {
    "duration": 152,
    "start_time": "2022-03-02T18:18:45.616Z"
   },
   {
    "duration": 42,
    "start_time": "2022-03-02T18:18:45.770Z"
   },
   {
    "duration": 292,
    "start_time": "2022-03-02T18:18:45.815Z"
   },
   {
    "duration": 53,
    "start_time": "2022-03-02T18:18:46.110Z"
   },
   {
    "duration": 272,
    "start_time": "2022-03-02T18:18:46.165Z"
   },
   {
    "duration": 82,
    "start_time": "2022-03-02T18:18:46.439Z"
   },
   {
    "duration": 23,
    "start_time": "2022-03-02T18:18:46.524Z"
   },
   {
    "duration": 7,
    "start_time": "2022-03-02T18:18:46.549Z"
   },
   {
    "duration": 31,
    "start_time": "2022-03-02T18:18:46.559Z"
   },
   {
    "duration": 526,
    "start_time": "2022-03-02T18:18:46.592Z"
   },
   {
    "duration": 6,
    "start_time": "2022-03-02T18:18:47.121Z"
   },
   {
    "duration": 10,
    "start_time": "2022-03-02T18:18:47.129Z"
   },
   {
    "duration": 53,
    "start_time": "2022-03-02T18:18:47.141Z"
   },
   {
    "duration": 24,
    "start_time": "2022-03-02T18:18:47.196Z"
   },
   {
    "duration": 19,
    "start_time": "2022-03-02T18:18:47.223Z"
   },
   {
    "duration": 5,
    "start_time": "2022-03-02T18:18:47.245Z"
   },
   {
    "duration": 55,
    "start_time": "2022-03-02T18:18:47.252Z"
   },
   {
    "duration": 21,
    "start_time": "2022-03-02T18:18:47.310Z"
   },
   {
    "duration": 5,
    "start_time": "2022-03-02T18:18:47.334Z"
   },
   {
    "duration": 8,
    "start_time": "2022-03-02T18:18:47.341Z"
   },
   {
    "duration": 14,
    "start_time": "2022-03-02T18:18:47.388Z"
   },
   {
    "duration": 6,
    "start_time": "2022-03-02T18:18:47.405Z"
   },
   {
    "duration": 10,
    "start_time": "2022-03-02T18:18:47.414Z"
   },
   {
    "duration": 13,
    "start_time": "2022-03-02T18:18:47.426Z"
   },
   {
    "duration": 47,
    "start_time": "2022-03-02T18:18:47.441Z"
   },
   {
    "duration": 11,
    "start_time": "2022-03-02T18:18:47.490Z"
   },
   {
    "duration": 30,
    "start_time": "2022-03-02T18:18:47.503Z"
   },
   {
    "duration": 137,
    "start_time": "2022-03-02T18:18:47.535Z"
   },
   {
    "duration": 85,
    "start_time": "2022-03-02T18:18:47.674Z"
   },
   {
    "duration": 1526,
    "start_time": "2022-03-02T18:18:46.236Z"
   },
   {
    "duration": 1520,
    "start_time": "2022-03-02T18:18:46.244Z"
   },
   {
    "duration": 1518,
    "start_time": "2022-03-02T18:18:46.247Z"
   },
   {
    "duration": 1517,
    "start_time": "2022-03-02T18:18:46.250Z"
   },
   {
    "duration": 1515,
    "start_time": "2022-03-02T18:18:46.253Z"
   },
   {
    "duration": 1514,
    "start_time": "2022-03-02T18:18:46.256Z"
   },
   {
    "duration": 1512,
    "start_time": "2022-03-02T18:18:46.259Z"
   },
   {
    "duration": 1511,
    "start_time": "2022-03-02T18:18:46.262Z"
   },
   {
    "duration": 668,
    "start_time": "2022-03-02T18:20:27.435Z"
   },
   {
    "duration": 77,
    "start_time": "2022-03-02T18:50:59.708Z"
   },
   {
    "duration": 5,
    "start_time": "2022-03-02T18:51:01.779Z"
   },
   {
    "duration": 5,
    "start_time": "2022-03-02T18:51:06.991Z"
   },
   {
    "duration": 14,
    "start_time": "2022-03-02T18:51:07.542Z"
   },
   {
    "duration": 6,
    "start_time": "2022-03-02T18:51:08.512Z"
   },
   {
    "duration": 6,
    "start_time": "2022-03-02T18:51:26.283Z"
   },
   {
    "duration": 5,
    "start_time": "2022-03-02T18:52:37.725Z"
   },
   {
    "duration": 5,
    "start_time": "2022-03-02T18:52:46.940Z"
   },
   {
    "duration": 5,
    "start_time": "2022-03-02T18:52:51.448Z"
   },
   {
    "duration": 279,
    "start_time": "2022-03-02T18:55:25.167Z"
   },
   {
    "duration": 267,
    "start_time": "2022-03-02T18:55:32.082Z"
   },
   {
    "duration": 343,
    "start_time": "2022-03-02T18:55:40.323Z"
   },
   {
    "duration": 628,
    "start_time": "2022-03-02T18:56:15.459Z"
   },
   {
    "duration": 4,
    "start_time": "2022-03-02T18:56:33.858Z"
   },
   {
    "duration": 1454,
    "start_time": "2022-03-02T18:56:40.663Z"
   },
   {
    "duration": 2960,
    "start_time": "2022-03-02T18:56:42.120Z"
   },
   {
    "duration": 31,
    "start_time": "2022-03-02T18:56:45.083Z"
   },
   {
    "duration": 16,
    "start_time": "2022-03-02T18:56:45.116Z"
   },
   {
    "duration": 14,
    "start_time": "2022-03-02T18:56:45.134Z"
   },
   {
    "duration": 14,
    "start_time": "2022-03-02T18:56:45.150Z"
   },
   {
    "duration": 267,
    "start_time": "2022-03-02T18:56:45.167Z"
   },
   {
    "duration": 14,
    "start_time": "2022-03-02T18:56:45.439Z"
   },
   {
    "duration": 60,
    "start_time": "2022-03-02T18:56:45.458Z"
   },
   {
    "duration": 40,
    "start_time": "2022-03-02T18:56:45.521Z"
   },
   {
    "duration": 69,
    "start_time": "2022-03-02T18:56:45.564Z"
   },
   {
    "duration": 75,
    "start_time": "2022-03-02T18:56:45.636Z"
   },
   {
    "duration": 16,
    "start_time": "2022-03-02T18:56:45.714Z"
   },
   {
    "duration": 58,
    "start_time": "2022-03-02T18:56:45.733Z"
   },
   {
    "duration": 74,
    "start_time": "2022-03-02T18:56:45.794Z"
   },
   {
    "duration": 84,
    "start_time": "2022-03-02T18:56:45.887Z"
   },
   {
    "duration": 95,
    "start_time": "2022-03-02T18:56:45.973Z"
   },
   {
    "duration": 88,
    "start_time": "2022-03-02T18:56:46.071Z"
   },
   {
    "duration": 26,
    "start_time": "2022-03-02T18:56:46.161Z"
   },
   {
    "duration": 9,
    "start_time": "2022-03-02T18:56:46.190Z"
   },
   {
    "duration": 13,
    "start_time": "2022-03-02T18:56:46.201Z"
   },
   {
    "duration": 21,
    "start_time": "2022-03-02T18:56:46.217Z"
   },
   {
    "duration": 42,
    "start_time": "2022-03-02T18:56:46.246Z"
   },
   {
    "duration": 9,
    "start_time": "2022-03-02T18:56:46.293Z"
   },
   {
    "duration": 7,
    "start_time": "2022-03-02T18:56:46.305Z"
   },
   {
    "duration": 13,
    "start_time": "2022-03-02T18:56:46.315Z"
   },
   {
    "duration": 7,
    "start_time": "2022-03-02T18:56:46.331Z"
   },
   {
    "duration": 51,
    "start_time": "2022-03-02T18:56:46.341Z"
   },
   {
    "duration": 10,
    "start_time": "2022-03-02T18:56:46.395Z"
   },
   {
    "duration": 17,
    "start_time": "2022-03-02T18:56:46.408Z"
   },
   {
    "duration": 6,
    "start_time": "2022-03-02T18:56:46.428Z"
   },
   {
    "duration": 66,
    "start_time": "2022-03-02T18:56:46.437Z"
   },
   {
    "duration": 5,
    "start_time": "2022-03-02T18:56:46.506Z"
   },
   {
    "duration": 14,
    "start_time": "2022-03-02T18:56:46.514Z"
   },
   {
    "duration": 7,
    "start_time": "2022-03-02T18:56:46.530Z"
   },
   {
    "duration": 46,
    "start_time": "2022-03-02T18:56:46.541Z"
   },
   {
    "duration": 6,
    "start_time": "2022-03-02T18:56:46.591Z"
   },
   {
    "duration": 29,
    "start_time": "2022-03-02T18:56:46.600Z"
   },
   {
    "duration": 177,
    "start_time": "2022-03-02T18:56:46.632Z"
   },
   {
    "duration": 31,
    "start_time": "2022-03-02T18:56:46.811Z"
   },
   {
    "duration": 287,
    "start_time": "2022-03-02T18:56:46.844Z"
   },
   {
    "duration": 62,
    "start_time": "2022-03-02T18:56:47.133Z"
   },
   {
    "duration": 4,
    "start_time": "2022-03-02T18:56:47.197Z"
   },
   {
    "duration": 283,
    "start_time": "2022-03-02T18:56:47.204Z"
   },
   {
    "duration": 66,
    "start_time": "2022-03-02T18:56:47.489Z"
   },
   {
    "duration": 38,
    "start_time": "2022-03-02T18:56:47.557Z"
   },
   {
    "duration": 5,
    "start_time": "2022-03-02T18:56:47.598Z"
   },
   {
    "duration": 8,
    "start_time": "2022-03-02T18:56:47.605Z"
   },
   {
    "duration": 553,
    "start_time": "2022-03-02T18:56:47.615Z"
   },
   {
    "duration": 5,
    "start_time": "2022-03-02T18:56:48.170Z"
   },
   {
    "duration": 15,
    "start_time": "2022-03-02T18:56:48.188Z"
   },
   {
    "duration": 38,
    "start_time": "2022-03-02T18:56:48.206Z"
   },
   {
    "duration": 41,
    "start_time": "2022-03-02T18:56:48.247Z"
   },
   {
    "duration": 21,
    "start_time": "2022-03-02T18:56:48.291Z"
   },
   {
    "duration": 8,
    "start_time": "2022-03-02T18:56:48.315Z"
   },
   {
    "duration": 30,
    "start_time": "2022-03-02T18:56:48.326Z"
   },
   {
    "duration": 59,
    "start_time": "2022-03-02T18:56:48.358Z"
   },
   {
    "duration": 8,
    "start_time": "2022-03-02T18:56:48.421Z"
   },
   {
    "duration": 13,
    "start_time": "2022-03-02T18:56:48.432Z"
   },
   {
    "duration": 56,
    "start_time": "2022-03-02T18:56:48.448Z"
   },
   {
    "duration": 8,
    "start_time": "2022-03-02T18:56:48.507Z"
   },
   {
    "duration": 8,
    "start_time": "2022-03-02T18:56:48.517Z"
   },
   {
    "duration": 9,
    "start_time": "2022-03-02T18:56:48.527Z"
   },
   {
    "duration": 6,
    "start_time": "2022-03-02T18:56:48.538Z"
   },
   {
    "duration": 14,
    "start_time": "2022-03-02T18:56:48.588Z"
   },
   {
    "duration": 37,
    "start_time": "2022-03-02T18:56:48.605Z"
   },
   {
    "duration": 191,
    "start_time": "2022-03-02T18:56:48.645Z"
   },
   {
    "duration": 673,
    "start_time": "2022-03-02T18:56:48.845Z"
   },
   {
    "duration": 94,
    "start_time": "2022-03-02T18:56:49.522Z"
   },
   {
    "duration": 5,
    "start_time": "2022-03-02T18:56:49.619Z"
   },
   {
    "duration": 9,
    "start_time": "2022-03-02T18:56:49.626Z"
   },
   {
    "duration": 17,
    "start_time": "2022-03-02T18:56:49.638Z"
   },
   {
    "duration": 5,
    "start_time": "2022-03-02T18:56:49.686Z"
   },
   {
    "duration": 5,
    "start_time": "2022-03-02T18:56:49.695Z"
   },
   {
    "duration": 6,
    "start_time": "2022-03-02T18:56:49.703Z"
   },
   {
    "duration": 6,
    "start_time": "2022-03-02T18:56:49.712Z"
   },
   {
    "duration": 260,
    "start_time": "2022-03-02T18:57:07.082Z"
   },
   {
    "duration": 708,
    "start_time": "2022-03-02T18:57:33.579Z"
   },
   {
    "duration": 1972,
    "start_time": "2022-03-02T18:58:29.291Z"
   },
   {
    "duration": 3044,
    "start_time": "2022-03-02T18:58:31.267Z"
   },
   {
    "duration": 33,
    "start_time": "2022-03-02T18:58:34.316Z"
   },
   {
    "duration": 18,
    "start_time": "2022-03-02T18:58:34.353Z"
   },
   {
    "duration": 14,
    "start_time": "2022-03-02T18:58:34.374Z"
   },
   {
    "duration": 22,
    "start_time": "2022-03-02T18:58:34.390Z"
   },
   {
    "duration": 246,
    "start_time": "2022-03-02T18:58:34.415Z"
   },
   {
    "duration": 23,
    "start_time": "2022-03-02T18:58:34.665Z"
   },
   {
    "duration": 40,
    "start_time": "2022-03-02T18:58:34.692Z"
   },
   {
    "duration": 55,
    "start_time": "2022-03-02T18:58:34.735Z"
   },
   {
    "duration": 47,
    "start_time": "2022-03-02T18:58:34.792Z"
   },
   {
    "duration": 86,
    "start_time": "2022-03-02T18:58:34.842Z"
   },
   {
    "duration": 14,
    "start_time": "2022-03-02T18:58:34.930Z"
   },
   {
    "duration": 45,
    "start_time": "2022-03-02T18:58:34.946Z"
   },
   {
    "duration": 95,
    "start_time": "2022-03-02T18:58:34.994Z"
   },
   {
    "duration": 83,
    "start_time": "2022-03-02T18:58:35.091Z"
   },
   {
    "duration": 86,
    "start_time": "2022-03-02T18:58:35.188Z"
   },
   {
    "duration": 76,
    "start_time": "2022-03-02T18:58:35.286Z"
   },
   {
    "duration": 22,
    "start_time": "2022-03-02T18:58:35.365Z"
   },
   {
    "duration": 7,
    "start_time": "2022-03-02T18:58:35.390Z"
   },
   {
    "duration": 12,
    "start_time": "2022-03-02T18:58:35.400Z"
   },
   {
    "duration": 11,
    "start_time": "2022-03-02T18:58:35.415Z"
   },
   {
    "duration": 53,
    "start_time": "2022-03-02T18:58:35.434Z"
   },
   {
    "duration": 7,
    "start_time": "2022-03-02T18:58:35.491Z"
   },
   {
    "duration": 12,
    "start_time": "2022-03-02T18:58:35.500Z"
   },
   {
    "duration": 10,
    "start_time": "2022-03-02T18:58:35.515Z"
   },
   {
    "duration": 10,
    "start_time": "2022-03-02T18:58:35.528Z"
   },
   {
    "duration": 8,
    "start_time": "2022-03-02T18:58:35.540Z"
   },
   {
    "duration": 8,
    "start_time": "2022-03-02T18:58:35.587Z"
   },
   {
    "duration": 33,
    "start_time": "2022-03-02T18:58:35.598Z"
   },
   {
    "duration": 9,
    "start_time": "2022-03-02T18:58:35.633Z"
   },
   {
    "duration": 43,
    "start_time": "2022-03-02T18:58:35.645Z"
   },
   {
    "duration": 33,
    "start_time": "2022-03-02T18:58:35.691Z"
   },
   {
    "duration": 27,
    "start_time": "2022-03-02T18:58:35.726Z"
   },
   {
    "duration": 34,
    "start_time": "2022-03-02T18:58:35.755Z"
   },
   {
    "duration": 22,
    "start_time": "2022-03-02T18:58:35.792Z"
   },
   {
    "duration": 33,
    "start_time": "2022-03-02T18:58:35.816Z"
   },
   {
    "duration": 58,
    "start_time": "2022-03-02T18:58:35.851Z"
   },
   {
    "duration": 147,
    "start_time": "2022-03-02T18:58:35.912Z"
   },
   {
    "duration": 39,
    "start_time": "2022-03-02T18:58:36.062Z"
   },
   {
    "duration": 296,
    "start_time": "2022-03-02T18:58:36.104Z"
   },
   {
    "duration": 51,
    "start_time": "2022-03-02T18:58:36.403Z"
   },
   {
    "duration": 283,
    "start_time": "2022-03-02T18:58:36.456Z"
   },
   {
    "duration": 79,
    "start_time": "2022-03-02T18:58:36.741Z"
   },
   {
    "duration": 22,
    "start_time": "2022-03-02T18:58:36.823Z"
   },
   {
    "duration": 5,
    "start_time": "2022-03-02T18:58:36.847Z"
   },
   {
    "duration": 38,
    "start_time": "2022-03-02T18:58:36.854Z"
   },
   {
    "duration": 560,
    "start_time": "2022-03-02T18:58:36.894Z"
   },
   {
    "duration": 7,
    "start_time": "2022-03-02T18:58:37.457Z"
   },
   {
    "duration": 10,
    "start_time": "2022-03-02T18:58:37.487Z"
   },
   {
    "duration": 33,
    "start_time": "2022-03-02T18:58:37.499Z"
   },
   {
    "duration": 24,
    "start_time": "2022-03-02T18:58:37.534Z"
   },
   {
    "duration": 20,
    "start_time": "2022-03-02T18:58:37.588Z"
   },
   {
    "duration": 6,
    "start_time": "2022-03-02T18:58:37.611Z"
   },
   {
    "duration": 25,
    "start_time": "2022-03-02T18:58:37.619Z"
   },
   {
    "duration": 59,
    "start_time": "2022-03-02T18:58:37.646Z"
   },
   {
    "duration": 5,
    "start_time": "2022-03-02T18:58:37.708Z"
   },
   {
    "duration": 12,
    "start_time": "2022-03-02T18:58:37.716Z"
   },
   {
    "duration": 57,
    "start_time": "2022-03-02T18:58:37.730Z"
   },
   {
    "duration": 6,
    "start_time": "2022-03-02T18:58:37.789Z"
   },
   {
    "duration": 10,
    "start_time": "2022-03-02T18:58:37.797Z"
   },
   {
    "duration": 8,
    "start_time": "2022-03-02T18:58:37.809Z"
   },
   {
    "duration": 9,
    "start_time": "2022-03-02T18:58:37.820Z"
   },
   {
    "duration": 61,
    "start_time": "2022-03-02T18:58:37.831Z"
   },
   {
    "duration": 24,
    "start_time": "2022-03-02T18:58:37.895Z"
   },
   {
    "duration": 145,
    "start_time": "2022-03-02T18:58:37.921Z"
   },
   {
    "duration": 1441,
    "start_time": "2022-03-02T19:00:42.584Z"
   },
   {
    "duration": 3764,
    "start_time": "2022-03-02T19:00:44.028Z"
   },
   {
    "duration": 33,
    "start_time": "2022-03-02T19:00:47.795Z"
   },
   {
    "duration": 16,
    "start_time": "2022-03-02T19:00:47.831Z"
   },
   {
    "duration": 14,
    "start_time": "2022-03-02T19:00:47.850Z"
   },
   {
    "duration": 24,
    "start_time": "2022-03-02T19:00:47.867Z"
   },
   {
    "duration": 255,
    "start_time": "2022-03-02T19:00:47.894Z"
   },
   {
    "duration": 14,
    "start_time": "2022-03-02T19:00:48.153Z"
   },
   {
    "duration": 51,
    "start_time": "2022-03-02T19:00:48.169Z"
   },
   {
    "duration": 43,
    "start_time": "2022-03-02T19:00:48.222Z"
   },
   {
    "duration": 63,
    "start_time": "2022-03-02T19:00:48.268Z"
   },
   {
    "duration": 66,
    "start_time": "2022-03-02T19:00:48.334Z"
   },
   {
    "duration": 14,
    "start_time": "2022-03-02T19:00:48.403Z"
   },
   {
    "duration": 34,
    "start_time": "2022-03-02T19:00:48.419Z"
   },
   {
    "duration": 98,
    "start_time": "2022-03-02T19:00:48.455Z"
   },
   {
    "duration": 114,
    "start_time": "2022-03-02T19:00:48.556Z"
   },
   {
    "duration": 102,
    "start_time": "2022-03-02T19:00:48.674Z"
   },
   {
    "duration": 87,
    "start_time": "2022-03-02T19:00:48.779Z"
   },
   {
    "duration": 21,
    "start_time": "2022-03-02T19:00:48.869Z"
   },
   {
    "duration": 23,
    "start_time": "2022-03-02T19:00:48.893Z"
   },
   {
    "duration": 13,
    "start_time": "2022-03-02T19:00:48.919Z"
   },
   {
    "duration": 10,
    "start_time": "2022-03-02T19:00:48.935Z"
   },
   {
    "duration": 41,
    "start_time": "2022-03-02T19:00:48.953Z"
   },
   {
    "duration": 11,
    "start_time": "2022-03-02T19:00:48.998Z"
   },
   {
    "duration": 9,
    "start_time": "2022-03-02T19:00:49.011Z"
   },
   {
    "duration": 13,
    "start_time": "2022-03-02T19:00:49.023Z"
   },
   {
    "duration": 10,
    "start_time": "2022-03-02T19:00:49.038Z"
   },
   {
    "duration": 37,
    "start_time": "2022-03-02T19:00:49.051Z"
   },
   {
    "duration": 11,
    "start_time": "2022-03-02T19:00:49.091Z"
   },
   {
    "duration": 16,
    "start_time": "2022-03-02T19:00:49.104Z"
   },
   {
    "duration": 6,
    "start_time": "2022-03-02T19:00:49.123Z"
   },
   {
    "duration": 19,
    "start_time": "2022-03-02T19:00:49.132Z"
   },
   {
    "duration": 5,
    "start_time": "2022-03-02T19:00:49.188Z"
   },
   {
    "duration": 14,
    "start_time": "2022-03-02T19:00:49.195Z"
   },
   {
    "duration": 6,
    "start_time": "2022-03-02T19:00:49.211Z"
   },
   {
    "duration": 9,
    "start_time": "2022-03-02T19:00:49.220Z"
   },
   {
    "duration": 5,
    "start_time": "2022-03-02T19:00:49.232Z"
   },
   {
    "duration": 69,
    "start_time": "2022-03-02T19:00:49.239Z"
   },
   {
    "duration": 143,
    "start_time": "2022-03-02T19:00:49.311Z"
   },
   {
    "duration": 36,
    "start_time": "2022-03-02T19:00:49.457Z"
   },
   {
    "duration": 279,
    "start_time": "2022-03-02T19:00:49.496Z"
   },
   {
    "duration": 56,
    "start_time": "2022-03-02T19:00:49.778Z"
   },
   {
    "duration": 278,
    "start_time": "2022-03-02T19:00:49.836Z"
   },
   {
    "duration": 82,
    "start_time": "2022-03-02T19:00:50.117Z"
   },
   {
    "duration": 21,
    "start_time": "2022-03-02T19:00:50.202Z"
   },
   {
    "duration": 4,
    "start_time": "2022-03-02T19:00:50.226Z"
   },
   {
    "duration": 13,
    "start_time": "2022-03-02T19:00:50.233Z"
   },
   {
    "duration": 549,
    "start_time": "2022-03-02T19:00:50.248Z"
   },
   {
    "duration": 5,
    "start_time": "2022-03-02T19:00:50.799Z"
   },
   {
    "duration": 9,
    "start_time": "2022-03-02T19:00:50.806Z"
   },
   {
    "duration": 42,
    "start_time": "2022-03-02T19:00:50.818Z"
   },
   {
    "duration": 43,
    "start_time": "2022-03-02T19:00:50.862Z"
   },
   {
    "duration": 25,
    "start_time": "2022-03-02T19:00:50.908Z"
   },
   {
    "duration": 7,
    "start_time": "2022-03-02T19:00:50.935Z"
   },
   {
    "duration": 52,
    "start_time": "2022-03-02T19:00:50.944Z"
   },
   {
    "duration": 25,
    "start_time": "2022-03-02T19:00:50.998Z"
   },
   {
    "duration": 6,
    "start_time": "2022-03-02T19:00:51.025Z"
   },
   {
    "duration": 12,
    "start_time": "2022-03-02T19:00:51.033Z"
   },
   {
    "duration": 48,
    "start_time": "2022-03-02T19:00:51.047Z"
   },
   {
    "duration": 7,
    "start_time": "2022-03-02T19:00:51.098Z"
   },
   {
    "duration": 11,
    "start_time": "2022-03-02T19:00:51.108Z"
   },
   {
    "duration": 19,
    "start_time": "2022-03-02T19:00:51.121Z"
   },
   {
    "duration": 11,
    "start_time": "2022-03-02T19:00:51.143Z"
   },
   {
    "duration": 11,
    "start_time": "2022-03-02T19:00:51.188Z"
   },
   {
    "duration": 26,
    "start_time": "2022-03-02T19:00:51.202Z"
   },
   {
    "duration": 146,
    "start_time": "2022-03-02T19:00:51.230Z"
   },
   {
    "duration": 683,
    "start_time": "2022-03-02T19:00:51.379Z"
   },
   {
    "duration": 89,
    "start_time": "2022-03-02T19:00:52.069Z"
   },
   {
    "duration": 6,
    "start_time": "2022-03-02T19:00:52.160Z"
   },
   {
    "duration": 20,
    "start_time": "2022-03-02T19:00:52.168Z"
   },
   {
    "duration": 22,
    "start_time": "2022-03-02T19:00:52.190Z"
   },
   {
    "duration": 5,
    "start_time": "2022-03-02T19:00:52.215Z"
   },
   {
    "duration": 14,
    "start_time": "2022-03-02T19:00:52.223Z"
   },
   {
    "duration": 9,
    "start_time": "2022-03-02T19:00:52.240Z"
   },
   {
    "duration": 37,
    "start_time": "2022-03-02T19:00:52.251Z"
   },
   {
    "duration": 1415,
    "start_time": "2022-03-03T05:42:25.183Z"
   },
   {
    "duration": 4471,
    "start_time": "2022-03-03T05:42:26.600Z"
   },
   {
    "duration": 39,
    "start_time": "2022-03-03T05:42:31.076Z"
   },
   {
    "duration": 17,
    "start_time": "2022-03-03T05:42:31.118Z"
   },
   {
    "duration": 27,
    "start_time": "2022-03-03T05:42:31.138Z"
   },
   {
    "duration": 30,
    "start_time": "2022-03-03T05:42:31.168Z"
   },
   {
    "duration": 251,
    "start_time": "2022-03-03T05:42:31.201Z"
   },
   {
    "duration": 15,
    "start_time": "2022-03-03T05:42:31.454Z"
   },
   {
    "duration": 39,
    "start_time": "2022-03-03T05:42:31.472Z"
   },
   {
    "duration": 61,
    "start_time": "2022-03-03T05:42:31.514Z"
   },
   {
    "duration": 44,
    "start_time": "2022-03-03T05:42:31.578Z"
   },
   {
    "duration": 73,
    "start_time": "2022-03-03T05:42:31.625Z"
   },
   {
    "duration": 13,
    "start_time": "2022-03-03T05:42:31.700Z"
   },
   {
    "duration": 56,
    "start_time": "2022-03-03T05:42:31.715Z"
   },
   {
    "duration": 78,
    "start_time": "2022-03-03T05:42:31.774Z"
   },
   {
    "duration": 77,
    "start_time": "2022-03-03T05:42:31.855Z"
   },
   {
    "duration": 90,
    "start_time": "2022-03-03T05:42:31.935Z"
   },
   {
    "duration": 85,
    "start_time": "2022-03-03T05:42:32.027Z"
   },
   {
    "duration": 6,
    "start_time": "2022-03-03T05:42:32.114Z"
   },
   {
    "duration": 6,
    "start_time": "2022-03-03T05:42:32.123Z"
   },
   {
    "duration": 11,
    "start_time": "2022-03-03T05:42:32.152Z"
   },
   {
    "duration": 9,
    "start_time": "2022-03-03T05:42:32.165Z"
   },
   {
    "duration": 11,
    "start_time": "2022-03-03T05:42:32.177Z"
   },
   {
    "duration": 9,
    "start_time": "2022-03-03T05:42:32.190Z"
   },
   {
    "duration": 9,
    "start_time": "2022-03-03T05:42:32.202Z"
   },
   {
    "duration": 8,
    "start_time": "2022-03-03T05:42:32.252Z"
   },
   {
    "duration": 8,
    "start_time": "2022-03-03T05:42:32.267Z"
   },
   {
    "duration": 6,
    "start_time": "2022-03-03T05:42:32.278Z"
   },
   {
    "duration": 8,
    "start_time": "2022-03-03T05:42:32.286Z"
   },
   {
    "duration": 13,
    "start_time": "2022-03-03T05:42:32.296Z"
   },
   {
    "duration": 43,
    "start_time": "2022-03-03T05:42:32.311Z"
   },
   {
    "duration": 19,
    "start_time": "2022-03-03T05:42:32.357Z"
   },
   {
    "duration": 4,
    "start_time": "2022-03-03T05:42:32.378Z"
   },
   {
    "duration": 11,
    "start_time": "2022-03-03T05:42:32.384Z"
   },
   {
    "duration": 7,
    "start_time": "2022-03-03T05:42:32.398Z"
   },
   {
    "duration": 50,
    "start_time": "2022-03-03T05:42:32.407Z"
   },
   {
    "duration": 6,
    "start_time": "2022-03-03T05:42:32.460Z"
   },
   {
    "duration": 32,
    "start_time": "2022-03-03T05:42:32.468Z"
   },
   {
    "duration": 153,
    "start_time": "2022-03-03T05:42:32.503Z"
   },
   {
    "duration": 28,
    "start_time": "2022-03-03T05:42:32.659Z"
   },
   {
    "duration": 276,
    "start_time": "2022-03-03T05:42:32.689Z"
   },
   {
    "duration": 50,
    "start_time": "2022-03-03T05:42:32.968Z"
   },
   {
    "duration": 302,
    "start_time": "2022-03-03T05:42:33.021Z"
   },
   {
    "duration": 78,
    "start_time": "2022-03-03T05:42:33.326Z"
   },
   {
    "duration": 24,
    "start_time": "2022-03-03T05:42:33.406Z"
   },
   {
    "duration": 5,
    "start_time": "2022-03-03T05:42:33.452Z"
   },
   {
    "duration": 7,
    "start_time": "2022-03-03T05:42:33.460Z"
   },
   {
    "duration": 336,
    "start_time": "2022-03-03T05:42:33.469Z"
   },
   {
    "duration": -68,
    "start_time": "2022-03-03T05:42:33.876Z"
   },
   {
    "duration": -83,
    "start_time": "2022-03-03T05:42:33.893Z"
   },
   {
    "duration": -107,
    "start_time": "2022-03-03T05:42:33.918Z"
   },
   {
    "duration": -109,
    "start_time": "2022-03-03T05:42:33.922Z"
   },
   {
    "duration": -119,
    "start_time": "2022-03-03T05:42:33.933Z"
   },
   {
    "duration": -122,
    "start_time": "2022-03-03T05:42:33.938Z"
   },
   {
    "duration": -130,
    "start_time": "2022-03-03T05:42:33.947Z"
   },
   {
    "duration": -131,
    "start_time": "2022-03-03T05:42:33.949Z"
   },
   {
    "duration": -131,
    "start_time": "2022-03-03T05:42:33.951Z"
   },
   {
    "duration": -131,
    "start_time": "2022-03-03T05:42:33.952Z"
   },
   {
    "duration": -132,
    "start_time": "2022-03-03T05:42:33.955Z"
   },
   {
    "duration": -136,
    "start_time": "2022-03-03T05:42:33.961Z"
   },
   {
    "duration": -137,
    "start_time": "2022-03-03T05:42:33.963Z"
   },
   {
    "duration": -137,
    "start_time": "2022-03-03T05:42:33.965Z"
   },
   {
    "duration": -138,
    "start_time": "2022-03-03T05:42:33.967Z"
   },
   {
    "duration": -138,
    "start_time": "2022-03-03T05:42:33.969Z"
   },
   {
    "duration": -138,
    "start_time": "2022-03-03T05:42:33.971Z"
   },
   {
    "duration": -144,
    "start_time": "2022-03-03T05:42:33.978Z"
   },
   {
    "duration": -144,
    "start_time": "2022-03-03T05:42:33.980Z"
   },
   {
    "duration": -145,
    "start_time": "2022-03-03T05:42:33.982Z"
   },
   {
    "duration": -144,
    "start_time": "2022-03-03T05:42:33.983Z"
   },
   {
    "duration": -144,
    "start_time": "2022-03-03T05:42:33.985Z"
   },
   {
    "duration": -145,
    "start_time": "2022-03-03T05:42:33.987Z"
   },
   {
    "duration": -150,
    "start_time": "2022-03-03T05:42:33.994Z"
   },
   {
    "duration": -145,
    "start_time": "2022-03-03T05:42:33.996Z"
   },
   {
    "duration": -146,
    "start_time": "2022-03-03T05:42:33.998Z"
   },
   {
    "duration": 2979,
    "start_time": "2022-03-03T05:44:26.294Z"
   },
   {
    "duration": 5,
    "start_time": "2022-03-03T05:44:29.975Z"
   },
   {
    "duration": 3068,
    "start_time": "2022-03-03T05:44:39.564Z"
   },
   {
    "duration": 1321,
    "start_time": "2022-03-03T05:44:42.635Z"
   },
   {
    "duration": 28,
    "start_time": "2022-03-03T05:44:43.959Z"
   },
   {
    "duration": 14,
    "start_time": "2022-03-03T05:44:43.990Z"
   },
   {
    "duration": 12,
    "start_time": "2022-03-03T05:44:44.006Z"
   },
   {
    "duration": 29,
    "start_time": "2022-03-03T05:44:44.021Z"
   },
   {
    "duration": 236,
    "start_time": "2022-03-03T05:44:44.052Z"
   },
   {
    "duration": 13,
    "start_time": "2022-03-03T05:44:44.290Z"
   },
   {
    "duration": 52,
    "start_time": "2022-03-03T05:44:44.307Z"
   },
   {
    "duration": 36,
    "start_time": "2022-03-03T05:44:44.362Z"
   },
   {
    "duration": 64,
    "start_time": "2022-03-03T05:44:44.401Z"
   },
   {
    "duration": 52,
    "start_time": "2022-03-03T05:44:44.468Z"
   },
   {
    "duration": 41,
    "start_time": "2022-03-03T05:44:44.522Z"
   },
   {
    "duration": 31,
    "start_time": "2022-03-03T05:44:44.565Z"
   },
   {
    "duration": 89,
    "start_time": "2022-03-03T05:44:44.599Z"
   },
   {
    "duration": 85,
    "start_time": "2022-03-03T05:44:44.690Z"
   },
   {
    "duration": 85,
    "start_time": "2022-03-03T05:44:44.777Z"
   },
   {
    "duration": 64,
    "start_time": "2022-03-03T05:44:44.864Z"
   },
   {
    "duration": 21,
    "start_time": "2022-03-03T05:44:44.930Z"
   },
   {
    "duration": 5,
    "start_time": "2022-03-03T05:44:44.953Z"
   },
   {
    "duration": 10,
    "start_time": "2022-03-03T05:44:44.961Z"
   },
   {
    "duration": 8,
    "start_time": "2022-03-03T05:44:44.973Z"
   },
   {
    "duration": 7,
    "start_time": "2022-03-03T05:44:44.983Z"
   },
   {
    "duration": 58,
    "start_time": "2022-03-03T05:44:44.993Z"
   },
   {
    "duration": 5,
    "start_time": "2022-03-03T05:44:45.054Z"
   },
   {
    "duration": 20,
    "start_time": "2022-03-03T05:44:45.061Z"
   },
   {
    "duration": 6,
    "start_time": "2022-03-03T05:44:45.087Z"
   },
   {
    "duration": 10,
    "start_time": "2022-03-03T05:44:45.096Z"
   },
   {
    "duration": 13,
    "start_time": "2022-03-03T05:44:45.109Z"
   },
   {
    "duration": 30,
    "start_time": "2022-03-03T05:44:45.125Z"
   },
   {
    "duration": 6,
    "start_time": "2022-03-03T05:44:45.157Z"
   },
   {
    "duration": 27,
    "start_time": "2022-03-03T05:44:45.165Z"
   },
   {
    "duration": 5,
    "start_time": "2022-03-03T05:44:45.194Z"
   },
   {
    "duration": 49,
    "start_time": "2022-03-03T05:44:45.202Z"
   },
   {
    "duration": 6,
    "start_time": "2022-03-03T05:44:45.254Z"
   },
   {
    "duration": 14,
    "start_time": "2022-03-03T05:44:45.263Z"
   },
   {
    "duration": 12,
    "start_time": "2022-03-03T05:44:45.279Z"
   },
   {
    "duration": 29,
    "start_time": "2022-03-03T05:44:45.294Z"
   },
   {
    "duration": 150,
    "start_time": "2022-03-03T05:44:45.325Z"
   },
   {
    "duration": 29,
    "start_time": "2022-03-03T05:44:45.477Z"
   },
   {
    "duration": 264,
    "start_time": "2022-03-03T05:44:45.508Z"
   },
   {
    "duration": 48,
    "start_time": "2022-03-03T05:44:45.775Z"
   },
   {
    "duration": 280,
    "start_time": "2022-03-03T05:44:45.825Z"
   },
   {
    "duration": 74,
    "start_time": "2022-03-03T05:44:46.107Z"
   },
   {
    "duration": 25,
    "start_time": "2022-03-03T05:44:46.184Z"
   },
   {
    "duration": 5,
    "start_time": "2022-03-03T05:44:46.212Z"
   },
   {
    "duration": 34,
    "start_time": "2022-03-03T05:44:46.220Z"
   },
   {
    "duration": 511,
    "start_time": "2022-03-03T05:44:46.257Z"
   },
   {
    "duration": 6,
    "start_time": "2022-03-03T05:44:46.771Z"
   },
   {
    "duration": 9,
    "start_time": "2022-03-03T05:44:46.781Z"
   },
   {
    "duration": 62,
    "start_time": "2022-03-03T05:44:46.792Z"
   },
   {
    "duration": 23,
    "start_time": "2022-03-03T05:44:46.857Z"
   },
   {
    "duration": 18,
    "start_time": "2022-03-03T05:44:46.883Z"
   },
   {
    "duration": 5,
    "start_time": "2022-03-03T05:44:46.904Z"
   },
   {
    "duration": 57,
    "start_time": "2022-03-03T05:44:46.911Z"
   },
   {
    "duration": 21,
    "start_time": "2022-03-03T05:44:46.971Z"
   },
   {
    "duration": 5,
    "start_time": "2022-03-03T05:44:46.995Z"
   },
   {
    "duration": 10,
    "start_time": "2022-03-03T05:44:47.002Z"
   },
   {
    "duration": 14,
    "start_time": "2022-03-03T05:44:47.050Z"
   },
   {
    "duration": 6,
    "start_time": "2022-03-03T05:44:47.066Z"
   },
   {
    "duration": 8,
    "start_time": "2022-03-03T05:44:47.074Z"
   },
   {
    "duration": 8,
    "start_time": "2022-03-03T05:44:47.084Z"
   },
   {
    "duration": 7,
    "start_time": "2022-03-03T05:44:47.095Z"
   },
   {
    "duration": 56,
    "start_time": "2022-03-03T05:44:47.105Z"
   },
   {
    "duration": 27,
    "start_time": "2022-03-03T05:44:47.163Z"
   },
   {
    "duration": 138,
    "start_time": "2022-03-03T05:44:47.192Z"
   },
   {
    "duration": 84,
    "start_time": "2022-03-03T05:44:47.332Z"
   },
   {
    "duration": 4,
    "start_time": "2022-03-03T05:44:47.419Z"
   },
   {
    "duration": 7,
    "start_time": "2022-03-03T05:44:47.425Z"
   },
   {
    "duration": 13,
    "start_time": "2022-03-03T05:44:47.452Z"
   },
   {
    "duration": 8,
    "start_time": "2022-03-03T05:44:47.467Z"
   },
   {
    "duration": 7,
    "start_time": "2022-03-03T05:44:47.477Z"
   },
   {
    "duration": 5,
    "start_time": "2022-03-03T05:44:47.486Z"
   },
   {
    "duration": 5,
    "start_time": "2022-03-03T05:44:47.493Z"
   }
  ],
  "celltoolbar": "Отсутствует",
  "kernelspec": {
   "display_name": "Python 3 (ipykernel)",
   "language": "python",
   "name": "python3"
  },
  "language_info": {
   "codemirror_mode": {
    "name": "ipython",
    "version": 3
   },
   "file_extension": ".py",
   "mimetype": "text/x-python",
   "name": "python",
   "nbconvert_exporter": "python",
   "pygments_lexer": "ipython3",
   "version": "3.9.5"
  },
  "toc": {
   "base_numbering": 1,
   "nav_menu": {},
   "number_sections": false,
   "sideBar": true,
   "skip_h1_title": true,
   "title_cell": "Table of Contents",
   "title_sidebar": "Contents",
   "toc_cell": false,
   "toc_position": {},
   "toc_section_display": true,
   "toc_window_display": true
  }
 },
 "nbformat": 4,
 "nbformat_minor": 5
}
