{
 "cells": [
  {
   "cell_type": "markdown",
   "metadata": {},
   "source": [
    "# Рынок заведений общественного питания Москвы"
   ]
  },
  {
   "cell_type": "markdown",
   "metadata": {},
   "source": [
    "## Описание проекта"
   ]
  },
  {
   "cell_type": "markdown",
   "metadata": {},
   "source": [
    "Вы решили открыть небольшое кафе в Москве. Оно оригинальное — гостей должны обслуживать роботы. Проект многообещающий, но дорогой. Вместе с партнёрами вы решились обратиться к инвесторам. Их интересует текущее положение дел на рынке — сможете ли вы снискать популярность на долгое время, когда все зеваки насмотрятся на роботов-официантов?\n",
    "\n",
    "Вы — гуру аналитики, и партнёры просят вас подготовить исследование рынка. У вас есть открытые данные о заведениях общественного питания в Москве."
   ]
  },
  {
   "cell_type": "markdown",
   "metadata": {},
   "source": [
    "## Инструкция по выполнению проекта"
   ]
  },
  {
   "cell_type": "markdown",
   "metadata": {},
   "source": [
    "### Шаг №1. Загрузите данные и подготовьте их к анализу"
   ]
  },
  {
   "cell_type": "markdown",
   "metadata": {},
   "source": [
    "Загрузите данные о заведениях общественного питания Москвы. Убедитесь, что тип данных в каждой колонке — правильный, а также отсутствуют пропущенные значения и дубликаты. При необходимости обработайте их.\n",
    "\n",
    "Путь к файлу: /datasets/rest_data.csv"
   ]
  },
  {
   "cell_type": "markdown",
   "metadata": {},
   "source": [
    "### Шаг №2. Анализ данных"
   ]
  },
  {
   "cell_type": "markdown",
   "metadata": {},
   "source": [
    " - Исследуйте соотношение видов объектов общественного питания по количеству. Постройте график.\n",
    " - Исследуйте соотношение сетевых и несетевых заведений по количеству. Постройте график.\n",
    " - Для какого вида объекта общественного питания характерно сетевое распространение?\n",
    " - Что характерно для сетевых заведений: много заведений с небольшим числом посадочных мест в каждом или мало заведений с большим количеством посадочных мест?\n",
    " - Для каждого вида объекта общественного питания опишите среднее количество посадочных мест. Какой вид предоставляет в среднем самое большое количество посадочных мест? Постройте графики.\n",
    " - Выделите в отдельный столбец информацию об улице из столбца address .\n",
    " - Постройте график топ-10 улиц по количеству объектов общественного питания. Воспользуйтесь внешней информацией и ответьте на вопрос — в каких районах Москвы находятся эти улицы?\n",
    " - Найдите число улиц с одним объектом общественного питания. Воспользуйтесь внешней информацией и ответьте на вопрос — в каких районах Москвы находятся эти улицы?\n",
    " - Посмотрите на распределение количества посадочных мест для улиц с большим количеством объектов общественного питания. Какие закономерности можно выявить?\n",
    " \n",
    "Сделайте общий вывод и дайте рекомендации о виде заведения, количестве посадочных мест, а также районе расположения. Прокомментируйте возможность развития сети."
   ]
  },
  {
   "cell_type": "markdown",
   "metadata": {},
   "source": [
    "### Шаг №3. Подготовка презентации"
   ]
  },
  {
   "cell_type": "markdown",
   "metadata": {},
   "source": [
    "Подготовьте презентацию исследования для инвесторов. Для создания презентации используйте любой удобный инструмент, но отправить презентацию нужно обязательно в формате pdf. Приложите ссылку на презентацию в markdown-ячейке"
   ]
  },
  {
   "cell_type": "markdown",
   "metadata": {},
   "source": [
    "## Описание данных"
   ]
  },
  {
   "cell_type": "markdown",
   "metadata": {},
   "source": [
    "Таблица rest_data:\n",
    " - id — идентификатор объекта;\n",
    " - object_name — название объекта общественного питания;\n",
    " - chain — сетевой ресторан;\n",
    " - object_type — тип объекта общественного питания;\n",
    " - address — адрес;\n",
    " - number — количество посадочных мест."
   ]
  },
  {
   "cell_type": "markdown",
   "metadata": {},
   "source": [
    "## Шаг №1. Загрузите данные и подготовьте их к анализу"
   ]
  },
  {
   "cell_type": "code",
   "execution_count": 1,
   "metadata": {},
   "outputs": [],
   "source": [
    "import pandas as pd\n",
    "import matplotlib.pyplot as plt\n",
    "import numpy as np\n",
    "from pylab import rcParams\n",
    "import seaborn as sns\n",
    "from io import BytesIO\n",
    "import requests"
   ]
  },
  {
   "cell_type": "code",
   "execution_count": 2,
   "metadata": {},
   "outputs": [],
   "source": [
    "df = pd.read_csv('/datasets/rest_data.csv')"
   ]
  },
  {
   "cell_type": "code",
   "execution_count": 3,
   "metadata": {},
   "outputs": [
    {
     "data": {
      "text/html": [
       "<div>\n",
       "<style scoped>\n",
       "    .dataframe tbody tr th:only-of-type {\n",
       "        vertical-align: middle;\n",
       "    }\n",
       "\n",
       "    .dataframe tbody tr th {\n",
       "        vertical-align: top;\n",
       "    }\n",
       "\n",
       "    .dataframe thead th {\n",
       "        text-align: right;\n",
       "    }\n",
       "</style>\n",
       "<table border=\"1\" class=\"dataframe\">\n",
       "  <thead>\n",
       "    <tr style=\"text-align: right;\">\n",
       "      <th></th>\n",
       "      <th>id</th>\n",
       "      <th>object_name</th>\n",
       "      <th>chain</th>\n",
       "      <th>object_type</th>\n",
       "      <th>address</th>\n",
       "      <th>number</th>\n",
       "    </tr>\n",
       "  </thead>\n",
       "  <tbody>\n",
       "    <tr>\n",
       "      <td>0</td>\n",
       "      <td>151635</td>\n",
       "      <td>СМЕТАНА</td>\n",
       "      <td>нет</td>\n",
       "      <td>кафе</td>\n",
       "      <td>город Москва, улица Егора Абакумова, дом 9</td>\n",
       "      <td>48</td>\n",
       "    </tr>\n",
       "    <tr>\n",
       "      <td>1</td>\n",
       "      <td>77874</td>\n",
       "      <td>Родник</td>\n",
       "      <td>нет</td>\n",
       "      <td>кафе</td>\n",
       "      <td>город Москва, улица Талалихина, дом 2/1, корпус 1</td>\n",
       "      <td>35</td>\n",
       "    </tr>\n",
       "    <tr>\n",
       "      <td>2</td>\n",
       "      <td>24309</td>\n",
       "      <td>Кафе «Академия»</td>\n",
       "      <td>нет</td>\n",
       "      <td>кафе</td>\n",
       "      <td>город Москва, Абельмановская улица, дом 6</td>\n",
       "      <td>95</td>\n",
       "    </tr>\n",
       "    <tr>\n",
       "      <td>3</td>\n",
       "      <td>21894</td>\n",
       "      <td>ПИЦЦЕТОРИЯ</td>\n",
       "      <td>да</td>\n",
       "      <td>кафе</td>\n",
       "      <td>город Москва, Абрамцевская улица, дом 1</td>\n",
       "      <td>40</td>\n",
       "    </tr>\n",
       "    <tr>\n",
       "      <td>4</td>\n",
       "      <td>119365</td>\n",
       "      <td>Кафе «Вишневая метель»</td>\n",
       "      <td>нет</td>\n",
       "      <td>кафе</td>\n",
       "      <td>город Москва, Абрамцевская улица, дом 9, корпус 1</td>\n",
       "      <td>50</td>\n",
       "    </tr>\n",
       "    <tr>\n",
       "      <td>5</td>\n",
       "      <td>27429</td>\n",
       "      <td>СТОЛ. ПРИ ГОУ СОШ № 1051</td>\n",
       "      <td>нет</td>\n",
       "      <td>столовая</td>\n",
       "      <td>город Москва, Абрамцевская улица, дом 15, корп...</td>\n",
       "      <td>240</td>\n",
       "    </tr>\n",
       "    <tr>\n",
       "      <td>6</td>\n",
       "      <td>148815</td>\n",
       "      <td>Брусника</td>\n",
       "      <td>да</td>\n",
       "      <td>кафе</td>\n",
       "      <td>город Москва, переулок Сивцев Вражек, дом 6/2</td>\n",
       "      <td>10</td>\n",
       "    </tr>\n",
       "    <tr>\n",
       "      <td>7</td>\n",
       "      <td>20957</td>\n",
       "      <td>Буфет МТУСИ</td>\n",
       "      <td>нет</td>\n",
       "      <td>столовая</td>\n",
       "      <td>город Москва, Авиамоторная улица, дом 8, строе...</td>\n",
       "      <td>90</td>\n",
       "    </tr>\n",
       "    <tr>\n",
       "      <td>8</td>\n",
       "      <td>20958</td>\n",
       "      <td>КПФ СЕМЬЯ-1</td>\n",
       "      <td>нет</td>\n",
       "      <td>столовая</td>\n",
       "      <td>город Москва, Авиамоторная улица, дом 8, строе...</td>\n",
       "      <td>150</td>\n",
       "    </tr>\n",
       "    <tr>\n",
       "      <td>9</td>\n",
       "      <td>28858</td>\n",
       "      <td>Столовая МТУСИ</td>\n",
       "      <td>нет</td>\n",
       "      <td>столовая</td>\n",
       "      <td>город Москва, Авиамоторная улица, дом 8, строе...</td>\n",
       "      <td>120</td>\n",
       "    </tr>\n",
       "  </tbody>\n",
       "</table>\n",
       "</div>"
      ],
      "text/plain": [
       "       id               object_name chain object_type  \\\n",
       "0  151635                   СМЕТАНА   нет        кафе   \n",
       "1   77874                    Родник   нет        кафе   \n",
       "2   24309           Кафе «Академия»   нет        кафе   \n",
       "3   21894                ПИЦЦЕТОРИЯ    да        кафе   \n",
       "4  119365    Кафе «Вишневая метель»   нет        кафе   \n",
       "5   27429  СТОЛ. ПРИ ГОУ СОШ № 1051   нет    столовая   \n",
       "6  148815                  Брусника    да        кафе   \n",
       "7   20957               Буфет МТУСИ   нет    столовая   \n",
       "8   20958               КПФ СЕМЬЯ-1   нет    столовая   \n",
       "9   28858            Столовая МТУСИ   нет    столовая   \n",
       "\n",
       "                                             address  number  \n",
       "0         город Москва, улица Егора Абакумова, дом 9      48  \n",
       "1  город Москва, улица Талалихина, дом 2/1, корпус 1      35  \n",
       "2          город Москва, Абельмановская улица, дом 6      95  \n",
       "3            город Москва, Абрамцевская улица, дом 1      40  \n",
       "4  город Москва, Абрамцевская улица, дом 9, корпус 1      50  \n",
       "5  город Москва, Абрамцевская улица, дом 15, корп...     240  \n",
       "6      город Москва, переулок Сивцев Вражек, дом 6/2      10  \n",
       "7  город Москва, Авиамоторная улица, дом 8, строе...      90  \n",
       "8  город Москва, Авиамоторная улица, дом 8, строе...     150  \n",
       "9  город Москва, Авиамоторная улица, дом 8, строе...     120  "
      ]
     },
     "execution_count": 3,
     "metadata": {},
     "output_type": "execute_result"
    }
   ],
   "source": [
    "df.head(10)"
   ]
  },
  {
   "cell_type": "code",
   "execution_count": 4,
   "metadata": {},
   "outputs": [
    {
     "name": "stdout",
     "output_type": "stream",
     "text": [
      "<class 'pandas.core.frame.DataFrame'>\n",
      "RangeIndex: 15366 entries, 0 to 15365\n",
      "Data columns (total 6 columns):\n",
      "id             15366 non-null int64\n",
      "object_name    15366 non-null object\n",
      "chain          15366 non-null object\n",
      "object_type    15366 non-null object\n",
      "address        15366 non-null object\n",
      "number         15366 non-null int64\n",
      "dtypes: int64(2), object(4)\n",
      "memory usage: 720.4+ KB\n"
     ]
    }
   ],
   "source": [
    "df.info()"
   ]
  },
  {
   "cell_type": "markdown",
   "metadata": {},
   "source": [
    "Чтобы избежать дубликатов, переведём названия всех объектов в нижний регистр:"
   ]
  },
  {
   "cell_type": "code",
   "execution_count": 5,
   "metadata": {},
   "outputs": [],
   "source": [
    "df['object_name']=df['object_name'].str.lower()"
   ]
  },
  {
   "cell_type": "code",
   "execution_count": 6,
   "metadata": {},
   "outputs": [],
   "source": [
    "df['chain'] = df['chain'].replace({'да':1,'нет':0})\n",
    "df['chain'] = df['chain'].astype('bool')"
   ]
  },
  {
   "cell_type": "code",
   "execution_count": 7,
   "metadata": {},
   "outputs": [
    {
     "data": {
      "text/html": [
       "<div>\n",
       "<style scoped>\n",
       "    .dataframe tbody tr th:only-of-type {\n",
       "        vertical-align: middle;\n",
       "    }\n",
       "\n",
       "    .dataframe tbody tr th {\n",
       "        vertical-align: top;\n",
       "    }\n",
       "\n",
       "    .dataframe thead th {\n",
       "        text-align: right;\n",
       "    }\n",
       "</style>\n",
       "<table border=\"1\" class=\"dataframe\">\n",
       "  <thead>\n",
       "    <tr style=\"text-align: right;\">\n",
       "      <th></th>\n",
       "      <th>id</th>\n",
       "      <th>object_name</th>\n",
       "      <th>chain</th>\n",
       "      <th>object_type</th>\n",
       "      <th>address</th>\n",
       "      <th>number</th>\n",
       "    </tr>\n",
       "  </thead>\n",
       "  <tbody>\n",
       "    <tr>\n",
       "      <td>0</td>\n",
       "      <td>151635</td>\n",
       "      <td>сметана</td>\n",
       "      <td>False</td>\n",
       "      <td>кафе</td>\n",
       "      <td>город Москва, улица Егора Абакумова, дом 9</td>\n",
       "      <td>48</td>\n",
       "    </tr>\n",
       "    <tr>\n",
       "      <td>1</td>\n",
       "      <td>77874</td>\n",
       "      <td>родник</td>\n",
       "      <td>False</td>\n",
       "      <td>кафе</td>\n",
       "      <td>город Москва, улица Талалихина, дом 2/1, корпус 1</td>\n",
       "      <td>35</td>\n",
       "    </tr>\n",
       "    <tr>\n",
       "      <td>2</td>\n",
       "      <td>24309</td>\n",
       "      <td>кафе «академия»</td>\n",
       "      <td>False</td>\n",
       "      <td>кафе</td>\n",
       "      <td>город Москва, Абельмановская улица, дом 6</td>\n",
       "      <td>95</td>\n",
       "    </tr>\n",
       "    <tr>\n",
       "      <td>3</td>\n",
       "      <td>21894</td>\n",
       "      <td>пиццетория</td>\n",
       "      <td>True</td>\n",
       "      <td>кафе</td>\n",
       "      <td>город Москва, Абрамцевская улица, дом 1</td>\n",
       "      <td>40</td>\n",
       "    </tr>\n",
       "    <tr>\n",
       "      <td>4</td>\n",
       "      <td>119365</td>\n",
       "      <td>кафе «вишневая метель»</td>\n",
       "      <td>False</td>\n",
       "      <td>кафе</td>\n",
       "      <td>город Москва, Абрамцевская улица, дом 9, корпус 1</td>\n",
       "      <td>50</td>\n",
       "    </tr>\n",
       "  </tbody>\n",
       "</table>\n",
       "</div>"
      ],
      "text/plain": [
       "       id             object_name  chain object_type  \\\n",
       "0  151635                 сметана  False        кафе   \n",
       "1   77874                  родник  False        кафе   \n",
       "2   24309         кафе «академия»  False        кафе   \n",
       "3   21894              пиццетория   True        кафе   \n",
       "4  119365  кафе «вишневая метель»  False        кафе   \n",
       "\n",
       "                                             address  number  \n",
       "0         город Москва, улица Егора Абакумова, дом 9      48  \n",
       "1  город Москва, улица Талалихина, дом 2/1, корпус 1      35  \n",
       "2          город Москва, Абельмановская улица, дом 6      95  \n",
       "3            город Москва, Абрамцевская улица, дом 1      40  \n",
       "4  город Москва, Абрамцевская улица, дом 9, корпус 1      50  "
      ]
     },
     "execution_count": 7,
     "metadata": {},
     "output_type": "execute_result"
    }
   ],
   "source": [
    "df.head()"
   ]
  },
  {
   "cell_type": "markdown",
   "metadata": {},
   "source": [
    "Проверим дубликаты:"
   ]
  },
  {
   "cell_type": "code",
   "execution_count": 8,
   "metadata": {
    "scrolled": true
   },
   "outputs": [
    {
     "data": {
      "text/plain": [
       "0"
      ]
     },
     "execution_count": 8,
     "metadata": {},
     "output_type": "execute_result"
    }
   ],
   "source": [
    "df.duplicated().sum()"
   ]
  },
  {
   "cell_type": "code",
   "execution_count": 9,
   "metadata": {},
   "outputs": [
    {
     "data": {
      "text/plain": [
       "array(['кафе', 'столовая', 'закусочная',\n",
       "       'предприятие быстрого обслуживания', 'ресторан', 'кафетерий',\n",
       "       'буфет', 'бар', 'магазин (отдел кулинарии)'], dtype=object)"
      ]
     },
     "execution_count": 9,
     "metadata": {},
     "output_type": "execute_result"
    }
   ],
   "source": [
    "df['object_type'].unique()"
   ]
  },
  {
   "cell_type": "markdown",
   "metadata": {},
   "source": [
    "Можно заменить некоторые названия объектов на более короткие:"
   ]
  },
  {
   "cell_type": "code",
   "execution_count": 10,
   "metadata": {},
   "outputs": [],
   "source": [
    "df['object_type'] = df['object_type'].replace({'предприятие быстрого обслуживания': \n",
    "                                               'фастфуд', 'магазин (отдел кулинарии)': 'отдел кулинарии'})"
   ]
  },
  {
   "cell_type": "code",
   "execution_count": 11,
   "metadata": {},
   "outputs": [
    {
     "data": {
      "text/plain": [
       "15366"
      ]
     },
     "execution_count": 11,
     "metadata": {},
     "output_type": "execute_result"
    }
   ],
   "source": [
    "len(df)"
   ]
  },
  {
   "cell_type": "code",
   "execution_count": 12,
   "metadata": {},
   "outputs": [],
   "source": [
    "df['object_name']=df['object_name'].replace(regex=[\"ресторан \", \"кафе \", \"пиццерия \", 'кофейня ', '«', '»'], value='')"
   ]
  },
  {
   "cell_type": "code",
   "execution_count": 13,
   "metadata": {},
   "outputs": [],
   "source": [
    "df['object_name']=df['object_name'].replace({'сабвей': 'subway', \n",
    "                                             'старбакс': 'starbucks', 'pizza express': 'пицца экспресс', \n",
    "                                             'baskin robbins': 'баскин роббинс', 'pizza hut': 'пицца хат', \n",
    "                                             'кофикс': 'cofix', 'dominos pizza': \"домино'с пицца\", 'mcdonalds': 'макдоналдс', \n",
    "                                             'бургер кинг': 'burger king', 'il patio': 'иль патио', 'prime star': 'прайм стар',\n",
    "                                             'коста кофе': 'costa coffee'})"
   ]
  },
  {
   "cell_type": "code",
   "execution_count": 14,
   "metadata": {},
   "outputs": [
    {
     "data": {
      "text/plain": [
       "15366"
      ]
     },
     "execution_count": 14,
     "metadata": {},
     "output_type": "execute_result"
    }
   ],
   "source": [
    "len(df)"
   ]
  },
  {
   "cell_type": "code",
   "execution_count": 15,
   "metadata": {},
   "outputs": [
    {
     "data": {
      "text/html": [
       "<div>\n",
       "<style scoped>\n",
       "    .dataframe tbody tr th:only-of-type {\n",
       "        vertical-align: middle;\n",
       "    }\n",
       "\n",
       "    .dataframe tbody tr th {\n",
       "        vertical-align: top;\n",
       "    }\n",
       "\n",
       "    .dataframe thead th {\n",
       "        text-align: right;\n",
       "    }\n",
       "</style>\n",
       "<table border=\"1\" class=\"dataframe\">\n",
       "  <thead>\n",
       "    <tr style=\"text-align: right;\">\n",
       "      <th></th>\n",
       "      <th>id</th>\n",
       "      <th>object_name</th>\n",
       "      <th>chain</th>\n",
       "      <th>object_type</th>\n",
       "      <th>address</th>\n",
       "      <th>number</th>\n",
       "    </tr>\n",
       "  </thead>\n",
       "  <tbody>\n",
       "    <tr>\n",
       "      <td>0</td>\n",
       "      <td>151635</td>\n",
       "      <td>сметана</td>\n",
       "      <td>False</td>\n",
       "      <td>кафе</td>\n",
       "      <td>город Москва, улица Егора Абакумова, дом 9</td>\n",
       "      <td>48</td>\n",
       "    </tr>\n",
       "    <tr>\n",
       "      <td>1</td>\n",
       "      <td>77874</td>\n",
       "      <td>родник</td>\n",
       "      <td>False</td>\n",
       "      <td>кафе</td>\n",
       "      <td>город Москва, улица Талалихина, дом 2/1, корпус 1</td>\n",
       "      <td>35</td>\n",
       "    </tr>\n",
       "    <tr>\n",
       "      <td>2</td>\n",
       "      <td>24309</td>\n",
       "      <td>академия</td>\n",
       "      <td>False</td>\n",
       "      <td>кафе</td>\n",
       "      <td>город Москва, Абельмановская улица, дом 6</td>\n",
       "      <td>95</td>\n",
       "    </tr>\n",
       "    <tr>\n",
       "      <td>3</td>\n",
       "      <td>21894</td>\n",
       "      <td>пиццетория</td>\n",
       "      <td>True</td>\n",
       "      <td>кафе</td>\n",
       "      <td>город Москва, Абрамцевская улица, дом 1</td>\n",
       "      <td>40</td>\n",
       "    </tr>\n",
       "    <tr>\n",
       "      <td>4</td>\n",
       "      <td>119365</td>\n",
       "      <td>вишневая метель</td>\n",
       "      <td>False</td>\n",
       "      <td>кафе</td>\n",
       "      <td>город Москва, Абрамцевская улица, дом 9, корпус 1</td>\n",
       "      <td>50</td>\n",
       "    </tr>\n",
       "    <tr>\n",
       "      <td>5</td>\n",
       "      <td>27429</td>\n",
       "      <td>стол. при гоу сош № 1051</td>\n",
       "      <td>False</td>\n",
       "      <td>столовая</td>\n",
       "      <td>город Москва, Абрамцевская улица, дом 15, корп...</td>\n",
       "      <td>240</td>\n",
       "    </tr>\n",
       "    <tr>\n",
       "      <td>6</td>\n",
       "      <td>148815</td>\n",
       "      <td>брусника</td>\n",
       "      <td>True</td>\n",
       "      <td>кафе</td>\n",
       "      <td>город Москва, переулок Сивцев Вражек, дом 6/2</td>\n",
       "      <td>10</td>\n",
       "    </tr>\n",
       "    <tr>\n",
       "      <td>7</td>\n",
       "      <td>20957</td>\n",
       "      <td>буфет мтуси</td>\n",
       "      <td>False</td>\n",
       "      <td>столовая</td>\n",
       "      <td>город Москва, Авиамоторная улица, дом 8, строе...</td>\n",
       "      <td>90</td>\n",
       "    </tr>\n",
       "    <tr>\n",
       "      <td>8</td>\n",
       "      <td>20958</td>\n",
       "      <td>кпф семья-1</td>\n",
       "      <td>False</td>\n",
       "      <td>столовая</td>\n",
       "      <td>город Москва, Авиамоторная улица, дом 8, строе...</td>\n",
       "      <td>150</td>\n",
       "    </tr>\n",
       "    <tr>\n",
       "      <td>9</td>\n",
       "      <td>28858</td>\n",
       "      <td>столовая мтуси</td>\n",
       "      <td>False</td>\n",
       "      <td>столовая</td>\n",
       "      <td>город Москва, Авиамоторная улица, дом 8, строе...</td>\n",
       "      <td>120</td>\n",
       "    </tr>\n",
       "    <tr>\n",
       "      <td>10</td>\n",
       "      <td>148595</td>\n",
       "      <td>пекарня 24</td>\n",
       "      <td>False</td>\n",
       "      <td>закусочная</td>\n",
       "      <td>город Москва, Авиамоторная улица, дом 47</td>\n",
       "      <td>5</td>\n",
       "    </tr>\n",
       "    <tr>\n",
       "      <td>11</td>\n",
       "      <td>23394</td>\n",
       "      <td>гогиели</td>\n",
       "      <td>False</td>\n",
       "      <td>кафе</td>\n",
       "      <td>город Москва, Авиамоторная улица, дом 49/1</td>\n",
       "      <td>24</td>\n",
       "    </tr>\n",
       "    <tr>\n",
       "      <td>12</td>\n",
       "      <td>28582</td>\n",
       "      <td>школа 735</td>\n",
       "      <td>False</td>\n",
       "      <td>столовая</td>\n",
       "      <td>город Москва, Авиамоторная улица, дом 51</td>\n",
       "      <td>140</td>\n",
       "    </tr>\n",
       "    <tr>\n",
       "      <td>13</td>\n",
       "      <td>22579</td>\n",
       "      <td>алло пицца</td>\n",
       "      <td>True</td>\n",
       "      <td>кафе</td>\n",
       "      <td>город Москва, улица Авиаторов, дом 14</td>\n",
       "      <td>32</td>\n",
       "    </tr>\n",
       "    <tr>\n",
       "      <td>14</td>\n",
       "      <td>23670</td>\n",
       "      <td>гимназия 1542</td>\n",
       "      <td>False</td>\n",
       "      <td>столовая</td>\n",
       "      <td>город Москва, улица Авиаторов, дом 16</td>\n",
       "      <td>270</td>\n",
       "    </tr>\n",
       "    <tr>\n",
       "      <td>15</td>\n",
       "      <td>23663</td>\n",
       "      <td>школа 1011</td>\n",
       "      <td>False</td>\n",
       "      <td>столовая</td>\n",
       "      <td>город Москва, улица Авиаторов, дом 18</td>\n",
       "      <td>320</td>\n",
       "    </tr>\n",
       "    <tr>\n",
       "      <td>16</td>\n",
       "      <td>144107</td>\n",
       "      <td>суши wok</td>\n",
       "      <td>True</td>\n",
       "      <td>фастфуд</td>\n",
       "      <td>город Москва, Азовская улица, дом 3</td>\n",
       "      <td>7</td>\n",
       "    </tr>\n",
       "    <tr>\n",
       "      <td>17</td>\n",
       "      <td>154654</td>\n",
       "      <td>донер кебаб</td>\n",
       "      <td>False</td>\n",
       "      <td>фастфуд</td>\n",
       "      <td>город Москва, Азовская улица, дом 4</td>\n",
       "      <td>2</td>\n",
       "    </tr>\n",
       "    <tr>\n",
       "      <td>18</td>\n",
       "      <td>58565</td>\n",
       "      <td>тануки</td>\n",
       "      <td>True</td>\n",
       "      <td>ресторан</td>\n",
       "      <td>город Москва, Большая Академическая улица, дом 65</td>\n",
       "      <td>160</td>\n",
       "    </tr>\n",
       "    <tr>\n",
       "      <td>19</td>\n",
       "      <td>153644</td>\n",
       "      <td>американская лаборатория десертов</td>\n",
       "      <td>False</td>\n",
       "      <td>кафе</td>\n",
       "      <td>город Москва, Филипповский переулок, дом 15/5</td>\n",
       "      <td>20</td>\n",
       "    </tr>\n",
       "  </tbody>\n",
       "</table>\n",
       "</div>"
      ],
      "text/plain": [
       "        id                        object_name  chain object_type  \\\n",
       "0   151635                            сметана  False        кафе   \n",
       "1    77874                             родник  False        кафе   \n",
       "2    24309                           академия  False        кафе   \n",
       "3    21894                         пиццетория   True        кафе   \n",
       "4   119365                    вишневая метель  False        кафе   \n",
       "5    27429           стол. при гоу сош № 1051  False    столовая   \n",
       "6   148815                           брусника   True        кафе   \n",
       "7    20957                        буфет мтуси  False    столовая   \n",
       "8    20958                        кпф семья-1  False    столовая   \n",
       "9    28858                     столовая мтуси  False    столовая   \n",
       "10  148595                         пекарня 24  False  закусочная   \n",
       "11   23394                            гогиели  False        кафе   \n",
       "12   28582                          школа 735  False    столовая   \n",
       "13   22579                         алло пицца   True        кафе   \n",
       "14   23670                      гимназия 1542  False    столовая   \n",
       "15   23663                         школа 1011  False    столовая   \n",
       "16  144107                           суши wok   True     фастфуд   \n",
       "17  154654                        донер кебаб  False     фастфуд   \n",
       "18   58565                             тануки   True    ресторан   \n",
       "19  153644  американская лаборатория десертов  False        кафе   \n",
       "\n",
       "                                              address  number  \n",
       "0          город Москва, улица Егора Абакумова, дом 9      48  \n",
       "1   город Москва, улица Талалихина, дом 2/1, корпус 1      35  \n",
       "2           город Москва, Абельмановская улица, дом 6      95  \n",
       "3             город Москва, Абрамцевская улица, дом 1      40  \n",
       "4   город Москва, Абрамцевская улица, дом 9, корпус 1      50  \n",
       "5   город Москва, Абрамцевская улица, дом 15, корп...     240  \n",
       "6       город Москва, переулок Сивцев Вражек, дом 6/2      10  \n",
       "7   город Москва, Авиамоторная улица, дом 8, строе...      90  \n",
       "8   город Москва, Авиамоторная улица, дом 8, строе...     150  \n",
       "9   город Москва, Авиамоторная улица, дом 8, строе...     120  \n",
       "10           город Москва, Авиамоторная улица, дом 47       5  \n",
       "11         город Москва, Авиамоторная улица, дом 49/1      24  \n",
       "12           город Москва, Авиамоторная улица, дом 51     140  \n",
       "13              город Москва, улица Авиаторов, дом 14      32  \n",
       "14              город Москва, улица Авиаторов, дом 16     270  \n",
       "15              город Москва, улица Авиаторов, дом 18     320  \n",
       "16                город Москва, Азовская улица, дом 3       7  \n",
       "17                город Москва, Азовская улица, дом 4       2  \n",
       "18  город Москва, Большая Академическая улица, дом 65     160  \n",
       "19      город Москва, Филипповский переулок, дом 15/5      20  "
      ]
     },
     "execution_count": 15,
     "metadata": {},
     "output_type": "execute_result"
    }
   ],
   "source": [
    "df.head(20)"
   ]
  },
  {
   "cell_type": "markdown",
   "metadata": {},
   "source": [
    "Пропусков нет, полных дубликатов в данных тоже нет\n",
    "\n",
    "В данных есть строки, в которых совпадает всё кроме id. Вероятная причина их появления - данные собраны из разных источников.Удалим такие дубликаты."
   ]
  },
  {
   "cell_type": "code",
   "execution_count": 16,
   "metadata": {},
   "outputs": [
    {
     "data": {
      "text/plain": [
       "Index(['id', 'object_name', 'chain', 'object_type', 'address', 'number'], dtype='object')"
      ]
     },
     "execution_count": 16,
     "metadata": {},
     "output_type": "execute_result"
    }
   ],
   "source": [
    "df.columns"
   ]
  },
  {
   "cell_type": "code",
   "execution_count": 17,
   "metadata": {},
   "outputs": [
    {
     "data": {
      "text/plain": [
       "85"
      ]
     },
     "execution_count": 17,
     "metadata": {},
     "output_type": "execute_result"
    }
   ],
   "source": [
    "df.duplicated(subset=['object_name', 'chain', 'object_type', 'address', 'number']).sum()"
   ]
  },
  {
   "cell_type": "code",
   "execution_count": 18,
   "metadata": {},
   "outputs": [],
   "source": [
    "df = df.drop_duplicates(subset=['object_name', 'chain', 'object_type', 'address', 'number'])"
   ]
  },
  {
   "cell_type": "code",
   "execution_count": 19,
   "metadata": {},
   "outputs": [
    {
     "data": {
      "text/plain": [
       "0"
      ]
     },
     "execution_count": 19,
     "metadata": {},
     "output_type": "execute_result"
    }
   ],
   "source": [
    "df.duplicated(subset=['object_name', 'chain', 'object_type', 'address', 'number']).sum()"
   ]
  },
  {
   "cell_type": "code",
   "execution_count": 20,
   "metadata": {},
   "outputs": [
    {
     "data": {
      "text/plain": [
       "15281"
      ]
     },
     "execution_count": 20,
     "metadata": {},
     "output_type": "execute_result"
    }
   ],
   "source": [
    "len(df)"
   ]
  },
  {
   "cell_type": "markdown",
   "metadata": {},
   "source": [
    "**Вывод:**\n",
    "В этом разделе была проведена предобработка, а именно:\n",
    "- подгружен датафрейм;\n",
    "- перевели все в нижний регистр для удобства работы с данными;\n",
    "- заменили некоторые названия на более короткие;\n",
    "- проверили наличие дубликатов. Вероятное появление таких дубликатов связано с тем что данные собраны с нескольких источников. Удалили такие дубликаты"
   ]
  },
  {
   "cell_type": "markdown",
   "metadata": {},
   "source": [
    "## Шаг №2. Анализ данных"
   ]
  },
  {
   "cell_type": "markdown",
   "metadata": {},
   "source": [
    "### Исследуйте соотношение видов объектов общественного питания по количеству. Постройте график."
   ]
  },
  {
   "cell_type": "markdown",
   "metadata": {},
   "source": [
    "Посмотрим на количество заведений каждого типа и посчитаем их долю от общего количества заведений:"
   ]
  },
  {
   "cell_type": "code",
   "execution_count": 21,
   "metadata": {},
   "outputs": [
    {
     "data": {
      "text/html": [
       "<div>\n",
       "<style scoped>\n",
       "    .dataframe tbody tr th:only-of-type {\n",
       "        vertical-align: middle;\n",
       "    }\n",
       "\n",
       "    .dataframe tbody tr th {\n",
       "        vertical-align: top;\n",
       "    }\n",
       "\n",
       "    .dataframe thead th {\n",
       "        text-align: right;\n",
       "    }\n",
       "</style>\n",
       "<table border=\"1\" class=\"dataframe\">\n",
       "  <thead>\n",
       "    <tr style=\"text-align: right;\">\n",
       "      <th></th>\n",
       "      <th>object_type</th>\n",
       "      <th>id</th>\n",
       "    </tr>\n",
       "  </thead>\n",
       "  <tbody>\n",
       "    <tr>\n",
       "      <td>0</td>\n",
       "      <td>кафе</td>\n",
       "      <td>6071</td>\n",
       "    </tr>\n",
       "    <tr>\n",
       "      <td>1</td>\n",
       "      <td>столовая</td>\n",
       "      <td>2584</td>\n",
       "    </tr>\n",
       "    <tr>\n",
       "      <td>2</td>\n",
       "      <td>ресторан</td>\n",
       "      <td>2282</td>\n",
       "    </tr>\n",
       "    <tr>\n",
       "      <td>3</td>\n",
       "      <td>фастфуд</td>\n",
       "      <td>1897</td>\n",
       "    </tr>\n",
       "    <tr>\n",
       "      <td>4</td>\n",
       "      <td>бар</td>\n",
       "      <td>855</td>\n",
       "    </tr>\n",
       "    <tr>\n",
       "      <td>5</td>\n",
       "      <td>буфет</td>\n",
       "      <td>576</td>\n",
       "    </tr>\n",
       "    <tr>\n",
       "      <td>6</td>\n",
       "      <td>кафетерий</td>\n",
       "      <td>395</td>\n",
       "    </tr>\n",
       "    <tr>\n",
       "      <td>7</td>\n",
       "      <td>закусочная</td>\n",
       "      <td>348</td>\n",
       "    </tr>\n",
       "    <tr>\n",
       "      <td>8</td>\n",
       "      <td>отдел кулинарии</td>\n",
       "      <td>273</td>\n",
       "    </tr>\n",
       "  </tbody>\n",
       "</table>\n",
       "</div>"
      ],
      "text/plain": [
       "       object_type    id\n",
       "0             кафе  6071\n",
       "1         столовая  2584\n",
       "2         ресторан  2282\n",
       "3          фастфуд  1897\n",
       "4              бар   855\n",
       "5            буфет   576\n",
       "6        кафетерий   395\n",
       "7       закусочная   348\n",
       "8  отдел кулинарии   273"
      ]
     },
     "execution_count": 21,
     "metadata": {},
     "output_type": "execute_result"
    }
   ],
   "source": [
    "types = df.groupby('object_type')['id'].count().sort_values(ascending=False).reset_index()\n",
    "types"
   ]
  },
  {
   "cell_type": "code",
   "execution_count": 22,
   "metadata": {},
   "outputs": [
    {
     "data": {
      "text/html": [
       "<div>\n",
       "<style scoped>\n",
       "    .dataframe tbody tr th:only-of-type {\n",
       "        vertical-align: middle;\n",
       "    }\n",
       "\n",
       "    .dataframe tbody tr th {\n",
       "        vertical-align: top;\n",
       "    }\n",
       "\n",
       "    .dataframe thead th {\n",
       "        text-align: right;\n",
       "    }\n",
       "</style>\n",
       "<table border=\"1\" class=\"dataframe\">\n",
       "  <thead>\n",
       "    <tr style=\"text-align: right;\">\n",
       "      <th></th>\n",
       "      <th>object_type</th>\n",
       "      <th>id</th>\n",
       "      <th>share</th>\n",
       "    </tr>\n",
       "  </thead>\n",
       "  <tbody>\n",
       "    <tr>\n",
       "      <td>0</td>\n",
       "      <td>кафе</td>\n",
       "      <td>6071</td>\n",
       "      <td>0.397291</td>\n",
       "    </tr>\n",
       "    <tr>\n",
       "      <td>1</td>\n",
       "      <td>столовая</td>\n",
       "      <td>2584</td>\n",
       "      <td>0.169099</td>\n",
       "    </tr>\n",
       "    <tr>\n",
       "      <td>2</td>\n",
       "      <td>ресторан</td>\n",
       "      <td>2282</td>\n",
       "      <td>0.149336</td>\n",
       "    </tr>\n",
       "    <tr>\n",
       "      <td>3</td>\n",
       "      <td>фастфуд</td>\n",
       "      <td>1897</td>\n",
       "      <td>0.124141</td>\n",
       "    </tr>\n",
       "    <tr>\n",
       "      <td>4</td>\n",
       "      <td>бар</td>\n",
       "      <td>855</td>\n",
       "      <td>0.055952</td>\n",
       "    </tr>\n",
       "    <tr>\n",
       "      <td>5</td>\n",
       "      <td>буфет</td>\n",
       "      <td>576</td>\n",
       "      <td>0.037694</td>\n",
       "    </tr>\n",
       "    <tr>\n",
       "      <td>6</td>\n",
       "      <td>кафетерий</td>\n",
       "      <td>395</td>\n",
       "      <td>0.025849</td>\n",
       "    </tr>\n",
       "    <tr>\n",
       "      <td>7</td>\n",
       "      <td>закусочная</td>\n",
       "      <td>348</td>\n",
       "      <td>0.022773</td>\n",
       "    </tr>\n",
       "    <tr>\n",
       "      <td>8</td>\n",
       "      <td>отдел кулинарии</td>\n",
       "      <td>273</td>\n",
       "      <td>0.017865</td>\n",
       "    </tr>\n",
       "  </tbody>\n",
       "</table>\n",
       "</div>"
      ],
      "text/plain": [
       "       object_type    id     share\n",
       "0             кафе  6071  0.397291\n",
       "1         столовая  2584  0.169099\n",
       "2         ресторан  2282  0.149336\n",
       "3          фастфуд  1897  0.124141\n",
       "4              бар   855  0.055952\n",
       "5            буфет   576  0.037694\n",
       "6        кафетерий   395  0.025849\n",
       "7       закусочная   348  0.022773\n",
       "8  отдел кулинарии   273  0.017865"
      ]
     },
     "execution_count": 22,
     "metadata": {},
     "output_type": "execute_result"
    }
   ],
   "source": [
    "types['share'] = types['id']/(types['id'].sum())\n",
    "types"
   ]
  },
  {
   "cell_type": "code",
   "execution_count": 23,
   "metadata": {},
   "outputs": [
    {
     "data": {
      "image/png": "[encoded data removed]",
      "text/plain": [
       "<Figure size 864x432 with 1 Axes>"
      ]
     },
     "metadata": {},
     "output_type": "display_data"
    }
   ],
   "source": [
    "sns.set_style(\"whitegrid\") \n",
    "\n",
    "plt.figure(figsize=(12,6))\n",
    "graph = sns.barplot(data = types, x = 'object_type', y = 'id')\n",
    "\n",
    "percentage = types['share']\n",
    "\n",
    "patches = graph.patches\n",
    "for i in range(len(patches)):\n",
    "   x = patches[i].get_x() + patches[i].get_width()/2\n",
    "   y = patches[i].get_height()+.07\n",
    "   graph.annotate('{:.1f}%'.format(percentage[i]*100), (x, y), ha='center')\n",
    "plt.xticks(rotation=80)\n",
    "plt.title(\"Распределение заведений по виду\")\n",
    "plt.xlabel('Вид заведения')\n",
    "plt.ylabel('Количество')\n",
    "plt.show()"
   ]
  },
  {
   "cell_type": "markdown",
   "metadata": {},
   "source": [
    " **Вывод**:\n",
    " Из всех видов общепита в Москве наиболее популярным видом является кафе, 39,7% от общего объема. Далее с большим отрывом идут столовая (16,9%), ресторан (14,9%) и фастфуд (12,4%). На остальные виды приходится менее чем по 1000 заведений"
   ]
  },
  {
   "cell_type": "markdown",
   "metadata": {},
   "source": [
    "### Исследуйте соотношение сетевых и несетевых заведений по количеству. Постройте график."
   ]
  },
  {
   "cell_type": "code",
   "execution_count": 24,
   "metadata": {},
   "outputs": [
    {
     "data": {
      "text/plain": [
       "15281"
      ]
     },
     "execution_count": 24,
     "metadata": {},
     "output_type": "execute_result"
    }
   ],
   "source": [
    "total_cnt = len(df)\n",
    "total_cnt"
   ]
  },
  {
   "cell_type": "code",
   "execution_count": 25,
   "metadata": {},
   "outputs": [
    {
     "data": {
      "text/plain": [
       "2964"
      ]
     },
     "execution_count": 25,
     "metadata": {},
     "output_type": "execute_result"
    }
   ],
   "source": [
    "chain_cnt = df['chain'].sum()\n",
    "chain_cnt"
   ]
  },
  {
   "cell_type": "code",
   "execution_count": 26,
   "metadata": {},
   "outputs": [
    {
     "data": {
      "text/plain": [
       "12317"
      ]
     },
     "execution_count": 26,
     "metadata": {},
     "output_type": "execute_result"
    }
   ],
   "source": [
    "single_cnt = total_cnt - chain_cnt\n",
    "single_cnt"
   ]
  },
  {
   "cell_type": "code",
   "execution_count": 27,
   "metadata": {},
   "outputs": [
    {
     "data": {
      "image/png": "[encoded data removed]",
      "text/plain": [
       "<Figure size 432x288 with 1 Axes>"
      ]
     },
     "metadata": {},
     "output_type": "display_data"
    }
   ],
   "source": [
    "labels = 'Сетевые', 'Несетевые'\n",
    "chain = [chain_cnt, single_cnt]\n",
    "\n",
    "fig1, ax1 = plt.subplots()\n",
    "ax1.pie(chain, labels=labels, autopct='%1.1f%%',shadow=False,\n",
    "         startangle=90)\n",
    "plt.title(\"Доли сетевых и несетевых заведений\")\n",
    "plt.show()"
   ]
  },
  {
   "cell_type": "markdown",
   "metadata": {},
   "source": [
    "В Москве 19,4% сетевых заведений и 80,6% - несетевых"
   ]
  },
  {
   "cell_type": "markdown",
   "metadata": {},
   "source": [
    "### Для какого вида объекта общественного питания характерно сетевое распространение?"
   ]
  },
  {
   "cell_type": "markdown",
   "metadata": {},
   "source": [
    "Найдем долю сетевых заведений для каждого типа:"
   ]
  },
  {
   "cell_type": "code",
   "execution_count": 28,
   "metadata": {},
   "outputs": [
    {
     "data": {
      "text/html": [
       "<div>\n",
       "<style scoped>\n",
       "    .dataframe tbody tr th:only-of-type {\n",
       "        vertical-align: middle;\n",
       "    }\n",
       "\n",
       "    .dataframe tbody tr th {\n",
       "        vertical-align: top;\n",
       "    }\n",
       "\n",
       "    .dataframe thead th {\n",
       "        text-align: right;\n",
       "    }\n",
       "</style>\n",
       "<table border=\"1\" class=\"dataframe\">\n",
       "  <thead>\n",
       "    <tr style=\"text-align: right;\">\n",
       "      <th></th>\n",
       "      <th>object_type</th>\n",
       "      <th>chain</th>\n",
       "    </tr>\n",
       "  </thead>\n",
       "  <tbody>\n",
       "    <tr>\n",
       "      <td>0</td>\n",
       "      <td>фастфуд</td>\n",
       "      <td>0.415</td>\n",
       "    </tr>\n",
       "    <tr>\n",
       "      <td>1</td>\n",
       "      <td>отдел кулинарии</td>\n",
       "      <td>0.286</td>\n",
       "    </tr>\n",
       "    <tr>\n",
       "      <td>2</td>\n",
       "      <td>ресторан</td>\n",
       "      <td>0.238</td>\n",
       "    </tr>\n",
       "    <tr>\n",
       "      <td>3</td>\n",
       "      <td>кафе</td>\n",
       "      <td>0.230</td>\n",
       "    </tr>\n",
       "    <tr>\n",
       "      <td>4</td>\n",
       "      <td>закусочная</td>\n",
       "      <td>0.161</td>\n",
       "    </tr>\n",
       "    <tr>\n",
       "      <td>5</td>\n",
       "      <td>кафетерий</td>\n",
       "      <td>0.132</td>\n",
       "    </tr>\n",
       "    <tr>\n",
       "      <td>6</td>\n",
       "      <td>бар</td>\n",
       "      <td>0.043</td>\n",
       "    </tr>\n",
       "    <tr>\n",
       "      <td>7</td>\n",
       "      <td>буфет</td>\n",
       "      <td>0.019</td>\n",
       "    </tr>\n",
       "    <tr>\n",
       "      <td>8</td>\n",
       "      <td>столовая</td>\n",
       "      <td>0.001</td>\n",
       "    </tr>\n",
       "  </tbody>\n",
       "</table>\n",
       "</div>"
      ],
      "text/plain": [
       "       object_type  chain\n",
       "0          фастфуд  0.415\n",
       "1  отдел кулинарии  0.286\n",
       "2         ресторан  0.238\n",
       "3             кафе  0.230\n",
       "4       закусочная  0.161\n",
       "5        кафетерий  0.132\n",
       "6              бар  0.043\n",
       "7            буфет  0.019\n",
       "8         столовая  0.001"
      ]
     },
     "execution_count": 28,
     "metadata": {},
     "output_type": "execute_result"
    }
   ],
   "source": [
    "chain_type = df.groupby('object_type')['chain'].mean().sort_values(ascending=False).reset_index()\n",
    "chain_type['chain'] = chain_type['chain'].round(3)\n",
    "chain_type"
   ]
  },
  {
   "cell_type": "code",
   "execution_count": 29,
   "metadata": {},
   "outputs": [
    {
     "data": {
      "image/png": "[encoded data removed]",
      "text/plain": [
       "<Figure size 1080x432 with 1 Axes>"
      ]
     },
     "metadata": {},
     "output_type": "display_data"
    }
   ],
   "source": [
    "sns.set_style(\"whitegrid\")\n",
    "plt.figure(figsize=(15,6))\n",
    "\n",
    "graph = sns.barplot(data = chain_type, x='object_type', y='chain')\n",
    "type(graph)\n",
    "vals = graph.get_yticks()\n",
    "graph.set_yticklabels(['{:,.2%}'.format(x) for x in vals])\n",
    "\n",
    "plt.xticks(rotation=80)\n",
    "plt.title(\"Доля сетевых заведений для разных видов\")\n",
    "plt.xlabel('Вид заведения')\n",
    "plt.ylabel('Доля сетевых')\n",
    "plt.show()"
   ]
  },
  {
   "cell_type": "markdown",
   "metadata": {},
   "source": [
    "Сетевыми заведениями в большинстве своём являются фастфуды ~ 41%, за ними идут отдел кулинарии и рестораны, 28% и 24%"
   ]
  },
  {
   "cell_type": "markdown",
   "metadata": {},
   "source": [
    "### Что характерно для сетевых заведений: много заведений с небольшим числом посадочных мест в каждом или мало заведений с большим количеством посадочных мест?"
   ]
  },
  {
   "cell_type": "code",
   "execution_count": 30,
   "metadata": {},
   "outputs": [
    {
     "data": {
      "text/html": [
       "<div>\n",
       "<style scoped>\n",
       "    .dataframe tbody tr th:only-of-type {\n",
       "        vertical-align: middle;\n",
       "    }\n",
       "\n",
       "    .dataframe tbody tr th {\n",
       "        vertical-align: top;\n",
       "    }\n",
       "\n",
       "    .dataframe thead th {\n",
       "        text-align: right;\n",
       "    }\n",
       "</style>\n",
       "<table border=\"1\" class=\"dataframe\">\n",
       "  <thead>\n",
       "    <tr style=\"text-align: right;\">\n",
       "      <th></th>\n",
       "      <th>object_name</th>\n",
       "      <th>id</th>\n",
       "      <th>number</th>\n",
       "    </tr>\n",
       "  </thead>\n",
       "  <tbody>\n",
       "    <tr>\n",
       "      <td>440</td>\n",
       "      <td>шоколадница</td>\n",
       "      <td>183</td>\n",
       "      <td>57.814208</td>\n",
       "    </tr>\n",
       "    <tr>\n",
       "      <td>26</td>\n",
       "      <td>kfc</td>\n",
       "      <td>170</td>\n",
       "      <td>55.070588</td>\n",
       "    </tr>\n",
       "    <tr>\n",
       "      <td>247</td>\n",
       "      <td>макдоналдс</td>\n",
       "      <td>164</td>\n",
       "      <td>89.036585</td>\n",
       "    </tr>\n",
       "    <tr>\n",
       "      <td>7</td>\n",
       "      <td>burger king</td>\n",
       "      <td>144</td>\n",
       "      <td>46.923611</td>\n",
       "    </tr>\n",
       "    <tr>\n",
       "      <td>395</td>\n",
       "      <td>теремок</td>\n",
       "      <td>105</td>\n",
       "      <td>26.638095</td>\n",
       "    </tr>\n",
       "    <tr>\n",
       "      <td>163</td>\n",
       "      <td>домино'с пицца</td>\n",
       "      <td>97</td>\n",
       "      <td>18.113402</td>\n",
       "    </tr>\n",
       "    <tr>\n",
       "      <td>228</td>\n",
       "      <td>крошка картошка</td>\n",
       "      <td>92</td>\n",
       "      <td>21.782609</td>\n",
       "    </tr>\n",
       "    <tr>\n",
       "      <td>379</td>\n",
       "      <td>суши wok</td>\n",
       "      <td>74</td>\n",
       "      <td>6.837838</td>\n",
       "    </tr>\n",
       "    <tr>\n",
       "      <td>257</td>\n",
       "      <td>милти</td>\n",
       "      <td>72</td>\n",
       "      <td>1.333333</td>\n",
       "    </tr>\n",
       "    <tr>\n",
       "      <td>286</td>\n",
       "      <td>папа джонс</td>\n",
       "      <td>65</td>\n",
       "      <td>22.307692</td>\n",
       "    </tr>\n",
       "    <tr>\n",
       "      <td>47</td>\n",
       "      <td>starbucks</td>\n",
       "      <td>59</td>\n",
       "      <td>43.830508</td>\n",
       "    </tr>\n",
       "    <tr>\n",
       "      <td>53</td>\n",
       "      <td>subway</td>\n",
       "      <td>56</td>\n",
       "      <td>17.892857</td>\n",
       "    </tr>\n",
       "    <tr>\n",
       "      <td>161</td>\n",
       "      <td>додо пицца</td>\n",
       "      <td>53</td>\n",
       "      <td>32.584906</td>\n",
       "    </tr>\n",
       "    <tr>\n",
       "      <td>428</td>\n",
       "      <td>чайхона №1</td>\n",
       "      <td>49</td>\n",
       "      <td>151.693878</td>\n",
       "    </tr>\n",
       "    <tr>\n",
       "      <td>446</td>\n",
       "      <td>якитория</td>\n",
       "      <td>48</td>\n",
       "      <td>115.125000</td>\n",
       "    </tr>\n",
       "    <tr>\n",
       "      <td>391</td>\n",
       "      <td>тануки</td>\n",
       "      <td>47</td>\n",
       "      <td>110.829787</td>\n",
       "    </tr>\n",
       "    <tr>\n",
       "      <td>212</td>\n",
       "      <td>кофе с собой</td>\n",
       "      <td>44</td>\n",
       "      <td>0.818182</td>\n",
       "    </tr>\n",
       "    <tr>\n",
       "      <td>418</td>\n",
       "      <td>хинкальная</td>\n",
       "      <td>43</td>\n",
       "      <td>51.930233</td>\n",
       "    </tr>\n",
       "    <tr>\n",
       "      <td>216</td>\n",
       "      <td>кофе хаус</td>\n",
       "      <td>37</td>\n",
       "      <td>55.243243</td>\n",
       "    </tr>\n",
       "    <tr>\n",
       "      <td>422</td>\n",
       "      <td>хлеб насущный</td>\n",
       "      <td>33</td>\n",
       "      <td>41.818182</td>\n",
       "    </tr>\n",
       "  </tbody>\n",
       "</table>\n",
       "</div>"
      ],
      "text/plain": [
       "         object_name   id      number\n",
       "440      шоколадница  183   57.814208\n",
       "26               kfc  170   55.070588\n",
       "247       макдоналдс  164   89.036585\n",
       "7        burger king  144   46.923611\n",
       "395          теремок  105   26.638095\n",
       "163   домино'с пицца   97   18.113402\n",
       "228  крошка картошка   92   21.782609\n",
       "379         суши wok   74    6.837838\n",
       "257            милти   72    1.333333\n",
       "286       папа джонс   65   22.307692\n",
       "47         starbucks   59   43.830508\n",
       "53            subway   56   17.892857\n",
       "161       додо пицца   53   32.584906\n",
       "428       чайхона №1   49  151.693878\n",
       "446         якитория   48  115.125000\n",
       "391           тануки   47  110.829787\n",
       "212     кофе с собой   44    0.818182\n",
       "418       хинкальная   43   51.930233\n",
       "216        кофе хаус   37   55.243243\n",
       "422    хлеб насущный   33   41.818182"
      ]
     },
     "execution_count": 30,
     "metadata": {},
     "output_type": "execute_result"
    }
   ],
   "source": [
    "chain_seats = df[df['chain']==True].groupby('object_name').agg({'id':'count', 'number':'mean'}).reset_index()\n",
    "chain_seats.sort_values(by='id',ascending=False).head(20)"
   ]
  },
  {
   "cell_type": "code",
   "execution_count": 31,
   "metadata": {},
   "outputs": [
    {
     "data": {
      "image/png": "[encoded data removed]",
      "text/plain": [
       "<Figure size 432x432 with 3 Axes>"
      ]
     },
     "metadata": {},
     "output_type": "display_data"
    }
   ],
   "source": [
    "sns.set_style(\"whitegrid\")\n",
    "ax=sns.jointplot(x='id', y='number', data=chain_seats, alpha=0.3);\n",
    "ax.set_axis_labels('Среднее количество мест', 'Количество заведений сети', fontsize=14)\n",
    "ax.fig.suptitle(\"Соотношение количества заведений и среднего количества мест в сети\")\n",
    "ax.fig.subplots_adjust(top=0.95)\n",
    "plt.show()"
   ]
  },
  {
   "cell_type": "markdown",
   "metadata": {},
   "source": [
    "Для заведений которые могут характеризовать себя как сетевые наиболее характерное количество мест от 1 до 50"
   ]
  },
  {
   "cell_type": "markdown",
   "metadata": {},
   "source": [
    "### Для каждого вида объекта общественного питания опишите среднее количество посадочных мест. Какой вид предоставляет в среднем самое большое количество посадочных мест? Постройте графики."
   ]
  },
  {
   "cell_type": "markdown",
   "metadata": {},
   "source": [
    "Посмотрим, какой вид заведений в среднем имеет наибольшее количество посадочных мест"
   ]
  },
  {
   "cell_type": "code",
   "execution_count": 32,
   "metadata": {},
   "outputs": [
    {
     "data": {
      "text/html": [
       "<div>\n",
       "<style scoped>\n",
       "    .dataframe tbody tr th:only-of-type {\n",
       "        vertical-align: middle;\n",
       "    }\n",
       "\n",
       "    .dataframe tbody tr th {\n",
       "        vertical-align: top;\n",
       "    }\n",
       "\n",
       "    .dataframe thead th {\n",
       "        text-align: right;\n",
       "    }\n",
       "</style>\n",
       "<table border=\"1\" class=\"dataframe\">\n",
       "  <thead>\n",
       "    <tr style=\"text-align: right;\">\n",
       "      <th></th>\n",
       "      <th>object_type</th>\n",
       "      <th>number</th>\n",
       "    </tr>\n",
       "  </thead>\n",
       "  <tbody>\n",
       "    <tr>\n",
       "      <td>0</td>\n",
       "      <td>столовая</td>\n",
       "      <td>130.337848</td>\n",
       "    </tr>\n",
       "    <tr>\n",
       "      <td>1</td>\n",
       "      <td>ресторан</td>\n",
       "      <td>96.884750</td>\n",
       "    </tr>\n",
       "    <tr>\n",
       "      <td>2</td>\n",
       "      <td>буфет</td>\n",
       "      <td>51.425347</td>\n",
       "    </tr>\n",
       "    <tr>\n",
       "      <td>3</td>\n",
       "      <td>бар</td>\n",
       "      <td>43.533333</td>\n",
       "    </tr>\n",
       "    <tr>\n",
       "      <td>4</td>\n",
       "      <td>кафе</td>\n",
       "      <td>39.785703</td>\n",
       "    </tr>\n",
       "    <tr>\n",
       "      <td>5</td>\n",
       "      <td>фастфуд</td>\n",
       "      <td>20.808645</td>\n",
       "    </tr>\n",
       "    <tr>\n",
       "      <td>6</td>\n",
       "      <td>кафетерий</td>\n",
       "      <td>9.184810</td>\n",
       "    </tr>\n",
       "    <tr>\n",
       "      <td>7</td>\n",
       "      <td>закусочная</td>\n",
       "      <td>7.847701</td>\n",
       "    </tr>\n",
       "    <tr>\n",
       "      <td>8</td>\n",
       "      <td>отдел кулинарии</td>\n",
       "      <td>5.589744</td>\n",
       "    </tr>\n",
       "  </tbody>\n",
       "</table>\n",
       "</div>"
      ],
      "text/plain": [
       "       object_type      number\n",
       "0         столовая  130.337848\n",
       "1         ресторан   96.884750\n",
       "2            буфет   51.425347\n",
       "3              бар   43.533333\n",
       "4             кафе   39.785703\n",
       "5          фастфуд   20.808645\n",
       "6        кафетерий    9.184810\n",
       "7       закусочная    7.847701\n",
       "8  отдел кулинарии    5.589744"
      ]
     },
     "execution_count": 32,
     "metadata": {},
     "output_type": "execute_result"
    }
   ],
   "source": [
    "avg_seats = df.groupby('object_type')['number'].mean().sort_values(ascending=False).reset_index()\n",
    "avg_seats"
   ]
  },
  {
   "cell_type": "code",
   "execution_count": 33,
   "metadata": {},
   "outputs": [
    {
     "data": {
      "image/png": "[encoded data removed]",
      "text/plain": [
       "<Figure size 864x432 with 1 Axes>"
      ]
     },
     "metadata": {},
     "output_type": "display_data"
    }
   ],
   "source": [
    "sns.set_style(\"whitegrid\")\n",
    "plt.figure(figsize=(12,6))\n",
    "ax = sns.barplot(x=\"object_type\", y=\"number\", data=avg_seats)\n",
    "plt.title(\"Среднее количество мест по видам заведений\")\n",
    "plt.xlabel('Вид заведения')\n",
    "plt.ylabel('Среднее количество мест')\n",
    "plt.xticks(rotation=80)\n",
    "for index, row in avg_seats.iterrows():\n",
    "    ax.text(row.name,row.number, round(row.number), color='black', ha=\"center\")\n",
    "plt.show()"
   ]
  },
  {
   "cell_type": "markdown",
   "metadata": {},
   "source": [
    "Наибольшее количество посадочных мест у нас в столовых и ресторанах (130 и 97), за ними с большим отрывом идут буфеты, бары и кафе (51, 44, 40 соответственно). Похоже на правду, столовые обычно располагаются на рабочих предприятиях и университетах, где нужно за обеденное время обслужить большое количество человек, рестораны же часто имеют отдельные залы для празднования свадеб, корпоративов и других мероприятий."
   ]
  },
  {
   "cell_type": "markdown",
   "metadata": {},
   "source": [
    "### Выделите в отдельный столбец информацию об улице из столбца address"
   ]
  },
  {
   "cell_type": "code",
   "execution_count": 34,
   "metadata": {},
   "outputs": [
    {
     "data": {
      "text/plain": [
       "0           город Москва, улица Егора Абакумова, дом 9\n",
       "1    город Москва, улица Талалихина, дом 2/1, корпус 1\n",
       "2            город Москва, Абельмановская улица, дом 6\n",
       "3              город Москва, Абрамцевская улица, дом 1\n",
       "4    город Москва, Абрамцевская улица, дом 9, корпус 1\n",
       "5    город Москва, Абрамцевская улица, дом 15, корп...\n",
       "6        город Москва, переулок Сивцев Вражек, дом 6/2\n",
       "7    город Москва, Авиамоторная улица, дом 8, строе...\n",
       "8    город Москва, Авиамоторная улица, дом 8, строе...\n",
       "9    город Москва, Авиамоторная улица, дом 8, строе...\n",
       "Name: address, dtype: object"
      ]
     },
     "execution_count": 34,
     "metadata": {},
     "output_type": "execute_result"
    }
   ],
   "source": [
    "df['address'].head(10)"
   ]
  },
  {
   "cell_type": "code",
   "execution_count": 35,
   "metadata": {},
   "outputs": [
    {
     "data": {
      "text/plain": [
       "0     улица Егора Абакумова\n",
       "1          улица Талалихина\n",
       "2      Абельмановская улица\n",
       "3        Абрамцевская улица\n",
       "4        Абрамцевская улица\n",
       "5        Абрамцевская улица\n",
       "6    переулок Сивцев Вражек\n",
       "7        Авиамоторная улица\n",
       "8        Авиамоторная улица\n",
       "9        Авиамоторная улица\n",
       "Name: street, dtype: object"
      ]
     },
     "execution_count": 35,
     "metadata": {},
     "output_type": "execute_result"
    }
   ],
   "source": [
    "def split_address(x):\n",
    "    return x.split(', дом')[0]\n",
    "\n",
    "df['street'] = df['address'].apply(lambda x : split_address(x))\n",
    "df['street'] = df['street'].replace(regex=[\"город Москва, \"], value='')\n",
    "df['street'].head(10)"
   ]
  },
  {
   "cell_type": "markdown",
   "metadata": {},
   "source": [
    "В колонке street получили улицы Москвы. Для населенных пунктов, включенных в Москву (Зеленоград и пр.), также указано название населенного пункта - таким образом при наличии улиц с одинаковыми названиями, мы сможем их различить"
   ]
  },
  {
   "cell_type": "code",
   "execution_count": 36,
   "metadata": {
    "scrolled": false
   },
   "outputs": [
    {
     "data": {
      "text/html": [
       "<div>\n",
       "<style scoped>\n",
       "    .dataframe tbody tr th:only-of-type {\n",
       "        vertical-align: middle;\n",
       "    }\n",
       "\n",
       "    .dataframe tbody tr th {\n",
       "        vertical-align: top;\n",
       "    }\n",
       "\n",
       "    .dataframe thead th {\n",
       "        text-align: right;\n",
       "    }\n",
       "</style>\n",
       "<table border=\"1\" class=\"dataframe\">\n",
       "  <thead>\n",
       "    <tr style=\"text-align: right;\">\n",
       "      <th></th>\n",
       "      <th>id</th>\n",
       "      <th>object_name</th>\n",
       "      <th>chain</th>\n",
       "      <th>object_type</th>\n",
       "      <th>address</th>\n",
       "      <th>number</th>\n",
       "      <th>street</th>\n",
       "    </tr>\n",
       "  </thead>\n",
       "  <tbody>\n",
       "    <tr>\n",
       "      <td>145</td>\n",
       "      <td>24606</td>\n",
       "      <td>радэа</td>\n",
       "      <td>False</td>\n",
       "      <td>кафе</td>\n",
       "      <td>город Москва, Нахимовский проспект, владение 75А</td>\n",
       "      <td>7</td>\n",
       "      <td>Нахимовский проспект, владение 75А</td>\n",
       "    </tr>\n",
       "    <tr>\n",
       "      <td>741</td>\n",
       "      <td>151319</td>\n",
       "      <td>галерея</td>\n",
       "      <td>False</td>\n",
       "      <td>кафе</td>\n",
       "      <td>город Москва, Нагорная улица, владение 25, стр...</td>\n",
       "      <td>150</td>\n",
       "      <td>Нагорная улица, владение 25, строение 1</td>\n",
       "    </tr>\n",
       "    <tr>\n",
       "      <td>856</td>\n",
       "      <td>25558</td>\n",
       "      <td>му-му</td>\n",
       "      <td>True</td>\n",
       "      <td>кафе</td>\n",
       "      <td>город Москва, 9-я Парковая улица, владение 61А...</td>\n",
       "      <td>200</td>\n",
       "      <td>9-я Парковая улица, владение 61А, строение 1</td>\n",
       "    </tr>\n",
       "    <tr>\n",
       "      <td>1386</td>\n",
       "      <td>22331</td>\n",
       "      <td>столовая миэт</td>\n",
       "      <td>False</td>\n",
       "      <td>столовая</td>\n",
       "      <td>город Москва, город Зеленоград, улица Юности, ...</td>\n",
       "      <td>56</td>\n",
       "      <td>город Зеленоград, улица Юности</td>\n",
       "    </tr>\n",
       "    <tr>\n",
       "      <td>1405</td>\n",
       "      <td>20199</td>\n",
       "      <td>это</td>\n",
       "      <td>False</td>\n",
       "      <td>кафе</td>\n",
       "      <td>город Москва, город Зеленоград, корпус 401</td>\n",
       "      <td>35</td>\n",
       "      <td>город Зеленоград, корпус 401</td>\n",
       "    </tr>\n",
       "    <tr>\n",
       "      <td>1406</td>\n",
       "      <td>68113</td>\n",
       "      <td>френдс</td>\n",
       "      <td>False</td>\n",
       "      <td>кафе</td>\n",
       "      <td>город Москва, город Зеленоград, корпус 435</td>\n",
       "      <td>34</td>\n",
       "      <td>город Зеленоград, корпус 435</td>\n",
       "    </tr>\n",
       "    <tr>\n",
       "      <td>1407</td>\n",
       "      <td>20105</td>\n",
       "      <td>граф монте-кристо</td>\n",
       "      <td>False</td>\n",
       "      <td>кафе</td>\n",
       "      <td>город Москва, город Зеленоград, корпус 436</td>\n",
       "      <td>40</td>\n",
       "      <td>город Зеленоград, корпус 436</td>\n",
       "    </tr>\n",
       "    <tr>\n",
       "      <td>1408</td>\n",
       "      <td>22982</td>\n",
       "      <td>альфорно</td>\n",
       "      <td>False</td>\n",
       "      <td>кафе</td>\n",
       "      <td>город Москва, город Зеленоград, корпус 438</td>\n",
       "      <td>49</td>\n",
       "      <td>город Зеленоград, корпус 438</td>\n",
       "    </tr>\n",
       "    <tr>\n",
       "      <td>1409</td>\n",
       "      <td>151267</td>\n",
       "      <td>альфорно</td>\n",
       "      <td>False</td>\n",
       "      <td>кафе</td>\n",
       "      <td>город Москва, город Зеленоград, корпус 438</td>\n",
       "      <td>45</td>\n",
       "      <td>город Зеленоград, корпус 438</td>\n",
       "    </tr>\n",
       "    <tr>\n",
       "      <td>1410</td>\n",
       "      <td>150537</td>\n",
       "      <td>вечный зов</td>\n",
       "      <td>False</td>\n",
       "      <td>кафе</td>\n",
       "      <td>город Москва, город Зеленоград, корпус 834А</td>\n",
       "      <td>30</td>\n",
       "      <td>город Зеленоград, корпус 834А</td>\n",
       "    </tr>\n",
       "    <tr>\n",
       "      <td>1411</td>\n",
       "      <td>128119</td>\n",
       "      <td>суши сет</td>\n",
       "      <td>True</td>\n",
       "      <td>фастфуд</td>\n",
       "      <td>город Москва, город Зеленоград, корпус 1106</td>\n",
       "      <td>7</td>\n",
       "      <td>город Зеленоград, корпус 1106</td>\n",
       "    </tr>\n",
       "    <tr>\n",
       "      <td>1412</td>\n",
       "      <td>24023</td>\n",
       "      <td>пекарня дружок-пирожок</td>\n",
       "      <td>False</td>\n",
       "      <td>кафетерий</td>\n",
       "      <td>город Москва, город Зеленоград, корпус 1449</td>\n",
       "      <td>5</td>\n",
       "      <td>город Зеленоград, корпус 1449</td>\n",
       "    </tr>\n",
       "    <tr>\n",
       "      <td>1440</td>\n",
       "      <td>24022</td>\n",
       "      <td>бар джанго</td>\n",
       "      <td>False</td>\n",
       "      <td>бар</td>\n",
       "      <td>город Москва, город Зеленоград, корпус 1456</td>\n",
       "      <td>50</td>\n",
       "      <td>город Зеленоград, корпус 1456</td>\n",
       "    </tr>\n",
       "    <tr>\n",
       "      <td>1441</td>\n",
       "      <td>149745</td>\n",
       "      <td>68. пауза</td>\n",
       "      <td>False</td>\n",
       "      <td>бар</td>\n",
       "      <td>город Москва, город Зеленоград, корпус 1456</td>\n",
       "      <td>48</td>\n",
       "      <td>город Зеленоград, корпус 1456</td>\n",
       "    </tr>\n",
       "    <tr>\n",
       "      <td>1612</td>\n",
       "      <td>158133</td>\n",
       "      <td>тануки</td>\n",
       "      <td>True</td>\n",
       "      <td>ресторан</td>\n",
       "      <td>город Москва, город Зеленоград, корпус 1805</td>\n",
       "      <td>156</td>\n",
       "      <td>город Зеленоград, корпус 1805</td>\n",
       "    </tr>\n",
       "    <tr>\n",
       "      <td>1613</td>\n",
       "      <td>25938</td>\n",
       "      <td>никольский парк</td>\n",
       "      <td>False</td>\n",
       "      <td>столовая</td>\n",
       "      <td>город Москва, город Зеленоград, Никольский про...</td>\n",
       "      <td>130</td>\n",
       "      <td>город Зеленоград, Никольский проезд</td>\n",
       "    </tr>\n",
       "    <tr>\n",
       "      <td>1737</td>\n",
       "      <td>69842</td>\n",
       "      <td>чайхона №1</td>\n",
       "      <td>True</td>\n",
       "      <td>ресторан</td>\n",
       "      <td>город Москва, улица Мичуринский Проспект, Олим...</td>\n",
       "      <td>94</td>\n",
       "      <td>улица Мичуринский Проспект, Олимпийская Деревня</td>\n",
       "    </tr>\n",
       "    <tr>\n",
       "      <td>1794</td>\n",
       "      <td>71111</td>\n",
       "      <td>питер</td>\n",
       "      <td>False</td>\n",
       "      <td>кафе</td>\n",
       "      <td>город Москва, город Зеленоград, корпус 533</td>\n",
       "      <td>25</td>\n",
       "      <td>город Зеленоград, корпус 533</td>\n",
       "    </tr>\n",
       "    <tr>\n",
       "      <td>1795</td>\n",
       "      <td>27851</td>\n",
       "      <td>цсо солнечный столовая-раздаточная</td>\n",
       "      <td>False</td>\n",
       "      <td>столовая</td>\n",
       "      <td>город Москва, город Зеленоград, корпус 826</td>\n",
       "      <td>60</td>\n",
       "      <td>город Зеленоград, корпус 826</td>\n",
       "    </tr>\n",
       "    <tr>\n",
       "      <td>1796</td>\n",
       "      <td>68999</td>\n",
       "      <td>папа джонс</td>\n",
       "      <td>True</td>\n",
       "      <td>кафе</td>\n",
       "      <td>город Москва, город Зеленоград, корпус 126</td>\n",
       "      <td>49</td>\n",
       "      <td>город Зеленоград, корпус 126</td>\n",
       "    </tr>\n",
       "    <tr>\n",
       "      <td>1797</td>\n",
       "      <td>84477</td>\n",
       "      <td>пиу дель чибо</td>\n",
       "      <td>True</td>\n",
       "      <td>кафе</td>\n",
       "      <td>город Москва, город Зеленоград, корпус 330</td>\n",
       "      <td>80</td>\n",
       "      <td>город Зеленоград, корпус 330</td>\n",
       "    </tr>\n",
       "    <tr>\n",
       "      <td>1853</td>\n",
       "      <td>77651</td>\n",
       "      <td>щербенко л.а.</td>\n",
       "      <td>False</td>\n",
       "      <td>кафе</td>\n",
       "      <td>город Москва, поселение Вороновское, село Воро...</td>\n",
       "      <td>50</td>\n",
       "      <td>поселение Вороновское, село Вороново</td>\n",
       "    </tr>\n",
       "    <tr>\n",
       "      <td>1854</td>\n",
       "      <td>128021</td>\n",
       "      <td>мама миа</td>\n",
       "      <td>False</td>\n",
       "      <td>кафе</td>\n",
       "      <td>город Москва, поселение Внуковское, улица Лётч...</td>\n",
       "      <td>12</td>\n",
       "      <td>поселение Внуковское, улица Лётчика Ульянина</td>\n",
       "    </tr>\n",
       "    <tr>\n",
       "      <td>1855</td>\n",
       "      <td>120299</td>\n",
       "      <td>пиццерия</td>\n",
       "      <td>False</td>\n",
       "      <td>кафе</td>\n",
       "      <td>город Москва, поселение Внуковское, улица Лётч...</td>\n",
       "      <td>24</td>\n",
       "      <td>поселение Внуковское, улица Лётчика Ульянина</td>\n",
       "    </tr>\n",
       "    <tr>\n",
       "      <td>1856</td>\n",
       "      <td>125246</td>\n",
       "      <td>суши wok</td>\n",
       "      <td>True</td>\n",
       "      <td>кафе</td>\n",
       "      <td>город Москва, поселение Внуковское, улица Лётч...</td>\n",
       "      <td>5</td>\n",
       "      <td>поселение Внуковское, улица Лётчика Ульянина</td>\n",
       "    </tr>\n",
       "    <tr>\n",
       "      <td>1857</td>\n",
       "      <td>151292</td>\n",
       "      <td>ред-кафе</td>\n",
       "      <td>False</td>\n",
       "      <td>кафе</td>\n",
       "      <td>город Москва, поселение Новофедоровское, дерев...</td>\n",
       "      <td>45</td>\n",
       "      <td>поселение Новофедоровское, деревня Рассудово, ...</td>\n",
       "    </tr>\n",
       "    <tr>\n",
       "      <td>1858</td>\n",
       "      <td>79498</td>\n",
       "      <td>александр</td>\n",
       "      <td>False</td>\n",
       "      <td>ресторан</td>\n",
       "      <td>город Москва, поселение Марушкинское, деревня ...</td>\n",
       "      <td>54</td>\n",
       "      <td>поселение Марушкинское, деревня Власово, Юбиле...</td>\n",
       "    </tr>\n",
       "    <tr>\n",
       "      <td>1859</td>\n",
       "      <td>120302</td>\n",
       "      <td>магбургер азс №16</td>\n",
       "      <td>True</td>\n",
       "      <td>фастфуд</td>\n",
       "      <td>город Москва, поселение Внуковское, деревня Ли...</td>\n",
       "      <td>25</td>\n",
       "      <td>поселение Внуковское, деревня Ликова</td>\n",
       "    </tr>\n",
       "    <tr>\n",
       "      <td>1860</td>\n",
       "      <td>77869</td>\n",
       "      <td>наш бараш</td>\n",
       "      <td>False</td>\n",
       "      <td>ресторан</td>\n",
       "      <td>город Москва, поселение Десеновское, Армейская...</td>\n",
       "      <td>60</td>\n",
       "      <td>поселение Десеновское, Армейская улица</td>\n",
       "    </tr>\n",
       "    <tr>\n",
       "      <td>1861</td>\n",
       "      <td>77870</td>\n",
       "      <td>кафе</td>\n",
       "      <td>False</td>\n",
       "      <td>кафе</td>\n",
       "      <td>город Москва, поселение Десеновское, деревня Д...</td>\n",
       "      <td>15</td>\n",
       "      <td>поселение Десеновское, деревня Десна</td>\n",
       "    </tr>\n",
       "    <tr>\n",
       "      <td>1862</td>\n",
       "      <td>152560</td>\n",
       "      <td>мини-пекарня</td>\n",
       "      <td>False</td>\n",
       "      <td>фастфуд</td>\n",
       "      <td>город Москва, город Троицк, микрорайон \"В\", до...</td>\n",
       "      <td>0</td>\n",
       "      <td>город Троицк, микрорайон \"В\"</td>\n",
       "    </tr>\n",
       "    <tr>\n",
       "      <td>1863</td>\n",
       "      <td>81258</td>\n",
       "      <td>у мангала</td>\n",
       "      <td>False</td>\n",
       "      <td>кафе</td>\n",
       "      <td>город Москва, город Щербинка, Спортивная улица...</td>\n",
       "      <td>45</td>\n",
       "      <td>город Щербинка, Спортивная улица</td>\n",
       "    </tr>\n",
       "    <tr>\n",
       "      <td>1864</td>\n",
       "      <td>77766</td>\n",
       "      <td>обухов паб</td>\n",
       "      <td>False</td>\n",
       "      <td>ресторан</td>\n",
       "      <td>город Москва, поселение Московский, квартал № ...</td>\n",
       "      <td>80</td>\n",
       "      <td>поселение Московский, квартал № 80</td>\n",
       "    </tr>\n",
       "    <tr>\n",
       "      <td>1865</td>\n",
       "      <td>136551</td>\n",
       "      <td>столовая при маоу гимназия г. троицка</td>\n",
       "      <td>False</td>\n",
       "      <td>столовая</td>\n",
       "      <td>город Москва, город Троицк, Октябрьский проспе...</td>\n",
       "      <td>200</td>\n",
       "      <td>город Троицк, Октябрьский проспект</td>\n",
       "    </tr>\n",
       "    <tr>\n",
       "      <td>1866</td>\n",
       "      <td>79996</td>\n",
       "      <td>подмосковные вечера</td>\n",
       "      <td>False</td>\n",
       "      <td>ресторан</td>\n",
       "      <td>город Москва, город Щербинка, 2-я Барышевская ...</td>\n",
       "      <td>72</td>\n",
       "      <td>город Щербинка, 2-я Барышевская улица</td>\n",
       "    </tr>\n",
       "    <tr>\n",
       "      <td>1867</td>\n",
       "      <td>79717</td>\n",
       "      <td>рива</td>\n",
       "      <td>False</td>\n",
       "      <td>кафе</td>\n",
       "      <td>город Москва, город Троицк, Нагорная улица, дом 4</td>\n",
       "      <td>36</td>\n",
       "      <td>город Троицк, Нагорная улица</td>\n",
       "    </tr>\n",
       "    <tr>\n",
       "      <td>1868</td>\n",
       "      <td>155159</td>\n",
       "      <td>магазин-кулинария суши сет</td>\n",
       "      <td>True</td>\n",
       "      <td>закусочная</td>\n",
       "      <td>город Москва, город Троицк, Сиреневый бульвар,...</td>\n",
       "      <td>16</td>\n",
       "      <td>город Троицк, Сиреневый бульвар</td>\n",
       "    </tr>\n",
       "    <tr>\n",
       "      <td>1869</td>\n",
       "      <td>79995</td>\n",
       "      <td>парус</td>\n",
       "      <td>False</td>\n",
       "      <td>ресторан</td>\n",
       "      <td>город Москва, город Щербинка, Юбилейная улица,...</td>\n",
       "      <td>72</td>\n",
       "      <td>город Щербинка, Юбилейная улица</td>\n",
       "    </tr>\n",
       "    <tr>\n",
       "      <td>1870</td>\n",
       "      <td>80004</td>\n",
       "      <td>kfc</td>\n",
       "      <td>True</td>\n",
       "      <td>фастфуд</td>\n",
       "      <td>город Москва, город Щербинка, Юбилейная улица,...</td>\n",
       "      <td>92</td>\n",
       "      <td>город Щербинка, Юбилейная улица</td>\n",
       "    </tr>\n",
       "    <tr>\n",
       "      <td>1871</td>\n",
       "      <td>79984</td>\n",
       "      <td>релакс плюс</td>\n",
       "      <td>False</td>\n",
       "      <td>кафе</td>\n",
       "      <td>город Москва, город Щербинка, улица Мостотрест...</td>\n",
       "      <td>45</td>\n",
       "      <td>город Щербинка, улица Мостотреста</td>\n",
       "    </tr>\n",
       "    <tr>\n",
       "      <td>1872</td>\n",
       "      <td>80002</td>\n",
       "      <td>burger king</td>\n",
       "      <td>True</td>\n",
       "      <td>фастфуд</td>\n",
       "      <td>город Москва, город Щербинка, улица Мостотрест...</td>\n",
       "      <td>98</td>\n",
       "      <td>город Щербинка, улица Мостотреста</td>\n",
       "    </tr>\n",
       "    <tr>\n",
       "      <td>1873</td>\n",
       "      <td>79718</td>\n",
       "      <td>макдоналдс</td>\n",
       "      <td>True</td>\n",
       "      <td>ресторан</td>\n",
       "      <td>город Москва, поселение Московский, деревня Го...</td>\n",
       "      <td>0</td>\n",
       "      <td>поселение Московский, деревня Говорово</td>\n",
       "    </tr>\n",
       "    <tr>\n",
       "      <td>1874</td>\n",
       "      <td>79716</td>\n",
       "      <td>шоколадница</td>\n",
       "      <td>True</td>\n",
       "      <td>кафе</td>\n",
       "      <td>город Москва, поселение Московский, деревня Го...</td>\n",
       "      <td>45</td>\n",
       "      <td>поселение Московский, деревня Говорово</td>\n",
       "    </tr>\n",
       "    <tr>\n",
       "      <td>1875</td>\n",
       "      <td>99687</td>\n",
       "      <td>крошка картошка</td>\n",
       "      <td>True</td>\n",
       "      <td>фастфуд</td>\n",
       "      <td>город Москва, поселение Московский, деревня Го...</td>\n",
       "      <td>40</td>\n",
       "      <td>поселение Московский, деревня Говорово</td>\n",
       "    </tr>\n",
       "    <tr>\n",
       "      <td>1876</td>\n",
       "      <td>77129</td>\n",
       "      <td>печки-лавочки</td>\n",
       "      <td>False</td>\n",
       "      <td>кафе</td>\n",
       "      <td>город Москва, поселение Щаповское, деревня Тро...</td>\n",
       "      <td>48</td>\n",
       "      <td>поселение Щаповское, деревня Троицкое</td>\n",
       "    </tr>\n",
       "    <tr>\n",
       "      <td>1877</td>\n",
       "      <td>84286</td>\n",
       "      <td>woodwood pizza &amp;burgers</td>\n",
       "      <td>False</td>\n",
       "      <td>бар</td>\n",
       "      <td>город Москва, поселение Краснопахорское, село ...</td>\n",
       "      <td>35</td>\n",
       "      <td>поселение Краснопахорское, село Красная Пахра</td>\n",
       "    </tr>\n",
       "    <tr>\n",
       "      <td>1878</td>\n",
       "      <td>77468</td>\n",
       "      <td>столовая</td>\n",
       "      <td>False</td>\n",
       "      <td>столовая</td>\n",
       "      <td>город Москва, поселение Краснопахорское, село ...</td>\n",
       "      <td>46</td>\n",
       "      <td>поселение Краснопахорское, село Красная Пахра</td>\n",
       "    </tr>\n",
       "    <tr>\n",
       "      <td>1879</td>\n",
       "      <td>156666</td>\n",
       "      <td>суши-сет</td>\n",
       "      <td>False</td>\n",
       "      <td>кафе</td>\n",
       "      <td>город Москва, поселение Краснопахорское, село ...</td>\n",
       "      <td>5</td>\n",
       "      <td>поселение Краснопахорское, село Красная Пахра</td>\n",
       "    </tr>\n",
       "    <tr>\n",
       "      <td>1880</td>\n",
       "      <td>145299</td>\n",
       "      <td>сабкафе</td>\n",
       "      <td>False</td>\n",
       "      <td>кафе</td>\n",
       "      <td>город Москва, поселение Щаповское, деревня Ове...</td>\n",
       "      <td>8</td>\n",
       "      <td>поселение Щаповское, деревня Овечкино</td>\n",
       "    </tr>\n",
       "    <tr>\n",
       "      <td>1881</td>\n",
       "      <td>120301</td>\n",
       "      <td>магбургер азс №17</td>\n",
       "      <td>True</td>\n",
       "      <td>фастфуд</td>\n",
       "      <td>город Москва, поселение Внуковское, деревня Пы...</td>\n",
       "      <td>20</td>\n",
       "      <td>поселение Внуковское, деревня Пыхтино</td>\n",
       "    </tr>\n",
       "  </tbody>\n",
       "</table>\n",
       "</div>"
      ],
      "text/plain": [
       "          id                            object_name  chain object_type  \\\n",
       "145    24606                                  радэа  False        кафе   \n",
       "741   151319                                галерея  False        кафе   \n",
       "856    25558                                  му-му   True        кафе   \n",
       "1386   22331                          столовая миэт  False    столовая   \n",
       "1405   20199                                    это  False        кафе   \n",
       "1406   68113                                 френдс  False        кафе   \n",
       "1407   20105                      граф монте-кристо  False        кафе   \n",
       "1408   22982                               альфорно  False        кафе   \n",
       "1409  151267                               альфорно  False        кафе   \n",
       "1410  150537                             вечный зов  False        кафе   \n",
       "1411  128119                               суши сет   True     фастфуд   \n",
       "1412   24023                 пекарня дружок-пирожок  False   кафетерий   \n",
       "1440   24022                             бар джанго  False         бар   \n",
       "1441  149745                              68. пауза  False         бар   \n",
       "1612  158133                                 тануки   True    ресторан   \n",
       "1613   25938                        никольский парк  False    столовая   \n",
       "1737   69842                             чайхона №1   True    ресторан   \n",
       "1794   71111                                  питер  False        кафе   \n",
       "1795   27851     цсо солнечный столовая-раздаточная  False    столовая   \n",
       "1796   68999                             папа джонс   True        кафе   \n",
       "1797   84477                          пиу дель чибо   True        кафе   \n",
       "1853   77651                          щербенко л.а.  False        кафе   \n",
       "1854  128021                               мама миа  False        кафе   \n",
       "1855  120299                               пиццерия  False        кафе   \n",
       "1856  125246                               суши wok   True        кафе   \n",
       "1857  151292                               ред-кафе  False        кафе   \n",
       "1858   79498                              александр  False    ресторан   \n",
       "1859  120302                      магбургер азс №16   True     фастфуд   \n",
       "1860   77869                              наш бараш  False    ресторан   \n",
       "1861   77870                                   кафе  False        кафе   \n",
       "1862  152560                           мини-пекарня  False     фастфуд   \n",
       "1863   81258                              у мангала  False        кафе   \n",
       "1864   77766                             обухов паб  False    ресторан   \n",
       "1865  136551  столовая при маоу гимназия г. троицка  False    столовая   \n",
       "1866   79996                    подмосковные вечера  False    ресторан   \n",
       "1867   79717                                   рива  False        кафе   \n",
       "1868  155159             магазин-кулинария суши сет   True  закусочная   \n",
       "1869   79995                                  парус  False    ресторан   \n",
       "1870   80004                                    kfc   True     фастфуд   \n",
       "1871   79984                            релакс плюс  False        кафе   \n",
       "1872   80002                            burger king   True     фастфуд   \n",
       "1873   79718                             макдоналдс   True    ресторан   \n",
       "1874   79716                            шоколадница   True        кафе   \n",
       "1875   99687                        крошка картошка   True     фастфуд   \n",
       "1876   77129                          печки-лавочки  False        кафе   \n",
       "1877   84286                woodwood pizza &burgers  False         бар   \n",
       "1878   77468                               столовая  False    столовая   \n",
       "1879  156666                               суши-сет  False        кафе   \n",
       "1880  145299                                сабкафе  False        кафе   \n",
       "1881  120301                      магбургер азс №17   True     фастфуд   \n",
       "\n",
       "                                                address  number  \\\n",
       "145    город Москва, Нахимовский проспект, владение 75А       7   \n",
       "741   город Москва, Нагорная улица, владение 25, стр...     150   \n",
       "856   город Москва, 9-я Парковая улица, владение 61А...     200   \n",
       "1386  город Москва, город Зеленоград, улица Юности, ...      56   \n",
       "1405         город Москва, город Зеленоград, корпус 401      35   \n",
       "1406         город Москва, город Зеленоград, корпус 435      34   \n",
       "1407         город Москва, город Зеленоград, корпус 436      40   \n",
       "1408         город Москва, город Зеленоград, корпус 438      49   \n",
       "1409         город Москва, город Зеленоград, корпус 438      45   \n",
       "1410        город Москва, город Зеленоград, корпус 834А      30   \n",
       "1411        город Москва, город Зеленоград, корпус 1106       7   \n",
       "1412        город Москва, город Зеленоград, корпус 1449       5   \n",
       "1440        город Москва, город Зеленоград, корпус 1456      50   \n",
       "1441        город Москва, город Зеленоград, корпус 1456      48   \n",
       "1612        город Москва, город Зеленоград, корпус 1805     156   \n",
       "1613  город Москва, город Зеленоград, Никольский про...     130   \n",
       "1737  город Москва, улица Мичуринский Проспект, Олим...      94   \n",
       "1794         город Москва, город Зеленоград, корпус 533      25   \n",
       "1795         город Москва, город Зеленоград, корпус 826      60   \n",
       "1796         город Москва, город Зеленоград, корпус 126      49   \n",
       "1797         город Москва, город Зеленоград, корпус 330      80   \n",
       "1853  город Москва, поселение Вороновское, село Воро...      50   \n",
       "1854  город Москва, поселение Внуковское, улица Лётч...      12   \n",
       "1855  город Москва, поселение Внуковское, улица Лётч...      24   \n",
       "1856  город Москва, поселение Внуковское, улица Лётч...       5   \n",
       "1857  город Москва, поселение Новофедоровское, дерев...      45   \n",
       "1858  город Москва, поселение Марушкинское, деревня ...      54   \n",
       "1859  город Москва, поселение Внуковское, деревня Ли...      25   \n",
       "1860  город Москва, поселение Десеновское, Армейская...      60   \n",
       "1861  город Москва, поселение Десеновское, деревня Д...      15   \n",
       "1862  город Москва, город Троицк, микрорайон \"В\", до...       0   \n",
       "1863  город Москва, город Щербинка, Спортивная улица...      45   \n",
       "1864  город Москва, поселение Московский, квартал № ...      80   \n",
       "1865  город Москва, город Троицк, Октябрьский проспе...     200   \n",
       "1866  город Москва, город Щербинка, 2-я Барышевская ...      72   \n",
       "1867  город Москва, город Троицк, Нагорная улица, дом 4      36   \n",
       "1868  город Москва, город Троицк, Сиреневый бульвар,...      16   \n",
       "1869  город Москва, город Щербинка, Юбилейная улица,...      72   \n",
       "1870  город Москва, город Щербинка, Юбилейная улица,...      92   \n",
       "1871  город Москва, город Щербинка, улица Мостотрест...      45   \n",
       "1872  город Москва, город Щербинка, улица Мостотрест...      98   \n",
       "1873  город Москва, поселение Московский, деревня Го...       0   \n",
       "1874  город Москва, поселение Московский, деревня Го...      45   \n",
       "1875  город Москва, поселение Московский, деревня Го...      40   \n",
       "1876  город Москва, поселение Щаповское, деревня Тро...      48   \n",
       "1877  город Москва, поселение Краснопахорское, село ...      35   \n",
       "1878  город Москва, поселение Краснопахорское, село ...      46   \n",
       "1879  город Москва, поселение Краснопахорское, село ...       5   \n",
       "1880  город Москва, поселение Щаповское, деревня Ове...       8   \n",
       "1881  город Москва, поселение Внуковское, деревня Пы...      20   \n",
       "\n",
       "                                                 street  \n",
       "145                  Нахимовский проспект, владение 75А  \n",
       "741             Нагорная улица, владение 25, строение 1  \n",
       "856        9-я Парковая улица, владение 61А, строение 1  \n",
       "1386                     город Зеленоград, улица Юности  \n",
       "1405                       город Зеленоград, корпус 401  \n",
       "1406                       город Зеленоград, корпус 435  \n",
       "1407                       город Зеленоград, корпус 436  \n",
       "1408                       город Зеленоград, корпус 438  \n",
       "1409                       город Зеленоград, корпус 438  \n",
       "1410                      город Зеленоград, корпус 834А  \n",
       "1411                      город Зеленоград, корпус 1106  \n",
       "1412                      город Зеленоград, корпус 1449  \n",
       "1440                      город Зеленоград, корпус 1456  \n",
       "1441                      город Зеленоград, корпус 1456  \n",
       "1612                      город Зеленоград, корпус 1805  \n",
       "1613                город Зеленоград, Никольский проезд  \n",
       "1737    улица Мичуринский Проспект, Олимпийская Деревня  \n",
       "1794                       город Зеленоград, корпус 533  \n",
       "1795                       город Зеленоград, корпус 826  \n",
       "1796                       город Зеленоград, корпус 126  \n",
       "1797                       город Зеленоград, корпус 330  \n",
       "1853               поселение Вороновское, село Вороново  \n",
       "1854       поселение Внуковское, улица Лётчика Ульянина  \n",
       "1855       поселение Внуковское, улица Лётчика Ульянина  \n",
       "1856       поселение Внуковское, улица Лётчика Ульянина  \n",
       "1857  поселение Новофедоровское, деревня Рассудово, ...  \n",
       "1858  поселение Марушкинское, деревня Власово, Юбиле...  \n",
       "1859               поселение Внуковское, деревня Ликова  \n",
       "1860             поселение Десеновское, Армейская улица  \n",
       "1861               поселение Десеновское, деревня Десна  \n",
       "1862                       город Троицк, микрорайон \"В\"  \n",
       "1863                   город Щербинка, Спортивная улица  \n",
       "1864                 поселение Московский, квартал № 80  \n",
       "1865                 город Троицк, Октябрьский проспект  \n",
       "1866              город Щербинка, 2-я Барышевская улица  \n",
       "1867                       город Троицк, Нагорная улица  \n",
       "1868                    город Троицк, Сиреневый бульвар  \n",
       "1869                    город Щербинка, Юбилейная улица  \n",
       "1870                    город Щербинка, Юбилейная улица  \n",
       "1871                  город Щербинка, улица Мостотреста  \n",
       "1872                  город Щербинка, улица Мостотреста  \n",
       "1873             поселение Московский, деревня Говорово  \n",
       "1874             поселение Московский, деревня Говорово  \n",
       "1875             поселение Московский, деревня Говорово  \n",
       "1876              поселение Щаповское, деревня Троицкое  \n",
       "1877      поселение Краснопахорское, село Красная Пахра  \n",
       "1878      поселение Краснопахорское, село Красная Пахра  \n",
       "1879      поселение Краснопахорское, село Красная Пахра  \n",
       "1880              поселение Щаповское, деревня Овечкино  \n",
       "1881              поселение Внуковское, деревня Пыхтино  "
      ]
     },
     "execution_count": 36,
     "metadata": {},
     "output_type": "execute_result"
    }
   ],
   "source": [
    "df_failed_address = df.query('(street.str.contains(\",\"))', engine='python')\n",
    "df_failed_address.head(50)"
   ]
  },
  {
   "cell_type": "code",
   "execution_count": 37,
   "metadata": {},
   "outputs": [
    {
     "data": {
      "text/plain": [
       "0.07309731038544598"
      ]
     },
     "execution_count": 37,
     "metadata": {},
     "output_type": "execute_result"
    }
   ],
   "source": [
    "len(df_failed_address)/len(df)"
   ]
  },
  {
   "cell_type": "markdown",
   "metadata": {},
   "source": [
    "Четко выделить улицу не удалось примерно в 7,5% записей.\n",
    "Большинство из этих адресов расположены в городах и поселениях за пределами непосредственно Москвы (Зеленоград и пр.). Некоторые адреса не подпадают под общий шаблон, например \"улица Мичуринский Проспект, Олимпийская Деревня\", в некоторых записях улица не указана (напр. \"поселение Краснопахорское, село Красная Пахра\")."
   ]
  },
  {
   "cell_type": "markdown",
   "metadata": {},
   "source": [
    "### Постройте график топ-10 улиц по количеству объектов общественного питания. Воспользуйтесь внешней информацией и ответьте на вопрос — в каких районах Москвы находятся эти улицы?"
   ]
  },
  {
   "cell_type": "markdown",
   "metadata": {},
   "source": [
    "Теперь выделим топ-10 улиц по количеству заведений"
   ]
  },
  {
   "cell_type": "code",
   "execution_count": 38,
   "metadata": {},
   "outputs": [
    {
     "data": {
      "text/html": [
       "<div>\n",
       "<style scoped>\n",
       "    .dataframe tbody tr th:only-of-type {\n",
       "        vertical-align: middle;\n",
       "    }\n",
       "\n",
       "    .dataframe tbody tr th {\n",
       "        vertical-align: top;\n",
       "    }\n",
       "\n",
       "    .dataframe thead th {\n",
       "        text-align: right;\n",
       "    }\n",
       "</style>\n",
       "<table border=\"1\" class=\"dataframe\">\n",
       "  <thead>\n",
       "    <tr style=\"text-align: right;\">\n",
       "      <th></th>\n",
       "      <th>street</th>\n",
       "      <th>id</th>\n",
       "    </tr>\n",
       "  </thead>\n",
       "  <tbody>\n",
       "    <tr>\n",
       "      <td>0</td>\n",
       "      <td>проспект Мира</td>\n",
       "      <td>203</td>\n",
       "    </tr>\n",
       "    <tr>\n",
       "      <td>1</td>\n",
       "      <td>Профсоюзная улица</td>\n",
       "      <td>182</td>\n",
       "    </tr>\n",
       "    <tr>\n",
       "      <td>2</td>\n",
       "      <td>Ленинградский проспект</td>\n",
       "      <td>171</td>\n",
       "    </tr>\n",
       "    <tr>\n",
       "      <td>3</td>\n",
       "      <td>Пресненская набережная</td>\n",
       "      <td>167</td>\n",
       "    </tr>\n",
       "    <tr>\n",
       "      <td>4</td>\n",
       "      <td>Варшавское шоссе</td>\n",
       "      <td>155</td>\n",
       "    </tr>\n",
       "    <tr>\n",
       "      <td>5</td>\n",
       "      <td>Ленинский проспект</td>\n",
       "      <td>147</td>\n",
       "    </tr>\n",
       "    <tr>\n",
       "      <td>6</td>\n",
       "      <td>проспект Вернадского</td>\n",
       "      <td>127</td>\n",
       "    </tr>\n",
       "    <tr>\n",
       "      <td>7</td>\n",
       "      <td>Кутузовский проспект</td>\n",
       "      <td>114</td>\n",
       "    </tr>\n",
       "    <tr>\n",
       "      <td>8</td>\n",
       "      <td>Каширское шоссе</td>\n",
       "      <td>103</td>\n",
       "    </tr>\n",
       "    <tr>\n",
       "      <td>9</td>\n",
       "      <td>Ходынский бульвар</td>\n",
       "      <td>102</td>\n",
       "    </tr>\n",
       "  </tbody>\n",
       "</table>\n",
       "</div>"
      ],
      "text/plain": [
       "                   street   id\n",
       "0           проспект Мира  203\n",
       "1       Профсоюзная улица  182\n",
       "2  Ленинградский проспект  171\n",
       "3  Пресненская набережная  167\n",
       "4        Варшавское шоссе  155\n",
       "5      Ленинский проспект  147\n",
       "6    проспект Вернадского  127\n",
       "7    Кутузовский проспект  114\n",
       "8         Каширское шоссе  103\n",
       "9       Ходынский бульвар  102"
      ]
     },
     "execution_count": 38,
     "metadata": {},
     "output_type": "execute_result"
    }
   ],
   "source": [
    "top_streets = df.groupby('street')['id'].count().sort_values(ascending = False).reset_index().head(10)\n",
    "top_streets"
   ]
  },
  {
   "cell_type": "code",
   "execution_count": 39,
   "metadata": {},
   "outputs": [
    {
     "data": {
      "image/png": "[encoded data removed]",
      "text/plain": [
       "<Figure size 864x432 with 1 Axes>"
      ]
     },
     "metadata": {},
     "output_type": "display_data"
    }
   ],
   "source": [
    "sns.set_style(\"whitegrid\")\n",
    "plt.figure(figsize=(12,6))\n",
    "ax = sns.barplot(x=\"street\", y=\"id\", data=top_streets)\n",
    "plt.title(\"Топ 10 улиц по количеству заведений\")\n",
    "plt.xlabel('Улица')\n",
    "plt.ylabel('Количество заведений')\n",
    "plt.xticks(rotation=80)\n",
    "for index, row in top_streets.iterrows():\n",
    "    ax.text(row.name,row.id, row.id, color='black', ha=\"center\")\n",
    "plt.show()"
   ]
  },
  {
   "cell_type": "markdown",
   "metadata": {},
   "source": [
    "Импортируем данные о районах (источник - данные Мосгаз), чтобы узнать, в каких районах находятся улицы.\n",
    "\n",
    "https://docs.google.com/spreadsheets/d/1LhhYh5DfmddEDYDERolchChiS1T9Lgdw7OhVG7q3cKA/edit?usp=sharing"
   ]
  },
  {
   "cell_type": "code",
   "execution_count": 40,
   "metadata": {},
   "outputs": [
    {
     "data": {
      "text/html": [
       "<div>\n",
       "<style scoped>\n",
       "    .dataframe tbody tr th:only-of-type {\n",
       "        vertical-align: middle;\n",
       "    }\n",
       "\n",
       "    .dataframe tbody tr th {\n",
       "        vertical-align: top;\n",
       "    }\n",
       "\n",
       "    .dataframe thead th {\n",
       "        text-align: right;\n",
       "    }\n",
       "</style>\n",
       "<table border=\"1\" class=\"dataframe\">\n",
       "  <thead>\n",
       "    <tr style=\"text-align: right;\">\n",
       "      <th></th>\n",
       "      <th>streetname</th>\n",
       "      <th>areaid</th>\n",
       "      <th>okrug</th>\n",
       "      <th>area</th>\n",
       "    </tr>\n",
       "  </thead>\n",
       "  <tbody>\n",
       "    <tr>\n",
       "      <td>3576</td>\n",
       "      <td>проезд Кирова</td>\n",
       "      <td>115</td>\n",
       "      <td>ЮВАО</td>\n",
       "      <td>Район Люблино</td>\n",
       "    </tr>\n",
       "    <tr>\n",
       "      <td>4165</td>\n",
       "      <td>Болотная улица</td>\n",
       "      <td>21</td>\n",
       "      <td>ЦАО</td>\n",
       "      <td>Район Якиманка</td>\n",
       "    </tr>\n",
       "    <tr>\n",
       "      <td>1019</td>\n",
       "      <td>2-я Хапиловская улица</td>\n",
       "      <td>36</td>\n",
       "      <td>ВАО</td>\n",
       "      <td>Район Соколиная Гора</td>\n",
       "    </tr>\n",
       "    <tr>\n",
       "      <td>536</td>\n",
       "      <td>Садовническая улица</td>\n",
       "      <td>14</td>\n",
       "      <td>ЦАО</td>\n",
       "      <td>Район Замоскворечье</td>\n",
       "    </tr>\n",
       "    <tr>\n",
       "      <td>150</td>\n",
       "      <td>Волочаевская улица</td>\n",
       "      <td>18</td>\n",
       "      <td>ЦАО</td>\n",
       "      <td>Таганский район</td>\n",
       "    </tr>\n",
       "    <tr>\n",
       "      <td>1579</td>\n",
       "      <td>Наро-Фоминская улица</td>\n",
       "      <td>46</td>\n",
       "      <td>ЗАО</td>\n",
       "      <td>Район Солнцево</td>\n",
       "    </tr>\n",
       "    <tr>\n",
       "      <td>1443</td>\n",
       "      <td>Лермонтовская площадь</td>\n",
       "      <td>13</td>\n",
       "      <td>ЦАО</td>\n",
       "      <td>Басманный район</td>\n",
       "    </tr>\n",
       "    <tr>\n",
       "      <td>4045</td>\n",
       "      <td>Серпуховская площадь</td>\n",
       "      <td>21</td>\n",
       "      <td>ЦАО</td>\n",
       "      <td>Район Якиманка</td>\n",
       "    </tr>\n",
       "    <tr>\n",
       "      <td>3451</td>\n",
       "      <td>3-й квартал Капотня</td>\n",
       "      <td>112</td>\n",
       "      <td>ЮВАО</td>\n",
       "      <td>Район Капотня</td>\n",
       "    </tr>\n",
       "    <tr>\n",
       "      <td>4386</td>\n",
       "      <td>Богословский переулок</td>\n",
       "      <td>17</td>\n",
       "      <td>ЦАО</td>\n",
       "      <td>Пресненский район</td>\n",
       "    </tr>\n",
       "  </tbody>\n",
       "</table>\n",
       "</div>"
      ],
      "text/plain": [
       "                 streetname  areaid okrug                  area\n",
       "3576          проезд Кирова     115  ЮВАО         Район Люблино\n",
       "4165         Болотная улица      21   ЦАО        Район Якиманка\n",
       "1019  2-я Хапиловская улица      36   ВАО  Район Соколиная Гора\n",
       "536     Садовническая улица      14   ЦАО   Район Замоскворечье\n",
       "150      Волочаевская улица      18   ЦАО       Таганский район\n",
       "1579   Наро-Фоминская улица      46   ЗАО        Район Солнцево\n",
       "1443  Лермонтовская площадь      13   ЦАО       Басманный район\n",
       "4045   Серпуховская площадь      21   ЦАО        Район Якиманка\n",
       "3451    3-й квартал Капотня     112  ЮВАО         Район Капотня\n",
       "4386  Богословский переулок      17   ЦАО     Пресненский район"
      ]
     },
     "execution_count": 40,
     "metadata": {},
     "output_type": "execute_result"
    }
   ],
   "source": [
    "spreadsheet_id = '1LhhYh5DfmddEDYDERolchChiS1T9Lgdw7OhVG7q3cKA'\n",
    "file_name = 'https://docs.google.com/spreadsheets/d/{}/export?format=csv'.format(spreadsheet_id)\n",
    "r = requests.get(file_name)\n",
    "streets = pd.read_csv(BytesIO(r.content))\n",
    "streets.sample(10)"
   ]
  },
  {
   "cell_type": "markdown",
   "metadata": {},
   "source": [
    "Создадим таблицу с районами Москвы:"
   ]
  },
  {
   "cell_type": "code",
   "execution_count": 41,
   "metadata": {},
   "outputs": [
    {
     "data": {
      "text/html": [
       "<div>\n",
       "<style scoped>\n",
       "    .dataframe tbody tr th:only-of-type {\n",
       "        vertical-align: middle;\n",
       "    }\n",
       "\n",
       "    .dataframe tbody tr th {\n",
       "        vertical-align: top;\n",
       "    }\n",
       "\n",
       "    .dataframe thead th {\n",
       "        text-align: right;\n",
       "    }\n",
       "</style>\n",
       "<table border=\"1\" class=\"dataframe\">\n",
       "  <thead>\n",
       "    <tr style=\"text-align: right;\">\n",
       "      <th></th>\n",
       "      <th>id</th>\n",
       "      <th>object_name</th>\n",
       "      <th>chain</th>\n",
       "      <th>object_type</th>\n",
       "      <th>address</th>\n",
       "      <th>number</th>\n",
       "      <th>street</th>\n",
       "      <th>streetname</th>\n",
       "      <th>areaid</th>\n",
       "      <th>okrug</th>\n",
       "      <th>area</th>\n",
       "    </tr>\n",
       "  </thead>\n",
       "  <tbody>\n",
       "    <tr>\n",
       "      <td>0</td>\n",
       "      <td>151635</td>\n",
       "      <td>сметана</td>\n",
       "      <td>False</td>\n",
       "      <td>кафе</td>\n",
       "      <td>город Москва, улица Егора Абакумова, дом 9</td>\n",
       "      <td>48</td>\n",
       "      <td>улица Егора Абакумова</td>\n",
       "      <td>улица Егора Абакумова</td>\n",
       "      <td>86.0</td>\n",
       "      <td>СВАО</td>\n",
       "      <td>Ярославский Район</td>\n",
       "    </tr>\n",
       "    <tr>\n",
       "      <td>1</td>\n",
       "      <td>77874</td>\n",
       "      <td>родник</td>\n",
       "      <td>False</td>\n",
       "      <td>кафе</td>\n",
       "      <td>город Москва, улица Талалихина, дом 2/1, корпус 1</td>\n",
       "      <td>35</td>\n",
       "      <td>улица Талалихина</td>\n",
       "      <td>улица Талалихина</td>\n",
       "      <td>18.0</td>\n",
       "      <td>ЦАО</td>\n",
       "      <td>Таганский район</td>\n",
       "    </tr>\n",
       "    <tr>\n",
       "      <td>2</td>\n",
       "      <td>77874</td>\n",
       "      <td>родник</td>\n",
       "      <td>False</td>\n",
       "      <td>кафе</td>\n",
       "      <td>город Москва, улица Талалихина, дом 2/1, корпус 1</td>\n",
       "      <td>35</td>\n",
       "      <td>улица Талалихина</td>\n",
       "      <td>улица Талалихина</td>\n",
       "      <td>117.0</td>\n",
       "      <td>ЮВАО</td>\n",
       "      <td>Нижегородский район</td>\n",
       "    </tr>\n",
       "    <tr>\n",
       "      <td>3</td>\n",
       "      <td>77874</td>\n",
       "      <td>родник</td>\n",
       "      <td>False</td>\n",
       "      <td>кафе</td>\n",
       "      <td>город Москва, улица Талалихина, дом 2/1, корпус 1</td>\n",
       "      <td>35</td>\n",
       "      <td>улица Талалихина</td>\n",
       "      <td>улица Талалихина</td>\n",
       "      <td>133.0</td>\n",
       "      <td>ЮЗАО</td>\n",
       "      <td>Район Южное Бутово</td>\n",
       "    </tr>\n",
       "    <tr>\n",
       "      <td>4</td>\n",
       "      <td>24309</td>\n",
       "      <td>академия</td>\n",
       "      <td>False</td>\n",
       "      <td>кафе</td>\n",
       "      <td>город Москва, Абельмановская улица, дом 6</td>\n",
       "      <td>95</td>\n",
       "      <td>Абельмановская улица</td>\n",
       "      <td>Абельмановская улица</td>\n",
       "      <td>18.0</td>\n",
       "      <td>ЦАО</td>\n",
       "      <td>Таганский район</td>\n",
       "    </tr>\n",
       "    <tr>\n",
       "      <td>...</td>\n",
       "      <td>...</td>\n",
       "      <td>...</td>\n",
       "      <td>...</td>\n",
       "      <td>...</td>\n",
       "      <td>...</td>\n",
       "      <td>...</td>\n",
       "      <td>...</td>\n",
       "      <td>...</td>\n",
       "      <td>...</td>\n",
       "      <td>...</td>\n",
       "      <td>...</td>\n",
       "    </tr>\n",
       "    <tr>\n",
       "      <td>29559</td>\n",
       "      <td>209264</td>\n",
       "      <td>шоколадница</td>\n",
       "      <td>True</td>\n",
       "      <td>кафе</td>\n",
       "      <td>город Москва, улица Земляной Вал, дом 33</td>\n",
       "      <td>10</td>\n",
       "      <td>улица Земляной Вал</td>\n",
       "      <td>улица Земляной Вал</td>\n",
       "      <td>13.0</td>\n",
       "      <td>ЦАО</td>\n",
       "      <td>Басманный район</td>\n",
       "    </tr>\n",
       "    <tr>\n",
       "      <td>29560</td>\n",
       "      <td>209186</td>\n",
       "      <td>шоколадница</td>\n",
       "      <td>True</td>\n",
       "      <td>кафе</td>\n",
       "      <td>город Москва, улица Земляной Вал, дом 33</td>\n",
       "      <td>20</td>\n",
       "      <td>улица Земляной Вал</td>\n",
       "      <td>улица Земляной Вал</td>\n",
       "      <td>18.0</td>\n",
       "      <td>ЦАО</td>\n",
       "      <td>Таганский район</td>\n",
       "    </tr>\n",
       "    <tr>\n",
       "      <td>29561</td>\n",
       "      <td>209186</td>\n",
       "      <td>шоколадница</td>\n",
       "      <td>True</td>\n",
       "      <td>кафе</td>\n",
       "      <td>город Москва, улица Земляной Вал, дом 33</td>\n",
       "      <td>20</td>\n",
       "      <td>улица Земляной Вал</td>\n",
       "      <td>улица Земляной Вал</td>\n",
       "      <td>13.0</td>\n",
       "      <td>ЦАО</td>\n",
       "      <td>Басманный район</td>\n",
       "    </tr>\n",
       "    <tr>\n",
       "      <td>29562</td>\n",
       "      <td>221900</td>\n",
       "      <td>шоколадница</td>\n",
       "      <td>True</td>\n",
       "      <td>кафе</td>\n",
       "      <td>город Москва, поселение Московский, Киевское ш...</td>\n",
       "      <td>36</td>\n",
       "      <td>поселение Московский, Киевское шоссе, 22-й кил...</td>\n",
       "      <td>NaN</td>\n",
       "      <td>NaN</td>\n",
       "      <td>NaN</td>\n",
       "      <td>NaN</td>\n",
       "    </tr>\n",
       "    <tr>\n",
       "      <td>29563</td>\n",
       "      <td>222535</td>\n",
       "      <td>шоколадница</td>\n",
       "      <td>True</td>\n",
       "      <td>кафе</td>\n",
       "      <td>город Москва, Ходынский бульвар, дом 4</td>\n",
       "      <td>10</td>\n",
       "      <td>Ходынский бульвар</td>\n",
       "      <td>Ходынский бульвар</td>\n",
       "      <td>69.0</td>\n",
       "      <td>САО</td>\n",
       "      <td>Хорошевский район</td>\n",
       "    </tr>\n",
       "  </tbody>\n",
       "</table>\n",
       "<p>29564 rows × 11 columns</p>\n",
       "</div>"
      ],
      "text/plain": [
       "           id  object_name  chain object_type  \\\n",
       "0      151635      сметана  False        кафе   \n",
       "1       77874       родник  False        кафе   \n",
       "2       77874       родник  False        кафе   \n",
       "3       77874       родник  False        кафе   \n",
       "4       24309     академия  False        кафе   \n",
       "...       ...          ...    ...         ...   \n",
       "29559  209264  шоколадница   True        кафе   \n",
       "29560  209186  шоколадница   True        кафе   \n",
       "29561  209186  шоколадница   True        кафе   \n",
       "29562  221900  шоколадница   True        кафе   \n",
       "29563  222535  шоколадница   True        кафе   \n",
       "\n",
       "                                                 address  number  \\\n",
       "0             город Москва, улица Егора Абакумова, дом 9      48   \n",
       "1      город Москва, улица Талалихина, дом 2/1, корпус 1      35   \n",
       "2      город Москва, улица Талалихина, дом 2/1, корпус 1      35   \n",
       "3      город Москва, улица Талалихина, дом 2/1, корпус 1      35   \n",
       "4              город Москва, Абельмановская улица, дом 6      95   \n",
       "...                                                  ...     ...   \n",
       "29559           город Москва, улица Земляной Вал, дом 33      10   \n",
       "29560           город Москва, улица Земляной Вал, дом 33      20   \n",
       "29561           город Москва, улица Земляной Вал, дом 33      20   \n",
       "29562  город Москва, поселение Московский, Киевское ш...      36   \n",
       "29563             город Москва, Ходынский бульвар, дом 4      10   \n",
       "\n",
       "                                                  street  \\\n",
       "0                                  улица Егора Абакумова   \n",
       "1                                       улица Талалихина   \n",
       "2                                       улица Талалихина   \n",
       "3                                       улица Талалихина   \n",
       "4                                   Абельмановская улица   \n",
       "...                                                  ...   \n",
       "29559                                 улица Земляной Вал   \n",
       "29560                                 улица Земляной Вал   \n",
       "29561                                 улица Земляной Вал   \n",
       "29562  поселение Московский, Киевское шоссе, 22-й кил...   \n",
       "29563                                  Ходынский бульвар   \n",
       "\n",
       "                  streetname  areaid okrug                 area  \n",
       "0      улица Егора Абакумова    86.0  СВАО    Ярославский Район  \n",
       "1           улица Талалихина    18.0   ЦАО      Таганский район  \n",
       "2           улица Талалихина   117.0  ЮВАО  Нижегородский район  \n",
       "3           улица Талалихина   133.0  ЮЗАО   Район Южное Бутово  \n",
       "4       Абельмановская улица    18.0   ЦАО      Таганский район  \n",
       "...                      ...     ...   ...                  ...  \n",
       "29559     улица Земляной Вал    13.0   ЦАО      Басманный район  \n",
       "29560     улица Земляной Вал    18.0   ЦАО      Таганский район  \n",
       "29561     улица Земляной Вал    13.0   ЦАО      Басманный район  \n",
       "29562                    NaN     NaN   NaN                  NaN  \n",
       "29563      Ходынский бульвар    69.0   САО    Хорошевский район  \n",
       "\n",
       "[29564 rows x 11 columns]"
      ]
     },
     "execution_count": 41,
     "metadata": {},
     "output_type": "execute_result"
    }
   ],
   "source": [
    "df_area = df.merge(streets, how='left', left_on = 'street', right_on = 'streetname')\n",
    "df_area"
   ]
  },
  {
   "cell_type": "code",
   "execution_count": 42,
   "metadata": {},
   "outputs": [
    {
     "data": {
      "text/plain": [
       "street\n",
       "Ленинский проспект          8\n",
       "Варшавское шоссе            8\n",
       "Волгоградский проспект      7\n",
       "проспект Мира               7\n",
       "Дмитровское шоссе           7\n",
       "Ленинградское шоссе         6\n",
       "Севастопольский проспект    6\n",
       "Профсоюзная улица           6\n",
       "Нахимовский проспект        6\n",
       "шоссе Энтузиастов           5\n",
       "Name: area, dtype: int64"
      ]
     },
     "execution_count": 42,
     "metadata": {},
     "output_type": "execute_result"
    }
   ],
   "source": [
    "df_area.groupby('street')['area'].nunique().sort_values(ascending=False).head(10)"
   ]
  },
  {
   "cell_type": "markdown",
   "metadata": {},
   "source": [
    "Из последней группировки видно что многие улицы проходят по нескольким районам сразу. Получим список районов, через которые проходят топ-10 улиц:"
   ]
  },
  {
   "cell_type": "code",
   "execution_count": 43,
   "metadata": {},
   "outputs": [
    {
     "data": {
      "text/plain": [
       "array(['Район Чертаново Центральное', 'Район Чертаново Северное',\n",
       "       'Район Чертаново Южное', 'Донской район',\n",
       "       'Район Нагатино-Садовники', 'Нагорный район',\n",
       "       'Район Северное Бутово', 'Район Южное Бутово',\n",
       "       'Район Проспект Вернадского', 'Район Раменки',\n",
       "       'Район Тропарево-Никулино', 'Район Гагаринский',\n",
       "       'Ломоносовский район', 'Район Дорогомилово',\n",
       "       'Район Фили-Давыдково', 'Район Москворечье-Сабурово',\n",
       "       'Район Орехово-Борисово Южное', 'Район Орехово-Борисово Северное',\n",
       "       'Район Аэропорт', 'Район Беговой', 'Хорошевский район',\n",
       "       'Район Сокол', 'Обручевский район', 'Район Теплый Стан',\n",
       "       'Район Якиманка', 'Алексеевский район', 'Ярославский Район',\n",
       "       'Район Марьина роща', 'Останкинский район', 'Район Ростокино',\n",
       "       'Район Свиблово', 'Мещанский район', 'Академический район',\n",
       "       'Район Черемушки', 'Район Ясенево', 'Район Коньково',\n",
       "       'Пресненский район'], dtype=object)"
      ]
     },
     "execution_count": 43,
     "metadata": {},
     "output_type": "execute_result"
    }
   ],
   "source": [
    "top_10_streets = top_streets['street']\n",
    "df_area.query('street in @top_10_streets')['area'].unique()"
   ]
  },
  {
   "cell_type": "code",
   "execution_count": 44,
   "metadata": {},
   "outputs": [
    {
     "data": {
      "text/plain": [
       "37"
      ]
     },
     "execution_count": 44,
     "metadata": {},
     "output_type": "execute_result"
    }
   ],
   "source": [
    "len(df_area.query('street in @top_10_streets')['area'].unique())"
   ]
  },
  {
   "cell_type": "markdown",
   "metadata": {},
   "source": [
    "Топ-10 улиц проходят через 37 районов. Теперь выведем список районов для каждой улицы:"
   ]
  },
  {
   "cell_type": "code",
   "execution_count": 45,
   "metadata": {},
   "outputs": [],
   "source": [
    "pd.options.display.max_colwidth = -1"
   ]
  },
  {
   "cell_type": "code",
   "execution_count": 46,
   "metadata": {},
   "outputs": [
    {
     "data": {
      "text/html": [
       "<div>\n",
       "<style scoped>\n",
       "    .dataframe tbody tr th:only-of-type {\n",
       "        vertical-align: middle;\n",
       "    }\n",
       "\n",
       "    .dataframe tbody tr th {\n",
       "        vertical-align: top;\n",
       "    }\n",
       "\n",
       "    .dataframe thead th {\n",
       "        text-align: right;\n",
       "    }\n",
       "</style>\n",
       "<table border=\"1\" class=\"dataframe\">\n",
       "  <thead>\n",
       "    <tr style=\"text-align: right;\">\n",
       "      <th></th>\n",
       "      <th>street</th>\n",
       "      <th>area</th>\n",
       "    </tr>\n",
       "  </thead>\n",
       "  <tbody>\n",
       "    <tr>\n",
       "      <td>0</td>\n",
       "      <td>Варшавское шоссе</td>\n",
       "      <td>{Район Чертаново Южное, Район Чертаново Центральное, Нагорный район, Район Нагатино-Садовники, Район Южное Бутово, Донской район, Район Северное Бутово, Район Чертаново Северное}</td>\n",
       "    </tr>\n",
       "    <tr>\n",
       "      <td>1</td>\n",
       "      <td>Каширское шоссе</td>\n",
       "      <td>{Район Орехово-Борисово Южное, Район Нагатино-Садовники, Район Орехово-Борисово Северное, Район Москворечье-Сабурово}</td>\n",
       "    </tr>\n",
       "    <tr>\n",
       "      <td>2</td>\n",
       "      <td>Кутузовский проспект</td>\n",
       "      <td>{Район Фили-Давыдково, Район Дорогомилово}</td>\n",
       "    </tr>\n",
       "    <tr>\n",
       "      <td>3</td>\n",
       "      <td>Ленинградский проспект</td>\n",
       "      <td>{Район Аэропорт, Район Сокол, Район Беговой, Хорошевский район}</td>\n",
       "    </tr>\n",
       "    <tr>\n",
       "      <td>4</td>\n",
       "      <td>Ленинский проспект</td>\n",
       "      <td>{Обручевский район, Район Теплый Стан, Район Проспект Вернадского, Ломоносовский район, Район Якиманка, Донской район, Район Тропарево-Никулино, Район Гагаринский}</td>\n",
       "    </tr>\n",
       "    <tr>\n",
       "      <td>5</td>\n",
       "      <td>Пресненская набережная</td>\n",
       "      <td>{Пресненский район}</td>\n",
       "    </tr>\n",
       "    <tr>\n",
       "      <td>6</td>\n",
       "      <td>Профсоюзная улица</td>\n",
       "      <td>{Район Черемушки, Обручевский район, Район Теплый Стан, Район Коньково, Академический район, Район Ясенево}</td>\n",
       "    </tr>\n",
       "    <tr>\n",
       "      <td>7</td>\n",
       "      <td>Ходынский бульвар</td>\n",
       "      <td>{Хорошевский район}</td>\n",
       "    </tr>\n",
       "    <tr>\n",
       "      <td>8</td>\n",
       "      <td>проспект Вернадского</td>\n",
       "      <td>{Район Раменки, Район Проспект Вернадского, Ломоносовский район, Район Тропарево-Никулино, Район Гагаринский}</td>\n",
       "    </tr>\n",
       "    <tr>\n",
       "      <td>9</td>\n",
       "      <td>проспект Мира</td>\n",
       "      <td>{Мещанский район, Ярославский Район, Район Марьина роща, Алексеевский район, Район Ростокино, Останкинский район, Район Свиблово}</td>\n",
       "    </tr>\n",
       "  </tbody>\n",
       "</table>\n",
       "</div>"
      ],
      "text/plain": [
       "                   street  \\\n",
       "0  Варшавское шоссе         \n",
       "1  Каширское шоссе          \n",
       "2  Кутузовский проспект     \n",
       "3  Ленинградский проспект   \n",
       "4  Ленинский проспект       \n",
       "5  Пресненская набережная   \n",
       "6  Профсоюзная улица        \n",
       "7  Ходынский бульвар        \n",
       "8  проспект Вернадского     \n",
       "9  проспект Мира            \n",
       "\n",
       "                                                                                                                                                                                 area  \n",
       "0  {Район Чертаново Южное, Район Чертаново Центральное, Нагорный район, Район Нагатино-Садовники, Район Южное Бутово, Донской район, Район Северное Бутово, Район Чертаново Северное}  \n",
       "1  {Район Орехово-Борисово Южное, Район Нагатино-Садовники, Район Орехово-Борисово Северное, Район Москворечье-Сабурово}                                                               \n",
       "2  {Район Фили-Давыдково, Район Дорогомилово}                                                                                                                                          \n",
       "3  {Район Аэропорт, Район Сокол, Район Беговой, Хорошевский район}                                                                                                                     \n",
       "4  {Обручевский район, Район Теплый Стан, Район Проспект Вернадского, Ломоносовский район, Район Якиманка, Донской район, Район Тропарево-Никулино, Район Гагаринский}                 \n",
       "5  {Пресненский район}                                                                                                                                                                 \n",
       "6  {Район Черемушки, Обручевский район, Район Теплый Стан, Район Коньково, Академический район, Район Ясенево}                                                                         \n",
       "7  {Хорошевский район}                                                                                                                                                                 \n",
       "8  {Район Раменки, Район Проспект Вернадского, Ломоносовский район, Район Тропарево-Никулино, Район Гагаринский}                                                                       \n",
       "9  {Мещанский район, Ярославский Район, Район Марьина роща, Алексеевский район, Район Ростокино, Останкинский район, Район Свиблово}                                                   "
      ]
     },
     "execution_count": 46,
     "metadata": {},
     "output_type": "execute_result"
    }
   ],
   "source": [
    "df_area.query('street in @top_10_streets').groupby('street', as_index=False).agg({'area': set})"
   ]
  },
  {
   "cell_type": "markdown",
   "metadata": {},
   "source": [
    "И посмотрим в каком же районе находится наибольшее количество улиц с заведениями"
   ]
  },
  {
   "cell_type": "code",
   "execution_count": 47,
   "metadata": {},
   "outputs": [
    {
     "data": {
      "text/html": [
       "<div>\n",
       "<style scoped>\n",
       "    .dataframe tbody tr th:only-of-type {\n",
       "        vertical-align: middle;\n",
       "    }\n",
       "\n",
       "    .dataframe tbody tr th {\n",
       "        vertical-align: top;\n",
       "    }\n",
       "\n",
       "    .dataframe thead th {\n",
       "        text-align: right;\n",
       "    }\n",
       "</style>\n",
       "<table border=\"1\" class=\"dataframe\">\n",
       "  <thead>\n",
       "    <tr style=\"text-align: right;\">\n",
       "      <th></th>\n",
       "      <th>area</th>\n",
       "      <th>street</th>\n",
       "    </tr>\n",
       "  </thead>\n",
       "  <tbody>\n",
       "    <tr>\n",
       "      <td>0</td>\n",
       "      <td>Тверской район</td>\n",
       "      <td>106</td>\n",
       "    </tr>\n",
       "    <tr>\n",
       "      <td>1</td>\n",
       "      <td>Пресненский район</td>\n",
       "      <td>88</td>\n",
       "    </tr>\n",
       "    <tr>\n",
       "      <td>2</td>\n",
       "      <td>Таганский район</td>\n",
       "      <td>82</td>\n",
       "    </tr>\n",
       "    <tr>\n",
       "      <td>3</td>\n",
       "      <td>Басманный район</td>\n",
       "      <td>80</td>\n",
       "    </tr>\n",
       "    <tr>\n",
       "      <td>4</td>\n",
       "      <td>Район Хамовники</td>\n",
       "      <td>74</td>\n",
       "    </tr>\n",
       "    <tr>\n",
       "      <td>5</td>\n",
       "      <td>Даниловский район</td>\n",
       "      <td>49</td>\n",
       "    </tr>\n",
       "    <tr>\n",
       "      <td>6</td>\n",
       "      <td>Мещанский район</td>\n",
       "      <td>48</td>\n",
       "    </tr>\n",
       "    <tr>\n",
       "      <td>7</td>\n",
       "      <td>Район Замоскворечье</td>\n",
       "      <td>46</td>\n",
       "    </tr>\n",
       "    <tr>\n",
       "      <td>8</td>\n",
       "      <td>Район Арбат</td>\n",
       "      <td>45</td>\n",
       "    </tr>\n",
       "    <tr>\n",
       "      <td>9</td>\n",
       "      <td>Красносельский район</td>\n",
       "      <td>40</td>\n",
       "    </tr>\n",
       "  </tbody>\n",
       "</table>\n",
       "</div>"
      ],
      "text/plain": [
       "                   area  street\n",
       "0  Тверской район        106   \n",
       "1  Пресненский район     88    \n",
       "2  Таганский район       82    \n",
       "3  Басманный район       80    \n",
       "4  Район Хамовники       74    \n",
       "5  Даниловский район     49    \n",
       "6  Мещанский район       48    \n",
       "7  Район Замоскворечье   46    \n",
       "8  Район Арбат           45    \n",
       "9  Красносельский район  40    "
      ]
     },
     "execution_count": 47,
     "metadata": {},
     "output_type": "execute_result"
    }
   ],
   "source": [
    "top_areas = df_area.groupby('area')['street'].nunique().sort_values(ascending=False).reset_index().head(10)\n",
    "top_areas"
   ]
  },
  {
   "cell_type": "code",
   "execution_count": 48,
   "metadata": {},
   "outputs": [
    {
     "data": {
      "image/png": "[encoded data removed]",
      "text/plain": [
       "<Figure size 864x432 with 1 Axes>"
      ]
     },
     "metadata": {},
     "output_type": "display_data"
    }
   ],
   "source": [
    "sns.set_style(\"whitegrid\")\n",
    "plt.figure(figsize=(12,6))\n",
    "ax = sns.barplot(x=\"area\", y=\"street\", data=top_areas)\n",
    "plt.title(\"Топ районов по количеству улиц с заведениями\")\n",
    "plt.xlabel('Район')\n",
    "plt.ylabel('Количество улиц')\n",
    "plt.xticks(rotation=80)\n",
    "\n",
    "plt.show()"
   ]
  },
  {
   "cell_type": "markdown",
   "metadata": {},
   "source": [
    "**Вывод**\n",
    "Самым крупным районом по количеству улиц с заведениями является Тверской. В нем 106 улиц с заведениями. За ним располагаются Пресненский (88), Таганский (82), Басманный (80) и Хамовники (74)"
   ]
  },
  {
   "cell_type": "markdown",
   "metadata": {},
   "source": [
    "### Найдите число улиц с одним объектом общественного питания. Воспользуйтесь внешней информацией и ответьте на вопрос — в каких районах Москвы находятся эти улицы?"
   ]
  },
  {
   "cell_type": "markdown",
   "metadata": {},
   "source": [
    "Оставим а датафрейме только Московские заведения"
   ]
  },
  {
   "cell_type": "code",
   "execution_count": 49,
   "metadata": {},
   "outputs": [],
   "source": [
    "df_msk = df.query('~(address.str.contains(\"город Москва, город\") or address.str.contains(\"город Москва, поселение\"))',\n",
    "                  engine='python')"
   ]
  },
  {
   "cell_type": "code",
   "execution_count": 50,
   "metadata": {},
   "outputs": [
    {
     "data": {
      "text/plain": [
       "14469"
      ]
     },
     "execution_count": 50,
     "metadata": {},
     "output_type": "execute_result"
    }
   ],
   "source": [
    "len(df_msk)"
   ]
  },
  {
   "cell_type": "markdown",
   "metadata": {},
   "source": [
    "Теперь оставим только улицы с одним заведением"
   ]
  },
  {
   "cell_type": "code",
   "execution_count": 51,
   "metadata": {},
   "outputs": [
    {
     "data": {
      "text/html": [
       "<div>\n",
       "<style scoped>\n",
       "    .dataframe tbody tr th:only-of-type {\n",
       "        vertical-align: middle;\n",
       "    }\n",
       "\n",
       "    .dataframe tbody tr th {\n",
       "        vertical-align: top;\n",
       "    }\n",
       "\n",
       "    .dataframe thead th {\n",
       "        text-align: right;\n",
       "    }\n",
       "</style>\n",
       "<table border=\"1\" class=\"dataframe\">\n",
       "  <thead>\n",
       "    <tr style=\"text-align: right;\">\n",
       "      <th></th>\n",
       "      <th>street</th>\n",
       "      <th>id</th>\n",
       "    </tr>\n",
       "  </thead>\n",
       "  <tbody>\n",
       "    <tr>\n",
       "      <td>0</td>\n",
       "      <td>1-й Автозаводский проезд</td>\n",
       "      <td>3</td>\n",
       "    </tr>\n",
       "    <tr>\n",
       "      <td>1</td>\n",
       "      <td>1-й Амбулаторный проезд</td>\n",
       "      <td>2</td>\n",
       "    </tr>\n",
       "    <tr>\n",
       "      <td>2</td>\n",
       "      <td>1-й Балтийский переулок</td>\n",
       "      <td>1</td>\n",
       "    </tr>\n",
       "    <tr>\n",
       "      <td>3</td>\n",
       "      <td>1-й Басманный переулок</td>\n",
       "      <td>1</td>\n",
       "    </tr>\n",
       "    <tr>\n",
       "      <td>4</td>\n",
       "      <td>1-й Ботанический проезд</td>\n",
       "      <td>1</td>\n",
       "    </tr>\n",
       "  </tbody>\n",
       "</table>\n",
       "</div>"
      ],
      "text/plain": [
       "                     street  id\n",
       "0  1-й Автозаводский проезд  3 \n",
       "1  1-й Амбулаторный проезд   2 \n",
       "2  1-й Балтийский переулок   1 \n",
       "3  1-й Басманный переулок    1 \n",
       "4  1-й Ботанический проезд   1 "
      ]
     },
     "execution_count": 51,
     "metadata": {},
     "output_type": "execute_result"
    }
   ],
   "source": [
    "street_rest_num = df_msk.groupby('street')['id'].nunique().reset_index()\n",
    "street_rest_num.head()"
   ]
  },
  {
   "cell_type": "code",
   "execution_count": 52,
   "metadata": {},
   "outputs": [
    {
     "data": {
      "text/plain": [
       "690"
      ]
     },
     "execution_count": 52,
     "metadata": {},
     "output_type": "execute_result"
    }
   ],
   "source": [
    "lonely_cafe_streets = street_rest_num.query('id == 1')['street']\n",
    "len(lonely_cafe_streets)"
   ]
  },
  {
   "cell_type": "markdown",
   "metadata": {},
   "source": [
    "В Москве 689 улиц с одним заведением. Посмотрим в каких районах они находятся"
   ]
  },
  {
   "cell_type": "code",
   "execution_count": 53,
   "metadata": {},
   "outputs": [
    {
     "data": {
      "text/plain": [
       "101"
      ]
     },
     "execution_count": 53,
     "metadata": {},
     "output_type": "execute_result"
    }
   ],
   "source": [
    "df_msk_area = df_msk.merge(streets, how='left', left_on = 'street', right_on = 'streetname')\n",
    "lonely_cafe_areas = df_msk_area.query('street in @lonely_cafe_streets').groupby('area')['id'].nunique().sort_values(ascending = False).reset_index()\n",
    "len(lonely_cafe_areas)"
   ]
  },
  {
   "cell_type": "markdown",
   "metadata": {},
   "source": [
    "Улицы с одним заведением встречаются в 101-м районе Москвы. Посмотрим, в каких районах больше всего улиц с одним заведением."
   ]
  },
  {
   "cell_type": "code",
   "execution_count": 54,
   "metadata": {},
   "outputs": [
    {
     "data": {
      "text/html": [
       "<div>\n",
       "<style scoped>\n",
       "    .dataframe tbody tr th:only-of-type {\n",
       "        vertical-align: middle;\n",
       "    }\n",
       "\n",
       "    .dataframe tbody tr th {\n",
       "        vertical-align: top;\n",
       "    }\n",
       "\n",
       "    .dataframe thead th {\n",
       "        text-align: right;\n",
       "    }\n",
       "</style>\n",
       "<table border=\"1\" class=\"dataframe\">\n",
       "  <thead>\n",
       "    <tr style=\"text-align: right;\">\n",
       "      <th></th>\n",
       "      <th>area</th>\n",
       "      <th>qty</th>\n",
       "    </tr>\n",
       "  </thead>\n",
       "  <tbody>\n",
       "    <tr>\n",
       "      <td>0</td>\n",
       "      <td>Таганский район</td>\n",
       "      <td>27</td>\n",
       "    </tr>\n",
       "    <tr>\n",
       "      <td>1</td>\n",
       "      <td>Район Хамовники</td>\n",
       "      <td>26</td>\n",
       "    </tr>\n",
       "    <tr>\n",
       "      <td>2</td>\n",
       "      <td>Басманный район</td>\n",
       "      <td>25</td>\n",
       "    </tr>\n",
       "    <tr>\n",
       "      <td>3</td>\n",
       "      <td>Тверской район</td>\n",
       "      <td>20</td>\n",
       "    </tr>\n",
       "    <tr>\n",
       "      <td>4</td>\n",
       "      <td>Пресненский район</td>\n",
       "      <td>20</td>\n",
       "    </tr>\n",
       "    <tr>\n",
       "      <td>5</td>\n",
       "      <td>Район Арбат</td>\n",
       "      <td>18</td>\n",
       "    </tr>\n",
       "    <tr>\n",
       "      <td>6</td>\n",
       "      <td>Район Марьина роща</td>\n",
       "      <td>17</td>\n",
       "    </tr>\n",
       "    <tr>\n",
       "      <td>7</td>\n",
       "      <td>Мещанский район</td>\n",
       "      <td>15</td>\n",
       "    </tr>\n",
       "    <tr>\n",
       "      <td>8</td>\n",
       "      <td>Район Сокольники</td>\n",
       "      <td>15</td>\n",
       "    </tr>\n",
       "    <tr>\n",
       "      <td>9</td>\n",
       "      <td>Район Замоскворечье</td>\n",
       "      <td>14</td>\n",
       "    </tr>\n",
       "  </tbody>\n",
       "</table>\n",
       "</div>"
      ],
      "text/plain": [
       "                  area  qty\n",
       "0  Таганский район      27 \n",
       "1  Район Хамовники      26 \n",
       "2  Басманный район      25 \n",
       "3  Тверской район       20 \n",
       "4  Пресненский район    20 \n",
       "5  Район Арбат          18 \n",
       "6  Район Марьина роща   17 \n",
       "7  Мещанский район      15 \n",
       "8  Район Сокольники     15 \n",
       "9  Район Замоскворечье  14 "
      ]
     },
     "execution_count": 54,
     "metadata": {},
     "output_type": "execute_result"
    }
   ],
   "source": [
    "lonely_cafe_areas.columns = ['area', 'qty']\n",
    "lonely_cafe_areas.head(10)"
   ]
  },
  {
   "cell_type": "markdown",
   "metadata": {},
   "source": [
    "Таганский район, район Хамовники и Басманный район лидируют по количеству улиц с одним заведением."
   ]
  },
  {
   "cell_type": "markdown",
   "metadata": {},
   "source": [
    "### Посмотрите на распределение количества посадочных мест для улиц с большим количеством объектов общественного питания. Какие закономерности можно выявить?"
   ]
  },
  {
   "cell_type": "markdown",
   "metadata": {},
   "source": [
    "Выберем заведения, находящиеся на топ 10 улиц по количеству заведений"
   ]
  },
  {
   "cell_type": "code",
   "execution_count": 55,
   "metadata": {},
   "outputs": [
    {
     "data": {
      "text/html": [
       "<div>\n",
       "<style scoped>\n",
       "    .dataframe tbody tr th:only-of-type {\n",
       "        vertical-align: middle;\n",
       "    }\n",
       "\n",
       "    .dataframe tbody tr th {\n",
       "        vertical-align: top;\n",
       "    }\n",
       "\n",
       "    .dataframe thead th {\n",
       "        text-align: right;\n",
       "    }\n",
       "</style>\n",
       "<table border=\"1\" class=\"dataframe\">\n",
       "  <thead>\n",
       "    <tr style=\"text-align: right;\">\n",
       "      <th></th>\n",
       "      <th>id</th>\n",
       "      <th>object_name</th>\n",
       "      <th>chain</th>\n",
       "      <th>object_type</th>\n",
       "      <th>address</th>\n",
       "      <th>number</th>\n",
       "      <th>street</th>\n",
       "    </tr>\n",
       "  </thead>\n",
       "  <tbody>\n",
       "    <tr>\n",
       "      <td>151</td>\n",
       "      <td>155973</td>\n",
       "      <td>андерсон</td>\n",
       "      <td>True</td>\n",
       "      <td>кафе</td>\n",
       "      <td>город Москва, Варшавское шоссе, дом 2</td>\n",
       "      <td>150</td>\n",
       "      <td>Варшавское шоссе</td>\n",
       "    </tr>\n",
       "    <tr>\n",
       "      <td>152</td>\n",
       "      <td>23618</td>\n",
       "      <td>subway</td>\n",
       "      <td>True</td>\n",
       "      <td>кафе</td>\n",
       "      <td>город Москва, Варшавское шоссе, дом 7, корпус 1</td>\n",
       "      <td>36</td>\n",
       "      <td>Варшавское шоссе</td>\n",
       "    </tr>\n",
       "    <tr>\n",
       "      <td>153</td>\n",
       "      <td>155852</td>\n",
       "      <td>ламаджо</td>\n",
       "      <td>False</td>\n",
       "      <td>кафе</td>\n",
       "      <td>город Москва, Варшавское шоссе, дом 29</td>\n",
       "      <td>30</td>\n",
       "      <td>Варшавское шоссе</td>\n",
       "    </tr>\n",
       "    <tr>\n",
       "      <td>154</td>\n",
       "      <td>152556</td>\n",
       "      <td>шаурма в пите</td>\n",
       "      <td>False</td>\n",
       "      <td>фастфуд</td>\n",
       "      <td>город Москва, Варшавское шоссе, дом 72, корпус 2</td>\n",
       "      <td>0</td>\n",
       "      <td>Варшавское шоссе</td>\n",
       "    </tr>\n",
       "    <tr>\n",
       "      <td>155</td>\n",
       "      <td>120658</td>\n",
       "      <td>выпечка</td>\n",
       "      <td>False</td>\n",
       "      <td>кафетерий</td>\n",
       "      <td>город Москва, Варшавское шоссе, дом 100</td>\n",
       "      <td>2</td>\n",
       "      <td>Варшавское шоссе</td>\n",
       "    </tr>\n",
       "    <tr>\n",
       "      <td>156</td>\n",
       "      <td>26279</td>\n",
       "      <td>макдоналдс</td>\n",
       "      <td>True</td>\n",
       "      <td>кафе</td>\n",
       "      <td>город Москва, Варшавское шоссе, дом 143А</td>\n",
       "      <td>70</td>\n",
       "      <td>Варшавское шоссе</td>\n",
       "    </tr>\n",
       "    <tr>\n",
       "      <td>165</td>\n",
       "      <td>141687</td>\n",
       "      <td>пироговая рогова</td>\n",
       "      <td>False</td>\n",
       "      <td>кафе</td>\n",
       "      <td>город Москва, проспект Вернадского, дом 9/10</td>\n",
       "      <td>42</td>\n",
       "      <td>проспект Вернадского</td>\n",
       "    </tr>\n",
       "    <tr>\n",
       "      <td>166</td>\n",
       "      <td>148853</td>\n",
       "      <td>контдитерская кузина</td>\n",
       "      <td>False</td>\n",
       "      <td>кафе</td>\n",
       "      <td>город Москва, проспект Вернадского, дом 11/19</td>\n",
       "      <td>5</td>\n",
       "      <td>проспект Вернадского</td>\n",
       "    </tr>\n",
       "    <tr>\n",
       "      <td>167</td>\n",
       "      <td>149149</td>\n",
       "      <td>суши wok</td>\n",
       "      <td>True</td>\n",
       "      <td>кафе</td>\n",
       "      <td>город Москва, проспект Вернадского, дом 11/19</td>\n",
       "      <td>8</td>\n",
       "      <td>проспект Вернадского</td>\n",
       "    </tr>\n",
       "    <tr>\n",
       "      <td>168</td>\n",
       "      <td>128511</td>\n",
       "      <td>аморе</td>\n",
       "      <td>False</td>\n",
       "      <td>кафе</td>\n",
       "      <td>город Москва, проспект Вернадского, дом 11/19</td>\n",
       "      <td>10</td>\n",
       "      <td>проспект Вернадского</td>\n",
       "    </tr>\n",
       "  </tbody>\n",
       "</table>\n",
       "</div>"
      ],
      "text/plain": [
       "         id           object_name  chain object_type  \\\n",
       "151  155973  андерсон              True   кафе         \n",
       "152  23618   subway                True   кафе         \n",
       "153  155852  ламаджо               False  кафе         \n",
       "154  152556  шаурма в пите         False  фастфуд      \n",
       "155  120658  выпечка               False  кафетерий    \n",
       "156  26279   макдоналдс            True   кафе         \n",
       "165  141687  пироговая рогова      False  кафе         \n",
       "166  148853  контдитерская кузина  False  кафе         \n",
       "167  149149  суши wok              True   кафе         \n",
       "168  128511  аморе                 False  кафе         \n",
       "\n",
       "                                              address  number  \\\n",
       "151  город Москва, Варшавское шоссе, дом 2             150      \n",
       "152  город Москва, Варшавское шоссе, дом 7, корпус 1   36       \n",
       "153  город Москва, Варшавское шоссе, дом 29            30       \n",
       "154  город Москва, Варшавское шоссе, дом 72, корпус 2  0        \n",
       "155  город Москва, Варшавское шоссе, дом 100           2        \n",
       "156  город Москва, Варшавское шоссе, дом 143А          70       \n",
       "165  город Москва, проспект Вернадского, дом 9/10      42       \n",
       "166  город Москва, проспект Вернадского, дом 11/19     5        \n",
       "167  город Москва, проспект Вернадского, дом 11/19     8        \n",
       "168  город Москва, проспект Вернадского, дом 11/19     10       \n",
       "\n",
       "                   street  \n",
       "151  Варшавское шоссе      \n",
       "152  Варшавское шоссе      \n",
       "153  Варшавское шоссе      \n",
       "154  Варшавское шоссе      \n",
       "155  Варшавское шоссе      \n",
       "156  Варшавское шоссе      \n",
       "165  проспект Вернадского  \n",
       "166  проспект Вернадского  \n",
       "167  проспект Вернадского  \n",
       "168  проспект Вернадского  "
      ]
     },
     "execution_count": 55,
     "metadata": {},
     "output_type": "execute_result"
    }
   ],
   "source": [
    "crowded_street_rests = df_msk.query('street in @top_10_streets')\n",
    "crowded_street_rests.head(10)"
   ]
  },
  {
   "cell_type": "code",
   "execution_count": 56,
   "metadata": {},
   "outputs": [
    {
     "data": {
      "image/png": "[encoded data removed]",
      "text/plain": [
       "<Figure size 432x288 with 1 Axes>"
      ]
     },
     "metadata": {},
     "output_type": "display_data"
    }
   ],
   "source": [
    "sns.set_style(\"whitegrid\")\n",
    "ax = sns.boxplot(y=crowded_street_rests[\"number\"])"
   ]
  },
  {
   "cell_type": "markdown",
   "metadata": {},
   "source": [
    "Уберем явные выбросы, оставим только заведения до 400 посадочных мест"
   ]
  },
  {
   "cell_type": "code",
   "execution_count": 57,
   "metadata": {},
   "outputs": [],
   "source": [
    "crowded_street_rests = crowded_street_rests.query('number < 400')"
   ]
  },
  {
   "cell_type": "code",
   "execution_count": 58,
   "metadata": {},
   "outputs": [
    {
     "data": {
      "image/png": "[encoded data removed]",
      "text/plain": [
       "<Figure size 432x576 with 1 Axes>"
      ]
     },
     "metadata": {},
     "output_type": "display_data"
    }
   ],
   "source": [
    "sns.set_style(\"whitegrid\")\n",
    "plt.figure(figsize=(6,8))\n",
    "ax = sns.boxplot(y=crowded_street_rests[\"number\"])\n",
    "plt.title(\"Распределение количества посадочных мест по заведениям\")\n",
    "plt.ylabel('Количество посадочных мест')\n",
    "plt.show()"
   ]
  },
  {
   "cell_type": "code",
   "execution_count": 59,
   "metadata": {},
   "outputs": [
    {
     "data": {
      "text/plain": [
       "count    1463.00000\n",
       "mean     51.37799  \n",
       "std      57.52675  \n",
       "min      0.00000   \n",
       "25%      12.00000  \n",
       "50%      35.00000  \n",
       "75%      70.00000  \n",
       "max      380.00000 \n",
       "Name: number, dtype: float64"
      ]
     },
     "execution_count": 59,
     "metadata": {},
     "output_type": "execute_result"
    }
   ],
   "source": [
    "crowded_street_rests['number'].describe()"
   ]
  },
  {
   "cell_type": "markdown",
   "metadata": {},
   "source": [
    "Медианное значение количества посадочных мест - 35.\n",
    "В целом наиболее распространенный формат - от 12 до 70 посадочных мест."
   ]
  },
  {
   "cell_type": "code",
   "execution_count": 60,
   "metadata": {},
   "outputs": [
    {
     "data": {
      "image/png": "[encoded data removed]",
      "text/plain": [
       "<Figure size 1440x720 with 1 Axes>"
      ]
     },
     "metadata": {},
     "output_type": "display_data"
    }
   ],
   "source": [
    "sns.set_style(\"whitegrid\")\n",
    "plt.figure(figsize=(20,10))\n",
    "ax = sns.boxplot(data = crowded_street_rests,  y=\"number\", x = \"street\", hue = 'object_type', order = top_10_streets)\n",
    "plt.xticks(rotation=80)\n",
    "plt.title(\"Распределение количества посадочных мест в заведениях по улицам\")\n",
    "plt.ylabel('Количество посадочных мест')\n",
    "plt.xlabel('Улица')\n",
    "plt.show()"
   ]
  },
  {
   "cell_type": "markdown",
   "metadata": {},
   "source": [
    "Буфеты, закусочные, отделы кулинарии и кафетерии выглядят не очень перспективно: встречаются даже не на всех топовых улицах, а также количество мест в таких заведениях совсем небольшое. Посмотрим на распредение без этих видов заведений."
   ]
  },
  {
   "cell_type": "code",
   "execution_count": 61,
   "metadata": {},
   "outputs": [],
   "source": [
    "limit_rests= ['закусочная', 'буфет', 'магазин (отдел кулинарии)', 'кафетерий']\n",
    "crowded_street_rests_2 = crowded_street_rests.query('object_type not in @limit_rests')"
   ]
  },
  {
   "cell_type": "code",
   "execution_count": 62,
   "metadata": {},
   "outputs": [
    {
     "data": {
      "image/png": "[encoded data removed]",
      "text/plain": [
       "<Figure size 1440x720 with 1 Axes>"
      ]
     },
     "metadata": {},
     "output_type": "display_data"
    }
   ],
   "source": [
    "sns.set_style(\"whitegrid\")\n",
    "plt.figure(figsize=(20,10))\n",
    "ax = sns.boxplot(data = crowded_street_rests_2,  y=\"number\", x = \"street\", hue = 'object_type', order = top_10_streets )\n",
    "plt.xticks(rotation=80)\n",
    "plt.title(\"Распределение количества посадочных мест в заведениях по улицам\")\n",
    "plt.ylabel('Количество посадочных мест')\n",
    "plt.xlabel('Улица')\n",
    "plt.legend(title=\"Вид заведения\")\n",
    "plt.show()"
   ]
  },
  {
   "cell_type": "code",
   "execution_count": 63,
   "metadata": {},
   "outputs": [
    {
     "data": {
      "image/png": "[encoded data removed]",
      "text/plain": [
       "<Figure size 1440x720 with 1 Axes>"
      ]
     },
     "metadata": {},
     "output_type": "display_data"
    }
   ],
   "source": [
    "sns.set_style(\"whitegrid\")\n",
    "plt.figure(figsize=(20,10))\n",
    "ax = sns.stripplot(data = crowded_street_rests_2,  y=\"street\", x = \"number\", hue = 'object_type' )\n",
    "plt.title(\"Распределение количества посадочных мест в заведениях по улицам\")\n",
    "plt.ylabel('Количество посадочных мест')\n",
    "plt.xlabel('Улица')\n",
    "plt.legend(title=\"Вид заведения\")\n",
    "plt.show()"
   ]
  },
  {
   "cell_type": "markdown",
   "metadata": {},
   "source": [
    "По количеству посадочных мест доминирую столовые и рестораны. У этих двух видов заведений сопоставимое количество мест, разве что на Кировоградской столовые особенно вместительны. В основном в них около 80 мест.\n",
    "В кафе и барах обычно 30-40 мест. В предприятиях быстрого обслуживания - около 10.\n",
    "Также можно отметить, что на Пресненской набережной заведения зачастую меньше, чем на крупных магистралях."
   ]
  },
  {
   "cell_type": "code",
   "execution_count": 64,
   "metadata": {},
   "outputs": [
    {
     "data": {
      "image/png": "[encoded data removed]",
      "text/plain": [
       "<Figure size 864x720 with 1 Axes>"
      ]
     },
     "metadata": {},
     "output_type": "display_data"
    }
   ],
   "source": [
    "sns.set_style(\"whitegrid\")\n",
    "plt.figure(figsize=(12,10))\n",
    "sns.scatterplot(data = crowded_street_rests_2, x = 'number', y = 'street', hue = 'object_type')\n",
    "plt.title(\"Распределение количества посадочных мест в заведениях по типам\")\n",
    "plt.ylabel('Количество посадочных мест')\n",
    "plt.xlabel('Вид заведения')\n",
    "plt.show()"
   ]
  },
  {
   "cell_type": "markdown",
   "metadata": {},
   "source": [
    "## Шаг №3. Выводы и подготовка презентации"
   ]
  },
  {
   "cell_type": "markdown",
   "metadata": {},
   "source": [
    "Кафе является самым востребованным видом заведения - кафе составляют почти 40% от всех заведений.\n",
    "В среднем больше всего посадочных мест в столовых (130), за ними следуют рестораны с 97 местами. В буфетах в среднем по 51 месту. В барах и ресторанах приблизительно по 40 мест.\n",
    "\n",
    "В Москве преобладают несетевые заведения, таких 80%. Сетевые заведения чаще встречаются среди предприятий быстрого обслуживания (около 40%). Среди ресторанов и кафе около 23% являются сетевыми.\n",
    "\n",
    "Топ 10 улиц по количеству заведений:\n",
    "\n",
    "проспект Мира 204\n",
    "Профсоюзная улица 183\n",
    "Ленинградский проспект 172\n",
    "Пресненская набережная 167\n",
    "Варшавское шоссе 155\n",
    "Ленинский проспект 147\n",
    "проспект Вернадского 131\n",
    "Кутузовский проспект 114\n",
    "Каширское шоссе 103\n",
    "Кировоградская улица 102\n",
    "Улицы из топ-10 проходят 37 районов Москвы\n",
    "\n",
    "Можно выделить Пресненский район: в нем находится одна из наиболее популярных улиц (Пресненская набережная), а также в целом сосредоточено большое количество улиц с заведениями. Другие районы с большим количеством улиц, на которых расположены заведения: Тверской район, Пресненский район, Таганский район, Басманный район.\n",
    "\n",
    "В Москве также есть 689 улиц с одним заведением. Такие улицы встречаются в 101-м районе Москвы. Таганский район, район Хамовники и Басманный район лидируют по количеству улиц с одним заведением.\n",
    "\n",
    "На улицах с наибольшим количеством заведений по количеству посадочных мест доминирую столовые и рестораны. У этих двух видов заведений сопоставимое количество мест, разве что на Кировоградской столовые особенно вместительны. В основном в них около 80 мест. В кафе и барах обычно 30-40 мест. В предприятиях быстрого обслуживания - около 10."
   ]
  },
  {
   "cell_type": "markdown",
   "metadata": {},
   "source": [
    "**Рекомендации по открытию нового заведения:** На основе проведённого анализа мои рекомендации по открытию нового заведения:\n",
    " - Во-первых, это должно быть кафе. Это самый популярный и востребованный тип заведения;\n",
    " - Во-вторых, район размещения - Пресненский. Элитный район в центре Москвы с хорошоразвитой инфраструктурой. Имеет большое количество музеев, театров, парков и зон отдыха. Это обеспечит хороший трафик;\n",
    " - В-третьих, с учетом типа заведения и района размещения, моя рекомендация по количеству мест - 30-40;\n",
    " - В-четвёртых, возможен ли сетевой формат? Для кафе сетевой формат не предусмотрен, но не исключен. Создание сети возможно в перспективе "
   ]
  },
  {
   "cell_type": "markdown",
   "metadata": {},
   "source": [
    "**Презентация:**\n",
    "https://disk.yandex.ru/d/epgO3vBrH68Qyg"
   ]
  }
 ],
 "metadata": {
  "ExecuteTimeLog": [
   {
    "duration": 128,
    "start_time": "2021-12-25T20:12:36.161Z"
   },
   {
    "duration": 1933,
    "start_time": "2021-12-27T20:42:19.490Z"
   },
   {
    "duration": 85,
    "start_time": "2021-12-27T20:42:35.637Z"
   },
   {
    "duration": 13,
    "start_time": "2021-12-27T20:42:57.506Z"
   },
   {
    "duration": 61,
    "start_time": "2021-12-27T20:53:25.201Z"
   },
   {
    "duration": 29,
    "start_time": "2021-12-27T20:53:50.357Z"
   },
   {
    "duration": 26,
    "start_time": "2021-12-27T20:53:59.744Z"
   },
   {
    "duration": 36,
    "start_time": "2021-12-27T20:57:59.176Z"
   },
   {
    "duration": 12,
    "start_time": "2021-12-27T20:58:57.674Z"
   },
   {
    "duration": 21,
    "start_time": "2021-12-27T20:59:08.258Z"
   },
   {
    "duration": 8,
    "start_time": "2021-12-27T20:59:22.198Z"
   },
   {
    "duration": 15,
    "start_time": "2021-12-27T20:59:29.499Z"
   },
   {
    "duration": 21,
    "start_time": "2021-12-27T20:59:34.676Z"
   },
   {
    "duration": 23,
    "start_time": "2021-12-27T20:59:37.939Z"
   },
   {
    "duration": 7,
    "start_time": "2021-12-27T21:00:10.379Z"
   },
   {
    "duration": 30,
    "start_time": "2021-12-27T21:00:49.330Z"
   },
   {
    "duration": 21,
    "start_time": "2021-12-27T21:02:41.548Z"
   },
   {
    "duration": 1569,
    "start_time": "2021-12-27T21:04:02.712Z"
   },
   {
    "duration": 522,
    "start_time": "2021-12-27T21:05:10.461Z"
   },
   {
    "duration": 321,
    "start_time": "2021-12-27T21:05:37.168Z"
   },
   {
    "duration": 1022,
    "start_time": "2021-12-27T21:05:53.788Z"
   },
   {
    "duration": 2048,
    "start_time": "2021-12-27T21:06:06.453Z"
   },
   {
    "duration": 76,
    "start_time": "2021-12-27T21:06:08.503Z"
   },
   {
    "duration": 12,
    "start_time": "2021-12-27T21:06:08.582Z"
   },
   {
    "duration": 42,
    "start_time": "2021-12-27T21:06:08.597Z"
   },
   {
    "duration": 20,
    "start_time": "2021-12-27T21:06:08.664Z"
   },
   {
    "duration": 24,
    "start_time": "2021-12-27T21:06:08.687Z"
   },
   {
    "duration": 10,
    "start_time": "2021-12-27T21:06:08.714Z"
   },
   {
    "duration": 22,
    "start_time": "2021-12-27T21:06:08.763Z"
   },
   {
    "duration": 9,
    "start_time": "2021-12-27T21:06:08.787Z"
   },
   {
    "duration": 9,
    "start_time": "2021-12-27T21:06:08.799Z"
   },
   {
    "duration": 71,
    "start_time": "2021-12-27T21:06:08.811Z"
   },
   {
    "duration": 22,
    "start_time": "2021-12-27T21:06:08.885Z"
   },
   {
    "duration": 208,
    "start_time": "2022-01-05T12:59:58.148Z"
   },
   {
    "duration": 1402,
    "start_time": "2022-01-05T13:00:04.128Z"
   },
   {
    "duration": 58,
    "start_time": "2022-01-05T13:00:05.532Z"
   },
   {
    "duration": 11,
    "start_time": "2022-01-05T13:00:05.604Z"
   },
   {
    "duration": 57,
    "start_time": "2022-01-05T13:00:05.617Z"
   },
   {
    "duration": 14,
    "start_time": "2022-01-05T13:00:05.676Z"
   },
   {
    "duration": 39,
    "start_time": "2022-01-05T13:00:05.694Z"
   },
   {
    "duration": 28,
    "start_time": "2022-01-05T13:00:05.736Z"
   },
   {
    "duration": 48,
    "start_time": "2022-01-05T13:00:05.766Z"
   },
   {
    "duration": 8,
    "start_time": "2022-01-05T13:00:05.816Z"
   },
   {
    "duration": 26,
    "start_time": "2022-01-05T13:00:05.826Z"
   },
   {
    "duration": 51,
    "start_time": "2022-01-05T13:00:05.854Z"
   },
   {
    "duration": 13,
    "start_time": "2022-01-05T13:00:05.907Z"
   },
   {
    "duration": 1175,
    "start_time": "2022-01-05T13:00:05.921Z"
   },
   {
    "duration": 4,
    "start_time": "2022-01-05T13:04:59.133Z"
   },
   {
    "duration": 288,
    "start_time": "2022-01-05T13:05:17.891Z"
   },
   {
    "duration": 12,
    "start_time": "2022-01-05T13:06:13.523Z"
   },
   {
    "duration": 7,
    "start_time": "2022-01-05T13:06:25.798Z"
   },
   {
    "duration": 9,
    "start_time": "2022-01-05T13:06:35.722Z"
   },
   {
    "duration": 19,
    "start_time": "2022-01-05T13:06:47.176Z"
   },
   {
    "duration": 22,
    "start_time": "2022-01-05T13:07:00.357Z"
   },
   {
    "duration": 29,
    "start_time": "2022-01-05T13:07:15.860Z"
   },
   {
    "duration": 21,
    "start_time": "2022-01-05T13:07:29.000Z"
   },
   {
    "duration": 4,
    "start_time": "2022-01-05T13:07:52.649Z"
   },
   {
    "duration": 23,
    "start_time": "2022-01-05T13:08:04.630Z"
   },
   {
    "duration": 13,
    "start_time": "2022-01-05T13:09:11.505Z"
   },
   {
    "duration": 865,
    "start_time": "2022-01-05T14:07:20.297Z"
   },
   {
    "duration": 68,
    "start_time": "2022-01-05T14:07:21.167Z"
   },
   {
    "duration": 10,
    "start_time": "2022-01-05T14:07:21.237Z"
   },
   {
    "duration": 6,
    "start_time": "2022-01-05T14:07:21.249Z"
   },
   {
    "duration": 7,
    "start_time": "2022-01-05T14:07:21.257Z"
   },
   {
    "duration": 48,
    "start_time": "2022-01-05T14:07:21.266Z"
   },
   {
    "duration": 23,
    "start_time": "2022-01-05T14:07:21.316Z"
   },
   {
    "duration": 28,
    "start_time": "2022-01-05T14:07:21.342Z"
   },
   {
    "duration": 21,
    "start_time": "2022-01-05T14:07:21.392Z"
   },
   {
    "duration": 4,
    "start_time": "2022-01-05T14:07:21.415Z"
   },
   {
    "duration": 25,
    "start_time": "2022-01-05T14:07:21.421Z"
   },
   {
    "duration": 14,
    "start_time": "2022-01-05T14:07:21.448Z"
   },
   {
    "duration": 12,
    "start_time": "2022-01-05T17:50:20.893Z"
   },
   {
    "duration": 4,
    "start_time": "2022-01-05T17:50:30.055Z"
   },
   {
    "duration": 673,
    "start_time": "2022-01-05T17:50:40.931Z"
   },
   {
    "duration": 653,
    "start_time": "2022-01-05T17:51:01.714Z"
   },
   {
    "duration": 843,
    "start_time": "2022-01-05T17:53:49.120Z"
   },
   {
    "duration": 62,
    "start_time": "2022-01-05T17:53:49.965Z"
   },
   {
    "duration": 9,
    "start_time": "2022-01-05T17:53:50.029Z"
   },
   {
    "duration": 6,
    "start_time": "2022-01-05T17:53:50.040Z"
   },
   {
    "duration": 7,
    "start_time": "2022-01-05T17:53:50.048Z"
   },
   {
    "duration": 36,
    "start_time": "2022-01-05T17:53:50.057Z"
   },
   {
    "duration": 23,
    "start_time": "2022-01-05T17:53:50.095Z"
   },
   {
    "duration": 29,
    "start_time": "2022-01-05T17:53:50.120Z"
   },
   {
    "duration": 19,
    "start_time": "2022-01-05T17:53:50.151Z"
   },
   {
    "duration": 3,
    "start_time": "2022-01-05T17:53:50.192Z"
   },
   {
    "duration": 23,
    "start_time": "2022-01-05T17:53:50.196Z"
   },
   {
    "duration": 13,
    "start_time": "2022-01-05T17:53:50.221Z"
   },
   {
    "duration": 10,
    "start_time": "2022-01-05T17:53:50.236Z"
   },
   {
    "duration": 4,
    "start_time": "2022-01-05T17:53:50.248Z"
   },
   {
    "duration": 741,
    "start_time": "2022-01-05T17:53:50.254Z"
   },
   {
    "duration": 877,
    "start_time": "2022-01-05T17:53:50.997Z"
   },
   {
    "duration": 858,
    "start_time": "2022-01-05T17:55:25.002Z"
   },
   {
    "duration": 61,
    "start_time": "2022-01-05T17:55:25.862Z"
   },
   {
    "duration": 8,
    "start_time": "2022-01-05T17:55:25.925Z"
   },
   {
    "duration": 7,
    "start_time": "2022-01-05T17:55:25.935Z"
   },
   {
    "duration": 9,
    "start_time": "2022-01-05T17:55:25.944Z"
   },
   {
    "duration": 36,
    "start_time": "2022-01-05T17:55:25.955Z"
   },
   {
    "duration": 22,
    "start_time": "2022-01-05T17:55:25.993Z"
   },
   {
    "duration": 28,
    "start_time": "2022-01-05T17:55:26.018Z"
   },
   {
    "duration": 17,
    "start_time": "2022-01-05T17:55:26.048Z"
   },
   {
    "duration": 25,
    "start_time": "2022-01-05T17:55:26.067Z"
   },
   {
    "duration": 26,
    "start_time": "2022-01-05T17:55:26.094Z"
   },
   {
    "duration": 11,
    "start_time": "2022-01-05T17:55:26.121Z"
   },
   {
    "duration": 8,
    "start_time": "2022-01-05T17:55:26.134Z"
   },
   {
    "duration": 4,
    "start_time": "2022-01-05T17:55:26.143Z"
   },
   {
    "duration": 706,
    "start_time": "2022-01-05T17:55:26.148Z"
   },
   {
    "duration": 725,
    "start_time": "2022-01-05T17:55:26.856Z"
   },
   {
    "duration": 872,
    "start_time": "2022-01-05T17:56:11.122Z"
   },
   {
    "duration": 59,
    "start_time": "2022-01-05T17:56:11.996Z"
   },
   {
    "duration": 9,
    "start_time": "2022-01-05T17:56:12.057Z"
   },
   {
    "duration": 7,
    "start_time": "2022-01-05T17:56:12.068Z"
   },
   {
    "duration": 12,
    "start_time": "2022-01-05T17:56:12.092Z"
   },
   {
    "duration": 23,
    "start_time": "2022-01-05T17:56:12.105Z"
   },
   {
    "duration": 22,
    "start_time": "2022-01-05T17:56:12.130Z"
   },
   {
    "duration": 41,
    "start_time": "2022-01-05T17:56:12.155Z"
   },
   {
    "duration": 19,
    "start_time": "2022-01-05T17:56:12.197Z"
   },
   {
    "duration": 3,
    "start_time": "2022-01-05T17:56:12.217Z"
   },
   {
    "duration": 24,
    "start_time": "2022-01-05T17:56:12.222Z"
   },
   {
    "duration": 13,
    "start_time": "2022-01-05T17:56:12.248Z"
   },
   {
    "duration": 38,
    "start_time": "2022-01-05T17:56:12.262Z"
   },
   {
    "duration": 4,
    "start_time": "2022-01-05T17:56:12.301Z"
   },
   {
    "duration": 702,
    "start_time": "2022-01-05T17:56:12.307Z"
   },
   {
    "duration": 742,
    "start_time": "2022-01-05T17:56:13.011Z"
   },
   {
    "duration": 361,
    "start_time": "2022-01-05T17:56:31.388Z"
   },
   {
    "duration": 430,
    "start_time": "2022-01-05T21:25:42.243Z"
   },
   {
    "duration": 1079,
    "start_time": "2022-01-05T21:25:48.860Z"
   },
   {
    "duration": 52,
    "start_time": "2022-01-05T21:26:25.882Z"
   },
   {
    "duration": 13,
    "start_time": "2022-01-05T21:26:34.731Z"
   },
   {
    "duration": 14,
    "start_time": "2022-01-05T21:26:41.607Z"
   },
   {
    "duration": 11,
    "start_time": "2022-01-05T21:29:07.813Z"
   },
   {
    "duration": 14,
    "start_time": "2022-01-05T21:29:21.893Z"
   },
   {
    "duration": 326,
    "start_time": "2022-01-05T21:29:29.808Z"
   },
   {
    "duration": 1238,
    "start_time": "2022-01-05T21:29:41.728Z"
   },
   {
    "duration": 56,
    "start_time": "2022-01-05T21:29:42.968Z"
   },
   {
    "duration": 14,
    "start_time": "2022-01-05T21:29:43.026Z"
   },
   {
    "duration": 9,
    "start_time": "2022-01-05T21:29:43.041Z"
   },
   {
    "duration": 11,
    "start_time": "2022-01-05T21:29:43.052Z"
   },
   {
    "duration": 15,
    "start_time": "2022-01-05T21:29:43.093Z"
   },
   {
    "duration": 13,
    "start_time": "2022-01-05T21:29:59.189Z"
   },
   {
    "duration": 18,
    "start_time": "2022-01-05T21:30:22.950Z"
   },
   {
    "duration": 7,
    "start_time": "2022-01-05T21:30:33.306Z"
   },
   {
    "duration": 6,
    "start_time": "2022-01-05T21:32:18.082Z"
   },
   {
    "duration": 57,
    "start_time": "2022-01-05T21:32:29.787Z"
   },
   {
    "duration": 69,
    "start_time": "2022-01-05T21:32:37.038Z"
   },
   {
    "duration": 76,
    "start_time": "2022-01-05T21:32:49.337Z"
   },
   {
    "duration": 4,
    "start_time": "2022-01-05T21:33:04.636Z"
   },
   {
    "duration": 1579,
    "start_time": "2022-01-06T11:31:11.707Z"
   },
   {
    "duration": 58,
    "start_time": "2022-01-06T11:31:13.288Z"
   },
   {
    "duration": 20,
    "start_time": "2022-01-06T11:31:13.353Z"
   },
   {
    "duration": 31,
    "start_time": "2022-01-06T11:31:13.375Z"
   },
   {
    "duration": 29,
    "start_time": "2022-01-06T11:31:13.408Z"
   },
   {
    "duration": 16,
    "start_time": "2022-01-06T11:31:13.439Z"
   },
   {
    "duration": 19,
    "start_time": "2022-01-06T11:31:13.458Z"
   },
   {
    "duration": 46,
    "start_time": "2022-01-06T11:31:13.479Z"
   },
   {
    "duration": 6,
    "start_time": "2022-01-06T11:31:13.527Z"
   },
   {
    "duration": 11,
    "start_time": "2022-01-06T11:31:13.535Z"
   },
   {
    "duration": 5,
    "start_time": "2022-01-06T11:31:23.826Z"
   },
   {
    "duration": 57,
    "start_time": "2022-01-06T11:31:34.928Z"
   },
   {
    "duration": 14,
    "start_time": "2022-01-06T11:32:04.610Z"
   },
   {
    "duration": 12,
    "start_time": "2022-01-06T11:32:28.880Z"
   },
   {
    "duration": 6,
    "start_time": "2022-01-06T11:32:51.974Z"
   },
   {
    "duration": 16,
    "start_time": "2022-01-06T11:33:02.804Z"
   },
   {
    "duration": 6,
    "start_time": "2022-01-06T11:34:18.446Z"
   },
   {
    "duration": 21,
    "start_time": "2022-01-06T11:35:05.592Z"
   },
   {
    "duration": 19,
    "start_time": "2022-01-06T11:35:16.513Z"
   },
   {
    "duration": 20,
    "start_time": "2022-01-06T11:35:28.231Z"
   },
   {
    "duration": 5,
    "start_time": "2022-01-06T11:35:39.562Z"
   },
   {
    "duration": 10,
    "start_time": "2022-01-06T11:37:06.298Z"
   },
   {
    "duration": 16,
    "start_time": "2022-01-06T11:37:16.849Z"
   },
   {
    "duration": 18,
    "start_time": "2022-01-06T11:38:57.512Z"
   },
   {
    "duration": 545,
    "start_time": "2022-01-06T11:39:26.540Z"
   },
   {
    "duration": 5,
    "start_time": "2022-01-06T11:59:59.692Z"
   },
   {
    "duration": 5,
    "start_time": "2022-01-06T12:00:14.969Z"
   },
   {
    "duration": 6,
    "start_time": "2022-01-06T12:00:27.934Z"
   },
   {
    "duration": 111,
    "start_time": "2022-01-06T12:00:44.203Z"
   },
   {
    "duration": 378,
    "start_time": "2022-01-07T10:04:56.676Z"
   },
   {
    "duration": 1504,
    "start_time": "2022-01-07T10:05:03.685Z"
   },
   {
    "duration": 64,
    "start_time": "2022-01-07T10:05:05.191Z"
   },
   {
    "duration": 18,
    "start_time": "2022-01-07T10:05:05.261Z"
   },
   {
    "duration": 40,
    "start_time": "2022-01-07T10:05:05.282Z"
   },
   {
    "duration": 16,
    "start_time": "2022-01-07T10:05:05.326Z"
   },
   {
    "duration": 12,
    "start_time": "2022-01-07T10:05:05.344Z"
   },
   {
    "duration": 15,
    "start_time": "2022-01-07T10:05:05.358Z"
   },
   {
    "duration": 66,
    "start_time": "2022-01-07T10:05:05.378Z"
   },
   {
    "duration": 11,
    "start_time": "2022-01-07T10:05:05.448Z"
   },
   {
    "duration": 6,
    "start_time": "2022-01-07T10:05:05.462Z"
   },
   {
    "duration": 9,
    "start_time": "2022-01-07T10:05:05.471Z"
   },
   {
    "duration": 95,
    "start_time": "2022-01-07T10:05:05.483Z"
   },
   {
    "duration": 41,
    "start_time": "2022-01-07T10:05:05.581Z"
   },
   {
    "duration": 8,
    "start_time": "2022-01-07T10:05:05.627Z"
   },
   {
    "duration": 18,
    "start_time": "2022-01-07T10:05:05.638Z"
   },
   {
    "duration": 7,
    "start_time": "2022-01-07T10:05:05.658Z"
   },
   {
    "duration": 70,
    "start_time": "2022-01-07T10:05:05.668Z"
   },
   {
    "duration": 20,
    "start_time": "2022-01-07T10:05:05.741Z"
   },
   {
    "duration": 21,
    "start_time": "2022-01-07T10:05:05.763Z"
   },
   {
    "duration": 5,
    "start_time": "2022-01-07T10:05:05.787Z"
   },
   {
    "duration": 23,
    "start_time": "2022-01-07T10:05:05.817Z"
   },
   {
    "duration": 18,
    "start_time": "2022-01-07T10:05:05.844Z"
   },
   {
    "duration": 571,
    "start_time": "2022-01-07T10:05:05.865Z"
   },
   {
    "duration": 5,
    "start_time": "2022-01-07T10:05:06.439Z"
   },
   {
    "duration": 8,
    "start_time": "2022-01-07T10:05:06.447Z"
   },
   {
    "duration": 5,
    "start_time": "2022-01-07T10:05:06.460Z"
   },
   {
    "duration": 169,
    "start_time": "2022-01-07T10:05:06.467Z"
   },
   {
    "duration": 16,
    "start_time": "2022-01-07T10:05:06.638Z"
   },
   {
    "duration": 520,
    "start_time": "2022-01-07T10:05:37.192Z"
   },
   {
    "duration": 22,
    "start_time": "2022-01-07T10:07:56.377Z"
   },
   {
    "duration": 23,
    "start_time": "2022-01-07T10:08:18.743Z"
   },
   {
    "duration": 1735,
    "start_time": "2022-01-07T10:08:52.653Z"
   },
   {
    "duration": 23,
    "start_time": "2022-01-07T10:09:26.059Z"
   },
   {
    "duration": 16,
    "start_time": "2022-01-07T10:13:06.031Z"
   },
   {
    "duration": 682,
    "start_time": "2022-01-07T10:13:20.717Z"
   },
   {
    "duration": 8,
    "start_time": "2022-01-07T10:17:28.208Z"
   },
   {
    "duration": 38,
    "start_time": "2022-01-07T10:18:09.175Z"
   },
   {
    "duration": 45,
    "start_time": "2022-01-07T10:19:11.880Z"
   },
   {
    "duration": 5,
    "start_time": "2022-01-07T10:19:33.718Z"
   },
   {
    "duration": 20,
    "start_time": "2022-01-07T10:21:04.916Z"
   },
   {
    "duration": 645,
    "start_time": "2022-01-07T10:21:12.892Z"
   },
   {
    "duration": 1186,
    "start_time": "2022-01-07T10:21:50.915Z"
   },
   {
    "duration": 828,
    "start_time": "2022-01-07T10:22:10.573Z"
   },
   {
    "duration": 58,
    "start_time": "2022-01-07T10:24:03.335Z"
   },
   {
    "duration": 45,
    "start_time": "2022-01-07T10:24:23.624Z"
   },
   {
    "duration": 15,
    "start_time": "2022-01-07T10:25:58.911Z"
   },
   {
    "duration": 14,
    "start_time": "2022-01-07T10:26:08.751Z"
   },
   {
    "duration": 102,
    "start_time": "2022-01-07T10:26:42.340Z"
   },
   {
    "duration": 12,
    "start_time": "2022-01-07T10:26:49.022Z"
   },
   {
    "duration": 4,
    "start_time": "2022-01-07T10:27:53.864Z"
   },
   {
    "duration": 28,
    "start_time": "2022-01-07T10:27:59.686Z"
   },
   {
    "duration": 47,
    "start_time": "2022-01-07T10:29:03.661Z"
   },
   {
    "duration": 535,
    "start_time": "2022-01-07T10:29:11.921Z"
   },
   {
    "duration": 106,
    "start_time": "2022-01-07T10:35:56.776Z"
   },
   {
    "duration": 33,
    "start_time": "2022-01-07T10:36:16.689Z"
   },
   {
    "duration": 32,
    "start_time": "2022-01-07T10:36:27.043Z"
   },
   {
    "duration": 5,
    "start_time": "2022-01-07T10:36:41.564Z"
   },
   {
    "duration": 22,
    "start_time": "2022-01-07T10:37:16.293Z"
   },
   {
    "duration": 20,
    "start_time": "2022-01-07T10:37:30.776Z"
   },
   {
    "duration": 11,
    "start_time": "2022-01-07T10:37:46.772Z"
   },
   {
    "duration": 43,
    "start_time": "2022-01-07T10:39:00.711Z"
   },
   {
    "duration": 308,
    "start_time": "2022-01-07T10:39:12.480Z"
   },
   {
    "duration": 128,
    "start_time": "2022-01-07T10:39:40.031Z"
   },
   {
    "duration": 96,
    "start_time": "2022-01-07T10:39:48.561Z"
   },
   {
    "duration": 150,
    "start_time": "2022-01-07T10:40:07.556Z"
   },
   {
    "duration": 110,
    "start_time": "2022-01-07T10:40:23.192Z"
   },
   {
    "duration": 26,
    "start_time": "2022-01-07T10:40:34.843Z"
   },
   {
    "duration": 45,
    "start_time": "2022-01-07T10:40:58.160Z"
   },
   {
    "duration": 9,
    "start_time": "2022-01-07T10:42:06.569Z"
   },
   {
    "duration": 20,
    "start_time": "2022-01-07T10:43:58.398Z"
   },
   {
    "duration": 213,
    "start_time": "2022-01-07T10:44:08.174Z"
   },
   {
    "duration": 7,
    "start_time": "2022-01-07T10:44:35.933Z"
   },
   {
    "duration": 267,
    "start_time": "2022-01-07T10:44:44.139Z"
   },
   {
    "duration": 11,
    "start_time": "2022-01-07T10:44:54.543Z"
   },
   {
    "duration": 7,
    "start_time": "2022-01-07T10:45:33.067Z"
   },
   {
    "duration": 103,
    "start_time": "2022-01-07T10:46:08.320Z"
   },
   {
    "duration": 2818,
    "start_time": "2022-01-07T10:46:46.124Z"
   },
   {
    "duration": 10,
    "start_time": "2022-01-07T10:48:09.973Z"
   },
   {
    "duration": 2182,
    "start_time": "2022-01-07T10:48:19.228Z"
   },
   {
    "duration": 1159,
    "start_time": "2022-01-07T10:48:41.606Z"
   },
   {
    "duration": 925,
    "start_time": "2022-01-07T10:52:01.424Z"
   },
   {
    "duration": 1148,
    "start_time": "2022-01-07T15:36:03.143Z"
   },
   {
    "duration": 45,
    "start_time": "2022-01-07T15:36:04.293Z"
   },
   {
    "duration": 12,
    "start_time": "2022-01-07T15:36:04.340Z"
   },
   {
    "duration": 18,
    "start_time": "2022-01-07T15:36:04.353Z"
   },
   {
    "duration": 15,
    "start_time": "2022-01-07T15:36:04.372Z"
   },
   {
    "duration": 8,
    "start_time": "2022-01-07T15:36:04.389Z"
   },
   {
    "duration": 10,
    "start_time": "2022-01-07T15:36:04.399Z"
   },
   {
    "duration": 31,
    "start_time": "2022-01-07T15:36:04.411Z"
   },
   {
    "duration": 4,
    "start_time": "2022-01-07T15:36:04.443Z"
   },
   {
    "duration": 5,
    "start_time": "2022-01-07T15:36:04.449Z"
   },
   {
    "duration": 5,
    "start_time": "2022-01-07T15:36:04.455Z"
   },
   {
    "duration": 42,
    "start_time": "2022-01-07T15:36:04.461Z"
   },
   {
    "duration": 13,
    "start_time": "2022-01-07T15:36:04.505Z"
   },
   {
    "duration": 7,
    "start_time": "2022-01-07T15:36:04.519Z"
   },
   {
    "duration": 10,
    "start_time": "2022-01-07T15:36:04.541Z"
   },
   {
    "duration": 7,
    "start_time": "2022-01-07T15:36:04.552Z"
   },
   {
    "duration": 17,
    "start_time": "2022-01-07T15:36:04.560Z"
   },
   {
    "duration": 13,
    "start_time": "2022-01-07T15:36:04.578Z"
   },
   {
    "duration": 12,
    "start_time": "2022-01-07T15:36:04.592Z"
   },
   {
    "duration": 3,
    "start_time": "2022-01-07T15:36:04.606Z"
   },
   {
    "duration": 35,
    "start_time": "2022-01-07T15:36:04.610Z"
   },
   {
    "duration": 8,
    "start_time": "2022-01-07T15:36:04.649Z"
   },
   {
    "duration": 299,
    "start_time": "2022-01-07T15:36:04.659Z"
   },
   {
    "duration": 3,
    "start_time": "2022-01-07T15:36:04.959Z"
   },
   {
    "duration": 10,
    "start_time": "2022-01-07T15:36:04.964Z"
   },
   {
    "duration": 16,
    "start_time": "2022-01-07T15:36:04.976Z"
   },
   {
    "duration": 88,
    "start_time": "2022-01-07T15:36:04.994Z"
   },
   {
    "duration": 11,
    "start_time": "2022-01-07T15:36:05.083Z"
   },
   {
    "duration": 286,
    "start_time": "2022-01-07T15:36:05.095Z"
   },
   {
    "duration": 16,
    "start_time": "2022-01-07T15:36:05.383Z"
   },
   {
    "duration": 965,
    "start_time": "2022-01-07T15:36:05.400Z"
   },
   {
    "duration": 12,
    "start_time": "2022-01-07T15:36:06.367Z"
   },
   {
    "duration": 288,
    "start_time": "2022-01-07T15:36:06.381Z"
   },
   {
    "duration": 5,
    "start_time": "2022-01-07T15:36:06.670Z"
   },
   {
    "duration": 29,
    "start_time": "2022-01-07T15:36:06.676Z"
   },
   {
    "duration": 37,
    "start_time": "2022-01-07T15:36:06.706Z"
   },
   {
    "duration": 3,
    "start_time": "2022-01-07T15:36:06.744Z"
   },
   {
    "duration": 17,
    "start_time": "2022-01-07T15:36:06.749Z"
   },
   {
    "duration": 380,
    "start_time": "2022-01-07T15:36:06.768Z"
   },
   {
    "duration": 1216,
    "start_time": "2022-01-07T15:36:07.150Z"
   },
   {
    "duration": 35,
    "start_time": "2022-01-07T15:36:08.368Z"
   },
   {
    "duration": 22,
    "start_time": "2022-01-07T15:36:08.405Z"
   },
   {
    "duration": 21,
    "start_time": "2022-01-07T15:36:08.428Z"
   },
   {
    "duration": 24,
    "start_time": "2022-01-07T15:36:08.451Z"
   },
   {
    "duration": 17,
    "start_time": "2022-01-07T15:36:08.477Z"
   },
   {
    "duration": 30,
    "start_time": "2022-01-07T15:36:08.495Z"
   },
   {
    "duration": 31,
    "start_time": "2022-01-07T15:36:08.527Z"
   },
   {
    "duration": 292,
    "start_time": "2022-01-07T15:36:08.560Z"
   },
   {
    "duration": 22,
    "start_time": "2022-01-07T15:36:08.854Z"
   },
   {
    "duration": 7,
    "start_time": "2022-01-07T15:36:08.878Z"
   },
   {
    "duration": 29,
    "start_time": "2022-01-07T15:36:08.887Z"
   },
   {
    "duration": 11,
    "start_time": "2022-01-07T15:36:08.918Z"
   },
   {
    "duration": 46,
    "start_time": "2022-01-07T15:36:08.930Z"
   },
   {
    "duration": 7,
    "start_time": "2022-01-07T15:36:08.978Z"
   },
   {
    "duration": 22,
    "start_time": "2022-01-07T15:36:08.986Z"
   },
   {
    "duration": 127,
    "start_time": "2022-01-07T15:36:09.010Z"
   },
   {
    "duration": 6,
    "start_time": "2022-01-07T15:36:09.139Z"
   },
   {
    "duration": 172,
    "start_time": "2022-01-07T15:36:09.147Z"
   },
   {
    "duration": 7,
    "start_time": "2022-01-07T15:36:09.321Z"
   },
   {
    "duration": 1743,
    "start_time": "2022-01-07T15:36:09.341Z"
   },
   {
    "duration": 5,
    "start_time": "2022-01-07T15:36:11.085Z"
   },
   {
    "duration": 1166,
    "start_time": "2022-01-07T15:36:11.092Z"
   },
   {
    "duration": 750,
    "start_time": "2022-01-07T15:36:12.260Z"
   },
   {
    "duration": 634,
    "start_time": "2022-01-07T15:36:13.012Z"
   },
   {
    "duration": 1610,
    "start_time": "2022-01-08T09:23:22.391Z"
   },
   {
    "duration": 60,
    "start_time": "2022-01-08T09:23:24.004Z"
   },
   {
    "duration": 20,
    "start_time": "2022-01-08T09:23:24.067Z"
   },
   {
    "duration": 13,
    "start_time": "2022-01-08T09:23:24.090Z"
   },
   {
    "duration": 16,
    "start_time": "2022-01-08T09:23:24.106Z"
   },
   {
    "duration": 13,
    "start_time": "2022-01-08T09:23:24.160Z"
   },
   {
    "duration": 13,
    "start_time": "2022-01-08T09:23:24.175Z"
   },
   {
    "duration": 29,
    "start_time": "2022-01-08T09:23:24.192Z"
   },
   {
    "duration": 37,
    "start_time": "2022-01-08T09:23:24.224Z"
   },
   {
    "duration": 7,
    "start_time": "2022-01-08T09:23:24.263Z"
   },
   {
    "duration": 8,
    "start_time": "2022-01-08T09:23:24.272Z"
   },
   {
    "duration": 84,
    "start_time": "2022-01-08T09:23:24.282Z"
   },
   {
    "duration": 15,
    "start_time": "2022-01-08T09:23:24.368Z"
   },
   {
    "duration": 6,
    "start_time": "2022-01-08T09:23:24.385Z"
   },
   {
    "duration": 19,
    "start_time": "2022-01-08T09:23:24.393Z"
   },
   {
    "duration": 6,
    "start_time": "2022-01-08T09:23:24.414Z"
   },
   {
    "duration": 56,
    "start_time": "2022-01-08T09:23:24.422Z"
   },
   {
    "duration": 16,
    "start_time": "2022-01-08T09:23:24.480Z"
   },
   {
    "duration": 17,
    "start_time": "2022-01-08T09:23:24.499Z"
   },
   {
    "duration": 4,
    "start_time": "2022-01-08T09:23:24.518Z"
   },
   {
    "duration": 13,
    "start_time": "2022-01-08T09:23:24.559Z"
   },
   {
    "duration": 17,
    "start_time": "2022-01-08T09:23:24.575Z"
   },
   {
    "duration": 505,
    "start_time": "2022-01-08T09:23:24.597Z"
   },
   {
    "duration": 6,
    "start_time": "2022-01-08T09:23:25.105Z"
   },
   {
    "duration": 8,
    "start_time": "2022-01-08T09:23:25.113Z"
   },
   {
    "duration": 36,
    "start_time": "2022-01-08T09:23:25.123Z"
   },
   {
    "duration": 116,
    "start_time": "2022-01-08T09:23:25.162Z"
   },
   {
    "duration": 15,
    "start_time": "2022-01-08T09:23:25.281Z"
   },
   {
    "duration": 516,
    "start_time": "2022-01-08T09:23:25.299Z"
   },
   {
    "duration": 42,
    "start_time": "2022-01-08T09:23:25.817Z"
   },
   {
    "duration": 1871,
    "start_time": "2022-01-08T09:23:25.862Z"
   },
   {
    "duration": 31,
    "start_time": "2022-01-08T09:23:27.735Z"
   },
   {
    "duration": 492,
    "start_time": "2022-01-08T09:23:27.770Z"
   },
   {
    "duration": 7,
    "start_time": "2022-01-08T09:23:28.264Z"
   },
   {
    "duration": 49,
    "start_time": "2022-01-08T09:23:28.273Z"
   },
   {
    "duration": 60,
    "start_time": "2022-01-08T09:23:28.325Z"
   },
   {
    "duration": 5,
    "start_time": "2022-01-08T09:23:28.388Z"
   },
   {
    "duration": 26,
    "start_time": "2022-01-08T09:23:28.396Z"
   },
   {
    "duration": 559,
    "start_time": "2022-01-08T09:23:28.424Z"
   },
   {
    "duration": 1440,
    "start_time": "2022-01-08T09:23:28.985Z"
   },
   {
    "duration": 81,
    "start_time": "2022-01-08T09:23:30.428Z"
   },
   {
    "duration": 31,
    "start_time": "2022-01-08T09:23:30.513Z"
   },
   {
    "duration": 14,
    "start_time": "2022-01-08T09:23:30.559Z"
   },
   {
    "duration": 28,
    "start_time": "2022-01-08T09:23:30.576Z"
   },
   {
    "duration": 25,
    "start_time": "2022-01-08T09:23:30.606Z"
   },
   {
    "duration": 40,
    "start_time": "2022-01-08T09:23:30.633Z"
   },
   {
    "duration": 50,
    "start_time": "2022-01-08T09:23:30.676Z"
   },
   {
    "duration": 579,
    "start_time": "2022-01-08T09:23:30.728Z"
   },
   {
    "duration": 33,
    "start_time": "2022-01-08T09:23:31.309Z"
   },
   {
    "duration": 6,
    "start_time": "2022-01-08T09:23:31.360Z"
   },
   {
    "duration": 22,
    "start_time": "2022-01-08T09:23:31.368Z"
   },
   {
    "duration": 10,
    "start_time": "2022-01-08T09:23:31.393Z"
   },
   {
    "duration": 88,
    "start_time": "2022-01-08T09:23:31.405Z"
   },
   {
    "duration": 10,
    "start_time": "2022-01-08T09:23:31.496Z"
   },
   {
    "duration": 30,
    "start_time": "2022-01-08T09:23:31.509Z"
   },
   {
    "duration": 251,
    "start_time": "2022-01-08T09:23:31.541Z"
   },
   {
    "duration": 7,
    "start_time": "2022-01-08T09:23:31.795Z"
   },
   {
    "duration": 294,
    "start_time": "2022-01-08T09:23:31.805Z"
   },
   {
    "duration": 11,
    "start_time": "2022-01-08T09:23:32.102Z"
   },
   {
    "duration": 2899,
    "start_time": "2022-01-08T09:23:32.116Z"
   },
   {
    "duration": 7,
    "start_time": "2022-01-08T09:23:35.018Z"
   },
   {
    "duration": 2076,
    "start_time": "2022-01-08T09:23:35.027Z"
   },
   {
    "duration": 1191,
    "start_time": "2022-01-08T09:23:37.105Z"
   },
   {
    "duration": 990,
    "start_time": "2022-01-08T09:23:38.298Z"
   },
   {
    "duration": 22,
    "start_time": "2022-01-08T10:23:25.590Z"
   },
   {
    "duration": 32,
    "start_time": "2022-01-08T10:23:34.552Z"
   },
   {
    "duration": 40,
    "start_time": "2022-01-08T10:23:56.108Z"
   },
   {
    "duration": 24,
    "start_time": "2022-01-08T10:24:46.201Z"
   },
   {
    "duration": 24,
    "start_time": "2022-01-08T10:25:02.631Z"
   },
   {
    "duration": 22,
    "start_time": "2022-01-08T10:26:18.338Z"
   }
  ],
  "kernelspec": {
   "display_name": "Python 3 (ipykernel)",
   "language": "python",
   "name": "python3"
  },
  "language_info": {
   "codemirror_mode": {
    "name": "ipython",
    "version": 3
   },
   "file_extension": ".py",
   "mimetype": "text/x-python",
   "name": "python",
   "nbconvert_exporter": "python",
   "pygments_lexer": "ipython3",
   "version": "3.9.5"
  },
  "toc": {
   "base_numbering": 1,
   "nav_menu": {},
   "number_sections": false,
   "sideBar": true,
   "skip_h1_title": true,
   "title_cell": "Table of Contents",
   "title_sidebar": "Contents",
   "toc_cell": false,
   "toc_position": {},
   "toc_section_display": true,
   "toc_window_display": false
  }
 },
 "nbformat": 4,
 "nbformat_minor": 2
}
